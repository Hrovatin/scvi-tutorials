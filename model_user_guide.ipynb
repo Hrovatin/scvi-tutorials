{
  "nbformat": 4,
  "nbformat_minor": 0,
  "metadata": {
    "colab": {
      "name": "model_user_guide.ipynb",
      "provenance": [],
      "collapsed_sections": [],
      "toc_visible": true
    },
    "kernelspec": {
      "display_name": "Python 3",
      "language": "python",
      "name": "python3"
    },
    "language_info": {
      "codemirror_mode": {
        "name": "ipython",
        "version": 3
      },
      "file_extension": ".py",
      "mimetype": "text/x-python",
      "name": "python",
      "nbconvert_exporter": "python",
      "pygments_lexer": "ipython3",
      "version": "3.8.3"
    }
  },
  "cells": [
    {
      "cell_type": "markdown",
      "metadata": {
        "id": "TZEUaYSjC6CZ"
      },
      "source": [
        "# Constructing a high-level model"
      ]
    },
    {
      "cell_type": "code",
      "metadata": {
        "id": "5uAmHirHtUwd"
      },
      "source": [
        "%%capture\n",
        "import sys\n",
        "IN_COLAB = \"google.colab\" in sys.modules\n",
        "if IN_COLAB:\n",
        "    !pip install --quiet scvi-tools"
      ],
      "execution_count": 1,
      "outputs": []
    },
    {
      "cell_type": "code",
      "metadata": {
        "id": "tcMSn-GSxAeC",
        "outputId": "831e06d8-1d75-4eeb-a095-74da9b8bf3d3",
        "colab": {
          "base_uri": "https://localhost:8080/"
        }
      },
      "source": [
        "import numpy as np\n",
        "import scvi\n",
        "import torch"
      ],
      "execution_count": 2,
      "outputs": [
        {
          "output_type": "stream",
          "name": "stderr",
          "text": [
            "Global seed set to 0\n",
            "/usr/local/lib/python3.7/dist-packages/numba/np/ufunc/parallel.py:363: NumbaWarning: \u001b[1mThe TBB threading layer requires TBB version 2019.5 or later i.e., TBB_INTERFACE_VERSION >= 11005. Found TBB_INTERFACE_VERSION = 9107. The TBB threading layer is disabled.\u001b[0m\n",
            "  warnings.warn(problem)\n"
          ]
        }
      ]
    },
    {
      "cell_type": "markdown",
      "metadata": {
        "id": "J7a98f8MiykA"
      },
      "source": [
        "At this point we have covered\n",
        "\n",
        "1. Data registration via `scvi.data.setup_anndata` and dataloaders via `AnnDataLoader`\n",
        "2. Building a probabilistic model by subclassing `BaseModuleClass`\n",
        "\n",
        "In this tutorial, we will cover the highest-level classes in `scvi-tools`: the model classes. The main purpose of these classes (e.g., `scvi.model.SCVI`) is to wrap the actions of module instantiation, training, and subsequent posterior queries of our module into a convenient interface. These model classes are the fundamental objects driving scientific analysis of data with `scvi-tools`. Out of convention, we will refer to these objects as \"models\" and the lower-level objects presented in the previous tutorial as \"modules\".\n",
        "\n",
        "## A simple model class\n",
        "Here we will walkthrough an example of building the `scvi.model.SCVI` class. We will progressively add functionality to the class.\n"
      ]
    },
    {
      "cell_type": "markdown",
      "metadata": {
        "id": "SUwavqvn0BBk"
      },
      "source": [
        "\n",
        "### Sketch of `BaseModelClass`\n",
        "\n",
        "Let us start by providing a high level overview of `BaseModelClass` that we will inherit. Note that this is pseudocode to provide intuition. We see that `BaseModelClass` contains some unverisally applicable methods, and some private methods (conventionally starting with `_` in Python) that will become useful after training the model."
      ]
    },
    {
      "cell_type": "markdown",
      "metadata": {
        "id": "3_rabB4JoGG3"
      },
      "source": [
        "```python\n",
        "class MyModel(UnsupervisedTrainingMixin, BaseModelClass)\n",
        "\n",
        "    def __init__(self, adata):\n",
        "        # sets some basic attributes like is_trained_\n",
        "        # record the setup_dict registered in the adata\n",
        "        self.adata = adata\n",
        "        self.scvi_setup_dict_ = adata.uns[\"_scvi\"]\n",
        "        self.summary_stats = self.scvi_setup_dict_[\"summary_stats\"]\n",
        "\n",
        "    def _validate_anndata(self, adata):\n",
        "        # check that anndata is equivalent by comparing\n",
        "        # to the initial setup_dict\n",
        "\n",
        "    def _make_dataloader(adata):\n",
        "        # return a dataloader to iterate over adata\n",
        "        \n",
        "    def train(...):\n",
        "        # Universal train method provided by UnsupservisedTrainingMixin\n",
        "        # BaseModelClass does not come with train\n",
        "        # In general train methods are straightforward to compose manually\n",
        "\n",
        "    def save(...):\n",
        "        # universal save method\n",
        "        # saves modules, anndata setup dict, and attributes ending with _\n",
        "\n",
        "    def load(...):\n",
        "        # universal load method\n",
        "\n",
        "    @staticmethod\n",
        "    def setup_anndata(adata, ...)\n",
        "        # anndata registration method\n",
        "```"
      ]
    },
    {
      "cell_type": "markdown",
      "metadata": {
        "id": "4vvYzZa_ukC4"
      },
      "source": [
        "### Baseline version of `SCVI` class\n",
        "\n",
        "Let's now create the simplest possible version of the `SCVI` class. We inherit the `BaseModelClass`, and write our `__init__` method.\n",
        "\n",
        "We take care to do the following:\n",
        "\n",
        "1. Set the `module` attribute to be equal to our `VAE` module, which here is the torch-level version of scVI.\n",
        "2. Add a `_model_summary_string` attr, which will be used as a representation for the model.\n",
        "3. Run `self.init_params_ = self._get_init_params(locals())`, which stores the arguments used to initialize the model, facilitating saving/loading of the model later.\n",
        "\n",
        "To initialize the `VAE`, we can use the information in `self.summary_stats`, which is information that was stored in the anndata object at `setup_anndata()` time. In this example, we have only exposed `n_latent` to users through `SCVI`. In practice, we try to expose only the most relevant parameters, as all other parameters can be accessed by passing `model_kwargs`.\n",
        "\n",
        "Finally, we write the `setup_anndata` static method, which is used to register the appropriate matrices inside the anndata that we will use to load data into the model. Here we use a private global method, but in the future releases we will have a more object-oriented approach for setup."
      ]
    },
    {
      "cell_type": "code",
      "metadata": {
        "id": "Q0zQzJD4jNoV"
      },
      "source": [
        "from typing import Optional\n",
        "\n",
        "from anndata import AnnData\n",
        "from scvi.module import VAE\n",
        "from scvi.model.base import BaseModelClass, UnsupervisedTrainingMixin\n",
        "from scvi.data._anndata import _setup_anndata\n",
        "\n",
        "class SCVI(UnsupervisedTrainingMixin, BaseModelClass):\n",
        "    \"\"\"\n",
        "    single-cell Variational Inference [Lopez18]_.\n",
        "    \"\"\"\n",
        "\n",
        "    def __init__(\n",
        "        self,\n",
        "        adata: AnnData,\n",
        "        n_latent: int = 10,\n",
        "        **model_kwargs,\n",
        "    ):\n",
        "        super(SCVI, self).__init__(adata)\n",
        "\n",
        "        self.module = VAE(\n",
        "            n_input=self.summary_stats[\"n_vars\"],\n",
        "            n_batch=self.summary_stats[\"n_batch\"],\n",
        "            n_latent=n_latent,\n",
        "            **model_kwargs,\n",
        "        )\n",
        "        self._model_summary_string = (\n",
        "            \"SCVI Model with the following params: \\nn_latent: {}\"\n",
        "        ).format(\n",
        "            n_latent,\n",
        "        )\n",
        "        self.init_params_ = self._get_init_params(locals())\n",
        "\n",
        "    @staticmethod\n",
        "    def setup_anndata(\n",
        "        adata: AnnData,\n",
        "        batch_key: Optional[str] = None,\n",
        "        layer: Optional[str] = None,\n",
        "        copy: bool = False,\n",
        "    ) -> Optional[AnnData]:\n",
        "\n",
        "        return _setup_anndata(\n",
        "            adata,\n",
        "            batch_key=batch_key,\n",
        "            layer=layer,\n",
        "            copy=copy,\n",
        "        )\n"
      ],
      "execution_count": 3,
      "outputs": []
    },
    {
      "cell_type": "markdown",
      "metadata": {
        "id": "-Qw-uCsuwhgO"
      },
      "source": [
        "Now we explore what we can and cannot do with this model. Let's get some data and initialize a `SCVI` instance. Of note, for testing purposes we like to use `scvi.data.synthetic_iid()` which returns a simple, small anndata object that was already run through `setup_anndata()`."
      ]
    },
    {
      "cell_type": "code",
      "metadata": {
        "colab": {
          "base_uri": "https://localhost:8080/"
        },
        "id": "Tw3DQF9IwftC",
        "outputId": "a5485318-6e8f-413f-cbde-43b0aab7fcba"
      },
      "source": [
        "adata = scvi.data.synthetic_iid(run_setup_anndata=False)\n",
        "adata"
      ],
      "execution_count": 7,
      "outputs": [
        {
          "output_type": "execute_result",
          "data": {
            "text/plain": [
              "AnnData object with n_obs × n_vars = 400 × 100\n",
              "    obs: 'batch', 'labels'\n",
              "    uns: 'protein_names'\n",
              "    obsm: 'protein_expression'"
            ]
          },
          "metadata": {},
          "execution_count": 7
        }
      ]
    },
    {
      "cell_type": "code",
      "metadata": {
        "colab": {
          "base_uri": "https://localhost:8080/",
          "height": 230
        },
        "id": "cAg0lsNpuCYG",
        "outputId": "553265a8-f2e9-4495-8fcb-513a8e724d7a"
      },
      "source": [
        "SCVI.setup_anndata(adata, batch_key=\"batch\")\n",
        "model = SCVI(adata)\n",
        "model"
      ],
      "execution_count": 8,
      "outputs": [
        {
          "output_type": "stream",
          "name": "stdout",
          "text": [
            "\u001b[34mINFO    \u001b[0m Using batches from adata.obs\u001b[1m[\u001b[0m\u001b[32m\"batch\"\u001b[0m\u001b[1m]\u001b[0m                                               \n",
            "\u001b[34mINFO    \u001b[0m No label_key inputted, assuming all cells have same label                           \n",
            "\u001b[34mINFO    \u001b[0m Using data from adata.X                                                             \n",
            "\u001b[34mINFO    \u001b[0m Successfully registered anndata object containing \u001b[1;36m400\u001b[0m cells, \u001b[1;36m100\u001b[0m vars, \u001b[1;36m2\u001b[0m batches, \u001b[1;36m1\u001b[0m \n",
            "         labels, and \u001b[1;36m0\u001b[0m proteins. Also registered \u001b[1;36m0\u001b[0m extra categorical covariates and \u001b[1;36m0\u001b[0m extra  \n",
            "         continuous covariates.                                                              \n",
            "\u001b[34mINFO    \u001b[0m Please do not further modify adata until model is trained.                          \n"
          ]
        },
        {
          "output_type": "display_data",
          "data": {
            "text/html": [
              "<pre style=\"white-space:pre;overflow-x:auto;line-height:normal;font-family:Menlo,'DejaVu Sans Mono',consolas,'Courier New',monospace\">SCVI Model with the following params: \n",
              "n_latent: <span style=\"color: #008080; text-decoration-color: #008080; font-weight: bold\">10</span>\n",
              "Training status: Not Trained\n",
              "</pre>\n"
            ],
            "text/plain": [
              "SCVI Model with the following params: \n",
              "n_latent: \u001b[1;36m10\u001b[0m\n",
              "Training status: Not Trained\n"
            ]
          },
          "metadata": {}
        },
        {
          "output_type": "display_data",
          "data": {
            "text/html": [
              "<pre style=\"white-space:pre;overflow-x:auto;line-height:normal;font-family:Menlo,'DejaVu Sans Mono',consolas,'Courier New',monospace\">\n",
              "\n",
              "To print summary of associated AnnData, use: <span style=\"color: #af00d7; text-decoration-color: #af00d7\">scvi.data.view_anndata_setup(model.adata)</span>\n",
              "</pre>\n"
            ],
            "text/plain": [
              "\n",
              "\n",
              "To print summary of associated AnnData, use: \u001b[38;5;128mscvi.data.view_anndata_setup(model.adata)\u001b[0m\n"
            ]
          },
          "metadata": {}
        },
        {
          "output_type": "execute_result",
          "data": {
            "text/plain": [
              ""
            ]
          },
          "metadata": {},
          "execution_count": 8
        }
      ]
    },
    {
      "cell_type": "code",
      "metadata": {
        "colab": {
          "base_uri": "https://localhost:8080/"
        },
        "id": "vOau9VkQxyIp",
        "outputId": "10865d7f-345b-46cb-9d15-0d15b3aafdb6"
      },
      "source": [
        "model.train(max_epochs=20)"
      ],
      "execution_count": 9,
      "outputs": [
        {
          "output_type": "stream",
          "name": "stderr",
          "text": [
            "GPU available: False, used: False\n",
            "TPU available: False, using: 0 TPU cores\n"
          ]
        },
        {
          "output_type": "stream",
          "name": "stdout",
          "text": [
            "Epoch 20/20: 100%|██████████| 20/20 [00:01<00:00, 15.45it/s, loss=304, v_num=1]\n"
          ]
        }
      ]
    },
    {
      "cell_type": "markdown",
      "metadata": {
        "id": "iG1AU4cI0Fe1"
      },
      "source": [
        "### The `train` method"
      ]
    },
    {
      "cell_type": "markdown",
      "metadata": {
        "id": "EDFKIKMdx-TO"
      },
      "source": [
        "We were able to train this model, as this method is inherited in the class. Let us now take a look at psedocode of the `train` method of `UnsupervisedTrainingMixin`. The function of each of these objects is described in the API reference.\n",
        "\n",
        "```python\n",
        "    def train(\n",
        "        self,\n",
        "        max_epochs: Optional[int] = 100,\n",
        "        use_gpu: Optional[bool] = None,\n",
        "        train_size: float = 0.9,\n",
        "        **kwargs,\n",
        "    ):\n",
        "        \"\"\"\n",
        "        Train the model.\n",
        "        \"\"\"\n",
        "        # object to make train/test/val dataloaders\n",
        "        data_splitter = DataSplitter(\n",
        "            self.adata,\n",
        "            train_size=train_size,\n",
        "            validation_size=validation_size,\n",
        "            batch_size=batch_size,\n",
        "            use_gpu=use_gpu,\n",
        "        )\n",
        "        # defines optimizers, training step, val step, logged metrics\n",
        "        training_plan = TrainingPlan(\n",
        "            self.module, len(data_splitter.train_idx),\n",
        "        )\n",
        "        # creates Trainer, pre and post training procedures (Trainer.fit())\n",
        "        runner = TrainRunner(\n",
        "            self,\n",
        "            training_plan=training_plan,\n",
        "            data_splitter=data_splitter,\n",
        "            max_epochs=max_epochs,\n",
        "            use_gpu=use_gpu,\n",
        "            **kwargs,\n",
        "        )\n",
        "        return runner()\n",
        "```"
      ]
    },
    {
      "cell_type": "markdown",
      "metadata": {
        "id": "9fT3-7MQ0S6G"
      },
      "source": [
        "We notice two new things:\n",
        "\n",
        "1. A training plan (`training_plan`)\n",
        "2. A train runner (`runner`)\n",
        "\n",
        "The `TrainRunner` is a lightweight wrapper of the PyTorch lightning's [`Trainer`](https://pytorch-lightning.readthedocs.io/en/stable/trainer.html#trainer-class-api), which is a completely black-box method once a `TrainingPlan` is defined. So what does the `TrainingPlan` do?\n",
        "\n",
        "1. Configures optimizers (e.g., Adam), learning rate schedulers.\n",
        "2. Defines the training step, which runs a minibatch of data through the model and records the loss.\n",
        "3. Defines the validation step, same as training step, but for validation data.\n",
        "4. Records relevant metrics, such as the ELBO.\n",
        "\n",
        "In `scvi-tools` we have `scvi.lightning.TrainingPlan`, which should cover many use cases, from VAEs and VI, to MLE and MAP estimation. Developers may find that they need a custom `TrainingPlan` for e.g,. multiple optimizers and complex training scheme. These can be written and used by the model class.\n",
        "\n",
        "Developers may also overwrite this train method to add custom functionality like Early Stopping (see TOTALVI's train method). In most cases the higher-level train method can call `super().train()`, which would be the `BaseModelClass` train method."
      ]
    },
    {
      "cell_type": "markdown",
      "metadata": {
        "id": "bEqgLc8c2-Gf"
      },
      "source": [
        "### Save and load"
      ]
    },
    {
      "cell_type": "markdown",
      "metadata": {
        "id": "-3aR7N5O3BKR"
      },
      "source": [
        "We can also save and load this model object, as it follows the expected structure."
      ]
    },
    {
      "cell_type": "code",
      "metadata": {
        "colab": {
          "base_uri": "https://localhost:8080/"
        },
        "id": "5kjJoYZ42_7h",
        "outputId": "c39de0f8-4e60-4974-d307-5e33676a9e37"
      },
      "source": [
        "model.save(\"saved_model/\", save_anndata=True)\n",
        "model = SCVI.load(\"saved_model/\")"
      ],
      "execution_count": 10,
      "outputs": [
        {
          "output_type": "stream",
          "name": "stdout",
          "text": [
            "\u001b[34mINFO    \u001b[0m Using data from adata.X                                                             \n",
            "\u001b[34mINFO    \u001b[0m Registered keys:\u001b[1m[\u001b[0m\u001b[32m'X'\u001b[0m, \u001b[32m'batch_indices'\u001b[0m, \u001b[32m'labels'\u001b[0m\u001b[1m]\u001b[0m                                    \n",
            "\u001b[34mINFO    \u001b[0m Successfully registered anndata object containing \u001b[1;36m400\u001b[0m cells, \u001b[1;36m100\u001b[0m vars, \u001b[1;36m2\u001b[0m batches, \u001b[1;36m1\u001b[0m \n",
            "         labels, and \u001b[1;36m0\u001b[0m proteins. Also registered \u001b[1;36m0\u001b[0m extra categorical covariates and \u001b[1;36m0\u001b[0m extra  \n",
            "         continuous covariates.                                                              \n"
          ]
        },
        {
          "output_type": "stream",
          "name": "stderr",
          "text": [
            "/usr/local/lib/python3.7/dist-packages/sklearn/utils/deprecation.py:87: FutureWarning: Function transfer_anndata_setup is deprecated; This method will be removed in 0.15.0. Please avoid building any new dependencies on it.\n",
            "  warnings.warn(msg, category=FutureWarning)\n"
          ]
        }
      ]
    },
    {
      "cell_type": "markdown",
      "metadata": {
        "id": "ZAGP3_R23TnF"
      },
      "source": [
        "## Writing methods to query the model"
      ]
    },
    {
      "cell_type": "markdown",
      "metadata": {
        "id": "QsTrpi2GCuRW"
      },
      "source": [
        "So we have a model that wraps a module that has been trained. How can we get information out of the module and present in cleanly to our users? Let's implement a simple example: getting the latent representation out of the VAE.\n",
        "\n",
        "This method has the following structure:\n",
        "\n",
        "1. Validate the user-supplied data\n",
        "2. Create a data loader\n",
        "3. Iterate over the data loader and feed into the VAE, getting the tensor of interest out of the VAE."
      ]
    },
    {
      "cell_type": "code",
      "metadata": {
        "id": "PehIGudfDXRr"
      },
      "source": [
        "from typing import Optional, Sequence\n",
        "\n",
        "@torch.no_grad()\n",
        "def get_latent_representation(\n",
        "    self,\n",
        "    adata: Optional[AnnData] = None,\n",
        "    indices: Optional[Sequence[int]] = None,\n",
        "    batch_size: Optional[int] = None,\n",
        ") -> np.ndarray:\n",
        "    r\"\"\"\n",
        "    Return the latent representation for each cell.\n",
        "\n",
        "    Parameters\n",
        "    ----------\n",
        "    adata\n",
        "        AnnData object with equivalent structure to initial AnnData. If `None`, defaults to the\n",
        "        AnnData object used to initialize the model.\n",
        "    indices\n",
        "        Indices of cells in adata to use. If `None`, all cells are used.\n",
        "    batch_size\n",
        "        Minibatch size for data loading into model. Defaults to `scvi.settings.batch_size`.\n",
        "\n",
        "    Returns\n",
        "    -------\n",
        "    latent_representation : np.ndarray\n",
        "        Low-dimensional representation for each cell\n",
        "    \"\"\"\n",
        "    if self.is_trained_ is False:\n",
        "        raise RuntimeError(\"Please train the model first.\")\n",
        "\n",
        "    adata = self._validate_anndata(adata)\n",
        "    dataloader = self._make_dataloader(adata=adata, indices=indices, batch_size=batch_size)\n",
        "    latent = []\n",
        "    for tensors in dataloader:\n",
        "        inference_inputs = self.module._get_inference_input(tensors)\n",
        "        outputs = self.module.inference(**inference_inputs)\n",
        "        qz_m = outputs[\"qz_m\"]\n",
        "\n",
        "        latent += [qz_m.cpu()]\n",
        "    return torch.cat(latent).numpy()"
      ],
      "execution_count": 11,
      "outputs": []
    },
    {
      "cell_type": "markdown",
      "metadata": {
        "id": "5hhvcl6zGGIV"
      },
      "source": [
        "<div class=\"alert alert-info\">\n",
        "\n",
        "Note\n",
        "\n",
        "Validating the anndata is critical to the user experience. If `None` is passed it just returns the anndata used to initialize the model, but if a different object is passed, it checks that this new object is equivalent in structure to the anndata passed to the model. We took great care in engineering this function so as to allow passing anndata objects with potentially missing categories (e.g., model was trained on batches `[\"A\", \"B\", \"C\"]`, but the passed anndata only has `[\"B\", \"C\"]`). These sorts of checks will ensure that your module will see data that it expects, and the user will get the results they expect without advanced data manipulations.\n",
        "</div>"
      ]
    },
    {
      "cell_type": "markdown",
      "metadata": {
        "id": "h4a-4Ssmu6qk"
      },
      "source": [
        "As a convention, we like to keep the module code as bare as possible and leave all posterior manipulation of module tensors to the model class methods. However, it would have been possible to write a `get_z` method in the module, and just have the model class that method."
      ]
    },
    {
      "cell_type": "markdown",
      "metadata": {
        "id": "wmsozWgrDObo"
      },
      "source": [
        "## Mixing in pre-coded features\n",
        "\n",
        "We have a number of Mixin classes that can add functionality to your model through inheritance. Here we demonstrate the [`VAEMixin`](https://www.scvi-tools.org/en/stable/api/reference/scvi.model.base.VAEMixin.html#scvi.model.base.VAEMixin) class.\n",
        "\n",
        "Let's try to get the latent representation from the object we already created."
      ]
    },
    {
      "cell_type": "code",
      "metadata": {
        "colab": {
          "base_uri": "https://localhost:8080/"
        },
        "id": "KntvOQekxq0K",
        "outputId": "f47f524e-9b42-413e-8a4f-b06067980539"
      },
      "source": [
        "try:\n",
        "    model.get_latent_representation()\n",
        "except AttributeError:\n",
        "    print(\"This function does not exist\")"
      ],
      "execution_count": 12,
      "outputs": [
        {
          "output_type": "stream",
          "name": "stdout",
          "text": [
            "This function does not exist\n"
          ]
        }
      ]
    },
    {
      "cell_type": "markdown",
      "metadata": {
        "id": "FPf4xHI_L-oI"
      },
      "source": [
        "This method becomes avaialble once the `VAEMixin` is inherited. Here's an overview of the mixin methods, which are coded generally enough that they should be broadly useful to those building VAEs."
      ]
    },
    {
      "cell_type": "markdown",
      "metadata": {
        "id": "QD3HWo2lLKSC"
      },
      "source": [
        "```python\n",
        "class VAEMixin:\n",
        "    @torch.no_grad()\n",
        "    def get_elbo(\n",
        "        self,\n",
        "        adata: Optional[AnnData] = None,\n",
        "        indices: Optional[Sequence[int]] = None,\n",
        "        batch_size: Optional[int] = None,\n",
        "    ) -> float:\n",
        "        pass\n",
        "\n",
        "    @torch.no_grad()\n",
        "    def get_marginal_ll(\n",
        "        self,\n",
        "        adata: Optional[AnnData] = None,\n",
        "        indices: Optional[Sequence[int]] = None,\n",
        "        n_mc_samples: int = 1000,\n",
        "        batch_size: Optional[int] = None,\n",
        "    ) -> float:\n",
        "        pass\n",
        "\n",
        "    @torch.no_grad()\n",
        "    def get_reconstruction_error(\n",
        "        self,\n",
        "        adata: Optional[AnnData] = None,\n",
        "        indices: Optional[Sequence[int]] = None,\n",
        "        batch_size: Optional[int] = None,\n",
        "    ) -> Union[float, Dict[str, float]]:\n",
        "        pass\n",
        "\n",
        "    @torch.no_grad()\n",
        "    def get_latent_representation(\n",
        "        self,\n",
        "        adata: Optional[AnnData] = None,\n",
        "        indices: Optional[Sequence[int]] = None,\n",
        "        give_mean: bool = True,\n",
        "        mc_samples: int = 5000,\n",
        "        batch_size: Optional[int] = None,\n",
        "    ) -> np.ndarray:\n",
        "        pass\n",
        "\n",
        "```"
      ]
    },
    {
      "cell_type": "markdown",
      "metadata": {
        "id": "nA2ES0nANQN8"
      },
      "source": [
        "Let's now inherit the mixin into our SCVI class."
      ]
    },
    {
      "cell_type": "code",
      "metadata": {
        "id": "Lu4Rb9nw2217"
      },
      "source": [
        "from scvi.model.base import VAEMixin, UnsupervisedTrainingMixin\n",
        "\n",
        "class SCVI(VAEMixin, UnsupervisedTrainingMixin, BaseModelClass):\n",
        "    \"\"\"\n",
        "    single-cell Variational Inference [Lopez18]_.\n",
        "    \"\"\"\n",
        "\n",
        "    def __init__(\n",
        "        self,\n",
        "        adata: AnnData,\n",
        "        n_latent: int = 10,\n",
        "        **model_kwargs,\n",
        "    ):\n",
        "        super(SCVI, self).__init__(adata)\n",
        "\n",
        "        self.module = VAE(\n",
        "            n_input=self.summary_stats[\"n_vars\"],\n",
        "            n_batch=self.summary_stats[\"n_batch\"],\n",
        "            n_latent=n_latent,\n",
        "            **model_kwargs,\n",
        "        )\n",
        "        self._model_summary_string = (\n",
        "            \"SCVI Model with the following params: \\nn_latent: {}\"\n",
        "        ).format(\n",
        "            n_latent,\n",
        "        )\n",
        "        self.init_params_ = self._get_init_params(locals())\n",
        "\n",
        "    @staticmethod\n",
        "    def setup_anndata(\n",
        "        adata: AnnData,\n",
        "        batch_key: Optional[str] = None,\n",
        "        layer: Optional[str] = None,\n",
        "        copy: bool = False,\n",
        "    ) -> Optional[AnnData]:\n",
        "\n",
        "        return _setup_anndata(\n",
        "            adata,\n",
        "            batch_key=batch_key,\n",
        "            layer=layer,\n",
        "            copy=copy,\n",
        "        )"
      ],
      "execution_count": 13,
      "outputs": []
    },
    {
      "cell_type": "code",
      "metadata": {
        "colab": {
          "base_uri": "https://localhost:8080/"
        },
        "id": "8erM-DwwNV9V",
        "outputId": "7ca877a6-2767-4873-df30-e422135e02d1"
      },
      "source": [
        "model = SCVI(adata)\n",
        "model.train(10)\n",
        "model.get_latent_representation()"
      ],
      "execution_count": 14,
      "outputs": [
        {
          "output_type": "stream",
          "name": "stderr",
          "text": [
            "GPU available: False, used: False\n",
            "TPU available: False, using: 0 TPU cores\n"
          ]
        },
        {
          "output_type": "stream",
          "name": "stdout",
          "text": [
            "Epoch 10/10: 100%|██████████| 10/10 [00:00<00:00, 17.86it/s, loss=312, v_num=1]\n"
          ]
        },
        {
          "output_type": "execute_result",
          "data": {
            "text/plain": [
              "array([[-0.08544915, -0.25176027, -0.01428087, ...,  0.16004656,\n",
              "         0.04322858,  0.6210681 ],\n",
              "       [-0.207152  , -0.6063088 , -0.1941325 , ..., -0.2693901 ,\n",
              "         0.47606018,  0.16438939],\n",
              "       [-1.2161467 , -0.37276846, -0.7683172 , ...,  0.00299879,\n",
              "        -0.17553166,  0.20497267],\n",
              "       ...,\n",
              "       [-0.25556734, -0.41497228, -0.56390095, ...,  0.10808641,\n",
              "         0.23799646,  0.1617701 ],\n",
              "       [-0.20167045,  0.10796846,  0.05922389, ...,  0.01984317,\n",
              "         0.00181232, -0.2722305 ],\n",
              "       [-0.89545447, -0.12291664, -1.0124316 , ...,  0.09532419,\n",
              "        -0.45145237, -0.02742232]], dtype=float32)"
            ]
          },
          "metadata": {},
          "execution_count": 14
        }
      ]
    },
    {
      "cell_type": "markdown",
      "metadata": {
        "id": "qWvfa7q9NggC"
      },
      "source": [
        "## Summary"
      ]
    },
    {
      "cell_type": "markdown",
      "metadata": {
        "id": "59_79HYQNjv_"
      },
      "source": [
        "We learned the structure of the high-level model classes in scvi-tools, and learned how a simple version of `SCVI` is implemented.\n",
        "\n",
        "Questions? Comments? Keep the discussion going on our [forum](https://discourse.scvi-tools.org/)"
      ]
    }
  ]
}