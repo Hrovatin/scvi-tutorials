{
 "cells": [
  {
   "attachments": {},
   "cell_type": "markdown",
   "id": "e5abf651",
   "metadata": {},
   "source": [
    "# Using scvi-hub to download pretrained scvi-tools models\n",
    "In this tutorial, we will learn about Hugging Face and the scvi-hub, and how you can use it to download pretrained scvi-tools\n",
    "models."
   ]
  },
  {
   "cell_type": "code",
   "execution_count": null,
   "id": "fc44fff9",
   "metadata": {},
   "outputs": [],
   "source": [
    "!pip install --quiet scvi-colab\n",
    "from scvi_colab import install\n",
    "install()\n",
    "\n",
    "import scanpy as sc\n",
    "sc.set_figure_params(figsize=(4, 4))\n",
    "\n",
    "# for white background of figures (only for docs rendering)\n",
    "%config InlineBackend.print_figure_kwargs={'facecolor' : \"w\"}\n",
    "%config InlineBackend.figure_format='retina'"
   ]
  },
  {
   "attachments": {},
   "cell_type": "markdown",
   "id": "14f43c53",
   "metadata": {},
   "source": [
    "# Overview"
   ]
  },
  {
   "attachments": {},
   "cell_type": "markdown",
   "id": "ae68f034",
   "metadata": {},
   "source": [
    "### What is Hugging Face 🤗?\n",
    "\n",
    "[Hugging Face](https://en.wikipedia.org/wiki/Hugging_Face) (HF for short) is a suite of tools for building ML-based applications.\n",
    "\n",
    "The Hugging Face Hub is a platform for sharing and using pretrained models, as well as other entities such as datasets and demo apps (called Spaces). The [Model Hub](https://huggingface.co/models) — the HF Hub for pretained models — includes models trained on a variety of tasks including but not limited to NLP, computer vision, audio, and many other domains. You can find more information about the HF Hub [here](https://huggingface.co/docs/hub/index) and about the HF Model Hub [here](https://huggingface.co/docs/hub/models-the-hub). \n",
    "\n",
    "Here are a few interesting characteristics of the HF Model Hub that make it ideal for model-sharing:\n",
    "- **Git-based**. The hub is built on top of Github. This means that you can use all the features of Github to manage your models. For example, you can use Github's pull requests to review changes before committing them. This also means that you can use Github's version control to track changes to your models.\n",
    "- **Community Tab**. Models feature a Community Tab that allows users to ask questions and report issues. This is a great way to get feedback on your models and to help others who are using your models.\n",
    "- **Model Cards**. All models have a uniform UI that makes it easy to find information about the model, without being overly prescriptive. This is realized in the form of a README.md file that serves as the Model Card. The Model Card is a great way to document your model and to provide information about how to use it. You can find more information about the Model Card [here](https://huggingface.co/docs/hub/model-cards).\n",
    "- **Discoverability**. You can tag models with a variety of tags to make it easier for users to find your model. For example, you can tag your model with the task it was trained on, the language it uses, the framework it was trained with, and more, including custom tags. These can then be used by users when searching for your model. You can also use the search bar to search for models by name.\n",
    "    <center><img src=\"https://raw.githubusercontent.com/scverse/scvi-tutorials/main/figures/hf_hub_tag_search.png?raw=true\" alt=\"HF Model Hub search by tags and name\" /></center>"
   ]
  },
  {
   "attachments": {},
   "cell_type": "markdown",
   "id": "fa652f82",
   "metadata": {},
   "source": [
    "### What is scvi-hub?\n",
    "\n",
    "The Hugging Face Hub comes with a a Python API (called Hub client library or [huggingface_hub](https://huggingface.co/docs/huggingface_hub/index)) that allows to programmatically interact with the Model Hub (and other HF Hubs, such as Datasets). We use this API within scvi-tools to streamline the process of uploading and downloading pretrained scvi-tools models to/from the HF Model Hub. This is essentially a submodule within scvi, namely, `scvi.hub`. Losely we refer to it as scvi-hub. A few ways in which scvi-hub is useful:\n",
    "- Enables HF upload/download operations directly from scvi-tools, so you don't have to learn how to use the `huggingface_hub` API\n",
    "- Lazily loads data and models into memory by deferring loading — and in some cases large data downloads — unless and until you need them\n",
    "- Provides helpers for creating Model Cards and Hub Models given only the directory where your pretrained model is stored. This way we'll pull out all the interesting info from the model/data objects and populate the Model Card with it so you don't have to.\n",
    "- Provides a common template for the Model Card that you're encouraged — but not required — to use. This makes most scvi-tools models look consistent on the HF Model Hub. However this is a convenience and not a requirement. You can always create your own Model Card. *scvi-tools does not take any dependency on the contents of the Model Card (including the tags). More on this later.*\n",
    "\n",
    "The second thing the term scvi-hub designates is the collection of pretrained scvi-tools models that are hosted on the HF Model Hub. Currently you can see all such models by clicking [here](https://huggingface.co/models?filter=scvi-tools). Soon, scvi-tools will be a first-class citizen library on the HF Model Hub, which means that you will be able to find all scvi-tools models by clicking on ths scvi-tools library button as shown below.\n",
    "\n",
    "<img src=\"https://raw.githubusercontent.com/scverse/scvi-tutorials/main/figures/scvi_tools_hf_library.png?raw=true\" alt=\"scvi-tools as a library on HF Model Hub\" />"
   ]
  },
  {
   "attachments": {},
   "cell_type": "markdown",
   "id": "8dbde9e5",
   "metadata": {},
   "source": [
    "### Anatomy of a pretrained scvi-tools model on the HF model hub\n",
    "\n",
    "Here is an example of a scvi-tools model pretrained on synthetic data. Below we highlight its different components.\n",
    "\n",
    "<img src=\"https://raw.githubusercontent.com/scverse/scvi-tutorials/main/figures/demo_hub_model_anatomy.png?raw=true\" alt=\"anatomy of an scvi-tools model on HF Model Hub\" />\n",
    "\n",
    "Most of our model tags and Model Card sections are self-explanatory. Nonetheless, below we provide a brief description for each of them.  \n",
    "\n",
    "Tags:\n",
    "- ***License***\n",
    "- ***Library name***. \"scvi-tools\" for all scvi-tools models.\n",
    "- ***Model class name***. The name of the scvi-tools model class that was used to train the model. For example, \"SCVI\" for a `scvi.model.SCVI` model.\n",
    "- ***scvi-tools version***. The version of scvi-tools that was used to train the model.\n",
    "- ***anndata version***. The version of anndata that was used when training the model.\n",
    "- ***Modalities***. The modalities that were used to train the model. For example, \"modality:rna\" for a model trained on RNA-seq data only.\n",
    "- ***Tissues***. The tissues present in the data that was used to train the model. For example, \"tissue:skin\".\n",
    "- ***Annotated***. Whether the data contains curated annotations (cell types).\n",
    "\n",
    "Model Card sections:\n",
    "- ***Description***. A brief description of the model.\n",
    "- ***Model init params***. The parameters that were used to initialize the model, i.e, passed into the model's `__init__` method.\n",
    "- ***Model setup_anndata args***. The parameters that were used to call this model's `setup_anndata` method.\n",
    "- ***Model summary stats***. A table containing summary statistics for the anndata object registered for this model.\n",
    "- ***Model data registry***. A table containing the data registry for the anndata object registered for this model.\n",
    "- ***Model parent module***. The name of the scvi-tools module that contains the model class. For example \"scvi.model\" for a `scvi.model.SCVI` model.\n",
    "- ***Data is latent***. Whether the data is latent or not.\n",
    "- ***Training data***. An optional url to where the training data is stored if it is too large to host on the Hugging Face Model hub. More on this in a future section.\n",
    "- ***Training code***. An optional url to a script describing how the model was trained.\n",
    "- ***References***"
   ]
  },
  {
   "attachments": {},
   "cell_type": "markdown",
   "id": "ac80797a",
   "metadata": {},
   "source": [
    "#### _scvi_required_metadata.json\n",
    "\n",
    "If you have been exploring the demo model, you  might have noticed a file under \"Files and versions\" named _scvi_required_metadata.json. As its name implies, this file contains metadata that is required for scvi-tools to be able to accomplish certain tasks such as loading your model. As we will see in the scvi-hub upload tutorial, we provide utilities to auto-generate this file, much like we do for the Model Card.\n",
    "\n",
    "You might notice that certain attributes in this file coincide with Model Card content/metadata. However, we chose to store these in a separate file (despite the minor duplication), so as to avoid building dependency on the Model Card. This way, you are free to have the Model Card content that you desire your users to see, all the while still being able to use scvi-tools to interact with your model.\n",
    "\n",
    "Two things are important to keep in mind with respect to the required metadata file:\n",
    "- For the most part you don't need to worry about this file. However, you should still know what is in it so that if you modify certain things, you update the metadata file accordingly. For instance, the metadata file currently includes the `training_data_url`. So if you change where the training data is stored, you should update this field or else scvi-tools will fail to load the model/data.\n",
    "- Other than cases such as the above, please do not tamper with this file nor remove it."
   ]
  },
  {
   "attachments": {},
   "cell_type": "markdown",
   "id": "4384da4c",
   "metadata": {},
   "source": [
    "### Glossary\n",
    "A vocabulary reference that you might find useful:\n",
    "- **Hugging Face/HF**: a suite of tools for building ML-based applications.\n",
    "- **HF Hub**: a platform for sharing/using ML-related products by the community, including pretrained models, datasets, and demo apps (called HF Spaces)\n",
    "- **HF Model Hub**: the HF Hub for pretained models\n",
    "- **HF Hub Model**: a pretrained model hosted on the HF Model Hub\n",
    "- **Repository**: a collection of files that are tracked by Git. You hear this in Github parlance, but it's also used with HF, because as we saw earlier each HF Model is essentially a Git repository. So sometimes, you'll hear people refer to a HF Hub Model as a repository or a Model repository.\n",
    "- **scvi-tools**: Y'all know and love it already 😊\n",
    "- **scvi-hub**:\n",
    "    - a submodule of scvi-tools (`scvi.hub`) that handles interaction with HF\n",
    "    - this term also refers to the collection of pretrained scvi-tools models hosted on the HF Model Hub"
   ]
  },
  {
   "attachments": {},
   "cell_type": "markdown",
   "id": "2a55df28",
   "metadata": {},
   "source": [
    "### Code overview\n",
    "\n",
    "Below we provide a brief overview of the main classes and functions that you will be interacting with. You can of course read more in our scvi-tools API docs [link to the hub section TODO after 1.0 release].\n",
    "- `scvi.hub.HubModel`. This class represents a pretrained scvi-tools model on the HF Model Hub. For example the demo-model we saw earlier would be abstracted as a HubModel. You will mainly use this class to:\n",
    "    - Push a new model to the HF Model Hub.\n",
    "    - Pull an existing model from the HF Model Hub.\n",
    "    - Load the pretrained model into memory. This is done by invoking the `HubModel.model` property which will automatically load the model into memory if it is not already loaded. This will also load the data; see below for what that does.\n",
    "    - Load the data that was used to train the model into memory. This is done by invoking the `HubModel.adata` property which will automatically load the data into memory if it is not already loaded. This will also download the data from the given `training_data_url` if needed. We will learn more about large data handling in the scvi-hub upload tutorial.\n",
    "- `scvi.hub.HubModelCardHelper`. As its name indicates, this class helps in generating a Model Card that works for most scvi-tools models. You can do so by calling its `from_dir` class method which will automatically populate the Model Card with relevant information from the model and data objects, located at the given directory. You can also give it some more metadata that cannot be auto-inferred (such as license). The corresponding HF [Model Card](https://huggingface.co/docs/huggingface_hub/package_reference/cards#huggingface_hub.ModelCard) object is accessible via the `model_card` property.\n",
    "- `scvi.hub.HubMetadata`. This class encapsulates the metadata that is present in the _scvi_required_metadata.json file. Like `HubModelCardHelper`, it has a `from_dir` class method that can be used to auto-generate it using the model and data objects located at a given directory."
   ]
  },
  {
   "attachments": {},
   "cell_type": "markdown",
   "id": "845a6dd6",
   "metadata": {},
   "source": [
    "# Imports\n",
    "Before we move on to downloading models, let's first add the Python imports we need."
   ]
  },
  {
   "cell_type": "code",
   "execution_count": 1,
   "id": "012a0495",
   "metadata": {},
   "outputs": [
    {
     "name": "stderr",
     "output_type": "stream",
     "text": [
      "Global seed set to 0\n"
     ]
    }
   ],
   "source": [
    "import scvi\n",
    "from scvi.hub import HubModel\n",
    "\n",
    "# TODO fix after 1.0 release"
   ]
  },
  {
   "attachments": {},
   "cell_type": "markdown",
   "id": "ac5fdf39",
   "metadata": {},
   "source": [
    "# Download models\n",
    "\n",
    "Now, let's use scvi-tools to download a model. We'll use the demo-model we saw previously."
   ]
  },
  {
   "cell_type": "code",
   "execution_count": 5,
   "id": "89938623",
   "metadata": {},
   "outputs": [
    {
     "data": {
      "application/vnd.jupyter.widget-view+json": {
       "model_id": "22f7c71d900949a7b9faa56389eb6a91",
       "version_major": 2,
       "version_minor": 0
      },
      "text/plain": [
       "Fetching 3 files:   0%|          | 0/3 [00:00<?, ?it/s]"
      ]
     },
     "metadata": {},
     "output_type": "display_data"
    }
   ],
   "source": [
    "hmo = HubModel.pull_from_huggingface_hub(\n",
    "    repo_name=\"scvi-tools/demo-model\",\n",
    "    cache_dir=\"local/scvi_hub_dnl_cache\",\n",
    "    revision=\"main\",\n",
    ")"
   ]
  },
  {
   "cell_type": "code",
   "execution_count": 4,
   "id": "9c06f312",
   "metadata": {},
   "outputs": [
    {
     "name": "stdout",
     "output_type": "stream",
     "text": [
      "HubModel with:\n",
      "local_dir: local/scvi_hub_dnl_cache/models--scvi-tools--demo-model/snapshots/74bec019635e4155941c7e5353c33a7d7c0dabc6\n",
      "model loaded? No\n",
      "adata loaded? No\n",
      "large_training_adata loaded? No\n",
      "metadata:\n",
      "HubMetadata(scvi_version='0.0.0', anndata_version='0.8.0', training_data_url=None, model_parent_module='scvi.model')\n",
      "model_card:\n"
     ]
    },
    {
     "data": {
      "text/html": [
       "<pre style=\"white-space:pre;overflow-x:auto;line-height:normal;font-family:Menlo,'DejaVu Sans Mono',consolas,'Courier New',monospace\"><span style=\"color: #808000; text-decoration-color: #808000\">───────────────────────────────────────────────────────────────────────────────────────────────────────────────────</span>\n",
       "license: cc-by-4.0                                                                                                 \n",
       "\n",
       "library_name: scvi-tools                                                                                           \n",
       "\n",
       "tags:                                                                                                              \n",
       "\n",
       "<span style=\"color: #808000; text-decoration-color: #808000; font-weight: bold\"> • </span>model_cls_name:SCVI                                                                                             \n",
       "<span style=\"color: #808000; text-decoration-color: #808000; font-weight: bold\"> • </span>scvi_version:0.0.0                                                                                              \n",
       "<span style=\"color: #808000; text-decoration-color: #808000; font-weight: bold\"> • </span>anndata_version:0.8.0                                                                                           \n",
       "<span style=\"color: #808000; text-decoration-color: #808000; font-weight: bold\"> • </span>modality:rna                                                                                                    \n",
       "<span style=\"color: #808000; text-decoration-color: #808000; font-weight: bold\"> • </span>modality:protein                                                                                                \n",
       "<span style=\"color: #808000; text-decoration-color: #808000; font-weight: bold\"> • </span>annotated:False                                                                                                 \n",
       "\n",
       "<span style=\"color: #808000; text-decoration-color: #808000\">───────────────────────────────────────────────────────────────────────────────────────────────────────────────────</span>\n",
       "╔═════════════════════════════════════════════════════════════════════════════════════════════════════════════════╗\n",
       "║                                                   <span style=\"font-weight: bold\">Description</span>                                                   ║\n",
       "╚═════════════════════════════════════════════════════════════════════════════════════════════════════════════════╝\n",
       "\n",
       "This is a demo model trained on synthetic data.                                                                    \n",
       "\n",
       "╔═════════════════════════════════════════════════════════════════════════════════════════════════════════════════╗\n",
       "║                                                <span style=\"font-weight: bold\">Model properties</span>                                                 ║\n",
       "╚═════════════════════════════════════════════════════════════════════════════════════════════════════════════════╝\n",
       "\n",
       "Many model properties are in the model tags. Some more are listed below.                                           \n",
       "\n",
       "<span style=\"font-weight: bold\">model_init_params</span>:                                                                                                 \n",
       "\n",
       "<span style=\"background-color: #272822\">                                                                                                                   </span>\n",
       "<span style=\"color: #f8f8f2; text-decoration-color: #f8f8f2; background-color: #272822\">{</span><span style=\"background-color: #272822\">                                                                                                                  </span>\n",
       "<span style=\"background-color: #272822\">                                                                                                                   </span>\n",
       "<span style=\"color: #f8f8f2; text-decoration-color: #f8f8f2; background-color: #272822\">    </span><span style=\"color: #f92672; text-decoration-color: #f92672; background-color: #272822\">\"n_hidden\"</span><span style=\"color: #f8f8f2; text-decoration-color: #f8f8f2; background-color: #272822\">: </span><span style=\"color: #ae81ff; text-decoration-color: #ae81ff; background-color: #272822\">128</span><span style=\"color: #f8f8f2; text-decoration-color: #f8f8f2; background-color: #272822\">,</span><span style=\"background-color: #272822\">                                                                                               </span>\n",
       "<span style=\"background-color: #272822\">                                                                                                                   </span>\n",
       "<span style=\"color: #f8f8f2; text-decoration-color: #f8f8f2; background-color: #272822\">    </span><span style=\"color: #f92672; text-decoration-color: #f92672; background-color: #272822\">\"n_latent\"</span><span style=\"color: #f8f8f2; text-decoration-color: #f8f8f2; background-color: #272822\">: </span><span style=\"color: #ae81ff; text-decoration-color: #ae81ff; background-color: #272822\">10</span><span style=\"color: #f8f8f2; text-decoration-color: #f8f8f2; background-color: #272822\">,</span><span style=\"background-color: #272822\">                                                                                                </span>\n",
       "<span style=\"background-color: #272822\">                                                                                                                   </span>\n",
       "<span style=\"color: #f8f8f2; text-decoration-color: #f8f8f2; background-color: #272822\">    </span><span style=\"color: #f92672; text-decoration-color: #f92672; background-color: #272822\">\"n_layers\"</span><span style=\"color: #f8f8f2; text-decoration-color: #f8f8f2; background-color: #272822\">: </span><span style=\"color: #ae81ff; text-decoration-color: #ae81ff; background-color: #272822\">1</span><span style=\"color: #f8f8f2; text-decoration-color: #f8f8f2; background-color: #272822\">,</span><span style=\"background-color: #272822\">                                                                                                 </span>\n",
       "<span style=\"background-color: #272822\">                                                                                                                   </span>\n",
       "<span style=\"color: #f8f8f2; text-decoration-color: #f8f8f2; background-color: #272822\">    </span><span style=\"color: #f92672; text-decoration-color: #f92672; background-color: #272822\">\"dropout_rate\"</span><span style=\"color: #f8f8f2; text-decoration-color: #f8f8f2; background-color: #272822\">: </span><span style=\"color: #ae81ff; text-decoration-color: #ae81ff; background-color: #272822\">0.1</span><span style=\"color: #f8f8f2; text-decoration-color: #f8f8f2; background-color: #272822\">,</span><span style=\"background-color: #272822\">                                                                                           </span>\n",
       "<span style=\"background-color: #272822\">                                                                                                                   </span>\n",
       "<span style=\"color: #f8f8f2; text-decoration-color: #f8f8f2; background-color: #272822\">    </span><span style=\"color: #f92672; text-decoration-color: #f92672; background-color: #272822\">\"dispersion\"</span><span style=\"color: #f8f8f2; text-decoration-color: #f8f8f2; background-color: #272822\">: </span><span style=\"color: #e6db74; text-decoration-color: #e6db74; background-color: #272822\">\"gene\"</span><span style=\"color: #f8f8f2; text-decoration-color: #f8f8f2; background-color: #272822\">,</span><span style=\"background-color: #272822\">                                                                                          </span>\n",
       "<span style=\"background-color: #272822\">                                                                                                                   </span>\n",
       "<span style=\"color: #f8f8f2; text-decoration-color: #f8f8f2; background-color: #272822\">    </span><span style=\"color: #f92672; text-decoration-color: #f92672; background-color: #272822\">\"gene_likelihood\"</span><span style=\"color: #f8f8f2; text-decoration-color: #f8f8f2; background-color: #272822\">: </span><span style=\"color: #e6db74; text-decoration-color: #e6db74; background-color: #272822\">\"zinb\"</span><span style=\"color: #f8f8f2; text-decoration-color: #f8f8f2; background-color: #272822\">,</span><span style=\"background-color: #272822\">                                                                                     </span>\n",
       "<span style=\"background-color: #272822\">                                                                                                                   </span>\n",
       "<span style=\"color: #f8f8f2; text-decoration-color: #f8f8f2; background-color: #272822\">    </span><span style=\"color: #f92672; text-decoration-color: #f92672; background-color: #272822\">\"latent_distribution\"</span><span style=\"color: #f8f8f2; text-decoration-color: #f8f8f2; background-color: #272822\">: </span><span style=\"color: #e6db74; text-decoration-color: #e6db74; background-color: #272822\">\"normal\"</span><span style=\"background-color: #272822\">                                                                                </span>\n",
       "<span style=\"background-color: #272822\">                                                                                                                   </span>\n",
       "<span style=\"color: #f8f8f2; text-decoration-color: #f8f8f2; background-color: #272822\">}</span><span style=\"background-color: #272822\">                                                                                                                  </span>\n",
       "\n",
       "<span style=\"font-weight: bold\">model_setup_anndata_args</span>:                                                                                          \n",
       "\n",
       "<span style=\"background-color: #272822\">                                                                                                                   </span>\n",
       "<span style=\"color: #f8f8f2; text-decoration-color: #f8f8f2; background-color: #272822\">{</span><span style=\"background-color: #272822\">                                                                                                                  </span>\n",
       "<span style=\"background-color: #272822\">                                                                                                                   </span>\n",
       "<span style=\"color: #f8f8f2; text-decoration-color: #f8f8f2; background-color: #272822\">    </span><span style=\"color: #f92672; text-decoration-color: #f92672; background-color: #272822\">\"layer\"</span><span style=\"color: #f8f8f2; text-decoration-color: #f8f8f2; background-color: #272822\">: </span><span style=\"color: #66d9ef; text-decoration-color: #66d9ef; background-color: #272822\">null</span><span style=\"color: #f8f8f2; text-decoration-color: #f8f8f2; background-color: #272822\">,</span><span style=\"background-color: #272822\">                                                                                                 </span>\n",
       "<span style=\"background-color: #272822\">                                                                                                                   </span>\n",
       "<span style=\"color: #f8f8f2; text-decoration-color: #f8f8f2; background-color: #272822\">    </span><span style=\"color: #f92672; text-decoration-color: #f92672; background-color: #272822\">\"batch_key\"</span><span style=\"color: #f8f8f2; text-decoration-color: #f8f8f2; background-color: #272822\">: </span><span style=\"color: #66d9ef; text-decoration-color: #66d9ef; background-color: #272822\">null</span><span style=\"color: #f8f8f2; text-decoration-color: #f8f8f2; background-color: #272822\">,</span><span style=\"background-color: #272822\">                                                                                             </span>\n",
       "<span style=\"background-color: #272822\">                                                                                                                   </span>\n",
       "<span style=\"color: #f8f8f2; text-decoration-color: #f8f8f2; background-color: #272822\">    </span><span style=\"color: #f92672; text-decoration-color: #f92672; background-color: #272822\">\"labels_key\"</span><span style=\"color: #f8f8f2; text-decoration-color: #f8f8f2; background-color: #272822\">: </span><span style=\"color: #66d9ef; text-decoration-color: #66d9ef; background-color: #272822\">null</span><span style=\"color: #f8f8f2; text-decoration-color: #f8f8f2; background-color: #272822\">,</span><span style=\"background-color: #272822\">                                                                                            </span>\n",
       "<span style=\"background-color: #272822\">                                                                                                                   </span>\n",
       "<span style=\"color: #f8f8f2; text-decoration-color: #f8f8f2; background-color: #272822\">    </span><span style=\"color: #f92672; text-decoration-color: #f92672; background-color: #272822\">\"size_factor_key\"</span><span style=\"color: #f8f8f2; text-decoration-color: #f8f8f2; background-color: #272822\">: </span><span style=\"color: #66d9ef; text-decoration-color: #66d9ef; background-color: #272822\">null</span><span style=\"color: #f8f8f2; text-decoration-color: #f8f8f2; background-color: #272822\">,</span><span style=\"background-color: #272822\">                                                                                       </span>\n",
       "<span style=\"background-color: #272822\">                                                                                                                   </span>\n",
       "<span style=\"color: #f8f8f2; text-decoration-color: #f8f8f2; background-color: #272822\">    </span><span style=\"color: #f92672; text-decoration-color: #f92672; background-color: #272822\">\"categorical_covariate_keys\"</span><span style=\"color: #f8f8f2; text-decoration-color: #f8f8f2; background-color: #272822\">: </span><span style=\"color: #66d9ef; text-decoration-color: #66d9ef; background-color: #272822\">null</span><span style=\"color: #f8f8f2; text-decoration-color: #f8f8f2; background-color: #272822\">,</span><span style=\"background-color: #272822\">                                                                            </span>\n",
       "<span style=\"background-color: #272822\">                                                                                                                   </span>\n",
       "<span style=\"color: #f8f8f2; text-decoration-color: #f8f8f2; background-color: #272822\">    </span><span style=\"color: #f92672; text-decoration-color: #f92672; background-color: #272822\">\"continuous_covariate_keys\"</span><span style=\"color: #f8f8f2; text-decoration-color: #f8f8f2; background-color: #272822\">: </span><span style=\"color: #66d9ef; text-decoration-color: #66d9ef; background-color: #272822\">null</span><span style=\"background-color: #272822\">                                                                              </span>\n",
       "<span style=\"background-color: #272822\">                                                                                                                   </span>\n",
       "<span style=\"color: #f8f8f2; text-decoration-color: #f8f8f2; background-color: #272822\">}</span><span style=\"background-color: #272822\">                                                                                                                  </span>\n",
       "\n",
       "<span style=\"font-weight: bold\">model_summary_stats</span>:                                                                                               \n",
       "\n",
       "|     Summary Stat Key     | Value |                                                                               \n",
       "\n",
       "|--------------------------|-------|                                                                               \n",
       "\n",
       "|         n_batch          |   1   |                                                                               \n",
       "\n",
       "|         n_cells          |  400  |                                                                               \n",
       "\n",
       "| n_extra_categorical_covs |   0   |                                                                               \n",
       "\n",
       "| n_extra_continuous_covs  |   0   |                                                                               \n",
       "\n",
       "|         n_labels         |   1   |                                                                               \n",
       "\n",
       "|          n_vars          |  100  |                                                                               \n",
       "\n",
       "<span style=\"font-weight: bold\">model_data_registry</span>:                                                                                               \n",
       "\n",
       "| Registry Key |    scvi-tools Location    |                                                                       \n",
       "\n",
       "|--------------|---------------------------|                                                                       \n",
       "\n",
       "|      X       |          adata.X          |                                                                       \n",
       "\n",
       "|    batch     | adata.obs['_scvi_batch']  |                                                                       \n",
       "\n",
       "|    labels    | adata.obs['_scvi_labels'] |                                                                       \n",
       "\n",
       "<span style=\"font-weight: bold\">model_parent_module</span>: scvi.model                                                                                    \n",
       "\n",
       "<span style=\"font-weight: bold\">data_is_latent</span>: False                                                                                              \n",
       "\n",
       "╔═════════════════════════════════════════════════════════════════════════════════════════════════════════════════╗\n",
       "║                                                  <span style=\"font-weight: bold\">Training data</span>                                                  ║\n",
       "╚═════════════════════════════════════════════════════════════════════════════════════════════════════════════════╝\n",
       "\n",
       "This is an optional link to where the training data is stored if it is too large                                   \n",
       "\n",
       "to host on the huggingface Model hub.                                                                              \n",
       "\n",
       "Training data url: N/A                                                                                             \n",
       "\n",
       "╔═════════════════════════════════════════════════════════════════════════════════════════════════════════════════╗\n",
       "║                                                  <span style=\"font-weight: bold\">Training code</span>                                                  ║\n",
       "╚═════════════════════════════════════════════════════════════════════════════════════════════════════════════════╝\n",
       "\n",
       "This is an optional link to the code used to train the model.                                                      \n",
       "\n",
       "Training code url: N/A                                                                                             \n",
       "\n",
       "╔═════════════════════════════════════════════════════════════════════════════════════════════════════════════════╗\n",
       "║                                                   <span style=\"font-weight: bold\">References</span>                                                    ║\n",
       "╚═════════════════════════════════════════════════════════════════════════════════════════════════════════════════╝\n",
       "\n",
       "None. This is a demo model trained on synthetic data.                                                              \n",
       "</pre>\n"
      ],
      "text/plain": [
       "\u001b[33m───────────────────────────────────────────────────────────────────────────────────────────────────────────────────\u001b[0m\n",
       "license: cc-by-4.0                                                                                                 \n",
       "\n",
       "library_name: scvi-tools                                                                                           \n",
       "\n",
       "tags:                                                                                                              \n",
       "\n",
       "\u001b[1;33m • \u001b[0mmodel_cls_name:SCVI                                                                                             \n",
       "\u001b[1;33m • \u001b[0mscvi_version:0.0.0                                                                                              \n",
       "\u001b[1;33m • \u001b[0manndata_version:0.8.0                                                                                           \n",
       "\u001b[1;33m • \u001b[0mmodality:rna                                                                                                    \n",
       "\u001b[1;33m • \u001b[0mmodality:protein                                                                                                \n",
       "\u001b[1;33m • \u001b[0mannotated:False                                                                                                 \n",
       "\n",
       "\u001b[33m───────────────────────────────────────────────────────────────────────────────────────────────────────────────────\u001b[0m\n",
       "╔═════════════════════════════════════════════════════════════════════════════════════════════════════════════════╗\n",
       "║                                                   \u001b[1mDescription\u001b[0m                                                   ║\n",
       "╚═════════════════════════════════════════════════════════════════════════════════════════════════════════════════╝\n",
       "\n",
       "This is a demo model trained on synthetic data.                                                                    \n",
       "\n",
       "╔═════════════════════════════════════════════════════════════════════════════════════════════════════════════════╗\n",
       "║                                                \u001b[1mModel properties\u001b[0m                                                 ║\n",
       "╚═════════════════════════════════════════════════════════════════════════════════════════════════════════════════╝\n",
       "\n",
       "Many model properties are in the model tags. Some more are listed below.                                           \n",
       "\n",
       "\u001b[1mmodel\u001b[0m\u001b[1m_\u001b[0m\u001b[1minit\u001b[0m\u001b[1m_\u001b[0m\u001b[1mparams\u001b[0m:                                                                                                 \n",
       "\n",
       "\u001b[48;2;39;40;34m                                                                                                                   \u001b[0m\n",
       "\u001b[38;2;248;248;242;48;2;39;40;34m{\u001b[0m\u001b[48;2;39;40;34m                                                                                                                  \u001b[0m\n",
       "\u001b[48;2;39;40;34m                                                                                                                   \u001b[0m\n",
       "\u001b[38;2;248;248;242;48;2;39;40;34m    \u001b[0m\u001b[38;2;249;38;114;48;2;39;40;34m\"n_hidden\"\u001b[0m\u001b[38;2;248;248;242;48;2;39;40;34m:\u001b[0m\u001b[38;2;248;248;242;48;2;39;40;34m \u001b[0m\u001b[38;2;174;129;255;48;2;39;40;34m128\u001b[0m\u001b[38;2;248;248;242;48;2;39;40;34m,\u001b[0m\u001b[48;2;39;40;34m                                                                                               \u001b[0m\n",
       "\u001b[48;2;39;40;34m                                                                                                                   \u001b[0m\n",
       "\u001b[38;2;248;248;242;48;2;39;40;34m    \u001b[0m\u001b[38;2;249;38;114;48;2;39;40;34m\"n_latent\"\u001b[0m\u001b[38;2;248;248;242;48;2;39;40;34m:\u001b[0m\u001b[38;2;248;248;242;48;2;39;40;34m \u001b[0m\u001b[38;2;174;129;255;48;2;39;40;34m10\u001b[0m\u001b[38;2;248;248;242;48;2;39;40;34m,\u001b[0m\u001b[48;2;39;40;34m                                                                                                \u001b[0m\n",
       "\u001b[48;2;39;40;34m                                                                                                                   \u001b[0m\n",
       "\u001b[38;2;248;248;242;48;2;39;40;34m    \u001b[0m\u001b[38;2;249;38;114;48;2;39;40;34m\"n_layers\"\u001b[0m\u001b[38;2;248;248;242;48;2;39;40;34m:\u001b[0m\u001b[38;2;248;248;242;48;2;39;40;34m \u001b[0m\u001b[38;2;174;129;255;48;2;39;40;34m1\u001b[0m\u001b[38;2;248;248;242;48;2;39;40;34m,\u001b[0m\u001b[48;2;39;40;34m                                                                                                 \u001b[0m\n",
       "\u001b[48;2;39;40;34m                                                                                                                   \u001b[0m\n",
       "\u001b[38;2;248;248;242;48;2;39;40;34m    \u001b[0m\u001b[38;2;249;38;114;48;2;39;40;34m\"dropout_rate\"\u001b[0m\u001b[38;2;248;248;242;48;2;39;40;34m:\u001b[0m\u001b[38;2;248;248;242;48;2;39;40;34m \u001b[0m\u001b[38;2;174;129;255;48;2;39;40;34m0.1\u001b[0m\u001b[38;2;248;248;242;48;2;39;40;34m,\u001b[0m\u001b[48;2;39;40;34m                                                                                           \u001b[0m\n",
       "\u001b[48;2;39;40;34m                                                                                                                   \u001b[0m\n",
       "\u001b[38;2;248;248;242;48;2;39;40;34m    \u001b[0m\u001b[38;2;249;38;114;48;2;39;40;34m\"dispersion\"\u001b[0m\u001b[38;2;248;248;242;48;2;39;40;34m:\u001b[0m\u001b[38;2;248;248;242;48;2;39;40;34m \u001b[0m\u001b[38;2;230;219;116;48;2;39;40;34m\"gene\"\u001b[0m\u001b[38;2;248;248;242;48;2;39;40;34m,\u001b[0m\u001b[48;2;39;40;34m                                                                                          \u001b[0m\n",
       "\u001b[48;2;39;40;34m                                                                                                                   \u001b[0m\n",
       "\u001b[38;2;248;248;242;48;2;39;40;34m    \u001b[0m\u001b[38;2;249;38;114;48;2;39;40;34m\"gene_likelihood\"\u001b[0m\u001b[38;2;248;248;242;48;2;39;40;34m:\u001b[0m\u001b[38;2;248;248;242;48;2;39;40;34m \u001b[0m\u001b[38;2;230;219;116;48;2;39;40;34m\"zinb\"\u001b[0m\u001b[38;2;248;248;242;48;2;39;40;34m,\u001b[0m\u001b[48;2;39;40;34m                                                                                     \u001b[0m\n",
       "\u001b[48;2;39;40;34m                                                                                                                   \u001b[0m\n",
       "\u001b[38;2;248;248;242;48;2;39;40;34m    \u001b[0m\u001b[38;2;249;38;114;48;2;39;40;34m\"latent_distribution\"\u001b[0m\u001b[38;2;248;248;242;48;2;39;40;34m:\u001b[0m\u001b[38;2;248;248;242;48;2;39;40;34m \u001b[0m\u001b[38;2;230;219;116;48;2;39;40;34m\"normal\"\u001b[0m\u001b[48;2;39;40;34m                                                                                \u001b[0m\n",
       "\u001b[48;2;39;40;34m                                                                                                                   \u001b[0m\n",
       "\u001b[38;2;248;248;242;48;2;39;40;34m}\u001b[0m\u001b[48;2;39;40;34m                                                                                                                  \u001b[0m\n",
       "\n",
       "\u001b[1mmodel\u001b[0m\u001b[1m_\u001b[0m\u001b[1msetup\u001b[0m\u001b[1m_\u001b[0m\u001b[1manndata\u001b[0m\u001b[1m_\u001b[0m\u001b[1margs\u001b[0m:                                                                                          \n",
       "\n",
       "\u001b[48;2;39;40;34m                                                                                                                   \u001b[0m\n",
       "\u001b[38;2;248;248;242;48;2;39;40;34m{\u001b[0m\u001b[48;2;39;40;34m                                                                                                                  \u001b[0m\n",
       "\u001b[48;2;39;40;34m                                                                                                                   \u001b[0m\n",
       "\u001b[38;2;248;248;242;48;2;39;40;34m    \u001b[0m\u001b[38;2;249;38;114;48;2;39;40;34m\"layer\"\u001b[0m\u001b[38;2;248;248;242;48;2;39;40;34m:\u001b[0m\u001b[38;2;248;248;242;48;2;39;40;34m \u001b[0m\u001b[38;2;102;217;239;48;2;39;40;34mnull\u001b[0m\u001b[38;2;248;248;242;48;2;39;40;34m,\u001b[0m\u001b[48;2;39;40;34m                                                                                                 \u001b[0m\n",
       "\u001b[48;2;39;40;34m                                                                                                                   \u001b[0m\n",
       "\u001b[38;2;248;248;242;48;2;39;40;34m    \u001b[0m\u001b[38;2;249;38;114;48;2;39;40;34m\"batch_key\"\u001b[0m\u001b[38;2;248;248;242;48;2;39;40;34m:\u001b[0m\u001b[38;2;248;248;242;48;2;39;40;34m \u001b[0m\u001b[38;2;102;217;239;48;2;39;40;34mnull\u001b[0m\u001b[38;2;248;248;242;48;2;39;40;34m,\u001b[0m\u001b[48;2;39;40;34m                                                                                             \u001b[0m\n",
       "\u001b[48;2;39;40;34m                                                                                                                   \u001b[0m\n",
       "\u001b[38;2;248;248;242;48;2;39;40;34m    \u001b[0m\u001b[38;2;249;38;114;48;2;39;40;34m\"labels_key\"\u001b[0m\u001b[38;2;248;248;242;48;2;39;40;34m:\u001b[0m\u001b[38;2;248;248;242;48;2;39;40;34m \u001b[0m\u001b[38;2;102;217;239;48;2;39;40;34mnull\u001b[0m\u001b[38;2;248;248;242;48;2;39;40;34m,\u001b[0m\u001b[48;2;39;40;34m                                                                                            \u001b[0m\n",
       "\u001b[48;2;39;40;34m                                                                                                                   \u001b[0m\n",
       "\u001b[38;2;248;248;242;48;2;39;40;34m    \u001b[0m\u001b[38;2;249;38;114;48;2;39;40;34m\"size_factor_key\"\u001b[0m\u001b[38;2;248;248;242;48;2;39;40;34m:\u001b[0m\u001b[38;2;248;248;242;48;2;39;40;34m \u001b[0m\u001b[38;2;102;217;239;48;2;39;40;34mnull\u001b[0m\u001b[38;2;248;248;242;48;2;39;40;34m,\u001b[0m\u001b[48;2;39;40;34m                                                                                       \u001b[0m\n",
       "\u001b[48;2;39;40;34m                                                                                                                   \u001b[0m\n",
       "\u001b[38;2;248;248;242;48;2;39;40;34m    \u001b[0m\u001b[38;2;249;38;114;48;2;39;40;34m\"categorical_covariate_keys\"\u001b[0m\u001b[38;2;248;248;242;48;2;39;40;34m:\u001b[0m\u001b[38;2;248;248;242;48;2;39;40;34m \u001b[0m\u001b[38;2;102;217;239;48;2;39;40;34mnull\u001b[0m\u001b[38;2;248;248;242;48;2;39;40;34m,\u001b[0m\u001b[48;2;39;40;34m                                                                            \u001b[0m\n",
       "\u001b[48;2;39;40;34m                                                                                                                   \u001b[0m\n",
       "\u001b[38;2;248;248;242;48;2;39;40;34m    \u001b[0m\u001b[38;2;249;38;114;48;2;39;40;34m\"continuous_covariate_keys\"\u001b[0m\u001b[38;2;248;248;242;48;2;39;40;34m:\u001b[0m\u001b[38;2;248;248;242;48;2;39;40;34m \u001b[0m\u001b[38;2;102;217;239;48;2;39;40;34mnull\u001b[0m\u001b[48;2;39;40;34m                                                                              \u001b[0m\n",
       "\u001b[48;2;39;40;34m                                                                                                                   \u001b[0m\n",
       "\u001b[38;2;248;248;242;48;2;39;40;34m}\u001b[0m\u001b[48;2;39;40;34m                                                                                                                  \u001b[0m\n",
       "\n",
       "\u001b[1mmodel\u001b[0m\u001b[1m_\u001b[0m\u001b[1msummary\u001b[0m\u001b[1m_\u001b[0m\u001b[1mstats\u001b[0m:                                                                                               \n",
       "\n",
       "|     Summary Stat Key     | Value |                                                                               \n",
       "\n",
       "|--------------------------|-------|                                                                               \n",
       "\n",
       "|         n_batch          |   1   |                                                                               \n",
       "\n",
       "|         n_cells          |  400  |                                                                               \n",
       "\n",
       "| n_extra_categorical_covs |   0   |                                                                               \n",
       "\n",
       "| n_extra_continuous_covs  |   0   |                                                                               \n",
       "\n",
       "|         n_labels         |   1   |                                                                               \n",
       "\n",
       "|          n_vars          |  100  |                                                                               \n",
       "\n",
       "\u001b[1mmodel\u001b[0m\u001b[1m_\u001b[0m\u001b[1mdata\u001b[0m\u001b[1m_\u001b[0m\u001b[1mregistry\u001b[0m:                                                                                               \n",
       "\n",
       "| Registry Key |    scvi-tools Location    |                                                                       \n",
       "\n",
       "|--------------|---------------------------|                                                                       \n",
       "\n",
       "|      X       |          adata.X          |                                                                       \n",
       "\n",
       "|    batch     | adata.obs['_scvi_batch']  |                                                                       \n",
       "\n",
       "|    labels    | adata.obs['_scvi_labels'] |                                                                       \n",
       "\n",
       "\u001b[1mmodel\u001b[0m\u001b[1m_\u001b[0m\u001b[1mparent\u001b[0m\u001b[1m_\u001b[0m\u001b[1mmodule\u001b[0m: scvi.model                                                                                    \n",
       "\n",
       "\u001b[1mdata\u001b[0m\u001b[1m_\u001b[0m\u001b[1mis\u001b[0m\u001b[1m_\u001b[0m\u001b[1mlatent\u001b[0m: False                                                                                              \n",
       "\n",
       "╔═════════════════════════════════════════════════════════════════════════════════════════════════════════════════╗\n",
       "║                                                  \u001b[1mTraining data\u001b[0m                                                  ║\n",
       "╚═════════════════════════════════════════════════════════════════════════════════════════════════════════════════╝\n",
       "\n",
       "This is an optional link to where the training data is stored if it is too large                                   \n",
       "\n",
       "to host on the huggingface Model hub.                                                                              \n",
       "\n",
       "Training data url: N/A                                                                                             \n",
       "\n",
       "╔═════════════════════════════════════════════════════════════════════════════════════════════════════════════════╗\n",
       "║                                                  \u001b[1mTraining code\u001b[0m                                                  ║\n",
       "╚═════════════════════════════════════════════════════════════════════════════════════════════════════════════════╝\n",
       "\n",
       "This is an optional link to the code used to train the model.                                                      \n",
       "\n",
       "Training code url: N/A                                                                                             \n",
       "\n",
       "╔═════════════════════════════════════════════════════════════════════════════════════════════════════════════════╗\n",
       "║                                                   \u001b[1mReferences\u001b[0m                                                    ║\n",
       "╚═════════════════════════════════════════════════════════════════════════════════════════════════════════════════╝\n",
       "\n",
       "None. This is a demo model trained on synthetic data.                                                              \n"
      ]
     },
     "metadata": {},
     "output_type": "display_data"
    },
    {
     "data": {
      "text/plain": []
     },
     "execution_count": 4,
     "metadata": {},
     "output_type": "execute_result"
    }
   ],
   "source": [
    "hmo"
   ]
  },
  {
   "attachments": {},
   "cell_type": "markdown",
   "id": "ba4e9ae8",
   "metadata": {},
   "source": [
    "Notice the local directory property `hmo.local_dir`. This where Hugging Face caches the data it downloads. Hugging Face uses a heuristic to determine the location (more [here](https://huggingface.co/docs/huggingface_hub/how-to-cache)). As we did above, you can override it by calling:\n",
    "\n",
    "`hmo = HubModel.pull_from_huggingface_hub(repo_name=\"scvi-tools/demo-model\", cache_dir=\"/path/to/cache/dir\")`\n",
    "\n",
    "Next we can see the metadata and the model card. We also see that the model and data are not yet loaded into memory. We can load them by calling `hmo.model`, and `hmo.adata` respectively."
   ]
  },
  {
   "cell_type": "code",
   "execution_count": 10,
   "id": "a42a1eef",
   "metadata": {},
   "outputs": [
    {
     "data": {
      "text/html": [
       "<pre style=\"white-space:pre;overflow-x:auto;line-height:normal;font-family:Menlo,'DejaVu Sans Mono',consolas,'Courier New',monospace\">SCVI Model with the following params: \n",
       "n_hidden: <span style=\"color: #008080; text-decoration-color: #008080; font-weight: bold\">128</span>, n_latent: <span style=\"color: #008080; text-decoration-color: #008080; font-weight: bold\">10</span>, n_layers: <span style=\"color: #008080; text-decoration-color: #008080; font-weight: bold\">1</span>, dropout_rate: <span style=\"color: #008080; text-decoration-color: #008080; font-weight: bold\">0.1</span>, dispersion: gene, gene_likelihood: zinb, \n",
       "latent_distribution: normal\n",
       "Training status: Trained\n",
       "Latent model? <span style=\"color: #ff0000; text-decoration-color: #ff0000; font-style: italic\">False</span>\n",
       "</pre>\n"
      ],
      "text/plain": [
       "SCVI Model with the following params: \n",
       "n_hidden: \u001b[1;36m128\u001b[0m, n_latent: \u001b[1;36m10\u001b[0m, n_layers: \u001b[1;36m1\u001b[0m, dropout_rate: \u001b[1;36m0.1\u001b[0m, dispersion: gene, gene_likelihood: zinb, \n",
       "latent_distribution: normal\n",
       "Training status: Trained\n",
       "Latent model? \u001b[3;91mFalse\u001b[0m\n"
      ]
     },
     "metadata": {},
     "output_type": "display_data"
    },
    {
     "data": {
      "text/plain": []
     },
     "execution_count": 10,
     "metadata": {},
     "output_type": "execute_result"
    }
   ],
   "source": [
    "hmo.model"
   ]
  },
  {
   "cell_type": "code",
   "execution_count": 9,
   "id": "b8b7e11a",
   "metadata": {},
   "outputs": [
    {
     "name": "stdout",
     "output_type": "stream",
     "text": [
      "\u001b[34mINFO    \u001b[0m Reading adata\u001b[33m...\u001b[0m                                                                                          \n"
     ]
    },
    {
     "data": {
      "text/plain": [
       "AnnData object with n_obs × n_vars = 400 × 100\n",
       "    obs: 'batch', 'labels', '_scvi_batch', '_scvi_labels'\n",
       "    uns: '_scvi_manager_uuid', '_scvi_uuid', 'protein_names'\n",
       "    obsm: 'protein_expression'"
      ]
     },
     "execution_count": 9,
     "metadata": {},
     "output_type": "execute_result"
    }
   ],
   "source": [
    "hmo.adata"
   ]
  },
  {
   "attachments": {},
   "cell_type": "markdown",
   "id": "a5e0366f",
   "metadata": {},
   "source": [
    "## Versioning\n",
    "HF uses Git to seamlessly handle versioning. So if you want to download a specific version of a model, you can do so by specifying the commit hash. You can pass this into the pull function via the revision argument.\n",
    "\n",
    "🔥 Important: Though the \"revision\" argument is not required to allow flexibility, we highly recommend that you always provide it. This is because files might get updated on the HF Hub Model (e.g., by other collaborators or model maintainers), and if you don't specify a revision, you might end up with a different version of the model than you intended."
   ]
  }
 ],
 "metadata": {
  "kernelspec": {
   "display_name": "scvi-hub",
   "language": "python",
   "name": "python3"
  },
  "language_info": {
   "codemirror_mode": {
    "name": "ipython",
    "version": 3
   },
   "file_extension": ".py",
   "mimetype": "text/x-python",
   "name": "python",
   "nbconvert_exporter": "python",
   "pygments_lexer": "ipython3",
   "version": "3.9.13"
  },
  "vscode": {
   "interpreter": {
    "hash": "c7ad0fb529154325adae80858adf69263139128ad86800d0218f40cb1980a4c2"
   }
  }
 },
 "nbformat": 4,
 "nbformat_minor": 5
}
