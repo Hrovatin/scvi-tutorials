{
  "nbformat": 4,
  "nbformat_minor": 0,
  "metadata": {
    "colab": {
      "name": "data_loading.ipynb",
      "provenance": [],
      "collapsed_sections": [],
      "toc_visible": true
    },
    "kernelspec": {
      "display_name": "Python 3",
      "language": "python",
      "name": "python3"
    },
    "language_info": {
      "codemirror_mode": {
        "name": "ipython",
        "version": 3
      },
      "file_extension": ".py",
      "mimetype": "text/x-python",
      "name": "python",
      "nbconvert_exporter": "python",
      "pygments_lexer": "ipython3",
      "version": "3.6.10"
    }
  },
  "cells": [
    {
      "cell_type": "markdown",
      "metadata": {
        "colab_type": "text",
        "id": "DlN1gzqNsDYY"
      },
      "source": [
        "# Data loading and preparation"
      ]
    },
    {
      "cell_type": "markdown",
      "metadata": {
        "colab_type": "text",
        "id": "WJ4glUc_NN9W"
      },
      "source": [
        "Here we walk through the necessary steps to get your data into ready for scvi-tools."
      ]
    },
    {
      "cell_type": "markdown",
      "metadata": {
        "colab_type": "text",
        "id": "t8cyduboZhPK"
      },
      "source": [
        "[![Open In Colab](https://colab.research.google.com/assets/colab-badge.svg)](https://colab.research.google.com/github/yoseflab/scvi-tutorials/blob/dev/data_loading.ipynb)\n"
      ]
    },
    {
      "cell_type": "code",
      "metadata": {
        "colab_type": "code",
        "id": "N3oQkal_sLcr",
        "colab": {}
      },
      "source": [
        "import sys\n",
        "\n",
        "#if True, will install via pypi, else will install from source\n",
        "stable = True\n",
        "IN_COLAB = \"google.colab\" in sys.modules\n",
        "\n",
        "\n",
        "if IN_COLAB and stable:\n",
        "    !pip install --quiet scvi-tools[tutorials]\n",
        "elif IN_COLAB and not stable:\n",
        "    !pip install --quiet --upgrade jsonschema\n",
        "    !pip install --quiet git+https://github.com/yoseflab/scvi-tools@master#egg=scvi-tools[tutorials]\n"
      ],
      "execution_count": null,
      "outputs": []
    },
    {
      "cell_type": "code",
      "metadata": {
        "colab_type": "code",
        "id": "VpgMddaEr-lS",
        "colab": {}
      },
      "source": [
        "import scvi\n",
        "import scanpy as sc"
      ],
      "execution_count": null,
      "outputs": []
    },
    {
      "cell_type": "markdown",
      "metadata": {
        "colab_type": "text",
        "id": "80gW_yfkuzB9"
      },
      "source": [
        "## Loading data\n",
        "\n",
        "scvi-tools supports the [AnnData](https://anndata.readthedocs.io/en/latest/) data format, which also underlies [Scanpy](https://scanpy.readthedocs.io/en/stable/). AnnData is quite similar to other popular single cell objects like that of [Seurat](https://github.com/satijalab/seurat/wiki) and [SingleCellExperiment](https://bioconductor.org/packages/release/bioc/vignettes/SingleCellExperiment/inst/doc/intro.html). In particular, it allows cell-level and feature-level metadata to coexist in the same data structure as the molecular counts.\n",
        "\n",
        "It's also now possible to automatically convert these R-based objects to AnnData within a Jupyter notebook. See the following [tutorial](https://github.com/LuckyMD/Code_snippets/blob/master/Seurat_to_anndata.ipynb) for more information.\n",
        "\n",
        "scvi-tools has a number of convenience methods for loading data from `.csv`, `.loom`, and `.h5ad` formats. To load ouputs from Cell Ranger, please use Scanpy's [reading functionality](https://scanpy.readthedocs.io/en/stable/api/index.html#reading).\n",
        "\n",
        "Let us now download an AnnData object (`.h5ad` format) and load it using scvi-tools."
      ]
    },
    {
      "cell_type": "markdown",
      "metadata": {
        "colab_type": "text",
        "id": "5-_VxGJ9xWaW"
      },
      "source": [
        "### PBMC3k"
      ]
    },
    {
      "cell_type": "code",
      "metadata": {
        "colab_type": "code",
        "id": "obl1PpsLu2EX",
        "colab": {
          "base_uri": "https://localhost:8080/",
          "height": 204
        },
        "outputId": "0215e5c4-743b-4f91-d202-330db5fe4621"
      },
      "source": [
        "!wget 'http://falexwolf.de/data/pbmc3k_raw.h5ad'"
      ],
      "execution_count": null,
      "outputs": [
        {
          "output_type": "stream",
          "text": [
            "--2020-09-17 22:58:56--  http://falexwolf.de/data/pbmc3k_raw.h5ad\n",
            "Resolving falexwolf.de (falexwolf.de)... 85.13.135.70\n",
            "Connecting to falexwolf.de (falexwolf.de)|85.13.135.70|:80... connected.\n",
            "HTTP request sent, awaiting response... 200 OK\n",
            "Length: 5855727 (5.6M)\n",
            "Saving to: ‘pbmc3k_raw.h5ad’\n",
            "\n",
            "pbmc3k_raw.h5ad     100%[===================>]   5.58M  8.81MB/s    in 0.6s    \n",
            "\n",
            "2020-09-17 22:58:57 (8.81 MB/s) - ‘pbmc3k_raw.h5ad’ saved [5855727/5855727]\n",
            "\n"
          ],
          "name": "stdout"
        }
      ]
    },
    {
      "cell_type": "code",
      "metadata": {
        "colab_type": "code",
        "id": "UX4nKs0vwV3S",
        "colab": {}
      },
      "source": [
        "pbmc3k = scvi.data.read_h5ad(\"pbmc3k_raw.h5ad\")"
      ],
      "execution_count": null,
      "outputs": []
    },
    {
      "cell_type": "code",
      "metadata": {
        "colab_type": "code",
        "id": "yM_lXgv4xAvv",
        "colab": {
          "base_uri": "https://localhost:8080/",
          "height": 51
        },
        "outputId": "864db184-b266-423e-a3e6-0ffd8657c2bf"
      },
      "source": [
        "pbmc3k"
      ],
      "execution_count": null,
      "outputs": [
        {
          "output_type": "execute_result",
          "data": {
            "text/plain": [
              "AnnData object with n_obs × n_vars = 2700 × 32738\n",
              "    var: 'gene_ids'"
            ]
          },
          "metadata": {
            "tags": []
          },
          "execution_count": 6
        }
      ]
    },
    {
      "cell_type": "markdown",
      "metadata": {
        "colab_type": "text",
        "id": "Gw44EIlExDUc"
      },
      "source": [
        "This is a fairly simple object, it just contains the count data and the ENSEMBL ids for the genes."
      ]
    },
    {
      "cell_type": "code",
      "metadata": {
        "colab_type": "code",
        "id": "JmqvrG8AxCrO",
        "colab": {
          "base_uri": "https://localhost:8080/",
          "height": 235
        },
        "outputId": "f55f0d05-d86b-43e3-eb51-e0ed926f0dbd"
      },
      "source": [
        "pbmc3k.var.head()"
      ],
      "execution_count": null,
      "outputs": [
        {
          "output_type": "execute_result",
          "data": {
            "text/html": [
              "<div>\n",
              "<style scoped>\n",
              "    .dataframe tbody tr th:only-of-type {\n",
              "        vertical-align: middle;\n",
              "    }\n",
              "\n",
              "    .dataframe tbody tr th {\n",
              "        vertical-align: top;\n",
              "    }\n",
              "\n",
              "    .dataframe thead th {\n",
              "        text-align: right;\n",
              "    }\n",
              "</style>\n",
              "<table border=\"1\" class=\"dataframe\">\n",
              "  <thead>\n",
              "    <tr style=\"text-align: right;\">\n",
              "      <th></th>\n",
              "      <th>gene_ids</th>\n",
              "    </tr>\n",
              "    <tr>\n",
              "      <th>index</th>\n",
              "      <th></th>\n",
              "    </tr>\n",
              "  </thead>\n",
              "  <tbody>\n",
              "    <tr>\n",
              "      <th>MIR1302-10</th>\n",
              "      <td>ENSG00000243485</td>\n",
              "    </tr>\n",
              "    <tr>\n",
              "      <th>FAM138A</th>\n",
              "      <td>ENSG00000237613</td>\n",
              "    </tr>\n",
              "    <tr>\n",
              "      <th>OR4F5</th>\n",
              "      <td>ENSG00000186092</td>\n",
              "    </tr>\n",
              "    <tr>\n",
              "      <th>RP11-34P13.7</th>\n",
              "      <td>ENSG00000238009</td>\n",
              "    </tr>\n",
              "    <tr>\n",
              "      <th>RP11-34P13.8</th>\n",
              "      <td>ENSG00000239945</td>\n",
              "    </tr>\n",
              "  </tbody>\n",
              "</table>\n",
              "</div>"
            ],
            "text/plain": [
              "                     gene_ids\n",
              "index                        \n",
              "MIR1302-10    ENSG00000243485\n",
              "FAM138A       ENSG00000237613\n",
              "OR4F5         ENSG00000186092\n",
              "RP11-34P13.7  ENSG00000238009\n",
              "RP11-34P13.8  ENSG00000239945"
            ]
          },
          "metadata": {
            "tags": []
          },
          "execution_count": 7
        }
      ]
    },
    {
      "cell_type": "markdown",
      "metadata": {
        "colab_type": "text",
        "id": "1mhNtRfhxX1_"
      },
      "source": [
        "### PBMC5k\n",
        "\n",
        "As another example, let's download a dataset from 10x Genomics. This data was obtained from a CITE-seq experiment, so it also contains protein count data."
      ]
    },
    {
      "cell_type": "code",
      "metadata": {
        "colab_type": "code",
        "id": "22rXIMVgxVVy",
        "colab": {
          "base_uri": "https://localhost:8080/",
          "height": 204
        },
        "outputId": "e1257c78-2104-4385-c3d8-95a6bb41c526"
      },
      "source": [
        "!wget https://cf.10xgenomics.com/samples/cell-exp/3.0.2/5k_pbmc_protein_v3/5k_pbmc_protein_v3_filtered_feature_bc_matrix.h5"
      ],
      "execution_count": null,
      "outputs": [
        {
          "output_type": "stream",
          "text": [
            "--2020-09-17 23:04:32--  https://cf.10xgenomics.com/samples/cell-exp/3.0.2/5k_pbmc_protein_v3/5k_pbmc_protein_v3_filtered_feature_bc_matrix.h5\n",
            "Resolving cf.10xgenomics.com (cf.10xgenomics.com)... 104.18.0.173, 104.18.1.173, 2606:4700::6812:1ad, ...\n",
            "Connecting to cf.10xgenomics.com (cf.10xgenomics.com)|104.18.0.173|:443... connected.\n",
            "HTTP request sent, awaiting response... 200 OK\n",
            "Length: 17129253 (16M) [binary/octet-stream]\n",
            "Saving to: ‘5k_pbmc_protein_v3_filtered_feature_bc_matrix.h5’\n",
            "\n",
            "5k_pbmc_protein_v3_ 100%[===================>]  16.33M  8.42MB/s    in 1.9s    \n",
            "\n",
            "2020-09-17 23:04:35 (8.42 MB/s) - ‘5k_pbmc_protein_v3_filtered_feature_bc_matrix.h5’ saved [17129253/17129253]\n",
            "\n"
          ],
          "name": "stdout"
        }
      ]
    },
    {
      "cell_type": "code",
      "metadata": {
        "colab_type": "code",
        "id": "TypCa4tExtyp",
        "colab": {
          "base_uri": "https://localhost:8080/",
          "height": 34
        },
        "outputId": "08f43df0-9d8c-41f9-dbd6-8e48fa66ff39"
      },
      "source": [
        "pbmc5k = sc.read_10x_h5(\n",
        "    \"5k_pbmc_protein_v3_filtered_feature_bc_matrix.h5\", \n",
        "    gex_only=False\n",
        ")"
      ],
      "execution_count": null,
      "outputs": [
        {
          "output_type": "stream",
          "text": [
            "Variable names are not unique. To make them unique, call `.var_names_make_unique`.\n"
          ],
          "name": "stderr"
        }
      ]
    },
    {
      "cell_type": "markdown",
      "metadata": {
        "colab_type": "text",
        "id": "Yg4KB0idx-9z"
      },
      "source": [
        "It's often helpful to give the gene names unique names."
      ]
    },
    {
      "cell_type": "code",
      "metadata": {
        "colab_type": "code",
        "id": "fK451tYtx-cH",
        "colab": {}
      },
      "source": [
        "pbmc5k.var_names_make_unique()"
      ],
      "execution_count": null,
      "outputs": []
    },
    {
      "cell_type": "markdown",
      "metadata": {
        "colab_type": "text",
        "id": "43BWkucQye4C"
      },
      "source": [
        "We can see that `adata.X` contains the concatenated gene and protein expression data."
      ]
    },
    {
      "cell_type": "code",
      "metadata": {
        "colab_type": "code",
        "id": "QsmoVmGmyF8T",
        "colab": {
          "base_uri": "https://localhost:8080/",
          "height": 34
        },
        "outputId": "167932de-a08f-4f85-d15b-55661cc2b63e"
      },
      "source": [
        "pbmc5k.var.feature_types.astype(\"category\").cat.categories"
      ],
      "execution_count": null,
      "outputs": [
        {
          "output_type": "execute_result",
          "data": {
            "text/plain": [
              "Index(['Antibody Capture', 'Gene Expression'], dtype='object')"
            ]
          },
          "metadata": {
            "tags": []
          },
          "execution_count": 11
        }
      ]
    },
    {
      "cell_type": "markdown",
      "metadata": {
        "colab_type": "text",
        "id": "oOYhcGtOyFHP"
      },
      "source": [
        "We can use scvi-tools to organize this object, which places the protein expression in `adata.obms[\"protein_expression]`."
      ]
    },
    {
      "cell_type": "code",
      "metadata": {
        "colab_type": "code",
        "id": "fmjHhbY2yEYT",
        "colab": {}
      },
      "source": [
        "scvi.data.organize_cite_seq_10x(pbmc5k)"
      ],
      "execution_count": null,
      "outputs": []
    },
    {
      "cell_type": "code",
      "metadata": {
        "colab_type": "code",
        "id": "GhoSe7nayxbJ",
        "colab": {
          "base_uri": "https://localhost:8080/",
          "height": 68
        },
        "outputId": "b525dca6-e0ff-4fee-b13e-416d1a54e1a5"
      },
      "source": [
        "pbmc5k"
      ],
      "execution_count": null,
      "outputs": [
        {
          "output_type": "execute_result",
          "data": {
            "text/plain": [
              "AnnData object with n_obs × n_vars = 5247 × 33538\n",
              "    var: 'gene_ids', 'feature_types', 'genome'\n",
              "    obsm: 'protein_expression'"
            ]
          },
          "metadata": {
            "tags": []
          },
          "execution_count": 13
        }
      ]
    },
    {
      "cell_type": "markdown",
      "metadata": {
        "colab_type": "text",
        "id": "VItecTR9zL7w"
      },
      "source": [
        "### Concatenate the datasets"
      ]
    },
    {
      "cell_type": "code",
      "metadata": {
        "colab_type": "code",
        "id": "iX6wZkSYzKH-",
        "colab": {}
      },
      "source": [
        "adata = pbmc5k.concatenate(pbmc3k)"
      ],
      "execution_count": null,
      "outputs": []
    },
    {
      "cell_type": "markdown",
      "metadata": {
        "colab_type": "text",
        "id": "EQdWs4BPz3E2"
      },
      "source": [
        "Notice that the resulting AnnData has a batch key in `.obs`."
      ]
    },
    {
      "cell_type": "code",
      "metadata": {
        "colab_type": "code",
        "id": "iIhwaX1az1rB",
        "colab": {
          "base_uri": "https://localhost:8080/",
          "height": 204
        },
        "outputId": "99609255-1d5e-44a2-b08e-6e69ca74f179"
      },
      "source": [
        "adata.obs.head()"
      ],
      "execution_count": null,
      "outputs": [
        {
          "output_type": "execute_result",
          "data": {
            "text/html": [
              "<div>\n",
              "<style scoped>\n",
              "    .dataframe tbody tr th:only-of-type {\n",
              "        vertical-align: middle;\n",
              "    }\n",
              "\n",
              "    .dataframe tbody tr th {\n",
              "        vertical-align: top;\n",
              "    }\n",
              "\n",
              "    .dataframe thead th {\n",
              "        text-align: right;\n",
              "    }\n",
              "</style>\n",
              "<table border=\"1\" class=\"dataframe\">\n",
              "  <thead>\n",
              "    <tr style=\"text-align: right;\">\n",
              "      <th></th>\n",
              "      <th>batch</th>\n",
              "    </tr>\n",
              "  </thead>\n",
              "  <tbody>\n",
              "    <tr>\n",
              "      <th>AAACCCAAGAGACAAG-1-0</th>\n",
              "      <td>0</td>\n",
              "    </tr>\n",
              "    <tr>\n",
              "      <th>AAACCCAAGGCCTAGA-1-0</th>\n",
              "      <td>0</td>\n",
              "    </tr>\n",
              "    <tr>\n",
              "      <th>AAACCCAGTCGTGCCA-1-0</th>\n",
              "      <td>0</td>\n",
              "    </tr>\n",
              "    <tr>\n",
              "      <th>AAACCCATCGTGCATA-1-0</th>\n",
              "      <td>0</td>\n",
              "    </tr>\n",
              "    <tr>\n",
              "      <th>AAACGAAAGACAAGCC-1-0</th>\n",
              "      <td>0</td>\n",
              "    </tr>\n",
              "  </tbody>\n",
              "</table>\n",
              "</div>"
            ],
            "text/plain": [
              "                     batch\n",
              "AAACCCAAGAGACAAG-1-0     0\n",
              "AAACCCAAGGCCTAGA-1-0     0\n",
              "AAACCCAGTCGTGCCA-1-0     0\n",
              "AAACCCATCGTGCATA-1-0     0\n",
              "AAACGAAAGACAAGCC-1-0     0"
            ]
          },
          "metadata": {
            "tags": []
          },
          "execution_count": 15
        }
      ]
    },
    {
      "cell_type": "markdown",
      "metadata": {
        "colab_type": "text",
        "id": "TH0sTU2j0gM0"
      },
      "source": [
        "## Preprocessing the data\n",
        "\n",
        "It is common to remove outliers, and even perform feature selection before model fitting. We prefer the [Scanpy preprocessing module](https://scanpy.readthedocs.io/en/stable/api/index.html#module-scanpy.pp) at this stage."
      ]
    },
    {
      "cell_type": "code",
      "metadata": {
        "colab_type": "code",
        "id": "eUN2B0pm0iah",
        "colab": {}
      },
      "source": [
        "sc.pp.filter_genes(adata, min_counts=3)\n",
        "sc.pp.filter_cells(adata, min_counts=3)"
      ],
      "execution_count": null,
      "outputs": []
    },
    {
      "cell_type": "markdown",
      "metadata": {
        "colab_type": "text",
        "id": "AlMB0Tq601IQ"
      },
      "source": [
        "As it is popular to use normalize the data for many methods, we can use Scanpy for this; however, it's important to keep the count information intact for scvi-tools models."
      ]
    },
    {
      "cell_type": "code",
      "metadata": {
        "colab_type": "code",
        "id": "lwdhWVBe00mW",
        "colab": {}
      },
      "source": [
        "adata.layers[\"counts\"] = adata.X.copy()"
      ],
      "execution_count": null,
      "outputs": []
    },
    {
      "cell_type": "markdown",
      "metadata": {
        "colab_type": "text",
        "id": "4X9Ruf2D1HGR"
      },
      "source": [
        "Now we can proceed with common normalization methods."
      ]
    },
    {
      "cell_type": "code",
      "metadata": {
        "colab_type": "code",
        "id": "T81mge-w1KHF",
        "colab": {}
      },
      "source": [
        "sc.pp.normalize_total(adata, target_sum=10e4)\n",
        "sc.pp.log1p(adata)"
      ],
      "execution_count": null,
      "outputs": []
    },
    {
      "cell_type": "markdown",
      "metadata": {
        "colab_type": "text",
        "id": "abt2SyCv1Rk5"
      },
      "source": [
        "We can store the normalized values in `.raw` to keep them safe in the event the anndata gets subsetted feature-wise."
      ]
    },
    {
      "cell_type": "code",
      "metadata": {
        "colab_type": "code",
        "id": "ZbwQTY_h1QT2",
        "colab": {}
      },
      "source": [
        "adata.raw = adata"
      ],
      "execution_count": null,
      "outputs": []
    },
    {
      "cell_type": "markdown",
      "metadata": {
        "colab_type": "text",
        "id": "lygvBJwWxSqk"
      },
      "source": [
        "## Register the data with scvi-tools\n",
        "\n",
        "Now that we have an AnnData object, we need to alert scvi-tools of all the interesting data in our object. For example, now that we have batches in our AnnData, we can alert the models that we'd like to perform batch correction. Also, because we have the count data in a layer, we can use the `layer` argument."
      ]
    },
    {
      "cell_type": "markdown",
      "metadata": {
        "colab_type": "text",
        "id": "7ivqMBFZ1ren"
      },
      "source": [
        "### Basic case"
      ]
    },
    {
      "cell_type": "code",
      "metadata": {
        "colab_type": "code",
        "id": "V8eKOa4Uy1WP",
        "colab": {
          "base_uri": "https://localhost:8080/",
          "height": 153
        },
        "outputId": "a94e3f4a-090f-4ac1-a76c-423322bba880"
      },
      "source": [
        "scvi.data.setup_anndata(adata, layer=\"counts\", batch_key=\"batch\")"
      ],
      "execution_count": null,
      "outputs": [
        {
          "output_type": "stream",
          "text": [
            "\u001b[34mINFO\u001b[0m      Using batches from adata.obs\u001b[1m[\u001b[0m\u001b[32m\"batch\"\u001b[0m\u001b[1m]\u001b[0m                                 \n",
            "\u001b[34mINFO\u001b[0m      No label_key inputted, assuming all cells have same label             \n",
            "\u001b[34mINFO\u001b[0m      Using data from adata.layers\u001b[1m[\u001b[0m\u001b[32m\"counts\"\u001b[0m\u001b[1m]\u001b[0m                                \n",
            "\u001b[34mINFO\u001b[0m      Computing library size prior per batch                                \n",
            "\u001b[34mINFO\u001b[0m      Successfully registered anndata object containing \u001b[1;34m7947\u001b[0m cells, \u001b[1;34m14309\u001b[0m   \n",
            "          genes, \u001b[1;34m2\u001b[0m batches, \u001b[1;34m1\u001b[0m labels, and \u001b[1;34m0\u001b[0m proteins. Also registered \u001b[1;34m0\u001b[0m extra   \n",
            "          categorical covariates and \u001b[1;34m0\u001b[0m extra continuous covariates.             \n",
            "\u001b[34mINFO\u001b[0m      Please do not further modify adata until model is trained.            \n"
          ],
          "name": "stdout"
        }
      ]
    },
    {
      "cell_type": "markdown",
      "metadata": {
        "colab_type": "text",
        "id": "pmIEOmbD0E8T"
      },
      "source": [
        "Notice the info messages notify us that batches were detected in the data. Just to demonstrate what happens if we don't include this option:"
      ]
    },
    {
      "cell_type": "code",
      "metadata": {
        "colab_type": "code",
        "id": "C3ZWlowC0D5V",
        "colab": {
          "base_uri": "https://localhost:8080/",
          "height": 153
        },
        "outputId": "ea516db9-ee3c-496b-cda0-c1b38acaef6b"
      },
      "source": [
        "scvi.data.setup_anndata(adata, layer=\"counts\")"
      ],
      "execution_count": null,
      "outputs": [
        {
          "output_type": "stream",
          "text": [
            "\u001b[34mINFO\u001b[0m      No batch_key inputted, assuming all cells are same batch              \n",
            "\u001b[34mINFO\u001b[0m      No label_key inputted, assuming all cells have same label             \n",
            "\u001b[34mINFO\u001b[0m      Using data from adata.layers\u001b[1m[\u001b[0m\u001b[32m\"counts\"\u001b[0m\u001b[1m]\u001b[0m                                \n",
            "\u001b[34mINFO\u001b[0m      Computing library size prior per batch                                \n",
            "\u001b[34mINFO\u001b[0m      Successfully registered anndata object containing \u001b[1;34m7947\u001b[0m cells, \u001b[1;34m14309\u001b[0m   \n",
            "          genes, \u001b[1;34m1\u001b[0m batches, \u001b[1;34m1\u001b[0m labels, and \u001b[1;34m0\u001b[0m proteins. Also registered \u001b[1;34m0\u001b[0m extra   \n",
            "          categorical covariates and \u001b[1;34m0\u001b[0m extra continuous covariates.             \n",
            "\u001b[34mINFO\u001b[0m      Please do not further modify adata until model is trained.            \n"
          ],
          "name": "stdout"
        }
      ]
    },
    {
      "cell_type": "markdown",
      "metadata": {
        "colab_type": "text",
        "id": "XKd16FQX0PXa"
      },
      "source": [
        "Now integration-based tasks can no longer be performed in subsequent models because there is no knowledge of such information."
      ]
    },
    {
      "cell_type": "markdown",
      "metadata": {
        "colab_type": "text",
        "id": "BVIcVMz41sxi"
      },
      "source": [
        "### CITE-seq case"
      ]
    },
    {
      "cell_type": "markdown",
      "metadata": {
        "colab_type": "text",
        "id": "tBrrUMyu104c"
      },
      "source": [
        "As PBMC5k is a CITE-seq dataset, we can use scvi-tools to register the protein expression. Note that totalVI is the only current model that uses the protein expression. The usage of registered items is model specific. As another example, registering the labels in the AnnData object will not affect totalVI or scVI, but is necessary to run scANVI.\n",
        "\n",
        "We have not preprocessed the `pbmc5k` object, which we do recommend. We show how to run `setup_anndata` in this case for illustrative purposes."
      ]
    },
    {
      "cell_type": "code",
      "metadata": {
        "colab_type": "code",
        "id": "i7REZQil1o1u",
        "colab": {
          "base_uri": "https://localhost:8080/",
          "height": 187
        },
        "outputId": "37361566-3111-47a0-8013-96f53def0644"
      },
      "source": [
        "scvi.data.setup_anndata(pbmc5k, protein_expression_obsm_key=\"protein_expression\")"
      ],
      "execution_count": null,
      "outputs": [
        {
          "output_type": "stream",
          "text": [
            "\u001b[34mINFO\u001b[0m      No batch_key inputted, assuming all cells are same batch              \n",
            "\u001b[34mINFO\u001b[0m      No label_key inputted, assuming all cells have same label             \n",
            "\u001b[34mINFO\u001b[0m      Using data from adata.X                                               \n",
            "\u001b[34mINFO\u001b[0m      Computing library size prior per batch                                \n",
            "\u001b[34mINFO\u001b[0m      Using protein expression from adata.obsm\u001b[1m[\u001b[0m\u001b[32m'protein_expression'\u001b[0m\u001b[1m]\u001b[0m        \n",
            "\u001b[34mINFO\u001b[0m      Using protein names from columns of adata.obsm\u001b[1m[\u001b[0m\u001b[32m'protein_expression'\u001b[0m\u001b[1m]\u001b[0m  \n",
            "\u001b[34mINFO\u001b[0m      Successfully registered anndata object containing \u001b[1;34m5247\u001b[0m cells, \u001b[1;34m33538\u001b[0m   \n",
            "          genes, \u001b[1;34m1\u001b[0m batches, \u001b[1;34m1\u001b[0m labels, and \u001b[1;34m32\u001b[0m proteins. Also registered \u001b[1;34m0\u001b[0m extra  \n",
            "          categorical covariates and \u001b[1;34m0\u001b[0m extra continuous covariates.             \n",
            "\u001b[34mINFO\u001b[0m      Please do not further modify adata until model is trained.            \n"
          ],
          "name": "stdout"
        }
      ]
    },
    {
      "cell_type": "markdown",
      "metadata": {
        "colab_type": "text",
        "id": "_KQVSyVR3Dk_"
      },
      "source": [
        "<div class=\"alert alert-warning\">\n",
        "\n",
        "Warning\n",
        "\n",
        "After `setup_anndata` has been run, the adata object should not be modified. In other words, the very next step in the workflow is to initialize and train the model of interest (e.g., scVI, totalVI). If you do modify the adata, it's ok, just run `setup_anndata` again -- and then reinitialize the model.\n",
        "\n",
        "</div>"
      ]
    },
    {
      "cell_type": "code",
      "metadata": {
        "id": "dBEqt8xzSovi",
        "colab_type": "code",
        "colab": {}
      },
      "source": [
        ""
      ],
      "execution_count": null,
      "outputs": []
    }
  ]
}