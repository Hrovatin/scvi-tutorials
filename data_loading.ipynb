{
 "cells": [
  {
   "cell_type": "markdown",
   "metadata": {
    "colab_type": "text",
    "id": "DlN1gzqNsDYY"
   },
   "source": [
    "# Data loading and preparation"
   ]
  },
  {
   "cell_type": "markdown",
   "metadata": {
    "colab_type": "text",
    "id": "WJ4glUc_NN9W"
   },
   "source": [
    "Here we walk through the necessary steps to get your data into ready for scvi-tools."
   ]
  },
  {
   "cell_type": "markdown",
   "metadata": {
    "colab_type": "text",
    "id": "t8cyduboZhPK"
   },
   "source": [
    "[![Open In Colab](https://colab.research.google.com/assets/colab-badge.svg)](https://colab.research.google.com/github/yoseflab/scvi_tutorials/blob/master/data_loading.ipynb)"
   ]
  },
  {
   "cell_type": "code",
   "execution_count": 1,
   "metadata": {
    "colab": {
     "base_uri": "https://localhost:8080/",
     "height": 330
    },
    "colab_type": "code",
    "id": "N3oQkal_sLcr",
    "outputId": "5042897b-da7c-4737-aab4-d4e3523b3f04"
   },
   "outputs": [
    {
     "name": "stdout",
     "output_type": "stream",
     "text": [
      "\u001b[K     |████████████████████████████████| 112kB 5.2MB/s \n",
      "\u001b[K     |████████████████████████████████| 122kB 18.9MB/s \n",
      "\u001b[K     |████████████████████████████████| 8.7MB 4.7MB/s \n",
      "\u001b[K     |████████████████████████████████| 4.3MB 39.4MB/s \n",
      "\u001b[K     |████████████████████████████████| 153kB 49.5MB/s \n",
      "\u001b[K     |████████████████████████████████| 2.2MB 38.4MB/s \n",
      "\u001b[K     |████████████████████████████████| 2.4MB 46.1MB/s \n",
      "\u001b[K     |████████████████████████████████| 3.2MB 41.8MB/s \n",
      "\u001b[K     |████████████████████████████████| 51kB 3.8MB/s \n",
      "\u001b[K     |████████████████████████████████| 7.7MB 45.4MB/s \n",
      "\u001b[K     |████████████████████████████████| 51kB 5.9MB/s \n",
      "\u001b[K     |████████████████████████████████| 112kB 46.9MB/s \n",
      "\u001b[K     |████████████████████████████████| 61kB 6.9MB/s \n",
      "\u001b[K     |████████████████████████████████| 51kB 6.2MB/s \n",
      "\u001b[?25h  Building wheel for scvi (setup.py) ... \u001b[?25l\u001b[?25hdone\n",
      "  Building wheel for loompy (setup.py) ... \u001b[?25l\u001b[?25hdone\n",
      "  Building wheel for numpy-groupies (setup.py) ... \u001b[?25l\u001b[?25hdone\n",
      "  Building wheel for sinfo (setup.py) ... \u001b[?25l\u001b[?25hdone\n"
     ]
    }
   ],
   "source": [
    "import sys\n",
    "IN_COLAB = \"google.colab\" in sys.modules\n",
    "\n",
    "if IN_COLAB:\n",
    "    !pip install --quiet git+https://github.com/yoseflab/scvi@rich_progress#egg=scvi[notebooks]\n",
    "\n"
   ]
  },
  {
   "cell_type": "code",
   "execution_count": 2,
   "metadata": {
    "colab": {},
    "colab_type": "code",
    "id": "VpgMddaEr-lS"
   },
   "outputs": [],
   "source": [
    "import scvi\n",
    "import scanpy as sc"
   ]
  },
  {
   "cell_type": "markdown",
   "metadata": {
    "colab_type": "text",
    "id": "80gW_yfkuzB9"
   },
   "source": [
    "## Loading data\n",
    "\n",
    "scvi-tools supports the [AnnData](https://anndata.readthedocs.io/en/latest/) data format, which also underlies [Scanpy](https://scanpy.readthedocs.io/en/stable/). AnnData is quite similar to other popular single cell objects like that of [Seurat](https://github.com/satijalab/seurat/wiki) and [SingleCellExperiment](https://bioconductor.org/packages/release/bioc/vignettes/SingleCellExperiment/inst/doc/intro.html). In particular, it allows cell-level and feature-level metadata to coexist in the same data structure as the molecular counts.\n",
    "\n",
    "It's also now possible to automatically convert these R-based objects to AnnData within a Jupyter notebook. See the following [tutorial](https://github.com/LuckyMD/Code_snippets/blob/master/Seurat_to_anndata.ipynb) for more information.\n",
    "\n",
    "scvi-tools has a number of convenience methods for loading data from `.csv`, `.loom`, and `.h5ad` formats. To load ouputs from Cell Ranger, please use Scanpy's [reading functionality](https://scanpy.readthedocs.io/en/stable/api/index.html#reading).\n",
    "\n",
    "Let us now download an AnnData object (`.h5ad` format) and load it using scvi-tools."
   ]
  },
  {
   "cell_type": "markdown",
   "metadata": {
    "colab_type": "text",
    "id": "5-_VxGJ9xWaW"
   },
   "source": [
    "### PBMC3k"
   ]
  },
  {
   "cell_type": "code",
   "execution_count": 3,
   "metadata": {
    "colab": {
     "base_uri": "https://localhost:8080/",
     "height": 208
    },
    "colab_type": "code",
    "id": "obl1PpsLu2EX",
    "outputId": "2ba868e1-2ecf-453c-ab24-08f5d3092391"
   },
   "outputs": [
    {
     "name": "stdout",
     "output_type": "stream",
     "text": [
      "--2020-09-14 16:17:03--  http://falexwolf.de/data/pbmc3k_raw.h5ad\n",
      "Resolving falexwolf.de (falexwolf.de)... 85.13.135.70\n",
      "Connecting to falexwolf.de (falexwolf.de)|85.13.135.70|:80... connected.\n",
      "HTTP request sent, awaiting response... 200 OK\n",
      "Length: 5855727 (5.6M)\n",
      "Saving to: ‘pbmc3k_raw.h5ad’\n",
      "\n",
      "pbmc3k_raw.h5ad     100%[===================>]   5.58M  3.41MB/s    in 1.6s    \n",
      "\n",
      "2020-09-14 16:17:05 (3.41 MB/s) - ‘pbmc3k_raw.h5ad’ saved [5855727/5855727]\n",
      "\n"
     ]
    }
   ],
   "source": [
    "!wget 'http://falexwolf.de/data/pbmc3k_raw.h5ad'"
   ]
  },
  {
   "cell_type": "code",
   "execution_count": 4,
   "metadata": {
    "colab": {},
    "colab_type": "code",
    "id": "UX4nKs0vwV3S"
   },
   "outputs": [],
   "source": [
    "pbmc3k = scvi.dataset.read_h5ad(\"pbmc3k_raw.h5ad\")"
   ]
  },
  {
   "cell_type": "code",
   "execution_count": 5,
   "metadata": {
    "colab": {
     "base_uri": "https://localhost:8080/",
     "height": 52
    },
    "colab_type": "code",
    "id": "yM_lXgv4xAvv",
    "outputId": "feebd59a-7db5-47c7-8b6d-68dcfe9b36ee"
   },
   "outputs": [
    {
     "data": {
      "text/plain": [
       "AnnData object with n_obs × n_vars = 2700 × 32738\n",
       "    var: 'gene_ids'"
      ]
     },
     "execution_count": 5,
     "metadata": {
      "tags": []
     },
     "output_type": "execute_result"
    }
   ],
   "source": [
    "pbmc3k"
   ]
  },
  {
   "cell_type": "markdown",
   "metadata": {
    "colab_type": "text",
    "id": "Gw44EIlExDUc"
   },
   "source": [
    "This is a fairly simple object, it just contains the count data and the ENSEMBL ids for the genes."
   ]
  },
  {
   "cell_type": "code",
   "execution_count": 6,
   "metadata": {
    "colab": {
     "base_uri": "https://localhost:8080/",
     "height": 238
    },
    "colab_type": "code",
    "id": "JmqvrG8AxCrO",
    "outputId": "1ea571ea-8a75-4099-eb72-d939b4b4931f"
   },
   "outputs": [
    {
     "data": {
      "text/html": [
       "<div>\n",
       "<style scoped>\n",
       "    .dataframe tbody tr th:only-of-type {\n",
       "        vertical-align: middle;\n",
       "    }\n",
       "\n",
       "    .dataframe tbody tr th {\n",
       "        vertical-align: top;\n",
       "    }\n",
       "\n",
       "    .dataframe thead th {\n",
       "        text-align: right;\n",
       "    }\n",
       "</style>\n",
       "<table border=\"1\" class=\"dataframe\">\n",
       "  <thead>\n",
       "    <tr style=\"text-align: right;\">\n",
       "      <th></th>\n",
       "      <th>gene_ids</th>\n",
       "    </tr>\n",
       "    <tr>\n",
       "      <th>index</th>\n",
       "      <th></th>\n",
       "    </tr>\n",
       "  </thead>\n",
       "  <tbody>\n",
       "    <tr>\n",
       "      <th>MIR1302-10</th>\n",
       "      <td>ENSG00000243485</td>\n",
       "    </tr>\n",
       "    <tr>\n",
       "      <th>FAM138A</th>\n",
       "      <td>ENSG00000237613</td>\n",
       "    </tr>\n",
       "    <tr>\n",
       "      <th>OR4F5</th>\n",
       "      <td>ENSG00000186092</td>\n",
       "    </tr>\n",
       "    <tr>\n",
       "      <th>RP11-34P13.7</th>\n",
       "      <td>ENSG00000238009</td>\n",
       "    </tr>\n",
       "    <tr>\n",
       "      <th>RP11-34P13.8</th>\n",
       "      <td>ENSG00000239945</td>\n",
       "    </tr>\n",
       "  </tbody>\n",
       "</table>\n",
       "</div>"
      ],
      "text/plain": [
       "                     gene_ids\n",
       "index                        \n",
       "MIR1302-10    ENSG00000243485\n",
       "FAM138A       ENSG00000237613\n",
       "OR4F5         ENSG00000186092\n",
       "RP11-34P13.7  ENSG00000238009\n",
       "RP11-34P13.8  ENSG00000239945"
      ]
     },
     "execution_count": 6,
     "metadata": {
      "tags": []
     },
     "output_type": "execute_result"
    }
   ],
   "source": [
    "pbmc3k.var.head()"
   ]
  },
  {
   "cell_type": "markdown",
   "metadata": {
    "colab_type": "text",
    "id": "1mhNtRfhxX1_"
   },
   "source": [
    "### PBMC5k\n",
    "\n",
    "As another example, let's download a dataset from 10x Genomics. This data was obtained from a CITE-seq experiment, so it also contains protein count data."
   ]
  },
  {
   "cell_type": "code",
   "execution_count": 7,
   "metadata": {
    "colab": {
     "base_uri": "https://localhost:8080/",
     "height": 208
    },
    "colab_type": "code",
    "id": "22rXIMVgxVVy",
    "outputId": "8933d042-c738-4bbf-e608-fb5694719a75"
   },
   "outputs": [
    {
     "name": "stdout",
     "output_type": "stream",
     "text": [
      "--2020-09-14 16:17:06--  https://cf.10xgenomics.com/samples/cell-exp/3.0.2/5k_pbmc_protein_v3/5k_pbmc_protein_v3_filtered_feature_bc_matrix.h5\n",
      "Resolving cf.10xgenomics.com (cf.10xgenomics.com)... 104.18.1.173, 104.18.0.173, 2606:4700::6812:1ad, ...\n",
      "Connecting to cf.10xgenomics.com (cf.10xgenomics.com)|104.18.1.173|:443... connected.\n",
      "HTTP request sent, awaiting response... 200 OK\n",
      "Length: 17129253 (16M) [binary/octet-stream]\n",
      "Saving to: ‘5k_pbmc_protein_v3_filtered_feature_bc_matrix.h5’\n",
      "\n",
      "5k_pbmc_protein_v3_ 100%[===================>]  16.33M  44.8MB/s    in 0.4s    \n",
      "\n",
      "2020-09-14 16:17:06 (44.8 MB/s) - ‘5k_pbmc_protein_v3_filtered_feature_bc_matrix.h5’ saved [17129253/17129253]\n",
      "\n"
     ]
    }
   ],
   "source": [
    "!wget https://cf.10xgenomics.com/samples/cell-exp/3.0.2/5k_pbmc_protein_v3/5k_pbmc_protein_v3_filtered_feature_bc_matrix.h5"
   ]
  },
  {
   "cell_type": "code",
   "execution_count": 8,
   "metadata": {
    "colab": {
     "base_uri": "https://localhost:8080/",
     "height": 34
    },
    "colab_type": "code",
    "id": "TypCa4tExtyp",
    "outputId": "fef6da85-70b4-4e41-f369-15f9ffcdd7d2"
   },
   "outputs": [
    {
     "name": "stderr",
     "output_type": "stream",
     "text": [
      "Variable names are not unique. To make them unique, call `.var_names_make_unique`.\n"
     ]
    }
   ],
   "source": [
    "pbmc5k = sc.read_10x_h5(\n",
    "    \"5k_pbmc_protein_v3_filtered_feature_bc_matrix.h5\", \n",
    "    gex_only=False\n",
    ")"
   ]
  },
  {
   "cell_type": "markdown",
   "metadata": {
    "colab_type": "text",
    "id": "Yg4KB0idx-9z"
   },
   "source": [
    "It's often helpful to give the gene names unique names."
   ]
  },
  {
   "cell_type": "code",
   "execution_count": 9,
   "metadata": {
    "colab": {},
    "colab_type": "code",
    "id": "fK451tYtx-cH"
   },
   "outputs": [],
   "source": [
    "pbmc5k.var_names_make_unique()"
   ]
  },
  {
   "cell_type": "markdown",
   "metadata": {
    "colab_type": "text",
    "id": "43BWkucQye4C"
   },
   "source": [
    "We can see that `adata.X` contains the concatenated gene and protein expression data."
   ]
  },
  {
   "cell_type": "code",
   "execution_count": 10,
   "metadata": {
    "colab": {
     "base_uri": "https://localhost:8080/",
     "height": 34
    },
    "colab_type": "code",
    "id": "QsmoVmGmyF8T",
    "outputId": "cde87d41-8b18-4d50-bfc2-cb65f016c003"
   },
   "outputs": [
    {
     "data": {
      "text/plain": [
       "Index(['Antibody Capture', 'Gene Expression'], dtype='object')"
      ]
     },
     "execution_count": 10,
     "metadata": {
      "tags": []
     },
     "output_type": "execute_result"
    }
   ],
   "source": [
    "pbmc5k.var.feature_types.astype(\"category\").cat.categories"
   ]
  },
  {
   "cell_type": "markdown",
   "metadata": {
    "colab_type": "text",
    "id": "oOYhcGtOyFHP"
   },
   "source": [
    "We can use scvi-tools to organize this object, which places the protein expression in `adata.obms[\"protein_expression]`."
   ]
  },
  {
   "cell_type": "code",
   "execution_count": 11,
   "metadata": {
    "colab": {},
    "colab_type": "code",
    "id": "fmjHhbY2yEYT"
   },
   "outputs": [],
   "source": [
    "scvi.dataset.organize_cite_seq_10x(pbmc5k)"
   ]
  },
  {
   "cell_type": "code",
   "execution_count": 12,
   "metadata": {
    "colab": {
     "base_uri": "https://localhost:8080/",
     "height": 69
    },
    "colab_type": "code",
    "id": "GhoSe7nayxbJ",
    "outputId": "03eb97bf-bc29-4538-dfce-0a2918e9384c"
   },
   "outputs": [
    {
     "data": {
      "text/plain": [
       "AnnData object with n_obs × n_vars = 5247 × 33538\n",
       "    var: 'gene_ids', 'feature_types', 'genome'\n",
       "    obsm: 'protein_expression'"
      ]
     },
     "execution_count": 12,
     "metadata": {
      "tags": []
     },
     "output_type": "execute_result"
    }
   ],
   "source": [
    "pbmc5k"
   ]
  },
  {
   "cell_type": "markdown",
   "metadata": {
    "colab_type": "text",
    "id": "VItecTR9zL7w"
   },
   "source": [
    "### Concatenate the datasets"
   ]
  },
  {
   "cell_type": "code",
   "execution_count": 13,
   "metadata": {
    "colab": {},
    "colab_type": "code",
    "id": "iX6wZkSYzKH-"
   },
   "outputs": [],
   "source": [
    "adata = pbmc5k.concatenate(pbmc3k)"
   ]
  },
  {
   "cell_type": "markdown",
   "metadata": {
    "colab_type": "text",
    "id": "EQdWs4BPz3E2"
   },
   "source": [
    "Notice that the resulting AnnData has a batch key in `.obs`."
   ]
  },
  {
   "cell_type": "code",
   "execution_count": 14,
   "metadata": {
    "colab": {
     "base_uri": "https://localhost:8080/",
     "height": 206
    },
    "colab_type": "code",
    "id": "iIhwaX1az1rB",
    "outputId": "1880ddfe-c2f0-4664-91aa-6ce1dda6a743"
   },
   "outputs": [
    {
     "data": {
      "text/html": [
       "<div>\n",
       "<style scoped>\n",
       "    .dataframe tbody tr th:only-of-type {\n",
       "        vertical-align: middle;\n",
       "    }\n",
       "\n",
       "    .dataframe tbody tr th {\n",
       "        vertical-align: top;\n",
       "    }\n",
       "\n",
       "    .dataframe thead th {\n",
       "        text-align: right;\n",
       "    }\n",
       "</style>\n",
       "<table border=\"1\" class=\"dataframe\">\n",
       "  <thead>\n",
       "    <tr style=\"text-align: right;\">\n",
       "      <th></th>\n",
       "      <th>batch</th>\n",
       "    </tr>\n",
       "  </thead>\n",
       "  <tbody>\n",
       "    <tr>\n",
       "      <th>AAACCCAAGAGACAAG-1-0</th>\n",
       "      <td>0</td>\n",
       "    </tr>\n",
       "    <tr>\n",
       "      <th>AAACCCAAGGCCTAGA-1-0</th>\n",
       "      <td>0</td>\n",
       "    </tr>\n",
       "    <tr>\n",
       "      <th>AAACCCAGTCGTGCCA-1-0</th>\n",
       "      <td>0</td>\n",
       "    </tr>\n",
       "    <tr>\n",
       "      <th>AAACCCATCGTGCATA-1-0</th>\n",
       "      <td>0</td>\n",
       "    </tr>\n",
       "    <tr>\n",
       "      <th>AAACGAAAGACAAGCC-1-0</th>\n",
       "      <td>0</td>\n",
       "    </tr>\n",
       "  </tbody>\n",
       "</table>\n",
       "</div>"
      ],
      "text/plain": [
       "                     batch\n",
       "AAACCCAAGAGACAAG-1-0     0\n",
       "AAACCCAAGGCCTAGA-1-0     0\n",
       "AAACCCAGTCGTGCCA-1-0     0\n",
       "AAACCCATCGTGCATA-1-0     0\n",
       "AAACGAAAGACAAGCC-1-0     0"
      ]
     },
     "execution_count": 14,
     "metadata": {
      "tags": []
     },
     "output_type": "execute_result"
    }
   ],
   "source": [
    "adata.obs.head()"
   ]
  },
  {
   "cell_type": "markdown",
   "metadata": {
    "colab_type": "text",
    "id": "TH0sTU2j0gM0"
   },
   "source": [
    "## Preprocessing the data\n",
    "\n",
    "It is common to remove outliers, and even perform feature selection before model fitting. We prefer the [Scanpy preprocessing module](https://scanpy.readthedocs.io/en/stable/api/index.html#module-scanpy.pp) at this stage."
   ]
  },
  {
   "cell_type": "code",
   "execution_count": 15,
   "metadata": {
    "colab": {},
    "colab_type": "code",
    "id": "eUN2B0pm0iah"
   },
   "outputs": [],
   "source": [
    "sc.pp.filter_genes(adata, min_counts=3)\n",
    "sc.pp.filter_cells(adata, min_counts=3)"
   ]
  },
  {
   "cell_type": "markdown",
   "metadata": {
    "colab_type": "text",
    "id": "AlMB0Tq601IQ"
   },
   "source": [
    "As it is popular to use normalize the data for many methods, we can use Scanpy for this; however, it's important to keep the count information intact for scvi-tools models."
   ]
  },
  {
   "cell_type": "code",
   "execution_count": 16,
   "metadata": {
    "colab": {},
    "colab_type": "code",
    "id": "lwdhWVBe00mW"
   },
   "outputs": [],
   "source": [
    "adata.layers[\"counts\"] = adata.X.copy()"
   ]
  },
  {
   "cell_type": "markdown",
   "metadata": {
    "colab_type": "text",
    "id": "4X9Ruf2D1HGR"
   },
   "source": [
    "Now we can proceed with common normalization methods."
   ]
  },
  {
   "cell_type": "code",
   "execution_count": 17,
   "metadata": {
    "colab": {},
    "colab_type": "code",
    "id": "T81mge-w1KHF"
   },
   "outputs": [],
   "source": [
    "sc.pp.normalize_total(adata, target_sum=10e4)\n",
    "sc.pp.log1p(adata)"
   ]
  },
  {
   "cell_type": "markdown",
   "metadata": {
    "colab_type": "text",
    "id": "abt2SyCv1Rk5"
   },
   "source": [
    "We can store the normalized values in `.raw` to keep them safe in the event the anndata gets subsetted feature-wise."
   ]
  },
  {
   "cell_type": "code",
   "execution_count": 18,
   "metadata": {
    "colab": {},
    "colab_type": "code",
    "id": "ZbwQTY_h1QT2"
   },
   "outputs": [],
   "source": [
    "adata.raw = adata"
   ]
  },
  {
   "cell_type": "markdown",
   "metadata": {
    "colab_type": "text",
    "id": "lygvBJwWxSqk"
   },
   "source": [
    "## Register the data with scvi-tools\n",
    "\n",
    "Now that we have an AnnData object, we need to alert scvi-tools of all the interesting data in our object. For example, now that we have batches in our AnnData, we can alert the models that we'd like to perform batch correction. Also, because we have the count data in a layer, we can use the `layer` argument."
   ]
  },
  {
   "cell_type": "markdown",
   "metadata": {
    "colab_type": "text",
    "id": "7ivqMBFZ1ren"
   },
   "source": [
    "### Basic case"
   ]
  },
  {
   "cell_type": "code",
   "execution_count": 19,
   "metadata": {
    "colab": {
     "base_uri": "https://localhost:8080/",
     "height": 156
    },
    "colab_type": "code",
    "id": "V8eKOa4Uy1WP",
    "outputId": "82156d35-f4b1-44e2-ee5b-c0d75ab1eeb3"
   },
   "outputs": [
    {
     "name": "stdout",
     "output_type": "stream",
     "text": [
      "\u001b[34mINFO\u001b[0m      Using batches from adata.obs\u001b[1m[\u001b[0m\u001b[32m\"batch\"\u001b[0m\u001b[1m]\u001b[0m                                 \n",
      "\u001b[34mINFO\u001b[0m      No label_key inputted, assuming all cells have same label             \n",
      "\u001b[34mINFO\u001b[0m      Using data from adata.layers\u001b[1m[\u001b[0m\u001b[32m\"counts\"\u001b[0m\u001b[1m]\u001b[0m                                \n",
      "\u001b[34mINFO\u001b[0m      Computing library size prior per batch                                \n",
      "\u001b[34mINFO\u001b[0m      Successfully registered anndata object containing \u001b[1;34m7947\u001b[0m cells, \u001b[1;34m14309\u001b[0m   \n",
      "          genes, \u001b[1;34m2\u001b[0m batches, \u001b[1;34m1\u001b[0m labels, and \u001b[1;34m0\u001b[0m proteins. Also registered \u001b[1;34m0\u001b[0m extra   \n",
      "          categorical covariates and \u001b[1;34m0\u001b[0m extra continuous covariates.             \n",
      "\u001b[34mINFO\u001b[0m      Please do not further modify adata until model is trained.            \n"
     ]
    }
   ],
   "source": [
    "scvi.dataset.setup_anndata(adata, layer=\"counts\", batch_key=\"batch\")"
   ]
  },
  {
   "cell_type": "markdown",
   "metadata": {
    "colab_type": "text",
    "id": "pmIEOmbD0E8T"
   },
   "source": [
    "Notice the info messages notify us that batches were detected in the data. Just to demonstrate what happens if we don't include this option:"
   ]
  },
  {
   "cell_type": "code",
   "execution_count": 20,
   "metadata": {
    "colab": {
     "base_uri": "https://localhost:8080/",
     "height": 156
    },
    "colab_type": "code",
    "id": "C3ZWlowC0D5V",
    "outputId": "c3e53734-248b-4d74-87b4-9793489597e9"
   },
   "outputs": [
    {
     "name": "stdout",
     "output_type": "stream",
     "text": [
      "\u001b[34mINFO\u001b[0m      No batch_key inputted, assuming all cells are same batch              \n",
      "\u001b[34mINFO\u001b[0m      No label_key inputted, assuming all cells have same label             \n",
      "\u001b[34mINFO\u001b[0m      Using data from adata.layers\u001b[1m[\u001b[0m\u001b[32m\"counts\"\u001b[0m\u001b[1m]\u001b[0m                                \n",
      "\u001b[34mINFO\u001b[0m      Computing library size prior per batch                                \n",
      "\u001b[34mINFO\u001b[0m      Successfully registered anndata object containing \u001b[1;34m7947\u001b[0m cells, \u001b[1;34m14309\u001b[0m   \n",
      "          genes, \u001b[1;34m1\u001b[0m batches, \u001b[1;34m1\u001b[0m labels, and \u001b[1;34m0\u001b[0m proteins. Also registered \u001b[1;34m0\u001b[0m extra   \n",
      "          categorical covariates and \u001b[1;34m0\u001b[0m extra continuous covariates.             \n",
      "\u001b[34mINFO\u001b[0m      Please do not further modify adata until model is trained.            \n"
     ]
    }
   ],
   "source": [
    "scvi.dataset.setup_anndata(adata, layer=\"counts\")"
   ]
  },
  {
   "cell_type": "markdown",
   "metadata": {
    "colab_type": "text",
    "id": "XKd16FQX0PXa"
   },
   "source": [
    "Now integration-based tasks can no longer be performed in subsequent models because there is no knowledge of such information."
   ]
  },
  {
   "cell_type": "markdown",
   "metadata": {
    "colab_type": "text",
    "id": "BVIcVMz41sxi"
   },
   "source": [
    "### CITE-seq case"
   ]
  },
  {
   "cell_type": "markdown",
   "metadata": {
    "colab_type": "text",
    "id": "tBrrUMyu104c"
   },
   "source": [
    "As PBMC5k is a CITE-seq dataset, we can use scvi-tools to register the protein expression. Note that totalVI is the only current model that uses the protein expression. The usage of registered items is model specific. As another example, registering the labels in the AnnData object will not affect totalVI or scVI, but is necessary to run scANVI.\n",
    "\n",
    "We have not preprocessed the `pbmc5k` object, which we do recommend. We show how to run `setup_anndata` in this case for illustrative purposes."
   ]
  },
  {
   "cell_type": "code",
   "execution_count": 21,
   "metadata": {
    "colab": {
     "base_uri": "https://localhost:8080/",
     "height": 191
    },
    "colab_type": "code",
    "id": "i7REZQil1o1u",
    "outputId": "b6e5828c-66ac-4cd3-b6b1-aaa3ec83179e"
   },
   "outputs": [
    {
     "name": "stdout",
     "output_type": "stream",
     "text": [
      "\u001b[34mINFO\u001b[0m      No batch_key inputted, assuming all cells are same batch              \n",
      "\u001b[34mINFO\u001b[0m      No label_key inputted, assuming all cells have same label             \n",
      "\u001b[34mINFO\u001b[0m      Using data from adata.X                                               \n",
      "\u001b[34mINFO\u001b[0m      Computing library size prior per batch                                \n",
      "\u001b[34mINFO\u001b[0m      Using protein expression from adata.obsm\u001b[1m[\u001b[0m\u001b[32m'protein_expression'\u001b[0m\u001b[1m]\u001b[0m        \n",
      "\u001b[34mINFO\u001b[0m      Using protein names from columns of adata.obsm\u001b[1m[\u001b[0m\u001b[32m'protein_expression'\u001b[0m\u001b[1m]\u001b[0m  \n",
      "\u001b[34mINFO\u001b[0m      Successfully registered anndata object containing \u001b[1;34m5247\u001b[0m cells, \u001b[1;34m33538\u001b[0m   \n",
      "          genes, \u001b[1;34m1\u001b[0m batches, \u001b[1;34m1\u001b[0m labels, and \u001b[1;34m32\u001b[0m proteins. Also registered \u001b[1;34m0\u001b[0m extra  \n",
      "          categorical covariates and \u001b[1;34m0\u001b[0m extra continuous covariates.             \n",
      "\u001b[34mINFO\u001b[0m      Please do not further modify adata until model is trained.            \n"
     ]
    }
   ],
   "source": [
    "scvi.dataset.setup_anndata(pbmc5k, protein_expression_obsm_key=\"protein_expression\")"
   ]
  },
  {
   "cell_type": "markdown",
   "metadata": {
    "colab_type": "text",
    "id": "_KQVSyVR3Dk_"
   },
   "source": [
    "<div class=\"alert alert-warning\">\n",
    "\n",
    "Warning\n",
    "\n",
    "After `setup_anndata` has been run, the adata object should not be modified. In other words, the very next step in the workflow is to initialize and train the model of interest (e.g., scVI, totalVI). If you do modify the adata, it's ok, just run `setup_anndata` again -- and then reinitialize the model.\n",
    "\n",
    "</div>"
   ]
  }
 ],
 "metadata": {
  "colab": {
   "collapsed_sections": [],
   "name": "data_loading_new_api.ipynb",
   "provenance": [],
   "toc_visible": true
  },
  "kernelspec": {
   "display_name": "Python 3",
   "language": "python",
   "name": "python3"
  },
  "language_info": {
   "codemirror_mode": {
    "name": "ipython",
    "version": 3
   },
   "file_extension": ".py",
   "mimetype": "text/x-python",
   "name": "python",
   "nbconvert_exporter": "python",
   "pygments_lexer": "ipython3",
   "version": "3.7.3"
  }
 },
 "nbformat": 4,
 "nbformat_minor": 1
}
