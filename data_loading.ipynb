{
  "nbformat": 4,
  "nbformat_minor": 0,
  "metadata": {
    "kernelspec": {
      "display_name": "Python scvi",
      "language": "python",
      "name": "scvi"
    },
    "language_info": {
      "codemirror_mode": {
        "name": "ipython",
        "version": 3
      },
      "file_extension": ".py",
      "mimetype": "text/x-python",
      "name": "python",
      "nbconvert_exporter": "python",
      "pygments_lexer": "ipython3",
      "version": "3.6.10"
    },
    "colab": {
      "name": "data_loading.ipynb",
      "provenance": []
    }
  },
  "cells": [
    {
      "cell_type": "markdown",
      "metadata": {
        "id": "sC--eyuXbTmp",
        "colab_type": "text"
      },
      "source": [
        "# Data Loading Tutorial"
      ]
    },
    {
      "cell_type": "code",
      "metadata": {
        "id": "6Ab1mOgRbTmr",
        "colab_type": "code",
        "colab": {}
      },
      "source": [
        "# Below is code that helps us test the notebooks\n",
        "# when not testing, we make the save_path a directory called data\n",
        "# in the scVI root directory, feel free to move anywhere"
      ],
      "execution_count": 1,
      "outputs": []
    },
    {
      "cell_type": "code",
      "metadata": {
        "id": "xYqQB0xNbWoq",
        "colab_type": "code",
        "colab": {}
      },
      "source": [
        "import sys\n",
        "IN_COLAB = \"google.colab\" in sys.modules\n",
        "\n",
        "def allow_notebook_for_test():\n",
        "    print(\"Testing the data loading notebook\")\n",
        "\n",
        "show_plot = True\n",
        "test_mode = False\n",
        "save_path = \"data/\"\n",
        "n_epochs = 400\n",
        "\n",
        "# Feel free to move this to any convenient location\n",
        "if not test_mode:\n",
        "    save_path = \"../../data\"\n",
        "\n",
        "if IN_COLAB:\n",
        "    !pip install --quiet git+https://github.com/yoseflab/scvi@dataset_refactor#egg=scvi[notebooks]\n"
      ],
      "execution_count": 2,
      "outputs": []
    },
    {
      "cell_type": "code",
      "metadata": {
        "id": "WOmSOn7_bTm0",
        "colab_type": "code",
        "colab": {}
      },
      "source": [
        "import anndata\n",
        "import numpy as np\n",
        "import scanpy as sc\n",
        "import scvi\n",
        "\n",
        "from scvi.dataset import setup_anndata"
      ],
      "execution_count": 4,
      "outputs": []
    },
    {
      "cell_type": "markdown",
      "metadata": {
        "id": "U0I2bMOVbTm5",
        "colab_type": "text"
      },
      "source": [
        "## Loading Datasets\n",
        "`scvi` supports the `AnnData` file format. \n",
        "\n",
        "This tutorial will go through the following:\n",
        "\n",
        "* TLDR: Quickstart\n",
        "* Setting up your anndata object for `scvi`\n",
        "* Verifying the setup\n",
        "* Advanced explanation of `setup_anndata` and `BioDataset`"
      ]
    },
    {
      "cell_type": "markdown",
      "metadata": {
        "id": "JMzVl6D-bTm6",
        "colab_type": "text"
      },
      "source": [
        "## TLDR: Quickstart"
      ]
    },
    {
      "cell_type": "code",
      "metadata": {
        "id": "mcbU43njbTm7",
        "colab_type": "code",
        "colab": {
          "base_uri": "https://localhost:8080/",
          "height": 190
        },
        "outputId": "3dc9fb7c-53b7-4859-8717-a3b594a6a53a"
      },
      "source": [
        "# get your favorite anndata object\n",
        "adata = scvi.dataset.pbmcs_10x_cite_seq(save_path = save_path, run_setup_anndata = False)\n",
        "\n",
        "# run setup_anndata() \n",
        "# REMINDER: run filtering and processing before calling setup_anndata()\n",
        "setup_anndata(adata, #adata should not be a view\n",
        "              batch_key = 'batch', # key is specific to adata\n",
        "              labels_key = None, \n",
        "              layer = None,\n",
        "              protein_expression_obsm_key = 'protein_expression', # only required if using TotalVI\n",
        "              protein_names_uns_key = None,\n",
        "              copy = False)\n",
        "\n",
        "print(adata.uns['scvi_summary_stats']) #double check setup\n",
        "\n",
        "# Train!\n",
        "stats = adata.uns['scvi_summary_stats']\n",
        "vae = scvi.models.VAE(n_input = stats['n_genes'] )\n",
        "trainer = scvi.inference.UnsupervisedTrainer(\n",
        "    vae,\n",
        "    adata,\n",
        "    train_size=0.90,\n",
        "    use_cuda=False,\n",
        "    frequency=5,\n",
        ")\n",
        "trainer.train(n_epochs = 400)\n",
        "\n",
        "#Save and load an already setup anndata without having to setup again!\n",
        "adata.write('my_anndata.h5ad')\n",
        "adata = anndata.read('my_anndata.h5ad')"
      ],
      "execution_count": 5,
      "outputs": [
        {
          "output_type": "stream",
          "text": [
            "[2020-07-22 02:55:26,770] INFO - scvi.dataset._anndata | Using data from adata.X\n",
            "[2020-07-22 02:55:26,771] INFO - scvi.dataset._anndata | Using batches from adata.obs[\"batch\"]\n",
            "[2020-07-22 02:55:26,774] INFO - scvi.dataset._anndata | No label_key inputted, assuming all cells have same label\n",
            "[2020-07-22 02:55:26,780] INFO - scvi.dataset._anndata | Computing library size prior per batch\n",
            "[2020-07-22 02:55:26,924] INFO - scvi.dataset._anndata | Using protein expression from adata.obsm['protein_expression']\n",
            "[2020-07-22 02:55:26,925] INFO - scvi.dataset._anndata | Using protein names from columns of adata.obsm['protein_expression']\n",
            "[2020-07-22 02:55:26,927] INFO - scvi.dataset._anndata | Successfully registered anndata object containing 10849 cells, 15792 genes, and 2 batches \n",
            "Registered keys:['X', 'batch_indices', 'local_l_mean', 'local_l_var', 'labels', 'protein_expression']\n",
            "{'n_batch': 2, 'n_cells': 10849, 'n_genes': 15792, 'n_labels': 1, 'n_proteins': 14, 'protein_names': ['CD3_TotalSeqB', 'CD4_TotalSeqB', 'CD8a_TotalSeqB', 'CD14_TotalSeqB', 'CD15_TotalSeqB', 'CD16_TotalSeqB', 'CD56_TotalSeqB', 'CD19_TotalSeqB', 'CD25_TotalSeqB', 'CD45RA_TotalSeqB', 'CD45RO_TotalSeqB', 'PD-1_TotalSeqB', 'TIGIT_TotalSeqB', 'CD127_TotalSeqB']}\n"
          ],
          "name": "stdout"
        }
      ]
    },
    {
      "cell_type": "markdown",
      "metadata": {
        "id": "6BFFtzNJbTnA",
        "colab_type": "text"
      },
      "source": [
        "## Setting up your anndata object for `scvi`\n",
        "\n",
        "**First, load in your anndata. We will defer to the [anndata API](https://anndata.readthedocs.io/) for reading and loading data.** \n",
        "Here, we load an example dataset from `scanpy`."
      ]
    },
    {
      "cell_type": "code",
      "metadata": {
        "id": "7f5tjH2rbTnC",
        "colab_type": "code",
        "colab": {
          "base_uri": "https://localhost:8080/",
          "height": 51
        },
        "outputId": "c0a6d935-bcab-4f9e-af50-f8961d1ce8b7"
      },
      "source": [
        "import anndata\n",
        "import numpy as np\n",
        "import scanpy as sc\n",
        "import pandas as pd\n",
        "import scvi\n",
        "\n",
        "from scvi.dataset import setup_anndata\n",
        "adata = sc.datasets.pbmc3k()\n",
        "\n",
        "print(adata)"
      ],
      "execution_count": 7,
      "outputs": [
        {
          "output_type": "stream",
          "text": [
            "AnnData object with n_obs × n_vars = 2700 × 32738\n",
            "    var: 'gene_ids'\n"
          ],
          "name": "stdout"
        }
      ]
    },
    {
      "cell_type": "markdown",
      "metadata": {
        "id": "EPPnEzzVbTnH",
        "colab_type": "text"
      },
      "source": [
        "**Then run all the necessary filtering and processing on your anndata.**"
      ]
    },
    {
      "cell_type": "code",
      "metadata": {
        "id": "Agu4a-febTnI",
        "colab_type": "code",
        "colab": {
          "base_uri": "https://localhost:8080/",
          "height": 51
        },
        "outputId": "52392e98-453e-464b-a63d-c77d329ded5c"
      },
      "source": [
        "#example processing steps\n",
        "sc.pp.filter_genes(adata, min_counts = 1)\n",
        "sc.pp.filter_genes(adata, min_cells = 1)\n",
        "\n",
        "print(adata)"
      ],
      "execution_count": 8,
      "outputs": [
        {
          "output_type": "stream",
          "text": [
            "AnnData object with n_obs × n_vars = 2700 × 16634\n",
            "    var: 'gene_ids', 'n_counts', 'n_cells'\n"
          ],
          "name": "stdout"
        }
      ]
    },
    {
      "cell_type": "markdown",
      "metadata": {
        "id": "FlOlVULTbTnO",
        "colab_type": "text"
      },
      "source": [
        "**When you're done processing and filtering your anndata, simply call the `setup_anndata()` function to get it ready for `scvi`.**\n",
        "\n",
        "`setup_anndata()` takes the following arguments:\n",
        "\n",
        "- **adata**: anndata.AnnData object with your data in adata.X\n",
        "- **batch_key**: key in adata.obs for batch information. If None, will assign the same batch to all the data.\n",
        "- **labels_key**: key in adata.obs for label information. If None, will assign the same label to all the data. \n",
        "- **layer**: if not None, will use the data from adata.layers[layer] instead of the default adata.X.\n",
        "- **protein_expression_obsm_key**: key in adata.obsm containing protein expression data. Only required for TotalVI.\n",
        "- **protein_names_uns_key**: key in adata.uns containing protein names. If None, will use the column names of adata.obsm[protein_expression_obsm_key] if it is a pandas dataframe, else will assign sequential names to proteins. Only relavent but not required for TotalVI.\n",
        "- **copy**: if True, will return a copy of setup adata. Default: False\n",
        "\n",
        "`setup_anndata()` will add the following fields to your anndata. See Section 2 and Section 3 for a more advanced explanation. \n",
        "\n",
        "- **adata.uns['scvi\\_data\\_registry']**: dictionary mapping data field used by `scVI` to their respective locations in adata\n",
        "- **adata.uns['scvi\\_summary\\_stats']**: dictionary of summary statistics for adata\n",
        "- **adata.obs['\\_local\\_l\\_mean']**: per batch library size mean\n",
        "- **adata.obs['\\_local\\_l\\_var']**: per batch library size variance\n",
        "\n",
        "`setup_anndata()` will respectively add the following fields if no batch_key or labels_key was provided. Or if they were not encoded as integers.\n",
        "\n",
        "- **adata.obs['\\_scvi_labels']**: labels encoded as integers\n",
        "- **adata.obs['\\_scvi_batch']**: batch encoded as integers\n",
        "\n",
        "\n",
        "**Since all our data has the same batch and label, we simply call `setup_anndata()` on our anndata. The anndata is now ready for scvi.**\n"
      ]
    },
    {
      "cell_type": "code",
      "metadata": {
        "id": "A1h39mDKbTnP",
        "colab_type": "code",
        "colab": {
          "base_uri": "https://localhost:8080/",
          "height": 119
        },
        "outputId": "7e1723df-db06-46db-bc10-5f12c9818b7c"
      },
      "source": [
        "setup_anndata(adata)"
      ],
      "execution_count": 9,
      "outputs": [
        {
          "output_type": "stream",
          "text": [
            "[2020-07-22 02:56:12,219] INFO - scvi.dataset._anndata | Using data from adata.X\n",
            "[2020-07-22 02:56:12,220] INFO - scvi.dataset._anndata | No batch_key inputted, assuming all cells are same batch\n",
            "[2020-07-22 02:56:12,224] INFO - scvi.dataset._anndata | No label_key inputted, assuming all cells have same label\n",
            "[2020-07-22 02:56:12,228] INFO - scvi.dataset._anndata | Computing library size prior per batch\n",
            "[2020-07-22 02:56:12,240] INFO - scvi.dataset._anndata | Successfully registered anndata object containing 2700 cells, 16634 genes, and 1 batches \n",
            "Registered keys:['X', 'batch_indices', 'local_l_mean', 'local_l_var', 'labels']\n"
          ],
          "name": "stdout"
        }
      ]
    },
    {
      "cell_type": "markdown",
      "metadata": {
        "id": "Fl7POifgbTnS",
        "colab_type": "text"
      },
      "source": [
        "**If we want to use label and batch information from our anndata, simply pass the corresponding keys to `setup_anndata()`**"
      ]
    },
    {
      "cell_type": "code",
      "metadata": {
        "id": "8mgFPJg7bTnT",
        "colab_type": "code",
        "colab": {
          "base_uri": "https://localhost:8080/",
          "height": 119
        },
        "outputId": "8cece552-9c33-4bd2-fc55-c1b79100a862"
      },
      "source": [
        "adata = sc.datasets.pbmc3k()\n",
        "\n",
        "#assigning cells to random batches as an example (can be string or numbers)\n",
        "adata.obs['random_batches'] = np.random.randint(0,2,adata.shape[0])\n",
        "\n",
        "#assigning cells to random labels as an example (can be strings or numbers)\n",
        "adata.obs['random_labels'] = np.random.randint(0,5,adata.shape[0])\n",
        "\n",
        "setup_anndata(adata, batch_key = 'random_batches', labels_key = 'random_labels')"
      ],
      "execution_count": 10,
      "outputs": [
        {
          "output_type": "stream",
          "text": [
            "[2020-07-22 02:56:17,300] INFO - scvi.dataset._anndata | Using data from adata.X\n",
            "[2020-07-22 02:56:17,301] INFO - scvi.dataset._anndata | Using batches from adata.obs[\"random_batches\"]\n",
            "[2020-07-22 02:56:17,302] INFO - scvi.dataset._anndata | Using labels from adata.obs[\"random_labels\"]\n",
            "[2020-07-22 02:56:17,303] INFO - scvi.dataset._anndata | Computing library size prior per batch\n",
            "[2020-07-22 02:56:17,321] INFO - scvi.dataset._anndata | Successfully registered anndata object containing 2700 cells, 32738 genes, and 2 batches \n",
            "Registered keys:['X', 'batch_indices', 'local_l_mean', 'local_l_var', 'labels']\n"
          ],
          "name": "stdout"
        }
      ]
    },
    {
      "cell_type": "markdown",
      "metadata": {
        "id": "EUIfI6vfbTnW",
        "colab_type": "text"
      },
      "source": [
        "**If we are using TotalVI, we need to pass in protein_expression_obsm_key**"
      ]
    },
    {
      "cell_type": "code",
      "metadata": {
        "id": "0mzzdKu-bTnX",
        "colab_type": "code",
        "colab": {
          "base_uri": "https://localhost:8080/",
          "height": 153
        },
        "outputId": "17aec6d2-de42-4e24-d673-4c2df55fec25"
      },
      "source": [
        "adata = sc.datasets.pbmc3k()\n",
        "\n",
        "#adding random protein expression information\n",
        "#make dataframe\n",
        "protein_expression = pd.DataFrame(np.random.randint(0,100,(adata.shape[0],5)), index = adata.obs_names)\n",
        "adata.obsm['rand_protein_expressions'] = protein_expression\n",
        "\n",
        "setup_anndata(adata, protein_expression_obsm_key = 'rand_protein_expressions')"
      ],
      "execution_count": 11,
      "outputs": [
        {
          "output_type": "stream",
          "text": [
            "[2020-07-22 02:56:19,593] INFO - scvi.dataset._anndata | Using data from adata.X\n",
            "[2020-07-22 02:56:19,593] INFO - scvi.dataset._anndata | No batch_key inputted, assuming all cells are same batch\n",
            "[2020-07-22 02:56:19,598] INFO - scvi.dataset._anndata | No label_key inputted, assuming all cells have same label\n",
            "[2020-07-22 02:56:19,602] INFO - scvi.dataset._anndata | Computing library size prior per batch\n",
            "[2020-07-22 02:56:19,615] INFO - scvi.dataset._anndata | Using protein expression from adata.obsm['rand_protein_expressions']\n",
            "[2020-07-22 02:56:19,616] INFO - scvi.dataset._anndata | Using protein names from columns of adata.obsm['rand_protein_expressions']\n",
            "[2020-07-22 02:56:19,617] INFO - scvi.dataset._anndata | Successfully registered anndata object containing 2700 cells, 32738 genes, and 1 batches \n",
            "Registered keys:['X', 'batch_indices', 'local_l_mean', 'local_l_var', 'labels', 'protein_expression']\n"
          ],
          "name": "stdout"
        }
      ]
    },
    {
      "cell_type": "markdown",
      "metadata": {
        "id": "emCTohySbTna",
        "colab_type": "text"
      },
      "source": [
        "## Verifying registration\n",
        "\n",
        "Here we explain what `setup_anndata()` does under the hood and how you can check that your anndata was properly setup. "
      ]
    },
    {
      "cell_type": "markdown",
      "metadata": {
        "id": "bhiTxl9MbTnb",
        "colab_type": "text"
      },
      "source": [
        "**First we load in the cortex dataset from `scVI`.**\n",
        "\n",
        "`cortex()` consists of 3,005 mouse cortex cells profiled with the Smart-seq2 protocol, with the addition of UMI. To facilitate comparison with other methods, we use a filtered set of 558 highly variable genes. The `cortex()` exhibits a clear high-level subpopulation struc- ture, which has been inferred by the authors of the original publication using computational tools and annotated by inspection of specific genes or transcriptional programs.\n",
        "\n",
        "Reference: Zeisel, A. et al. Cell types in the mouse cortex and hippocampus revealed by single-cell rna-seq. Science 347, 1138–1142 (2015). "
      ]
    },
    {
      "cell_type": "code",
      "metadata": {
        "id": "hKAbMdENbTnb",
        "colab_type": "code",
        "colab": {
          "base_uri": "https://localhost:8080/",
          "height": 204
        },
        "outputId": "8455573a-fd22-4749-bf2a-d8e81815fe60"
      },
      "source": [
        "adata_raw = scvi.dataset.cortex(run_setup_anndata = False) #by default, setup_anndata() is called on preloaded datasets before returning\n",
        "\n",
        "adata = setup_anndata(adata_raw, labels_key = 'labels', copy = True)"
      ],
      "execution_count": 12,
      "outputs": [
        {
          "output_type": "stream",
          "text": [
            "[2020-07-22 02:56:22,106] INFO - scvi.dataset._built_in_data._utils | Downloading file at /content/data/expression.bin\n",
            "[2020-07-22 02:56:24,022] INFO - scvi.dataset._built_in_data._cortex | Loading Cortex data from /content/data/expression.bin\n",
            "[2020-07-22 02:56:34,948] INFO - scvi.dataset._built_in_data._cortex | Finished loading Cortex data\n"
          ],
          "name": "stdout"
        },
        {
          "output_type": "stream",
          "text": [
            "/usr/local/lib/python3.6/dist-packages/anndata/_core/anndata.py:119: ImplicitModificationWarning: Transforming to str index.\n",
            "  warnings.warn(\"Transforming to str index.\", ImplicitModificationWarning)\n"
          ],
          "name": "stderr"
        },
        {
          "output_type": "stream",
          "text": [
            "[2020-07-22 02:56:36,070] INFO - scvi.dataset._anndata | Using data from adata.X\n",
            "[2020-07-22 02:56:36,071] INFO - scvi.dataset._anndata | No batch_key inputted, assuming all cells are same batch\n",
            "[2020-07-22 02:56:36,077] INFO - scvi.dataset._anndata | Using labels from adata.obs[\"labels\"]\n",
            "[2020-07-22 02:56:36,078] INFO - scvi.dataset._anndata | Computing library size prior per batch\n",
            "[2020-07-22 02:56:36,129] INFO - scvi.dataset._anndata | Successfully registered anndata object containing 3005 cells, 19972 genes, and 1 batches \n",
            "Registered keys:['X', 'batch_indices', 'local_l_mean', 'local_l_var', 'labels']\n"
          ],
          "name": "stdout"
        }
      ]
    },
    {
      "cell_type": "markdown",
      "metadata": {
        "id": "LuBFxz3zbTnf",
        "colab_type": "text"
      },
      "source": [
        "**Looking at adata.uns['scvi\\_summary\\_stats'] we can verify that the correct number of genes, cells and batches were registered**"
      ]
    },
    {
      "cell_type": "code",
      "metadata": {
        "id": "TJ2xbC4QbTng",
        "colab_type": "code",
        "colab": {
          "base_uri": "https://localhost:8080/",
          "height": 34
        },
        "outputId": "edf35aa1-9a2e-4434-b0e8-eee50c3eb702"
      },
      "source": [
        "print(adata.uns['scvi_summary_stats'])\n",
        "\n",
        "stats = adata.uns['scvi_summary_stats']\n",
        "assert stats['n_cells'] == adata.shape[0]\n",
        "assert stats['n_genes'] == adata.shape[1]\n",
        "assert stats['n_labels'] == len(np.unique(adata.obs['labels']))\n",
        "assert stats['n_batch'] == len(np.unique(adata.obs['_scvi_batch'])) # since batch_key was None, setup_anndata put batch info in _scvi_batch"
      ],
      "execution_count": 13,
      "outputs": [
        {
          "output_type": "stream",
          "text": [
            "{'n_batch': 1, 'n_cells': 3005, 'n_genes': 19972, 'n_labels': 7}\n"
          ],
          "name": "stdout"
        }
      ]
    },
    {
      "cell_type": "markdown",
      "metadata": {
        "id": "ZHs29jIvbTnn",
        "colab_type": "text"
      },
      "source": [
        "## Advanced explanation\n",
        "Here we provide an in depth explanation of `setup_anndata()` and how the fields are used under the hood in `scVI`\n",
        "\n",
        "**scvi_data_registry hold the mapping between fields needed by `scvi` and their location in anndata**\n",
        "\n",
        "Each field required for `scVI` is mapped to a two element list. \n",
        "The first element in the list is an attribute of anndata. The second is the key of the attribute containing the data. \n",
        "\n",
        "Eg. the list associated with `labels` is `['obs', 'labels']`. Thus `scVI` grabs label information from `adata.obs['labels']`\n",
        "\n",
        "If we look at the list associated with `X`, we see that it is : `['_X', None]`. The second element in the list for `X` is empty. That is because `adata._X` (which contains the same data as `adata.X` but has faster accessing) has no key associated with that field. "
      ]
    },
    {
      "cell_type": "code",
      "metadata": {
        "id": "UyJiv6kmbTnu",
        "colab_type": "code",
        "colab": {
          "base_uri": "https://localhost:8080/",
          "height": 289
        },
        "outputId": "035cc13f-4557-46bb-d72b-56ef2b50ddf5"
      },
      "source": [
        "adata_raw = scvi.dataset.cortex(run_setup_anndata = False) #by default, setup_anndata() is called on preloaded datasets before returning\n",
        "adata = setup_anndata(adata_raw, labels_key = 'labels', copy = True)\n",
        "adata.uns['scvi_data_registry']"
      ],
      "execution_count": 14,
      "outputs": [
        {
          "output_type": "stream",
          "text": [
            "[2020-07-22 02:56:36,145] INFO - scvi.dataset._built_in_data._utils | File /content/data/expression.bin already downloaded\n",
            "[2020-07-22 02:56:36,146] INFO - scvi.dataset._built_in_data._cortex | Loading Cortex data from /content/data/expression.bin\n",
            "[2020-07-22 02:56:46,744] INFO - scvi.dataset._built_in_data._cortex | Finished loading Cortex data\n"
          ],
          "name": "stdout"
        },
        {
          "output_type": "stream",
          "text": [
            "/usr/local/lib/python3.6/dist-packages/anndata/_core/anndata.py:119: ImplicitModificationWarning: Transforming to str index.\n",
            "  warnings.warn(\"Transforming to str index.\", ImplicitModificationWarning)\n"
          ],
          "name": "stderr"
        },
        {
          "output_type": "stream",
          "text": [
            "[2020-07-22 02:56:47,816] INFO - scvi.dataset._anndata | Using data from adata.X\n",
            "[2020-07-22 02:56:47,817] INFO - scvi.dataset._anndata | No batch_key inputted, assuming all cells are same batch\n",
            "[2020-07-22 02:56:47,820] INFO - scvi.dataset._anndata | Using labels from adata.obs[\"labels\"]\n",
            "[2020-07-22 02:56:47,822] INFO - scvi.dataset._anndata | Computing library size prior per batch\n",
            "[2020-07-22 02:56:47,874] INFO - scvi.dataset._anndata | Successfully registered anndata object containing 3005 cells, 19972 genes, and 1 batches \n",
            "Registered keys:['X', 'batch_indices', 'local_l_mean', 'local_l_var', 'labels']\n"
          ],
          "name": "stdout"
        },
        {
          "output_type": "execute_result",
          "data": {
            "text/plain": [
              "{'X': [None, '_X'],\n",
              " 'batch_indices': ['obs', '_scvi_batch'],\n",
              " 'labels': ['obs', 'labels'],\n",
              " 'local_l_mean': ['obs', '_scvi_local_l_mean'],\n",
              " 'local_l_var': ['obs', '_scvi_local_l_var']}"
            ]
          },
          "metadata": {
            "tags": []
          },
          "execution_count": 14
        }
      ]
    },
    {
      "cell_type": "markdown",
      "metadata": {
        "id": "97s8kpa_bTny",
        "colab_type": "text"
      },
      "source": [
        "**Looking above, we also see that a number of fields were added to the anndata**\n",
        "\n",
        "Because no `batch_key` was passed into `setup_anndata()`, all the data was assigned the same batch and saved in `adata.obs['_scvi_batch']`"
      ]
    },
    {
      "cell_type": "code",
      "metadata": {
        "id": "Lrrk7_OobTny",
        "colab_type": "code",
        "colab": {
          "base_uri": "https://localhost:8080/",
          "height": 238
        },
        "outputId": "a81e8e6d-6271-45fb-f269-670affb3540b"
      },
      "source": [
        "print(adata.obs['_scvi_batch'])\n",
        "print('List of all batches:' , np.unique(adata.obs['_scvi_batch']))"
      ],
      "execution_count": 15,
      "outputs": [
        {
          "output_type": "stream",
          "text": [
            "0       0\n",
            "1       0\n",
            "2       0\n",
            "3       0\n",
            "4       0\n",
            "       ..\n",
            "3000    0\n",
            "3001    0\n",
            "3002    0\n",
            "3003    0\n",
            "3004    0\n",
            "Name: _scvi_batch, Length: 3005, dtype: int8\n",
            "List of all batches: [0]\n"
          ],
          "name": "stdout"
        }
      ]
    },
    {
      "cell_type": "markdown",
      "metadata": {
        "id": "yVuwLDjYbTn1",
        "colab_type": "text"
      },
      "source": [
        "Because the label information in **adata.obs[\"labels\"]** is encoded as integers, no `_scvi_labels` was added to `.obs`"
      ]
    },
    {
      "cell_type": "code",
      "metadata": {
        "id": "XjNhL6UFbTn1",
        "colab_type": "code",
        "colab": {
          "base_uri": "https://localhost:8080/",
          "height": 221
        },
        "outputId": "1425152c-7554-4642-ab19-f81739f550ce"
      },
      "source": [
        "adata.obs['labels']"
      ],
      "execution_count": 16,
      "outputs": [
        {
          "output_type": "execute_result",
          "data": {
            "text/plain": [
              "0       2\n",
              "1       2\n",
              "2       2\n",
              "3       2\n",
              "4       2\n",
              "       ..\n",
              "3000    1\n",
              "3001    1\n",
              "3002    1\n",
              "3003    1\n",
              "3004    1\n",
              "Name: labels, Length: 3005, dtype: int64"
            ]
          },
          "metadata": {
            "tags": []
          },
          "execution_count": 16
        }
      ]
    },
    {
      "cell_type": "markdown",
      "metadata": {
        "id": "JoaAMl28bTn4",
        "colab_type": "text"
      },
      "source": [
        "**When `scVI` is run, it will perform a check on the anndata for the correct number of fields and a simple verification that nothing was changed**\n",
        "\n",
        "For example, the following throws an error because the anndata was modified after setup:"
      ]
    },
    {
      "cell_type": "code",
      "metadata": {
        "id": "wsMKd6sebTn4",
        "colab_type": "code",
        "colab": {
          "base_uri": "https://localhost:8080/",
          "height": 357
        },
        "outputId": "625318bf-b74a-41eb-f77f-cc65f98d28ef"
      },
      "source": [
        "import traceback\n",
        "\n",
        "adata = scvi.dataset.pbmcs_10x_cite_seq(save_path = save_path, run_setup_anndata = False)\n",
        "\n",
        "setup_anndata(adata, batch_key = 'batch')\n",
        "\n",
        "adata = adata[:,:10].copy()\n",
        "stats = adata.uns['scvi_summary_stats']\n",
        "vae = scvi.models.VAE(n_input = stats['n_genes'] )\n",
        "\n",
        "#throws error because adata was modified after setup\n",
        "try:\n",
        "    trainer = scvi.inference.UnsupervisedTrainer(\n",
        "        vae,\n",
        "        adata,\n",
        "        train_size=0.90,\n",
        "        use_cuda=False,\n",
        "        frequency=5,\n",
        "    )\n",
        "    trainer.train(n_epochs = n_epochs)\n",
        "except:\n",
        "    traceback.print_exc()\n"
      ],
      "execution_count": 17,
      "outputs": [
        {
          "output_type": "stream",
          "text": [
            "[2020-07-22 02:56:53,839] INFO - scvi.dataset._anndata | Using data from adata.X\n",
            "[2020-07-22 02:56:53,840] INFO - scvi.dataset._anndata | Using batches from adata.obs[\"batch\"]\n",
            "[2020-07-22 02:56:53,843] INFO - scvi.dataset._anndata | No label_key inputted, assuming all cells have same label\n",
            "[2020-07-22 02:56:53,850] INFO - scvi.dataset._anndata | Computing library size prior per batch\n",
            "[2020-07-22 02:56:53,986] INFO - scvi.dataset._anndata | Successfully registered anndata object containing 10849 cells, 15792 genes, and 2 batches \n",
            "Registered keys:['X', 'batch_indices', 'local_l_mean', 'local_l_var', 'labels']\n"
          ],
          "name": "stdout"
        },
        {
          "output_type": "stream",
          "text": [
            "Traceback (most recent call last):\n",
            "  File \"<ipython-input-17-5f22a0d83982>\", line 18, in <module>\n",
            "    frequency=5,\n",
            "  File \"/usr/local/lib/python3.6/dist-packages/scvi/inference/inference.py\", line 120, in __init__\n",
            "    ) = self.train_test_validation(model, gene_dataset, train_size, test_size)\n",
            "  File \"/usr/local/lib/python3.6/dist-packages/scvi/inference/trainer.py\", line 400, in train_test_validation\n",
            "    model, gene_dataset, indices=indices_train, type_class=type_class\n",
            "  File \"/usr/local/lib/python3.6/dist-packages/scvi/inference/trainer.py\", line 431, in create_posterior\n",
            "    data_loader_kwargs=self.data_loader_kwargs,\n",
            "  File \"/usr/local/lib/python3.6/dist-packages/scvi/inference/posterior.py\", line 139, in __init__\n",
            "    self.gene_dataset = BioDataset(adata, getitem_tensors=self._data_and_attributes)\n",
            "  File \"/usr/local/lib/python3.6/dist-packages/scvi/dataset/_biodataset.py\", line 31, in __init__\n",
            "    assert adata.shape[1] == stats[\"n_genes\"], error_msg.format(\"genes\")\n",
            "AssertionError: Number of genes in anndata different from when setup_anndata was run. Please rerun setup_anndata.\n"
          ],
          "name": "stderr"
        }
      ]
    },
    {
      "cell_type": "code",
      "metadata": {
        "id": "7oxxmwgMbTn8",
        "colab_type": "code",
        "colab": {}
      },
      "source": [
        ""
      ],
      "execution_count": null,
      "outputs": []
    }
  ]
}
