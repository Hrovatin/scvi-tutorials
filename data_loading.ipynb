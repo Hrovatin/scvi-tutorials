{
  "nbformat": 4,
  "nbformat_minor": 0,
  "metadata": {
    "colab": {
      "name": "data_loading_new_api.ipynb",
      "provenance": [],
      "collapsed_sections": [],
      "toc_visible": true
    },
    "kernelspec": {
      "name": "python3",
      "display_name": "Python 3"
    }
  },
  "cells": [
    {
      "cell_type": "markdown",
      "metadata": {
        "id": "DlN1gzqNsDYY",
        "colab_type": "text"
      },
      "source": [
        "# Data loading and preparation"
      ]
    },
    {
      "cell_type": "code",
      "metadata": {
        "id": "N3oQkal_sLcr",
        "colab_type": "code",
        "colab": {
          "base_uri": "https://localhost:8080/",
          "height": 364
        },
        "outputId": "c5321f25-9408-47d5-b8e6-31b33f908650"
      },
      "source": [
        "import sys\n",
        "IN_COLAB = \"google.colab\" in sys.modules\n",
        "\n",
        "if IN_COLAB:\n",
        "    !pip install --quiet git+https://github.com/yoseflab/scvi@rich_progress#egg=scvi[notebooks]\n",
        "\n"
      ],
      "execution_count": 1,
      "outputs": [
        {
          "output_type": "stream",
          "text": [
            "\u001b[K     |████████████████████████████████| 112kB 2.9MB/s \n",
            "\u001b[K     |████████████████████████████████| 122kB 8.3MB/s \n",
            "\u001b[K     |████████████████████████████████| 8.7MB 6.1MB/s \n",
            "\u001b[K     |████████████████████████████████| 4.3MB 41.7MB/s \n",
            "\u001b[K     |████████████████████████████████| 153kB 47.3MB/s \n",
            "\u001b[K     |████████████████████████████████| 2.2MB 43.3MB/s \n",
            "\u001b[K     |████████████████████████████████| 2.4MB 37.0MB/s \n",
            "\u001b[K     |████████████████████████████████| 3.2MB 44.5MB/s \n",
            "\u001b[K     |████████████████████████████████| 51kB 3.4MB/s \n",
            "\u001b[K     |████████████████████████████████| 7.7MB 17.2MB/s \n",
            "\u001b[K     |████████████████████████████████| 952kB 45.6MB/s \n",
            "\u001b[K     |████████████████████████████████| 51kB 6.6MB/s \n",
            "\u001b[K     |████████████████████████████████| 92kB 8.7MB/s \n",
            "\u001b[K     |████████████████████████████████| 51kB 6.5MB/s \n",
            "\u001b[K     |████████████████████████████████| 61kB 6.4MB/s \n",
            "\u001b[?25h  Building wheel for scvi (setup.py) ... \u001b[?25l\u001b[?25hdone\n",
            "  Building wheel for loompy (setup.py) ... \u001b[?25l\u001b[?25hdone\n",
            "  Building wheel for numpy-groupies (setup.py) ... \u001b[?25l\u001b[?25hdone\n",
            "  Building wheel for sinfo (setup.py) ... \u001b[?25l\u001b[?25hdone\n",
            "\u001b[31mERROR: datascience 0.10.6 has requirement folium==0.2.1, but you'll have folium 0.8.3 which is incompatible.\u001b[0m\n"
          ],
          "name": "stdout"
        }
      ]
    },
    {
      "cell_type": "code",
      "metadata": {
        "id": "VpgMddaEr-lS",
        "colab_type": "code",
        "colab": {}
      },
      "source": [
        "import scvi\n",
        "import scanpy as sc"
      ],
      "execution_count": 2,
      "outputs": []
    },
    {
      "cell_type": "markdown",
      "metadata": {
        "id": "80gW_yfkuzB9",
        "colab_type": "text"
      },
      "source": [
        "## Loading data\n",
        "\n",
        "scvi-tools supports the [AnnData](https://anndata.readthedocs.io/en/latest/) data format, which also underlies [Scanpy](https://scanpy.readthedocs.io/en/stable/). AnnData is quite similar to other popular single cell objects like that of [Seurat](https://github.com/satijalab/seurat/wiki) and [SingleCellExperiment](https://bioconductor.org/packages/release/bioc/vignettes/SingleCellExperiment/inst/doc/intro.html). In particular, it allows cell-level and feature-level metadata to coexist in the same data structure as the molecular counts.\n",
        "\n",
        "It's also now possible to automatically convert these R-based objects to AnnData within a Jupyter notebook. See the following [tutorial](https://github.com/LuckyMD/Code_snippets/blob/master/Seurat_to_anndata.ipynb) for more information.\n",
        "\n",
        "scvi-tools has a number of convenience methods for loading data from `.csv`, `.loom`, and `.h5ad` formats. To load ouputs from Cell Ranger, please use Scanpy's [reading functionality](https://scanpy.readthedocs.io/en/stable/api/index.html#reading).\n",
        "\n",
        "Let us now download an AnnData object (`.h5ad` format) and load it using scvi-tools."
      ]
    },
    {
      "cell_type": "markdown",
      "metadata": {
        "id": "5-_VxGJ9xWaW",
        "colab_type": "text"
      },
      "source": [
        "### PBMC3k"
      ]
    },
    {
      "cell_type": "code",
      "metadata": {
        "id": "obl1PpsLu2EX",
        "colab_type": "code",
        "colab": {
          "base_uri": "https://localhost:8080/",
          "height": 208
        },
        "outputId": "54da2c1c-e694-4db5-e2e1-d40a8094157d"
      },
      "source": [
        "!wget 'http://falexwolf.de/data/pbmc3k_raw.h5ad'"
      ],
      "execution_count": 3,
      "outputs": [
        {
          "output_type": "stream",
          "text": [
            "--2020-09-14 05:07:45--  http://falexwolf.de/data/pbmc3k_raw.h5ad\n",
            "Resolving falexwolf.de (falexwolf.de)... 85.13.135.70\n",
            "Connecting to falexwolf.de (falexwolf.de)|85.13.135.70|:80... connected.\n",
            "HTTP request sent, awaiting response... 200 OK\n",
            "Length: 5855727 (5.6M)\n",
            "Saving to: ‘pbmc3k_raw.h5ad’\n",
            "\n",
            "pbmc3k_raw.h5ad     100%[===================>]   5.58M  4.72MB/s    in 1.2s    \n",
            "\n",
            "2020-09-14 05:07:46 (4.72 MB/s) - ‘pbmc3k_raw.h5ad’ saved [5855727/5855727]\n",
            "\n"
          ],
          "name": "stdout"
        }
      ]
    },
    {
      "cell_type": "code",
      "metadata": {
        "id": "UX4nKs0vwV3S",
        "colab_type": "code",
        "colab": {}
      },
      "source": [
        "pbmc3k = scvi.dataset.read_h5ad(\"pbmc3k_raw.h5ad\")"
      ],
      "execution_count": 4,
      "outputs": []
    },
    {
      "cell_type": "code",
      "metadata": {
        "id": "yM_lXgv4xAvv",
        "colab_type": "code",
        "colab": {
          "base_uri": "https://localhost:8080/",
          "height": 52
        },
        "outputId": "92d91d0e-c0aa-443b-a769-35334bbbdd12"
      },
      "source": [
        "pbmc3k"
      ],
      "execution_count": 5,
      "outputs": [
        {
          "output_type": "execute_result",
          "data": {
            "text/plain": [
              "AnnData object with n_obs × n_vars = 2700 × 32738\n",
              "    var: 'gene_ids'"
            ]
          },
          "metadata": {
            "tags": []
          },
          "execution_count": 5
        }
      ]
    },
    {
      "cell_type": "markdown",
      "metadata": {
        "id": "Gw44EIlExDUc",
        "colab_type": "text"
      },
      "source": [
        "This is a fairly simple object, it just contains the count data and the ENSEMBL ids for the genes."
      ]
    },
    {
      "cell_type": "code",
      "metadata": {
        "id": "JmqvrG8AxCrO",
        "colab_type": "code",
        "colab": {
          "base_uri": "https://localhost:8080/",
          "height": 238
        },
        "outputId": "c2463f85-860b-4e38-ce97-6fbd3378f9a3"
      },
      "source": [
        "pbmc3k.var.head()"
      ],
      "execution_count": 6,
      "outputs": [
        {
          "output_type": "execute_result",
          "data": {
            "text/html": [
              "<div>\n",
              "<style scoped>\n",
              "    .dataframe tbody tr th:only-of-type {\n",
              "        vertical-align: middle;\n",
              "    }\n",
              "\n",
              "    .dataframe tbody tr th {\n",
              "        vertical-align: top;\n",
              "    }\n",
              "\n",
              "    .dataframe thead th {\n",
              "        text-align: right;\n",
              "    }\n",
              "</style>\n",
              "<table border=\"1\" class=\"dataframe\">\n",
              "  <thead>\n",
              "    <tr style=\"text-align: right;\">\n",
              "      <th></th>\n",
              "      <th>gene_ids</th>\n",
              "    </tr>\n",
              "    <tr>\n",
              "      <th>index</th>\n",
              "      <th></th>\n",
              "    </tr>\n",
              "  </thead>\n",
              "  <tbody>\n",
              "    <tr>\n",
              "      <th>MIR1302-10</th>\n",
              "      <td>ENSG00000243485</td>\n",
              "    </tr>\n",
              "    <tr>\n",
              "      <th>FAM138A</th>\n",
              "      <td>ENSG00000237613</td>\n",
              "    </tr>\n",
              "    <tr>\n",
              "      <th>OR4F5</th>\n",
              "      <td>ENSG00000186092</td>\n",
              "    </tr>\n",
              "    <tr>\n",
              "      <th>RP11-34P13.7</th>\n",
              "      <td>ENSG00000238009</td>\n",
              "    </tr>\n",
              "    <tr>\n",
              "      <th>RP11-34P13.8</th>\n",
              "      <td>ENSG00000239945</td>\n",
              "    </tr>\n",
              "  </tbody>\n",
              "</table>\n",
              "</div>"
            ],
            "text/plain": [
              "                     gene_ids\n",
              "index                        \n",
              "MIR1302-10    ENSG00000243485\n",
              "FAM138A       ENSG00000237613\n",
              "OR4F5         ENSG00000186092\n",
              "RP11-34P13.7  ENSG00000238009\n",
              "RP11-34P13.8  ENSG00000239945"
            ]
          },
          "metadata": {
            "tags": []
          },
          "execution_count": 6
        }
      ]
    },
    {
      "cell_type": "markdown",
      "metadata": {
        "id": "1mhNtRfhxX1_",
        "colab_type": "text"
      },
      "source": [
        "### PBMC5k\n",
        "\n",
        "As another example, let's download a dataset from 10x Genomics. This data was obtained from a CITE-seq experiment, so it also contains protein count data."
      ]
    },
    {
      "cell_type": "code",
      "metadata": {
        "id": "22rXIMVgxVVy",
        "colab_type": "code",
        "colab": {
          "base_uri": "https://localhost:8080/",
          "height": 208
        },
        "outputId": "acabe01f-8f09-4e4b-9a35-8d875858dfbd"
      },
      "source": [
        "!wget https://cf.10xgenomics.com/samples/cell-exp/3.0.2/5k_pbmc_protein_v3/5k_pbmc_protein_v3_filtered_feature_bc_matrix.h5"
      ],
      "execution_count": 7,
      "outputs": [
        {
          "output_type": "stream",
          "text": [
            "--2020-09-14 05:07:47--  https://cf.10xgenomics.com/samples/cell-exp/3.0.2/5k_pbmc_protein_v3/5k_pbmc_protein_v3_filtered_feature_bc_matrix.h5\n",
            "Resolving cf.10xgenomics.com (cf.10xgenomics.com)... 104.18.0.173, 104.18.1.173, 2606:4700::6812:1ad, ...\n",
            "Connecting to cf.10xgenomics.com (cf.10xgenomics.com)|104.18.0.173|:443... connected.\n",
            "HTTP request sent, awaiting response... 200 OK\n",
            "Length: 17129253 (16M) [binary/octet-stream]\n",
            "Saving to: ‘5k_pbmc_protein_v3_filtered_feature_bc_matrix.h5’\n",
            "\n",
            "5k_pbmc_protein_v3_ 100%[===================>]  16.33M  96.7MB/s    in 0.2s    \n",
            "\n",
            "2020-09-14 05:07:47 (96.7 MB/s) - ‘5k_pbmc_protein_v3_filtered_feature_bc_matrix.h5’ saved [17129253/17129253]\n",
            "\n"
          ],
          "name": "stdout"
        }
      ]
    },
    {
      "cell_type": "code",
      "metadata": {
        "id": "TypCa4tExtyp",
        "colab_type": "code",
        "colab": {
          "base_uri": "https://localhost:8080/",
          "height": 34
        },
        "outputId": "0abfe017-b032-482e-813f-aa640a400f89"
      },
      "source": [
        "pbmc5k = sc.read_10x_h5(\n",
        "    \"5k_pbmc_protein_v3_filtered_feature_bc_matrix.h5\", \n",
        "    gex_only=False\n",
        ")"
      ],
      "execution_count": 8,
      "outputs": [
        {
          "output_type": "stream",
          "text": [
            "Variable names are not unique. To make them unique, call `.var_names_make_unique`.\n"
          ],
          "name": "stderr"
        }
      ]
    },
    {
      "cell_type": "markdown",
      "metadata": {
        "id": "Yg4KB0idx-9z",
        "colab_type": "text"
      },
      "source": [
        "It's often helpful to give the gene names unique names."
      ]
    },
    {
      "cell_type": "code",
      "metadata": {
        "id": "fK451tYtx-cH",
        "colab_type": "code",
        "colab": {}
      },
      "source": [
        "pbmc5k.var_names_make_unique()"
      ],
      "execution_count": 9,
      "outputs": []
    },
    {
      "cell_type": "markdown",
      "metadata": {
        "id": "43BWkucQye4C",
        "colab_type": "text"
      },
      "source": [
        "We can see that `adata.X` contains the concatenated gene and protein expression data."
      ]
    },
    {
      "cell_type": "code",
      "metadata": {
        "id": "QsmoVmGmyF8T",
        "colab_type": "code",
        "colab": {
          "base_uri": "https://localhost:8080/",
          "height": 34
        },
        "outputId": "d88b32ae-d611-438f-db4f-d3b856fbf9a5"
      },
      "source": [
        "pbmc5k.var.feature_types.astype(\"category\").cat.categories"
      ],
      "execution_count": 10,
      "outputs": [
        {
          "output_type": "execute_result",
          "data": {
            "text/plain": [
              "Index(['Antibody Capture', 'Gene Expression'], dtype='object')"
            ]
          },
          "metadata": {
            "tags": []
          },
          "execution_count": 10
        }
      ]
    },
    {
      "cell_type": "markdown",
      "metadata": {
        "id": "oOYhcGtOyFHP",
        "colab_type": "text"
      },
      "source": [
        "We can use scvi-tools to organize this object, which places the protein expression in `adata.obms[\"protein_expression]`."
      ]
    },
    {
      "cell_type": "code",
      "metadata": {
        "id": "fmjHhbY2yEYT",
        "colab_type": "code",
        "colab": {}
      },
      "source": [
        "scvi.dataset.organize_cite_seq_10x(pbmc5k)"
      ],
      "execution_count": 11,
      "outputs": []
    },
    {
      "cell_type": "code",
      "metadata": {
        "id": "GhoSe7nayxbJ",
        "colab_type": "code",
        "colab": {
          "base_uri": "https://localhost:8080/",
          "height": 69
        },
        "outputId": "8adce03c-39ec-4803-ae6b-c45cc22c7672"
      },
      "source": [
        "pbmc5k"
      ],
      "execution_count": 12,
      "outputs": [
        {
          "output_type": "execute_result",
          "data": {
            "text/plain": [
              "AnnData object with n_obs × n_vars = 5247 × 33538\n",
              "    var: 'gene_ids', 'feature_types', 'genome'\n",
              "    obsm: 'protein_expression'"
            ]
          },
          "metadata": {
            "tags": []
          },
          "execution_count": 12
        }
      ]
    },
    {
      "cell_type": "markdown",
      "metadata": {
        "id": "VItecTR9zL7w",
        "colab_type": "text"
      },
      "source": [
        "### Concatenate the datasets"
      ]
    },
    {
      "cell_type": "code",
      "metadata": {
        "id": "iX6wZkSYzKH-",
        "colab_type": "code",
        "colab": {}
      },
      "source": [
        "adata = pbmc5k.concatenate(pbmc3k)"
      ],
      "execution_count": 13,
      "outputs": []
    },
    {
      "cell_type": "markdown",
      "metadata": {
        "id": "EQdWs4BPz3E2",
        "colab_type": "text"
      },
      "source": [
        "Notice that the resulting AnnData has a batch key in `.obs`."
      ]
    },
    {
      "cell_type": "code",
      "metadata": {
        "id": "iIhwaX1az1rB",
        "colab_type": "code",
        "colab": {
          "base_uri": "https://localhost:8080/",
          "height": 206
        },
        "outputId": "fba64bee-674f-4c31-da17-d5cf8a2595bf"
      },
      "source": [
        "adata.obs.head()"
      ],
      "execution_count": 14,
      "outputs": [
        {
          "output_type": "execute_result",
          "data": {
            "text/html": [
              "<div>\n",
              "<style scoped>\n",
              "    .dataframe tbody tr th:only-of-type {\n",
              "        vertical-align: middle;\n",
              "    }\n",
              "\n",
              "    .dataframe tbody tr th {\n",
              "        vertical-align: top;\n",
              "    }\n",
              "\n",
              "    .dataframe thead th {\n",
              "        text-align: right;\n",
              "    }\n",
              "</style>\n",
              "<table border=\"1\" class=\"dataframe\">\n",
              "  <thead>\n",
              "    <tr style=\"text-align: right;\">\n",
              "      <th></th>\n",
              "      <th>batch</th>\n",
              "    </tr>\n",
              "  </thead>\n",
              "  <tbody>\n",
              "    <tr>\n",
              "      <th>AAACCCAAGAGACAAG-1-0</th>\n",
              "      <td>0</td>\n",
              "    </tr>\n",
              "    <tr>\n",
              "      <th>AAACCCAAGGCCTAGA-1-0</th>\n",
              "      <td>0</td>\n",
              "    </tr>\n",
              "    <tr>\n",
              "      <th>AAACCCAGTCGTGCCA-1-0</th>\n",
              "      <td>0</td>\n",
              "    </tr>\n",
              "    <tr>\n",
              "      <th>AAACCCATCGTGCATA-1-0</th>\n",
              "      <td>0</td>\n",
              "    </tr>\n",
              "    <tr>\n",
              "      <th>AAACGAAAGACAAGCC-1-0</th>\n",
              "      <td>0</td>\n",
              "    </tr>\n",
              "  </tbody>\n",
              "</table>\n",
              "</div>"
            ],
            "text/plain": [
              "                     batch\n",
              "AAACCCAAGAGACAAG-1-0     0\n",
              "AAACCCAAGGCCTAGA-1-0     0\n",
              "AAACCCAGTCGTGCCA-1-0     0\n",
              "AAACCCATCGTGCATA-1-0     0\n",
              "AAACGAAAGACAAGCC-1-0     0"
            ]
          },
          "metadata": {
            "tags": []
          },
          "execution_count": 14
        }
      ]
    },
    {
      "cell_type": "markdown",
      "metadata": {
        "id": "TH0sTU2j0gM0",
        "colab_type": "text"
      },
      "source": [
        "## Preprocessing the data\n",
        "\n",
        "It is common to remove outliers, and even perform feature selection before model fitting. We prefer the [Scanpy preprocessing module](https://scanpy.readthedocs.io/en/stable/api/index.html#module-scanpy.pp) at this stage."
      ]
    },
    {
      "cell_type": "code",
      "metadata": {
        "id": "eUN2B0pm0iah",
        "colab_type": "code",
        "colab": {}
      },
      "source": [
        "sc.pp.filter_genes(adata, min_counts=3)\n",
        "sc.pp.filter_cells(adata, min_counts=3)"
      ],
      "execution_count": 15,
      "outputs": []
    },
    {
      "cell_type": "markdown",
      "metadata": {
        "id": "AlMB0Tq601IQ",
        "colab_type": "text"
      },
      "source": [
        "As it is popular to use normalize the data for many methods, we can use Scanpy for this; however, it's important to keep the count information intact for scvi-tools models."
      ]
    },
    {
      "cell_type": "code",
      "metadata": {
        "id": "lwdhWVBe00mW",
        "colab_type": "code",
        "colab": {}
      },
      "source": [
        "adata.layers[\"counts\"] = adata.X.copy()"
      ],
      "execution_count": 16,
      "outputs": []
    },
    {
      "cell_type": "markdown",
      "metadata": {
        "id": "4X9Ruf2D1HGR",
        "colab_type": "text"
      },
      "source": [
        "Now we can proceed with common normalization methods."
      ]
    },
    {
      "cell_type": "code",
      "metadata": {
        "id": "T81mge-w1KHF",
        "colab_type": "code",
        "colab": {}
      },
      "source": [
        "sc.pp.normalize_total(adata, target_sum=10e4)\n",
        "sc.pp.log1p(adata)"
      ],
      "execution_count": 17,
      "outputs": []
    },
    {
      "cell_type": "markdown",
      "metadata": {
        "id": "abt2SyCv1Rk5",
        "colab_type": "text"
      },
      "source": [
        "We can store the normalized values in `.raw` to keep them safe in the event the anndata gets subsetted feature-wise."
      ]
    },
    {
      "cell_type": "code",
      "metadata": {
        "id": "ZbwQTY_h1QT2",
        "colab_type": "code",
        "colab": {}
      },
      "source": [
        "adata.raw = adata"
      ],
      "execution_count": 18,
      "outputs": []
    },
    {
      "cell_type": "markdown",
      "metadata": {
        "id": "lygvBJwWxSqk",
        "colab_type": "text"
      },
      "source": [
        "## Register the data with scvi-tools\n",
        "\n",
        "Now that we have an AnnData object, we need to alert scvi-tools of all the interesting data in our object. For example, now that we have batches in our AnnData, we can alert the models that we'd like to perform batch correction. Also, because we have the count data in a layer, we can use the `layer` argument."
      ]
    },
    {
      "cell_type": "markdown",
      "metadata": {
        "id": "7ivqMBFZ1ren",
        "colab_type": "text"
      },
      "source": [
        "### Basic case"
      ]
    },
    {
      "cell_type": "code",
      "metadata": {
        "id": "V8eKOa4Uy1WP",
        "colab_type": "code",
        "colab": {
          "base_uri": "https://localhost:8080/",
          "height": 156
        },
        "outputId": "66b4a1db-3226-4cdf-81d2-f81ea31dda2a"
      },
      "source": [
        "scvi.dataset.setup_anndata(adata, layer=\"counts\", batch_key=\"batch\")"
      ],
      "execution_count": 19,
      "outputs": [
        {
          "output_type": "stream",
          "text": [
            "\u001b[34mINFO\u001b[0m      Using batches from adata.obs\u001b[1m[\u001b[0m\u001b[32m\"batch\"\u001b[0m\u001b[1m]\u001b[0m                                 \n",
            "\u001b[34mINFO\u001b[0m      No label_key inputted, assuming all cells have same label             \n",
            "\u001b[34mINFO\u001b[0m      Using data from adata.layers\u001b[1m[\u001b[0m\u001b[32m\"counts\"\u001b[0m\u001b[1m]\u001b[0m                                \n",
            "\u001b[34mINFO\u001b[0m      Computing library size prior per batch                                \n",
            "\u001b[34mINFO\u001b[0m      Successfully registered anndata object containing \u001b[1;34m7947\u001b[0m cells, \u001b[1;34m14309\u001b[0m   \n",
            "          genes, \u001b[1;34m2\u001b[0m batches, \u001b[1;34m1\u001b[0m labels, and \u001b[1;34m0\u001b[0m proteins. Also registered \u001b[1;34m0\u001b[0m extra   \n",
            "          categorical covariates and \u001b[1;34m0\u001b[0m extra continuous covariates.             \n",
            "\u001b[34mINFO\u001b[0m      Please do not further modify adata until model is trained.            \n"
          ],
          "name": "stdout"
        }
      ]
    },
    {
      "cell_type": "markdown",
      "metadata": {
        "id": "pmIEOmbD0E8T",
        "colab_type": "text"
      },
      "source": [
        "Notice the info messages notify us that batches were detected in the data. Just to demonstrate what happens if we don't include this option:"
      ]
    },
    {
      "cell_type": "code",
      "metadata": {
        "id": "C3ZWlowC0D5V",
        "colab_type": "code",
        "colab": {
          "base_uri": "https://localhost:8080/",
          "height": 156
        },
        "outputId": "6e1ac34c-5197-4749-b76c-a9cec6ab84ad"
      },
      "source": [
        "scvi.dataset.setup_anndata(adata, layer=\"counts\")"
      ],
      "execution_count": 20,
      "outputs": [
        {
          "output_type": "stream",
          "text": [
            "\u001b[34mINFO\u001b[0m      No batch_key inputted, assuming all cells are same batch              \n",
            "\u001b[34mINFO\u001b[0m      No label_key inputted, assuming all cells have same label             \n",
            "\u001b[34mINFO\u001b[0m      Using data from adata.layers\u001b[1m[\u001b[0m\u001b[32m\"counts\"\u001b[0m\u001b[1m]\u001b[0m                                \n",
            "\u001b[34mINFO\u001b[0m      Computing library size prior per batch                                \n",
            "\u001b[34mINFO\u001b[0m      Successfully registered anndata object containing \u001b[1;34m7947\u001b[0m cells, \u001b[1;34m14309\u001b[0m   \n",
            "          genes, \u001b[1;34m1\u001b[0m batches, \u001b[1;34m1\u001b[0m labels, and \u001b[1;34m0\u001b[0m proteins. Also registered \u001b[1;34m0\u001b[0m extra   \n",
            "          categorical covariates and \u001b[1;34m0\u001b[0m extra continuous covariates.             \n",
            "\u001b[34mINFO\u001b[0m      Please do not further modify adata until model is trained.            \n"
          ],
          "name": "stdout"
        }
      ]
    },
    {
      "cell_type": "markdown",
      "metadata": {
        "id": "XKd16FQX0PXa",
        "colab_type": "text"
      },
      "source": [
        "Now integration-based tasks can no longer be performed in subsequent models because there is no knowledge of such information."
      ]
    },
    {
      "cell_type": "markdown",
      "metadata": {
        "id": "BVIcVMz41sxi",
        "colab_type": "text"
      },
      "source": [
        "### CITE-seq case"
      ]
    },
    {
      "cell_type": "markdown",
      "metadata": {
        "id": "tBrrUMyu104c",
        "colab_type": "text"
      },
      "source": [
        "As PBMC5k is a CITE-seq dataset, we can use scvi-tools to register the protein expression. Note that totalVI is the only current model that uses the protein expression. The usage of registered items is model specific. As another example, registering the labels in the AnnData object will not affect totalVI or scVI, but is necessary to run scANVI.\n",
        "\n",
        "We have not preprocessed the `pbmc5k` object, which we do recommend. We show how to run `setup_anndata` in this case for illustrative purposes."
      ]
    },
    {
      "cell_type": "code",
      "metadata": {
        "id": "i7REZQil1o1u",
        "colab_type": "code",
        "colab": {
          "base_uri": "https://localhost:8080/",
          "height": 191
        },
        "outputId": "80327b30-aa5e-4c4f-a767-394a891af812"
      },
      "source": [
        "scvi.dataset.setup_anndata(pbmc5k, protein_expression_obsm_key=\"protein_expression\")"
      ],
      "execution_count": 21,
      "outputs": [
        {
          "output_type": "stream",
          "text": [
            "\u001b[34mINFO\u001b[0m      No batch_key inputted, assuming all cells are same batch              \n",
            "\u001b[34mINFO\u001b[0m      No label_key inputted, assuming all cells have same label             \n",
            "\u001b[34mINFO\u001b[0m      Using data from adata.X                                               \n",
            "\u001b[34mINFO\u001b[0m      Computing library size prior per batch                                \n",
            "\u001b[34mINFO\u001b[0m      Using protein expression from adata.obsm\u001b[1m[\u001b[0m\u001b[32m'protein_expression'\u001b[0m\u001b[1m]\u001b[0m        \n",
            "\u001b[34mINFO\u001b[0m      Using protein names from columns of adata.obsm\u001b[1m[\u001b[0m\u001b[32m'protein_expression'\u001b[0m\u001b[1m]\u001b[0m  \n",
            "\u001b[34mINFO\u001b[0m      Successfully registered anndata object containing \u001b[1;34m5247\u001b[0m cells, \u001b[1;34m33538\u001b[0m   \n",
            "          genes, \u001b[1;34m1\u001b[0m batches, \u001b[1;34m1\u001b[0m labels, and \u001b[1;34m32\u001b[0m proteins. Also registered \u001b[1;34m0\u001b[0m extra  \n",
            "          categorical covariates and \u001b[1;34m0\u001b[0m extra continuous covariates.             \n",
            "\u001b[34mINFO\u001b[0m      Please do not further modify adata until model is trained.            \n"
          ],
          "name": "stdout"
        }
      ]
    },
    {
      "cell_type": "markdown",
      "metadata": {
        "id": "_KQVSyVR3Dk_",
        "colab_type": "text"
      },
      "source": [
        "<div class=\"alert alert-warning\">\n",
        "\n",
        "Warning\n",
        "\n",
        "After `setup_anndata` has been run, the adata object should not be modified. In other words, the very next step in the workflow is to initialize and train the model of interest (e.g., scVI, totalVI). If you do modify the adata, it's ok, just run `setup_anndata` again -- and then reinitialize the model.\n",
        "\n",
        "</div>"
      ]
    }
  ]
}