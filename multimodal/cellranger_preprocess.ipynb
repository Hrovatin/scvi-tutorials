{
  "nbformat": 4,
  "nbformat_minor": 0,
  "metadata": {
    "colab": {
      "provenance": []
    },
    "kernelspec": {
      "name": "python3",
      "display_name": "Python 3"
    },
    "language_info": {
      "name": "python"
    }
  },
  "cells": [
    {
      "cell_type": "markdown",
      "source": [
        "# Preprocessing cellranger output"
      ],
      "metadata": {
        "id": "O39GuDrheG96"
      }
    },
    {
      "cell_type": "markdown",
      "source": [
        "```{note}\n",
        "Running the following cell will install tutorial dependencies on Google Colab only. It will have no effect on environments other than Google Colab.\n",
        "```"
      ],
      "metadata": {
        "id": "ztZuAKuNxzUy"
      }
    },
    {
      "cell_type": "code",
      "execution_count": 1,
      "metadata": {
        "colab": {
          "base_uri": "https://localhost:8080/"
        },
        "id": "VHiq1wfav9bJ",
        "outputId": "8ca11b13-6d3d-4366-f295-4f0ca68e0b9c"
      },
      "outputs": [
        {
          "output_type": "stream",
          "name": "stdout",
          "text": [
            "\u001b[34mINFO    \u001b[0m scvi-colab: Installing scvi-tools.                                                                        \n",
            "\u001b[34mINFO    \u001b[0m scvi-colab: Install successful. Testing import.                                                           \n"
          ]
        }
      ],
      "source": [
        "!pip install --quiet scvi-colab\n",
        "from scvi_colab import install\n",
        "\n",
        "install()"
      ]
    },
    {
      "cell_type": "markdown",
      "source": [
        "## Imports and data loading"
      ],
      "metadata": {
        "id": "flNUYc0TyB12"
      }
    },
    {
      "cell_type": "code",
      "source": [
        "import tempfile\n",
        "\n",
        "import anndata as ad\n",
        "import matplotlib.pyplot as plt\n",
        "import mudata as md\n",
        "import muon\n",
        "import numpy as np\n",
        "import scanpy as sc\n",
        "import scvi\n",
        "import seaborn as sns\n",
        "import torch"
      ],
      "metadata": {
        "id": "Etl4MlBjxPlD"
      },
      "execution_count": 2,
      "outputs": []
    },
    {
      "cell_type": "code",
      "source": [
        "scvi.settings.seed = 0\n",
        "print(\"Last run with scvi-tools version:\", scvi.__version__)"
      ],
      "metadata": {
        "colab": {
          "base_uri": "https://localhost:8080/"
        },
        "id": "ENvgwWqixm_V",
        "outputId": "06ab1679-051b-459e-d69f-a97231ebae73"
      },
      "execution_count": 3,
      "outputs": [
        {
          "output_type": "stream",
          "name": "stderr",
          "text": [
            "INFO: Seed set to 0\n",
            "INFO:lightning.fabric.utilities.seed:Seed set to 0\n"
          ]
        },
        {
          "output_type": "stream",
          "name": "stdout",
          "text": [
            "Last run with scvi-tools version: 1.2.2.post2\n"
          ]
        }
      ]
    },
    {
      "cell_type": "markdown",
      "source": [
        "```{note}\n",
        "You can modify `save_dir` below to change where the data files for this tutorial are saved.\n",
        "```"
      ],
      "metadata": {
        "id": "0LrlKo9iyLX9"
      }
    },
    {
      "cell_type": "code",
      "source": [
        "sc.set_figure_params(figsize=(6, 6), frameon=False)\n",
        "sns.set_theme()\n",
        "torch.set_float32_matmul_precision(\"high\")\n",
        "save_dir = tempfile.TemporaryDirectory()\n",
        "\n",
        "%config InlineBackend.print_figure_kwargs={\"facecolor\": \"w\"}\n",
        "%config InlineBackend.figure_format=\"retina\""
      ],
      "metadata": {
        "id": "NRliiPwQyFZg"
      },
      "execution_count": 4,
      "outputs": []
    },
    {
      "cell_type": "markdown",
      "source": [
        "Todo: describe data, link to dataset (not sure best way to share)\n",
        "https://www.10xgenomics.com/datasets/10-k-pbm-cs-from-a-healthy-donor-gene-expression-and-cell-surface-protein-3-standard-3-0-0"
      ],
      "metadata": {
        "id": "n4fwDWEmyS_o"
      }
    },
    {
      "cell_type": "code",
      "source": [
        "mdata = muon.read_10x_h5(\"/content/pbmc_10k_protein_v3_filtered_feature_bc_matrix.h5\")"
      ],
      "metadata": {
        "colab": {
          "base_uri": "https://localhost:8080/"
        },
        "id": "oknql592yPJg",
        "outputId": "94ebd4b7-98ef-4824-8d56-7eaa9ed05220"
      },
      "execution_count": 5,
      "outputs": [
        {
          "output_type": "stream",
          "name": "stderr",
          "text": [
            "/usr/local/lib/python3.11/dist-packages/anndata/_core/anndata.py:1758: UserWarning: Variable names are not unique. To make them unique, call `.var_names_make_unique`.\n",
            "  utils.warn_names_duplicates(\"var\")\n",
            "/usr/local/lib/python3.11/dist-packages/anndata/_core/anndata.py:1758: UserWarning: Variable names are not unique. To make them unique, call `.var_names_make_unique`.\n",
            "  utils.warn_names_duplicates(\"var\")\n",
            "/usr/local/lib/python3.11/dist-packages/mudata/_core/mudata.py:1531: FutureWarning: From 0.4 .update() will not pull obs/var columns from individual modalities by default anymore. Set mudata.set_options(pull_on_update=False) to adopt the new behaviour, which will become the default. Use new pull_obs/pull_var and push_obs/push_var methods for more flexibility.\n",
            "  self._update_attr(\"var\", axis=0, join_common=join_common)\n",
            "/usr/local/lib/python3.11/dist-packages/mudata/_core/mudata.py:915: UserWarning: var_names are not unique. To make them unique, call `.var_names_make_unique`.\n",
            "  warnings.warn(\n",
            "/usr/local/lib/python3.11/dist-packages/mudata/_core/mudata.py:1429: FutureWarning: From 0.4 .update() will not pull obs/var columns from individual modalities by default anymore. Set mudata.set_options(pull_on_update=False) to adopt the new behaviour, which will become the default. Use new pull_obs/pull_var and push_obs/push_var methods for more flexibility.\n",
            "  self._update_attr(\"obs\", axis=1, join_common=join_common)\n"
          ]
        }
      ]
    },
    {
      "cell_type": "markdown",
      "source": [
        "below wasn't sure if we need to do bsd normalization as in this tutorial using the coutn matrix with all droplets\n",
        "\n",
        "https://muon-tutorials.readthedocs.io/en/latest/cite-seq/1-CITE-seq-PBMC-5k.html"
      ],
      "metadata": {
        "id": "ppQcKgKE1K5N"
      }
    },
    {
      "cell_type": "code",
      "source": [
        "mdata_raw = muon.read_10x_h5(\"/content/pbmc_10k_protein_v3_raw_feature_bc_matrix.h5\")"
      ],
      "metadata": {
        "colab": {
          "base_uri": "https://localhost:8080/"
        },
        "id": "9VJVGMw206GH",
        "outputId": "5131a1eb-228d-4ffa-b5dd-fec887b32660"
      },
      "execution_count": null,
      "outputs": [
        {
          "output_type": "stream",
          "name": "stderr",
          "text": [
            "/usr/local/lib/python3.11/dist-packages/anndata/_core/anndata.py:1758: UserWarning: Variable names are not unique. To make them unique, call `.var_names_make_unique`.\n",
            "  utils.warn_names_duplicates(\"var\")\n",
            "/usr/local/lib/python3.11/dist-packages/anndata/_core/anndata.py:1758: UserWarning: Variable names are not unique. To make them unique, call `.var_names_make_unique`.\n",
            "  utils.warn_names_duplicates(\"var\")\n",
            "/usr/local/lib/python3.11/dist-packages/mudata/_core/mudata.py:1531: FutureWarning: From 0.4 .update() will not pull obs/var columns from individual modalities by default anymore. Set mudata.set_options(pull_on_update=False) to adopt the new behaviour, which will become the default. Use new pull_obs/pull_var and push_obs/push_var methods for more flexibility.\n",
            "  self._update_attr(\"var\", axis=0, join_common=join_common)\n",
            "/usr/local/lib/python3.11/dist-packages/mudata/_core/mudata.py:915: UserWarning: var_names are not unique. To make them unique, call `.var_names_make_unique`.\n",
            "  warnings.warn(\n",
            "/usr/local/lib/python3.11/dist-packages/mudata/_core/mudata.py:1429: FutureWarning: From 0.4 .update() will not pull obs/var columns from individual modalities by default anymore. Set mudata.set_options(pull_on_update=False) to adopt the new behaviour, which will become the default. Use new pull_obs/pull_var and push_obs/push_var methods for more flexibility.\n",
            "  self._update_attr(\"obs\", axis=1, join_common=join_common)\n"
          ]
        }
      ]
    },
    {
      "cell_type": "code",
      "source": [
        "mdata"
      ],
      "metadata": {
        "colab": {
          "base_uri": "https://localhost:8080/",
          "height": 139
        },
        "id": "AwjF9t2y1G1f",
        "outputId": "de3c224b-d67b-4843-ae2b-63037bde6e49"
      },
      "execution_count": 6,
      "outputs": [
        {
          "output_type": "execute_result",
          "data": {
            "text/plain": [
              "MuData object with n_obs × n_vars = 7865 × 33555\n",
              "  var:\t'gene_ids', 'feature_types', 'genome', 'pattern', 'read', 'sequence'\n",
              "  2 modalities\n",
              "    rna:\t7865 x 33538\n",
              "      var:\t'gene_ids', 'feature_types', 'genome', 'pattern', 'read', 'sequence'\n",
              "    prot:\t7865 x 17\n",
              "      var:\t'gene_ids', 'feature_types', 'genome', 'pattern', 'read', 'sequence'"
            ],
            "text/html": [
              "<pre>MuData object with n_obs × n_vars = 7865 × 33555\n",
              "  var:\t&#x27;gene_ids&#x27;, &#x27;feature_types&#x27;, &#x27;genome&#x27;, &#x27;pattern&#x27;, &#x27;read&#x27;, &#x27;sequence&#x27;\n",
              "  2 modalities\n",
              "    rna:\t7865 x 33538\n",
              "      var:\t&#x27;gene_ids&#x27;, &#x27;feature_types&#x27;, &#x27;genome&#x27;, &#x27;pattern&#x27;, &#x27;read&#x27;, &#x27;sequence&#x27;\n",
              "    prot:\t7865 x 17\n",
              "      var:\t&#x27;gene_ids&#x27;, &#x27;feature_types&#x27;, &#x27;genome&#x27;, &#x27;pattern&#x27;, &#x27;read&#x27;, &#x27;sequence&#x27;</pre>"
            ]
          },
          "metadata": {},
          "execution_count": 6
        }
      ]
    },
    {
      "cell_type": "code",
      "source": [
        "mdata.mod[\"rna\"].var_names_make_unique()\n",
        "mdata.mod[\"rna\"].layers[\"counts\"] = mdata.mod[\"rna\"].X.copy()\n",
        "sc.pp.normalize_total(mdata.mod[\"rna\"])\n",
        "sc.pp.log1p(mdata.mod[\"rna\"])\n",
        "\n",
        "sc.pp.highly_variable_genes(\n",
        "    mdata.mod[\"rna\"],\n",
        "    n_top_genes=4000,\n",
        "    flavor=\"seurat_v3\",\n",
        "    layer=\"counts\",\n",
        ")\n",
        "# Place subsetted counts in a new modality\n",
        "mdata.mod[\"rna_subset\"] = mdata.mod[\"rna\"][:, mdata.mod[\"rna\"].var[\"highly_variable\"]].copy()"
      ],
      "metadata": {
        "id": "SZM6srt41buL"
      },
      "execution_count": 7,
      "outputs": []
    },
    {
      "cell_type": "markdown",
      "source": [
        "Becuase of the filtering process we will re create the mdata here"
      ],
      "metadata": {
        "id": "sNqZtmj2-fN-"
      }
    },
    {
      "cell_type": "code",
      "source": [
        "mdata = md.MuData(mdata.mod)"
      ],
      "metadata": {
        "colab": {
          "base_uri": "https://localhost:8080/"
        },
        "id": "Qr993z-X97wo",
        "outputId": "760c5bb9-7cdf-4e02-a804-355f37e360b4"
      },
      "execution_count": 8,
      "outputs": [
        {
          "output_type": "stream",
          "name": "stderr",
          "text": [
            "/usr/local/lib/python3.11/dist-packages/mudata/_core/mudata.py:1531: FutureWarning: From 0.4 .update() will not pull obs/var columns from individual modalities by default anymore. Set mudata.set_options(pull_on_update=False) to adopt the new behaviour, which will become the default. Use new pull_obs/pull_var and push_obs/push_var methods for more flexibility.\n",
            "  self._update_attr(\"var\", axis=0, join_common=join_common)\n",
            "/usr/local/lib/python3.11/dist-packages/mudata/_core/mudata.py:931: UserWarning: Cannot join columns with the same name because var_names are intersecting.\n",
            "  warnings.warn(\n",
            "/usr/local/lib/python3.11/dist-packages/mudata/_core/mudata.py:1429: FutureWarning: From 0.4 .update() will not pull obs/var columns from individual modalities by default anymore. Set mudata.set_options(pull_on_update=False) to adopt the new behaviour, which will become the default. Use new pull_obs/pull_var and push_obs/push_var methods for more flexibility.\n",
            "  self._update_attr(\"obs\", axis=1, join_common=join_common)\n"
          ]
        }
      ]
    },
    {
      "cell_type": "code",
      "source": [
        "# we need to work with dense and not sparse matrices:\n",
        "mdata[\"prot\"].X = mdata[\"prot\"].X.toarray()\n",
        "mdata[\"rna_subset\"].X = mdata[\"rna_subset\"].X.toarray()\n",
        "mdata.mod[\"rna_subset\"].layers[\"counts\"] = mdata.mod[\"rna_subset\"].layers[\"counts\"].toarray()"
      ],
      "metadata": {
        "id": "LUBSRnlL5zLO"
      },
      "execution_count": 9,
      "outputs": []
    },
    {
      "cell_type": "code",
      "source": [
        "mdata.update()"
      ],
      "metadata": {
        "colab": {
          "base_uri": "https://localhost:8080/"
        },
        "id": "ajAAidBL_BVP",
        "outputId": "436bfb5e-52d1-4b08-fe78-360131be8304"
      },
      "execution_count": 10,
      "outputs": [
        {
          "output_type": "stream",
          "name": "stderr",
          "text": [
            "/usr/local/lib/python3.11/dist-packages/mudata/_core/mudata.py:1531: FutureWarning: From 0.4 .update() will not pull obs/var columns from individual modalities by default anymore. Set mudata.set_options(pull_on_update=False) to adopt the new behaviour, which will become the default. Use new pull_obs/pull_var and push_obs/push_var methods for more flexibility.\n",
            "  self._update_attr(\"var\", axis=0, join_common=join_common)\n",
            "/usr/local/lib/python3.11/dist-packages/mudata/_core/mudata.py:1429: FutureWarning: From 0.4 .update() will not pull obs/var columns from individual modalities by default anymore. Set mudata.set_options(pull_on_update=False) to adopt the new behaviour, which will become the default. Use new pull_obs/pull_var and push_obs/push_var methods for more flexibility.\n",
            "  self._update_attr(\"obs\", axis=1, join_common=join_common)\n"
          ]
        }
      ]
    },
    {
      "cell_type": "code",
      "source": [
        "mdata"
      ],
      "metadata": {
        "colab": {
          "base_uri": "https://localhost:8080/",
          "height": 245
        },
        "id": "IH7Cd4bW_Dxu",
        "outputId": "f683dc17-d9a3-4549-de6a-34e748596af0"
      },
      "execution_count": 11,
      "outputs": [
        {
          "output_type": "execute_result",
          "data": {
            "text/plain": [
              "MuData object with n_obs × n_vars = 7865 × 37555\n",
              "  3 modalities\n",
              "    rna:\t7865 x 33538\n",
              "      var:\t'gene_ids', 'feature_types', 'genome', 'pattern', 'read', 'sequence', 'highly_variable', 'highly_variable_rank', 'means', 'variances', 'variances_norm'\n",
              "      uns:\t'log1p', 'hvg'\n",
              "      layers:\t'counts'\n",
              "    prot:\t7865 x 17\n",
              "      var:\t'gene_ids', 'feature_types', 'genome', 'pattern', 'read', 'sequence'\n",
              "    rna_subset:\t7865 x 4000\n",
              "      var:\t'gene_ids', 'feature_types', 'genome', 'pattern', 'read', 'sequence', 'highly_variable', 'highly_variable_rank', 'means', 'variances', 'variances_norm'\n",
              "      uns:\t'log1p', 'hvg'\n",
              "      layers:\t'counts'"
            ],
            "text/html": [
              "<pre>MuData object with n_obs × n_vars = 7865 × 37555\n",
              "  3 modalities\n",
              "    rna:\t7865 x 33538\n",
              "      var:\t&#x27;gene_ids&#x27;, &#x27;feature_types&#x27;, &#x27;genome&#x27;, &#x27;pattern&#x27;, &#x27;read&#x27;, &#x27;sequence&#x27;, &#x27;highly_variable&#x27;, &#x27;highly_variable_rank&#x27;, &#x27;means&#x27;, &#x27;variances&#x27;, &#x27;variances_norm&#x27;\n",
              "      uns:\t&#x27;log1p&#x27;, &#x27;hvg&#x27;\n",
              "      layers:\t&#x27;counts&#x27;\n",
              "    prot:\t7865 x 17\n",
              "      var:\t&#x27;gene_ids&#x27;, &#x27;feature_types&#x27;, &#x27;genome&#x27;, &#x27;pattern&#x27;, &#x27;read&#x27;, &#x27;sequence&#x27;\n",
              "    rna_subset:\t7865 x 4000\n",
              "      var:\t&#x27;gene_ids&#x27;, &#x27;feature_types&#x27;, &#x27;genome&#x27;, &#x27;pattern&#x27;, &#x27;read&#x27;, &#x27;sequence&#x27;, &#x27;highly_variable&#x27;, &#x27;highly_variable_rank&#x27;, &#x27;means&#x27;, &#x27;variances&#x27;, &#x27;variances_norm&#x27;\n",
              "      uns:\t&#x27;log1p&#x27;, &#x27;hvg&#x27;\n",
              "      layers:\t&#x27;counts&#x27;</pre>"
            ]
          },
          "metadata": {},
          "execution_count": 11
        }
      ]
    },
    {
      "cell_type": "code",
      "source": [
        "# Save preprocessed mdata for later use\n",
        "muon.write_h5mu(\"pbmc_10k_protein_v3_preprocessed.h5\", mdata)"
      ],
      "metadata": {
        "id": "kr_QZp5p_FOb",
        "colab": {
          "base_uri": "https://localhost:8080/"
        },
        "outputId": "2791d9d0-ebaa-49ae-a040-55f83c9b4e4b"
      },
      "execution_count": 14,
      "outputs": [
        {
          "output_type": "stream",
          "name": "stderr",
          "text": [
            "/usr/local/lib/python3.11/dist-packages/mudata/_core/mudata.py:1531: FutureWarning: From 0.4 .update() will not pull obs/var columns from individual modalities by default anymore. Set mudata.set_options(pull_on_update=False) to adopt the new behaviour, which will become the default. Use new pull_obs/pull_var and push_obs/push_var methods for more flexibility.\n",
            "  self._update_attr(\"var\", axis=0, join_common=join_common)\n",
            "/usr/local/lib/python3.11/dist-packages/mudata/_core/mudata.py:1429: FutureWarning: From 0.4 .update() will not pull obs/var columns from individual modalities by default anymore. Set mudata.set_options(pull_on_update=False) to adopt the new behaviour, which will become the default. Use new pull_obs/pull_var and push_obs/push_var methods for more flexibility.\n",
            "  self._update_attr(\"obs\", axis=1, join_common=join_common)\n"
          ]
        }
      ]
    }
  ]
}