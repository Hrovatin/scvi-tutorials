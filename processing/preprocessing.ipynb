{
 "cells": [
  {
   "cell_type": "markdown",
   "metadata": {
    "id": "O39GuDrheG96"
   },
   "source": [
    "# Preprocessing datasets for analysis with scvi-tools"
   ]
  },
  {
   "cell_type": "markdown",
   "metadata": {
    "id": "No7Pt-I5M0f9"
   },
   "source": [
    "## Dependencies"
   ]
  },
  {
   "cell_type": "markdown",
   "metadata": {
    "id": "ztZuAKuNxzUy"
   },
   "source": [
    "```{note}\n",
    "Running the following cell will install tutorial dependencies on Google Colab only. It will have no effect on environments other than Google Colab.\n",
    "```"
   ]
  },
  {
   "cell_type": "code",
   "execution_count": 1,
   "metadata": {
    "colab": {
     "base_uri": "https://localhost:8080/"
    },
    "id": "VHiq1wfav9bJ",
    "outputId": "e8ab8cda-4f6e-476b-ee2f-ec38259b6598"
   },
   "outputs": [
    {
     "name": "stdout",
     "output_type": "stream",
     "text": [
      "\u001b[34mINFO    \u001b[0m scvi-colab: Installing scvi-tools.                                                                        \n",
      "\u001b[34mINFO    \u001b[0m scvi-colab: Install successful. Testing import.                                                           \n"
     ]
    },
    {
     "name": "stderr",
     "output_type": "stream",
     "text": [
      "/usr/local/lib/python3.11/dist-packages/docrep/decorators.py:43: SyntaxWarning: 'param_categorical_covariate_keys' is not a valid key!\n",
      "  doc = func(self, args[0].__doc__, *args[1:], **kwargs)\n",
      "/usr/local/lib/python3.11/dist-packages/docrep/decorators.py:43: SyntaxWarning: 'param_continuous_covariate_keys' is not a valid key!\n",
      "  doc = func(self, args[0].__doc__, *args[1:], **kwargs)\n"
     ]
    }
   ],
   "source": [
    "!pip install --quiet scvi-colab\n",
    "from scvi_colab import install\n",
    "\n",
    "install()"
   ]
  },
  {
   "cell_type": "markdown",
   "metadata": {
    "id": "flNUYc0TyB12"
   },
   "source": [
    "## Imports and preparing files"
   ]
  },
  {
   "cell_type": "code",
   "execution_count": 2,
   "metadata": {
    "id": "Etl4MlBjxPlD"
   },
   "outputs": [],
   "source": [
    "import gzip\n",
    "import os\n",
    "import tempfile\n",
    "from pathlib import Path\n",
    "\n",
    "import anndata as ad\n",
    "import mudata as md\n",
    "import muon\n",
    "import numpy as np\n",
    "import pooch\n",
    "import scanpy as sc\n",
    "import scvi\n",
    "import seaborn as sns\n",
    "import torch"
   ]
  },
  {
   "cell_type": "code",
   "execution_count": 3,
   "metadata": {
    "colab": {
     "base_uri": "https://localhost:8080/"
    },
    "id": "ENvgwWqixm_V",
    "outputId": "6174d725-8168-4c86-d1b8-e78e1106d093"
   },
   "outputs": [
    {
     "name": "stderr",
     "output_type": "stream",
     "text": [
      "INFO: Seed set to 0\n",
      "INFO:lightning.fabric.utilities.seed:Seed set to 0\n"
     ]
    },
    {
     "name": "stdout",
     "output_type": "stream",
     "text": [
      "Last run with scvi-tools version: 1.3.0\n"
     ]
    }
   ],
   "source": [
    "scvi.settings.seed = 0\n",
    "print(\"Last run with scvi-tools version:\", scvi.__version__)"
   ]
  },
  {
   "cell_type": "markdown",
   "metadata": {
    "id": "0LrlKo9iyLX9"
   },
   "source": [
    "```{note}\n",
    "You can modify `save_dir` below to change where the data files for this tutorial are saved.\n",
    "\n",
    "You can modify `file_name` below to the name of the dataset you would like to preprocess. This file will end with .h5ad or .h5 depending on which model you plan to use.\n",
    "```"
   ]
  },
  {
   "cell_type": "code",
   "execution_count": 4,
   "metadata": {
    "id": "NRliiPwQyFZg"
   },
   "outputs": [],
   "source": [
    "sc.set_figure_params(figsize=(6, 6), frameon=False)\n",
    "sns.set_theme()\n",
    "torch.set_float32_matmul_precision(\"high\")\n",
    "save_dir = tempfile.TemporaryDirectory()\n",
    "\n",
    "%config InlineBackend.print_figure_kwargs={\"facecolor\": \"w\"}\n",
    "%config InlineBackend.figure_format=\"retina\""
   ]
  },
  {
   "cell_type": "markdown",
   "metadata": {
    "id": "UOiaVe6UdDfP"
   },
   "source": [
    "## scRNA-seq"
   ]
  },
  {
   "cell_type": "markdown",
   "metadata": {
    "id": "VKeYasOZj8Hg"
   },
   "source": [
    "Here we demonstrate preprocessing of an scRNA-seq dataset using cells from the lung atlas integration task from the [scIB manuscript](https://www.biorxiv.org/content/10.1101/2020.05.22.111161v2)."
   ]
  },
  {
   "cell_type": "code",
   "execution_count": 5,
   "metadata": {
    "colab": {
     "base_uri": "https://localhost:8080/",
     "height": 136,
     "referenced_widgets": [
      "76319f13419e49e0a9e4e2dabc8c9a99",
      "69f6ba723c724cc1bb75bc169680dbba",
      "5b003c3f8602441a9f13fb42f59676ba",
      "868e5d617bfb4317b6315c687c715dbd",
      "d11877121b624053b37b029a7ab2a03a",
      "a45f233ddc1c4df0b1fed0235a823302",
      "16774344109040c29495e727098ec149",
      "84f1c3f7bad248a9ad02be06bf9c0700",
      "c7ceb70d121d4710a904d751fb534521",
      "317146228c47439494b8bd0bd5f23135",
      "906d86123bb64289a943fc19312fdc82"
     ]
    },
    "id": "9ZAQVVWOPtRw",
    "outputId": "55d3cd88-5c74-4d6c-bc48-b1b9cc9ab27d"
   },
   "outputs": [
    {
     "data": {
      "application/vnd.jupyter.widget-view+json": {
       "model_id": "76319f13419e49e0a9e4e2dabc8c9a99",
       "version_major": 2,
       "version_minor": 0
      },
      "text/plain": [
       "  0%|          | 0.00/972M [00:00<?, ?B/s]"
      ]
     },
     "metadata": {},
     "output_type": "display_data"
    },
    {
     "data": {
      "text/plain": [
       "AnnData object with n_obs × n_vars = 32472 × 15148\n",
       "    obs: 'dataset', 'location', 'nGene', 'nUMI', 'patientGroup', 'percent.mito', 'protocol', 'sanger_type', 'size_factors', 'sampling_method', 'batch', 'cell_type', 'donor'\n",
       "    layers: 'counts'"
      ]
     },
     "execution_count": 5,
     "metadata": {},
     "output_type": "execute_result"
    }
   ],
   "source": [
    "adata_path = os.path.join(save_dir.name, \"lung_atlas.h5ad\")\n",
    "\n",
    "adata = sc.read(\n",
    "    adata_path,\n",
    "    backup_url=\"https://figshare.com/ndownloader/files/24539942\",\n",
    ")\n",
    "adata"
   ]
  },
  {
   "cell_type": "markdown",
   "metadata": {
    "id": "GAKuvzIYRN-R"
   },
   "source": [
    "This dataset already has counts stored in layers, and `adata.X` contains log transformed scran normalized expression. If this is not the case for your dataset, you can preserve the raw counts, then normalize and log transform them with\n",
    "```python\n",
    "adata.layers[\"counts\"] = adata.X.copy()\n",
    "sc.pp.normalize_total(adata, target_sum=1e4)\n",
    "sc.pp.log1p(adata)\n",
    "```"
   ]
  },
  {
   "cell_type": "markdown",
   "metadata": {
    "id": "5n0hWw5HSskb"
   },
   "source": [
    "Below we perform gene selection while keeping the full dimension normalized data in `adata.raw`. We obtain variable genes from each dataset and take their intersections."
   ]
  },
  {
   "cell_type": "code",
   "execution_count": 6,
   "metadata": {
    "colab": {
     "base_uri": "https://localhost:8080/"
    },
    "id": "dwwVLfXlk3U3",
    "outputId": "14f7f876-0ee1-481b-9257-9a7fcfe0d6e9"
   },
   "outputs": [
    {
     "name": "stderr",
     "output_type": "stream",
     "text": [
      "/usr/local/lib/python3.11/dist-packages/scanpy/preprocessing/_highly_variable_genes.py:74: UserWarning: `flavor='seurat_v3'` expects raw count data, but non-integers were found.\n",
      "  warnings.warn(\n"
     ]
    }
   ],
   "source": [
    "adata.raw = adata  # keep full dimension safe\n",
    "sc.pp.highly_variable_genes(\n",
    "    adata,\n",
    "    n_top_genes=2000,\n",
    "    flavor=\"seurat_v3\",\n",
    "    layer=\"counts\",\n",
    "    subset=True,\n",
    "    batch_key=\"batch\",  # Change depending on the batch key for your dataset\n",
    ")"
   ]
  },
  {
   "cell_type": "markdown",
   "metadata": {
    "id": "68LPEzKrTFoE"
   },
   "source": [
    "```{important}\n",
    "We see a warning about the data not containing counts. This is due to some of the samples in this dataset containing SoupX-corrected counts. scvi-tools models will run for non-negative real-valued data, but we strongly suggest checking that these possibly non-count values are intended to represent pseudocounts, and not some other normalized data, in which the variance/covariance structure of the data has changed dramatically.\n",
    "```"
   ]
  },
  {
   "cell_type": "markdown",
   "metadata": {
    "id": "LZLxxKsPOXQs"
   },
   "source": [
    "## scATAC-seq"
   ]
  },
  {
   "cell_type": "markdown",
   "metadata": {
    "id": "GS0flNfTtuPb"
   },
   "source": [
    "To demonstrate preprocessing of scATAC-seq data, we use a 5k PBMC sample dataset from 10X. We use the pooch package to download the data."
   ]
  },
  {
   "cell_type": "code",
   "execution_count": 7,
   "metadata": {
    "id": "XAfa7FzqFkjJ"
   },
   "outputs": [],
   "source": [
    "def download_data(save_path: str, fname: str = \"atac_pbmc_5k\") -> str:\n",
    "    \"\"\"Download the data files.\"\"\"\n",
    "    data_paths = pooch.retrieve(\n",
    "        url=\"https://cf.10xgenomics.com/samples/cell-atac/1.2.0/atac_pbmc_5k_nextgem/atac_pbmc_5k_nextgem_filtered_peak_bc_matrix.tar.gz\",\n",
    "        known_hash=\"78e536a1508108fa5bd3b411a7484809c011f3403800369b20db05bdbfeb2284\",\n",
    "        fname=fname,\n",
    "        path=save_path,\n",
    "        processor=pooch.Untar(),\n",
    "        progressbar=True,\n",
    "    )\n",
    "    return str(Path(data_paths[0]).parent)"
   ]
  },
  {
   "cell_type": "code",
   "execution_count": 8,
   "metadata": {
    "colab": {
     "base_uri": "https://localhost:8080/"
    },
    "id": "l93TdySMGafj",
    "outputId": "06ba069f-efc2-4f26-c058-b060687ca2fe"
   },
   "outputs": [
    {
     "name": "stderr",
     "output_type": "stream",
     "text": [
      "Downloading data from 'https://cf.10xgenomics.com/samples/cell-atac/1.2.0/atac_pbmc_5k_nextgem/atac_pbmc_5k_nextgem_filtered_peak_bc_matrix.tar.gz' to file '/tmp/tmpne5dtz2o/atac_pbmc_5k'.\n",
      "100%|████████████████████████████████████████| 114M/114M [00:00<00:00, 107GB/s]\n",
      "Untarring contents of '/tmp/tmpne5dtz2o/atac_pbmc_5k' to '/tmp/tmpne5dtz2o/atac_pbmc_5k.untar'\n"
     ]
    }
   ],
   "source": [
    "data_path = download_data(save_dir.name)"
   ]
  },
  {
   "cell_type": "code",
   "execution_count": 9,
   "metadata": {
    "colab": {
     "base_uri": "https://localhost:8080/"
    },
    "id": "OBqNhA5hIEfd",
    "outputId": "2ff10cd9-ac9b-4cac-a741-ad81b469c7e0"
   },
   "outputs": [
    {
     "data": {
      "text/plain": [
       "AnnData object with n_obs × n_vars = 4585 × 115554\n",
       "    obs: 'batch_id'\n",
       "    var: 'chr', 'start', 'end'"
      ]
     },
     "execution_count": 9,
     "metadata": {},
     "output_type": "execute_result"
    }
   ],
   "source": [
    "adata = scvi.data.read_10x_atac(data_path)\n",
    "adata"
   ]
  },
  {
   "cell_type": "markdown",
   "metadata": {
    "id": "2HlkpBAyIKmj"
   },
   "source": [
    "We use Scanpy here to filter out peaks that are rarely detected, so that the model trains faster:"
   ]
  },
  {
   "cell_type": "code",
   "execution_count": 10,
   "metadata": {
    "colab": {
     "base_uri": "https://localhost:8080/"
    },
    "id": "Gzx81hjmH9jz",
    "outputId": "44745df2-9719-4591-ee32-deef46a9a1fa"
   },
   "outputs": [
    {
     "name": "stdout",
     "output_type": "stream",
     "text": [
      "# regions before filtering: 115554\n",
      "# regions after filtering: 33142\n"
     ]
    }
   ],
   "source": [
    "print(\"# regions before filtering:\", adata.shape[-1])\n",
    "\n",
    "# compute the threshold: 5% of the cells\n",
    "min_cells = int(adata.shape[0] * 0.05)\n",
    "# in-place filtering of regions\n",
    "sc.pp.filter_genes(adata, min_cells=min_cells)\n",
    "\n",
    "print(\"# regions after filtering:\", adata.shape[-1])"
   ]
  },
  {
   "cell_type": "markdown",
   "metadata": {
    "id": "OPybqBG3OH3g"
   },
   "source": [
    "## CITE-seq"
   ]
  },
  {
   "cell_type": "markdown",
   "metadata": {
    "id": "Z_RIYYaOSeBX"
   },
   "source": [
    "Here we demonstrate preprocessing of CITE-seq data on integrated PBMC10k and PBMC5k datasets available from 10X Genomics. We will subset to the 17 proteins shared between the datasets."
   ]
  },
  {
   "cell_type": "code",
   "execution_count": 11,
   "metadata": {
    "id": "zgVEWlxcWhjN"
   },
   "outputs": [],
   "source": [
    "def download_data(save_path: str, fname: str = \"CITE-seq_pbmc_10k\") -> str:\n",
    "    \"\"\"Download the data files.\"\"\"\n",
    "    if fname == \"CITE-seq_pbmc_10k\":\n",
    "        hash = \"md5:26d53ffe08b5f7d3b28df61b592d51fb\"\n",
    "        url = \"https://cf.10xgenomics.com/samples/cell-exp/3.0.0/pbmc_10k_protein_v3/pbmc_10k_protein_v3_filtered_feature_bc_matrix.tar.gz\"\n",
    "    else:\n",
    "        hash = \"md5:9be3d672b0445b944ca06a507c3d780b\"\n",
    "        url = \"https://cf.10xgenomics.com/samples/cell-exp/3.1.0/5k_pbmc_protein_v3/5k_pbmc_protein_v3_filtered_feature_bc_matrix.tar.gz\"\n",
    "\n",
    "    data_paths = pooch.retrieve(\n",
    "        url=url,\n",
    "        known_hash=hash,\n",
    "        fname=fname,\n",
    "        path=save_path,\n",
    "        processor=pooch.Untar(),\n",
    "        progressbar=True,\n",
    "    )\n",
    "    return str(Path(data_paths[0]).parent)"
   ]
  },
  {
   "cell_type": "code",
   "execution_count": 12,
   "metadata": {
    "colab": {
     "base_uri": "https://localhost:8080/"
    },
    "id": "Z9ACDUxgW1hD",
    "outputId": "85d1fa1c-bc59-4213-e120-1a41f60cd09b"
   },
   "outputs": [
    {
     "name": "stderr",
     "output_type": "stream",
     "text": [
      "Downloading data from 'https://cf.10xgenomics.com/samples/cell-exp/3.0.0/pbmc_10k_protein_v3/pbmc_10k_protein_v3_filtered_feature_bc_matrix.tar.gz' to file '/tmp/tmpne5dtz2o/CITE-seq_pbmc_10k'.\n",
      "100%|█████████████████████████████████████| 48.7M/48.7M [00:00<00:00, 22.9GB/s]\n",
      "Untarring contents of '/tmp/tmpne5dtz2o/CITE-seq_pbmc_10k' to '/tmp/tmpne5dtz2o/CITE-seq_pbmc_10k.untar'\n",
      "Downloading data from 'https://cf.10xgenomics.com/samples/cell-exp/3.1.0/5k_pbmc_protein_v3/5k_pbmc_protein_v3_filtered_feature_bc_matrix.tar.gz' to file '/tmp/tmpne5dtz2o/CITE-seq_pbmc_5k'.\n",
      "100%|█████████████████████████████████████| 36.2M/36.2M [00:00<00:00, 19.3GB/s]\n",
      "Untarring contents of '/tmp/tmpne5dtz2o/CITE-seq_pbmc_5k' to '/tmp/tmpne5dtz2o/CITE-seq_pbmc_5k.untar'\n"
     ]
    }
   ],
   "source": [
    "data_path1 = download_data(save_dir.name)\n",
    "data_path2 = download_data(save_dir.name, \"CITE-seq_pbmc_5k\")"
   ]
  },
  {
   "cell_type": "code",
   "execution_count": 13,
   "metadata": {
    "colab": {
     "base_uri": "https://localhost:8080/"
    },
    "id": "oknql592yPJg",
    "outputId": "957e751e-2924-4850-fd09-825825025dc6"
   },
   "outputs": [
    {
     "name": "stderr",
     "output_type": "stream",
     "text": [
      "/usr/local/lib/python3.11/dist-packages/mudata/_core/mudata.py:1531: FutureWarning: From 0.4 .update() will not pull obs/var columns from individual modalities by default anymore. Set mudata.set_options(pull_on_update=False) to adopt the new behaviour, which will become the default. Use new pull_obs/pull_var and push_obs/push_var methods for more flexibility.\n",
      "  self._update_attr(\"var\", axis=0, join_common=join_common)\n",
      "/usr/local/lib/python3.11/dist-packages/mudata/_core/mudata.py:1429: FutureWarning: From 0.4 .update() will not pull obs/var columns from individual modalities by default anymore. Set mudata.set_options(pull_on_update=False) to adopt the new behaviour, which will become the default. Use new pull_obs/pull_var and push_obs/push_var methods for more flexibility.\n",
      "  self._update_attr(\"obs\", axis=1, join_common=join_common)\n",
      "/usr/local/lib/python3.11/dist-packages/mudata/_core/mudata.py:1531: FutureWarning: From 0.4 .update() will not pull obs/var columns from individual modalities by default anymore. Set mudata.set_options(pull_on_update=False) to adopt the new behaviour, which will become the default. Use new pull_obs/pull_var and push_obs/push_var methods for more flexibility.\n",
      "  self._update_attr(\"var\", axis=0, join_common=join_common)\n",
      "/usr/local/lib/python3.11/dist-packages/mudata/_core/mudata.py:1429: FutureWarning: From 0.4 .update() will not pull obs/var columns from individual modalities by default anymore. Set mudata.set_options(pull_on_update=False) to adopt the new behaviour, which will become the default. Use new pull_obs/pull_var and push_obs/push_var methods for more flexibility.\n",
      "  self._update_attr(\"obs\", axis=1, join_common=join_common)\n"
     ]
    }
   ],
   "source": [
    "mdata1 = muon.read_10x_mtx(data_path1)\n",
    "mdata2 = muon.read_10x_mtx(data_path2)"
   ]
  },
  {
   "cell_type": "code",
   "execution_count": 14,
   "metadata": {
    "colab": {
     "base_uri": "https://localhost:8080/",
     "height": 139
    },
    "id": "F-5BAQ6GX2nL",
    "outputId": "6c19e2c7-0246-4b2d-c01d-c51a28f1b283"
   },
   "outputs": [
    {
     "data": {
      "text/html": [
       "<pre>MuData object with n_obs × n_vars = 7865 × 33555\n",
       "  var:\t&#x27;gene_ids&#x27;, &#x27;feature_types&#x27;\n",
       "  2 modalities\n",
       "    rna:\t7865 x 33538\n",
       "      var:\t&#x27;gene_ids&#x27;, &#x27;feature_types&#x27;\n",
       "    prot:\t7865 x 17\n",
       "      var:\t&#x27;gene_ids&#x27;, &#x27;feature_types&#x27;</pre>"
      ],
      "text/plain": [
       "MuData object with n_obs × n_vars = 7865 × 33555\n",
       "  var:\t'gene_ids', 'feature_types'\n",
       "  2 modalities\n",
       "    rna:\t7865 x 33538\n",
       "      var:\t'gene_ids', 'feature_types'\n",
       "    prot:\t7865 x 17\n",
       "      var:\t'gene_ids', 'feature_types'"
      ]
     },
     "execution_count": 14,
     "metadata": {},
     "output_type": "execute_result"
    }
   ],
   "source": [
    "mdata1"
   ]
  },
  {
   "cell_type": "code",
   "execution_count": 15,
   "metadata": {
    "colab": {
     "base_uri": "https://localhost:8080/",
     "height": 139
    },
    "id": "auHdoX_0Njr2",
    "outputId": "e311c6dc-78ec-49d3-b413-0a2230cb8e36"
   },
   "outputs": [
    {
     "data": {
      "text/html": [
       "<pre>MuData object with n_obs × n_vars = 5247 × 33570\n",
       "  var:\t&#x27;gene_ids&#x27;, &#x27;feature_types&#x27;\n",
       "  2 modalities\n",
       "    rna:\t5247 x 33538\n",
       "      var:\t&#x27;gene_ids&#x27;, &#x27;feature_types&#x27;\n",
       "    prot:\t5247 x 32\n",
       "      var:\t&#x27;gene_ids&#x27;, &#x27;feature_types&#x27;</pre>"
      ],
      "text/plain": [
       "MuData object with n_obs × n_vars = 5247 × 33570\n",
       "  var:\t'gene_ids', 'feature_types'\n",
       "  2 modalities\n",
       "    rna:\t5247 x 33538\n",
       "      var:\t'gene_ids', 'feature_types'\n",
       "    prot:\t5247 x 32\n",
       "      var:\t'gene_ids', 'feature_types'"
      ]
     },
     "execution_count": 15,
     "metadata": {},
     "output_type": "execute_result"
    }
   ],
   "source": [
    "mdata2"
   ]
  },
  {
   "cell_type": "markdown",
   "metadata": {
    "id": "bignZn2Rb2hT"
   },
   "source": [
    "We make var names unique, store raw counts in layers, and normalize and log transform counts. Then we perform gene selection."
   ]
  },
  {
   "cell_type": "markdown",
   "metadata": {
    "id": "mHsWuRN_dfYw"
   },
   "source": [
    "https://github.com/YosefLab/totalVI_reproducibility/blob/master/data/data_filtering_scripts/pbmc_10k/pbmc_10k.py"
   ]
  },
  {
   "cell_type": "code",
   "execution_count": 16,
   "metadata": {
    "id": "WJYfUV5UdUaV"
   },
   "outputs": [],
   "source": [
    "# TODO: Should I do more filtering as in the above link? Or is it too specific for this?\n",
    "# min genes, mitochondrial reads, n_genes, n_counts, protein library size,\n",
    "# genes that encode proteins, etc.\n",
    "\n",
    "# The processing done in the below link seems much more minimal so not sure which is better here"
   ]
  },
  {
   "cell_type": "markdown",
   "metadata": {
    "id": "GpvIzYJBeno-"
   },
   "source": [
    "https://docs.scvi-tools.org/en/stable/tutorials/notebooks/multimodal/totalVI.html#using-own-data"
   ]
  },
  {
   "cell_type": "code",
   "execution_count": 17,
   "metadata": {
    "id": "HZjNb79sNr7G"
   },
   "outputs": [],
   "source": [
    "def filter_pbmc(mdata):\n",
    "    mdata.mod[\"rna\"].var_names_make_unique()\n",
    "    mdata.mod[\"rna\"].layers[\"counts\"] = mdata.mod[\"rna\"].X.copy()\n",
    "    sc.pp.normalize_total(mdata.mod[\"rna\"])\n",
    "    sc.pp.log1p(mdata.mod[\"rna\"])\n",
    "\n",
    "    sc.pp.highly_variable_genes(\n",
    "        mdata.mod[\"rna\"],\n",
    "        n_top_genes=4000,\n",
    "        flavor=\"seurat_v3\",\n",
    "        layer=\"counts\",\n",
    "    )\n",
    "    # Place subsetted counts in a new modality\n",
    "    mdata.mod[\"rna_subset\"] = mdata.mod[\"rna\"][:, mdata.mod[\"rna\"].var[\"highly_variable\"]].copy()\n",
    "    mdata = md.MuData(mdata.mod)\n",
    "\n",
    "    return mdata"
   ]
  },
  {
   "cell_type": "code",
   "execution_count": 18,
   "metadata": {
    "colab": {
     "base_uri": "https://localhost:8080/"
    },
    "id": "CuGqbeOCNupL",
    "outputId": "38540e69-6aff-4b2b-9e20-7bc70c8eee05"
   },
   "outputs": [
    {
     "name": "stderr",
     "output_type": "stream",
     "text": [
      "/usr/local/lib/python3.11/dist-packages/mudata/_core/mudata.py:1531: FutureWarning: From 0.4 .update() will not pull obs/var columns from individual modalities by default anymore. Set mudata.set_options(pull_on_update=False) to adopt the new behaviour, which will become the default. Use new pull_obs/pull_var and push_obs/push_var methods for more flexibility.\n",
      "  self._update_attr(\"var\", axis=0, join_common=join_common)\n",
      "/usr/local/lib/python3.11/dist-packages/mudata/_core/mudata.py:931: UserWarning: Cannot join columns with the same name because var_names are intersecting.\n",
      "  warnings.warn(\n",
      "/usr/local/lib/python3.11/dist-packages/mudata/_core/mudata.py:1429: FutureWarning: From 0.4 .update() will not pull obs/var columns from individual modalities by default anymore. Set mudata.set_options(pull_on_update=False) to adopt the new behaviour, which will become the default. Use new pull_obs/pull_var and push_obs/push_var methods for more flexibility.\n",
      "  self._update_attr(\"obs\", axis=1, join_common=join_common)\n",
      "/usr/local/lib/python3.11/dist-packages/mudata/_core/mudata.py:1531: FutureWarning: From 0.4 .update() will not pull obs/var columns from individual modalities by default anymore. Set mudata.set_options(pull_on_update=False) to adopt the new behaviour, which will become the default. Use new pull_obs/pull_var and push_obs/push_var methods for more flexibility.\n",
      "  self._update_attr(\"var\", axis=0, join_common=join_common)\n",
      "/usr/local/lib/python3.11/dist-packages/mudata/_core/mudata.py:931: UserWarning: Cannot join columns with the same name because var_names are intersecting.\n",
      "  warnings.warn(\n",
      "/usr/local/lib/python3.11/dist-packages/mudata/_core/mudata.py:1429: FutureWarning: From 0.4 .update() will not pull obs/var columns from individual modalities by default anymore. Set mudata.set_options(pull_on_update=False) to adopt the new behaviour, which will become the default. Use new pull_obs/pull_var and push_obs/push_var methods for more flexibility.\n",
      "  self._update_attr(\"obs\", axis=1, join_common=join_common)\n"
     ]
    }
   ],
   "source": [
    "mdata1 = filter_pbmc(mdata1)\n",
    "mdata2 = filter_pbmc(mdata2)"
   ]
  },
  {
   "cell_type": "code",
   "execution_count": 19,
   "metadata": {
    "id": "f2Q_fwJwOU1m"
   },
   "outputs": [],
   "source": [
    "# TODO: Are the above warnings an issue?"
   ]
  },
  {
   "cell_type": "code",
   "execution_count": 20,
   "metadata": {
    "colab": {
     "base_uri": "https://localhost:8080/"
    },
    "id": "hr7ud0CnM8LX",
    "outputId": "8765087c-00a2-4601-f94d-988b072f90d7"
   },
   "outputs": [
    {
     "name": "stderr",
     "output_type": "stream",
     "text": [
      "/usr/local/lib/python3.11/dist-packages/anndata/_core/anndata.py:1756: UserWarning: Observation names are not unique. To make them unique, call `.obs_names_make_unique`.\n",
      "  utils.warn_names_duplicates(\"obs\")\n",
      "/usr/local/lib/python3.11/dist-packages/anndata/_core/anndata.py:1756: UserWarning: Observation names are not unique. To make them unique, call `.obs_names_make_unique`.\n",
      "  utils.warn_names_duplicates(\"obs\")\n",
      "/usr/local/lib/python3.11/dist-packages/mudata/_core/mudata.py:1531: FutureWarning: From 0.4 .update() will not pull obs/var columns from individual modalities by default anymore. Set mudata.set_options(pull_on_update=False) to adopt the new behaviour, which will become the default. Use new pull_obs/pull_var and push_obs/push_var methods for more flexibility.\n",
      "  self._update_attr(\"var\", axis=0, join_common=join_common)\n",
      "/usr/local/lib/python3.11/dist-packages/mudata/_core/mudata.py:1429: FutureWarning: From 0.4 .update() will not pull obs/var columns from individual modalities by default anymore. Set mudata.set_options(pull_on_update=False) to adopt the new behaviour, which will become the default. Use new pull_obs/pull_var and push_obs/push_var methods for more flexibility.\n",
      "  self._update_attr(\"obs\", axis=1, join_common=join_common)\n"
     ]
    }
   ],
   "source": [
    "# TODO: not sure if below code is best way to combine the datasets\n",
    "\n",
    "# First filter to shared proteins and genes by doing inner join\n",
    "rna_c = ad.concat([mdata1.mod[\"rna_subset\"], mdata2.mod[\"rna_subset\"]])\n",
    "rna_c.obs_names_make_unique()\n",
    "\n",
    "prot_c = ad.concat([mdata1.mod[\"prot\"], mdata2.mod[\"prot\"]])\n",
    "prot_c.obs_names_make_unique()\n",
    "\n",
    "# Todo: do I need to still include the original \"rna\" modality for any reason?\n",
    "mdata = md.MuData({\"rna_subset\": rna_c, \"prot\": prot_c})"
   ]
  },
  {
   "cell_type": "code",
   "execution_count": 21,
   "metadata": {
    "id": "LUBSRnlL5zLO"
   },
   "outputs": [],
   "source": [
    "# we need to work with dense and not sparse matrices:\n",
    "mdata[\"prot\"].X = mdata[\"prot\"].X.toarray()\n",
    "mdata[\"rna_subset\"].X = mdata[\"rna_subset\"].X.toarray()\n",
    "mdata.mod[\"rna_subset\"].layers[\"counts\"] = mdata.mod[\"rna_subset\"].layers[\"counts\"].toarray()"
   ]
  },
  {
   "cell_type": "code",
   "execution_count": 22,
   "metadata": {
    "colab": {
     "base_uri": "https://localhost:8080/"
    },
    "id": "ajAAidBL_BVP",
    "outputId": "9804eb83-247a-4cb6-9ec7-54d367c55fe4"
   },
   "outputs": [
    {
     "name": "stderr",
     "output_type": "stream",
     "text": [
      "/usr/local/lib/python3.11/dist-packages/mudata/_core/mudata.py:1531: FutureWarning: From 0.4 .update() will not pull obs/var columns from individual modalities by default anymore. Set mudata.set_options(pull_on_update=False) to adopt the new behaviour, which will become the default. Use new pull_obs/pull_var and push_obs/push_var methods for more flexibility.\n",
      "  self._update_attr(\"var\", axis=0, join_common=join_common)\n",
      "/usr/local/lib/python3.11/dist-packages/mudata/_core/mudata.py:1429: FutureWarning: From 0.4 .update() will not pull obs/var columns from individual modalities by default anymore. Set mudata.set_options(pull_on_update=False) to adopt the new behaviour, which will become the default. Use new pull_obs/pull_var and push_obs/push_var methods for more flexibility.\n",
      "  self._update_attr(\"obs\", axis=1, join_common=join_common)\n"
     ]
    }
   ],
   "source": [
    "mdata.update()"
   ]
  },
  {
   "cell_type": "code",
   "execution_count": 23,
   "metadata": {
    "colab": {
     "base_uri": "https://localhost:8080/",
     "height": 104
    },
    "id": "IH7Cd4bW_Dxu",
    "outputId": "6d807e16-173f-46f9-a9c5-fd337a4ed127"
   },
   "outputs": [
    {
     "data": {
      "text/html": [
       "<pre>MuData object with n_obs × n_vars = 13112 × 2193\n",
       "  2 modalities\n",
       "    rna_subset:\t13112 x 2176\n",
       "      layers:\t&#x27;counts&#x27;\n",
       "    prot:\t13112 x 17</pre>"
      ],
      "text/plain": [
       "MuData object with n_obs × n_vars = 13112 × 2193\n",
       "  2 modalities\n",
       "    rna_subset:\t13112 x 2176\n",
       "      layers:\t'counts'\n",
       "    prot:\t13112 x 17"
      ]
     },
     "execution_count": 23,
     "metadata": {},
     "output_type": "execute_result"
    }
   ],
   "source": [
    "mdata"
   ]
  },
  {
   "cell_type": "markdown",
   "metadata": {
    "id": "xLLFdtiP1DVf"
   },
   "source": [
    "## Multiome"
   ]
  },
  {
   "cell_type": "markdown",
   "metadata": {
    "id": "HmNRL8Xa1vXs"
   },
   "source": [
    "```{important}\n",
    "MultiVI requires the datasets to use shared features. scATAC-seq datasets need to be processed to use a shared set of peaks.\n",
    "```"
   ]
  },
  {
   "cell_type": "markdown",
   "metadata": {
    "id": "Ji-OKeFC2Z8S"
   },
   "source": [
    "Here we use a 10k PBMCs dataset from 10X to demonstrate preprocessing for multiome datasets."
   ]
  },
  {
   "cell_type": "code",
   "execution_count": 24,
   "metadata": {
    "id": "cneBdKNd1RWv"
   },
   "outputs": [],
   "source": [
    "def download_data(save_path: str, fname: str = \"pbmc_10k\"):\n",
    "    data_paths = pooch.retrieve(\n",
    "        url=\"https://cf.10xgenomics.com/samples/cell-arc/2.0.0/pbmc_unsorted_10k/pbmc_unsorted_10k_filtered_feature_bc_matrix.tar.gz\",\n",
    "        known_hash=\"872b0dba467d972aa498812a857677ca7cf69050d4f9762b2cd4753b2be694a1\",\n",
    "        fname=fname,\n",
    "        path=save_path,\n",
    "        processor=pooch.Untar(),\n",
    "        progressbar=True,\n",
    "    )\n",
    "    data_paths.sort()\n",
    "\n",
    "    for path in data_paths:\n",
    "        with gzip.open(path, \"rb\") as f_in:\n",
    "            with open(path.replace(\".gz\", \"\"), \"wb\") as f_out:\n",
    "                f_out.write(f_in.read())\n",
    "\n",
    "    return str(Path(data_paths[0]).parent)"
   ]
  },
  {
   "cell_type": "code",
   "execution_count": 25,
   "metadata": {
    "colab": {
     "base_uri": "https://localhost:8080/"
    },
    "id": "kVGT23H219Sc",
    "outputId": "b18dcfcf-3334-4a4c-86e9-896d24e70c34"
   },
   "outputs": [
    {
     "name": "stderr",
     "output_type": "stream",
     "text": [
      "Downloading data from 'https://cf.10xgenomics.com/samples/cell-arc/2.0.0/pbmc_unsorted_10k/pbmc_unsorted_10k_filtered_feature_bc_matrix.tar.gz' to file '/tmp/tmpne5dtz2o/pbmc_10k'.\n",
      "100%|████████████████████████████████████████| 375M/375M [00:00<00:00, 355GB/s]\n",
      "Untarring contents of '/tmp/tmpne5dtz2o/pbmc_10k' to '/tmp/tmpne5dtz2o/pbmc_10k.untar'\n"
     ]
    }
   ],
   "source": [
    "data_path = download_data(save_dir.name)"
   ]
  },
  {
   "cell_type": "markdown",
   "metadata": {
    "id": "kZH3L0HRWVN6"
   },
   "source": [
    "We read the dataset as a mudata, where we have two modalities: 'rna' and 'atac'. For multiome datasets, using mudata is preferred over anndata."
   ]
  },
  {
   "cell_type": "code",
   "execution_count": 26,
   "metadata": {
    "colab": {
     "base_uri": "https://localhost:8080/",
     "height": 228
    },
    "id": "cZ-hMuvePluV",
    "outputId": "b0a4de12-2a6b-42a9-b6bc-c867d8e08545"
   },
   "outputs": [
    {
     "name": "stderr",
     "output_type": "stream",
     "text": [
      "/usr/local/lib/python3.11/dist-packages/mudata/_core/mudata.py:1531: FutureWarning: From 0.4 .update() will not pull obs/var columns from individual modalities by default anymore. Set mudata.set_options(pull_on_update=False) to adopt the new behaviour, which will become the default. Use new pull_obs/pull_var and push_obs/push_var methods for more flexibility.\n",
      "  self._update_attr(\"var\", axis=0, join_common=join_common)\n",
      "/usr/local/lib/python3.11/dist-packages/mudata/_core/mudata.py:1429: FutureWarning: From 0.4 .update() will not pull obs/var columns from individual modalities by default anymore. Set mudata.set_options(pull_on_update=False) to adopt the new behaviour, which will become the default. Use new pull_obs/pull_var and push_obs/push_var methods for more flexibility.\n",
      "  self._update_attr(\"obs\", axis=1, join_common=join_common)\n"
     ]
    },
    {
     "data": {
      "text/html": [
       "<pre>MuData object with n_obs × n_vars = 12012 × 148458\n",
       "  var:\t&#x27;gene_ids&#x27;, &#x27;feature_types&#x27;\n",
       "  2 modalities\n",
       "    rna:\t12012 x 36601\n",
       "      var:\t&#x27;gene_ids&#x27;, &#x27;feature_types&#x27;\n",
       "    atac:\t12012 x 111857\n",
       "      var:\t&#x27;gene_ids&#x27;, &#x27;feature_types&#x27;</pre>"
      ],
      "text/plain": [
       "MuData object with n_obs × n_vars = 12012 × 148458\n",
       "  var:\t'gene_ids', 'feature_types'\n",
       "  2 modalities\n",
       "    rna:\t12012 x 36601\n",
       "      var:\t'gene_ids', 'feature_types'\n",
       "    atac:\t12012 x 111857\n",
       "      var:\t'gene_ids', 'feature_types'"
      ]
     },
     "execution_count": 26,
     "metadata": {},
     "output_type": "execute_result"
    }
   ],
   "source": [
    "mdata = muon.read_10x_mtx(data_path)\n",
    "mdata"
   ]
  },
  {
   "cell_type": "code",
   "execution_count": 27,
   "metadata": {
    "id": "roxLyRRjP8uX"
   },
   "outputs": [],
   "source": [
    "mdata.mod[\"rna\"].var_names_make_unique()\n",
    "mdata.mod[\"atac\"].var_names_make_unique()"
   ]
  },
  {
   "cell_type": "markdown",
   "metadata": {
    "id": "vVYP7ctvu24r"
   },
   "source": [
    "Next we zero out the values of each modality for 1/3 of the observations, to create a mixed single-modal and multimodal dataset. We do this so that we can later demonstrate the ability to work with mixed data."
   ]
  },
  {
   "cell_type": "code",
   "execution_count": 28,
   "metadata": {
    "id": "-aDPzNhGsrm6"
   },
   "outputs": [],
   "source": [
    "# still working on this cell\n",
    "\n",
    "# n = mdata.n_obs // 3\n",
    "# mdata.mod[\"rna\"][n:, :] = 0\n",
    "# mdata.mod[\"atac\"][: 2 * n, :] = 0"
   ]
  },
  {
   "cell_type": "code",
   "execution_count": 29,
   "metadata": {
    "colab": {
     "base_uri": "https://localhost:8080/",
     "height": 139
    },
    "id": "0WDTyptTUZbX",
    "outputId": "b6dd5cc5-7cb9-4ead-c59d-e91e8b68ae57"
   },
   "outputs": [
    {
     "data": {
      "text/html": [
       "<pre>MuData object with n_obs × n_vars = 12012 × 148458\n",
       "  var:\t&#x27;gene_ids&#x27;, &#x27;feature_types&#x27;\n",
       "  2 modalities\n",
       "    rna:\t12012 x 36601\n",
       "      var:\t&#x27;gene_ids&#x27;, &#x27;feature_types&#x27;\n",
       "    atac:\t12012 x 111857\n",
       "      var:\t&#x27;gene_ids&#x27;, &#x27;feature_types&#x27;</pre>"
      ],
      "text/plain": [
       "MuData object with n_obs × n_vars = 12012 × 148458\n",
       "  var:\t'gene_ids', 'feature_types'\n",
       "  2 modalities\n",
       "    rna:\t12012 x 36601\n",
       "      var:\t'gene_ids', 'feature_types'\n",
       "    atac:\t12012 x 111857\n",
       "      var:\t'gene_ids', 'feature_types'"
      ]
     },
     "execution_count": 29,
     "metadata": {},
     "output_type": "execute_result"
    }
   ],
   "source": [
    "mdata"
   ]
  },
  {
   "cell_type": "code",
   "execution_count": 30,
   "metadata": {
    "colab": {
     "base_uri": "https://localhost:8080/"
    },
    "id": "57PSRYh1R9nW",
    "outputId": "28ca42ae-2560-40bc-a396-341beb76cbfd"
   },
   "outputs": [
    {
     "name": "stdout",
     "output_type": "stream",
     "text": [
      "(12012, 36601)\n",
      "(12012, 13634)\n"
     ]
    }
   ],
   "source": [
    "print(mdata.mod[\"rna\"].shape)\n",
    "sc.pp.filter_genes(mdata.mod[\"rna\"], min_cells=int(mdata.mod[\"rna\"].shape[0] * 0.01))\n",
    "print(mdata.mod[\"rna\"].shape)"
   ]
  },
  {
   "cell_type": "code",
   "execution_count": 31,
   "metadata": {
    "colab": {
     "base_uri": "https://localhost:8080/"
    },
    "id": "x2MsyX2TVClV",
    "outputId": "fefd9301-4421-498e-82dc-c496fa25cb73"
   },
   "outputs": [
    {
     "name": "stdout",
     "output_type": "stream",
     "text": [
      "(12012, 111857)\n",
      "(12012, 83899)\n"
     ]
    }
   ],
   "source": [
    "print(mdata.mod[\"atac\"].shape)\n",
    "sc.pp.filter_genes(mdata.mod[\"atac\"], min_cells=int(mdata.mod[\"atac\"].shape[0] * 0.01))\n",
    "print(mdata.mod[\"atac\"].shape)"
   ]
  },
  {
   "cell_type": "markdown",
   "metadata": {
    "id": "YyWOF07jOpA9"
   },
   "source": [
    "## Spatial transciptomics"
   ]
  },
  {
   "cell_type": "markdown",
   "metadata": {
    "id": "Bu8sI5TyIemh"
   },
   "source": [
    "To demonstrate preprocessing for spatial transcriptomics, we use data from a comparative study of murine lymph nodes, comparing wild-type with a stimulation after injection of a mycobacteria. We have at disposal a 10x Visium dataset as well as a matching scRNA-seq dataset from the same tissue."
   ]
  },
  {
   "cell_type": "code",
   "execution_count": 32,
   "metadata": {
    "id": "2TIjlqfeOsjb"
   },
   "outputs": [],
   "source": [
    "url1 = \"https://github.com/romain-lopez/DestVI-reproducibility/blob/master/lymph_node/deconvolution/ST-LN-compressed.h5ad?raw=true\"\n",
    "url2 = \"https://github.com/romain-lopez/DestVI-reproducibility/blob/master/lymph_node/deconvolution/scRNA-LN-compressed.h5ad?raw=true\"\n",
    "out1 = \"data/ST-LN-compressed.h5ad\"\n",
    "out2 = \"data/scRNA-LN-compressed.h5ad\""
   ]
  },
  {
   "cell_type": "markdown",
   "metadata": {
    "id": "TrLyGrSNJGNR"
   },
   "source": [
    "First, let’s load the single-cell data. We profiled immune cells from murine lymph nodes with 10x Chromium, as a control / case study to study the immune response to exposure to a mycobacteria (refer to DestVI paper for more info). It contains the raw counts (DestVI always takes raw counts as input)."
   ]
  },
  {
   "cell_type": "code",
   "execution_count": 33,
   "metadata": {
    "colab": {
     "base_uri": "https://localhost:8080/",
     "height": 49,
     "referenced_widgets": [
      "dad85ad9f24843f8b1380c2ce2a0bfc7",
      "5b7d4d8e4c1e4903b6ce8ee01aead0c8",
      "f882335377e345ce99f1fdd9f1412481",
      "778ee0822a0f45e3b8fbed741d1d6bf4",
      "cf382698cacd4ee59d29b948a5054b1f",
      "ebe1f04193e34bf2922bb0b73b5824ec",
      "23f28b1965444c5195116ab2e10c1a8a",
      "62cf6a14c9c74bf4999ce732b9e063f1",
      "cc43ac659122477e899ad690074c7c78",
      "f2e3b78c9ba042e29beceaeaa8a87d4e",
      "d4ac31e53b4c458eaf94fd479aee17eb"
     ]
    },
    "id": "_sRFknXUILGc",
    "outputId": "2436d064-a52b-4a29-cb7a-3c597883e6f8"
   },
   "outputs": [
    {
     "data": {
      "application/vnd.jupyter.widget-view+json": {
       "model_id": "dad85ad9f24843f8b1380c2ce2a0bfc7",
       "version_major": 2,
       "version_minor": 0
      },
      "text/plain": [
       "  0%|          | 0.00/76.0M [00:00<?, ?B/s]"
      ]
     },
     "metadata": {},
     "output_type": "display_data"
    }
   ],
   "source": [
    "sc_adata = sc.read(out2, backup_url=url2)"
   ]
  },
  {
   "cell_type": "code",
   "execution_count": 34,
   "metadata": {
    "id": "f3p-pxG6INHz"
   },
   "outputs": [],
   "source": [
    "# let us filter some genes\n",
    "G = 2000\n",
    "sc.pp.filter_genes(sc_adata, min_counts=10)\n",
    "\n",
    "sc_adata.layers[\"counts\"] = sc_adata.X.copy()\n",
    "\n",
    "sc.pp.highly_variable_genes(\n",
    "    sc_adata, n_top_genes=G, subset=True, layer=\"counts\", flavor=\"seurat_v3\"\n",
    ")\n",
    "\n",
    "sc.pp.normalize_total(sc_adata, target_sum=10e4)\n",
    "sc.pp.log1p(sc_adata)\n",
    "sc_adata.raw = sc_adata"
   ]
  },
  {
   "cell_type": "markdown",
   "metadata": {
    "id": "MkNGsJwBKaXt"
   },
   "source": [
    "Load the spatial data"
   ]
  },
  {
   "cell_type": "code",
   "execution_count": 35,
   "metadata": {
    "colab": {
     "base_uri": "https://localhost:8080/",
     "height": 49,
     "referenced_widgets": [
      "344f925c6505403c811e68789e54c503",
      "5c94c3f52dd248c2865b271060da8b2a",
      "98cc5a23117a451c982e55b1b7b2eb68",
      "ba7f8cc409fb40149dd54cb8543e98f3",
      "ef29d48e5778464f8cd801ffa4606fc1",
      "1572abeeb48249e8b5fa453a0bbd5391",
      "2a5cd86bd51248a99ada54123857d312",
      "9e2e87ac45bf4134a5bb5b644cc3abff",
      "f52c6aaca8f54e118f299eb9d26aa2c8",
      "9a049d8591574f93b0da81a860b5839e",
      "7299a531b43e480786176c9b0a528501"
     ]
    },
    "id": "dH9p5dYNIUQm",
    "outputId": "cb7adeb6-9bd7-43b0-94ed-b546becb1ba1"
   },
   "outputs": [
    {
     "data": {
      "application/vnd.jupyter.widget-view+json": {
       "model_id": "344f925c6505403c811e68789e54c503",
       "version_major": 2,
       "version_minor": 0
      },
      "text/plain": [
       "  0%|          | 0.00/12.8M [00:00<?, ?B/s]"
      ]
     },
     "metadata": {},
     "output_type": "display_data"
    }
   ],
   "source": [
    "st_adata = sc.read(out1, backup_url=url1)"
   ]
  },
  {
   "cell_type": "code",
   "execution_count": 36,
   "metadata": {
    "id": "WX1b6Hw_IUr1"
   },
   "outputs": [],
   "source": [
    "st_adata.layers[\"counts\"] = st_adata.X.copy()\n",
    "st_adata.obsm[\"spatial\"] = st_adata.obsm[\"location\"]\n",
    "\n",
    "sc.pp.normalize_total(st_adata, target_sum=10e4)\n",
    "sc.pp.log1p(st_adata)\n",
    "st_adata.raw = st_adata"
   ]
  },
  {
   "cell_type": "markdown",
   "metadata": {
    "id": "ehrKE3bCKfr0"
   },
   "source": [
    "Here we must ensure that the two datasets have a common gene subset."
   ]
  },
  {
   "cell_type": "code",
   "execution_count": 37,
   "metadata": {
    "id": "vQ5tgNwUIXNT"
   },
   "outputs": [],
   "source": [
    "# filter genes to be the same on the spatial data\n",
    "intersect = np.intersect1d(sc_adata.var_names, st_adata.var_names)\n",
    "st_adata = st_adata[:, intersect].copy()\n",
    "sc_adata = sc_adata[:, intersect].copy()\n",
    "G = len(intersect)"
   ]
  },
  {
   "cell_type": "code",
   "execution_count": 37,
   "metadata": {
    "id": "GPnwd1pYaKsX"
   },
   "outputs": [],
   "source": []
  }
 ],
 "metadata": {
  "colab": {
   "collapsed_sections": [
    "UOiaVe6UdDfP",
    "LZLxxKsPOXQs",
    "OPybqBG3OH3g"
   ],
   "provenance": [],
   "toc_visible": true
  },
  "kernelspec": {
   "display_name": "Python 3",
   "name": "python3"
  },
  "language_info": {
   "name": "python"
  },
  "widgets": {
   "application/vnd.jupyter.widget-state+json": {
    "1572abeeb48249e8b5fa453a0bbd5391": {
     "model_module": "@jupyter-widgets/base",
     "model_module_version": "1.2.0",
     "model_name": "LayoutModel",
     "state": {
      "_model_module": "@jupyter-widgets/base",
      "_model_module_version": "1.2.0",
      "_model_name": "LayoutModel",
      "_view_count": null,
      "_view_module": "@jupyter-widgets/base",
      "_view_module_version": "1.2.0",
      "_view_name": "LayoutView",
      "align_content": null,
      "align_items": null,
      "align_self": null,
      "border": null,
      "bottom": null,
      "display": null,
      "flex": null,
      "flex_flow": null,
      "grid_area": null,
      "grid_auto_columns": null,
      "grid_auto_flow": null,
      "grid_auto_rows": null,
      "grid_column": null,
      "grid_gap": null,
      "grid_row": null,
      "grid_template_areas": null,
      "grid_template_columns": null,
      "grid_template_rows": null,
      "height": null,
      "justify_content": null,
      "justify_items": null,
      "left": null,
      "margin": null,
      "max_height": null,
      "max_width": null,
      "min_height": null,
      "min_width": null,
      "object_fit": null,
      "object_position": null,
      "order": null,
      "overflow": null,
      "overflow_x": null,
      "overflow_y": null,
      "padding": null,
      "right": null,
      "top": null,
      "visibility": null,
      "width": null
     }
    },
    "16774344109040c29495e727098ec149": {
     "model_module": "@jupyter-widgets/controls",
     "model_module_version": "1.5.0",
     "model_name": "DescriptionStyleModel",
     "state": {
      "_model_module": "@jupyter-widgets/controls",
      "_model_module_version": "1.5.0",
      "_model_name": "DescriptionStyleModel",
      "_view_count": null,
      "_view_module": "@jupyter-widgets/base",
      "_view_module_version": "1.2.0",
      "_view_name": "StyleView",
      "description_width": ""
     }
    },
    "23f28b1965444c5195116ab2e10c1a8a": {
     "model_module": "@jupyter-widgets/controls",
     "model_module_version": "1.5.0",
     "model_name": "DescriptionStyleModel",
     "state": {
      "_model_module": "@jupyter-widgets/controls",
      "_model_module_version": "1.5.0",
      "_model_name": "DescriptionStyleModel",
      "_view_count": null,
      "_view_module": "@jupyter-widgets/base",
      "_view_module_version": "1.2.0",
      "_view_name": "StyleView",
      "description_width": ""
     }
    },
    "2a5cd86bd51248a99ada54123857d312": {
     "model_module": "@jupyter-widgets/controls",
     "model_module_version": "1.5.0",
     "model_name": "DescriptionStyleModel",
     "state": {
      "_model_module": "@jupyter-widgets/controls",
      "_model_module_version": "1.5.0",
      "_model_name": "DescriptionStyleModel",
      "_view_count": null,
      "_view_module": "@jupyter-widgets/base",
      "_view_module_version": "1.2.0",
      "_view_name": "StyleView",
      "description_width": ""
     }
    },
    "317146228c47439494b8bd0bd5f23135": {
     "model_module": "@jupyter-widgets/base",
     "model_module_version": "1.2.0",
     "model_name": "LayoutModel",
     "state": {
      "_model_module": "@jupyter-widgets/base",
      "_model_module_version": "1.2.0",
      "_model_name": "LayoutModel",
      "_view_count": null,
      "_view_module": "@jupyter-widgets/base",
      "_view_module_version": "1.2.0",
      "_view_name": "LayoutView",
      "align_content": null,
      "align_items": null,
      "align_self": null,
      "border": null,
      "bottom": null,
      "display": null,
      "flex": null,
      "flex_flow": null,
      "grid_area": null,
      "grid_auto_columns": null,
      "grid_auto_flow": null,
      "grid_auto_rows": null,
      "grid_column": null,
      "grid_gap": null,
      "grid_row": null,
      "grid_template_areas": null,
      "grid_template_columns": null,
      "grid_template_rows": null,
      "height": null,
      "justify_content": null,
      "justify_items": null,
      "left": null,
      "margin": null,
      "max_height": null,
      "max_width": null,
      "min_height": null,
      "min_width": null,
      "object_fit": null,
      "object_position": null,
      "order": null,
      "overflow": null,
      "overflow_x": null,
      "overflow_y": null,
      "padding": null,
      "right": null,
      "top": null,
      "visibility": null,
      "width": null
     }
    },
    "344f925c6505403c811e68789e54c503": {
     "model_module": "@jupyter-widgets/controls",
     "model_module_version": "1.5.0",
     "model_name": "HBoxModel",
     "state": {
      "_dom_classes": [],
      "_model_module": "@jupyter-widgets/controls",
      "_model_module_version": "1.5.0",
      "_model_name": "HBoxModel",
      "_view_count": null,
      "_view_module": "@jupyter-widgets/controls",
      "_view_module_version": "1.5.0",
      "_view_name": "HBoxView",
      "box_style": "",
      "children": [
       "IPY_MODEL_5c94c3f52dd248c2865b271060da8b2a",
       "IPY_MODEL_98cc5a23117a451c982e55b1b7b2eb68",
       "IPY_MODEL_ba7f8cc409fb40149dd54cb8543e98f3"
      ],
      "layout": "IPY_MODEL_ef29d48e5778464f8cd801ffa4606fc1"
     }
    },
    "5b003c3f8602441a9f13fb42f59676ba": {
     "model_module": "@jupyter-widgets/controls",
     "model_module_version": "1.5.0",
     "model_name": "FloatProgressModel",
     "state": {
      "_dom_classes": [],
      "_model_module": "@jupyter-widgets/controls",
      "_model_module_version": "1.5.0",
      "_model_name": "FloatProgressModel",
      "_view_count": null,
      "_view_module": "@jupyter-widgets/controls",
      "_view_module_version": "1.5.0",
      "_view_name": "ProgressView",
      "bar_style": "success",
      "description": "",
      "description_tooltip": null,
      "layout": "IPY_MODEL_84f1c3f7bad248a9ad02be06bf9c0700",
      "max": 1019664664,
      "min": 0,
      "orientation": "horizontal",
      "style": "IPY_MODEL_c7ceb70d121d4710a904d751fb534521",
      "value": 1019664664
     }
    },
    "5b7d4d8e4c1e4903b6ce8ee01aead0c8": {
     "model_module": "@jupyter-widgets/controls",
     "model_module_version": "1.5.0",
     "model_name": "HTMLModel",
     "state": {
      "_dom_classes": [],
      "_model_module": "@jupyter-widgets/controls",
      "_model_module_version": "1.5.0",
      "_model_name": "HTMLModel",
      "_view_count": null,
      "_view_module": "@jupyter-widgets/controls",
      "_view_module_version": "1.5.0",
      "_view_name": "HTMLView",
      "description": "",
      "description_tooltip": null,
      "layout": "IPY_MODEL_ebe1f04193e34bf2922bb0b73b5824ec",
      "placeholder": "​",
      "style": "IPY_MODEL_23f28b1965444c5195116ab2e10c1a8a",
      "value": "100%"
     }
    },
    "5c94c3f52dd248c2865b271060da8b2a": {
     "model_module": "@jupyter-widgets/controls",
     "model_module_version": "1.5.0",
     "model_name": "HTMLModel",
     "state": {
      "_dom_classes": [],
      "_model_module": "@jupyter-widgets/controls",
      "_model_module_version": "1.5.0",
      "_model_name": "HTMLModel",
      "_view_count": null,
      "_view_module": "@jupyter-widgets/controls",
      "_view_module_version": "1.5.0",
      "_view_name": "HTMLView",
      "description": "",
      "description_tooltip": null,
      "layout": "IPY_MODEL_1572abeeb48249e8b5fa453a0bbd5391",
      "placeholder": "​",
      "style": "IPY_MODEL_2a5cd86bd51248a99ada54123857d312",
      "value": "100%"
     }
    },
    "62cf6a14c9c74bf4999ce732b9e063f1": {
     "model_module": "@jupyter-widgets/base",
     "model_module_version": "1.2.0",
     "model_name": "LayoutModel",
     "state": {
      "_model_module": "@jupyter-widgets/base",
      "_model_module_version": "1.2.0",
      "_model_name": "LayoutModel",
      "_view_count": null,
      "_view_module": "@jupyter-widgets/base",
      "_view_module_version": "1.2.0",
      "_view_name": "LayoutView",
      "align_content": null,
      "align_items": null,
      "align_self": null,
      "border": null,
      "bottom": null,
      "display": null,
      "flex": null,
      "flex_flow": null,
      "grid_area": null,
      "grid_auto_columns": null,
      "grid_auto_flow": null,
      "grid_auto_rows": null,
      "grid_column": null,
      "grid_gap": null,
      "grid_row": null,
      "grid_template_areas": null,
      "grid_template_columns": null,
      "grid_template_rows": null,
      "height": null,
      "justify_content": null,
      "justify_items": null,
      "left": null,
      "margin": null,
      "max_height": null,
      "max_width": null,
      "min_height": null,
      "min_width": null,
      "object_fit": null,
      "object_position": null,
      "order": null,
      "overflow": null,
      "overflow_x": null,
      "overflow_y": null,
      "padding": null,
      "right": null,
      "top": null,
      "visibility": null,
      "width": null
     }
    },
    "69f6ba723c724cc1bb75bc169680dbba": {
     "model_module": "@jupyter-widgets/controls",
     "model_module_version": "1.5.0",
     "model_name": "HTMLModel",
     "state": {
      "_dom_classes": [],
      "_model_module": "@jupyter-widgets/controls",
      "_model_module_version": "1.5.0",
      "_model_name": "HTMLModel",
      "_view_count": null,
      "_view_module": "@jupyter-widgets/controls",
      "_view_module_version": "1.5.0",
      "_view_name": "HTMLView",
      "description": "",
      "description_tooltip": null,
      "layout": "IPY_MODEL_a45f233ddc1c4df0b1fed0235a823302",
      "placeholder": "​",
      "style": "IPY_MODEL_16774344109040c29495e727098ec149",
      "value": "100%"
     }
    },
    "7299a531b43e480786176c9b0a528501": {
     "model_module": "@jupyter-widgets/controls",
     "model_module_version": "1.5.0",
     "model_name": "DescriptionStyleModel",
     "state": {
      "_model_module": "@jupyter-widgets/controls",
      "_model_module_version": "1.5.0",
      "_model_name": "DescriptionStyleModel",
      "_view_count": null,
      "_view_module": "@jupyter-widgets/base",
      "_view_module_version": "1.2.0",
      "_view_name": "StyleView",
      "description_width": ""
     }
    },
    "76319f13419e49e0a9e4e2dabc8c9a99": {
     "model_module": "@jupyter-widgets/controls",
     "model_module_version": "1.5.0",
     "model_name": "HBoxModel",
     "state": {
      "_dom_classes": [],
      "_model_module": "@jupyter-widgets/controls",
      "_model_module_version": "1.5.0",
      "_model_name": "HBoxModel",
      "_view_count": null,
      "_view_module": "@jupyter-widgets/controls",
      "_view_module_version": "1.5.0",
      "_view_name": "HBoxView",
      "box_style": "",
      "children": [
       "IPY_MODEL_69f6ba723c724cc1bb75bc169680dbba",
       "IPY_MODEL_5b003c3f8602441a9f13fb42f59676ba",
       "IPY_MODEL_868e5d617bfb4317b6315c687c715dbd"
      ],
      "layout": "IPY_MODEL_d11877121b624053b37b029a7ab2a03a"
     }
    },
    "778ee0822a0f45e3b8fbed741d1d6bf4": {
     "model_module": "@jupyter-widgets/controls",
     "model_module_version": "1.5.0",
     "model_name": "HTMLModel",
     "state": {
      "_dom_classes": [],
      "_model_module": "@jupyter-widgets/controls",
      "_model_module_version": "1.5.0",
      "_model_name": "HTMLModel",
      "_view_count": null,
      "_view_module": "@jupyter-widgets/controls",
      "_view_module_version": "1.5.0",
      "_view_name": "HTMLView",
      "description": "",
      "description_tooltip": null,
      "layout": "IPY_MODEL_f2e3b78c9ba042e29beceaeaa8a87d4e",
      "placeholder": "​",
      "style": "IPY_MODEL_d4ac31e53b4c458eaf94fd479aee17eb",
      "value": " 76.0M/76.0M [00:00&lt;00:00, 140MB/s]"
     }
    },
    "84f1c3f7bad248a9ad02be06bf9c0700": {
     "model_module": "@jupyter-widgets/base",
     "model_module_version": "1.2.0",
     "model_name": "LayoutModel",
     "state": {
      "_model_module": "@jupyter-widgets/base",
      "_model_module_version": "1.2.0",
      "_model_name": "LayoutModel",
      "_view_count": null,
      "_view_module": "@jupyter-widgets/base",
      "_view_module_version": "1.2.0",
      "_view_name": "LayoutView",
      "align_content": null,
      "align_items": null,
      "align_self": null,
      "border": null,
      "bottom": null,
      "display": null,
      "flex": null,
      "flex_flow": null,
      "grid_area": null,
      "grid_auto_columns": null,
      "grid_auto_flow": null,
      "grid_auto_rows": null,
      "grid_column": null,
      "grid_gap": null,
      "grid_row": null,
      "grid_template_areas": null,
      "grid_template_columns": null,
      "grid_template_rows": null,
      "height": null,
      "justify_content": null,
      "justify_items": null,
      "left": null,
      "margin": null,
      "max_height": null,
      "max_width": null,
      "min_height": null,
      "min_width": null,
      "object_fit": null,
      "object_position": null,
      "order": null,
      "overflow": null,
      "overflow_x": null,
      "overflow_y": null,
      "padding": null,
      "right": null,
      "top": null,
      "visibility": null,
      "width": null
     }
    },
    "868e5d617bfb4317b6315c687c715dbd": {
     "model_module": "@jupyter-widgets/controls",
     "model_module_version": "1.5.0",
     "model_name": "HTMLModel",
     "state": {
      "_dom_classes": [],
      "_model_module": "@jupyter-widgets/controls",
      "_model_module_version": "1.5.0",
      "_model_name": "HTMLModel",
      "_view_count": null,
      "_view_module": "@jupyter-widgets/controls",
      "_view_module_version": "1.5.0",
      "_view_name": "HTMLView",
      "description": "",
      "description_tooltip": null,
      "layout": "IPY_MODEL_317146228c47439494b8bd0bd5f23135",
      "placeholder": "​",
      "style": "IPY_MODEL_906d86123bb64289a943fc19312fdc82",
      "value": " 972M/972M [00:36&lt;00:00, 20.9MB/s]"
     }
    },
    "906d86123bb64289a943fc19312fdc82": {
     "model_module": "@jupyter-widgets/controls",
     "model_module_version": "1.5.0",
     "model_name": "DescriptionStyleModel",
     "state": {
      "_model_module": "@jupyter-widgets/controls",
      "_model_module_version": "1.5.0",
      "_model_name": "DescriptionStyleModel",
      "_view_count": null,
      "_view_module": "@jupyter-widgets/base",
      "_view_module_version": "1.2.0",
      "_view_name": "StyleView",
      "description_width": ""
     }
    },
    "98cc5a23117a451c982e55b1b7b2eb68": {
     "model_module": "@jupyter-widgets/controls",
     "model_module_version": "1.5.0",
     "model_name": "FloatProgressModel",
     "state": {
      "_dom_classes": [],
      "_model_module": "@jupyter-widgets/controls",
      "_model_module_version": "1.5.0",
      "_model_name": "FloatProgressModel",
      "_view_count": null,
      "_view_module": "@jupyter-widgets/controls",
      "_view_module_version": "1.5.0",
      "_view_name": "ProgressView",
      "bar_style": "success",
      "description": "",
      "description_tooltip": null,
      "layout": "IPY_MODEL_9e2e87ac45bf4134a5bb5b644cc3abff",
      "max": 13466047,
      "min": 0,
      "orientation": "horizontal",
      "style": "IPY_MODEL_f52c6aaca8f54e118f299eb9d26aa2c8",
      "value": 13466047
     }
    },
    "9a049d8591574f93b0da81a860b5839e": {
     "model_module": "@jupyter-widgets/base",
     "model_module_version": "1.2.0",
     "model_name": "LayoutModel",
     "state": {
      "_model_module": "@jupyter-widgets/base",
      "_model_module_version": "1.2.0",
      "_model_name": "LayoutModel",
      "_view_count": null,
      "_view_module": "@jupyter-widgets/base",
      "_view_module_version": "1.2.0",
      "_view_name": "LayoutView",
      "align_content": null,
      "align_items": null,
      "align_self": null,
      "border": null,
      "bottom": null,
      "display": null,
      "flex": null,
      "flex_flow": null,
      "grid_area": null,
      "grid_auto_columns": null,
      "grid_auto_flow": null,
      "grid_auto_rows": null,
      "grid_column": null,
      "grid_gap": null,
      "grid_row": null,
      "grid_template_areas": null,
      "grid_template_columns": null,
      "grid_template_rows": null,
      "height": null,
      "justify_content": null,
      "justify_items": null,
      "left": null,
      "margin": null,
      "max_height": null,
      "max_width": null,
      "min_height": null,
      "min_width": null,
      "object_fit": null,
      "object_position": null,
      "order": null,
      "overflow": null,
      "overflow_x": null,
      "overflow_y": null,
      "padding": null,
      "right": null,
      "top": null,
      "visibility": null,
      "width": null
     }
    },
    "9e2e87ac45bf4134a5bb5b644cc3abff": {
     "model_module": "@jupyter-widgets/base",
     "model_module_version": "1.2.0",
     "model_name": "LayoutModel",
     "state": {
      "_model_module": "@jupyter-widgets/base",
      "_model_module_version": "1.2.0",
      "_model_name": "LayoutModel",
      "_view_count": null,
      "_view_module": "@jupyter-widgets/base",
      "_view_module_version": "1.2.0",
      "_view_name": "LayoutView",
      "align_content": null,
      "align_items": null,
      "align_self": null,
      "border": null,
      "bottom": null,
      "display": null,
      "flex": null,
      "flex_flow": null,
      "grid_area": null,
      "grid_auto_columns": null,
      "grid_auto_flow": null,
      "grid_auto_rows": null,
      "grid_column": null,
      "grid_gap": null,
      "grid_row": null,
      "grid_template_areas": null,
      "grid_template_columns": null,
      "grid_template_rows": null,
      "height": null,
      "justify_content": null,
      "justify_items": null,
      "left": null,
      "margin": null,
      "max_height": null,
      "max_width": null,
      "min_height": null,
      "min_width": null,
      "object_fit": null,
      "object_position": null,
      "order": null,
      "overflow": null,
      "overflow_x": null,
      "overflow_y": null,
      "padding": null,
      "right": null,
      "top": null,
      "visibility": null,
      "width": null
     }
    },
    "a45f233ddc1c4df0b1fed0235a823302": {
     "model_module": "@jupyter-widgets/base",
     "model_module_version": "1.2.0",
     "model_name": "LayoutModel",
     "state": {
      "_model_module": "@jupyter-widgets/base",
      "_model_module_version": "1.2.0",
      "_model_name": "LayoutModel",
      "_view_count": null,
      "_view_module": "@jupyter-widgets/base",
      "_view_module_version": "1.2.0",
      "_view_name": "LayoutView",
      "align_content": null,
      "align_items": null,
      "align_self": null,
      "border": null,
      "bottom": null,
      "display": null,
      "flex": null,
      "flex_flow": null,
      "grid_area": null,
      "grid_auto_columns": null,
      "grid_auto_flow": null,
      "grid_auto_rows": null,
      "grid_column": null,
      "grid_gap": null,
      "grid_row": null,
      "grid_template_areas": null,
      "grid_template_columns": null,
      "grid_template_rows": null,
      "height": null,
      "justify_content": null,
      "justify_items": null,
      "left": null,
      "margin": null,
      "max_height": null,
      "max_width": null,
      "min_height": null,
      "min_width": null,
      "object_fit": null,
      "object_position": null,
      "order": null,
      "overflow": null,
      "overflow_x": null,
      "overflow_y": null,
      "padding": null,
      "right": null,
      "top": null,
      "visibility": null,
      "width": null
     }
    },
    "ba7f8cc409fb40149dd54cb8543e98f3": {
     "model_module": "@jupyter-widgets/controls",
     "model_module_version": "1.5.0",
     "model_name": "HTMLModel",
     "state": {
      "_dom_classes": [],
      "_model_module": "@jupyter-widgets/controls",
      "_model_module_version": "1.5.0",
      "_model_name": "HTMLModel",
      "_view_count": null,
      "_view_module": "@jupyter-widgets/controls",
      "_view_module_version": "1.5.0",
      "_view_name": "HTMLView",
      "description": "",
      "description_tooltip": null,
      "layout": "IPY_MODEL_9a049d8591574f93b0da81a860b5839e",
      "placeholder": "​",
      "style": "IPY_MODEL_7299a531b43e480786176c9b0a528501",
      "value": " 12.8M/12.8M [00:00&lt;00:00, 53.7MB/s]"
     }
    },
    "c7ceb70d121d4710a904d751fb534521": {
     "model_module": "@jupyter-widgets/controls",
     "model_module_version": "1.5.0",
     "model_name": "ProgressStyleModel",
     "state": {
      "_model_module": "@jupyter-widgets/controls",
      "_model_module_version": "1.5.0",
      "_model_name": "ProgressStyleModel",
      "_view_count": null,
      "_view_module": "@jupyter-widgets/base",
      "_view_module_version": "1.2.0",
      "_view_name": "StyleView",
      "bar_color": null,
      "description_width": ""
     }
    },
    "cc43ac659122477e899ad690074c7c78": {
     "model_module": "@jupyter-widgets/controls",
     "model_module_version": "1.5.0",
     "model_name": "ProgressStyleModel",
     "state": {
      "_model_module": "@jupyter-widgets/controls",
      "_model_module_version": "1.5.0",
      "_model_name": "ProgressStyleModel",
      "_view_count": null,
      "_view_module": "@jupyter-widgets/base",
      "_view_module_version": "1.2.0",
      "_view_name": "StyleView",
      "bar_color": null,
      "description_width": ""
     }
    },
    "cf382698cacd4ee59d29b948a5054b1f": {
     "model_module": "@jupyter-widgets/base",
     "model_module_version": "1.2.0",
     "model_name": "LayoutModel",
     "state": {
      "_model_module": "@jupyter-widgets/base",
      "_model_module_version": "1.2.0",
      "_model_name": "LayoutModel",
      "_view_count": null,
      "_view_module": "@jupyter-widgets/base",
      "_view_module_version": "1.2.0",
      "_view_name": "LayoutView",
      "align_content": null,
      "align_items": null,
      "align_self": null,
      "border": null,
      "bottom": null,
      "display": null,
      "flex": null,
      "flex_flow": null,
      "grid_area": null,
      "grid_auto_columns": null,
      "grid_auto_flow": null,
      "grid_auto_rows": null,
      "grid_column": null,
      "grid_gap": null,
      "grid_row": null,
      "grid_template_areas": null,
      "grid_template_columns": null,
      "grid_template_rows": null,
      "height": null,
      "justify_content": null,
      "justify_items": null,
      "left": null,
      "margin": null,
      "max_height": null,
      "max_width": null,
      "min_height": null,
      "min_width": null,
      "object_fit": null,
      "object_position": null,
      "order": null,
      "overflow": null,
      "overflow_x": null,
      "overflow_y": null,
      "padding": null,
      "right": null,
      "top": null,
      "visibility": null,
      "width": null
     }
    },
    "d11877121b624053b37b029a7ab2a03a": {
     "model_module": "@jupyter-widgets/base",
     "model_module_version": "1.2.0",
     "model_name": "LayoutModel",
     "state": {
      "_model_module": "@jupyter-widgets/base",
      "_model_module_version": "1.2.0",
      "_model_name": "LayoutModel",
      "_view_count": null,
      "_view_module": "@jupyter-widgets/base",
      "_view_module_version": "1.2.0",
      "_view_name": "LayoutView",
      "align_content": null,
      "align_items": null,
      "align_self": null,
      "border": null,
      "bottom": null,
      "display": null,
      "flex": null,
      "flex_flow": null,
      "grid_area": null,
      "grid_auto_columns": null,
      "grid_auto_flow": null,
      "grid_auto_rows": null,
      "grid_column": null,
      "grid_gap": null,
      "grid_row": null,
      "grid_template_areas": null,
      "grid_template_columns": null,
      "grid_template_rows": null,
      "height": null,
      "justify_content": null,
      "justify_items": null,
      "left": null,
      "margin": null,
      "max_height": null,
      "max_width": null,
      "min_height": null,
      "min_width": null,
      "object_fit": null,
      "object_position": null,
      "order": null,
      "overflow": null,
      "overflow_x": null,
      "overflow_y": null,
      "padding": null,
      "right": null,
      "top": null,
      "visibility": null,
      "width": null
     }
    },
    "d4ac31e53b4c458eaf94fd479aee17eb": {
     "model_module": "@jupyter-widgets/controls",
     "model_module_version": "1.5.0",
     "model_name": "DescriptionStyleModel",
     "state": {
      "_model_module": "@jupyter-widgets/controls",
      "_model_module_version": "1.5.0",
      "_model_name": "DescriptionStyleModel",
      "_view_count": null,
      "_view_module": "@jupyter-widgets/base",
      "_view_module_version": "1.2.0",
      "_view_name": "StyleView",
      "description_width": ""
     }
    },
    "dad85ad9f24843f8b1380c2ce2a0bfc7": {
     "model_module": "@jupyter-widgets/controls",
     "model_module_version": "1.5.0",
     "model_name": "HBoxModel",
     "state": {
      "_dom_classes": [],
      "_model_module": "@jupyter-widgets/controls",
      "_model_module_version": "1.5.0",
      "_model_name": "HBoxModel",
      "_view_count": null,
      "_view_module": "@jupyter-widgets/controls",
      "_view_module_version": "1.5.0",
      "_view_name": "HBoxView",
      "box_style": "",
      "children": [
       "IPY_MODEL_5b7d4d8e4c1e4903b6ce8ee01aead0c8",
       "IPY_MODEL_f882335377e345ce99f1fdd9f1412481",
       "IPY_MODEL_778ee0822a0f45e3b8fbed741d1d6bf4"
      ],
      "layout": "IPY_MODEL_cf382698cacd4ee59d29b948a5054b1f"
     }
    },
    "ebe1f04193e34bf2922bb0b73b5824ec": {
     "model_module": "@jupyter-widgets/base",
     "model_module_version": "1.2.0",
     "model_name": "LayoutModel",
     "state": {
      "_model_module": "@jupyter-widgets/base",
      "_model_module_version": "1.2.0",
      "_model_name": "LayoutModel",
      "_view_count": null,
      "_view_module": "@jupyter-widgets/base",
      "_view_module_version": "1.2.0",
      "_view_name": "LayoutView",
      "align_content": null,
      "align_items": null,
      "align_self": null,
      "border": null,
      "bottom": null,
      "display": null,
      "flex": null,
      "flex_flow": null,
      "grid_area": null,
      "grid_auto_columns": null,
      "grid_auto_flow": null,
      "grid_auto_rows": null,
      "grid_column": null,
      "grid_gap": null,
      "grid_row": null,
      "grid_template_areas": null,
      "grid_template_columns": null,
      "grid_template_rows": null,
      "height": null,
      "justify_content": null,
      "justify_items": null,
      "left": null,
      "margin": null,
      "max_height": null,
      "max_width": null,
      "min_height": null,
      "min_width": null,
      "object_fit": null,
      "object_position": null,
      "order": null,
      "overflow": null,
      "overflow_x": null,
      "overflow_y": null,
      "padding": null,
      "right": null,
      "top": null,
      "visibility": null,
      "width": null
     }
    },
    "ef29d48e5778464f8cd801ffa4606fc1": {
     "model_module": "@jupyter-widgets/base",
     "model_module_version": "1.2.0",
     "model_name": "LayoutModel",
     "state": {
      "_model_module": "@jupyter-widgets/base",
      "_model_module_version": "1.2.0",
      "_model_name": "LayoutModel",
      "_view_count": null,
      "_view_module": "@jupyter-widgets/base",
      "_view_module_version": "1.2.0",
      "_view_name": "LayoutView",
      "align_content": null,
      "align_items": null,
      "align_self": null,
      "border": null,
      "bottom": null,
      "display": null,
      "flex": null,
      "flex_flow": null,
      "grid_area": null,
      "grid_auto_columns": null,
      "grid_auto_flow": null,
      "grid_auto_rows": null,
      "grid_column": null,
      "grid_gap": null,
      "grid_row": null,
      "grid_template_areas": null,
      "grid_template_columns": null,
      "grid_template_rows": null,
      "height": null,
      "justify_content": null,
      "justify_items": null,
      "left": null,
      "margin": null,
      "max_height": null,
      "max_width": null,
      "min_height": null,
      "min_width": null,
      "object_fit": null,
      "object_position": null,
      "order": null,
      "overflow": null,
      "overflow_x": null,
      "overflow_y": null,
      "padding": null,
      "right": null,
      "top": null,
      "visibility": null,
      "width": null
     }
    },
    "f2e3b78c9ba042e29beceaeaa8a87d4e": {
     "model_module": "@jupyter-widgets/base",
     "model_module_version": "1.2.0",
     "model_name": "LayoutModel",
     "state": {
      "_model_module": "@jupyter-widgets/base",
      "_model_module_version": "1.2.0",
      "_model_name": "LayoutModel",
      "_view_count": null,
      "_view_module": "@jupyter-widgets/base",
      "_view_module_version": "1.2.0",
      "_view_name": "LayoutView",
      "align_content": null,
      "align_items": null,
      "align_self": null,
      "border": null,
      "bottom": null,
      "display": null,
      "flex": null,
      "flex_flow": null,
      "grid_area": null,
      "grid_auto_columns": null,
      "grid_auto_flow": null,
      "grid_auto_rows": null,
      "grid_column": null,
      "grid_gap": null,
      "grid_row": null,
      "grid_template_areas": null,
      "grid_template_columns": null,
      "grid_template_rows": null,
      "height": null,
      "justify_content": null,
      "justify_items": null,
      "left": null,
      "margin": null,
      "max_height": null,
      "max_width": null,
      "min_height": null,
      "min_width": null,
      "object_fit": null,
      "object_position": null,
      "order": null,
      "overflow": null,
      "overflow_x": null,
      "overflow_y": null,
      "padding": null,
      "right": null,
      "top": null,
      "visibility": null,
      "width": null
     }
    },
    "f52c6aaca8f54e118f299eb9d26aa2c8": {
     "model_module": "@jupyter-widgets/controls",
     "model_module_version": "1.5.0",
     "model_name": "ProgressStyleModel",
     "state": {
      "_model_module": "@jupyter-widgets/controls",
      "_model_module_version": "1.5.0",
      "_model_name": "ProgressStyleModel",
      "_view_count": null,
      "_view_module": "@jupyter-widgets/base",
      "_view_module_version": "1.2.0",
      "_view_name": "StyleView",
      "bar_color": null,
      "description_width": ""
     }
    },
    "f882335377e345ce99f1fdd9f1412481": {
     "model_module": "@jupyter-widgets/controls",
     "model_module_version": "1.5.0",
     "model_name": "FloatProgressModel",
     "state": {
      "_dom_classes": [],
      "_model_module": "@jupyter-widgets/controls",
      "_model_module_version": "1.5.0",
      "_model_name": "FloatProgressModel",
      "_view_count": null,
      "_view_module": "@jupyter-widgets/controls",
      "_view_module_version": "1.5.0",
      "_view_name": "ProgressView",
      "bar_style": "success",
      "description": "",
      "description_tooltip": null,
      "layout": "IPY_MODEL_62cf6a14c9c74bf4999ce732b9e063f1",
      "max": 79650817,
      "min": 0,
      "orientation": "horizontal",
      "style": "IPY_MODEL_cc43ac659122477e899ad690074c7c78",
      "value": 79650817
     }
    }
   }
  }
 },
 "nbformat": 4,
 "nbformat_minor": 0
}
