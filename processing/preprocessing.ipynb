{
  "cells": [
    {
      "cell_type": "markdown",
      "metadata": {
        "id": "O39GuDrheG96"
      },
      "source": [
        "# Preprocessing datasets for analysis with scvi-tools"
      ]
    },
    {
      "cell_type": "markdown",
      "source": [
        "In this tutorial, we go over several preprocessing techniques for different types of data used with scvi-tools models. Each section of this tutorial is independent from the other sections, and is relevant to other scvi-tools tutorials which use the same type of dataset. For example, the preprocessing techniques used in the scRNA-seq section of this tutorial are generally used in the scvi-tools scRNA-seq related tutorials. Relevant tutorials are linked in each section."
      ],
      "metadata": {
        "id": "EmXEO1zjpbcr"
      }
    },
    {
      "cell_type": "markdown",
      "metadata": {
        "id": "No7Pt-I5M0f9"
      },
      "source": [
        "## Dependencies"
      ]
    },
    {
      "cell_type": "markdown",
      "metadata": {
        "id": "ztZuAKuNxzUy"
      },
      "source": [
        "```{note}\n",
        "Running the following cell will install tutorial dependencies on Google Colab only. It will have no effect on environments other than Google Colab.\n",
        "```"
      ]
    },
    {
      "cell_type": "code",
      "execution_count": null,
      "metadata": {
        "colab": {
          "base_uri": "https://localhost:8080/"
        },
        "id": "VHiq1wfav9bJ",
        "outputId": "8c721945-98bc-4747-8e9c-f8b78a531ea6"
      },
      "outputs": [
        {
          "output_type": "stream",
          "name": "stdout",
          "text": [
            "\u001b[34mINFO    \u001b[0m scvi-colab: Installing scvi-tools.                                                                        \n",
            "\u001b[34mINFO    \u001b[0m scvi-colab: Install successful. Testing import.                                                           \n"
          ]
        },
        {
          "output_type": "stream",
          "name": "stderr",
          "text": [
            "/usr/local/lib/python3.11/dist-packages/docrep/decorators.py:43: SyntaxWarning: 'param_categorical_covariate_keys' is not a valid key!\n",
            "  doc = func(self, args[0].__doc__, *args[1:], **kwargs)\n",
            "/usr/local/lib/python3.11/dist-packages/docrep/decorators.py:43: SyntaxWarning: 'param_continuous_covariate_keys' is not a valid key!\n",
            "  doc = func(self, args[0].__doc__, *args[1:], **kwargs)\n"
          ]
        }
      ],
      "source": [
        "!pip install --quiet scvi-colab\n",
        "from scvi_colab import install\n",
        "\n",
        "install()"
      ]
    },
    {
      "cell_type": "markdown",
      "metadata": {
        "id": "flNUYc0TyB12"
      },
      "source": [
        "## Imports and preparing files"
      ]
    },
    {
      "cell_type": "code",
      "execution_count": null,
      "metadata": {
        "id": "Etl4MlBjxPlD"
      },
      "outputs": [],
      "source": [
        "import gzip\n",
        "import os\n",
        "import tempfile\n",
        "from pathlib import Path\n",
        "\n",
        "import anndata as ad\n",
        "import mudata as md\n",
        "import muon\n",
        "import numpy as np\n",
        "import pooch\n",
        "import scanpy as sc\n",
        "import scvi\n",
        "import seaborn as sns\n",
        "import torch"
      ]
    },
    {
      "cell_type": "code",
      "execution_count": null,
      "metadata": {
        "colab": {
          "base_uri": "https://localhost:8080/"
        },
        "id": "ENvgwWqixm_V",
        "outputId": "952f7b34-62c0-4db2-d1b8-f72b1d7c975b"
      },
      "outputs": [
        {
          "output_type": "stream",
          "name": "stderr",
          "text": [
            "INFO: Seed set to 0\n",
            "INFO:lightning.fabric.utilities.seed:Seed set to 0\n"
          ]
        },
        {
          "output_type": "stream",
          "name": "stdout",
          "text": [
            "Last run with scvi-tools version: 1.3.0\n"
          ]
        }
      ],
      "source": [
        "scvi.settings.seed = 0\n",
        "print(\"Last run with scvi-tools version:\", scvi.__version__)"
      ]
    },
    {
      "cell_type": "markdown",
      "metadata": {
        "id": "0LrlKo9iyLX9"
      },
      "source": [
        "```{note}\n",
        "You can modify `save_dir` below to change where the data files for this tutorial are saved.\n",
        "\n",
        "You can modify `file_name` below to the name of the dataset you would like to preprocess. This file will end with .h5ad or .h5 depending on which model you plan to use.\n",
        "```"
      ]
    },
    {
      "cell_type": "code",
      "execution_count": null,
      "metadata": {
        "id": "NRliiPwQyFZg"
      },
      "outputs": [],
      "source": [
        "sc.set_figure_params(figsize=(6, 6), frameon=False)\n",
        "sns.set_theme()\n",
        "torch.set_float32_matmul_precision(\"high\")\n",
        "save_dir = tempfile.TemporaryDirectory()\n",
        "\n",
        "%config InlineBackend.print_figure_kwargs={\"facecolor\": \"w\"}\n",
        "%config InlineBackend.figure_format=\"retina\""
      ]
    },
    {
      "cell_type": "markdown",
      "metadata": {
        "id": "UOiaVe6UdDfP"
      },
      "source": [
        "## scRNA-seq"
      ]
    },
    {
      "cell_type": "markdown",
      "source": [
        "### Relevant scRNA-seq Tutorials:\n",
        "\n",
        "[](../scrna/harmonization)\n",
        "[](../scrna/scvi_in_R)\n",
        "[](../scrna/tabula_muris)\n",
        "[](../scrna/scarches_scvi_tools)\n",
        "[](../scrna/query_hlca_knn)\n",
        "[](../scrna/seed_labeling)\n",
        "[](../scrna/linear_decoder)\n",
        "[](../scrna/AutoZI_tutorial)\n",
        "[](../scrna/cellassign_tutorial)\n",
        "[](../scrna/amortized_lda)\n",
        "[](../scrna/scVI_DE_worm)\n",
        "[](../scrna/contrastiveVI_tutorial)\n",
        "[](../scrna/scanvi_fix)\n",
        "[](../scrna/MrVI_tutorial)\n",
        "[](../scrna/sysVI)\n"
      ],
      "metadata": {
        "id": "gwxLFd5Nuexv"
      }
    },
    {
      "cell_type": "markdown",
      "source": [
        "### Preprocessing"
      ],
      "metadata": {
        "id": "_obK5ZUCui5V"
      }
    },
    {
      "cell_type": "markdown",
      "metadata": {
        "id": "VKeYasOZj8Hg"
      },
      "source": [
        "Here we demonstrate preprocessing of an scRNA-seq dataset using cells from the lung atlas integration task from the [scIB manuscript](https://www.biorxiv.org/content/10.1101/2020.05.22.111161v2)."
      ]
    },
    {
      "cell_type": "code",
      "execution_count": null,
      "metadata": {
        "colab": {
          "base_uri": "https://localhost:8080/",
          "height": 120,
          "referenced_widgets": [
            "8def5b0deaf54443b5961e637fcc85ab",
            "71631347d6254481bccaa0b2a3c961ba",
            "f6840d79336f4a378ce1b10f49047853",
            "00b9797e1ff54c59b44e3417e98b0562",
            "396bcbf15ed2405b9b0e1706694a6cfb",
            "76f2bfb5e3444cb8ae9b7674e628a35d",
            "135e0a7a48204072a8d4e9544e24f99d",
            "d1e751902dfe4b328e63234408cf641c",
            "9c2a172c551a4de0bd6cb56e65bc0581",
            "d868406eb55f4dc0a851422923871a4f",
            "ab130f2b866141379905638761cd16e3"
          ]
        },
        "id": "9ZAQVVWOPtRw",
        "outputId": "f5f150b6-3da2-4bfd-b511-3279dfd9335a"
      },
      "outputs": [
        {
          "output_type": "display_data",
          "data": {
            "text/plain": [
              "  0%|          | 0.00/972M [00:00<?, ?B/s]"
            ],
            "application/vnd.jupyter.widget-view+json": {
              "version_major": 2,
              "version_minor": 0,
              "model_id": "8def5b0deaf54443b5961e637fcc85ab"
            }
          },
          "metadata": {}
        },
        {
          "output_type": "execute_result",
          "data": {
            "text/plain": [
              "AnnData object with n_obs × n_vars = 32472 × 15148\n",
              "    obs: 'dataset', 'location', 'nGene', 'nUMI', 'patientGroup', 'percent.mito', 'protocol', 'sanger_type', 'size_factors', 'sampling_method', 'batch', 'cell_type', 'donor'\n",
              "    layers: 'counts'"
            ]
          },
          "metadata": {},
          "execution_count": 5
        }
      ],
      "source": [
        "adata_path = os.path.join(save_dir.name, \"lung_atlas.h5ad\")\n",
        "\n",
        "adata = sc.read(\n",
        "    adata_path,\n",
        "    backup_url=\"https://figshare.com/ndownloader/files/24539942\",\n",
        ")\n",
        "adata"
      ]
    },
    {
      "cell_type": "markdown",
      "metadata": {
        "id": "UZmDC2fTQbuf"
      },
      "source": [
        "This dataset was already processed as described in the scIB manuscript. Generally, models in scvi-tools expect data that has been filtered/aggregated in the same fashion as one would do with Scanpy/Seurat.\n",
        "\n",
        "Another important thing to keep in mind is highly-variable gene selection. While scVI and scANVI both accomodate using all genes in terms of runtime, we usually recommend filtering genes for best integration performance. This will, among other things, remove batch-specific variation due to batch-specific gene expression.\n",
        "\n",
        "We perform this gene selection using the Scanpy pipeline while keeping the full dimension normalized data in the `adata.raw` object. We obtain variable genes from each dataset and take their intersections."
      ]
    },
    {
      "cell_type": "markdown",
      "metadata": {
        "id": "GAKuvzIYRN-R"
      },
      "source": [
        "This dataset already has counts stored in layers, and `adata.X` contains log transformed scran normalized expression. If this is not the case for your dataset, you can preserve the raw counts, then normalize and log transform them with\n",
        "```python\n",
        "adata.layers[\"counts\"] = adata.X.copy()\n",
        "sc.pp.normalize_total(adata, target_sum=1e4)\n",
        "sc.pp.log1p(adata)\n",
        "```"
      ]
    },
    {
      "cell_type": "markdown",
      "metadata": {
        "id": "5n0hWw5HSskb"
      },
      "source": [
        "Below we perform gene selection while keeping the full dimension normalized data in `adata.raw`. We obtain variable genes from each dataset and take their intersections."
      ]
    },
    {
      "cell_type": "code",
      "execution_count": null,
      "metadata": {
        "colab": {
          "base_uri": "https://localhost:8080/"
        },
        "id": "dwwVLfXlk3U3",
        "outputId": "5891fbe4-ee79-44ea-e40b-0c7c21a18c48"
      },
      "outputs": [
        {
          "output_type": "stream",
          "name": "stderr",
          "text": [
            "/usr/local/lib/python3.11/dist-packages/scanpy/preprocessing/_highly_variable_genes.py:73: UserWarning: `flavor='seurat_v3'` expects raw count data, but non-integers were found.\n",
            "  warnings.warn(\n"
          ]
        }
      ],
      "source": [
        "adata.raw = adata  # keep full dimension safe\n",
        "sc.pp.highly_variable_genes(\n",
        "    adata,\n",
        "    n_top_genes=2000,\n",
        "    flavor=\"seurat_v3\",\n",
        "    layer=\"counts\",\n",
        "    subset=True,\n",
        "    batch_key=\"batch\",  # Change depending on the batch key for your dataset\n",
        ")"
      ]
    },
    {
      "cell_type": "markdown",
      "metadata": {
        "id": "68LPEzKrTFoE"
      },
      "source": [
        "```{important}\n",
        "We see a warning about the data not containing counts. This is due to some of the samples in this dataset containing SoupX-corrected counts. scvi-tools models will run for non-negative real-valued data, but we strongly suggest checking that these possibly non-count values are intended to represent pseudocounts, and not some other normalized data, in which the variance/covariance structure of the data has changed dramatically.\n",
        "```"
      ]
    },
    {
      "cell_type": "code",
      "execution_count": null,
      "metadata": {
        "id": "TT4xFCsMreBf"
      },
      "outputs": [],
      "source": [
        "# Save preprocessed data for later use\n",
        "adata.write_h5ad(\"lung_atlas_preprocessed.h5ad\")"
      ]
    },
    {
      "cell_type": "markdown",
      "metadata": {
        "id": "LZLxxKsPOXQs"
      },
      "source": [
        "## scATAC-seq"
      ]
    },
    {
      "cell_type": "markdown",
      "source": [
        "### Relevant scATAC-seq tutorials:\n",
        "\n",
        "[](../atac/PeakVI)\n",
        "[](../atac/peakvi_in_r)\n",
        "[](../atac/scbasset)\n",
        "[](../atac/scbasset_batch)\n",
        "[](../atac/PoissonVI)"
      ],
      "metadata": {
        "id": "ocM2MBwesdGa"
      }
    },
    {
      "cell_type": "markdown",
      "source": [
        "### Preprocessing"
      ],
      "metadata": {
        "id": "XAmBCtjpuDBr"
      }
    },
    {
      "cell_type": "markdown",
      "metadata": {
        "id": "GS0flNfTtuPb"
      },
      "source": [
        "To demonstrate preprocessing of scATAC-seq data, we use a 5k PBMC sample dataset from 10X. We use the pooch package to download the data."
      ]
    },
    {
      "cell_type": "code",
      "execution_count": null,
      "metadata": {
        "id": "XAfa7FzqFkjJ"
      },
      "outputs": [],
      "source": [
        "def download_data(save_path: str, fname: str = \"atac_pbmc_5k\") -> str:\n",
        "    \"\"\"Download the data files.\"\"\"\n",
        "    data_paths = pooch.retrieve(\n",
        "        url=\"https://cf.10xgenomics.com/samples/cell-atac/1.2.0/atac_pbmc_5k_nextgem/atac_pbmc_5k_nextgem_filtered_peak_bc_matrix.tar.gz\",\n",
        "        known_hash=\"78e536a1508108fa5bd3b411a7484809c011f3403800369b20db05bdbfeb2284\",\n",
        "        fname=fname,\n",
        "        path=save_path,\n",
        "        processor=pooch.Untar(),\n",
        "        progressbar=True,\n",
        "    )\n",
        "    return str(Path(data_paths[0]).parent)"
      ]
    },
    {
      "cell_type": "code",
      "execution_count": null,
      "metadata": {
        "colab": {
          "base_uri": "https://localhost:8080/"
        },
        "id": "l93TdySMGafj",
        "outputId": "97961129-5531-407e-c18c-9625afc489a0"
      },
      "outputs": [
        {
          "output_type": "stream",
          "name": "stderr",
          "text": [
            "Downloading data from 'https://cf.10xgenomics.com/samples/cell-atac/1.2.0/atac_pbmc_5k_nextgem/atac_pbmc_5k_nextgem_filtered_peak_bc_matrix.tar.gz' to file '/tmp/tmpb7g1ioxy/atac_pbmc_5k'.\n",
            "100%|███████████████████████████████████████| 114M/114M [00:00<00:00, 80.0GB/s]\n",
            "Untarring contents of '/tmp/tmpb7g1ioxy/atac_pbmc_5k' to '/tmp/tmpb7g1ioxy/atac_pbmc_5k.untar'\n"
          ]
        }
      ],
      "source": [
        "data_path = download_data(save_dir.name)"
      ]
    },
    {
      "cell_type": "markdown",
      "metadata": {
        "id": "8yyza05qU7bQ"
      },
      "source": [
        "PeakVI expects as input an AnnData object with a cell-by-region matrix. There are various pipelines that handle preprocessing of scATACseq to obtain this matrix from the sequencing data. If the data was generated by 10X genomics, this matrix is among the standard outputs of CellRanger. Other pipelines, like [SnapATAC](https://github.com/r3fang/SnapATAC/) and [ArchR](https://www.archrproject.com/bookdown/add-peak-matrix.html), also generate similar matrices.\n",
        "\n",
        "In the case of 10X data, PeakVI has a special reader function `scvi.data.read_10x_atac` that reads the files and creates an AnnData object, demonstrated below. For conveniece, we also demonstrate how to initialize an AnnData object from scratch.\n",
        "\n",
        "Throughout this tutorial, we use [sample scATACseq data from 10X of 5K PBMCs](https://support.10xgenomics.com/single-cell-atac/datasets/1.2.0/atac_pbmc_5k_nextgem)."
      ]
    },
    {
      "cell_type": "code",
      "execution_count": null,
      "metadata": {
        "colab": {
          "base_uri": "https://localhost:8080/"
        },
        "id": "OBqNhA5hIEfd",
        "outputId": "01a5fc2b-3456-4f27-d938-219c3e1f4a05"
      },
      "outputs": [
        {
          "output_type": "execute_result",
          "data": {
            "text/plain": [
              "AnnData object with n_obs × n_vars = 4585 × 115554\n",
              "    obs: 'batch_id'\n",
              "    var: 'chr', 'start', 'end'"
            ]
          },
          "metadata": {},
          "execution_count": 10
        }
      ],
      "source": [
        "adata = scvi.data.read_10x_atac(data_path)\n",
        "adata"
      ]
    },
    {
      "cell_type": "markdown",
      "metadata": {
        "id": "2HlkpBAyIKmj"
      },
      "source": [
        "We use Scanpy here to filter out peaks that are rarely detected, so that the model trains faster:"
      ]
    },
    {
      "cell_type": "code",
      "execution_count": null,
      "metadata": {
        "colab": {
          "base_uri": "https://localhost:8080/"
        },
        "id": "Gzx81hjmH9jz",
        "outputId": "3754baaf-d8a7-4ff0-8bce-e12b35c6da92"
      },
      "outputs": [
        {
          "output_type": "stream",
          "name": "stdout",
          "text": [
            "# regions before filtering: 115554\n",
            "# regions after filtering: 33142\n"
          ]
        }
      ],
      "source": [
        "print(\"# regions before filtering:\", adata.shape[-1])\n",
        "\n",
        "# compute the threshold: 5% of the cells\n",
        "min_cells = int(adata.shape[0] * 0.05)\n",
        "# in-place filtering of regions\n",
        "sc.pp.filter_genes(adata, min_cells=min_cells)\n",
        "\n",
        "print(\"# regions after filtering:\", adata.shape[-1])"
      ]
    },
    {
      "cell_type": "code",
      "execution_count": null,
      "metadata": {
        "id": "3LsXmQKqsl8-"
      },
      "outputs": [],
      "source": [
        "adata.write_h5ad(\"atac_pbmc_5k_preprocessed.h5ad\")"
      ]
    },
    {
      "cell_type": "markdown",
      "metadata": {
        "id": "OPybqBG3OH3g"
      },
      "source": [
        "## CITE-seq"
      ]
    },
    {
      "cell_type": "markdown",
      "source": [
        "### Relevant CITE-seq Tutorials\n",
        "\n",
        "[](../multimodal/totalVI)\n",
        "[](../multimodal/cite_scrna_integration_w_totalVI)\n",
        "[](../multimodal/totalVI_reference_mapping)\n",
        "[](../multimodal/totalvi_in_R)"
      ],
      "metadata": {
        "id": "LPznbj0rwOf9"
      }
    },
    {
      "cell_type": "markdown",
      "source": [
        "### Preprocessing"
      ],
      "metadata": {
        "id": "dfrYTmqXwOwy"
      }
    },
    {
      "cell_type": "markdown",
      "metadata": {
        "id": "Z_RIYYaOSeBX"
      },
      "source": [
        "Here we demonstrate preprocessing of CITE-seq data on integrated PBMC10k and PBMC5k datasets available from 10X Genomics. We will subset to the 17 proteins shared between the datasets."
      ]
    },
    {
      "cell_type": "code",
      "execution_count": null,
      "metadata": {
        "id": "zgVEWlxcWhjN"
      },
      "outputs": [],
      "source": [
        "def download_data(save_path: str, fname: str = \"CITE-seq_pbmc_10k\") -> str:\n",
        "    \"\"\"Download the data files.\"\"\"\n",
        "    if fname == \"CITE-seq_pbmc_10k\":\n",
        "        hash = \"md5:26d53ffe08b5f7d3b28df61b592d51fb\"\n",
        "        url = \"https://cf.10xgenomics.com/samples/cell-exp/3.0.0/pbmc_10k_protein_v3/pbmc_10k_protein_v3_filtered_feature_bc_matrix.tar.gz\"\n",
        "    else:\n",
        "        hash = \"md5:9be3d672b0445b944ca06a507c3d780b\"\n",
        "        url = \"https://cf.10xgenomics.com/samples/cell-exp/3.1.0/5k_pbmc_protein_v3/5k_pbmc_protein_v3_filtered_feature_bc_matrix.tar.gz\"\n",
        "\n",
        "    data_paths = pooch.retrieve(\n",
        "        url=url,\n",
        "        known_hash=hash,\n",
        "        fname=fname,\n",
        "        path=save_path,\n",
        "        processor=pooch.Untar(),\n",
        "        progressbar=True,\n",
        "    )\n",
        "    return str(Path(data_paths[0]).parent)"
      ]
    },
    {
      "cell_type": "code",
      "execution_count": null,
      "metadata": {
        "colab": {
          "base_uri": "https://localhost:8080/"
        },
        "id": "Z9ACDUxgW1hD",
        "outputId": "7e052b7c-c397-4b75-a57b-095954a680d4"
      },
      "outputs": [
        {
          "output_type": "stream",
          "name": "stderr",
          "text": [
            "Downloading data from 'https://cf.10xgenomics.com/samples/cell-exp/3.0.0/pbmc_10k_protein_v3/pbmc_10k_protein_v3_filtered_feature_bc_matrix.tar.gz' to file '/tmp/tmpb7g1ioxy/CITE-seq_pbmc_10k'.\n",
            "100%|█████████████████████████████████████| 48.7M/48.7M [00:00<00:00, 16.0GB/s]\n",
            "Untarring contents of '/tmp/tmpb7g1ioxy/CITE-seq_pbmc_10k' to '/tmp/tmpb7g1ioxy/CITE-seq_pbmc_10k.untar'\n",
            "Downloading data from 'https://cf.10xgenomics.com/samples/cell-exp/3.1.0/5k_pbmc_protein_v3/5k_pbmc_protein_v3_filtered_feature_bc_matrix.tar.gz' to file '/tmp/tmpb7g1ioxy/CITE-seq_pbmc_5k'.\n",
            "100%|█████████████████████████████████████| 36.2M/36.2M [00:00<00:00, 9.32GB/s]\n",
            "Untarring contents of '/tmp/tmpb7g1ioxy/CITE-seq_pbmc_5k' to '/tmp/tmpb7g1ioxy/CITE-seq_pbmc_5k.untar'\n"
          ]
        }
      ],
      "source": [
        "data_path1 = download_data(save_dir.name)\n",
        "data_path2 = download_data(save_dir.name, \"CITE-seq_pbmc_5k\")"
      ]
    },
    {
      "cell_type": "code",
      "execution_count": null,
      "metadata": {
        "colab": {
          "base_uri": "https://localhost:8080/"
        },
        "id": "oknql592yPJg",
        "outputId": "b98b6bea-6eef-476d-e07b-da5c466cb29b"
      },
      "outputs": [
        {
          "output_type": "stream",
          "name": "stderr",
          "text": [
            "/usr/local/lib/python3.11/dist-packages/mudata/_core/mudata.py:1531: FutureWarning: From 0.4 .update() will not pull obs/var columns from individual modalities by default anymore. Set mudata.set_options(pull_on_update=False) to adopt the new behaviour, which will become the default. Use new pull_obs/pull_var and push_obs/push_var methods for more flexibility.\n",
            "  self._update_attr(\"var\", axis=0, join_common=join_common)\n",
            "/usr/local/lib/python3.11/dist-packages/mudata/_core/mudata.py:1429: FutureWarning: From 0.4 .update() will not pull obs/var columns from individual modalities by default anymore. Set mudata.set_options(pull_on_update=False) to adopt the new behaviour, which will become the default. Use new pull_obs/pull_var and push_obs/push_var methods for more flexibility.\n",
            "  self._update_attr(\"obs\", axis=1, join_common=join_common)\n",
            "/usr/local/lib/python3.11/dist-packages/mudata/_core/mudata.py:1531: FutureWarning: From 0.4 .update() will not pull obs/var columns from individual modalities by default anymore. Set mudata.set_options(pull_on_update=False) to adopt the new behaviour, which will become the default. Use new pull_obs/pull_var and push_obs/push_var methods for more flexibility.\n",
            "  self._update_attr(\"var\", axis=0, join_common=join_common)\n",
            "/usr/local/lib/python3.11/dist-packages/mudata/_core/mudata.py:1429: FutureWarning: From 0.4 .update() will not pull obs/var columns from individual modalities by default anymore. Set mudata.set_options(pull_on_update=False) to adopt the new behaviour, which will become the default. Use new pull_obs/pull_var and push_obs/push_var methods for more flexibility.\n",
            "  self._update_attr(\"obs\", axis=1, join_common=join_common)\n"
          ]
        }
      ],
      "source": [
        "mdata1 = muon.read_10x_mtx(data_path1)\n",
        "mdata2 = muon.read_10x_mtx(data_path2)"
      ]
    },
    {
      "cell_type": "code",
      "execution_count": null,
      "metadata": {
        "colab": {
          "base_uri": "https://localhost:8080/",
          "height": 139
        },
        "id": "F-5BAQ6GX2nL",
        "outputId": "69a8da70-682a-4754-ac0a-73e1653bc442"
      },
      "outputs": [
        {
          "output_type": "execute_result",
          "data": {
            "text/plain": [
              "MuData object with n_obs × n_vars = 7865 × 33555\n",
              "  var:\t'gene_ids', 'feature_types'\n",
              "  2 modalities\n",
              "    rna:\t7865 x 33538\n",
              "      var:\t'gene_ids', 'feature_types'\n",
              "    prot:\t7865 x 17\n",
              "      var:\t'gene_ids', 'feature_types'"
            ],
            "text/html": [
              "<pre>MuData object with n_obs × n_vars = 7865 × 33555\n",
              "  var:\t&#x27;gene_ids&#x27;, &#x27;feature_types&#x27;\n",
              "  2 modalities\n",
              "    rna:\t7865 x 33538\n",
              "      var:\t&#x27;gene_ids&#x27;, &#x27;feature_types&#x27;\n",
              "    prot:\t7865 x 17\n",
              "      var:\t&#x27;gene_ids&#x27;, &#x27;feature_types&#x27;</pre>"
            ]
          },
          "metadata": {},
          "execution_count": 16
        }
      ],
      "source": [
        "mdata1"
      ]
    },
    {
      "cell_type": "code",
      "execution_count": null,
      "metadata": {
        "colab": {
          "base_uri": "https://localhost:8080/",
          "height": 139
        },
        "id": "auHdoX_0Njr2",
        "outputId": "fef3ec55-5b76-4606-eba9-d6543f6dcea0"
      },
      "outputs": [
        {
          "output_type": "execute_result",
          "data": {
            "text/plain": [
              "MuData object with n_obs × n_vars = 5247 × 33570\n",
              "  var:\t'gene_ids', 'feature_types'\n",
              "  2 modalities\n",
              "    rna:\t5247 x 33538\n",
              "      var:\t'gene_ids', 'feature_types'\n",
              "    prot:\t5247 x 32\n",
              "      var:\t'gene_ids', 'feature_types'"
            ],
            "text/html": [
              "<pre>MuData object with n_obs × n_vars = 5247 × 33570\n",
              "  var:\t&#x27;gene_ids&#x27;, &#x27;feature_types&#x27;\n",
              "  2 modalities\n",
              "    rna:\t5247 x 33538\n",
              "      var:\t&#x27;gene_ids&#x27;, &#x27;feature_types&#x27;\n",
              "    prot:\t5247 x 32\n",
              "      var:\t&#x27;gene_ids&#x27;, &#x27;feature_types&#x27;</pre>"
            ]
          },
          "metadata": {},
          "execution_count": 17
        }
      ],
      "source": [
        "mdata2"
      ]
    },
    {
      "cell_type": "markdown",
      "metadata": {
        "id": "bignZn2Rb2hT"
      },
      "source": [
        "We make var names unique, store raw counts in layers, and normalize and log transform counts. Then we perform gene selection."
      ]
    },
    {
      "cell_type": "markdown",
      "metadata": {
        "id": "mHsWuRN_dfYw"
      },
      "source": [
        "https://github.com/YosefLab/totalVI_reproducibility/blob/master/data/data_filtering_scripts/pbmc_10k/pbmc_10k.py"
      ]
    },
    {
      "cell_type": "code",
      "execution_count": null,
      "metadata": {
        "id": "WJYfUV5UdUaV"
      },
      "outputs": [],
      "source": [
        "# TODO: Should I do more filtering as in the above link? Or is it too specific for this?\n",
        "# min genes, mitochondrial reads, n_genes, n_counts, protein library size,\n",
        "# genes that encode proteins, etc.\n",
        "\n",
        "# The processing done in the below link seems much more minimal so not sure which is better here"
      ]
    },
    {
      "cell_type": "markdown",
      "metadata": {
        "id": "GpvIzYJBeno-"
      },
      "source": [
        "https://docs.scvi-tools.org/en/stable/tutorials/notebooks/multimodal/totalVI.html#using-own-data"
      ]
    },
    {
      "cell_type": "code",
      "execution_count": null,
      "metadata": {
        "id": "HZjNb79sNr7G"
      },
      "outputs": [],
      "source": [
        "def filter_pbmc(mdata):\n",
        "    mdata.mod[\"rna\"].var_names_make_unique()\n",
        "    mdata.mod[\"rna\"].layers[\"counts\"] = mdata.mod[\"rna\"].X.copy()\n",
        "    sc.pp.normalize_total(mdata.mod[\"rna\"])\n",
        "    sc.pp.log1p(mdata.mod[\"rna\"])\n",
        "\n",
        "    sc.pp.highly_variable_genes(\n",
        "        mdata.mod[\"rna\"],\n",
        "        n_top_genes=4000,\n",
        "        flavor=\"seurat_v3\",\n",
        "        layer=\"counts\",\n",
        "    )\n",
        "    # Place subsetted counts in a new modality\n",
        "    mdata.mod[\"rna_subset\"] = mdata.mod[\"rna\"][:, mdata.mod[\"rna\"].var[\"highly_variable\"]].copy()\n",
        "    mdata = md.MuData(mdata.mod)\n",
        "\n",
        "    return mdata"
      ]
    },
    {
      "cell_type": "code",
      "execution_count": null,
      "metadata": {
        "colab": {
          "base_uri": "https://localhost:8080/"
        },
        "id": "CuGqbeOCNupL",
        "outputId": "e32e6a5f-42d8-43e0-c61b-adc06f7a8c7c"
      },
      "outputs": [
        {
          "output_type": "stream",
          "name": "stderr",
          "text": [
            "/usr/local/lib/python3.11/dist-packages/mudata/_core/mudata.py:1531: FutureWarning: From 0.4 .update() will not pull obs/var columns from individual modalities by default anymore. Set mudata.set_options(pull_on_update=False) to adopt the new behaviour, which will become the default. Use new pull_obs/pull_var and push_obs/push_var methods for more flexibility.\n",
            "  self._update_attr(\"var\", axis=0, join_common=join_common)\n",
            "/usr/local/lib/python3.11/dist-packages/mudata/_core/mudata.py:931: UserWarning: Cannot join columns with the same name because var_names are intersecting.\n",
            "  warnings.warn(\n",
            "/usr/local/lib/python3.11/dist-packages/mudata/_core/mudata.py:1429: FutureWarning: From 0.4 .update() will not pull obs/var columns from individual modalities by default anymore. Set mudata.set_options(pull_on_update=False) to adopt the new behaviour, which will become the default. Use new pull_obs/pull_var and push_obs/push_var methods for more flexibility.\n",
            "  self._update_attr(\"obs\", axis=1, join_common=join_common)\n",
            "/usr/local/lib/python3.11/dist-packages/mudata/_core/mudata.py:1531: FutureWarning: From 0.4 .update() will not pull obs/var columns from individual modalities by default anymore. Set mudata.set_options(pull_on_update=False) to adopt the new behaviour, which will become the default. Use new pull_obs/pull_var and push_obs/push_var methods for more flexibility.\n",
            "  self._update_attr(\"var\", axis=0, join_common=join_common)\n",
            "/usr/local/lib/python3.11/dist-packages/mudata/_core/mudata.py:931: UserWarning: Cannot join columns with the same name because var_names are intersecting.\n",
            "  warnings.warn(\n",
            "/usr/local/lib/python3.11/dist-packages/mudata/_core/mudata.py:1429: FutureWarning: From 0.4 .update() will not pull obs/var columns from individual modalities by default anymore. Set mudata.set_options(pull_on_update=False) to adopt the new behaviour, which will become the default. Use new pull_obs/pull_var and push_obs/push_var methods for more flexibility.\n",
            "  self._update_attr(\"obs\", axis=1, join_common=join_common)\n"
          ]
        }
      ],
      "source": [
        "mdata1 = filter_pbmc(mdata1)\n",
        "mdata2 = filter_pbmc(mdata2)"
      ]
    },
    {
      "cell_type": "code",
      "execution_count": null,
      "metadata": {
        "id": "f2Q_fwJwOU1m"
      },
      "outputs": [],
      "source": [
        "# TODO: Are the above warnings an issue?"
      ]
    },
    {
      "cell_type": "code",
      "execution_count": null,
      "metadata": {
        "colab": {
          "base_uri": "https://localhost:8080/"
        },
        "id": "hr7ud0CnM8LX",
        "outputId": "5451f574-bbe0-4e0a-8f31-6d82c24f94c6"
      },
      "outputs": [
        {
          "output_type": "stream",
          "name": "stderr",
          "text": [
            "/usr/local/lib/python3.11/dist-packages/anndata/_core/anndata.py:1756: UserWarning: Observation names are not unique. To make them unique, call `.obs_names_make_unique`.\n",
            "  utils.warn_names_duplicates(\"obs\")\n",
            "/usr/local/lib/python3.11/dist-packages/anndata/_core/anndata.py:1756: UserWarning: Observation names are not unique. To make them unique, call `.obs_names_make_unique`.\n",
            "  utils.warn_names_duplicates(\"obs\")\n",
            "/usr/local/lib/python3.11/dist-packages/mudata/_core/mudata.py:1531: FutureWarning: From 0.4 .update() will not pull obs/var columns from individual modalities by default anymore. Set mudata.set_options(pull_on_update=False) to adopt the new behaviour, which will become the default. Use new pull_obs/pull_var and push_obs/push_var methods for more flexibility.\n",
            "  self._update_attr(\"var\", axis=0, join_common=join_common)\n",
            "/usr/local/lib/python3.11/dist-packages/mudata/_core/mudata.py:1429: FutureWarning: From 0.4 .update() will not pull obs/var columns from individual modalities by default anymore. Set mudata.set_options(pull_on_update=False) to adopt the new behaviour, which will become the default. Use new pull_obs/pull_var and push_obs/push_var methods for more flexibility.\n",
            "  self._update_attr(\"obs\", axis=1, join_common=join_common)\n"
          ]
        }
      ],
      "source": [
        "# TODO: not sure if below code is best way to combine the datasets\n",
        "\n",
        "# First filter to shared proteins and genes by doing inner join\n",
        "rna_c = ad.concat([mdata1.mod[\"rna_subset\"], mdata2.mod[\"rna_subset\"]])\n",
        "rna_c.obs_names_make_unique()\n",
        "\n",
        "prot_c = ad.concat([mdata1.mod[\"prot\"], mdata2.mod[\"prot\"]])\n",
        "prot_c.obs_names_make_unique()\n",
        "\n",
        "# Todo: do I need to still include the original \"rna\" modality for any reason?\n",
        "mdata = md.MuData({\"rna_subset\": rna_c, \"prot\": prot_c})"
      ]
    },
    {
      "cell_type": "code",
      "execution_count": null,
      "metadata": {
        "id": "LUBSRnlL5zLO"
      },
      "outputs": [],
      "source": [
        "# we need to work with dense and not sparse matrices:\n",
        "\n",
        "# TODO: not sure if this cell is needed. It was in the \"use your own data\" section\n",
        "# of the totalVI tutorial\n",
        "\n",
        "# mdata[\"prot\"].X = mdata[\"prot\"].X.toarray()\n",
        "# mdata[\"rna_subset\"].X = mdata[\"rna_subset\"].X.toarray()\n",
        "# mdata.mod[\"rna_subset\"].layers[\"counts\"] = mdata.mod[\"rna_subset\"].layers[\"counts\"].toarray()"
      ]
    },
    {
      "cell_type": "code",
      "execution_count": null,
      "metadata": {
        "id": "ajAAidBL_BVP"
      },
      "outputs": [],
      "source": [
        "# mdata.update()"
      ]
    },
    {
      "cell_type": "code",
      "execution_count": null,
      "metadata": {
        "colab": {
          "base_uri": "https://localhost:8080/",
          "height": 104
        },
        "id": "IH7Cd4bW_Dxu",
        "outputId": "98755b81-c17d-4be3-8381-b0cfc50b7fb4"
      },
      "outputs": [
        {
          "output_type": "execute_result",
          "data": {
            "text/plain": [
              "MuData object with n_obs × n_vars = 13112 × 2193\n",
              "  2 modalities\n",
              "    rna_subset:\t13112 x 2176\n",
              "      layers:\t'counts'\n",
              "    prot:\t13112 x 17"
            ],
            "text/html": [
              "<pre>MuData object with n_obs × n_vars = 13112 × 2193\n",
              "  2 modalities\n",
              "    rna_subset:\t13112 x 2176\n",
              "      layers:\t&#x27;counts&#x27;\n",
              "    prot:\t13112 x 17</pre>"
            ]
          },
          "metadata": {},
          "execution_count": 25
        }
      ],
      "source": [
        "mdata"
      ]
    },
    {
      "cell_type": "code",
      "execution_count": null,
      "metadata": {
        "colab": {
          "base_uri": "https://localhost:8080/"
        },
        "id": "fi51CFUJtWtk",
        "outputId": "33ff36c2-b28c-4c1c-9d3c-e3a4dee74263"
      },
      "outputs": [
        {
          "output_type": "stream",
          "name": "stderr",
          "text": [
            "/usr/local/lib/python3.11/dist-packages/mudata/_core/mudata.py:1531: FutureWarning: From 0.4 .update() will not pull obs/var columns from individual modalities by default anymore. Set mudata.set_options(pull_on_update=False) to adopt the new behaviour, which will become the default. Use new pull_obs/pull_var and push_obs/push_var methods for more flexibility.\n",
            "  self._update_attr(\"var\", axis=0, join_common=join_common)\n",
            "/usr/local/lib/python3.11/dist-packages/mudata/_core/mudata.py:1429: FutureWarning: From 0.4 .update() will not pull obs/var columns from individual modalities by default anymore. Set mudata.set_options(pull_on_update=False) to adopt the new behaviour, which will become the default. Use new pull_obs/pull_var and push_obs/push_var methods for more flexibility.\n",
            "  self._update_attr(\"obs\", axis=1, join_common=join_common)\n"
          ]
        }
      ],
      "source": [
        "mdata.write(\"CITE-seq_pbmc_combined_preprocessed.h5mu\")"
      ]
    },
    {
      "cell_type": "markdown",
      "metadata": {
        "id": "xLLFdtiP1DVf"
      },
      "source": [
        "## Multiome"
      ]
    },
    {
      "cell_type": "markdown",
      "source": [
        "### Relevant Multiome Tutorials\n",
        "\n",
        "[](../multimodal/MultiVI_tutorial)"
      ],
      "metadata": {
        "id": "aEVquVVbyH7D"
      }
    },
    {
      "cell_type": "markdown",
      "source": [
        "### Preprocessing"
      ],
      "metadata": {
        "id": "g10-sn2RyILh"
      }
    },
    {
      "cell_type": "markdown",
      "metadata": {
        "id": "asEGzrNelIf4"
      },
      "source": [
        "First we download a sample multiome dataset from 10X to use in this section of the tutorial.\n",
        "Importantly, MultiVI assumes that there are shared features between the datasets. This is trivial for gene expression datasets, which generally use the same set of genes as features. For ATAC-seq peaks, this is less trivial, and often requires preprocessing steps with other tools to get all datasets to use a shared set of peaks. That can be achieved with tools like SnapATAC, ArchR, and CellRanger in the case of 10X data."
      ]
    },
    {
      "cell_type": "markdown",
      "metadata": {
        "id": "HmNRL8Xa1vXs"
      },
      "source": [
        "```{important}\n",
        "MultiVI requires the datasets to use shared features. scATAC-seq datasets need to be processed to use a shared set of peaks.\n",
        "```"
      ]
    },
    {
      "cell_type": "markdown",
      "metadata": {
        "id": "Ji-OKeFC2Z8S"
      },
      "source": [
        "Here we use a 10k PBMCs dataset from 10X to demonstrate preprocessing for multiome datasets."
      ]
    },
    {
      "cell_type": "code",
      "execution_count": null,
      "metadata": {
        "id": "cneBdKNd1RWv"
      },
      "outputs": [],
      "source": [
        "def download_data(save_path: str, fname: str = \"pbmc_10k\"):\n",
        "    data_paths = pooch.retrieve(\n",
        "        url=\"https://cf.10xgenomics.com/samples/cell-arc/2.0.0/pbmc_unsorted_10k/pbmc_unsorted_10k_filtered_feature_bc_matrix.tar.gz\",\n",
        "        known_hash=\"872b0dba467d972aa498812a857677ca7cf69050d4f9762b2cd4753b2be694a1\",\n",
        "        fname=fname,\n",
        "        path=save_path,\n",
        "        processor=pooch.Untar(),\n",
        "        progressbar=True,\n",
        "    )\n",
        "    data_paths.sort()\n",
        "\n",
        "    for path in data_paths:\n",
        "        with gzip.open(path, \"rb\") as f_in:\n",
        "            with open(path.replace(\".gz\", \"\"), \"wb\") as f_out:\n",
        "                f_out.write(f_in.read())\n",
        "\n",
        "    return str(Path(data_paths[0]).parent)"
      ]
    },
    {
      "cell_type": "code",
      "execution_count": null,
      "metadata": {
        "colab": {
          "base_uri": "https://localhost:8080/"
        },
        "id": "kVGT23H219Sc",
        "outputId": "bd4e8082-3082-4463-978e-1abf19717a00"
      },
      "outputs": [
        {
          "output_type": "stream",
          "name": "stderr",
          "text": [
            "Downloading data from 'https://cf.10xgenomics.com/samples/cell-arc/2.0.0/pbmc_unsorted_10k/pbmc_unsorted_10k_filtered_feature_bc_matrix.tar.gz' to file '/tmp/tmpb7g1ioxy/pbmc_10k'.\n",
            "100%|████████████████████████████████████████| 375M/375M [00:00<00:00, 256GB/s]\n",
            "Untarring contents of '/tmp/tmpb7g1ioxy/pbmc_10k' to '/tmp/tmpb7g1ioxy/pbmc_10k.untar'\n"
          ]
        }
      ],
      "source": [
        "data_path = download_data(save_dir.name)"
      ]
    },
    {
      "cell_type": "markdown",
      "metadata": {
        "id": "kZH3L0HRWVN6"
      },
      "source": [
        "We read the dataset as a mudata, where we have two modalities: 'rna' and 'atac'. For multiome datasets, using mudata is preferred over anndata."
      ]
    },
    {
      "cell_type": "code",
      "execution_count": null,
      "metadata": {
        "colab": {
          "base_uri": "https://localhost:8080/",
          "height": 230
        },
        "id": "cZ-hMuvePluV",
        "outputId": "09f71add-1ee4-4311-f6d3-a37a7f07d563"
      },
      "outputs": [
        {
          "output_type": "stream",
          "name": "stderr",
          "text": [
            "/usr/local/lib/python3.11/dist-packages/mudata/_core/mudata.py:1531: FutureWarning: From 0.4 .update() will not pull obs/var columns from individual modalities by default anymore. Set mudata.set_options(pull_on_update=False) to adopt the new behaviour, which will become the default. Use new pull_obs/pull_var and push_obs/push_var methods for more flexibility.\n",
            "  self._update_attr(\"var\", axis=0, join_common=join_common)\n",
            "/usr/local/lib/python3.11/dist-packages/mudata/_core/mudata.py:1429: FutureWarning: From 0.4 .update() will not pull obs/var columns from individual modalities by default anymore. Set mudata.set_options(pull_on_update=False) to adopt the new behaviour, which will become the default. Use new pull_obs/pull_var and push_obs/push_var methods for more flexibility.\n",
            "  self._update_attr(\"obs\", axis=1, join_common=join_common)\n"
          ]
        },
        {
          "output_type": "execute_result",
          "data": {
            "text/plain": [
              "MuData object with n_obs × n_vars = 12012 × 148458\n",
              "  var:\t'gene_ids', 'feature_types'\n",
              "  2 modalities\n",
              "    rna:\t12012 x 36601\n",
              "      var:\t'gene_ids', 'feature_types'\n",
              "    atac:\t12012 x 111857\n",
              "      var:\t'gene_ids', 'feature_types'"
            ],
            "text/html": [
              "<pre>MuData object with n_obs × n_vars = 12012 × 148458\n",
              "  var:\t&#x27;gene_ids&#x27;, &#x27;feature_types&#x27;\n",
              "  2 modalities\n",
              "    rna:\t12012 x 36601\n",
              "      var:\t&#x27;gene_ids&#x27;, &#x27;feature_types&#x27;\n",
              "    atac:\t12012 x 111857\n",
              "      var:\t&#x27;gene_ids&#x27;, &#x27;feature_types&#x27;</pre>"
            ]
          },
          "metadata": {},
          "execution_count": 29
        }
      ],
      "source": [
        "mdata = muon.read_10x_mtx(data_path)\n",
        "mdata"
      ]
    },
    {
      "cell_type": "code",
      "execution_count": null,
      "metadata": {
        "id": "roxLyRRjP8uX"
      },
      "outputs": [],
      "source": [
        "mdata.mod[\"rna\"].var_names_make_unique()\n",
        "mdata.mod[\"atac\"].var_names_make_unique()"
      ]
    },
    {
      "cell_type": "markdown",
      "metadata": {
        "id": "vVYP7ctvu24r"
      },
      "source": [
        "Next we zero out the values of each modality for 1/3 of the observations, to create a mixed single-modal and multimodal dataset. We do this so that we can later demonstrate the ability to work with mixed data."
      ]
    },
    {
      "cell_type": "code",
      "execution_count": null,
      "metadata": {
        "id": "gqPTITJysIsp"
      },
      "outputs": [],
      "source": [
        "n = mdata.n_obs // 3\n",
        "\n",
        "# Convert to CSR format for efficient row modifications\n",
        "mdata.mod[\"rna\"].X = mdata.mod[\"rna\"].X.tocsr()\n",
        "mdata.mod[\"atac\"].X = mdata.mod[\"atac\"].X.tocsr()\n",
        "\n",
        "# Efficiently zero out rows by modifying the data in-place\n",
        "mdata.mod[\"atac\"].X.data[mdata.mod[\"atac\"].X.tocsr().indices < n] = 0\n",
        "mdata.mod[\"rna\"].X.data[mdata.mod[\"rna\"].X.tocsr().indices >= 2 * n] = 0\n",
        "\n",
        "# Keep it sparse\n",
        "mdata.mod[\"rna\"].X.eliminate_zeros()\n",
        "mdata.mod[\"atac\"].X.eliminate_zeros()\n",
        "\n",
        "# Convert back to CSC if needed\n",
        "mdata.mod[\"rna\"].X = mdata.mod[\"rna\"].X.tocsc()\n",
        "mdata.mod[\"atac\"].X = mdata.mod[\"atac\"].X.tocsc()"
      ]
    },
    {
      "cell_type": "code",
      "execution_count": null,
      "metadata": {
        "colab": {
          "base_uri": "https://localhost:8080/",
          "height": 230
        },
        "id": "0WDTyptTUZbX",
        "outputId": "931ac9e7-e79a-42fd-8d46-5b84408bf30a"
      },
      "outputs": [
        {
          "output_type": "stream",
          "name": "stderr",
          "text": [
            "/usr/local/lib/python3.11/dist-packages/mudata/_core/mudata.py:1531: FutureWarning: From 0.4 .update() will not pull obs/var columns from individual modalities by default anymore. Set mudata.set_options(pull_on_update=False) to adopt the new behaviour, which will become the default. Use new pull_obs/pull_var and push_obs/push_var methods for more flexibility.\n",
            "  self._update_attr(\"var\", axis=0, join_common=join_common)\n",
            "/usr/local/lib/python3.11/dist-packages/mudata/_core/mudata.py:1429: FutureWarning: From 0.4 .update() will not pull obs/var columns from individual modalities by default anymore. Set mudata.set_options(pull_on_update=False) to adopt the new behaviour, which will become the default. Use new pull_obs/pull_var and push_obs/push_var methods for more flexibility.\n",
            "  self._update_attr(\"obs\", axis=1, join_common=join_common)\n"
          ]
        },
        {
          "output_type": "execute_result",
          "data": {
            "text/plain": [
              "MuData object with n_obs × n_vars = 12012 × 148458\n",
              "  var:\t'gene_ids', 'feature_types'\n",
              "  2 modalities\n",
              "    rna:\t12012 x 36601\n",
              "      var:\t'gene_ids', 'feature_types'\n",
              "    atac:\t12012 x 111857\n",
              "      var:\t'gene_ids', 'feature_types'"
            ],
            "text/html": [
              "<pre>MuData object with n_obs × n_vars = 12012 × 148458\n",
              "  var:\t&#x27;gene_ids&#x27;, &#x27;feature_types&#x27;\n",
              "  2 modalities\n",
              "    rna:\t12012 x 36601\n",
              "      var:\t&#x27;gene_ids&#x27;, &#x27;feature_types&#x27;\n",
              "    atac:\t12012 x 111857\n",
              "      var:\t&#x27;gene_ids&#x27;, &#x27;feature_types&#x27;</pre>"
            ]
          },
          "metadata": {},
          "execution_count": 32
        }
      ],
      "source": [
        "mdata.update()\n",
        "mdata"
      ]
    },
    {
      "cell_type": "code",
      "execution_count": null,
      "metadata": {
        "colab": {
          "base_uri": "https://localhost:8080/"
        },
        "id": "57PSRYh1R9nW",
        "outputId": "83ddb6f4-a29a-41b5-ddbb-b7f1bc924025"
      },
      "outputs": [
        {
          "output_type": "stream",
          "name": "stdout",
          "text": [
            "(12012, 36601)\n",
            "(12012, 3164)\n"
          ]
        }
      ],
      "source": [
        "print(mdata.mod[\"rna\"].shape)\n",
        "sc.pp.filter_genes(mdata.mod[\"rna\"], min_cells=int(mdata.mod[\"rna\"].shape[0] * 0.01))\n",
        "print(mdata.mod[\"rna\"].shape)"
      ]
    },
    {
      "cell_type": "code",
      "execution_count": null,
      "metadata": {
        "colab": {
          "base_uri": "https://localhost:8080/"
        },
        "id": "x2MsyX2TVClV",
        "outputId": "6bdb3591-872f-4d65-93fc-01e9576027ac"
      },
      "outputs": [
        {
          "output_type": "stream",
          "name": "stdout",
          "text": [
            "(12012, 111857)\n",
            "(12012, 80621)\n"
          ]
        }
      ],
      "source": [
        "print(mdata.mod[\"atac\"].shape)\n",
        "sc.pp.filter_genes(mdata.mod[\"atac\"], min_cells=int(mdata.mod[\"atac\"].shape[0] * 0.01))\n",
        "print(mdata.mod[\"atac\"].shape)"
      ]
    },
    {
      "cell_type": "code",
      "execution_count": null,
      "metadata": {
        "colab": {
          "base_uri": "https://localhost:8080/"
        },
        "id": "ESDtY7wGuj9Y",
        "outputId": "160447e5-1dd0-4c4e-e1ad-6ac40b803e33"
      },
      "outputs": [
        {
          "output_type": "stream",
          "name": "stderr",
          "text": [
            "/usr/local/lib/python3.11/dist-packages/mudata/_core/mudata.py:1531: FutureWarning: From 0.4 .update() will not pull obs/var columns from individual modalities by default anymore. Set mudata.set_options(pull_on_update=False) to adopt the new behaviour, which will become the default. Use new pull_obs/pull_var and push_obs/push_var methods for more flexibility.\n",
            "  self._update_attr(\"var\", axis=0, join_common=join_common)\n",
            "/usr/local/lib/python3.11/dist-packages/mudata/_core/mudata.py:1429: FutureWarning: From 0.4 .update() will not pull obs/var columns from individual modalities by default anymore. Set mudata.set_options(pull_on_update=False) to adopt the new behaviour, which will become the default. Use new pull_obs/pull_var and push_obs/push_var methods for more flexibility.\n",
            "  self._update_attr(\"obs\", axis=1, join_common=join_common)\n"
          ]
        }
      ],
      "source": [
        "mdata.write(\"pbmc_10k_preprocessed.h5mu\")"
      ]
    },
    {
      "cell_type": "markdown",
      "metadata": {
        "id": "YyWOF07jOpA9"
      },
      "source": [
        "## Spatial transciptomics"
      ]
    },
    {
      "cell_type": "markdown",
      "source": [
        "### Relevant Spatial transciptomics Tutorials\n",
        "\n",
        "[](../spatial/ResolVI_tutorial)\n",
        "[](../spatial/DestVI_tutorial)\n",
        "[](../spatial/DestVI_in_R)\n",
        "[](../spatial/gimvi_tutorial)\n",
        "[](../spatial/tangram_scvi_tools)\n",
        "[](../spatial/stereoscope_heart_LV_tutorial)\n",
        "[](../spatial/cell2location_lymph_node_spatial_tutorial)"
      ],
      "metadata": {
        "id": "jOqKmIoryaqj"
      }
    },
    {
      "cell_type": "markdown",
      "source": [
        "### Preprocessing"
      ],
      "metadata": {
        "id": "DGb2T-H8yacr"
      }
    },
    {
      "cell_type": "markdown",
      "metadata": {
        "id": "Bu8sI5TyIemh"
      },
      "source": [
        "To demonstrate preprocessing for spatial transcriptomics, we use data from a comparative study of murine lymph nodes, comparing wild-type with a stimulation after injection of a mycobacteria. We have at disposal a 10x Visium dataset as well as a matching scRNA-seq dataset from the same tissue."
      ]
    },
    {
      "cell_type": "code",
      "execution_count": null,
      "metadata": {
        "id": "2TIjlqfeOsjb"
      },
      "outputs": [],
      "source": [
        "url1 = \"https://github.com/romain-lopez/DestVI-reproducibility/blob/master/lymph_node/deconvolution/ST-LN-compressed.h5ad?raw=true\"\n",
        "url2 = \"https://github.com/romain-lopez/DestVI-reproducibility/blob/master/lymph_node/deconvolution/scRNA-LN-compressed.h5ad?raw=true\"\n",
        "out1 = \"data/ST-LN-compressed.h5ad\"\n",
        "out2 = \"data/scRNA-LN-compressed.h5ad\""
      ]
    },
    {
      "cell_type": "markdown",
      "metadata": {
        "id": "TrLyGrSNJGNR"
      },
      "source": [
        "First, let’s load the single-cell data. We profiled immune cells from murine lymph nodes with 10x Chromium, as a control / case study to study the immune response to exposure to a mycobacteria (refer to DestVI paper for more info). It contains the raw counts (DestVI always takes raw counts as input)."
      ]
    },
    {
      "cell_type": "code",
      "execution_count": null,
      "metadata": {
        "colab": {
          "base_uri": "https://localhost:8080/",
          "height": 49,
          "referenced_widgets": [
            "254e7035412348a68a5c359c9d4c5287",
            "61e77721a7604daf9da5119edced3fc5",
            "f6717bc370d94a69ad4ac49ffd5b09ee",
            "b4c8b4b29c234c78af5d26a2ade7d7d2",
            "98ab99aa4df24fd3a3dde92149d8e217",
            "7d6ff033e46a42138ace48e8224da466",
            "17a54584590e459fa804b40939f77e04",
            "6eca44a7a45a4094b1d8a0f55f30eb77",
            "9a9421cd03e54a789a3c2c135374f445",
            "68493d56cac142f8a1cde81d703388fc",
            "768f89eb121a4e14bb7f4cd53f943bc8"
          ]
        },
        "id": "_sRFknXUILGc",
        "outputId": "4af81296-69cb-435f-aa13-11df0f1b45aa"
      },
      "outputs": [
        {
          "output_type": "display_data",
          "data": {
            "text/plain": [
              "  0%|          | 0.00/76.0M [00:00<?, ?B/s]"
            ],
            "application/vnd.jupyter.widget-view+json": {
              "version_major": 2,
              "version_minor": 0,
              "model_id": "254e7035412348a68a5c359c9d4c5287"
            }
          },
          "metadata": {}
        }
      ],
      "source": [
        "sc_adata = sc.read(out2, backup_url=url2)"
      ]
    },
    {
      "cell_type": "code",
      "execution_count": null,
      "metadata": {
        "id": "f3p-pxG6INHz"
      },
      "outputs": [],
      "source": [
        "# let us filter some genes\n",
        "G = 2000\n",
        "sc.pp.filter_genes(sc_adata, min_counts=10)\n",
        "\n",
        "sc_adata.layers[\"counts\"] = sc_adata.X.copy()\n",
        "\n",
        "sc.pp.highly_variable_genes(\n",
        "    sc_adata, n_top_genes=G, subset=True, layer=\"counts\", flavor=\"seurat_v3\"\n",
        ")\n",
        "\n",
        "sc.pp.normalize_total(sc_adata, target_sum=10e4)\n",
        "sc.pp.log1p(sc_adata)\n",
        "sc_adata.raw = sc_adata"
      ]
    },
    {
      "cell_type": "markdown",
      "metadata": {
        "id": "MkNGsJwBKaXt"
      },
      "source": [
        "Load the spatial data"
      ]
    },
    {
      "cell_type": "code",
      "execution_count": null,
      "metadata": {
        "colab": {
          "base_uri": "https://localhost:8080/",
          "height": 49,
          "referenced_widgets": [
            "38772e02020a43d5aa7d426884cb44f8",
            "de437445024f4ca3ac6ede85633a6721",
            "5ccda75f4a274fd49ecd2fee8c02ff11",
            "817eb224368640209c31e2d7f5b64176",
            "dce17b4f94224b0798f9b56ad1c7c5a0",
            "ef30d77471ba41f78656ca728ccdc093",
            "e54dfdbb193543939df7397239e9e788",
            "da7565a1052b476f8e8360db26702aa3",
            "58251638c4f741bc9382eef57e6ecfc3",
            "9e3d040ae691417bb82875b05cabe5e9",
            "f1c65cb39b4a44718a05d09da398e417"
          ]
        },
        "id": "dH9p5dYNIUQm",
        "outputId": "dcecf13a-a392-4126-87b2-a70304e0b9a0"
      },
      "outputs": [
        {
          "output_type": "display_data",
          "data": {
            "text/plain": [
              "  0%|          | 0.00/12.8M [00:00<?, ?B/s]"
            ],
            "application/vnd.jupyter.widget-view+json": {
              "version_major": 2,
              "version_minor": 0,
              "model_id": "38772e02020a43d5aa7d426884cb44f8"
            }
          },
          "metadata": {}
        }
      ],
      "source": [
        "st_adata = sc.read(out1, backup_url=url1)"
      ]
    },
    {
      "cell_type": "code",
      "execution_count": null,
      "metadata": {
        "id": "WX1b6Hw_IUr1"
      },
      "outputs": [],
      "source": [
        "st_adata.layers[\"counts\"] = st_adata.X.copy()\n",
        "st_adata.obsm[\"spatial\"] = st_adata.obsm[\"location\"]\n",
        "\n",
        "sc.pp.normalize_total(st_adata, target_sum=10e4)\n",
        "sc.pp.log1p(st_adata)\n",
        "st_adata.raw = st_adata"
      ]
    },
    {
      "cell_type": "markdown",
      "metadata": {
        "id": "ehrKE3bCKfr0"
      },
      "source": [
        "Here we must ensure that the two datasets have a common gene subset."
      ]
    },
    {
      "cell_type": "code",
      "execution_count": null,
      "metadata": {
        "id": "vQ5tgNwUIXNT"
      },
      "outputs": [],
      "source": [
        "# filter genes to be the same on the spatial data\n",
        "intersect = np.intersect1d(sc_adata.var_names, st_adata.var_names)\n",
        "st_adata = st_adata[:, intersect].copy()\n",
        "sc_adata = sc_adata[:, intersect].copy()\n",
        "G = len(intersect)"
      ]
    },
    {
      "cell_type": "code",
      "execution_count": null,
      "metadata": {
        "id": "GPnwd1pYaKsX"
      },
      "outputs": [],
      "source": [
        "st_adata.write_h5ad(\"st_lymph_node_preprocessed.h5ad\")\n",
        "sc_adata.write_h5ad(\"sc_lymph_node_preprocessed.h5ad\")"
      ]
    },
    {
      "cell_type": "code",
      "execution_count": null,
      "metadata": {
        "id": "PGJOeNDwwNs3"
      },
      "outputs": [],
      "source": []
    }
  ],
  "metadata": {
    "colab": {
      "provenance": [],
      "toc_visible": true,
      "collapsed_sections": [
        "No7Pt-I5M0f9",
        "flNUYc0TyB12",
        "UOiaVe6UdDfP",
        "_obK5ZUCui5V",
        "LZLxxKsPOXQs",
        "OPybqBG3OH3g",
        "dfrYTmqXwOwy",
        "xLLFdtiP1DVf",
        "YyWOF07jOpA9"
      ]
    },
    "kernelspec": {
      "display_name": "Python 3",
      "name": "python3"
    },
    "language_info": {
      "name": "python"
    },
    "widgets": {
      "application/vnd.jupyter.widget-state+json": {
        "8def5b0deaf54443b5961e637fcc85ab": {
          "model_module": "@jupyter-widgets/controls",
          "model_name": "HBoxModel",
          "model_module_version": "1.5.0",
          "state": {
            "_dom_classes": [],
            "_model_module": "@jupyter-widgets/controls",
            "_model_module_version": "1.5.0",
            "_model_name": "HBoxModel",
            "_view_count": null,
            "_view_module": "@jupyter-widgets/controls",
            "_view_module_version": "1.5.0",
            "_view_name": "HBoxView",
            "box_style": "",
            "children": [
              "IPY_MODEL_71631347d6254481bccaa0b2a3c961ba",
              "IPY_MODEL_f6840d79336f4a378ce1b10f49047853",
              "IPY_MODEL_00b9797e1ff54c59b44e3417e98b0562"
            ],
            "layout": "IPY_MODEL_396bcbf15ed2405b9b0e1706694a6cfb"
          }
        },
        "71631347d6254481bccaa0b2a3c961ba": {
          "model_module": "@jupyter-widgets/controls",
          "model_name": "HTMLModel",
          "model_module_version": "1.5.0",
          "state": {
            "_dom_classes": [],
            "_model_module": "@jupyter-widgets/controls",
            "_model_module_version": "1.5.0",
            "_model_name": "HTMLModel",
            "_view_count": null,
            "_view_module": "@jupyter-widgets/controls",
            "_view_module_version": "1.5.0",
            "_view_name": "HTMLView",
            "description": "",
            "description_tooltip": null,
            "layout": "IPY_MODEL_76f2bfb5e3444cb8ae9b7674e628a35d",
            "placeholder": "​",
            "style": "IPY_MODEL_135e0a7a48204072a8d4e9544e24f99d",
            "value": "100%"
          }
        },
        "f6840d79336f4a378ce1b10f49047853": {
          "model_module": "@jupyter-widgets/controls",
          "model_name": "FloatProgressModel",
          "model_module_version": "1.5.0",
          "state": {
            "_dom_classes": [],
            "_model_module": "@jupyter-widgets/controls",
            "_model_module_version": "1.5.0",
            "_model_name": "FloatProgressModel",
            "_view_count": null,
            "_view_module": "@jupyter-widgets/controls",
            "_view_module_version": "1.5.0",
            "_view_name": "ProgressView",
            "bar_style": "success",
            "description": "",
            "description_tooltip": null,
            "layout": "IPY_MODEL_d1e751902dfe4b328e63234408cf641c",
            "max": 1019664664,
            "min": 0,
            "orientation": "horizontal",
            "style": "IPY_MODEL_9c2a172c551a4de0bd6cb56e65bc0581",
            "value": 1019664664
          }
        },
        "00b9797e1ff54c59b44e3417e98b0562": {
          "model_module": "@jupyter-widgets/controls",
          "model_name": "HTMLModel",
          "model_module_version": "1.5.0",
          "state": {
            "_dom_classes": [],
            "_model_module": "@jupyter-widgets/controls",
            "_model_module_version": "1.5.0",
            "_model_name": "HTMLModel",
            "_view_count": null,
            "_view_module": "@jupyter-widgets/controls",
            "_view_module_version": "1.5.0",
            "_view_name": "HTMLView",
            "description": "",
            "description_tooltip": null,
            "layout": "IPY_MODEL_d868406eb55f4dc0a851422923871a4f",
            "placeholder": "​",
            "style": "IPY_MODEL_ab130f2b866141379905638761cd16e3",
            "value": " 972M/972M [00:37&lt;00:00, 24.1MB/s]"
          }
        },
        "396bcbf15ed2405b9b0e1706694a6cfb": {
          "model_module": "@jupyter-widgets/base",
          "model_name": "LayoutModel",
          "model_module_version": "1.2.0",
          "state": {
            "_model_module": "@jupyter-widgets/base",
            "_model_module_version": "1.2.0",
            "_model_name": "LayoutModel",
            "_view_count": null,
            "_view_module": "@jupyter-widgets/base",
            "_view_module_version": "1.2.0",
            "_view_name": "LayoutView",
            "align_content": null,
            "align_items": null,
            "align_self": null,
            "border": null,
            "bottom": null,
            "display": null,
            "flex": null,
            "flex_flow": null,
            "grid_area": null,
            "grid_auto_columns": null,
            "grid_auto_flow": null,
            "grid_auto_rows": null,
            "grid_column": null,
            "grid_gap": null,
            "grid_row": null,
            "grid_template_areas": null,
            "grid_template_columns": null,
            "grid_template_rows": null,
            "height": null,
            "justify_content": null,
            "justify_items": null,
            "left": null,
            "margin": null,
            "max_height": null,
            "max_width": null,
            "min_height": null,
            "min_width": null,
            "object_fit": null,
            "object_position": null,
            "order": null,
            "overflow": null,
            "overflow_x": null,
            "overflow_y": null,
            "padding": null,
            "right": null,
            "top": null,
            "visibility": null,
            "width": null
          }
        },
        "76f2bfb5e3444cb8ae9b7674e628a35d": {
          "model_module": "@jupyter-widgets/base",
          "model_name": "LayoutModel",
          "model_module_version": "1.2.0",
          "state": {
            "_model_module": "@jupyter-widgets/base",
            "_model_module_version": "1.2.0",
            "_model_name": "LayoutModel",
            "_view_count": null,
            "_view_module": "@jupyter-widgets/base",
            "_view_module_version": "1.2.0",
            "_view_name": "LayoutView",
            "align_content": null,
            "align_items": null,
            "align_self": null,
            "border": null,
            "bottom": null,
            "display": null,
            "flex": null,
            "flex_flow": null,
            "grid_area": null,
            "grid_auto_columns": null,
            "grid_auto_flow": null,
            "grid_auto_rows": null,
            "grid_column": null,
            "grid_gap": null,
            "grid_row": null,
            "grid_template_areas": null,
            "grid_template_columns": null,
            "grid_template_rows": null,
            "height": null,
            "justify_content": null,
            "justify_items": null,
            "left": null,
            "margin": null,
            "max_height": null,
            "max_width": null,
            "min_height": null,
            "min_width": null,
            "object_fit": null,
            "object_position": null,
            "order": null,
            "overflow": null,
            "overflow_x": null,
            "overflow_y": null,
            "padding": null,
            "right": null,
            "top": null,
            "visibility": null,
            "width": null
          }
        },
        "135e0a7a48204072a8d4e9544e24f99d": {
          "model_module": "@jupyter-widgets/controls",
          "model_name": "DescriptionStyleModel",
          "model_module_version": "1.5.0",
          "state": {
            "_model_module": "@jupyter-widgets/controls",
            "_model_module_version": "1.5.0",
            "_model_name": "DescriptionStyleModel",
            "_view_count": null,
            "_view_module": "@jupyter-widgets/base",
            "_view_module_version": "1.2.0",
            "_view_name": "StyleView",
            "description_width": ""
          }
        },
        "d1e751902dfe4b328e63234408cf641c": {
          "model_module": "@jupyter-widgets/base",
          "model_name": "LayoutModel",
          "model_module_version": "1.2.0",
          "state": {
            "_model_module": "@jupyter-widgets/base",
            "_model_module_version": "1.2.0",
            "_model_name": "LayoutModel",
            "_view_count": null,
            "_view_module": "@jupyter-widgets/base",
            "_view_module_version": "1.2.0",
            "_view_name": "LayoutView",
            "align_content": null,
            "align_items": null,
            "align_self": null,
            "border": null,
            "bottom": null,
            "display": null,
            "flex": null,
            "flex_flow": null,
            "grid_area": null,
            "grid_auto_columns": null,
            "grid_auto_flow": null,
            "grid_auto_rows": null,
            "grid_column": null,
            "grid_gap": null,
            "grid_row": null,
            "grid_template_areas": null,
            "grid_template_columns": null,
            "grid_template_rows": null,
            "height": null,
            "justify_content": null,
            "justify_items": null,
            "left": null,
            "margin": null,
            "max_height": null,
            "max_width": null,
            "min_height": null,
            "min_width": null,
            "object_fit": null,
            "object_position": null,
            "order": null,
            "overflow": null,
            "overflow_x": null,
            "overflow_y": null,
            "padding": null,
            "right": null,
            "top": null,
            "visibility": null,
            "width": null
          }
        },
        "9c2a172c551a4de0bd6cb56e65bc0581": {
          "model_module": "@jupyter-widgets/controls",
          "model_name": "ProgressStyleModel",
          "model_module_version": "1.5.0",
          "state": {
            "_model_module": "@jupyter-widgets/controls",
            "_model_module_version": "1.5.0",
            "_model_name": "ProgressStyleModel",
            "_view_count": null,
            "_view_module": "@jupyter-widgets/base",
            "_view_module_version": "1.2.0",
            "_view_name": "StyleView",
            "bar_color": null,
            "description_width": ""
          }
        },
        "d868406eb55f4dc0a851422923871a4f": {
          "model_module": "@jupyter-widgets/base",
          "model_name": "LayoutModel",
          "model_module_version": "1.2.0",
          "state": {
            "_model_module": "@jupyter-widgets/base",
            "_model_module_version": "1.2.0",
            "_model_name": "LayoutModel",
            "_view_count": null,
            "_view_module": "@jupyter-widgets/base",
            "_view_module_version": "1.2.0",
            "_view_name": "LayoutView",
            "align_content": null,
            "align_items": null,
            "align_self": null,
            "border": null,
            "bottom": null,
            "display": null,
            "flex": null,
            "flex_flow": null,
            "grid_area": null,
            "grid_auto_columns": null,
            "grid_auto_flow": null,
            "grid_auto_rows": null,
            "grid_column": null,
            "grid_gap": null,
            "grid_row": null,
            "grid_template_areas": null,
            "grid_template_columns": null,
            "grid_template_rows": null,
            "height": null,
            "justify_content": null,
            "justify_items": null,
            "left": null,
            "margin": null,
            "max_height": null,
            "max_width": null,
            "min_height": null,
            "min_width": null,
            "object_fit": null,
            "object_position": null,
            "order": null,
            "overflow": null,
            "overflow_x": null,
            "overflow_y": null,
            "padding": null,
            "right": null,
            "top": null,
            "visibility": null,
            "width": null
          }
        },
        "ab130f2b866141379905638761cd16e3": {
          "model_module": "@jupyter-widgets/controls",
          "model_name": "DescriptionStyleModel",
          "model_module_version": "1.5.0",
          "state": {
            "_model_module": "@jupyter-widgets/controls",
            "_model_module_version": "1.5.0",
            "_model_name": "DescriptionStyleModel",
            "_view_count": null,
            "_view_module": "@jupyter-widgets/base",
            "_view_module_version": "1.2.0",
            "_view_name": "StyleView",
            "description_width": ""
          }
        },
        "254e7035412348a68a5c359c9d4c5287": {
          "model_module": "@jupyter-widgets/controls",
          "model_name": "HBoxModel",
          "model_module_version": "1.5.0",
          "state": {
            "_dom_classes": [],
            "_model_module": "@jupyter-widgets/controls",
            "_model_module_version": "1.5.0",
            "_model_name": "HBoxModel",
            "_view_count": null,
            "_view_module": "@jupyter-widgets/controls",
            "_view_module_version": "1.5.0",
            "_view_name": "HBoxView",
            "box_style": "",
            "children": [
              "IPY_MODEL_61e77721a7604daf9da5119edced3fc5",
              "IPY_MODEL_f6717bc370d94a69ad4ac49ffd5b09ee",
              "IPY_MODEL_b4c8b4b29c234c78af5d26a2ade7d7d2"
            ],
            "layout": "IPY_MODEL_98ab99aa4df24fd3a3dde92149d8e217"
          }
        },
        "61e77721a7604daf9da5119edced3fc5": {
          "model_module": "@jupyter-widgets/controls",
          "model_name": "HTMLModel",
          "model_module_version": "1.5.0",
          "state": {
            "_dom_classes": [],
            "_model_module": "@jupyter-widgets/controls",
            "_model_module_version": "1.5.0",
            "_model_name": "HTMLModel",
            "_view_count": null,
            "_view_module": "@jupyter-widgets/controls",
            "_view_module_version": "1.5.0",
            "_view_name": "HTMLView",
            "description": "",
            "description_tooltip": null,
            "layout": "IPY_MODEL_7d6ff033e46a42138ace48e8224da466",
            "placeholder": "​",
            "style": "IPY_MODEL_17a54584590e459fa804b40939f77e04",
            "value": "100%"
          }
        },
        "f6717bc370d94a69ad4ac49ffd5b09ee": {
          "model_module": "@jupyter-widgets/controls",
          "model_name": "FloatProgressModel",
          "model_module_version": "1.5.0",
          "state": {
            "_dom_classes": [],
            "_model_module": "@jupyter-widgets/controls",
            "_model_module_version": "1.5.0",
            "_model_name": "FloatProgressModel",
            "_view_count": null,
            "_view_module": "@jupyter-widgets/controls",
            "_view_module_version": "1.5.0",
            "_view_name": "ProgressView",
            "bar_style": "success",
            "description": "",
            "description_tooltip": null,
            "layout": "IPY_MODEL_6eca44a7a45a4094b1d8a0f55f30eb77",
            "max": 79650817,
            "min": 0,
            "orientation": "horizontal",
            "style": "IPY_MODEL_9a9421cd03e54a789a3c2c135374f445",
            "value": 79650817
          }
        },
        "b4c8b4b29c234c78af5d26a2ade7d7d2": {
          "model_module": "@jupyter-widgets/controls",
          "model_name": "HTMLModel",
          "model_module_version": "1.5.0",
          "state": {
            "_dom_classes": [],
            "_model_module": "@jupyter-widgets/controls",
            "_model_module_version": "1.5.0",
            "_model_name": "HTMLModel",
            "_view_count": null,
            "_view_module": "@jupyter-widgets/controls",
            "_view_module_version": "1.5.0",
            "_view_name": "HTMLView",
            "description": "",
            "description_tooltip": null,
            "layout": "IPY_MODEL_68493d56cac142f8a1cde81d703388fc",
            "placeholder": "​",
            "style": "IPY_MODEL_768f89eb121a4e14bb7f4cd53f943bc8",
            "value": " 76.0M/76.0M [00:00&lt;00:00, 207MB/s]"
          }
        },
        "98ab99aa4df24fd3a3dde92149d8e217": {
          "model_module": "@jupyter-widgets/base",
          "model_name": "LayoutModel",
          "model_module_version": "1.2.0",
          "state": {
            "_model_module": "@jupyter-widgets/base",
            "_model_module_version": "1.2.0",
            "_model_name": "LayoutModel",
            "_view_count": null,
            "_view_module": "@jupyter-widgets/base",
            "_view_module_version": "1.2.0",
            "_view_name": "LayoutView",
            "align_content": null,
            "align_items": null,
            "align_self": null,
            "border": null,
            "bottom": null,
            "display": null,
            "flex": null,
            "flex_flow": null,
            "grid_area": null,
            "grid_auto_columns": null,
            "grid_auto_flow": null,
            "grid_auto_rows": null,
            "grid_column": null,
            "grid_gap": null,
            "grid_row": null,
            "grid_template_areas": null,
            "grid_template_columns": null,
            "grid_template_rows": null,
            "height": null,
            "justify_content": null,
            "justify_items": null,
            "left": null,
            "margin": null,
            "max_height": null,
            "max_width": null,
            "min_height": null,
            "min_width": null,
            "object_fit": null,
            "object_position": null,
            "order": null,
            "overflow": null,
            "overflow_x": null,
            "overflow_y": null,
            "padding": null,
            "right": null,
            "top": null,
            "visibility": null,
            "width": null
          }
        },
        "7d6ff033e46a42138ace48e8224da466": {
          "model_module": "@jupyter-widgets/base",
          "model_name": "LayoutModel",
          "model_module_version": "1.2.0",
          "state": {
            "_model_module": "@jupyter-widgets/base",
            "_model_module_version": "1.2.0",
            "_model_name": "LayoutModel",
            "_view_count": null,
            "_view_module": "@jupyter-widgets/base",
            "_view_module_version": "1.2.0",
            "_view_name": "LayoutView",
            "align_content": null,
            "align_items": null,
            "align_self": null,
            "border": null,
            "bottom": null,
            "display": null,
            "flex": null,
            "flex_flow": null,
            "grid_area": null,
            "grid_auto_columns": null,
            "grid_auto_flow": null,
            "grid_auto_rows": null,
            "grid_column": null,
            "grid_gap": null,
            "grid_row": null,
            "grid_template_areas": null,
            "grid_template_columns": null,
            "grid_template_rows": null,
            "height": null,
            "justify_content": null,
            "justify_items": null,
            "left": null,
            "margin": null,
            "max_height": null,
            "max_width": null,
            "min_height": null,
            "min_width": null,
            "object_fit": null,
            "object_position": null,
            "order": null,
            "overflow": null,
            "overflow_x": null,
            "overflow_y": null,
            "padding": null,
            "right": null,
            "top": null,
            "visibility": null,
            "width": null
          }
        },
        "17a54584590e459fa804b40939f77e04": {
          "model_module": "@jupyter-widgets/controls",
          "model_name": "DescriptionStyleModel",
          "model_module_version": "1.5.0",
          "state": {
            "_model_module": "@jupyter-widgets/controls",
            "_model_module_version": "1.5.0",
            "_model_name": "DescriptionStyleModel",
            "_view_count": null,
            "_view_module": "@jupyter-widgets/base",
            "_view_module_version": "1.2.0",
            "_view_name": "StyleView",
            "description_width": ""
          }
        },
        "6eca44a7a45a4094b1d8a0f55f30eb77": {
          "model_module": "@jupyter-widgets/base",
          "model_name": "LayoutModel",
          "model_module_version": "1.2.0",
          "state": {
            "_model_module": "@jupyter-widgets/base",
            "_model_module_version": "1.2.0",
            "_model_name": "LayoutModel",
            "_view_count": null,
            "_view_module": "@jupyter-widgets/base",
            "_view_module_version": "1.2.0",
            "_view_name": "LayoutView",
            "align_content": null,
            "align_items": null,
            "align_self": null,
            "border": null,
            "bottom": null,
            "display": null,
            "flex": null,
            "flex_flow": null,
            "grid_area": null,
            "grid_auto_columns": null,
            "grid_auto_flow": null,
            "grid_auto_rows": null,
            "grid_column": null,
            "grid_gap": null,
            "grid_row": null,
            "grid_template_areas": null,
            "grid_template_columns": null,
            "grid_template_rows": null,
            "height": null,
            "justify_content": null,
            "justify_items": null,
            "left": null,
            "margin": null,
            "max_height": null,
            "max_width": null,
            "min_height": null,
            "min_width": null,
            "object_fit": null,
            "object_position": null,
            "order": null,
            "overflow": null,
            "overflow_x": null,
            "overflow_y": null,
            "padding": null,
            "right": null,
            "top": null,
            "visibility": null,
            "width": null
          }
        },
        "9a9421cd03e54a789a3c2c135374f445": {
          "model_module": "@jupyter-widgets/controls",
          "model_name": "ProgressStyleModel",
          "model_module_version": "1.5.0",
          "state": {
            "_model_module": "@jupyter-widgets/controls",
            "_model_module_version": "1.5.0",
            "_model_name": "ProgressStyleModel",
            "_view_count": null,
            "_view_module": "@jupyter-widgets/base",
            "_view_module_version": "1.2.0",
            "_view_name": "StyleView",
            "bar_color": null,
            "description_width": ""
          }
        },
        "68493d56cac142f8a1cde81d703388fc": {
          "model_module": "@jupyter-widgets/base",
          "model_name": "LayoutModel",
          "model_module_version": "1.2.0",
          "state": {
            "_model_module": "@jupyter-widgets/base",
            "_model_module_version": "1.2.0",
            "_model_name": "LayoutModel",
            "_view_count": null,
            "_view_module": "@jupyter-widgets/base",
            "_view_module_version": "1.2.0",
            "_view_name": "LayoutView",
            "align_content": null,
            "align_items": null,
            "align_self": null,
            "border": null,
            "bottom": null,
            "display": null,
            "flex": null,
            "flex_flow": null,
            "grid_area": null,
            "grid_auto_columns": null,
            "grid_auto_flow": null,
            "grid_auto_rows": null,
            "grid_column": null,
            "grid_gap": null,
            "grid_row": null,
            "grid_template_areas": null,
            "grid_template_columns": null,
            "grid_template_rows": null,
            "height": null,
            "justify_content": null,
            "justify_items": null,
            "left": null,
            "margin": null,
            "max_height": null,
            "max_width": null,
            "min_height": null,
            "min_width": null,
            "object_fit": null,
            "object_position": null,
            "order": null,
            "overflow": null,
            "overflow_x": null,
            "overflow_y": null,
            "padding": null,
            "right": null,
            "top": null,
            "visibility": null,
            "width": null
          }
        },
        "768f89eb121a4e14bb7f4cd53f943bc8": {
          "model_module": "@jupyter-widgets/controls",
          "model_name": "DescriptionStyleModel",
          "model_module_version": "1.5.0",
          "state": {
            "_model_module": "@jupyter-widgets/controls",
            "_model_module_version": "1.5.0",
            "_model_name": "DescriptionStyleModel",
            "_view_count": null,
            "_view_module": "@jupyter-widgets/base",
            "_view_module_version": "1.2.0",
            "_view_name": "StyleView",
            "description_width": ""
          }
        },
        "38772e02020a43d5aa7d426884cb44f8": {
          "model_module": "@jupyter-widgets/controls",
          "model_name": "HBoxModel",
          "model_module_version": "1.5.0",
          "state": {
            "_dom_classes": [],
            "_model_module": "@jupyter-widgets/controls",
            "_model_module_version": "1.5.0",
            "_model_name": "HBoxModel",
            "_view_count": null,
            "_view_module": "@jupyter-widgets/controls",
            "_view_module_version": "1.5.0",
            "_view_name": "HBoxView",
            "box_style": "",
            "children": [
              "IPY_MODEL_de437445024f4ca3ac6ede85633a6721",
              "IPY_MODEL_5ccda75f4a274fd49ecd2fee8c02ff11",
              "IPY_MODEL_817eb224368640209c31e2d7f5b64176"
            ],
            "layout": "IPY_MODEL_dce17b4f94224b0798f9b56ad1c7c5a0"
          }
        },
        "de437445024f4ca3ac6ede85633a6721": {
          "model_module": "@jupyter-widgets/controls",
          "model_name": "HTMLModel",
          "model_module_version": "1.5.0",
          "state": {
            "_dom_classes": [],
            "_model_module": "@jupyter-widgets/controls",
            "_model_module_version": "1.5.0",
            "_model_name": "HTMLModel",
            "_view_count": null,
            "_view_module": "@jupyter-widgets/controls",
            "_view_module_version": "1.5.0",
            "_view_name": "HTMLView",
            "description": "",
            "description_tooltip": null,
            "layout": "IPY_MODEL_ef30d77471ba41f78656ca728ccdc093",
            "placeholder": "​",
            "style": "IPY_MODEL_e54dfdbb193543939df7397239e9e788",
            "value": "100%"
          }
        },
        "5ccda75f4a274fd49ecd2fee8c02ff11": {
          "model_module": "@jupyter-widgets/controls",
          "model_name": "FloatProgressModel",
          "model_module_version": "1.5.0",
          "state": {
            "_dom_classes": [],
            "_model_module": "@jupyter-widgets/controls",
            "_model_module_version": "1.5.0",
            "_model_name": "FloatProgressModel",
            "_view_count": null,
            "_view_module": "@jupyter-widgets/controls",
            "_view_module_version": "1.5.0",
            "_view_name": "ProgressView",
            "bar_style": "success",
            "description": "",
            "description_tooltip": null,
            "layout": "IPY_MODEL_da7565a1052b476f8e8360db26702aa3",
            "max": 13466047,
            "min": 0,
            "orientation": "horizontal",
            "style": "IPY_MODEL_58251638c4f741bc9382eef57e6ecfc3",
            "value": 13466047
          }
        },
        "817eb224368640209c31e2d7f5b64176": {
          "model_module": "@jupyter-widgets/controls",
          "model_name": "HTMLModel",
          "model_module_version": "1.5.0",
          "state": {
            "_dom_classes": [],
            "_model_module": "@jupyter-widgets/controls",
            "_model_module_version": "1.5.0",
            "_model_name": "HTMLModel",
            "_view_count": null,
            "_view_module": "@jupyter-widgets/controls",
            "_view_module_version": "1.5.0",
            "_view_name": "HTMLView",
            "description": "",
            "description_tooltip": null,
            "layout": "IPY_MODEL_9e3d040ae691417bb82875b05cabe5e9",
            "placeholder": "​",
            "style": "IPY_MODEL_f1c65cb39b4a44718a05d09da398e417",
            "value": " 12.8M/12.8M [00:00&lt;00:00, 41.9MB/s]"
          }
        },
        "dce17b4f94224b0798f9b56ad1c7c5a0": {
          "model_module": "@jupyter-widgets/base",
          "model_name": "LayoutModel",
          "model_module_version": "1.2.0",
          "state": {
            "_model_module": "@jupyter-widgets/base",
            "_model_module_version": "1.2.0",
            "_model_name": "LayoutModel",
            "_view_count": null,
            "_view_module": "@jupyter-widgets/base",
            "_view_module_version": "1.2.0",
            "_view_name": "LayoutView",
            "align_content": null,
            "align_items": null,
            "align_self": null,
            "border": null,
            "bottom": null,
            "display": null,
            "flex": null,
            "flex_flow": null,
            "grid_area": null,
            "grid_auto_columns": null,
            "grid_auto_flow": null,
            "grid_auto_rows": null,
            "grid_column": null,
            "grid_gap": null,
            "grid_row": null,
            "grid_template_areas": null,
            "grid_template_columns": null,
            "grid_template_rows": null,
            "height": null,
            "justify_content": null,
            "justify_items": null,
            "left": null,
            "margin": null,
            "max_height": null,
            "max_width": null,
            "min_height": null,
            "min_width": null,
            "object_fit": null,
            "object_position": null,
            "order": null,
            "overflow": null,
            "overflow_x": null,
            "overflow_y": null,
            "padding": null,
            "right": null,
            "top": null,
            "visibility": null,
            "width": null
          }
        },
        "ef30d77471ba41f78656ca728ccdc093": {
          "model_module": "@jupyter-widgets/base",
          "model_name": "LayoutModel",
          "model_module_version": "1.2.0",
          "state": {
            "_model_module": "@jupyter-widgets/base",
            "_model_module_version": "1.2.0",
            "_model_name": "LayoutModel",
            "_view_count": null,
            "_view_module": "@jupyter-widgets/base",
            "_view_module_version": "1.2.0",
            "_view_name": "LayoutView",
            "align_content": null,
            "align_items": null,
            "align_self": null,
            "border": null,
            "bottom": null,
            "display": null,
            "flex": null,
            "flex_flow": null,
            "grid_area": null,
            "grid_auto_columns": null,
            "grid_auto_flow": null,
            "grid_auto_rows": null,
            "grid_column": null,
            "grid_gap": null,
            "grid_row": null,
            "grid_template_areas": null,
            "grid_template_columns": null,
            "grid_template_rows": null,
            "height": null,
            "justify_content": null,
            "justify_items": null,
            "left": null,
            "margin": null,
            "max_height": null,
            "max_width": null,
            "min_height": null,
            "min_width": null,
            "object_fit": null,
            "object_position": null,
            "order": null,
            "overflow": null,
            "overflow_x": null,
            "overflow_y": null,
            "padding": null,
            "right": null,
            "top": null,
            "visibility": null,
            "width": null
          }
        },
        "e54dfdbb193543939df7397239e9e788": {
          "model_module": "@jupyter-widgets/controls",
          "model_name": "DescriptionStyleModel",
          "model_module_version": "1.5.0",
          "state": {
            "_model_module": "@jupyter-widgets/controls",
            "_model_module_version": "1.5.0",
            "_model_name": "DescriptionStyleModel",
            "_view_count": null,
            "_view_module": "@jupyter-widgets/base",
            "_view_module_version": "1.2.0",
            "_view_name": "StyleView",
            "description_width": ""
          }
        },
        "da7565a1052b476f8e8360db26702aa3": {
          "model_module": "@jupyter-widgets/base",
          "model_name": "LayoutModel",
          "model_module_version": "1.2.0",
          "state": {
            "_model_module": "@jupyter-widgets/base",
            "_model_module_version": "1.2.0",
            "_model_name": "LayoutModel",
            "_view_count": null,
            "_view_module": "@jupyter-widgets/base",
            "_view_module_version": "1.2.0",
            "_view_name": "LayoutView",
            "align_content": null,
            "align_items": null,
            "align_self": null,
            "border": null,
            "bottom": null,
            "display": null,
            "flex": null,
            "flex_flow": null,
            "grid_area": null,
            "grid_auto_columns": null,
            "grid_auto_flow": null,
            "grid_auto_rows": null,
            "grid_column": null,
            "grid_gap": null,
            "grid_row": null,
            "grid_template_areas": null,
            "grid_template_columns": null,
            "grid_template_rows": null,
            "height": null,
            "justify_content": null,
            "justify_items": null,
            "left": null,
            "margin": null,
            "max_height": null,
            "max_width": null,
            "min_height": null,
            "min_width": null,
            "object_fit": null,
            "object_position": null,
            "order": null,
            "overflow": null,
            "overflow_x": null,
            "overflow_y": null,
            "padding": null,
            "right": null,
            "top": null,
            "visibility": null,
            "width": null
          }
        },
        "58251638c4f741bc9382eef57e6ecfc3": {
          "model_module": "@jupyter-widgets/controls",
          "model_name": "ProgressStyleModel",
          "model_module_version": "1.5.0",
          "state": {
            "_model_module": "@jupyter-widgets/controls",
            "_model_module_version": "1.5.0",
            "_model_name": "ProgressStyleModel",
            "_view_count": null,
            "_view_module": "@jupyter-widgets/base",
            "_view_module_version": "1.2.0",
            "_view_name": "StyleView",
            "bar_color": null,
            "description_width": ""
          }
        },
        "9e3d040ae691417bb82875b05cabe5e9": {
          "model_module": "@jupyter-widgets/base",
          "model_name": "LayoutModel",
          "model_module_version": "1.2.0",
          "state": {
            "_model_module": "@jupyter-widgets/base",
            "_model_module_version": "1.2.0",
            "_model_name": "LayoutModel",
            "_view_count": null,
            "_view_module": "@jupyter-widgets/base",
            "_view_module_version": "1.2.0",
            "_view_name": "LayoutView",
            "align_content": null,
            "align_items": null,
            "align_self": null,
            "border": null,
            "bottom": null,
            "display": null,
            "flex": null,
            "flex_flow": null,
            "grid_area": null,
            "grid_auto_columns": null,
            "grid_auto_flow": null,
            "grid_auto_rows": null,
            "grid_column": null,
            "grid_gap": null,
            "grid_row": null,
            "grid_template_areas": null,
            "grid_template_columns": null,
            "grid_template_rows": null,
            "height": null,
            "justify_content": null,
            "justify_items": null,
            "left": null,
            "margin": null,
            "max_height": null,
            "max_width": null,
            "min_height": null,
            "min_width": null,
            "object_fit": null,
            "object_position": null,
            "order": null,
            "overflow": null,
            "overflow_x": null,
            "overflow_y": null,
            "padding": null,
            "right": null,
            "top": null,
            "visibility": null,
            "width": null
          }
        },
        "f1c65cb39b4a44718a05d09da398e417": {
          "model_module": "@jupyter-widgets/controls",
          "model_name": "DescriptionStyleModel",
          "model_module_version": "1.5.0",
          "state": {
            "_model_module": "@jupyter-widgets/controls",
            "_model_module_version": "1.5.0",
            "_model_name": "DescriptionStyleModel",
            "_view_count": null,
            "_view_module": "@jupyter-widgets/base",
            "_view_module_version": "1.2.0",
            "_view_name": "StyleView",
            "description_width": ""
          }
        }
      }
    }
  },
  "nbformat": 4,
  "nbformat_minor": 0
}
