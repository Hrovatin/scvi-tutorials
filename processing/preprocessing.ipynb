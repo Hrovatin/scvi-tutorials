{
 "cells": [
  {
   "cell_type": "markdown",
   "metadata": {
    "id": "O39GuDrheG96"
   },
   "source": [
    "# Preprocessing datasets for analysis with scvi-tools"
   ]
  },
  {
   "cell_type": "markdown",
   "metadata": {
    "id": "No7Pt-I5M0f9"
   },
   "source": [
    "## Dependencies"
   ]
  },
  {
   "cell_type": "markdown",
   "metadata": {
    "id": "ztZuAKuNxzUy"
   },
   "source": [
    "```{note}\n",
    "Running the following cell will install tutorial dependencies on Google Colab only. It will have no effect on environments other than Google Colab.\n",
    "```"
   ]
  },
  {
   "cell_type": "code",
   "execution_count": 37,
   "metadata": {
    "colab": {
     "base_uri": "https://localhost:8080/"
    },
    "id": "VHiq1wfav9bJ",
    "outputId": "d0f5b53b-2da7-48e6-94c8-5fc90c61f363"
   },
   "outputs": [
    {
     "name": "stdout",
     "output_type": "stream",
     "text": [
      "\u001b[34mINFO    \u001b[0m scvi-colab: Installing scvi-tools.                                                                        \n",
      "\u001b[34mINFO    \u001b[0m scvi-colab: Install successful. Testing import.                                                           \n"
     ]
    }
   ],
   "source": [
    "!pip install --quiet scvi-colab\n",
    "from scvi_colab import install\n",
    "\n",
    "install()"
   ]
  },
  {
   "cell_type": "markdown",
   "metadata": {
    "id": "flNUYc0TyB12"
   },
   "source": [
    "## Imports and preparing files"
   ]
  },
  {
   "cell_type": "code",
   "execution_count": 38,
   "metadata": {
    "id": "Etl4MlBjxPlD"
   },
   "outputs": [],
   "source": [
    "import gzip\n",
    "import os\n",
    "import tempfile\n",
    "from pathlib import Path\n",
    "\n",
    "import anndata as ad\n",
    "import mudata as md\n",
    "import muon\n",
    "import numpy as np\n",
    "import pooch\n",
    "import scanpy as sc\n",
    "import scvi\n",
    "import seaborn as sns\n",
    "import torch"
   ]
  },
  {
   "cell_type": "code",
   "execution_count": 39,
   "metadata": {
    "colab": {
     "base_uri": "https://localhost:8080/"
    },
    "id": "ENvgwWqixm_V",
    "outputId": "df66dbd9-a2a3-4e8e-e80b-44f80fddd19c"
   },
   "outputs": [
    {
     "name": "stderr",
     "output_type": "stream",
     "text": [
      "INFO: Seed set to 0\n",
      "INFO:lightning.fabric.utilities.seed:Seed set to 0\n"
     ]
    },
    {
     "name": "stdout",
     "output_type": "stream",
     "text": [
      "Last run with scvi-tools version: 1.3.0\n"
     ]
    }
   ],
   "source": [
    "scvi.settings.seed = 0\n",
    "print(\"Last run with scvi-tools version:\", scvi.__version__)"
   ]
  },
  {
   "cell_type": "markdown",
   "metadata": {
    "id": "0LrlKo9iyLX9"
   },
   "source": [
    "```{note}\n",
    "You can modify `save_dir` below to change where the data files for this tutorial are saved.\n",
    "\n",
    "You can modify `file_name` below to the name of the dataset you would like to preprocess. This file will end with .h5ad or .h5 depending on which model you plan to use.\n",
    "```"
   ]
  },
  {
   "cell_type": "code",
   "execution_count": 40,
   "metadata": {
    "id": "NRliiPwQyFZg"
   },
   "outputs": [],
   "source": [
    "sc.set_figure_params(figsize=(6, 6), frameon=False)\n",
    "sns.set_theme()\n",
    "torch.set_float32_matmul_precision(\"high\")\n",
    "save_dir = tempfile.TemporaryDirectory()\n",
    "\n",
    "%config InlineBackend.print_figure_kwargs={\"facecolor\": \"w\"}\n",
    "%config InlineBackend.figure_format=\"retina\""
   ]
  },
  {
   "cell_type": "markdown",
   "metadata": {
    "id": "UOiaVe6UdDfP"
   },
   "source": [
    "## scRNA-seq"
   ]
  },
  {
   "cell_type": "markdown",
   "metadata": {
    "id": "VKeYasOZj8Hg"
   },
   "source": [
    "Here we demonstrate preprocessing of an scRNA-seq dataset using cells from the lung atlas integration task from the scIB manuscript."
   ]
  },
  {
   "cell_type": "code",
   "execution_count": 41,
   "metadata": {
    "colab": {
     "base_uri": "https://localhost:8080/",
     "height": 118,
     "referenced_widgets": [
      "9a6a9ebb007b459b8848bcc22b8b446b",
      "cd81a3a156004a17954e5f0691bf004b",
      "975f89fb4dbb4de0bfd2b4d721623219",
      "52b384b9970a4de6a627628bcfde25f1",
      "f8f5aca31cd6453f927f43e8ed533e5f",
      "bec59ecdd4f64d3c8bba79cfe03a18b7",
      "9bd2f6af32024d2a85247107a012a902",
      "2d1bcf591975427baf83d231366bc5ac",
      "73f0f343debc49cea821fb92f2c3a8c1",
      "4a466bc40f91411fadf5a8151483e1b0",
      "0c6ef719b1434a6aa4ce4d010cc20b6f"
     ]
    },
    "id": "9ZAQVVWOPtRw",
    "outputId": "e0a1d161-017a-4d37-b883-0dd2be966cce"
   },
   "outputs": [
    {
     "data": {
      "application/vnd.jupyter.widget-view+json": {
       "model_id": "9a6a9ebb007b459b8848bcc22b8b446b",
       "version_major": 2,
       "version_minor": 0
      },
      "text/plain": [
       "  0%|          | 0.00/972M [00:00<?, ?B/s]"
      ]
     },
     "metadata": {},
     "output_type": "display_data"
    },
    {
     "data": {
      "text/plain": [
       "AnnData object with n_obs × n_vars = 32472 × 15148\n",
       "    obs: 'dataset', 'location', 'nGene', 'nUMI', 'patientGroup', 'percent.mito', 'protocol', 'sanger_type', 'size_factors', 'sampling_method', 'batch', 'cell_type', 'donor'\n",
       "    layers: 'counts'"
      ]
     },
     "execution_count": 41,
     "metadata": {},
     "output_type": "execute_result"
    }
   ],
   "source": [
    "adata_path = os.path.join(save_dir.name, \"lung_atlas.h5ad\")\n",
    "\n",
    "adata = sc.read(\n",
    "    adata_path,\n",
    "    backup_url=\"https://figshare.com/ndownloader/files/24539942\",\n",
    ")\n",
    "adata"
   ]
  },
  {
   "cell_type": "markdown",
   "metadata": {
    "id": "GAKuvzIYRN-R"
   },
   "source": [
    "This dataset already has counts separated in a layer, and `adata.X` contains log transformed scran normalized expression. If this is not the case for your dataset, you can preserve the raw counts with `adata.layers[\"counts\"] = adata.X.copy()` and normalize and log transform them with `sc.pp.normalize_total(adata, target_sum=1e4)` and `sc.pp.log1p(adata)`"
   ]
  },
  {
   "cell_type": "markdown",
   "metadata": {
    "id": "5n0hWw5HSskb"
   },
   "source": [
    "Below we perform gene selection while keeping the full dimension normalized data in `adata.raw`. We obtain variable genes from each dataset and take their intersections."
   ]
  },
  {
   "cell_type": "code",
   "execution_count": 42,
   "metadata": {
    "colab": {
     "base_uri": "https://localhost:8080/"
    },
    "id": "dwwVLfXlk3U3",
    "outputId": "56931556-4e20-4a2f-944f-3700ee5962cb"
   },
   "outputs": [
    {
     "name": "stderr",
     "output_type": "stream",
     "text": [
      "/usr/local/lib/python3.11/dist-packages/scanpy/preprocessing/_highly_variable_genes.py:74: UserWarning: `flavor='seurat_v3'` expects raw count data, but non-integers were found.\n",
      "  warnings.warn(\n"
     ]
    }
   ],
   "source": [
    "adata.raw = adata  # keep full dimension safe\n",
    "sc.pp.highly_variable_genes(\n",
    "    adata,\n",
    "    n_top_genes=2000,\n",
    "    flavor=\"seurat_v3\",\n",
    "    layer=\"counts\",\n",
    "    subset=True,\n",
    "    batch_key=\"batch\",  # Change depending on the batch key for your dataset, if there is one\n",
    ")"
   ]
  },
  {
   "cell_type": "markdown",
   "metadata": {
    "id": "68LPEzKrTFoE"
   },
   "source": [
    "```{important}\n",
    "We see a warning about the data not containing counts. This is due to some of the samples in this dataset containing SoupX-corrected counts. scvi-tools models will run for non-negative real-valued data, but we strongly suggest checking that these possibly non-count values are intended to represent pseudocounts, and not some other normalized data, in which the variance/covariance structure of the data has changed dramatically.\n",
    "```"
   ]
  },
  {
   "cell_type": "markdown",
   "metadata": {
    "id": "LZLxxKsPOXQs"
   },
   "source": [
    "## scATAC-seq"
   ]
  },
  {
   "cell_type": "markdown",
   "metadata": {
    "id": "GS0flNfTtuPb"
   },
   "source": [
    "To demonstrate preprocessing of scATAC-seq data, we use a 5k PBMC sample dataset from 10X."
   ]
  },
  {
   "cell_type": "code",
   "execution_count": 43,
   "metadata": {
    "id": "XAfa7FzqFkjJ"
   },
   "outputs": [],
   "source": [
    "def download_data(save_path: str, fname: str = \"atac_pbmc_5k\") -> str:\n",
    "    \"\"\"Download the data files.\"\"\"\n",
    "    data_paths = pooch.retrieve(\n",
    "        url=\"https://cf.10xgenomics.com/samples/cell-atac/1.2.0/atac_pbmc_5k_nextgem/atac_pbmc_5k_nextgem_filtered_peak_bc_matrix.tar.gz\",\n",
    "        known_hash=\"78e536a1508108fa5bd3b411a7484809c011f3403800369b20db05bdbfeb2284\",\n",
    "        fname=fname,\n",
    "        path=save_path,\n",
    "        processor=pooch.Untar(),\n",
    "        progressbar=True,\n",
    "    )\n",
    "    return str(Path(data_paths[0]).parent)"
   ]
  },
  {
   "cell_type": "code",
   "execution_count": 44,
   "metadata": {
    "colab": {
     "base_uri": "https://localhost:8080/"
    },
    "id": "l93TdySMGafj",
    "outputId": "771b64b4-8fc8-47ed-8345-106a8dbc6a30"
   },
   "outputs": [
    {
     "name": "stderr",
     "output_type": "stream",
     "text": [
      "Downloading data from 'https://cf.10xgenomics.com/samples/cell-atac/1.2.0/atac_pbmc_5k_nextgem/atac_pbmc_5k_nextgem_filtered_peak_bc_matrix.tar.gz' to file '/tmp/tmp8uiw0wib/atac_pbmc_5k'.\n",
      "100%|████████████████████████████████████████| 114M/114M [00:00<00:00, 122GB/s]\n",
      "Untarring contents of '/tmp/tmp8uiw0wib/atac_pbmc_5k' to '/tmp/tmp8uiw0wib/atac_pbmc_5k.untar'\n"
     ]
    }
   ],
   "source": [
    "data_path = download_data(save_dir.name)"
   ]
  },
  {
   "cell_type": "code",
   "execution_count": 45,
   "metadata": {
    "colab": {
     "base_uri": "https://localhost:8080/"
    },
    "id": "OBqNhA5hIEfd",
    "outputId": "05077c04-a827-4344-94be-e7eba3c1a0f8"
   },
   "outputs": [
    {
     "data": {
      "text/plain": [
       "AnnData object with n_obs × n_vars = 4585 × 115554\n",
       "    obs: 'batch_id'\n",
       "    var: 'chr', 'start', 'end'"
      ]
     },
     "execution_count": 45,
     "metadata": {},
     "output_type": "execute_result"
    }
   ],
   "source": [
    "adata = scvi.data.read_10x_atac(data_path)\n",
    "adata"
   ]
  },
  {
   "cell_type": "markdown",
   "metadata": {
    "id": "2HlkpBAyIKmj"
   },
   "source": [
    "We use Scanpy here to filter out peaks that are rarely detected, so that the model trains faster:"
   ]
  },
  {
   "cell_type": "code",
   "execution_count": 46,
   "metadata": {
    "colab": {
     "base_uri": "https://localhost:8080/"
    },
    "id": "Gzx81hjmH9jz",
    "outputId": "bb3c072c-ae19-4d92-f6e2-1711d608cdb8"
   },
   "outputs": [
    {
     "name": "stdout",
     "output_type": "stream",
     "text": [
      "# regions before filtering: 115554\n",
      "# regions after filtering: 33142\n"
     ]
    }
   ],
   "source": [
    "print(\"# regions before filtering:\", adata.shape[-1])\n",
    "\n",
    "# compute the threshold: 5% of the cells\n",
    "min_cells = int(adata.shape[0] * 0.05)\n",
    "# in-place filtering of regions\n",
    "sc.pp.filter_genes(adata, min_cells=min_cells)\n",
    "\n",
    "print(\"# regions after filtering:\", adata.shape[-1])"
   ]
  },
  {
   "cell_type": "markdown",
   "metadata": {
    "id": "OPybqBG3OH3g"
   },
   "source": [
    "## CITE-seq"
   ]
  },
  {
   "cell_type": "markdown",
   "metadata": {
    "id": "_ppCQJcUYuBT"
   },
   "source": [
    "To demonstrate preprocessing of CITE-seq data, we use a dataset of 10k PBMCs from 10X:\n",
    "https://www.10xgenomics.com/datasets/10-k-pbm-cs-from-a-healthy-donor-gene-expression-and-cell-surface-protein-3-standard-3-0-0\n",
    "\n",
    "as well as 5k one:\n",
    "https://www.10xgenomics.com/datasets/5-k-peripheral-blood-mononuclear-cells-pbm-cs-from-a-healthy-donor-with-cell-surface-proteins-v-3-chemistry-3-1-standard-3-1-0"
   ]
  },
  {
   "cell_type": "code",
   "execution_count": null,
   "metadata": {
    "id": "zgVEWlxcWhjN"
   },
   "outputs": [],
   "source": [
    "def download_data(save_path: str, fname: str = \"CITE-seq_pbmc_10k\") -> str:\n",
    "    \"\"\"Download the data files.\"\"\"\n",
    "    if fname == \"CITE-seq_pbmc_10k\":\n",
    "        hash = \"md5:26d53ffe08b5f7d3b28df61b592d51fb\"\n",
    "        url = \"https://cf.10xgenomics.com/samples/cell-exp/3.0.0/pbmc_10k_protein_v3/pbmc_10k_protein_v3_filtered_feature_bc_matrix.tar.gz\"\n",
    "    else:\n",
    "        hash = \"md5:9be3d672b0445b944ca06a507c3d780b\"\n",
    "        url = \"https://cf.10xgenomics.com/samples/cell-exp/3.1.0/5k_pbmc_protein_v3/5k_pbmc_protein_v3_filtered_feature_bc_matrix.tar.gz\"\n",
    "\n",
    "    data_paths = pooch.retrieve(\n",
    "        url=url,\n",
    "        known_hash=hash,\n",
    "        fname=fname,\n",
    "        path=save_path,\n",
    "        processor=pooch.Untar(),\n",
    "        progressbar=True,\n",
    "    )\n",
    "    return str(Path(data_paths[0]).parent)"
   ]
  },
  {
   "cell_type": "code",
   "execution_count": 48,
   "metadata": {
    "colab": {
     "base_uri": "https://localhost:8080/"
    },
    "id": "Z9ACDUxgW1hD",
    "outputId": "c64077c6-b8f3-47fb-865f-6f9a7d277e3d"
   },
   "outputs": [
    {
     "name": "stderr",
     "output_type": "stream",
     "text": [
      "Downloading data from 'https://cf.10xgenomics.com/samples/cell-exp/3.0.0/pbmc_10k_protein_v3/pbmc_10k_protein_v3_filtered_feature_bc_matrix.tar.gz' to file '/tmp/tmp8uiw0wib/CITE-seq_pbmc_10k'.\n",
      "100%|█████████████████████████████████████| 48.7M/48.7M [00:00<00:00, 42.8GB/s]\n",
      "Untarring contents of '/tmp/tmp8uiw0wib/CITE-seq_pbmc_10k' to '/tmp/tmp8uiw0wib/CITE-seq_pbmc_10k.untar'\n",
      "Downloading data from 'https://cf.10xgenomics.com/samples/cell-exp/3.1.0/5k_pbmc_protein_v3/5k_pbmc_protein_v3_filtered_feature_bc_matrix.tar.gz' to file '/tmp/tmp8uiw0wib/CITE-seq_pbmc_5k'.\n",
      "100%|█████████████████████████████████████| 36.2M/36.2M [00:00<00:00, 43.8GB/s]\n",
      "Untarring contents of '/tmp/tmp8uiw0wib/CITE-seq_pbmc_5k' to '/tmp/tmp8uiw0wib/CITE-seq_pbmc_5k.untar'\n"
     ]
    }
   ],
   "source": [
    "data_path1 = download_data(save_dir.name)\n",
    "data_path2 = download_data(save_dir.name, \"CITE-seq_pbmc_5k\")"
   ]
  },
  {
   "cell_type": "code",
   "execution_count": 49,
   "metadata": {
    "colab": {
     "base_uri": "https://localhost:8080/"
    },
    "id": "oknql592yPJg",
    "outputId": "e6becee3-7bc9-40c2-b523-7d84a23378d7"
   },
   "outputs": [
    {
     "name": "stderr",
     "output_type": "stream",
     "text": [
      "/usr/local/lib/python3.11/dist-packages/mudata/_core/mudata.py:1531: FutureWarning: From 0.4 .update() will not pull obs/var columns from individual modalities by default anymore. Set mudata.set_options(pull_on_update=False) to adopt the new behaviour, which will become the default. Use new pull_obs/pull_var and push_obs/push_var methods for more flexibility.\n",
      "  self._update_attr(\"var\", axis=0, join_common=join_common)\n",
      "/usr/local/lib/python3.11/dist-packages/mudata/_core/mudata.py:1429: FutureWarning: From 0.4 .update() will not pull obs/var columns from individual modalities by default anymore. Set mudata.set_options(pull_on_update=False) to adopt the new behaviour, which will become the default. Use new pull_obs/pull_var and push_obs/push_var methods for more flexibility.\n",
      "  self._update_attr(\"obs\", axis=1, join_common=join_common)\n",
      "/usr/local/lib/python3.11/dist-packages/mudata/_core/mudata.py:1531: FutureWarning: From 0.4 .update() will not pull obs/var columns from individual modalities by default anymore. Set mudata.set_options(pull_on_update=False) to adopt the new behaviour, which will become the default. Use new pull_obs/pull_var and push_obs/push_var methods for more flexibility.\n",
      "  self._update_attr(\"var\", axis=0, join_common=join_common)\n",
      "/usr/local/lib/python3.11/dist-packages/mudata/_core/mudata.py:1429: FutureWarning: From 0.4 .update() will not pull obs/var columns from individual modalities by default anymore. Set mudata.set_options(pull_on_update=False) to adopt the new behaviour, which will become the default. Use new pull_obs/pull_var and push_obs/push_var methods for more flexibility.\n",
      "  self._update_attr(\"obs\", axis=1, join_common=join_common)\n"
     ]
    }
   ],
   "source": [
    "mdata1 = muon.read_10x_mtx(data_path1)\n",
    "mdata2 = muon.read_10x_mtx(data_path2)"
   ]
  },
  {
   "cell_type": "code",
   "execution_count": 50,
   "metadata": {
    "colab": {
     "base_uri": "https://localhost:8080/",
     "height": 139
    },
    "id": "F-5BAQ6GX2nL",
    "outputId": "bef1ea95-e26c-42cf-d9d5-cc39bef48c87"
   },
   "outputs": [
    {
     "data": {
      "text/html": [
       "<pre>MuData object with n_obs × n_vars = 7865 × 33555\n",
       "  var:\t&#x27;gene_ids&#x27;, &#x27;feature_types&#x27;\n",
       "  2 modalities\n",
       "    rna:\t7865 x 33538\n",
       "      var:\t&#x27;gene_ids&#x27;, &#x27;feature_types&#x27;\n",
       "    prot:\t7865 x 17\n",
       "      var:\t&#x27;gene_ids&#x27;, &#x27;feature_types&#x27;</pre>"
      ],
      "text/plain": [
       "MuData object with n_obs × n_vars = 7865 × 33555\n",
       "  var:\t'gene_ids', 'feature_types'\n",
       "  2 modalities\n",
       "    rna:\t7865 x 33538\n",
       "      var:\t'gene_ids', 'feature_types'\n",
       "    prot:\t7865 x 17\n",
       "      var:\t'gene_ids', 'feature_types'"
      ]
     },
     "execution_count": 50,
     "metadata": {},
     "output_type": "execute_result"
    }
   ],
   "source": [
    "mdata1"
   ]
  },
  {
   "cell_type": "code",
   "execution_count": 51,
   "metadata": {
    "colab": {
     "base_uri": "https://localhost:8080/",
     "height": 139
    },
    "id": "auHdoX_0Njr2",
    "outputId": "3c7872a1-59aa-4d82-894c-02f848ed9a36"
   },
   "outputs": [
    {
     "data": {
      "text/html": [
       "<pre>MuData object with n_obs × n_vars = 5247 × 33570\n",
       "  var:\t&#x27;gene_ids&#x27;, &#x27;feature_types&#x27;\n",
       "  2 modalities\n",
       "    rna:\t5247 x 33538\n",
       "      var:\t&#x27;gene_ids&#x27;, &#x27;feature_types&#x27;\n",
       "    prot:\t5247 x 32\n",
       "      var:\t&#x27;gene_ids&#x27;, &#x27;feature_types&#x27;</pre>"
      ],
      "text/plain": [
       "MuData object with n_obs × n_vars = 5247 × 33570\n",
       "  var:\t'gene_ids', 'feature_types'\n",
       "  2 modalities\n",
       "    rna:\t5247 x 33538\n",
       "      var:\t'gene_ids', 'feature_types'\n",
       "    prot:\t5247 x 32\n",
       "      var:\t'gene_ids', 'feature_types'"
      ]
     },
     "execution_count": 51,
     "metadata": {},
     "output_type": "execute_result"
    }
   ],
   "source": [
    "mdata2"
   ]
  },
  {
   "cell_type": "markdown",
   "metadata": {
    "id": "bignZn2Rb2hT"
   },
   "source": [
    "We make var names unique, store raw counts in layers, and normalize and log transform counts. Then we perform gene selection."
   ]
  },
  {
   "cell_type": "markdown",
   "metadata": {
    "id": "mHsWuRN_dfYw"
   },
   "source": [
    "https://github.com/YosefLab/totalVI_reproducibility/blob/master/data/data_filtering_scripts/pbmc_10k/pbmc_10k.py"
   ]
  },
  {
   "cell_type": "code",
   "execution_count": null,
   "metadata": {
    "id": "WJYfUV5UdUaV"
   },
   "outputs": [],
   "source": [
    "# TODO: Should I do more filtering as in the above link? Or is it too specific for this?\n",
    "# min genes, mitochondrial reads, n_genes, n_counts, protein library size,\n",
    "# genes that encode proteins, etc.\n",
    "\n",
    "# The processing done in the below link seems much more minimal so not sure which is better here"
   ]
  },
  {
   "cell_type": "markdown",
   "metadata": {
    "id": "GpvIzYJBeno-"
   },
   "source": [
    "https://docs.scvi-tools.org/en/stable/tutorials/notebooks/multimodal/totalVI.html#using-own-data"
   ]
  },
  {
   "cell_type": "code",
   "execution_count": 53,
   "metadata": {
    "id": "HZjNb79sNr7G"
   },
   "outputs": [],
   "source": [
    "def filter_pbmc(mdata):\n",
    "    mdata.mod[\"rna\"].var_names_make_unique()\n",
    "    mdata.mod[\"rna\"].layers[\"counts\"] = mdata.mod[\"rna\"].X.copy()\n",
    "    sc.pp.normalize_total(mdata.mod[\"rna\"])\n",
    "    sc.pp.log1p(mdata.mod[\"rna\"])\n",
    "\n",
    "    sc.pp.highly_variable_genes(\n",
    "        mdata.mod[\"rna\"],\n",
    "        n_top_genes=4000,\n",
    "        flavor=\"seurat_v3\",\n",
    "        layer=\"counts\",\n",
    "    )\n",
    "    # Place subsetted counts in a new modality\n",
    "    mdata.mod[\"rna_subset\"] = mdata.mod[\"rna\"][:, mdata.mod[\"rna\"].var[\"highly_variable\"]].copy()\n",
    "    mdata = md.MuData(mdata.mod)\n",
    "\n",
    "    return mdata"
   ]
  },
  {
   "cell_type": "code",
   "execution_count": 54,
   "metadata": {
    "colab": {
     "base_uri": "https://localhost:8080/"
    },
    "id": "CuGqbeOCNupL",
    "outputId": "61bc2c90-cc39-45ab-f7c7-94f40218473a"
   },
   "outputs": [
    {
     "name": "stderr",
     "output_type": "stream",
     "text": [
      "/usr/local/lib/python3.11/dist-packages/mudata/_core/mudata.py:1531: FutureWarning: From 0.4 .update() will not pull obs/var columns from individual modalities by default anymore. Set mudata.set_options(pull_on_update=False) to adopt the new behaviour, which will become the default. Use new pull_obs/pull_var and push_obs/push_var methods for more flexibility.\n",
      "  self._update_attr(\"var\", axis=0, join_common=join_common)\n",
      "/usr/local/lib/python3.11/dist-packages/mudata/_core/mudata.py:931: UserWarning: Cannot join columns with the same name because var_names are intersecting.\n",
      "  warnings.warn(\n",
      "/usr/local/lib/python3.11/dist-packages/mudata/_core/mudata.py:1429: FutureWarning: From 0.4 .update() will not pull obs/var columns from individual modalities by default anymore. Set mudata.set_options(pull_on_update=False) to adopt the new behaviour, which will become the default. Use new pull_obs/pull_var and push_obs/push_var methods for more flexibility.\n",
      "  self._update_attr(\"obs\", axis=1, join_common=join_common)\n",
      "/usr/local/lib/python3.11/dist-packages/mudata/_core/mudata.py:1531: FutureWarning: From 0.4 .update() will not pull obs/var columns from individual modalities by default anymore. Set mudata.set_options(pull_on_update=False) to adopt the new behaviour, which will become the default. Use new pull_obs/pull_var and push_obs/push_var methods for more flexibility.\n",
      "  self._update_attr(\"var\", axis=0, join_common=join_common)\n",
      "/usr/local/lib/python3.11/dist-packages/mudata/_core/mudata.py:931: UserWarning: Cannot join columns with the same name because var_names are intersecting.\n",
      "  warnings.warn(\n",
      "/usr/local/lib/python3.11/dist-packages/mudata/_core/mudata.py:1429: FutureWarning: From 0.4 .update() will not pull obs/var columns from individual modalities by default anymore. Set mudata.set_options(pull_on_update=False) to adopt the new behaviour, which will become the default. Use new pull_obs/pull_var and push_obs/push_var methods for more flexibility.\n",
      "  self._update_attr(\"obs\", axis=1, join_common=join_common)\n"
     ]
    }
   ],
   "source": [
    "mdata1 = filter_pbmc(mdata1)\n",
    "mdata2 = filter_pbmc(mdata2)"
   ]
  },
  {
   "cell_type": "code",
   "execution_count": 55,
   "metadata": {
    "id": "f2Q_fwJwOU1m"
   },
   "outputs": [],
   "source": [
    "# TODO: Are the above warnings an issue?"
   ]
  },
  {
   "cell_type": "code",
   "execution_count": 56,
   "metadata": {
    "colab": {
     "base_uri": "https://localhost:8080/"
    },
    "id": "hr7ud0CnM8LX",
    "outputId": "2ad548ef-b983-4bf2-aa63-becbce075d6b"
   },
   "outputs": [
    {
     "name": "stderr",
     "output_type": "stream",
     "text": [
      "/usr/local/lib/python3.11/dist-packages/anndata/_core/anndata.py:1756: UserWarning: Observation names are not unique. To make them unique, call `.obs_names_make_unique`.\n",
      "  utils.warn_names_duplicates(\"obs\")\n",
      "/usr/local/lib/python3.11/dist-packages/anndata/_core/anndata.py:1756: UserWarning: Observation names are not unique. To make them unique, call `.obs_names_make_unique`.\n",
      "  utils.warn_names_duplicates(\"obs\")\n",
      "/usr/local/lib/python3.11/dist-packages/mudata/_core/mudata.py:1531: FutureWarning: From 0.4 .update() will not pull obs/var columns from individual modalities by default anymore. Set mudata.set_options(pull_on_update=False) to adopt the new behaviour, which will become the default. Use new pull_obs/pull_var and push_obs/push_var methods for more flexibility.\n",
      "  self._update_attr(\"var\", axis=0, join_common=join_common)\n",
      "/usr/local/lib/python3.11/dist-packages/mudata/_core/mudata.py:1429: FutureWarning: From 0.4 .update() will not pull obs/var columns from individual modalities by default anymore. Set mudata.set_options(pull_on_update=False) to adopt the new behaviour, which will become the default. Use new pull_obs/pull_var and push_obs/push_var methods for more flexibility.\n",
      "  self._update_attr(\"obs\", axis=1, join_common=join_common)\n"
     ]
    }
   ],
   "source": [
    "# TODO: not sure if below code is best way to combine the datasets\n",
    "\n",
    "# First filter to shared proteins and genes by doing inner join\n",
    "rna_c = ad.concat([mdata1.mod[\"rna_subset\"], mdata2.mod[\"rna_subset\"]])\n",
    "rna_c.obs_names_make_unique()\n",
    "\n",
    "prot_c = ad.concat([mdata1.mod[\"prot\"], mdata2.mod[\"prot\"]])\n",
    "prot_c.obs_names_make_unique()\n",
    "\n",
    "# Todo: do I need to still include the original \"rna\" modality for any reason?\n",
    "mdata = md.MuData({\"rna_subset\": rna_c, \"prot\": prot_c})"
   ]
  },
  {
   "cell_type": "code",
   "execution_count": 57,
   "metadata": {
    "id": "LUBSRnlL5zLO"
   },
   "outputs": [],
   "source": [
    "# we need to work with dense and not sparse matrices:\n",
    "mdata[\"prot\"].X = mdata[\"prot\"].X.toarray()\n",
    "mdata[\"rna_subset\"].X = mdata[\"rna_subset\"].X.toarray()\n",
    "mdata.mod[\"rna_subset\"].layers[\"counts\"] = mdata.mod[\"rna_subset\"].layers[\"counts\"].toarray()"
   ]
  },
  {
   "cell_type": "code",
   "execution_count": 58,
   "metadata": {
    "colab": {
     "base_uri": "https://localhost:8080/"
    },
    "id": "ajAAidBL_BVP",
    "outputId": "82fd4559-d981-4c0b-a3f6-b681f1388978"
   },
   "outputs": [
    {
     "name": "stderr",
     "output_type": "stream",
     "text": [
      "/usr/local/lib/python3.11/dist-packages/mudata/_core/mudata.py:1531: FutureWarning: From 0.4 .update() will not pull obs/var columns from individual modalities by default anymore. Set mudata.set_options(pull_on_update=False) to adopt the new behaviour, which will become the default. Use new pull_obs/pull_var and push_obs/push_var methods for more flexibility.\n",
      "  self._update_attr(\"var\", axis=0, join_common=join_common)\n",
      "/usr/local/lib/python3.11/dist-packages/mudata/_core/mudata.py:1429: FutureWarning: From 0.4 .update() will not pull obs/var columns from individual modalities by default anymore. Set mudata.set_options(pull_on_update=False) to adopt the new behaviour, which will become the default. Use new pull_obs/pull_var and push_obs/push_var methods for more flexibility.\n",
      "  self._update_attr(\"obs\", axis=1, join_common=join_common)\n"
     ]
    }
   ],
   "source": [
    "mdata.update()"
   ]
  },
  {
   "cell_type": "code",
   "execution_count": 59,
   "metadata": {
    "colab": {
     "base_uri": "https://localhost:8080/",
     "height": 104
    },
    "id": "IH7Cd4bW_Dxu",
    "outputId": "1c747cf2-22c8-4cb7-f3eb-f5efc0a05bdd"
   },
   "outputs": [
    {
     "data": {
      "text/html": [
       "<pre>MuData object with n_obs × n_vars = 13112 × 2193\n",
       "  2 modalities\n",
       "    rna_subset:\t13112 x 2176\n",
       "      layers:\t&#x27;counts&#x27;\n",
       "    prot:\t13112 x 17</pre>"
      ],
      "text/plain": [
       "MuData object with n_obs × n_vars = 13112 × 2193\n",
       "  2 modalities\n",
       "    rna_subset:\t13112 x 2176\n",
       "      layers:\t'counts'\n",
       "    prot:\t13112 x 17"
      ]
     },
     "execution_count": 59,
     "metadata": {},
     "output_type": "execute_result"
    }
   ],
   "source": [
    "mdata"
   ]
  },
  {
   "cell_type": "markdown",
   "metadata": {
    "id": "xLLFdtiP1DVf"
   },
   "source": [
    "## Multiome"
   ]
  },
  {
   "cell_type": "markdown",
   "metadata": {
    "id": "HmNRL8Xa1vXs"
   },
   "source": [
    "```{important}\n",
    "MultiVI requires the datasets to use shared features. scATAC-seq datasets need to be processed to use a shared set of peaks.\n",
    "```"
   ]
  },
  {
   "cell_type": "markdown",
   "metadata": {
    "id": "Ji-OKeFC2Z8S"
   },
   "source": [
    "We use multiome 10k PBMCs from 10X to demonstrate preprocessing for multiome datasets.  "
   ]
  },
  {
   "cell_type": "code",
   "execution_count": 60,
   "metadata": {
    "id": "cneBdKNd1RWv"
   },
   "outputs": [],
   "source": [
    "def download_data(save_path: str, fname: str = \"pbmc_10k\"):\n",
    "    data_paths = pooch.retrieve(\n",
    "        url=\"https://cf.10xgenomics.com/samples/cell-arc/2.0.0/pbmc_unsorted_10k/pbmc_unsorted_10k_filtered_feature_bc_matrix.tar.gz\",\n",
    "        known_hash=\"872b0dba467d972aa498812a857677ca7cf69050d4f9762b2cd4753b2be694a1\",\n",
    "        fname=fname,\n",
    "        path=save_path,\n",
    "        processor=pooch.Untar(),\n",
    "        progressbar=True,\n",
    "    )\n",
    "    data_paths.sort()\n",
    "\n",
    "    for path in data_paths:\n",
    "        with gzip.open(path, \"rb\") as f_in:\n",
    "            with open(path.replace(\".gz\", \"\"), \"wb\") as f_out:\n",
    "                f_out.write(f_in.read())\n",
    "\n",
    "    return str(Path(data_paths[0]).parent)"
   ]
  },
  {
   "cell_type": "code",
   "execution_count": 61,
   "metadata": {
    "colab": {
     "base_uri": "https://localhost:8080/"
    },
    "id": "kVGT23H219Sc",
    "outputId": "11a34252-95a4-4e9f-e88d-f3295d213360"
   },
   "outputs": [
    {
     "name": "stderr",
     "output_type": "stream",
     "text": [
      "Downloading data from 'https://cf.10xgenomics.com/samples/cell-arc/2.0.0/pbmc_unsorted_10k/pbmc_unsorted_10k_filtered_feature_bc_matrix.tar.gz' to file '/tmp/tmp8uiw0wib/pbmc_10k'.\n",
      "100%|████████████████████████████████████████| 375M/375M [00:00<00:00, 440GB/s]\n",
      "Untarring contents of '/tmp/tmp8uiw0wib/pbmc_10k' to '/tmp/tmp8uiw0wib/pbmc_10k.untar'\n"
     ]
    }
   ],
   "source": [
    "data_path = download_data(save_dir.name)"
   ]
  },
  {
   "cell_type": "markdown",
   "metadata": {
    "id": "kZH3L0HRWVN6"
   },
   "source": [
    "We read the dataset as a mudata, where we have two modalities: 'rna' and 'atac'. For multiome datasets, mudata is preferred over anndata."
   ]
  },
  {
   "cell_type": "code",
   "execution_count": 62,
   "metadata": {
    "colab": {
     "base_uri": "https://localhost:8080/"
    },
    "id": "cZ-hMuvePluV",
    "outputId": "b69993cc-bc7e-483d-e494-9cd262a5d72f"
   },
   "outputs": [
    {
     "name": "stderr",
     "output_type": "stream",
     "text": [
      "/usr/local/lib/python3.11/dist-packages/mudata/_core/mudata.py:1531: FutureWarning: From 0.4 .update() will not pull obs/var columns from individual modalities by default anymore. Set mudata.set_options(pull_on_update=False) to adopt the new behaviour, which will become the default. Use new pull_obs/pull_var and push_obs/push_var methods for more flexibility.\n",
      "  self._update_attr(\"var\", axis=0, join_common=join_common)\n",
      "/usr/local/lib/python3.11/dist-packages/mudata/_core/mudata.py:1429: FutureWarning: From 0.4 .update() will not pull obs/var columns from individual modalities by default anymore. Set mudata.set_options(pull_on_update=False) to adopt the new behaviour, which will become the default. Use new pull_obs/pull_var and push_obs/push_var methods for more flexibility.\n",
      "  self._update_attr(\"obs\", axis=1, join_common=join_common)\n"
     ]
    }
   ],
   "source": [
    "mdata = muon.read_10x_mtx(data_path)"
   ]
  },
  {
   "cell_type": "code",
   "execution_count": 63,
   "metadata": {
    "id": "roxLyRRjP8uX"
   },
   "outputs": [],
   "source": [
    "mdata.mod[\"rna\"].var_names_make_unique()\n",
    "mdata.mod[\"atac\"].var_names_make_unique()"
   ]
  },
  {
   "cell_type": "code",
   "execution_count": 64,
   "metadata": {
    "colab": {
     "base_uri": "https://localhost:8080/",
     "height": 139
    },
    "id": "0WDTyptTUZbX",
    "outputId": "ad08dc0b-c9aa-4fed-977d-aa24af95c401"
   },
   "outputs": [
    {
     "data": {
      "text/html": [
       "<pre>MuData object with n_obs × n_vars = 12012 × 148458\n",
       "  var:\t&#x27;gene_ids&#x27;, &#x27;feature_types&#x27;\n",
       "  2 modalities\n",
       "    rna:\t12012 x 36601\n",
       "      var:\t&#x27;gene_ids&#x27;, &#x27;feature_types&#x27;\n",
       "    atac:\t12012 x 111857\n",
       "      var:\t&#x27;gene_ids&#x27;, &#x27;feature_types&#x27;</pre>"
      ],
      "text/plain": [
       "MuData object with n_obs × n_vars = 12012 × 148458\n",
       "  var:\t'gene_ids', 'feature_types'\n",
       "  2 modalities\n",
       "    rna:\t12012 x 36601\n",
       "      var:\t'gene_ids', 'feature_types'\n",
       "    atac:\t12012 x 111857\n",
       "      var:\t'gene_ids', 'feature_types'"
      ]
     },
     "execution_count": 64,
     "metadata": {},
     "output_type": "execute_result"
    }
   ],
   "source": [
    "mdata"
   ]
  },
  {
   "cell_type": "code",
   "execution_count": 65,
   "metadata": {
    "colab": {
     "base_uri": "https://localhost:8080/"
    },
    "id": "57PSRYh1R9nW",
    "outputId": "4426869a-7738-44be-9345-72dd1de63718"
   },
   "outputs": [
    {
     "name": "stdout",
     "output_type": "stream",
     "text": [
      "(12012, 36601)\n",
      "(12012, 13634)\n"
     ]
    }
   ],
   "source": [
    "print(mdata.mod[\"rna\"].shape)\n",
    "sc.pp.filter_genes(mdata.mod[\"rna\"], min_cells=int(mdata.mod[\"rna\"].shape[0] * 0.01))\n",
    "print(mdata.mod[\"rna\"].shape)"
   ]
  },
  {
   "cell_type": "code",
   "execution_count": 66,
   "metadata": {
    "colab": {
     "base_uri": "https://localhost:8080/"
    },
    "id": "x2MsyX2TVClV",
    "outputId": "a5bc6878-d0f5-4b99-ed60-b9df32a486a4"
   },
   "outputs": [
    {
     "name": "stdout",
     "output_type": "stream",
     "text": [
      "(12012, 111857)\n",
      "(12012, 83899)\n"
     ]
    }
   ],
   "source": [
    "print(mdata.mod[\"atac\"].shape)\n",
    "sc.pp.filter_genes(mdata.mod[\"atac\"], min_cells=int(mdata.mod[\"atac\"].shape[0] * 0.01))\n",
    "print(mdata.mod[\"atac\"].shape)"
   ]
  },
  {
   "cell_type": "markdown",
   "metadata": {
    "id": "YyWOF07jOpA9"
   },
   "source": [
    "## Spatial transciptomics"
   ]
  },
  {
   "cell_type": "markdown",
   "metadata": {
    "id": "Bu8sI5TyIemh"
   },
   "source": [
    "To demonstrate preprocessing for spatial transcriptomics, we use data from a comparative study of murine lymph nodes, comparing wild-type with a stimulation after injection of a mycobacteria. We have at disposal a 10x Visium dataset as well as a matching scRNA-seq dataset from the same tissue."
   ]
  },
  {
   "cell_type": "code",
   "execution_count": 67,
   "metadata": {
    "id": "2TIjlqfeOsjb"
   },
   "outputs": [],
   "source": [
    "url1 = \"https://github.com/romain-lopez/DestVI-reproducibility/blob/master/lymph_node/deconvolution/ST-LN-compressed.h5ad?raw=true\"\n",
    "url2 = \"https://github.com/romain-lopez/DestVI-reproducibility/blob/master/lymph_node/deconvolution/scRNA-LN-compressed.h5ad?raw=true\"\n",
    "out1 = \"data/ST-LN-compressed.h5ad\"\n",
    "out2 = \"data/scRNA-LN-compressed.h5ad\""
   ]
  },
  {
   "cell_type": "markdown",
   "metadata": {
    "id": "TrLyGrSNJGNR"
   },
   "source": [
    "First, let’s load the single-cell data. We profiled immune cells from murine lymph nodes with 10x Chromium, as a control / case study to study the immune response to exposure to a mycobacteria (refer to DestVI paper for more info). It contains the raw counts (DestVI always takes raw counts as input)."
   ]
  },
  {
   "cell_type": "code",
   "execution_count": 68,
   "metadata": {
    "colab": {
     "base_uri": "https://localhost:8080/",
     "height": 49,
     "referenced_widgets": [
      "4bf2d4af54a541e6a742ae250964c74a",
      "c0066856224e450ea5a7aed954c7bac6",
      "81e12393e9f94ec0b6395b454424ffcb",
      "19e50a1a001c4b4ca255dac02690873e",
      "e648f2a3aa4c44069dca5b7ba73f1edd",
      "2d5b303bf2d949bba0f26505f0ed49e7",
      "6669beae05dc453daad5bfb3ce91e94c",
      "9445f623eaa34df7af75263ab8e65cf1",
      "a0e750a2247c4981b8a6380fab0d96e5",
      "a3b2a57ffa88417493eb3f9708f7a7cd",
      "91a62e6ff72e40f19c687415cdf0b47f"
     ]
    },
    "id": "_sRFknXUILGc",
    "outputId": "4ae515c7-25bd-4a3e-8083-dbc7e343e5b4"
   },
   "outputs": [
    {
     "data": {
      "application/vnd.jupyter.widget-view+json": {
       "model_id": "4bf2d4af54a541e6a742ae250964c74a",
       "version_major": 2,
       "version_minor": 0
      },
      "text/plain": [
       "  0%|          | 0.00/76.0M [00:00<?, ?B/s]"
      ]
     },
     "metadata": {},
     "output_type": "display_data"
    }
   ],
   "source": [
    "sc_adata = sc.read(out2, backup_url=url2)"
   ]
  },
  {
   "cell_type": "code",
   "execution_count": 69,
   "metadata": {
    "id": "f3p-pxG6INHz"
   },
   "outputs": [],
   "source": [
    "# let us filter some genes\n",
    "G = 2000\n",
    "sc.pp.filter_genes(sc_adata, min_counts=10)\n",
    "\n",
    "sc_adata.layers[\"counts\"] = sc_adata.X.copy()\n",
    "\n",
    "sc.pp.highly_variable_genes(\n",
    "    sc_adata, n_top_genes=G, subset=True, layer=\"counts\", flavor=\"seurat_v3\"\n",
    ")\n",
    "\n",
    "sc.pp.normalize_total(sc_adata, target_sum=10e4)\n",
    "sc.pp.log1p(sc_adata)\n",
    "sc_adata.raw = sc_adata"
   ]
  },
  {
   "cell_type": "markdown",
   "metadata": {
    "id": "MkNGsJwBKaXt"
   },
   "source": [
    "Load the spatial data"
   ]
  },
  {
   "cell_type": "code",
   "execution_count": 70,
   "metadata": {
    "colab": {
     "base_uri": "https://localhost:8080/",
     "height": 49,
     "referenced_widgets": [
      "88dd1d80d22b46bc8e2ecce80e7c0c0e",
      "f8676fd1c3774517861fe677fa7aff99",
      "8c4d640c27c74322b3cff0330b013a38",
      "a9dc9f7942e0437fb151909c470735b2",
      "92c256e18432402688348eafb726b564",
      "6d6fca584a134f9faa4cf7bd9d0a1318",
      "d8089acdff144fb48aa275d6e7a33e3f",
      "5f78296560f541569d6c39ff8e1d6926",
      "5b50ad1895ce4d9cb47623f341e58a5e",
      "a79c040339db4529abfe3536d8d0e3fa",
      "646914894b1a49689ed5a561cd1eb472"
     ]
    },
    "id": "dH9p5dYNIUQm",
    "outputId": "ccab2865-4500-48be-fd11-6b95cb4d7239"
   },
   "outputs": [
    {
     "data": {
      "application/vnd.jupyter.widget-view+json": {
       "model_id": "88dd1d80d22b46bc8e2ecce80e7c0c0e",
       "version_major": 2,
       "version_minor": 0
      },
      "text/plain": [
       "  0%|          | 0.00/12.8M [00:00<?, ?B/s]"
      ]
     },
     "metadata": {},
     "output_type": "display_data"
    }
   ],
   "source": [
    "st_adata = sc.read(out1, backup_url=url1)"
   ]
  },
  {
   "cell_type": "code",
   "execution_count": 71,
   "metadata": {
    "id": "WX1b6Hw_IUr1"
   },
   "outputs": [],
   "source": [
    "st_adata.layers[\"counts\"] = st_adata.X.copy()\n",
    "st_adata.obsm[\"spatial\"] = st_adata.obsm[\"location\"]\n",
    "\n",
    "sc.pp.normalize_total(st_adata, target_sum=10e4)\n",
    "sc.pp.log1p(st_adata)\n",
    "st_adata.raw = st_adata"
   ]
  },
  {
   "cell_type": "markdown",
   "metadata": {
    "id": "ehrKE3bCKfr0"
   },
   "source": [
    "Here we must ensure that the two datasets have a common gene subset."
   ]
  },
  {
   "cell_type": "code",
   "execution_count": 72,
   "metadata": {
    "id": "vQ5tgNwUIXNT"
   },
   "outputs": [],
   "source": [
    "# filter genes to be the same on the spatial data\n",
    "intersect = np.intersect1d(sc_adata.var_names, st_adata.var_names)\n",
    "st_adata = st_adata[:, intersect].copy()\n",
    "sc_adata = sc_adata[:, intersect].copy()\n",
    "G = len(intersect)"
   ]
  },
  {
   "cell_type": "code",
   "execution_count": 72,
   "metadata": {
    "id": "GPnwd1pYaKsX"
   },
   "outputs": [],
   "source": []
  }
 ],
 "metadata": {
  "colab": {
   "collapsed_sections": [
    "LZLxxKsPOXQs",
    "xLLFdtiP1DVf"
   ],
   "provenance": [],
   "toc_visible": true
  },
  "kernelspec": {
   "display_name": "Python 3",
   "name": "python3"
  },
  "language_info": {
   "name": "python"
  },
  "widgets": {
   "application/vnd.jupyter.widget-state+json": {
    "0c6ef719b1434a6aa4ce4d010cc20b6f": {
     "model_module": "@jupyter-widgets/controls",
     "model_module_version": "1.5.0",
     "model_name": "DescriptionStyleModel",
     "state": {
      "_model_module": "@jupyter-widgets/controls",
      "_model_module_version": "1.5.0",
      "_model_name": "DescriptionStyleModel",
      "_view_count": null,
      "_view_module": "@jupyter-widgets/base",
      "_view_module_version": "1.2.0",
      "_view_name": "StyleView",
      "description_width": ""
     }
    },
    "19e50a1a001c4b4ca255dac02690873e": {
     "model_module": "@jupyter-widgets/controls",
     "model_module_version": "1.5.0",
     "model_name": "HTMLModel",
     "state": {
      "_dom_classes": [],
      "_model_module": "@jupyter-widgets/controls",
      "_model_module_version": "1.5.0",
      "_model_name": "HTMLModel",
      "_view_count": null,
      "_view_module": "@jupyter-widgets/controls",
      "_view_module_version": "1.5.0",
      "_view_name": "HTMLView",
      "description": "",
      "description_tooltip": null,
      "layout": "IPY_MODEL_a3b2a57ffa88417493eb3f9708f7a7cd",
      "placeholder": "​",
      "style": "IPY_MODEL_91a62e6ff72e40f19c687415cdf0b47f",
      "value": " 76.0M/76.0M [00:00&lt;00:00, 268MB/s]"
     }
    },
    "2d1bcf591975427baf83d231366bc5ac": {
     "model_module": "@jupyter-widgets/base",
     "model_module_version": "1.2.0",
     "model_name": "LayoutModel",
     "state": {
      "_model_module": "@jupyter-widgets/base",
      "_model_module_version": "1.2.0",
      "_model_name": "LayoutModel",
      "_view_count": null,
      "_view_module": "@jupyter-widgets/base",
      "_view_module_version": "1.2.0",
      "_view_name": "LayoutView",
      "align_content": null,
      "align_items": null,
      "align_self": null,
      "border": null,
      "bottom": null,
      "display": null,
      "flex": null,
      "flex_flow": null,
      "grid_area": null,
      "grid_auto_columns": null,
      "grid_auto_flow": null,
      "grid_auto_rows": null,
      "grid_column": null,
      "grid_gap": null,
      "grid_row": null,
      "grid_template_areas": null,
      "grid_template_columns": null,
      "grid_template_rows": null,
      "height": null,
      "justify_content": null,
      "justify_items": null,
      "left": null,
      "margin": null,
      "max_height": null,
      "max_width": null,
      "min_height": null,
      "min_width": null,
      "object_fit": null,
      "object_position": null,
      "order": null,
      "overflow": null,
      "overflow_x": null,
      "overflow_y": null,
      "padding": null,
      "right": null,
      "top": null,
      "visibility": null,
      "width": null
     }
    },
    "2d5b303bf2d949bba0f26505f0ed49e7": {
     "model_module": "@jupyter-widgets/base",
     "model_module_version": "1.2.0",
     "model_name": "LayoutModel",
     "state": {
      "_model_module": "@jupyter-widgets/base",
      "_model_module_version": "1.2.0",
      "_model_name": "LayoutModel",
      "_view_count": null,
      "_view_module": "@jupyter-widgets/base",
      "_view_module_version": "1.2.0",
      "_view_name": "LayoutView",
      "align_content": null,
      "align_items": null,
      "align_self": null,
      "border": null,
      "bottom": null,
      "display": null,
      "flex": null,
      "flex_flow": null,
      "grid_area": null,
      "grid_auto_columns": null,
      "grid_auto_flow": null,
      "grid_auto_rows": null,
      "grid_column": null,
      "grid_gap": null,
      "grid_row": null,
      "grid_template_areas": null,
      "grid_template_columns": null,
      "grid_template_rows": null,
      "height": null,
      "justify_content": null,
      "justify_items": null,
      "left": null,
      "margin": null,
      "max_height": null,
      "max_width": null,
      "min_height": null,
      "min_width": null,
      "object_fit": null,
      "object_position": null,
      "order": null,
      "overflow": null,
      "overflow_x": null,
      "overflow_y": null,
      "padding": null,
      "right": null,
      "top": null,
      "visibility": null,
      "width": null
     }
    },
    "4a466bc40f91411fadf5a8151483e1b0": {
     "model_module": "@jupyter-widgets/base",
     "model_module_version": "1.2.0",
     "model_name": "LayoutModel",
     "state": {
      "_model_module": "@jupyter-widgets/base",
      "_model_module_version": "1.2.0",
      "_model_name": "LayoutModel",
      "_view_count": null,
      "_view_module": "@jupyter-widgets/base",
      "_view_module_version": "1.2.0",
      "_view_name": "LayoutView",
      "align_content": null,
      "align_items": null,
      "align_self": null,
      "border": null,
      "bottom": null,
      "display": null,
      "flex": null,
      "flex_flow": null,
      "grid_area": null,
      "grid_auto_columns": null,
      "grid_auto_flow": null,
      "grid_auto_rows": null,
      "grid_column": null,
      "grid_gap": null,
      "grid_row": null,
      "grid_template_areas": null,
      "grid_template_columns": null,
      "grid_template_rows": null,
      "height": null,
      "justify_content": null,
      "justify_items": null,
      "left": null,
      "margin": null,
      "max_height": null,
      "max_width": null,
      "min_height": null,
      "min_width": null,
      "object_fit": null,
      "object_position": null,
      "order": null,
      "overflow": null,
      "overflow_x": null,
      "overflow_y": null,
      "padding": null,
      "right": null,
      "top": null,
      "visibility": null,
      "width": null
     }
    },
    "4bf2d4af54a541e6a742ae250964c74a": {
     "model_module": "@jupyter-widgets/controls",
     "model_module_version": "1.5.0",
     "model_name": "HBoxModel",
     "state": {
      "_dom_classes": [],
      "_model_module": "@jupyter-widgets/controls",
      "_model_module_version": "1.5.0",
      "_model_name": "HBoxModel",
      "_view_count": null,
      "_view_module": "@jupyter-widgets/controls",
      "_view_module_version": "1.5.0",
      "_view_name": "HBoxView",
      "box_style": "",
      "children": [
       "IPY_MODEL_c0066856224e450ea5a7aed954c7bac6",
       "IPY_MODEL_81e12393e9f94ec0b6395b454424ffcb",
       "IPY_MODEL_19e50a1a001c4b4ca255dac02690873e"
      ],
      "layout": "IPY_MODEL_e648f2a3aa4c44069dca5b7ba73f1edd"
     }
    },
    "52b384b9970a4de6a627628bcfde25f1": {
     "model_module": "@jupyter-widgets/controls",
     "model_module_version": "1.5.0",
     "model_name": "HTMLModel",
     "state": {
      "_dom_classes": [],
      "_model_module": "@jupyter-widgets/controls",
      "_model_module_version": "1.5.0",
      "_model_name": "HTMLModel",
      "_view_count": null,
      "_view_module": "@jupyter-widgets/controls",
      "_view_module_version": "1.5.0",
      "_view_name": "HTMLView",
      "description": "",
      "description_tooltip": null,
      "layout": "IPY_MODEL_4a466bc40f91411fadf5a8151483e1b0",
      "placeholder": "​",
      "style": "IPY_MODEL_0c6ef719b1434a6aa4ce4d010cc20b6f",
      "value": " 972M/972M [00:45&lt;00:00, 24.5MB/s]"
     }
    },
    "5b50ad1895ce4d9cb47623f341e58a5e": {
     "model_module": "@jupyter-widgets/controls",
     "model_module_version": "1.5.0",
     "model_name": "ProgressStyleModel",
     "state": {
      "_model_module": "@jupyter-widgets/controls",
      "_model_module_version": "1.5.0",
      "_model_name": "ProgressStyleModel",
      "_view_count": null,
      "_view_module": "@jupyter-widgets/base",
      "_view_module_version": "1.2.0",
      "_view_name": "StyleView",
      "bar_color": null,
      "description_width": ""
     }
    },
    "5f78296560f541569d6c39ff8e1d6926": {
     "model_module": "@jupyter-widgets/base",
     "model_module_version": "1.2.0",
     "model_name": "LayoutModel",
     "state": {
      "_model_module": "@jupyter-widgets/base",
      "_model_module_version": "1.2.0",
      "_model_name": "LayoutModel",
      "_view_count": null,
      "_view_module": "@jupyter-widgets/base",
      "_view_module_version": "1.2.0",
      "_view_name": "LayoutView",
      "align_content": null,
      "align_items": null,
      "align_self": null,
      "border": null,
      "bottom": null,
      "display": null,
      "flex": null,
      "flex_flow": null,
      "grid_area": null,
      "grid_auto_columns": null,
      "grid_auto_flow": null,
      "grid_auto_rows": null,
      "grid_column": null,
      "grid_gap": null,
      "grid_row": null,
      "grid_template_areas": null,
      "grid_template_columns": null,
      "grid_template_rows": null,
      "height": null,
      "justify_content": null,
      "justify_items": null,
      "left": null,
      "margin": null,
      "max_height": null,
      "max_width": null,
      "min_height": null,
      "min_width": null,
      "object_fit": null,
      "object_position": null,
      "order": null,
      "overflow": null,
      "overflow_x": null,
      "overflow_y": null,
      "padding": null,
      "right": null,
      "top": null,
      "visibility": null,
      "width": null
     }
    },
    "646914894b1a49689ed5a561cd1eb472": {
     "model_module": "@jupyter-widgets/controls",
     "model_module_version": "1.5.0",
     "model_name": "DescriptionStyleModel",
     "state": {
      "_model_module": "@jupyter-widgets/controls",
      "_model_module_version": "1.5.0",
      "_model_name": "DescriptionStyleModel",
      "_view_count": null,
      "_view_module": "@jupyter-widgets/base",
      "_view_module_version": "1.2.0",
      "_view_name": "StyleView",
      "description_width": ""
     }
    },
    "6669beae05dc453daad5bfb3ce91e94c": {
     "model_module": "@jupyter-widgets/controls",
     "model_module_version": "1.5.0",
     "model_name": "DescriptionStyleModel",
     "state": {
      "_model_module": "@jupyter-widgets/controls",
      "_model_module_version": "1.5.0",
      "_model_name": "DescriptionStyleModel",
      "_view_count": null,
      "_view_module": "@jupyter-widgets/base",
      "_view_module_version": "1.2.0",
      "_view_name": "StyleView",
      "description_width": ""
     }
    },
    "6d6fca584a134f9faa4cf7bd9d0a1318": {
     "model_module": "@jupyter-widgets/base",
     "model_module_version": "1.2.0",
     "model_name": "LayoutModel",
     "state": {
      "_model_module": "@jupyter-widgets/base",
      "_model_module_version": "1.2.0",
      "_model_name": "LayoutModel",
      "_view_count": null,
      "_view_module": "@jupyter-widgets/base",
      "_view_module_version": "1.2.0",
      "_view_name": "LayoutView",
      "align_content": null,
      "align_items": null,
      "align_self": null,
      "border": null,
      "bottom": null,
      "display": null,
      "flex": null,
      "flex_flow": null,
      "grid_area": null,
      "grid_auto_columns": null,
      "grid_auto_flow": null,
      "grid_auto_rows": null,
      "grid_column": null,
      "grid_gap": null,
      "grid_row": null,
      "grid_template_areas": null,
      "grid_template_columns": null,
      "grid_template_rows": null,
      "height": null,
      "justify_content": null,
      "justify_items": null,
      "left": null,
      "margin": null,
      "max_height": null,
      "max_width": null,
      "min_height": null,
      "min_width": null,
      "object_fit": null,
      "object_position": null,
      "order": null,
      "overflow": null,
      "overflow_x": null,
      "overflow_y": null,
      "padding": null,
      "right": null,
      "top": null,
      "visibility": null,
      "width": null
     }
    },
    "73f0f343debc49cea821fb92f2c3a8c1": {
     "model_module": "@jupyter-widgets/controls",
     "model_module_version": "1.5.0",
     "model_name": "ProgressStyleModel",
     "state": {
      "_model_module": "@jupyter-widgets/controls",
      "_model_module_version": "1.5.0",
      "_model_name": "ProgressStyleModel",
      "_view_count": null,
      "_view_module": "@jupyter-widgets/base",
      "_view_module_version": "1.2.0",
      "_view_name": "StyleView",
      "bar_color": null,
      "description_width": ""
     }
    },
    "81e12393e9f94ec0b6395b454424ffcb": {
     "model_module": "@jupyter-widgets/controls",
     "model_module_version": "1.5.0",
     "model_name": "FloatProgressModel",
     "state": {
      "_dom_classes": [],
      "_model_module": "@jupyter-widgets/controls",
      "_model_module_version": "1.5.0",
      "_model_name": "FloatProgressModel",
      "_view_count": null,
      "_view_module": "@jupyter-widgets/controls",
      "_view_module_version": "1.5.0",
      "_view_name": "ProgressView",
      "bar_style": "success",
      "description": "",
      "description_tooltip": null,
      "layout": "IPY_MODEL_9445f623eaa34df7af75263ab8e65cf1",
      "max": 79650817,
      "min": 0,
      "orientation": "horizontal",
      "style": "IPY_MODEL_a0e750a2247c4981b8a6380fab0d96e5",
      "value": 79650817
     }
    },
    "88dd1d80d22b46bc8e2ecce80e7c0c0e": {
     "model_module": "@jupyter-widgets/controls",
     "model_module_version": "1.5.0",
     "model_name": "HBoxModel",
     "state": {
      "_dom_classes": [],
      "_model_module": "@jupyter-widgets/controls",
      "_model_module_version": "1.5.0",
      "_model_name": "HBoxModel",
      "_view_count": null,
      "_view_module": "@jupyter-widgets/controls",
      "_view_module_version": "1.5.0",
      "_view_name": "HBoxView",
      "box_style": "",
      "children": [
       "IPY_MODEL_f8676fd1c3774517861fe677fa7aff99",
       "IPY_MODEL_8c4d640c27c74322b3cff0330b013a38",
       "IPY_MODEL_a9dc9f7942e0437fb151909c470735b2"
      ],
      "layout": "IPY_MODEL_92c256e18432402688348eafb726b564"
     }
    },
    "8c4d640c27c74322b3cff0330b013a38": {
     "model_module": "@jupyter-widgets/controls",
     "model_module_version": "1.5.0",
     "model_name": "FloatProgressModel",
     "state": {
      "_dom_classes": [],
      "_model_module": "@jupyter-widgets/controls",
      "_model_module_version": "1.5.0",
      "_model_name": "FloatProgressModel",
      "_view_count": null,
      "_view_module": "@jupyter-widgets/controls",
      "_view_module_version": "1.5.0",
      "_view_name": "ProgressView",
      "bar_style": "success",
      "description": "",
      "description_tooltip": null,
      "layout": "IPY_MODEL_5f78296560f541569d6c39ff8e1d6926",
      "max": 13466047,
      "min": 0,
      "orientation": "horizontal",
      "style": "IPY_MODEL_5b50ad1895ce4d9cb47623f341e58a5e",
      "value": 13466047
     }
    },
    "91a62e6ff72e40f19c687415cdf0b47f": {
     "model_module": "@jupyter-widgets/controls",
     "model_module_version": "1.5.0",
     "model_name": "DescriptionStyleModel",
     "state": {
      "_model_module": "@jupyter-widgets/controls",
      "_model_module_version": "1.5.0",
      "_model_name": "DescriptionStyleModel",
      "_view_count": null,
      "_view_module": "@jupyter-widgets/base",
      "_view_module_version": "1.2.0",
      "_view_name": "StyleView",
      "description_width": ""
     }
    },
    "92c256e18432402688348eafb726b564": {
     "model_module": "@jupyter-widgets/base",
     "model_module_version": "1.2.0",
     "model_name": "LayoutModel",
     "state": {
      "_model_module": "@jupyter-widgets/base",
      "_model_module_version": "1.2.0",
      "_model_name": "LayoutModel",
      "_view_count": null,
      "_view_module": "@jupyter-widgets/base",
      "_view_module_version": "1.2.0",
      "_view_name": "LayoutView",
      "align_content": null,
      "align_items": null,
      "align_self": null,
      "border": null,
      "bottom": null,
      "display": null,
      "flex": null,
      "flex_flow": null,
      "grid_area": null,
      "grid_auto_columns": null,
      "grid_auto_flow": null,
      "grid_auto_rows": null,
      "grid_column": null,
      "grid_gap": null,
      "grid_row": null,
      "grid_template_areas": null,
      "grid_template_columns": null,
      "grid_template_rows": null,
      "height": null,
      "justify_content": null,
      "justify_items": null,
      "left": null,
      "margin": null,
      "max_height": null,
      "max_width": null,
      "min_height": null,
      "min_width": null,
      "object_fit": null,
      "object_position": null,
      "order": null,
      "overflow": null,
      "overflow_x": null,
      "overflow_y": null,
      "padding": null,
      "right": null,
      "top": null,
      "visibility": null,
      "width": null
     }
    },
    "9445f623eaa34df7af75263ab8e65cf1": {
     "model_module": "@jupyter-widgets/base",
     "model_module_version": "1.2.0",
     "model_name": "LayoutModel",
     "state": {
      "_model_module": "@jupyter-widgets/base",
      "_model_module_version": "1.2.0",
      "_model_name": "LayoutModel",
      "_view_count": null,
      "_view_module": "@jupyter-widgets/base",
      "_view_module_version": "1.2.0",
      "_view_name": "LayoutView",
      "align_content": null,
      "align_items": null,
      "align_self": null,
      "border": null,
      "bottom": null,
      "display": null,
      "flex": null,
      "flex_flow": null,
      "grid_area": null,
      "grid_auto_columns": null,
      "grid_auto_flow": null,
      "grid_auto_rows": null,
      "grid_column": null,
      "grid_gap": null,
      "grid_row": null,
      "grid_template_areas": null,
      "grid_template_columns": null,
      "grid_template_rows": null,
      "height": null,
      "justify_content": null,
      "justify_items": null,
      "left": null,
      "margin": null,
      "max_height": null,
      "max_width": null,
      "min_height": null,
      "min_width": null,
      "object_fit": null,
      "object_position": null,
      "order": null,
      "overflow": null,
      "overflow_x": null,
      "overflow_y": null,
      "padding": null,
      "right": null,
      "top": null,
      "visibility": null,
      "width": null
     }
    },
    "975f89fb4dbb4de0bfd2b4d721623219": {
     "model_module": "@jupyter-widgets/controls",
     "model_module_version": "1.5.0",
     "model_name": "FloatProgressModel",
     "state": {
      "_dom_classes": [],
      "_model_module": "@jupyter-widgets/controls",
      "_model_module_version": "1.5.0",
      "_model_name": "FloatProgressModel",
      "_view_count": null,
      "_view_module": "@jupyter-widgets/controls",
      "_view_module_version": "1.5.0",
      "_view_name": "ProgressView",
      "bar_style": "success",
      "description": "",
      "description_tooltip": null,
      "layout": "IPY_MODEL_2d1bcf591975427baf83d231366bc5ac",
      "max": 1019664664,
      "min": 0,
      "orientation": "horizontal",
      "style": "IPY_MODEL_73f0f343debc49cea821fb92f2c3a8c1",
      "value": 1019664664
     }
    },
    "9a6a9ebb007b459b8848bcc22b8b446b": {
     "model_module": "@jupyter-widgets/controls",
     "model_module_version": "1.5.0",
     "model_name": "HBoxModel",
     "state": {
      "_dom_classes": [],
      "_model_module": "@jupyter-widgets/controls",
      "_model_module_version": "1.5.0",
      "_model_name": "HBoxModel",
      "_view_count": null,
      "_view_module": "@jupyter-widgets/controls",
      "_view_module_version": "1.5.0",
      "_view_name": "HBoxView",
      "box_style": "",
      "children": [
       "IPY_MODEL_cd81a3a156004a17954e5f0691bf004b",
       "IPY_MODEL_975f89fb4dbb4de0bfd2b4d721623219",
       "IPY_MODEL_52b384b9970a4de6a627628bcfde25f1"
      ],
      "layout": "IPY_MODEL_f8f5aca31cd6453f927f43e8ed533e5f"
     }
    },
    "9bd2f6af32024d2a85247107a012a902": {
     "model_module": "@jupyter-widgets/controls",
     "model_module_version": "1.5.0",
     "model_name": "DescriptionStyleModel",
     "state": {
      "_model_module": "@jupyter-widgets/controls",
      "_model_module_version": "1.5.0",
      "_model_name": "DescriptionStyleModel",
      "_view_count": null,
      "_view_module": "@jupyter-widgets/base",
      "_view_module_version": "1.2.0",
      "_view_name": "StyleView",
      "description_width": ""
     }
    },
    "a0e750a2247c4981b8a6380fab0d96e5": {
     "model_module": "@jupyter-widgets/controls",
     "model_module_version": "1.5.0",
     "model_name": "ProgressStyleModel",
     "state": {
      "_model_module": "@jupyter-widgets/controls",
      "_model_module_version": "1.5.0",
      "_model_name": "ProgressStyleModel",
      "_view_count": null,
      "_view_module": "@jupyter-widgets/base",
      "_view_module_version": "1.2.0",
      "_view_name": "StyleView",
      "bar_color": null,
      "description_width": ""
     }
    },
    "a3b2a57ffa88417493eb3f9708f7a7cd": {
     "model_module": "@jupyter-widgets/base",
     "model_module_version": "1.2.0",
     "model_name": "LayoutModel",
     "state": {
      "_model_module": "@jupyter-widgets/base",
      "_model_module_version": "1.2.0",
      "_model_name": "LayoutModel",
      "_view_count": null,
      "_view_module": "@jupyter-widgets/base",
      "_view_module_version": "1.2.0",
      "_view_name": "LayoutView",
      "align_content": null,
      "align_items": null,
      "align_self": null,
      "border": null,
      "bottom": null,
      "display": null,
      "flex": null,
      "flex_flow": null,
      "grid_area": null,
      "grid_auto_columns": null,
      "grid_auto_flow": null,
      "grid_auto_rows": null,
      "grid_column": null,
      "grid_gap": null,
      "grid_row": null,
      "grid_template_areas": null,
      "grid_template_columns": null,
      "grid_template_rows": null,
      "height": null,
      "justify_content": null,
      "justify_items": null,
      "left": null,
      "margin": null,
      "max_height": null,
      "max_width": null,
      "min_height": null,
      "min_width": null,
      "object_fit": null,
      "object_position": null,
      "order": null,
      "overflow": null,
      "overflow_x": null,
      "overflow_y": null,
      "padding": null,
      "right": null,
      "top": null,
      "visibility": null,
      "width": null
     }
    },
    "a79c040339db4529abfe3536d8d0e3fa": {
     "model_module": "@jupyter-widgets/base",
     "model_module_version": "1.2.0",
     "model_name": "LayoutModel",
     "state": {
      "_model_module": "@jupyter-widgets/base",
      "_model_module_version": "1.2.0",
      "_model_name": "LayoutModel",
      "_view_count": null,
      "_view_module": "@jupyter-widgets/base",
      "_view_module_version": "1.2.0",
      "_view_name": "LayoutView",
      "align_content": null,
      "align_items": null,
      "align_self": null,
      "border": null,
      "bottom": null,
      "display": null,
      "flex": null,
      "flex_flow": null,
      "grid_area": null,
      "grid_auto_columns": null,
      "grid_auto_flow": null,
      "grid_auto_rows": null,
      "grid_column": null,
      "grid_gap": null,
      "grid_row": null,
      "grid_template_areas": null,
      "grid_template_columns": null,
      "grid_template_rows": null,
      "height": null,
      "justify_content": null,
      "justify_items": null,
      "left": null,
      "margin": null,
      "max_height": null,
      "max_width": null,
      "min_height": null,
      "min_width": null,
      "object_fit": null,
      "object_position": null,
      "order": null,
      "overflow": null,
      "overflow_x": null,
      "overflow_y": null,
      "padding": null,
      "right": null,
      "top": null,
      "visibility": null,
      "width": null
     }
    },
    "a9dc9f7942e0437fb151909c470735b2": {
     "model_module": "@jupyter-widgets/controls",
     "model_module_version": "1.5.0",
     "model_name": "HTMLModel",
     "state": {
      "_dom_classes": [],
      "_model_module": "@jupyter-widgets/controls",
      "_model_module_version": "1.5.0",
      "_model_name": "HTMLModel",
      "_view_count": null,
      "_view_module": "@jupyter-widgets/controls",
      "_view_module_version": "1.5.0",
      "_view_name": "HTMLView",
      "description": "",
      "description_tooltip": null,
      "layout": "IPY_MODEL_a79c040339db4529abfe3536d8d0e3fa",
      "placeholder": "​",
      "style": "IPY_MODEL_646914894b1a49689ed5a561cd1eb472",
      "value": " 12.8M/12.8M [00:00&lt;00:00, 140MB/s]"
     }
    },
    "bec59ecdd4f64d3c8bba79cfe03a18b7": {
     "model_module": "@jupyter-widgets/base",
     "model_module_version": "1.2.0",
     "model_name": "LayoutModel",
     "state": {
      "_model_module": "@jupyter-widgets/base",
      "_model_module_version": "1.2.0",
      "_model_name": "LayoutModel",
      "_view_count": null,
      "_view_module": "@jupyter-widgets/base",
      "_view_module_version": "1.2.0",
      "_view_name": "LayoutView",
      "align_content": null,
      "align_items": null,
      "align_self": null,
      "border": null,
      "bottom": null,
      "display": null,
      "flex": null,
      "flex_flow": null,
      "grid_area": null,
      "grid_auto_columns": null,
      "grid_auto_flow": null,
      "grid_auto_rows": null,
      "grid_column": null,
      "grid_gap": null,
      "grid_row": null,
      "grid_template_areas": null,
      "grid_template_columns": null,
      "grid_template_rows": null,
      "height": null,
      "justify_content": null,
      "justify_items": null,
      "left": null,
      "margin": null,
      "max_height": null,
      "max_width": null,
      "min_height": null,
      "min_width": null,
      "object_fit": null,
      "object_position": null,
      "order": null,
      "overflow": null,
      "overflow_x": null,
      "overflow_y": null,
      "padding": null,
      "right": null,
      "top": null,
      "visibility": null,
      "width": null
     }
    },
    "c0066856224e450ea5a7aed954c7bac6": {
     "model_module": "@jupyter-widgets/controls",
     "model_module_version": "1.5.0",
     "model_name": "HTMLModel",
     "state": {
      "_dom_classes": [],
      "_model_module": "@jupyter-widgets/controls",
      "_model_module_version": "1.5.0",
      "_model_name": "HTMLModel",
      "_view_count": null,
      "_view_module": "@jupyter-widgets/controls",
      "_view_module_version": "1.5.0",
      "_view_name": "HTMLView",
      "description": "",
      "description_tooltip": null,
      "layout": "IPY_MODEL_2d5b303bf2d949bba0f26505f0ed49e7",
      "placeholder": "​",
      "style": "IPY_MODEL_6669beae05dc453daad5bfb3ce91e94c",
      "value": "100%"
     }
    },
    "cd81a3a156004a17954e5f0691bf004b": {
     "model_module": "@jupyter-widgets/controls",
     "model_module_version": "1.5.0",
     "model_name": "HTMLModel",
     "state": {
      "_dom_classes": [],
      "_model_module": "@jupyter-widgets/controls",
      "_model_module_version": "1.5.0",
      "_model_name": "HTMLModel",
      "_view_count": null,
      "_view_module": "@jupyter-widgets/controls",
      "_view_module_version": "1.5.0",
      "_view_name": "HTMLView",
      "description": "",
      "description_tooltip": null,
      "layout": "IPY_MODEL_bec59ecdd4f64d3c8bba79cfe03a18b7",
      "placeholder": "​",
      "style": "IPY_MODEL_9bd2f6af32024d2a85247107a012a902",
      "value": "100%"
     }
    },
    "d8089acdff144fb48aa275d6e7a33e3f": {
     "model_module": "@jupyter-widgets/controls",
     "model_module_version": "1.5.0",
     "model_name": "DescriptionStyleModel",
     "state": {
      "_model_module": "@jupyter-widgets/controls",
      "_model_module_version": "1.5.0",
      "_model_name": "DescriptionStyleModel",
      "_view_count": null,
      "_view_module": "@jupyter-widgets/base",
      "_view_module_version": "1.2.0",
      "_view_name": "StyleView",
      "description_width": ""
     }
    },
    "e648f2a3aa4c44069dca5b7ba73f1edd": {
     "model_module": "@jupyter-widgets/base",
     "model_module_version": "1.2.0",
     "model_name": "LayoutModel",
     "state": {
      "_model_module": "@jupyter-widgets/base",
      "_model_module_version": "1.2.0",
      "_model_name": "LayoutModel",
      "_view_count": null,
      "_view_module": "@jupyter-widgets/base",
      "_view_module_version": "1.2.0",
      "_view_name": "LayoutView",
      "align_content": null,
      "align_items": null,
      "align_self": null,
      "border": null,
      "bottom": null,
      "display": null,
      "flex": null,
      "flex_flow": null,
      "grid_area": null,
      "grid_auto_columns": null,
      "grid_auto_flow": null,
      "grid_auto_rows": null,
      "grid_column": null,
      "grid_gap": null,
      "grid_row": null,
      "grid_template_areas": null,
      "grid_template_columns": null,
      "grid_template_rows": null,
      "height": null,
      "justify_content": null,
      "justify_items": null,
      "left": null,
      "margin": null,
      "max_height": null,
      "max_width": null,
      "min_height": null,
      "min_width": null,
      "object_fit": null,
      "object_position": null,
      "order": null,
      "overflow": null,
      "overflow_x": null,
      "overflow_y": null,
      "padding": null,
      "right": null,
      "top": null,
      "visibility": null,
      "width": null
     }
    },
    "f8676fd1c3774517861fe677fa7aff99": {
     "model_module": "@jupyter-widgets/controls",
     "model_module_version": "1.5.0",
     "model_name": "HTMLModel",
     "state": {
      "_dom_classes": [],
      "_model_module": "@jupyter-widgets/controls",
      "_model_module_version": "1.5.0",
      "_model_name": "HTMLModel",
      "_view_count": null,
      "_view_module": "@jupyter-widgets/controls",
      "_view_module_version": "1.5.0",
      "_view_name": "HTMLView",
      "description": "",
      "description_tooltip": null,
      "layout": "IPY_MODEL_6d6fca584a134f9faa4cf7bd9d0a1318",
      "placeholder": "​",
      "style": "IPY_MODEL_d8089acdff144fb48aa275d6e7a33e3f",
      "value": "100%"
     }
    },
    "f8f5aca31cd6453f927f43e8ed533e5f": {
     "model_module": "@jupyter-widgets/base",
     "model_module_version": "1.2.0",
     "model_name": "LayoutModel",
     "state": {
      "_model_module": "@jupyter-widgets/base",
      "_model_module_version": "1.2.0",
      "_model_name": "LayoutModel",
      "_view_count": null,
      "_view_module": "@jupyter-widgets/base",
      "_view_module_version": "1.2.0",
      "_view_name": "LayoutView",
      "align_content": null,
      "align_items": null,
      "align_self": null,
      "border": null,
      "bottom": null,
      "display": null,
      "flex": null,
      "flex_flow": null,
      "grid_area": null,
      "grid_auto_columns": null,
      "grid_auto_flow": null,
      "grid_auto_rows": null,
      "grid_column": null,
      "grid_gap": null,
      "grid_row": null,
      "grid_template_areas": null,
      "grid_template_columns": null,
      "grid_template_rows": null,
      "height": null,
      "justify_content": null,
      "justify_items": null,
      "left": null,
      "margin": null,
      "max_height": null,
      "max_width": null,
      "min_height": null,
      "min_width": null,
      "object_fit": null,
      "object_position": null,
      "order": null,
      "overflow": null,
      "overflow_x": null,
      "overflow_y": null,
      "padding": null,
      "right": null,
      "top": null,
      "visibility": null,
      "width": null
     }
    }
   }
  }
 },
 "nbformat": 4,
 "nbformat_minor": 0
}
