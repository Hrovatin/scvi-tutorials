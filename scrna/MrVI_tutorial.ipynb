{
 "cells": [
  {
   "cell_type": "markdown",
   "metadata": {},
   "source": [
    "# MrVI Quick Start Tutorial\n",
    "\n",
    "MrVI (Multi-resolution Variational Inference) is a package for analyzing multi-sample single-cell RNA-seq data. This tutorial will guide you through the main features of MrVI."
   ]
  },
  {
   "cell_type": "code",
   "execution_count": null,
   "metadata": {},
   "outputs": [],
   "source": [
    "!pip install --quiet scvi-colab\n",
    "from scvi_colab import install\n",
    "\n",
    "install()"
   ]
  },
  {
   "cell_type": "code",
   "execution_count": null,
   "metadata": {},
   "outputs": [],
   "source": [
    "import os\n",
    "import tempfile\n",
    "\n",
    "import matplotlib.pyplot as plt\n",
    "import numpy as np\n",
    "import pandas as pd\n",
    "import scanpy as sc\n",
    "import scvi\n",
    "# from scvi.external import MrVI\n",
    "from mrvi import MrVI\n",
    "import seaborn as sns\n",
    "\n",
    "\n",
    "scvi.settings.seed = 0  # optional: ensures reproducibility\n",
    "print(\"Last run with scvi-tools version:\", scvi.__version__)\n",
    "save_dir = tempfile.TemporaryDirectory()"
   ]
  },
  {
   "cell_type": "markdown",
   "metadata": {},
   "source": [
    "# Preprocessing and model fitting"
   ]
  },
  {
   "cell_type": "code",
   "execution_count": null,
   "metadata": {},
   "outputs": [],
   "source": [
    "# adata_path = os.path.join(save_dir.name, \"haniffa_tutorial_subset.h5ad\")\n",
    "adata_path = os.path.join(\"../haniffa_tutorial_subset.h5ad\")\n",
    "\n",
    "adata = sc.read(\n",
    "    adata_path,\n",
    "    # backup_url=\"FILL\" # Currently you can find this at s3://largedonor/haniffa_tutorial_subset.h5ad\n",
    ")\n",
    "adata.obs.index.name = \"cell_name\"\n",
    "sc.pp.highly_variable_genes(adata, n_top_genes=10000, inplace=True, subset=True, flavor=\"seurat_v3\")\n",
    "adata"
   ]
  },
  {
   "cell_type": "markdown",
   "metadata": {},
   "source": [
    "Before training, we need to specify which covariates in `obs` should be used as target (`sample_key`) and nuisance variables (`batch_key`). \n",
    "In this tutorial, we will use donor IDs as the target variable, and leave the batch variable empty since the data is already subsetted to the Newcastle cohort."
   ]
  },
  {
   "cell_type": "code",
   "execution_count": null,
   "metadata": {},
   "outputs": [],
   "source": [
    "sample_key=\"patient_id\"  # target covariate\n",
    "# batch_key=\"Site\"  # nuisance variable identifier\n",
    "MrVI.setup_anndata(adata, sample_key=sample_key)"
   ]
  },
  {
   "cell_type": "code",
   "execution_count": null,
   "metadata": {},
   "outputs": [],
   "source": [
    "model = MrVI(adata)\n",
    "model.train(max_epochs=400)"
   ]
  },
  {
   "cell_type": "markdown",
   "metadata": {},
   "source": [
    "Once trained, we can plot the ELBO of the model to check if the model has converged."
   ]
  },
  {
   "cell_type": "code",
   "execution_count": null,
   "metadata": {},
   "outputs": [],
   "source": [
    "plt.plot(model.history[\"elbo_validation\"].iloc[5:])\n",
    "plt.xlabel(\"Epoch\")\n",
    "plt.ylabel(\"Validation ELBO\")\n",
    "plt.show()"
   ]
  },
  {
   "cell_type": "markdown",
   "metadata": {},
   "source": [
    "# Visualize cell embeddings and sample distances"
   ]
  },
  {
   "cell_type": "markdown",
   "metadata": {},
   "source": [
    "The latent representations of the cells can also be accessed and visualized using the `get_latent_representation` method.\n",
    "Here, we visualize the latent space in 2D using minimum-distortion embeddings~(MDE)."
   ]
  },
  {
   "cell_type": "code",
   "execution_count": null,
   "metadata": {},
   "outputs": [],
   "source": [
    "u = model.get_latent_representation()\n",
    "# or z = model.get_latent_representation(give_z=True) to get z instead of u\n",
    "u_mde = scvi.model.utils.mde(u)\n",
    "adata.obsm[\"u_mde\"] = u_mde\n",
    "sc.pl.embedding(\n",
    "    adata, \n",
    "    basis=\"u_mde\",\n",
    "    color=[\"initial_clustering\", \"Status\"],\n",
    "    ncols=1,\n",
    ")"
   ]
  },
  {
   "cell_type": "markdown",
   "metadata": {},
   "source": [
    "Sample distances can be computed using the `get_local_sample_distances` method, which characterizes local sample relationships for any cell in the dataset.\n",
    "This method can return cell-specific distances (`keep_cell=True`), as well as averaged distances within cell subpopulations, characterized by the `groupby` argument.\n",
    "Specifying `keep_cell=False` will ensure that cell-specific distances are not returned, which can reduce the memory footprint of the returned object in the case where many samples are present."
   ]
  },
  {
   "cell_type": "code",
   "execution_count": null,
   "metadata": {},
   "outputs": [],
   "source": [
    "dists = model.get_local_sample_distances(\n",
    "    keep_cell=False, groupby=\"initial_clustering\", batch_size=32\n",
    ")\n",
    "d1 = dists.loc[{\"initial_clustering_name\": \"CD16\"}].initial_clustering"
   ]
  },
  {
   "cell_type": "markdown",
   "metadata": {},
   "source": [
    "The following cell provides useful utility functions to perform hierarchical clustering based on sample distances, as well as to extract sample metadata of interest to visualize the distance matrices"
   ]
  },
  {
   "cell_type": "code",
   "execution_count": null,
   "metadata": {},
   "outputs": [],
   "source": [
    "from matplotlib.colors import to_hex\n",
    "from scipy.spatial.distance import squareform\n",
    "from scipy.cluster.hierarchy import linkage, optimal_leaf_ordering\n",
    "\n",
    "\n",
    "def get_sample_colors():\n",
    "    cmap = sns.color_palette(\"viridis\", as_cmap=True)\n",
    "\n",
    "    def get_onset_colors(x):\n",
    "        if x == \"Healthy\":\n",
    "            return to_hex(np.array([0.5, 0.5, 0.5, 1.0]))\n",
    "        else:\n",
    "            x_ = int(x) / 30.0\n",
    "            return to_hex(cmap(x_))\n",
    "\n",
    "\n",
    "    covid_map = {\n",
    "        \"Covid\": \"red\",\n",
    "        \"Healthy\": \"green\",\n",
    "    }\n",
    "    sample_info = model.sample_info.set_index(\"sample_id\")\n",
    "    covid_colors = sample_info.Status.map(covid_map).values\n",
    "    onset_colors = sample_info.Days_from_onset.map(get_onset_colors)\n",
    "    colors = pd.DataFrame(\n",
    "        {\n",
    "            \"covid\": covid_colors,\n",
    "            \"onset\": onset_colors,\n",
    "        }\n",
    "    )\n",
    "    return colors\n",
    "\n",
    "def get_dendrogram(dists):\n",
    "    ds = squareform(dists)\n",
    "    Z = linkage(ds, method=\"ward\")\n",
    "    Z = optimal_leaf_ordering(Z, ds)\n",
    "    return Z"
   ]
  },
  {
   "cell_type": "code",
   "execution_count": null,
   "metadata": {},
   "outputs": [],
   "source": [
    "Z = get_dendrogram(d1)\n",
    "colors = get_sample_colors()\n",
    "\n",
    "sns.clustermap(\n",
    "    d1.to_pandas(),\n",
    "    row_linkage=Z,\n",
    "    col_linkage=Z,\n",
    "    xticklabels=False,\n",
    "    yticklabels=False,\n",
    "    row_colors=colors,\n",
    ")"
   ]
  },
  {
   "cell_type": "markdown",
   "metadata": {},
   "source": [
    "# Differential expression and differential abundance analysis"
   ]
  },
  {
   "cell_type": "code",
   "execution_count": null,
   "metadata": {},
   "outputs": [],
   "source": [
    "sample_cov_keys = [\"Status\"]  # Replace with your sample covariate of interest\n",
    "de_res = model.differential_expression(\n",
    "    sample_cov_keys=sample_cov_keys,\n",
    ")"
   ]
  },
  {
   "cell_type": "code",
   "execution_count": null,
   "metadata": {},
   "outputs": [],
   "source": [
    "da_res = model.differential_abundance(sample_cov_keys=sample_cov_keys)\n",
    "A_log_probs = da_res.Status_log_probs.loc[{\"Status\": \"Covid\"}]\n",
    "B_log_probs = da_res.Status_log_probs.loc[{\"Status\": \"Healthy\"}]\n",
    "A_B_log_prob_ratio = A_log_probs - B_log_probs"
   ]
  },
  {
   "cell_type": "code",
   "execution_count": null,
   "metadata": {},
   "outputs": [],
   "source": [
    "adata.obs[\"DA_covid\"] = A_B_log_prob_ratio.values\n",
    "sc.pl.embedding(\n",
    "    adata, \n",
    "    basis=\"u_mde\",\n",
    "    color=[\"initial_clustering\", \"DA_covid\"],\n",
    "    ncols=1,\n",
    "    vmin=-1, \n",
    "    vmax=1,\n",
    ")"
   ]
  },
  {
   "cell_type": "code",
   "execution_count": null,
   "metadata": {},
   "outputs": [],
   "source": []
  }
 ],
 "metadata": {
  "kernelspec": {
   "display_name": "mrvirel",
   "language": "python",
   "name": "python3"
  },
  "language_info": {
   "codemirror_mode": {
    "name": "ipython",
    "version": 3
   },
   "file_extension": ".py",
   "mimetype": "text/x-python",
   "name": "python",
   "nbconvert_exporter": "python",
   "pygments_lexer": "ipython3",
   "version": "3.10.14"
  }
 },
 "nbformat": 4,
 "nbformat_minor": 2
}
