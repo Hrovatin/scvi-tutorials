{
 "cells": [
  {
   "cell_type": "markdown",
   "metadata": {},
   "source": [
    "# MrVI Quick Start Tutorial\n",
    "MrVI (Multi-resolution Variational Inference) is a package for analyzing multi-sample single-cell RNA-seq data. This tutorial will guide you through the main features of MrVI."
   ]
  },
  {
   "cell_type": "code",
   "execution_count": null,
   "metadata": {},
   "outputs": [],
   "source": [
    "!pip install --quiet scvi-colab\n",
    "from scvi_colab import install\n",
    "\n",
    "install()"
   ]
  },
  {
   "cell_type": "code",
   "execution_count": null,
   "metadata": {},
   "outputs": [],
   "source": [
    "import os\n",
    "import tempfile\n",
    "\n",
    "import matplotlib.pyplot as plt\n",
    "import numpy as np\n",
    "import pandas as pd\n",
    "import plotnine as p9\n",
    "import scanpy as sc\n",
    "import scvi\n",
    "from scvi.external import MrVI\n",
    "import seaborn as sns"
   ]
  },
  {
   "cell_type": "code",
   "execution_count": null,
   "metadata": {},
   "outputs": [],
   "source": [
    "scvi.settings.seed = 0\n",
    "print(\"Last run with scvi-tools version:\", scvi.__version__)\n",
    "save_dir = tempfile.TemporaryDirectory()"
   ]
  },
  {
   "cell_type": "code",
   "execution_count": null,
   "metadata": {},
   "outputs": [],
   "source": [
    "adata_path = os.path.join(save_dir.name, \"haniffa_tutorial_subset.h5ad\")\n",
    "\n",
    "adata = sc.read(\n",
    "    adata_path,\n",
    "    backup_url=\"FILL\" # Currently you can find this at s3://largedonor/haniffa_tutorial_subset.h5ad\n",
    ")\n",
    "adata\n",
    "\n"
   ]
  },
  {
   "cell_type": "code",
   "execution_count": null,
   "metadata": {},
   "outputs": [],
   "source": [
    "sample_key=\"Site\" # Nuisance covariate\n",
    "batch_key=\"patient_id\" # Sample identifier\n",
    "MrVI.setup_anndata(adata, sample_key=sample_key, batch_key=batch_key)"
   ]
  },
  {
   "cell_type": "code",
   "execution_count": null,
   "metadata": {},
   "outputs": [],
   "source": [
    "model = MrVI(adata)\n",
    "model.train()"
   ]
  },
  {
   "cell_type": "code",
   "execution_count": null,
   "metadata": {},
   "outputs": [],
   "source": [
    "plt.plot(model.history[\"elbo_validation\"])\n",
    "plt.xlabel(\"Epoch\")\n",
    "plt.ylabel(\"Validation ELBO\")\n",
    "plt.show()"
   ]
  },
  {
   "cell_type": "code",
   "execution_count": null,
   "metadata": {},
   "outputs": [],
   "source": [
    "u = model.get_latent_representation()\n",
    "u_mde = scvi.model.utils.mde(u)\n",
    "adata.obsm[\"u_mde\"] = u_mde\n",
    "sc.pl.embedding(adata, basis=\"u_mde\")"
   ]
  },
  {
   "cell_type": "code",
   "execution_count": null,
   "metadata": {},
   "outputs": [],
   "source": [
    "z = model.get_latent_representation(give_z=True)\n",
    "z_mde = scvi.model.utils.mde(z)\n",
    "adata.obsm[\"z_mde\"] = z_mde\n",
    "sc.pl.embedding(adata, basis=\"z_mde\")"
   ]
  },
  {
   "cell_type": "code",
   "execution_count": null,
   "metadata": {},
   "outputs": [],
   "source": [
    "dists = model.get_local_sample_distances(\n",
    "    adata, keep_cell=False, groupby=\"initial_clustering\", batch_size=32\n",
    ")"
   ]
  },
  {
   "cell_type": "code",
   "execution_count": null,
   "metadata": {},
   "outputs": [],
   "source": [
    "sample_cov_keys = [\"Status\"]  # Replace with your sample covariate of interest\n",
    "de_res = model.differential_expression(\n",
    "    sample_cov_keys=sample_cov_keys,\n",
    ")"
   ]
  },
  {
   "cell_type": "code",
   "execution_count": null,
   "metadata": {},
   "outputs": [],
   "source": [
    "da_res = model.differential_abundance(sample_cov_keys=sample_cov_keys)\n",
    "A_log_probs = da_res.Status_log_probs.loc[{\"Status\": \"Covid\"}]\n",
    "B_log_probs = da_res.Status_log_probs.loc[{\"Status\": \"Healthy\"}]\n",
    "A_B_log_prob_ratio = A_log_probs - B_log_probs\n",
    "\n"
   ]
  }
 ],
 "metadata": {
  "kernelspec": {
   "display_name": "mrvirel",
   "language": "python",
   "name": "python3"
  },
  "language_info": {
   "name": "python",
   "version": "3.11.9"
  }
 },
 "nbformat": 4,
 "nbformat_minor": 2
}
