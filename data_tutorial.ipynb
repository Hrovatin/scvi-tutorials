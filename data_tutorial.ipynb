{
 "cells": [
  {
   "cell_type": "markdown",
   "id": "provincial-preliminary",
   "metadata": {},
   "source": [
    "# Data handling in scvi-tools\n",
    "\n",
    "In this tutorial we will cover how data is handled in scvi-tools. \n",
    "\n",
    "Sections:\n",
    "1. Data Registration via `setup_anndata()` and `register_tensor_from_anndata()`\n",
    "2. Data loading and `AnnDataLoader()`"
   ]
  },
  {
   "cell_type": "code",
   "execution_count": 1,
   "id": "imposed-publicity",
   "metadata": {},
   "outputs": [],
   "source": [
    "import sys\n",
    "\n",
    "#if branch is stable, will install via pypi, else will install from source\n",
    "branch = \"stable\"\n",
    "IN_COLAB = \"google.colab\" in sys.modules\n",
    "\n",
    "if IN_COLAB and branch == \"stable\":\n",
    "    !pip install --quiet scvi-tools[tutorials]\n",
    "elif IN_COLAB and branch != \"stable\":\n",
    "    !pip install --quiet --upgrade jsonschema\n",
    "    !pip install --quiet git+https://github.com/yoseflab/scvi-tools@$branch#egg=scvi-tools[tutorials]"
   ]
  },
  {
   "cell_type": "code",
   "execution_count": 2,
   "id": "professional-temperature",
   "metadata": {},
   "outputs": [],
   "source": [
    "import scvi\n",
    "import numpy as np"
   ]
  },
  {
   "cell_type": "markdown",
   "id": "exposed-finland",
   "metadata": {},
   "source": [
    "## 1. Data Registration\n",
    "Lets start by formatting an example AnnData Object to setup for scvi-tools. In the following code, we build off the `synthetic_iid()` dataset, copy X to a layer, and add continuous and categorical covariates to the AnnData."
   ]
  },
  {
   "cell_type": "code",
   "execution_count": 3,
   "id": "typical-parks",
   "metadata": {},
   "outputs": [
    {
     "name": "stdout",
     "output_type": "stream",
     "text": [
      "AnnData object with n_obs × n_vars = 400 × 100\n",
      "    obs: 'batch', 'labels', 'my_categorical_covariate', 'my_continuous_covariate'\n",
      "    uns: 'protein_names'\n",
      "    obsm: 'protein_expression'\n",
      "    layers: 'raw_counts'\n"
     ]
    }
   ],
   "source": [
    "adata = scvi.data.synthetic_iid(run_setup_anndata=False)\n",
    "adata.layers['raw_counts'] = adata.X.copy()\n",
    "adata.obs['my_categorical_covariate'] = ['A'] * 200 + ['B'] * 200\n",
    "adata.obs['my_continuous_covariate'] = np.random.randint(0,100,400)\n",
    "print(adata)"
   ]
  },
  {
   "cell_type": "markdown",
   "id": "preceding-combat",
   "metadata": {},
   "source": [
    "Now we call `scvi.data.setup_anndata()` to register all the tensors we want to load to the model during training."
   ]
  },
  {
   "cell_type": "code",
   "execution_count": 4,
   "id": "genuine-theorem",
   "metadata": {},
   "outputs": [
    {
     "name": "stdout",
     "output_type": "stream",
     "text": [
      "\u001b[34mINFO    \u001b[0m Using batches from adata.obs\u001b[1m[\u001b[0m\u001b[32m\"batch\"\u001b[0m\u001b[1m]\u001b[0m                                               \n",
      "\u001b[34mINFO    \u001b[0m Using labels from adata.obs\u001b[1m[\u001b[0m\u001b[32m\"labels\"\u001b[0m\u001b[1m]\u001b[0m                                               \n",
      "\u001b[34mINFO    \u001b[0m Using data from adata.layers\u001b[1m[\u001b[0m\u001b[32m\"raw_counts\"\u001b[0m\u001b[1m]\u001b[0m                                          \n",
      "\u001b[34mINFO    \u001b[0m Computing library size prior per batch                                              \n",
      "\u001b[34mINFO    \u001b[0m Using protein expression from adata.obsm\u001b[1m[\u001b[0m\u001b[32m'protein_expression'\u001b[0m\u001b[1m]\u001b[0m                      \n",
      "\u001b[34mINFO    \u001b[0m Using protein names from adata.uns\u001b[1m[\u001b[0m\u001b[32m'protein_names'\u001b[0m\u001b[1m]\u001b[0m                                 \n",
      "\u001b[34mINFO    \u001b[0m Successfully registered anndata object containing \u001b[1;34m400\u001b[0m cells, \u001b[1;34m100\u001b[0m vars, \u001b[1;34m2\u001b[0m batches, \u001b[1;34m3\u001b[0m \n",
      "         labels, and \u001b[1;34m100\u001b[0m proteins. Also registered \u001b[1;34m1\u001b[0m extra categorical covariates and \u001b[1;34m1\u001b[0m extra\n",
      "         continuous covariates.                                                              \n",
      "\u001b[34mINFO    \u001b[0m Please do not further modify adata until model is trained.                          \n"
     ]
    },
    {
     "name": "stderr",
     "output_type": "stream",
     "text": [
      "/home/galen/.pyenv/versions/scvi-dev/lib/python3.8/site-packages/pandas/core/arrays/categorical.py:2487: FutureWarning: The `inplace` parameter in pandas.Categorical.remove_unused_categories is deprecated and will be removed in a future version.\n",
      "  res = method(*args, **kwargs)\n",
      "/home/galen/.pyenv/versions/scvi-dev/lib/python3.8/site-packages/pandas/core/arrays/categorical.py:2487: FutureWarning: The `inplace` parameter in pandas.Categorical.remove_unused_categories is deprecated and will be removed in a future version.\n",
      "  res = method(*args, **kwargs)\n"
     ]
    }
   ],
   "source": [
    "scvi.data.setup_anndata(adata, \n",
    "                        batch_key='batch', \n",
    "                        labels_key='labels', \n",
    "                        layer='raw_counts', \n",
    "                        protein_expression_obsm_key='protein_expression', \n",
    "                        protein_names_uns_key='protein_names', \n",
    "                        categorical_covariate_keys=['my_categorical_covariate'], \n",
    "                        continuous_covariate_keys=['my_continuous_covariate'],\n",
    "                       )"
   ]
  },
  {
   "cell_type": "markdown",
   "id": "political-dubai",
   "metadata": {},
   "source": [
    "We can view what was registered via the `scvi.data.view_anndata_setup()` command."
   ]
  },
  {
   "cell_type": "code",
   "execution_count": 5,
   "id": "entitled-medicare",
   "metadata": {},
   "outputs": [
    {
     "data": {
      "text/html": [
       "<pre style=\"white-space:pre;overflow-x:auto;line-height:normal;font-family:Menlo,'DejaVu Sans Mono',consolas,'Courier New',monospace\">Anndata setup with scvi-tools version <span style=\"color: #000080; font-weight: bold\">0.0</span>.<span style=\"color: #000080; font-weight: bold\">0</span>.\n",
       "</pre>\n"
      ],
      "text/plain": [
       "<rich.jupyter.JupyterRenderable at 0x7f3ea5ffa490>"
      ]
     },
     "metadata": {},
     "output_type": "display_data"
    },
    {
     "data": {
      "text/html": [
       "<pre style=\"white-space:pre;overflow-x:auto;line-height:normal;font-family:Menlo,'DejaVu Sans Mono',consolas,'Courier New',monospace\"><span style=\"font-style: italic\">              Data Summary              </span>\n",
       "┏━━━━━━━━━━━━━━━━━━━━━━━━━━━━━━┳━━━━━━━┓\n",
       "┃<span style=\"font-weight: bold\">             Data             </span>┃<span style=\"font-weight: bold\"> Count </span>┃\n",
       "┡━━━━━━━━━━━━━━━━━━━━━━━━━━━━━━╇━━━━━━━┩\n",
       "│<span style=\"color: #0087ff\">            Cells             </span>│<span style=\"color: #af00d7\">  400  </span>│\n",
       "│<span style=\"color: #0087ff\">             Vars             </span>│<span style=\"color: #af00d7\">  100  </span>│\n",
       "│<span style=\"color: #0087ff\">            Labels            </span>│<span style=\"color: #af00d7\">   3   </span>│\n",
       "│<span style=\"color: #0087ff\">           Batches            </span>│<span style=\"color: #af00d7\">   2   </span>│\n",
       "│<span style=\"color: #0087ff\">           Proteins           </span>│<span style=\"color: #af00d7\">  100  </span>│\n",
       "│<span style=\"color: #0087ff\"> Extra Categorical Covariates </span>│<span style=\"color: #af00d7\">   1   </span>│\n",
       "│<span style=\"color: #0087ff\"> Extra Continuous Covariates  </span>│<span style=\"color: #af00d7\">   1   </span>│\n",
       "└──────────────────────────────┴───────┘\n",
       "</pre>\n"
      ],
      "text/plain": [
       "<rich.jupyter.JupyterRenderable at 0x7f3ea5ffaee0>"
      ]
     },
     "metadata": {},
     "output_type": "display_data"
    },
    {
     "data": {
      "text/html": [
       "<pre style=\"white-space:pre;overflow-x:auto;line-height:normal;font-family:Menlo,'DejaVu Sans Mono',consolas,'Courier New',monospace\"><span style=\"font-style: italic\">                      SCVI Data Registry                       </span>\n",
       "┏━━━━━━━━━━━━━━━━━━━━┳━━━━━━━━━━━━━━━━━━━━━━━━━━━━━━━━━━━━━━━━┓\n",
       "┃<span style=\"font-weight: bold\">        Data        </span>┃<span style=\"font-weight: bold\">          scvi-tools Location           </span>┃\n",
       "┡━━━━━━━━━━━━━━━━━━━━╇━━━━━━━━━━━━━━━━━━━━━━━━━━━━━━━━━━━━━━━━┩\n",
       "│<span style=\"color: #0087ff\">         X          </span>│<span style=\"color: #af00d7\">       adata.layers['raw_counts']       </span>│\n",
       "│<span style=\"color: #0087ff\">   batch_indices    </span>│<span style=\"color: #af00d7\">        adata.obs['_scvi_batch']        </span>│\n",
       "│<span style=\"color: #0087ff\">    local_l_mean    </span>│<span style=\"color: #af00d7\">    adata.obs['_scvi_local_l_mean']     </span>│\n",
       "│<span style=\"color: #0087ff\">    local_l_var     </span>│<span style=\"color: #af00d7\">     adata.obs['_scvi_local_l_var']     </span>│\n",
       "│<span style=\"color: #0087ff\">       labels       </span>│<span style=\"color: #af00d7\">       adata.obs['_scvi_labels']        </span>│\n",
       "│<span style=\"color: #0087ff\"> protein_expression </span>│<span style=\"color: #af00d7\">    adata.obsm['protein_expression']    </span>│\n",
       "│<span style=\"color: #0087ff\">      cat_covs      </span>│<span style=\"color: #af00d7\"> adata.obsm['_scvi_extra_categoricals'] </span>│\n",
       "│<span style=\"color: #0087ff\">     cont_covs      </span>│<span style=\"color: #af00d7\">  adata.obsm['_scvi_extra_continuous']  </span>│\n",
       "└────────────────────┴────────────────────────────────────────┘\n",
       "</pre>\n"
      ],
      "text/plain": [
       "<rich.jupyter.JupyterRenderable at 0x7f3ef251efd0>"
      ]
     },
     "metadata": {},
     "output_type": "display_data"
    },
    {
     "data": {
      "text/html": [
       "<pre style=\"white-space:pre;overflow-x:auto;line-height:normal;font-family:Menlo,'DejaVu Sans Mono',consolas,'Courier New',monospace\"><span style=\"font-style: italic\">                     Label Categories                     </span>\n",
       "┏━━━━━━━━━━━━━━━━━━━━━┳━━━━━━━━━━━━┳━━━━━━━━━━━━━━━━━━━━━┓\n",
       "┃<span style=\"font-weight: bold\">   Source Location   </span>┃<span style=\"font-weight: bold\"> Categories </span>┃<span style=\"font-weight: bold\"> scvi-tools Encoding </span>┃\n",
       "┡━━━━━━━━━━━━━━━━━━━━━╇━━━━━━━━━━━━╇━━━━━━━━━━━━━━━━━━━━━┩\n",
       "│<span style=\"color: #0087ff\"> adata.obs['labels'] </span>│<span style=\"color: #008000\">  label_0   </span>│<span style=\"color: #af00d7\">          0          </span>│\n",
       "│<span style=\"color: #0087ff\">                     </span>│<span style=\"color: #008000\">  label_1   </span>│<span style=\"color: #af00d7\">          1          </span>│\n",
       "│<span style=\"color: #0087ff\">                     </span>│<span style=\"color: #008000\">  label_2   </span>│<span style=\"color: #af00d7\">          2          </span>│\n",
       "└─────────────────────┴────────────┴─────────────────────┘\n",
       "</pre>\n"
      ],
      "text/plain": [
       "<rich.jupyter.JupyterRenderable at 0x7f3ef258eee0>"
      ]
     },
     "metadata": {},
     "output_type": "display_data"
    },
    {
     "data": {
      "text/html": [
       "<pre style=\"white-space:pre;overflow-x:auto;line-height:normal;font-family:Menlo,'DejaVu Sans Mono',consolas,'Courier New',monospace\"><span style=\"font-style: italic\">                    Batch Categories                     </span>\n",
       "┏━━━━━━━━━━━━━━━━━━━━┳━━━━━━━━━━━━┳━━━━━━━━━━━━━━━━━━━━━┓\n",
       "┃<span style=\"font-weight: bold\">  Source Location   </span>┃<span style=\"font-weight: bold\"> Categories </span>┃<span style=\"font-weight: bold\"> scvi-tools Encoding </span>┃\n",
       "┡━━━━━━━━━━━━━━━━━━━━╇━━━━━━━━━━━━╇━━━━━━━━━━━━━━━━━━━━━┩\n",
       "│<span style=\"color: #0087ff\"> adata.obs['batch'] </span>│<span style=\"color: #008000\">  batch_0   </span>│<span style=\"color: #af00d7\">          0          </span>│\n",
       "│<span style=\"color: #0087ff\">                    </span>│<span style=\"color: #008000\">  batch_1   </span>│<span style=\"color: #af00d7\">          1          </span>│\n",
       "└────────────────────┴────────────┴─────────────────────┘\n",
       "</pre>\n"
      ],
      "text/plain": [
       "<rich.jupyter.JupyterRenderable at 0x7f3ef251efd0>"
      ]
     },
     "metadata": {},
     "output_type": "display_data"
    },
    {
     "data": {
      "text/html": [
       "<pre style=\"white-space:pre;overflow-x:auto;line-height:normal;font-family:Menlo,'DejaVu Sans Mono',consolas,'Courier New',monospace\"><span style=\"font-style: italic\">                        Extra Categorical Variables                         </span>\n",
       "┏━━━━━━━━━━━━━━━━━━━━━━━━━━━━━━━━━━━━━━━┳━━━━━━━━━━━━┳━━━━━━━━━━━━━━━━━━━━━┓\n",
       "┃<span style=\"font-weight: bold\">            Source Location            </span>┃<span style=\"font-weight: bold\"> Categories </span>┃<span style=\"font-weight: bold\"> scvi-tools Encoding </span>┃\n",
       "┡━━━━━━━━━━━━━━━━━━━━━━━━━━━━━━━━━━━━━━━╇━━━━━━━━━━━━╇━━━━━━━━━━━━━━━━━━━━━┩\n",
       "│<span style=\"color: #0087ff\"> adata.obs['my_categorical_covariate'] </span>│<span style=\"color: #008000\">     A      </span>│<span style=\"color: #af00d7\">          0          </span>│\n",
       "│<span style=\"color: #0087ff\">                                       </span>│<span style=\"color: #008000\">     B      </span>│<span style=\"color: #af00d7\">          1          </span>│\n",
       "│<span style=\"color: #0087ff\">                                       </span>│<span style=\"color: #008000\">            </span>│<span style=\"color: #af00d7\">                     </span>│\n",
       "└───────────────────────────────────────┴────────────┴─────────────────────┘\n",
       "</pre>\n"
      ],
      "text/plain": [
       "<rich.jupyter.JupyterRenderable at 0x7f3ef258eee0>"
      ]
     },
     "metadata": {},
     "output_type": "display_data"
    },
    {
     "data": {
      "text/html": [
       "<pre style=\"white-space:pre;overflow-x:auto;line-height:normal;font-family:Menlo,'DejaVu Sans Mono',consolas,'Courier New',monospace\"><span style=\"font-style: italic\">            Extra Continuous Variables            </span>\n",
       "┏━━━━━━━━━━━━━━━━━━━━━━━━━━━━━━━━━━━━━━┳━━━━━━━━━┓\n",
       "┃<span style=\"font-weight: bold\">           Source Location            </span>┃<span style=\"font-weight: bold\">  Range  </span>┃\n",
       "┡━━━━━━━━━━━━━━━━━━━━━━━━━━━━━━━━━━━━━━╇━━━━━━━━━┩\n",
       "│<span style=\"color: #0087ff\"> adata.obs['my_continuous_covariate'] </span>│<span style=\"color: #af00d7\"> 0 -&gt; 99 </span>│\n",
       "└──────────────────────────────────────┴─────────┘\n",
       "</pre>\n"
      ],
      "text/plain": [
       "<rich.jupyter.JupyterRenderable at 0x7f3ef251efd0>"
      ]
     },
     "metadata": {},
     "output_type": "display_data"
    }
   ],
   "source": [
    "scvi.data.view_anndata_setup(adata)"
   ]
  },
  {
   "cell_type": "markdown",
   "id": "thousand-month",
   "metadata": {},
   "source": [
    "If there are other tensors in the anndata you need to register, you can use the `scvi.data.register_tensor_from_anndata()` command. \n",
    "\n",
    "In the following code we add a new field to our AnnData with the key **extra_values**. Then we register the tensor with `register_tensor_from_anndata()` by passing the adata (`adata=adata`), the datafield of the key we want to register (`adata_attr_name='obs'`), the key we wish to register (`adata_key_name=\"extra_values\"`), and the key to access the data when it is loaded via the dataloader (`registry_key='_extra_values'`)"
   ]
  },
  {
   "cell_type": "code",
   "execution_count": 6,
   "id": "coupled-rendering",
   "metadata": {},
   "outputs": [],
   "source": [
    "key = 'extra_values'\n",
    "adata.obs[key] = np.random.randint(0,10, 400)\n",
    "\n",
    "scvi.data.register_tensor_from_anndata(adata=adata, \n",
    "                                       adata_attr_name='obs',\n",
    "                                       adata_key_name=key,\n",
    "                                       registry_key='_extra_values',\n",
    "                                      )"
   ]
  },
  {
   "cell_type": "markdown",
   "id": "musical-player",
   "metadata": {},
   "source": [
    "## 2. DataLoaders\n",
    "\n",
    "AnnDataLoader is the base dataloader for scvi-tools. In this section we show how the data we registered in the previous section is loaded by AnnDataLoader.\n",
    "\n",
    "First, we construct an AnnDataLoader and get the first batch. Then we will enumerate all the values in the batch."
   ]
  },
  {
   "cell_type": "code",
   "execution_count": 7,
   "id": "cognitive-traveler",
   "metadata": {},
   "outputs": [],
   "source": [
    "from scvi.dataloaders._ann_dataloader import AnnDataLoader\n",
    "from scvi import _CONSTANTS\n",
    "\n",
    "# initialize an AnnDataLoader which will iterate over our anndata\n",
    "adl = AnnDataLoader(adata, batch_size = 10)\n",
    "\n",
    "# get the first batch of data\n",
    "data_batch = next(tensors for tensors in adl)"
   ]
  },
  {
   "cell_type": "markdown",
   "id": "corporate-namibia",
   "metadata": {},
   "source": [
    "The variable **data_batch** contains the first batch of data. It is a dictionary whose values are the tensors registered in the previous section via `setup_anndata()` and `register_tensor_from_anndata()`. \n",
    "\n",
    "For tensors setup with `setup_anndata()` the keys are from `scvi._CONSTANTS`. For tensors setup with `register_tensor_from_anndata()`, the keys are the values passed to `registry_key`."
   ]
  },
  {
   "cell_type": "code",
   "execution_count": 8,
   "id": "universal-scanner",
   "metadata": {},
   "outputs": [
    {
     "name": "stdout",
     "output_type": "stream",
     "text": [
      "data_batch_keys:\n",
      "dict_keys(['X', 'batch_indices', 'local_l_mean', 'local_l_var', 'labels', 'protein_expression', 'cat_covs', 'cont_covs', '_extra_values'])\n"
     ]
    }
   ],
   "source": [
    "print('data_batch_keys:')\n",
    "print(data_batch.keys())"
   ]
  },
  {
   "cell_type": "markdown",
   "id": "ideal-slovenia",
   "metadata": {},
   "source": [
    "The values in data_batch that were registered via `setup_anndata()` can be accessed via `scvi._CONSTANTS`"
   ]
  },
  {
   "cell_type": "code",
   "execution_count": 9,
   "id": "unauthorized-performer",
   "metadata": {},
   "outputs": [
    {
     "name": "stdout",
     "output_type": "stream",
     "text": [
      "X\n",
      "batch_indices\n",
      "local_l_mean\n",
      "local_l_var\n",
      "labels\n",
      "protein_expression\n",
      "cat_covs\n",
      "cont_covs\n"
     ]
    }
   ],
   "source": [
    "print(_CONSTANTS.X_KEY)                 # key for X values\n",
    "print(_CONSTANTS.BATCH_KEY)             # key for batch info\n",
    "print(_CONSTANTS.LOCAL_L_MEAN_KEY)      # key for mean of batch specific log library size\n",
    "print(_CONSTANTS.LOCAL_L_VAR_KEY)       # key for variance of batch specific log library size\n",
    "print(_CONSTANTS.LABELS_KEY)            # key for label data\n",
    "print(_CONSTANTS.PROTEIN_EXP_KEY)       # key for protein data\n",
    "print(_CONSTANTS.CAT_COVS_KEY)          # key for categorical covariate data\n",
    "print(_CONSTANTS.CONT_COVS_KEY)         # key for continuous covariate data"
   ]
  },
  {
   "cell_type": "markdown",
   "id": "quiet-lincoln",
   "metadata": {},
   "source": [
    "If we look at the labels for the first batch from the data loader, it corresponds to the labels of the first 10 cells of our AnnData. "
   ]
  },
  {
   "cell_type": "code",
   "execution_count": 10,
   "id": "juvenile-elimination",
   "metadata": {},
   "outputs": [
    {
     "data": {
      "text/plain": [
       "0    label_2\n",
       "1    label_2\n",
       "2    label_0\n",
       "3    label_0\n",
       "4    label_2\n",
       "5    label_0\n",
       "6    label_2\n",
       "7    label_0\n",
       "8    label_2\n",
       "9    label_1\n",
       "Name: labels, dtype: category\n",
       "Categories (3, object): ['label_0', 'label_1', 'label_2']"
      ]
     },
     "execution_count": 10,
     "metadata": {},
     "output_type": "execute_result"
    }
   ],
   "source": [
    "adata.obs['labels'][:10]"
   ]
  },
  {
   "cell_type": "code",
   "execution_count": 11,
   "id": "academic-lawrence",
   "metadata": {},
   "outputs": [
    {
     "data": {
      "text/plain": [
       "tensor([[2.],\n",
       "        [2.],\n",
       "        [0.],\n",
       "        [0.],\n",
       "        [2.],\n",
       "        [0.],\n",
       "        [2.],\n",
       "        [0.],\n",
       "        [2.],\n",
       "        [1.]])"
      ]
     },
     "execution_count": 11,
     "metadata": {},
     "output_type": "execute_result"
    }
   ],
   "source": [
    "# setup_anndata automatically encoded the categorical labels as integers\n",
    "data_batch[_CONSTANTS.LABELS_KEY] "
   ]
  },
  {
   "cell_type": "code",
   "execution_count": 12,
   "id": "resident-regular",
   "metadata": {},
   "outputs": [
    {
     "name": "stdout",
     "output_type": "stream",
     "text": [
      "torch.Size([10, 100])\n",
      "torch.Size([10, 1])\n"
     ]
    }
   ],
   "source": [
    "print(data_batch[_CONSTANTS.X_KEY].shape) #shape is batch_size x n_genes\n",
    "print(data_batch[_CONSTANTS.BATCH_KEY].shape) #shape is batch_size x 1"
   ]
  },
  {
   "cell_type": "markdown",
   "id": "excessive-dictionary",
   "metadata": {},
   "source": [
    "For the tensor we registered via `register_tensor_from_anndata()`, the key is the value passed to the `registry_key`argument, which in our case was `_extra_values`."
   ]
  },
  {
   "cell_type": "code",
   "execution_count": 13,
   "id": "acquired-housing",
   "metadata": {},
   "outputs": [
    {
     "data": {
      "text/plain": [
       "0    4\n",
       "1    8\n",
       "2    0\n",
       "3    5\n",
       "4    6\n",
       "5    1\n",
       "6    2\n",
       "7    7\n",
       "8    6\n",
       "9    9\n",
       "Name: extra_values, dtype: int64"
      ]
     },
     "execution_count": 13,
     "metadata": {},
     "output_type": "execute_result"
    }
   ],
   "source": [
    "adata.obs[:10]['extra_values']"
   ]
  },
  {
   "cell_type": "code",
   "execution_count": 14,
   "id": "destroyed-williams",
   "metadata": {},
   "outputs": [
    {
     "data": {
      "text/plain": [
       "tensor([[4.],\n",
       "        [8.],\n",
       "        [0.],\n",
       "        [5.],\n",
       "        [6.],\n",
       "        [1.],\n",
       "        [2.],\n",
       "        [7.],\n",
       "        [6.],\n",
       "        [9.]])"
      ]
     },
     "execution_count": 14,
     "metadata": {},
     "output_type": "execute_result"
    }
   ],
   "source": [
    "data_batch['_extra_values']"
   ]
  },
  {
   "cell_type": "code",
   "execution_count": null,
   "id": "accessible-exploration",
   "metadata": {},
   "outputs": [],
   "source": []
  }
 ],
 "metadata": {
  "kernelspec": {
   "display_name": "Python 3.8.3 64-bit ('scvi-dev': venv)",
   "language": "python",
   "name": "python38364bitscvidevvenv4fb90fe562ab4b5189ac0b527fd52a97"
  },
  "language_info": {
   "codemirror_mode": {
    "name": "ipython",
    "version": 3
   },
   "file_extension": ".py",
   "mimetype": "text/x-python",
   "name": "python",
   "nbconvert_exporter": "python",
   "pygments_lexer": "ipython3",
   "version": "3.8.3"
  }
 },
 "nbformat": 4,
 "nbformat_minor": 5
}
