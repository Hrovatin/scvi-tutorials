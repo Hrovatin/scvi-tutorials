{
 "cells": [
  {
   "cell_type": "markdown",
   "id": "critical-vitamin",
   "metadata": {},
   "source": [
    "# Data handling in scvi-tools\n",
    "\n",
    "In this tutorial we will cover how data is handled in scvi-tools. \n",
    "\n",
    "Sections:\n",
    "\n",
    "1. Data Registration via `setup_anndata()`.\n",
    "2. Introduction to the `registry` comprised of `data_registry`, `state_registry`, and `summary_stats`.\n",
    "3. Explanation of `AnnDataField` classes and how they populate the `registry` via the `AnnDataManager`.\n",
    "3. Data loading with `AnnDataLoader()`."
   ]
  },
  {
   "cell_type": "code",
   "execution_count": 1,
   "id": "formed-cleaners",
   "metadata": {},
   "outputs": [],
   "source": [
    "import sys\n",
    "\n",
    "#if branch is stable, will install via pypi, else will install from source\n",
    "branch = \"stable\"\n",
    "IN_COLAB = \"google.colab\" in sys.modules\n",
    "\n",
    "if IN_COLAB and branch == \"stable\":\n",
    "    !pip install --quiet scvi-tools[tutorials]\n",
    "elif IN_COLAB and branch != \"stable\":\n",
    "    !pip install --quiet --upgrade jsonschema\n",
    "    !pip install --quiet git+https://github.com/yoseflab/scvi-tools@$branch#egg=scvi-tools[tutorials]"
   ]
  },
  {
   "cell_type": "code",
   "execution_count": 2,
   "id": "confidential-profession",
   "metadata": {},
   "outputs": [
    {
     "name": "stderr",
     "output_type": "stream",
     "text": [
      "Global seed set to 0\n",
      "/Users/jhong/miniforge3/envs/scvi-env/lib/python3.9/site-packages/docrep/decorators.py:43: SyntaxWarning: 'param_size_factor_key' is not a valid key!\n",
      "  doc = func(self, args[0].__doc__, *args[1:], **kwargs)\n"
     ]
    }
   ],
   "source": [
    "import scvi\n",
    "from scvi import REGISTRY_KEYS\n",
    "import numpy as np"
   ]
  },
  {
   "cell_type": "markdown",
   "id": "fewer-growth",
   "metadata": {},
   "source": [
    "## 1. Data Registration\n",
    "\n",
    "Scvi-tools knows what data to load into models via a data registration process handled by `setup_anndata()`. \n",
    "\n",
    "The setup process produces an `AnnDataManager` object which wraps the `AnnData` object and creates a corresponding `registry`. We will go over the `registry` in subsequent sections.\n",
    "\n",
    "`setup_anndata()` is used to setup data fields specific to each model.\n",
    "\n",
    "Here we will go over the parameters of one instance of a `setup_anndata()` method, `scvi.model.SCVI.setup_anndata()`:\n",
    "\n",
    "- `adata` is the input `AnnData` object.\n",
    "- `layer` is the key in `adata.layers` to use for the input data matrix. By default, this is None and the input data matrix will be pulled from `adata.X`. \n",
    "- `batch_key` is the key in `adata.obs` for batch information. If this is None, will assume that all the data is the same batch.\n",
    "- `labels_key` is the key in `adata.obs` for label information. If this is None, will assume that all the data has the same label.\n",
    "- `size_factor_key` is the key in `adata.obs` that optionally stores size factors for computing the likelihood. If this is None, the library size is used to compute the size factor.\n",
    "- `categorical_covariate_keys` is a list of keys in `adata.obs` for categorical covariates.\n",
    "- `continuous_covariate_key` is a list of keys in `adata.obs` for continuous covariates. \n",
    "\n",
    "Under the hood:\n",
    "\n",
    "- For all categorical data (batch, labels, categorical covariates), scvi will automatically compute a mapping from values to integers. Eg. `['a','b','c','a']` will become `[0,1,2,0]`.\n",
    "- For data fields registered with `scvi.model.SCVI.setup_anndata()`, scvi will copy the data to a seperate field in the anndata. \n",
    "    - `batch_key` is copied to `scvi.obs['_scvi_batch']` with its integer encoding\n",
    "    - `labels_key` is copied to `scvi.obs['_scvi_labels']` with its integer encoding\n",
    "    - keys in `categorical_covariate_keys` are concatenated and saved as a pandas DataFrame and stored in `adata.obsm['_scvi_extra_categorical_covs']` with its integer encoding.\n",
    "    - keys in `continuous_covariate_keys` are concatenated and saved as a pandas DataFrame and stored in `adata.obsm['_scvi_extra_continuous_covs']`\n",
    "\n",
    "These preprocessing steps are detailed in the `register_field()` function of the `AnnDataField` subclasses representing each data field. Later in this tutorial we will go over how these `AnnDataField` objects tie into the `AnnDataManager` and how they are defined.\n",
    "\n",
    "In the following code, we first format an example AnnData Object to setup for scvi-tools, then call `scvi.model.SCVI.setup_anndata()` to register all the tensors we want to load to the model during training. \n",
    "For our example AnnData Object, we build off the `synthetic_iid()` dataset, copy X to a layer, and add continuous and categorical covariates to the AnnData."
   ]
  },
  {
   "cell_type": "code",
   "execution_count": 3,
   "id": "south-enclosure",
   "metadata": {},
   "outputs": [
    {
     "name": "stdout",
     "output_type": "stream",
     "text": [
      "AnnData object with n_obs × n_vars = 400 × 100\n",
      "    obs: 'batch', 'labels', 'my_categorical_covariate', 'my_continuous_covariate'\n",
      "    uns: 'protein_names'\n",
      "    obsm: 'protein_expression'\n",
      "    layers: 'raw_counts'\n"
     ]
    }
   ],
   "source": [
    "adata = scvi.data.synthetic_iid()\n",
    "adata.layers['raw_counts'] = adata.X.copy()\n",
    "adata.obs['my_categorical_covariate'] = ['A'] * 200 + ['B'] * 200\n",
    "adata.obs['my_continuous_covariate'] = np.random.randint(0,100,400)\n",
    "print(adata)"
   ]
  },
  {
   "cell_type": "code",
   "execution_count": 4,
   "id": "through-postcard",
   "metadata": {},
   "outputs": [],
   "source": [
    "scvi.model.SCVI.setup_anndata(\n",
    "    adata,\n",
    "    batch_key=\"batch\",\n",
    "    labels_key=\"labels\",\n",
    "    layer=\"raw_counts\",\n",
    "    categorical_covariate_keys=[\"my_categorical_covariate\"],\n",
    "    continuous_covariate_keys=[\"my_continuous_covariate\"],\n",
    ")"
   ]
  },
  {
   "cell_type": "markdown",
   "id": "1c53b21e",
   "metadata": {},
   "source": [
    "Under the hood, this method creates an `AnnDataManager` instance and stores it in a model-specific manager store until a model is initialized with the same `AnnData` object. We will go over this in detail in section 3 of this tutorial."
   ]
  },
  {
   "cell_type": "markdown",
   "id": "physical-johnston",
   "metadata": {},
   "source": [
    "## 2. Model Registry\n",
    "\n",
    "In this section we enumerate the fields in the model registry in the case of `scvi.model.SCVI`. The registry takes the form of a nested dictionary and is stored as an instance variable of a model, `model.registry_`. This is a pointer to the registry on the `AnnDataManager` object created by `setup_anndata()`, `model.adata_manager.registry`.\n",
    "\n",
    "The top level of the registry contains the following keys:\n",
    "\n",
    "- `scvi_version` keeps track of the version of scvi-tools used to setup the AnnData Object.\n",
    "- `model_name` and `setup_args` keep track of the model and arguments used to run `setup_anndata()`.\n",
    "- `field_registries` is dictionary which maps registry keys (e.g. `batch`, `labels`) to additional field-specific information.\n",
    "\n",
    "Within each field registry, there the following three keys:\n",
    "- `data_registry` contains the location of data to load. This is what is used by the DataLoaders to iterate over the AnnData.\n",
    "- `state_registry` contains any state (e.g. categorical mappings for batch) relevant to the field during `register_field()`.\n",
    "- `summary_stats` contains summary statistics relevant to the field."
   ]
  },
  {
   "cell_type": "markdown",
   "id": "2baae67b",
   "metadata": {},
   "source": [
    "We can view a summary of a registry by running `view_anndata_setup()`."
   ]
  },
  {
   "cell_type": "code",
   "execution_count": 10,
   "id": "entertaining-degree",
   "metadata": {},
   "outputs": [
    {
     "name": "stdout",
     "output_type": "stream",
     "text": [
      "dict_keys(['scvi_version', 'model_name', 'setup_kwargs', 'field_registries', '_scvi_uuid'])\n"
     ]
    }
   ],
   "source": [
    "model = scvi.model.SCVI(adata)\n",
    "registry = model.adata_manager.registry\n",
    "print(registry.keys()) # There is additionally a _scvi_uuid key which is used to uniquely identify AnnData objects for subsequent retrieval."
   ]
  },
  {
   "cell_type": "code",
   "execution_count": 11,
   "id": "a39faeb8",
   "metadata": {},
   "outputs": [
    {
     "data": {
      "text/html": [
       "<pre style=\"white-space:pre;overflow-x:auto;line-height:normal;font-family:Menlo,'DejaVu Sans Mono',consolas,'Courier New',monospace\">Anndata setup with scvi-tools version <span style=\"color: #008080; text-decoration-color: #008080; font-weight: bold\">0.15</span>.0a0.\n",
       "</pre>\n"
      ],
      "text/plain": [
       "Anndata setup with scvi-tools version \u001b[1;36m0.15\u001b[0m.0a0.\n"
      ]
     },
     "metadata": {},
     "output_type": "display_data"
    },
    {
     "data": {
      "text/html": [
       "<pre style=\"white-space:pre;overflow-x:auto;line-height:normal;font-family:Menlo,'DejaVu Sans Mono',consolas,'Courier New',monospace\"><span style=\"font-style: italic\">         Summary Statistics         </span>\n",
       "┏━━━━━━━━━━━━━━━━━━━━━━━━━━┳━━━━━━━┓\n",
       "┃<span style=\"font-weight: bold\">     Summary Stat Key     </span>┃<span style=\"font-weight: bold\"> Value </span>┃\n",
       "┡━━━━━━━━━━━━━━━━━━━━━━━━━━╇━━━━━━━┩\n",
       "│<span style=\"color: #0087ff; text-decoration-color: #0087ff\">         n_cells          </span>│<span style=\"color: #af00d7; text-decoration-color: #af00d7\">  400  </span>│\n",
       "│<span style=\"color: #0087ff; text-decoration-color: #0087ff\">          n_vars          </span>│<span style=\"color: #af00d7; text-decoration-color: #af00d7\">  100  </span>│\n",
       "│<span style=\"color: #0087ff; text-decoration-color: #0087ff\">         n_batch          </span>│<span style=\"color: #af00d7; text-decoration-color: #af00d7\">   2   </span>│\n",
       "│<span style=\"color: #0087ff; text-decoration-color: #0087ff\">         n_labels         </span>│<span style=\"color: #af00d7; text-decoration-color: #af00d7\">   3   </span>│\n",
       "│<span style=\"color: #0087ff; text-decoration-color: #0087ff\"> n_extra_categorical_covs </span>│<span style=\"color: #af00d7; text-decoration-color: #af00d7\">   1   </span>│\n",
       "│<span style=\"color: #0087ff; text-decoration-color: #0087ff\"> n_extra_continuous_covs  </span>│<span style=\"color: #af00d7; text-decoration-color: #af00d7\">   1   </span>│\n",
       "└──────────────────────────┴───────┘\n",
       "</pre>\n"
      ],
      "text/plain": [
       "\u001b[3m         Summary Statistics         \u001b[0m\n",
       "┏━━━━━━━━━━━━━━━━━━━━━━━━━━┳━━━━━━━┓\n",
       "┃\u001b[1m \u001b[0m\u001b[1m    Summary Stat Key    \u001b[0m\u001b[1m \u001b[0m┃\u001b[1m \u001b[0m\u001b[1mValue\u001b[0m\u001b[1m \u001b[0m┃\n",
       "┡━━━━━━━━━━━━━━━━━━━━━━━━━━╇━━━━━━━┩\n",
       "│\u001b[38;5;33m \u001b[0m\u001b[38;5;33m        n_cells         \u001b[0m\u001b[38;5;33m \u001b[0m│\u001b[38;5;128m \u001b[0m\u001b[38;5;128m 400 \u001b[0m\u001b[38;5;128m \u001b[0m│\n",
       "│\u001b[38;5;33m \u001b[0m\u001b[38;5;33m         n_vars         \u001b[0m\u001b[38;5;33m \u001b[0m│\u001b[38;5;128m \u001b[0m\u001b[38;5;128m 100 \u001b[0m\u001b[38;5;128m \u001b[0m│\n",
       "│\u001b[38;5;33m \u001b[0m\u001b[38;5;33m        n_batch         \u001b[0m\u001b[38;5;33m \u001b[0m│\u001b[38;5;128m \u001b[0m\u001b[38;5;128m  2  \u001b[0m\u001b[38;5;128m \u001b[0m│\n",
       "│\u001b[38;5;33m \u001b[0m\u001b[38;5;33m        n_labels        \u001b[0m\u001b[38;5;33m \u001b[0m│\u001b[38;5;128m \u001b[0m\u001b[38;5;128m  3  \u001b[0m\u001b[38;5;128m \u001b[0m│\n",
       "│\u001b[38;5;33m \u001b[0m\u001b[38;5;33mn_extra_categorical_covs\u001b[0m\u001b[38;5;33m \u001b[0m│\u001b[38;5;128m \u001b[0m\u001b[38;5;128m  1  \u001b[0m\u001b[38;5;128m \u001b[0m│\n",
       "│\u001b[38;5;33m \u001b[0m\u001b[38;5;33mn_extra_continuous_covs \u001b[0m\u001b[38;5;33m \u001b[0m│\u001b[38;5;128m \u001b[0m\u001b[38;5;128m  1  \u001b[0m\u001b[38;5;128m \u001b[0m│\n",
       "└──────────────────────────┴───────┘\n"
      ]
     },
     "metadata": {},
     "output_type": "display_data"
    },
    {
     "data": {
      "text/html": [
       "<pre style=\"white-space:pre;overflow-x:auto;line-height:normal;font-family:Menlo,'DejaVu Sans Mono',consolas,'Courier New',monospace\"><span style=\"font-style: italic\">                             Data Registry                             </span>\n",
       "┏━━━━━━━━━━━━━━━━━━━━━━━━┳━━━━━━━━━━━━━━━━━━━━━━━━━━━━━━━━━━━━━━━━━━━━┓\n",
       "┃<span style=\"font-weight: bold\">      Registry Key      </span>┃<span style=\"font-weight: bold\">            scvi-tools Location             </span>┃\n",
       "┡━━━━━━━━━━━━━━━━━━━━━━━━╇━━━━━━━━━━━━━━━━━━━━━━━━━━━━━━━━━━━━━━━━━━━━┩\n",
       "│<span style=\"color: #0087ff; text-decoration-color: #0087ff\">           X            </span>│<span style=\"color: #af00d7; text-decoration-color: #af00d7\">         adata.layers['raw_counts']         </span>│\n",
       "│<span style=\"color: #0087ff; text-decoration-color: #0087ff\">         batch          </span>│<span style=\"color: #af00d7; text-decoration-color: #af00d7\">          adata.obs['_scvi_batch']          </span>│\n",
       "│<span style=\"color: #0087ff; text-decoration-color: #0087ff\">         labels         </span>│<span style=\"color: #af00d7; text-decoration-color: #af00d7\">         adata.obs['_scvi_labels']          </span>│\n",
       "│<span style=\"color: #0087ff; text-decoration-color: #0087ff\"> extra_categorical_covs </span>│<span style=\"color: #af00d7; text-decoration-color: #af00d7\"> adata.obsm['_scvi_extra_categorical_covs'] </span>│\n",
       "│<span style=\"color: #0087ff; text-decoration-color: #0087ff\"> extra_continuous_covs  </span>│<span style=\"color: #af00d7; text-decoration-color: #af00d7\"> adata.obsm['_scvi_extra_continuous_covs']  </span>│\n",
       "└────────────────────────┴────────────────────────────────────────────┘\n",
       "</pre>\n"
      ],
      "text/plain": [
       "\u001b[3m                             Data Registry                             \u001b[0m\n",
       "┏━━━━━━━━━━━━━━━━━━━━━━━━┳━━━━━━━━━━━━━━━━━━━━━━━━━━━━━━━━━━━━━━━━━━━━┓\n",
       "┃\u001b[1m \u001b[0m\u001b[1m     Registry Key     \u001b[0m\u001b[1m \u001b[0m┃\u001b[1m \u001b[0m\u001b[1m           scvi-tools Location            \u001b[0m\u001b[1m \u001b[0m┃\n",
       "┡━━━━━━━━━━━━━━━━━━━━━━━━╇━━━━━━━━━━━━━━━━━━━━━━━━━━━━━━━━━━━━━━━━━━━━┩\n",
       "│\u001b[38;5;33m \u001b[0m\u001b[38;5;33m          X           \u001b[0m\u001b[38;5;33m \u001b[0m│\u001b[38;5;128m \u001b[0m\u001b[38;5;128m        adata.layers['raw_counts']        \u001b[0m\u001b[38;5;128m \u001b[0m│\n",
       "│\u001b[38;5;33m \u001b[0m\u001b[38;5;33m        batch         \u001b[0m\u001b[38;5;33m \u001b[0m│\u001b[38;5;128m \u001b[0m\u001b[38;5;128m         adata.obs['_scvi_batch']         \u001b[0m\u001b[38;5;128m \u001b[0m│\n",
       "│\u001b[38;5;33m \u001b[0m\u001b[38;5;33m        labels        \u001b[0m\u001b[38;5;33m \u001b[0m│\u001b[38;5;128m \u001b[0m\u001b[38;5;128m        adata.obs['_scvi_labels']         \u001b[0m\u001b[38;5;128m \u001b[0m│\n",
       "│\u001b[38;5;33m \u001b[0m\u001b[38;5;33mextra_categorical_covs\u001b[0m\u001b[38;5;33m \u001b[0m│\u001b[38;5;128m \u001b[0m\u001b[38;5;128madata.obsm['_scvi_extra_categorical_covs']\u001b[0m\u001b[38;5;128m \u001b[0m│\n",
       "│\u001b[38;5;33m \u001b[0m\u001b[38;5;33mextra_continuous_covs \u001b[0m\u001b[38;5;33m \u001b[0m│\u001b[38;5;128m \u001b[0m\u001b[38;5;128madata.obsm['_scvi_extra_continuous_covs'] \u001b[0m\u001b[38;5;128m \u001b[0m│\n",
       "└────────────────────────┴────────────────────────────────────────────┘\n"
      ]
     },
     "metadata": {},
     "output_type": "display_data"
    },
    {
     "data": {
      "text/html": [
       "<pre style=\"white-space:pre;overflow-x:auto;line-height:normal;font-family:Menlo,'DejaVu Sans Mono',consolas,'Courier New',monospace\"><span style=\"font-style: italic\">                  batch State Registry                   </span>\n",
       "┏━━━━━━━━━━━━━━━━━━━━┳━━━━━━━━━━━━┳━━━━━━━━━━━━━━━━━━━━━┓\n",
       "┃<span style=\"font-weight: bold\">  Source Location   </span>┃<span style=\"font-weight: bold\"> Categories </span>┃<span style=\"font-weight: bold\"> scvi-tools Encoding </span>┃\n",
       "┡━━━━━━━━━━━━━━━━━━━━╇━━━━━━━━━━━━╇━━━━━━━━━━━━━━━━━━━━━┩\n",
       "│<span style=\"color: #0087ff; text-decoration-color: #0087ff\"> adata.obs['batch'] </span>│<span style=\"color: #008000; text-decoration-color: #008000\">  batch_0   </span>│<span style=\"color: #af00d7; text-decoration-color: #af00d7\">          0          </span>│\n",
       "│<span style=\"color: #0087ff; text-decoration-color: #0087ff\">                    </span>│<span style=\"color: #008000; text-decoration-color: #008000\">  batch_1   </span>│<span style=\"color: #af00d7; text-decoration-color: #af00d7\">          1          </span>│\n",
       "└────────────────────┴────────────┴─────────────────────┘\n",
       "</pre>\n"
      ],
      "text/plain": [
       "\u001b[3m                  batch State Registry                   \u001b[0m\n",
       "┏━━━━━━━━━━━━━━━━━━━━┳━━━━━━━━━━━━┳━━━━━━━━━━━━━━━━━━━━━┓\n",
       "┃\u001b[1m \u001b[0m\u001b[1m Source Location  \u001b[0m\u001b[1m \u001b[0m┃\u001b[1m \u001b[0m\u001b[1mCategories\u001b[0m\u001b[1m \u001b[0m┃\u001b[1m \u001b[0m\u001b[1mscvi-tools Encoding\u001b[0m\u001b[1m \u001b[0m┃\n",
       "┡━━━━━━━━━━━━━━━━━━━━╇━━━━━━━━━━━━╇━━━━━━━━━━━━━━━━━━━━━┩\n",
       "│\u001b[38;5;33m \u001b[0m\u001b[38;5;33madata.obs['batch']\u001b[0m\u001b[38;5;33m \u001b[0m│\u001b[32m \u001b[0m\u001b[32m batch_0  \u001b[0m\u001b[32m \u001b[0m│\u001b[38;5;128m \u001b[0m\u001b[38;5;128m         0         \u001b[0m\u001b[38;5;128m \u001b[0m│\n",
       "│\u001b[38;5;33m \u001b[0m\u001b[38;5;33m                  \u001b[0m\u001b[38;5;33m \u001b[0m│\u001b[32m \u001b[0m\u001b[32m batch_1  \u001b[0m\u001b[32m \u001b[0m│\u001b[38;5;128m \u001b[0m\u001b[38;5;128m         1         \u001b[0m\u001b[38;5;128m \u001b[0m│\n",
       "└────────────────────┴────────────┴─────────────────────┘\n"
      ]
     },
     "metadata": {},
     "output_type": "display_data"
    },
    {
     "data": {
      "text/html": [
       "<pre style=\"white-space:pre;overflow-x:auto;line-height:normal;font-family:Menlo,'DejaVu Sans Mono',consolas,'Courier New',monospace\"><span style=\"font-style: italic\">                  labels State Registry                   </span>\n",
       "┏━━━━━━━━━━━━━━━━━━━━━┳━━━━━━━━━━━━┳━━━━━━━━━━━━━━━━━━━━━┓\n",
       "┃<span style=\"font-weight: bold\">   Source Location   </span>┃<span style=\"font-weight: bold\"> Categories </span>┃<span style=\"font-weight: bold\"> scvi-tools Encoding </span>┃\n",
       "┡━━━━━━━━━━━━━━━━━━━━━╇━━━━━━━━━━━━╇━━━━━━━━━━━━━━━━━━━━━┩\n",
       "│<span style=\"color: #0087ff; text-decoration-color: #0087ff\"> adata.obs['labels'] </span>│<span style=\"color: #008000; text-decoration-color: #008000\">  label_0   </span>│<span style=\"color: #af00d7; text-decoration-color: #af00d7\">          0          </span>│\n",
       "│<span style=\"color: #0087ff; text-decoration-color: #0087ff\">                     </span>│<span style=\"color: #008000; text-decoration-color: #008000\">  label_1   </span>│<span style=\"color: #af00d7; text-decoration-color: #af00d7\">          1          </span>│\n",
       "│<span style=\"color: #0087ff; text-decoration-color: #0087ff\">                     </span>│<span style=\"color: #008000; text-decoration-color: #008000\">  label_2   </span>│<span style=\"color: #af00d7; text-decoration-color: #af00d7\">          2          </span>│\n",
       "└─────────────────────┴────────────┴─────────────────────┘\n",
       "</pre>\n"
      ],
      "text/plain": [
       "\u001b[3m                  labels State Registry                   \u001b[0m\n",
       "┏━━━━━━━━━━━━━━━━━━━━━┳━━━━━━━━━━━━┳━━━━━━━━━━━━━━━━━━━━━┓\n",
       "┃\u001b[1m \u001b[0m\u001b[1m  Source Location  \u001b[0m\u001b[1m \u001b[0m┃\u001b[1m \u001b[0m\u001b[1mCategories\u001b[0m\u001b[1m \u001b[0m┃\u001b[1m \u001b[0m\u001b[1mscvi-tools Encoding\u001b[0m\u001b[1m \u001b[0m┃\n",
       "┡━━━━━━━━━━━━━━━━━━━━━╇━━━━━━━━━━━━╇━━━━━━━━━━━━━━━━━━━━━┩\n",
       "│\u001b[38;5;33m \u001b[0m\u001b[38;5;33madata.obs['labels']\u001b[0m\u001b[38;5;33m \u001b[0m│\u001b[32m \u001b[0m\u001b[32m label_0  \u001b[0m\u001b[32m \u001b[0m│\u001b[38;5;128m \u001b[0m\u001b[38;5;128m         0         \u001b[0m\u001b[38;5;128m \u001b[0m│\n",
       "│\u001b[38;5;33m \u001b[0m\u001b[38;5;33m                   \u001b[0m\u001b[38;5;33m \u001b[0m│\u001b[32m \u001b[0m\u001b[32m label_1  \u001b[0m\u001b[32m \u001b[0m│\u001b[38;5;128m \u001b[0m\u001b[38;5;128m         1         \u001b[0m\u001b[38;5;128m \u001b[0m│\n",
       "│\u001b[38;5;33m \u001b[0m\u001b[38;5;33m                   \u001b[0m\u001b[38;5;33m \u001b[0m│\u001b[32m \u001b[0m\u001b[32m label_2  \u001b[0m\u001b[32m \u001b[0m│\u001b[38;5;128m \u001b[0m\u001b[38;5;128m         2         \u001b[0m\u001b[38;5;128m \u001b[0m│\n",
       "└─────────────────────┴────────────┴─────────────────────┘\n"
      ]
     },
     "metadata": {},
     "output_type": "display_data"
    },
    {
     "data": {
      "text/html": [
       "<pre style=\"white-space:pre;overflow-x:auto;line-height:normal;font-family:Menlo,'DejaVu Sans Mono',consolas,'Courier New',monospace\"><span style=\"font-style: italic\">                   extra_categorical_covs State Registry                    </span>\n",
       "┏━━━━━━━━━━━━━━━━━━━━━━━━━━━━━━━━━━━━━━━┳━━━━━━━━━━━━┳━━━━━━━━━━━━━━━━━━━━━┓\n",
       "┃<span style=\"font-weight: bold\">            Source Location            </span>┃<span style=\"font-weight: bold\"> Categories </span>┃<span style=\"font-weight: bold\"> scvi-tools Encoding </span>┃\n",
       "┡━━━━━━━━━━━━━━━━━━━━━━━━━━━━━━━━━━━━━━━╇━━━━━━━━━━━━╇━━━━━━━━━━━━━━━━━━━━━┩\n",
       "│<span style=\"color: #0087ff; text-decoration-color: #0087ff\"> adata.obs['my_categorical_covariate'] </span>│<span style=\"color: #008000; text-decoration-color: #008000\">     A      </span>│<span style=\"color: #af00d7; text-decoration-color: #af00d7\">          0          </span>│\n",
       "│<span style=\"color: #0087ff; text-decoration-color: #0087ff\">                                       </span>│<span style=\"color: #008000; text-decoration-color: #008000\">     B      </span>│<span style=\"color: #af00d7; text-decoration-color: #af00d7\">          1          </span>│\n",
       "│<span style=\"color: #0087ff; text-decoration-color: #0087ff\">                                       </span>│<span style=\"color: #008000; text-decoration-color: #008000\">            </span>│<span style=\"color: #af00d7; text-decoration-color: #af00d7\">                     </span>│\n",
       "└───────────────────────────────────────┴────────────┴─────────────────────┘\n",
       "</pre>\n"
      ],
      "text/plain": [
       "\u001b[3m                   extra_categorical_covs State Registry                    \u001b[0m\n",
       "┏━━━━━━━━━━━━━━━━━━━━━━━━━━━━━━━━━━━━━━━┳━━━━━━━━━━━━┳━━━━━━━━━━━━━━━━━━━━━┓\n",
       "┃\u001b[1m \u001b[0m\u001b[1m           Source Location           \u001b[0m\u001b[1m \u001b[0m┃\u001b[1m \u001b[0m\u001b[1mCategories\u001b[0m\u001b[1m \u001b[0m┃\u001b[1m \u001b[0m\u001b[1mscvi-tools Encoding\u001b[0m\u001b[1m \u001b[0m┃\n",
       "┡━━━━━━━━━━━━━━━━━━━━━━━━━━━━━━━━━━━━━━━╇━━━━━━━━━━━━╇━━━━━━━━━━━━━━━━━━━━━┩\n",
       "│\u001b[38;5;33m \u001b[0m\u001b[38;5;33madata.obs['my_categorical_covariate']\u001b[0m\u001b[38;5;33m \u001b[0m│\u001b[32m \u001b[0m\u001b[32m    A     \u001b[0m\u001b[32m \u001b[0m│\u001b[38;5;128m \u001b[0m\u001b[38;5;128m         0         \u001b[0m\u001b[38;5;128m \u001b[0m│\n",
       "│\u001b[38;5;33m \u001b[0m\u001b[38;5;33m                                     \u001b[0m\u001b[38;5;33m \u001b[0m│\u001b[32m \u001b[0m\u001b[32m    B     \u001b[0m\u001b[32m \u001b[0m│\u001b[38;5;128m \u001b[0m\u001b[38;5;128m         1         \u001b[0m\u001b[38;5;128m \u001b[0m│\n",
       "│\u001b[38;5;33m \u001b[0m\u001b[38;5;33m                                     \u001b[0m\u001b[38;5;33m \u001b[0m│\u001b[32m \u001b[0m\u001b[32m          \u001b[0m\u001b[32m \u001b[0m│\u001b[38;5;128m \u001b[0m\u001b[38;5;128m                   \u001b[0m\u001b[38;5;128m \u001b[0m│\n",
       "└───────────────────────────────────────┴────────────┴─────────────────────┘\n"
      ]
     },
     "metadata": {},
     "output_type": "display_data"
    },
    {
     "data": {
      "text/html": [
       "<pre style=\"white-space:pre;overflow-x:auto;line-height:normal;font-family:Menlo,'DejaVu Sans Mono',consolas,'Courier New',monospace\"><span style=\"font-style: italic\">  extra_continuous_covs State Registry  </span>\n",
       "┏━━━━━━━━━━━━━━━━━━━━━━━━━━━━━━━━━━━━━━┓\n",
       "┃<span style=\"font-weight: bold\">           Source Location            </span>┃\n",
       "┡━━━━━━━━━━━━━━━━━━━━━━━━━━━━━━━━━━━━━━┩\n",
       "│<span style=\"color: #0087ff; text-decoration-color: #0087ff\"> adata.obs['my_continuous_covariate'] </span>│\n",
       "└──────────────────────────────────────┘\n",
       "</pre>\n"
      ],
      "text/plain": [
       "\u001b[3m  extra_continuous_covs State Registry  \u001b[0m\n",
       "┏━━━━━━━━━━━━━━━━━━━━━━━━━━━━━━━━━━━━━━┓\n",
       "┃\u001b[1m \u001b[0m\u001b[1m          Source Location           \u001b[0m\u001b[1m \u001b[0m┃\n",
       "┡━━━━━━━━━━━━━━━━━━━━━━━━━━━━━━━━━━━━━━┩\n",
       "│\u001b[38;5;33m \u001b[0m\u001b[38;5;33madata.obs['my_continuous_covariate']\u001b[0m\u001b[38;5;33m \u001b[0m│\n",
       "└──────────────────────────────────────┘\n"
      ]
     },
     "metadata": {},
     "output_type": "display_data"
    }
   ],
   "source": [
    "model.view_anndata_setup()"
   ]
  },
  {
   "cell_type": "markdown",
   "id": "2698e80d",
   "metadata": {},
   "source": [
    "The above summary incorporates all three of the components making up each field registry as mentioned before."
   ]
  },
  {
   "cell_type": "markdown",
   "id": "delayed-spirituality",
   "metadata": {},
   "source": [
    "### Data Registry\n",
    "First, lets turn our attention to the `data_registry`.\n",
    "\n",
    "This is used by the DataLoaders to load data during the data loop. Each key of the data_registry is the name of tensor and is used to retreive the data from the dataloader output.\n",
    "\n",
    "- All the data registered via `scvi.model.SCVI.setup_anndata()` has its keys globally set via `scvi.REGISTRY_KEYS` (we will see later that these can be user-defined keys as well).\n",
    "\n",
    "The value of each key in the data_registry is a dictionary with two keys: `attr_name` and `attr_key`. \n",
    "\n",
    "- `attr_name` is the attribute of `adata` to load data from eg. `obs`, `obsm`, `layers`.\n",
    "- `attr_key` is the key of the attribute to access the data.\n",
    "\n",
    "\n",
    "For example, based off the following data_registry, batch information is loaded from `adata.obs['_scvi_batch']` and will be accessible via `REGISTRY_KEYS.BATCH_KEY`."
   ]
  },
  {
   "cell_type": "markdown",
   "id": "27f489f6",
   "metadata": {},
   "source": [
    "While the data registry dictionary is stored within the `registry`, the `AnnDataManager` provides a helper method, `adata_manager.data_registry`, which coalesces the full data registry across each of the fields. This helper method additionally wraps the dictionary in a custom `attrdict` class which allows dictionary access via dot notation (e.g. `data_registry.batch.attr_name`)."
   ]
  },
  {
   "cell_type": "code",
   "execution_count": 15,
   "id": "suspected-bennett",
   "metadata": {},
   "outputs": [
    {
     "data": {
      "text/plain": [
       "attrdict({'X': attrdict({'attr_name': 'layers', 'attr_key': 'raw_counts'}), 'batch': attrdict({'attr_name': 'obs', 'attr_key': '_scvi_batch'}), 'labels': attrdict({'attr_name': 'obs', 'attr_key': '_scvi_labels'}), 'extra_categorical_covs': attrdict({'attr_name': 'obsm', 'attr_key': '_scvi_extra_categorical_covs'}), 'extra_continuous_covs': attrdict({'attr_name': 'obsm', 'attr_key': '_scvi_extra_continuous_covs'})})"
      ]
     },
     "execution_count": 15,
     "metadata": {},
     "output_type": "execute_result"
    }
   ],
   "source": [
    "data_registry = model.adata_manager.data_registry\n",
    "data_registry"
   ]
  },
  {
   "cell_type": "code",
   "execution_count": 16,
   "id": "alternative-assistant",
   "metadata": {},
   "outputs": [
    {
     "name": "stdout",
     "output_type": "stream",
     "text": [
      "X\n",
      "batch\n",
      "labels\n",
      "proteins\n",
      "extra_categorical_covs\n",
      "extra_continuous_covs\n"
     ]
    }
   ],
   "source": [
    "print(REGISTRY_KEYS.X_KEY)                 # key for X values\n",
    "print(REGISTRY_KEYS.BATCH_KEY)             # key for batch info\n",
    "print(REGISTRY_KEYS.LABELS_KEY)            # key for label data\n",
    "print(REGISTRY_KEYS.PROTEIN_EXP_KEY)       # key for protein data\n",
    "print(REGISTRY_KEYS.CAT_COVS_KEY)          # key for categorical covariate data\n",
    "print(REGISTRY_KEYS.CONT_COVS_KEY)         # key for continuous covariate data"
   ]
  },
  {
   "cell_type": "code",
   "execution_count": 18,
   "id": "rapid-monday",
   "metadata": {},
   "outputs": [
    {
     "name": "stdout",
     "output_type": "stream",
     "text": [
      "batch\n",
      "attrdict({'attr_name': 'obs', 'attr_key': '_scvi_batch'})\n",
      "_scvi_batch\n"
     ]
    }
   ],
   "source": [
    "print(REGISTRY_KEYS.BATCH_KEY)\n",
    "print(data_registry[REGISTRY_KEYS.BATCH_KEY])\n",
    "print(data_registry.batch.attr_key)"
   ]
  },
  {
   "cell_type": "markdown",
   "id": "b15123f7",
   "metadata": {},
   "source": [
    "### State Registries"
   ]
  },
  {
   "cell_type": "markdown",
   "id": "immediate-wonder",
   "metadata": {},
   "source": [
    "During the data registration process, we also keep track of additional information from the registration process, necessary for model initialization or downstream functionality. For example, for the batch field, scvi-tools keeps track of the location of the original data as well as the categorical to integer mappings.\n",
    "\n",
    "The batch state registry holds the following two keys:\n",
    "- `original_key` is the original key passed in by the user to load the data.\n",
    "- `categorical_mapping` is the categorical to integer mapping of the data. The index of the category is its corresponding integer representation."
   ]
  },
  {
   "cell_type": "markdown",
   "id": "51aff770",
   "metadata": {},
   "source": [
    "We can access a state registry via the function `AnnDataManager.get_state_registry()` which takes a registry key."
   ]
  },
  {
   "cell_type": "code",
   "execution_count": 21,
   "id": "executed-vampire",
   "metadata": {},
   "outputs": [
    {
     "name": "stdout",
     "output_type": "stream",
     "text": [
      "dict_keys(['categorical_mapping', 'original_key'])\n",
      "Categorical mapping: ['batch_0' 'batch_1']\n",
      "Original key: batch\n"
     ]
    }
   ],
   "source": [
    "batch_state_registry = model.adata_manager.get_state_registry(REGISTRY_KEYS.BATCH_KEY)\n",
    "print(batch_state_registry.keys())\n",
    "\n",
    "print(f\"Categorical mapping: {batch_state_registry.categorical_mapping}\")\n",
    "print(f\"Original key: {batch_state_registry.original_key}\")"
   ]
  },
  {
   "cell_type": "markdown",
   "id": "liked-newton",
   "metadata": {},
   "source": [
    "Here, we will give another example of a state registry for the field `extra_categorical_covariates`.\n",
    "\n",
    "The extra categorical covariates state registry contains three keys:\n",
    "\n",
    "- `mappings` whose value is a dictionary where the key is the original obs key and the value is the categorical mapping.\n",
    "- `field_keys` these are the keys of the pandas DataFrame in `adata.obsm['_scvi_extra_categoricals']` created by `setup_anndata()`.\n",
    "- `n_cats_per_key` contains the number of categories per key."
   ]
  },
  {
   "cell_type": "code",
   "execution_count": 28,
   "id": "amber-accuracy",
   "metadata": {},
   "outputs": [
    {
     "data": {
      "text/plain": [
       "dict_keys(['mappings', 'field_keys', 'n_cats_per_key'])"
      ]
     },
     "execution_count": 28,
     "metadata": {},
     "output_type": "execute_result"
    }
   ],
   "source": [
    "extra_cat_state_registry = model.adata_manager.get_state_registry(REGISTRY_KEYS.CAT_COVS_KEY)\n",
    "extra_cat_state_registry.keys()"
   ]
  },
  {
   "cell_type": "code",
   "execution_count": 29,
   "id": "noticed-documentary",
   "metadata": {},
   "outputs": [
    {
     "name": "stdout",
     "output_type": "stream",
     "text": [
      "Mappings: {'my_categorical_covariate': array(['A', 'B'], dtype=object)}\n",
      "Keys: ['my_categorical_covariate']\n",
      "N cats per key: [2]\n"
     ]
    }
   ],
   "source": [
    "print(f\"Mappings: {extra_cat_state_registry.mappings}\")\n",
    "print(f\"Keys: {extra_cat_state_registry.field_keys}\")\n",
    "print(f\"N cats per key: {extra_cat_state_registry.n_cats_per_key}\")"
   ]
  },
  {
   "cell_type": "markdown",
   "id": "efce512d",
   "metadata": {},
   "source": [
    "### Summary Stats"
   ]
  },
  {
   "cell_type": "markdown",
   "id": "5784b4fe",
   "metadata": {},
   "source": [
    "Lastly, we have the summary stats dictionary which is a dictionary meant to store summary statistics frequently used in models, to avoid redundancy and for summarization in `view_anndata_setup()`. Like the other two components, the `AnnDataManager` has a helper method in the form of the property `adata_manager.summary_stats`."
   ]
  },
  {
   "cell_type": "code",
   "execution_count": 30,
   "id": "1d95bffe",
   "metadata": {},
   "outputs": [
    {
     "data": {
      "text/plain": [
       "attrdict({'n_cells': 400, 'n_vars': 100, 'n_batch': 2, 'n_labels': 3, 'n_extra_categorical_covs': 1, 'n_extra_continuous_covs': 1})"
      ]
     },
     "execution_count": 30,
     "metadata": {},
     "output_type": "execute_result"
    }
   ],
   "source": [
    "model.adata_manager.summary_stats"
   ]
  },
  {
   "cell_type": "markdown",
   "id": "c1e8f0af",
   "metadata": {},
   "source": [
    "## 3. AnnDataManager and AnnDataFields"
   ]
  },
  {
   "cell_type": "markdown",
   "id": "ed6440c3",
   "metadata": {},
   "source": [
    "Now that we have gone over the final output of `setup_anndata()`, we can go over how the underlying logic is organized.\n",
    "\n",
    "While the `AnnDataManager` provides the main interface to the data registration components, the logic specific to each field is encapsulated in `AnnDataField` classes (any child class of `BaseAnnDataField`).\n",
    "\n",
    "An `AnnDataField` class contains four main functions to be implemented:\n",
    "1. `register_field` sets up the relevant field on the AnnData object and returns the state registry for this field.\n",
    "2. `validate_field` is a function called before `register_field`. E.g. checks if the data field is present on the AnnData object.\n",
    "3. `transfer_field` is a function similar to `register_field`, but additionally takes a source `state_registry` which can modify the behavior of registration. E.g. for categorical fields we may want to maintain the source categories and append any additional categories on the target AnnData object for downstream transfer learning.\n",
    "4. `get_summary_stats` is a function that takes a `state_registry` and outputs the summary stat dictionary. Note, this means the summary statistics must be a function of what is stored in `state_registry`.\n",
    "\n",
    "Together, the set of `AnnDataField`s produces the `registry` detailed in part 2."
   ]
  },
  {
   "cell_type": "markdown",
   "id": "35a7ca64",
   "metadata": {},
   "source": [
    "The `AnnDataManager` takes a set of `AnnDataField`s and orchestrates calls to these functions and stores the resulting `registry`. As mentioned before, the `AnnDataManager` is constructed during `setup_anndata()` and retrieved during model initialization.\n",
    "\n",
    "Here we have an abbreviated version of a `setup_anndata()` implementation for a model that only takes a `layer` kwarg and a `batch_key`:\n",
    "\n",
    "```python\n",
    "@classmethod\n",
    "def setup_anndata(\n",
    "    cls,\n",
    "    adata: AnnData,\n",
    "    layer: Optional[str] = None,\n",
    "    batch_key: Optional[str] = None,\n",
    "    **kwargs, # Used when loading a model with a new AnnData object.\n",
    "):\n",
    "    setup_method_args = cls._get_setup_method_args(**locals()) # Used for saving/loading purposes.\n",
    "    anndata_fields = [\n",
    "        LayerField(REGISTRY_KEYS.X_KEY, layer, is_count_data=True),\n",
    "        CategoricalObsField(REGISTRY_KEYS.BATCH_KEY, batch_key),\n",
    "    ]\n",
    "    adata_manager = AnnDataManager(\n",
    "        fields=anndata_fields, setup_method_args=setup_method_args\n",
    "    )\n",
    "    adata_manager.register_fields(adata, **kwargs)\n",
    "    cls.register_manager(adata_manager) # Stores the AnnDataManager in a class-specific manager store.\n",
    "```"
   ]
  },
  {
   "cell_type": "markdown",
   "id": "f45dbc64",
   "metadata": {},
   "source": [
    "The `setup_anndata()` function itself is quite simple since any complexity in preprocessing is contained within the `AnnDataField` functions. By factorizing the preprocessing steps into each subclass, model developers can easily extend and reuse logic across models and fields."
   ]
  },
  {
   "cell_type": "markdown",
   "id": "timely-practitioner",
   "metadata": {},
   "source": [
    "## 4. DataLoaders\n",
    "\n",
    "`AnnDataLoader` is the base dataloader for scvi-tools. In this section we show how the data registered is loaded by `AnnDataLoader`.\n",
    "\n",
    "Parameters of `AnnDataLoader`:\n",
    "\n",
    "- `adata_manager`: `AnnDataManager` object to load data from.\n",
    "- `shuffle`: if True will shuffle the data beforehand.\n",
    "- `indices`: can provide a subset of indices to load from (Useful when doing train/test splits).\n",
    "- `data_and_attributes`: a dictionary where the key corresponds to its key in the `data_registry` and the value is the numpy data type. By default, all data is passed to the model as `np.float32`.\n",
    "- `data_loader_kwargs`: additional arguments from `torch.utils.data.DataLoader`.\n",
    "\n",
    "First, we construct an `AnnDataLoader` and get the first batch. Then we will enumerate all the values in the batch. The variable **data_batch** contains the first batch of data. It is a dictionary whose values are the tensors registered in the previous section via `setup_anndata()`. \n"
   ]
  },
  {
   "cell_type": "code",
   "execution_count": 31,
   "id": "incident-brighton",
   "metadata": {},
   "outputs": [],
   "source": [
    "from scvi.dataloaders._ann_dataloader import AnnDataLoader\n",
    "\n",
    "# initialize an AnnDataLoader which will iterate over our anndata\n",
    "adl = AnnDataLoader(model.adata_manager, shuffle=False, batch_size = 10)\n",
    "\n",
    "# get the first batch of data\n",
    "data_batch = next(tensors for tensors in adl)"
   ]
  },
  {
   "cell_type": "markdown",
   "id": "governmental-emergency",
   "metadata": {},
   "source": [
    "For tensors setup with `setup_anndata()` the keys are from `scvi.REGISTRY_KEYS`. Notice that the keys in **data_batch** are the same as the keys in the `data_registry`. See previous section for more detailed explanation"
   ]
  },
  {
   "cell_type": "code",
   "execution_count": 32,
   "id": "incident-headline",
   "metadata": {},
   "outputs": [
    {
     "name": "stdout",
     "output_type": "stream",
     "text": [
      "data_batch_keys:\n",
      "dict_keys(['X', 'batch', 'labels', 'extra_categorical_covs', 'extra_continuous_covs'])\n"
     ]
    }
   ],
   "source": [
    "print('data_batch_keys:')\n",
    "print(data_batch.keys())"
   ]
  },
  {
   "cell_type": "code",
   "execution_count": 36,
   "id": "nonprofit-grass",
   "metadata": {},
   "outputs": [
    {
     "data": {
      "text/plain": [
       "dict_keys(['X', 'batch', 'labels', 'extra_categorical_covs', 'extra_continuous_covs'])"
      ]
     },
     "execution_count": 36,
     "metadata": {},
     "output_type": "execute_result"
    }
   ],
   "source": [
    "model.adata_manager.data_registry.keys()"
   ]
  },
  {
   "cell_type": "markdown",
   "id": "metallic-equivalent",
   "metadata": {},
   "source": [
    "If we look at the labels for the first batch from the data loader, it corresponds to the labels of the first 10 cells of our AnnData. "
   ]
  },
  {
   "cell_type": "code",
   "execution_count": 37,
   "id": "adolescent-moment",
   "metadata": {},
   "outputs": [
    {
     "data": {
      "text/plain": [
       "0    label_2\n",
       "1    label_2\n",
       "2    label_0\n",
       "3    label_0\n",
       "4    label_2\n",
       "5    label_0\n",
       "6    label_2\n",
       "7    label_0\n",
       "8    label_2\n",
       "9    label_1\n",
       "Name: labels, dtype: category\n",
       "Categories (3, object): ['label_0', 'label_1', 'label_2']"
      ]
     },
     "execution_count": 37,
     "metadata": {},
     "output_type": "execute_result"
    }
   ],
   "source": [
    "adata.obs['labels'][:10]"
   ]
  },
  {
   "cell_type": "code",
   "execution_count": 39,
   "id": "facial-price",
   "metadata": {},
   "outputs": [
    {
     "data": {
      "text/plain": [
       "tensor([[2.],\n",
       "        [2.],\n",
       "        [0.],\n",
       "        [0.],\n",
       "        [2.],\n",
       "        [0.],\n",
       "        [2.],\n",
       "        [0.],\n",
       "        [2.],\n",
       "        [1.]])"
      ]
     },
     "execution_count": 39,
     "metadata": {},
     "output_type": "execute_result"
    }
   ],
   "source": [
    "# setup_anndata automatically encoded the categorical labels as integers\n",
    "data_batch[REGISTRY_KEYS.LABELS_KEY] "
   ]
  },
  {
   "cell_type": "code",
   "execution_count": 40,
   "id": "verified-custom",
   "metadata": {},
   "outputs": [
    {
     "name": "stdout",
     "output_type": "stream",
     "text": [
      "torch.Size([10, 100])\n",
      "torch.Size([10, 1])\n"
     ]
    }
   ],
   "source": [
    "print(data_batch[REGISTRY_KEYS.X_KEY].shape) #shape is batch_size x n_genes\n",
    "print(data_batch[REGISTRY_KEYS.BATCH_KEY].shape) #shape is batch_size x 1"
   ]
  },
  {
   "cell_type": "markdown",
   "id": "geological-collector",
   "metadata": {},
   "source": [
    "By default, all the data loaded in scvi-tools is `np.float32`. If you wish to load as a different datatype, you can pass in a dictionary where the key corresponds to a key in the data registry and the value is the datatype.\n",
    "\n",
    "In the following snippet, we load some continuous data as `np.float64` and integer data as `np.long32`."
   ]
  },
  {
   "cell_type": "code",
   "execution_count": 41,
   "id": "architectural-embassy",
   "metadata": {},
   "outputs": [
    {
     "name": "stdout",
     "output_type": "stream",
     "text": [
      "torch.float32\n",
      "torch.float32\n"
     ]
    }
   ],
   "source": [
    "adl = AnnDataLoader(model.adata_manager, shuffle=False, batch_size = 10)\n",
    "data_batch = next(tensors for tensors in adl)\n",
    "\n",
    "# by default data has the dtype np.float32\n",
    "print(data_batch[REGISTRY_KEYS.X_KEY].dtype) \n",
    "print(data_batch[REGISTRY_KEYS.BATCH_KEY].dtype) "
   ]
  },
  {
   "cell_type": "code",
   "execution_count": 42,
   "id": "hidden-sudan",
   "metadata": {},
   "outputs": [
    {
     "data": {
      "text/plain": [
       "dict_keys(['X', 'batch', 'labels', 'extra_categorical_covs', 'extra_continuous_covs'])"
      ]
     },
     "execution_count": 42,
     "metadata": {},
     "output_type": "execute_result"
    }
   ],
   "source": [
    "data_batch.keys()"
   ]
  },
  {
   "cell_type": "markdown",
   "id": "conventional-county",
   "metadata": {},
   "source": [
    "To specify the datatype of each key, we can use the `data_and_attributes` parameter of AnnDataLoader. Here we make make `X` an `np.long` and our `cat_covs` an `np.float64`, but keep everything else as `np.float32`."
   ]
  },
  {
   "cell_type": "code",
   "execution_count": 43,
   "id": "interested-craft",
   "metadata": {},
   "outputs": [
    {
     "name": "stdout",
     "output_type": "stream",
     "text": [
      "Data Registry keys: dict_keys(['X', 'batch', 'labels', 'extra_categorical_covs', 'extra_continuous_covs'])\n"
     ]
    }
   ],
   "source": [
    "#the keys of data_and_attributes should correspond to keys in the data registry\n",
    "data_registry_keys = model.adata_manager.data_registry.keys()\n",
    "print(\"Data Registry keys:\",data_registry_keys)"
   ]
  },
  {
   "cell_type": "code",
   "execution_count": 44,
   "id": "powered-maldives",
   "metadata": {},
   "outputs": [
    {
     "name": "stdout",
     "output_type": "stream",
     "text": [
      "{'X': <class 'int'>, 'batch': <class 'numpy.float32'>, 'labels': <class 'numpy.float32'>, 'extra_categorical_covs': <class 'numpy.float32'>, 'extra_continuous_covs': <class 'numpy.float64'>}\n"
     ]
    },
    {
     "name": "stderr",
     "output_type": "stream",
     "text": [
      "/var/folders/23/5q8j97md4s3cmsctmlcf1vjm0000gn/T/ipykernel_40578/3127291590.py:4: DeprecationWarning: `np.long` is a deprecated alias for `np.compat.long`. To silence this warning, use `np.compat.long` by itself. In the likely event your code does not need to work on Python 2 you can use the builtin `int` for which `np.compat.long` is itself an alias. Doing this will not modify any behaviour and is safe. When replacing `np.long`, you may wish to use e.g. `np.int64` or `np.int32` to specify the precision. If you wish to review your current use, check the release note link for additional information.\n",
      "Deprecated in NumPy 1.20; for more details and guidance: https://numpy.org/devdocs/release/1.20.0-notes.html#deprecations\n",
      "  data_and_attributes[key] = np.long\n"
     ]
    }
   ],
   "source": [
    "data_and_attributes = {}\n",
    "for key in data_registry_keys:\n",
    "    if key == REGISTRY_KEYS.X_KEY:\n",
    "        data_and_attributes[key] = np.long\n",
    "    elif key == REGISTRY_KEYS.CONT_COVS_KEY:\n",
    "        data_and_attributes[key] = np.float64\n",
    "    else:\n",
    "        data_and_attributes[key] = np.float32\n",
    "print(data_and_attributes)"
   ]
  },
  {
   "cell_type": "code",
   "execution_count": 45,
   "id": "moved-score",
   "metadata": {},
   "outputs": [
    {
     "name": "stdout",
     "output_type": "stream",
     "text": [
      "torch.int64\n",
      "torch.float64\n"
     ]
    }
   ],
   "source": [
    "adl = AnnDataLoader(model.adata_manager, shuffle=False, batch_size = 10, data_and_attributes=data_and_attributes)\n",
    "data_batch = next(tensors for tensors in adl)\n",
    "\n",
    "# by default data has the dtype np.float32\n",
    "print(data_batch[REGISTRY_KEYS.X_KEY].dtype) \n",
    "print(data_batch[REGISTRY_KEYS.CONT_COVS_KEY].dtype) "
   ]
  },
  {
   "cell_type": "markdown",
   "id": "thermal-signal",
   "metadata": {},
   "source": [
    "Finally, if the `data_and_attributes` parameter is used, it will only load the keys of the passed in dictionary. For example, if the only key in the dictionary passed in to `data_and_attributes` is X, the data loader will only load X."
   ]
  },
  {
   "cell_type": "code",
   "execution_count": 47,
   "id": "relevant-tournament",
   "metadata": {},
   "outputs": [
    {
     "name": "stdout",
     "output_type": "stream",
     "text": [
      "dict_keys(['X'])\n"
     ]
    },
    {
     "name": "stderr",
     "output_type": "stream",
     "text": [
      "/var/folders/23/5q8j97md4s3cmsctmlcf1vjm0000gn/T/ipykernel_40578/935492049.py:1: DeprecationWarning: `np.float` is a deprecated alias for the builtin `float`. To silence this warning, use `float` by itself. Doing this will not modify any behavior and is safe. If you specifically wanted the numpy scalar type, use `np.float64` here.\n",
      "Deprecated in NumPy 1.20; for more details and guidance: https://numpy.org/devdocs/release/1.20.0-notes.html#deprecations\n",
      "  data_and_attributes = {REGISTRY_KEYS.X_KEY: np.float}\n"
     ]
    }
   ],
   "source": [
    "data_and_attributes = {REGISTRY_KEYS.X_KEY: np.float}\n",
    "adl = AnnDataLoader(\n",
    "    model.adata_manager, shuffle=False, batch_size=10, data_and_attributes=data_and_attributes\n",
    ")\n",
    "data_batch = next(tensors for tensors in adl)\n",
    "\n",
    "print(data_batch.keys())"
   ]
  }
 ],
 "metadata": {
  "kernelspec": {
   "display_name": "Python 3 (ipykernel)",
   "language": "python",
   "name": "python3"
  },
  "language_info": {
   "codemirror_mode": {
    "name": "ipython",
    "version": 3
   },
   "file_extension": ".py",
   "mimetype": "text/x-python",
   "name": "python",
   "nbconvert_exporter": "python",
   "pygments_lexer": "ipython3",
   "version": "3.9.10"
  }
 },
 "nbformat": 4,
 "nbformat_minor": 5
}
