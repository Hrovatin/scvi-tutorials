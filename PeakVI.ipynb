{
 "cells": [
  {
   "cell_type": "markdown",
   "metadata": {
    "id": "DkJ5AI1zMf8I"
   },
   "source": [
    "# PeakVI: Analyzing scATACseq data\n",
    "PeakVI is used for analyzing scATACseq data. This tutorial walks through how to read, set-up and train the model, accessing and visualizing the latent space, and differential accessibility. We use the 5kPBMC sample dataset from 10X but these steps can be easily adjusted for other datasets.\n",
    "\n"
   ]
  },
  {
   "cell_type": "code",
   "execution_count": 1,
   "metadata": {
    "colab": {
     "base_uri": "https://localhost:8080/"
    },
    "id": "tcbBdgYoMf8O",
    "outputId": "1a9e28f4-f354-4add-c005-4475acd1df58"
   },
   "outputs": [
    {
     "name": "stdout",
     "output_type": "stream",
     "text": [
      "\u001b[?25l\r",
      "\u001b[K     |█████▉                          | 10kB 24.3MB/s eta 0:00:01\r",
      "\u001b[K     |███████████▋                    | 20kB 30.4MB/s eta 0:00:01\r",
      "\u001b[K     |█████████████████▌              | 30kB 22.9MB/s eta 0:00:01\r",
      "\u001b[K     |███████████████████████▎        | 40kB 19.7MB/s eta 0:00:01\r",
      "\u001b[K     |█████████████████████████████   | 51kB 20.4MB/s eta 0:00:01\r",
      "\u001b[K     |████████████████████████████████| 61kB 6.0MB/s \n",
      "\u001b[31mERROR: nbclient 0.5.3 has requirement jupyter-client>=6.1.5, but you'll have jupyter-client 5.3.5 which is incompatible.\u001b[0m\n",
      "\u001b[?25h  Installing build dependencies ... \u001b[?25l\u001b[?25hdone\n",
      "  Getting requirements to build wheel ... \u001b[?25l\u001b[?25hdone\n",
      "    Preparing wheel metadata ... \u001b[?25l\u001b[?25hdone\n",
      "\u001b[K     |████████████████████████████████| 122kB 19.7MB/s \n",
      "\u001b[K     |████████████████████████████████| 245kB 41.7MB/s \n",
      "\u001b[K     |████████████████████████████████| 204kB 54.0MB/s \n",
      "\u001b[K     |████████████████████████████████| 634kB 55.8MB/s \n",
      "\u001b[K     |████████████████████████████████| 81kB 10.7MB/s \n",
      "\u001b[K     |████████████████████████████████| 839kB 51.1MB/s \n",
      "\u001b[K     |████████████████████████████████| 3.2MB 51.1MB/s \n",
      "\u001b[K     |████████████████████████████████| 10.3MB 52.9MB/s \n",
      "\u001b[K     |████████████████████████████████| 51kB 8.8MB/s \n",
      "\u001b[K     |████████████████████████████████| 8.7MB 26.2MB/s \n",
      "\u001b[K     |████████████████████████████████| 2.4MB 40.5MB/s \n",
      "\u001b[K     |████████████████████████████████| 51kB 8.2MB/s \n",
      "\u001b[K     |████████████████████████████████| 829kB 54.9MB/s \n",
      "\u001b[K     |████████████████████████████████| 184kB 59.0MB/s \n",
      "\u001b[K     |████████████████████████████████| 112kB 55.4MB/s \n",
      "\u001b[K     |████████████████████████████████| 276kB 61.5MB/s \n",
      "\u001b[K     |████████████████████████████████| 81kB 12.4MB/s \n",
      "\u001b[K     |████████████████████████████████| 112kB 59.8MB/s \n",
      "\u001b[K     |████████████████████████████████| 1.3MB 47.1MB/s \n",
      "\u001b[K     |████████████████████████████████| 71kB 11.5MB/s \n",
      "\u001b[K     |████████████████████████████████| 1.2MB 51.4MB/s \n",
      "\u001b[K     |████████████████████████████████| 51kB 8.0MB/s \n",
      "\u001b[K     |████████████████████████████████| 143kB 61.0MB/s \n",
      "\u001b[K     |████████████████████████████████| 296kB 61.8MB/s \n",
      "\u001b[?25h  Building wheel for scvi-tools (PEP 517) ... \u001b[?25l\u001b[?25hdone\n",
      "  Building wheel for loompy (setup.py) ... \u001b[?25l\u001b[?25hdone\n",
      "  Building wheel for future (setup.py) ... \u001b[?25l\u001b[?25hdone\n",
      "  Building wheel for PyYAML (setup.py) ... \u001b[?25l\u001b[?25hdone\n",
      "  Building wheel for sinfo (setup.py) ... \u001b[?25l\u001b[?25hdone\n",
      "  Building wheel for umap-learn (setup.py) ... \u001b[?25l\u001b[?25hdone\n",
      "  Building wheel for numpy-groupies (setup.py) ... \u001b[?25l\u001b[?25hdone\n",
      "  Building wheel for pynndescent (setup.py) ... \u001b[?25l\u001b[?25hdone\n"
     ]
    }
   ],
   "source": [
    "import sys\n",
    "\n",
    "# If True, will install via pypi, else will install from source\n",
    "stable = False\n",
    "IN_COLAB = \"google.colab\" in sys.modules\n",
    "\n",
    "if IN_COLAB and stable:\n",
    "    !pip install --quiet scvi-tools[tutorials]\n",
    "elif IN_COLAB and not stable:\n",
    "    !pip install --quiet --upgrade jsonschema\n",
    "    !pip install --quiet git+https://github.com/yoseflab/scvi-tools@master#egg=scvi-tools[tutorials]"
   ]
  },
  {
   "cell_type": "markdown",
   "metadata": {
    "id": "10dGI6abNGND"
   },
   "source": [
    "First we need to download the sample data. This block will do this for a google colab session, but if you're running it in a different platform you might need to adjust it, or download and unpack the data manually."
   ]
  },
  {
   "cell_type": "code",
   "execution_count": 2,
   "metadata": {
    "colab": {
     "base_uri": "https://localhost:8080/"
    },
    "id": "t9QU_OE6NV_P",
    "outputId": "3ba6280a-5999-460c-c8f1-494dc46e98fd"
   },
   "outputs": [
    {
     "name": "stdout",
     "output_type": "stream",
     "text": [
      "--2021-04-08 01:58:56--  https://cf.10xgenomics.com/samples/cell-atac/1.2.0/atac_pbmc_5k_nextgem/atac_pbmc_5k_nextgem_filtered_peak_bc_matrix.tar.gz\n",
      "Resolving cf.10xgenomics.com (cf.10xgenomics.com)... 104.18.0.173, 104.18.1.173, 2606:4700::6812:1ad, ...\n",
      "Connecting to cf.10xgenomics.com (cf.10xgenomics.com)|104.18.0.173|:443... connected.\n",
      "HTTP request sent, awaiting response... 200 OK\n",
      "Length: 114015463 (109M) [application/x-tar]\n",
      "Saving to: ‘atac_pbmc_5k_nextgem_filtered_peak_bc_matrix.tar.gz’\n",
      "\n",
      "atac_pbmc_5k_nextge 100%[===================>] 108.73M  63.0MB/s    in 1.7s    \n",
      "\n",
      "2021-04-08 01:58:58 (63.0 MB/s) - ‘atac_pbmc_5k_nextgem_filtered_peak_bc_matrix.tar.gz’ saved [114015463/114015463]\n",
      "\n",
      "filtered_peak_bc_matrix/\n",
      "filtered_peak_bc_matrix/matrix.mtx\n",
      "filtered_peak_bc_matrix/peaks.bed\n",
      "filtered_peak_bc_matrix/barcodes.tsv\n"
     ]
    }
   ],
   "source": [
    "!wget https://cf.10xgenomics.com/samples/cell-atac/1.2.0/atac_pbmc_5k_nextgem/atac_pbmc_5k_nextgem_filtered_peak_bc_matrix.tar.gz\n",
    "!sudo tar -xvf atac_pbmc_5k_nextgem_filtered_peak_bc_matrix.tar.gz\n"
   ]
  },
  {
   "cell_type": "code",
   "execution_count": 3,
   "metadata": {
    "colab": {
     "base_uri": "https://localhost:8080/"
    },
    "id": "M49KGvsRMf8P",
    "outputId": "c5d7d8df-e113-4721-cdf9-72d76f04b256"
   },
   "outputs": [
    {
     "name": "stderr",
     "output_type": "stream",
     "text": [
      "/usr/local/lib/python3.7/dist-packages/numba/np/ufunc/parallel.py:363: NumbaWarning: \u001b[1mThe TBB threading layer requires TBB version 2019.5 or later i.e., TBB_INTERFACE_VERSION >= 11005. Found TBB_INTERFACE_VERSION = 9107. The TBB threading layer is disabled.\u001b[0m\n",
      "  warnings.warn(problem)\n"
     ]
    }
   ],
   "source": [
    "import scvi\n",
    "import anndata\n",
    "import scipy\n",
    "import numpy as np\n",
    "import pandas as pd\n",
    "import scanpy as sc\n",
    "import matplotlib.pyplot as plt\n",
    "\n",
    "import random\n",
    "random.seed(420)"
   ]
  },
  {
   "cell_type": "markdown",
   "metadata": {
    "id": "iBswUSRRMf8P"
   },
   "source": [
    "## loading data \n",
    "PeakVI expects as input an AnnData object with a cell-by-region matrix. There are various pipelines that handle preprocessing of scATACseq to obtain this matrix from the sequencing data. If the data was generated by 10X genomics, this matrix is among the standard outputs of CellRanger. Other pipelines, like [SnapATAC](https://github.com/r3fang/SnapATAC/) and [ArchR](https://www.archrproject.com/bookdown/add-peak-matrix.html), also generate similar matrices.\n",
    "\n",
    "In the case of 10X data, PeakVI has a special reader function `scvi.data.read_10x_atac` that reads the files and creates an AnnData object, demonstrated below. For conveniece, we also demonstrate how to initialize an AnnData object from scratch.\n",
    "\n",
    "Throughout this tutorial, we use [sample scATACseq data from 10X of 5K PBMCs](https://support.10xgenomics.com/single-cell-atac/datasets/1.2.0/atac_pbmc_5k_nextgem)."
   ]
  },
  {
   "cell_type": "code",
   "execution_count": 4,
   "metadata": {
    "colab": {
     "base_uri": "https://localhost:8080/"
    },
    "id": "R6OB27CwMf8P",
    "outputId": "aa2aa58a-074b-4b7e-ed02-2a1ac41c359f"
   },
   "outputs": [
    {
     "name": "stderr",
     "output_type": "stream",
     "text": [
      "/usr/local/lib/python3.7/dist-packages/anndata/_core/anndata.py:119: ImplicitModificationWarning: Transforming to str index.\n",
      "  warnings.warn(\"Transforming to str index.\", ImplicitModificationWarning)\n"
     ]
    }
   ],
   "source": [
    "# read the count matrix into a sparse matrix, and the cell and region annotations as pandas DataFrames\n",
    "counts = scipy.io.mmread(\"filtered_peak_bc_matrix/matrix.mtx\").T\n",
    "regions = pd.read_csv(\"filtered_peak_bc_matrix/peaks.bed\", sep='\\t', header=None, names=['chr','start','end'])\n",
    "cells = pd.read_csv(\"filtered_peak_bc_matrix/barcodes.tsv\", header=None, names=['barcodes'])\n",
    "\n",
    "# then initialize a new AnnData object\n",
    "adata = anndata.AnnData(X=counts, obs=cells, var=regions)\n",
    "\n",
    "# or use this methods to read 10x data directly\n",
    "adata = scvi.data.read_10x_atac(\"filtered_peak_bc_matrix\")"
   ]
  },
  {
   "cell_type": "markdown",
   "metadata": {
    "id": "nAh2wnlhMf8Q"
   },
   "source": [
    "we can use scanpy functions to handle, filter, and manipulate the data. In our case, we might want to filter out peaks that are rarely detected, to make the model train faster:"
   ]
  },
  {
   "cell_type": "code",
   "execution_count": 5,
   "metadata": {
    "colab": {
     "base_uri": "https://localhost:8080/"
    },
    "id": "4r0XVM1qMf8Q",
    "outputId": "41d8e81a-66f6-421b-92e5-7eefb6610664"
   },
   "outputs": [
    {
     "name": "stdout",
     "output_type": "stream",
     "text": [
      "(4585, 115554)\n",
      "(4585, 33142)\n"
     ]
    }
   ],
   "source": [
    "print(adata.shape)\n",
    "# compute the threshold: 5% of the cells\n",
    "min_cells = int(adata.shape[0] * 0.05)\n",
    "# in-place filtering of regions\n",
    "sc.pp.filter_genes(adata, min_cells=min_cells)\n",
    "print(adata.shape)"
   ]
  },
  {
   "cell_type": "markdown",
   "metadata": {
    "id": "ZCKvcOuaMf8R"
   },
   "source": [
    "## set up, training, saving, and loading\n",
    "We can now set up the AnnData object, which will ensure everything the model needs is in place for training. \n",
    "\n",
    "This is also the stage where we can condition the model on additional covariates, which encourages the model to remove the impact of those covariates from the learned latent space. Our sample data is a single batch, so we won't demonstrate this directly, but it can be done simply by setting the `batch_key` argument to the annotation to be used as a batch covariate (must be a valid key in `adata.obs`) ."
   ]
  },
  {
   "cell_type": "code",
   "execution_count": 6,
   "metadata": {
    "colab": {
     "base_uri": "https://localhost:8080/"
    },
    "id": "LsphppROMf8R",
    "outputId": "256bd7d5-7a2e-44e5-9f22-fd7a6ad75e97"
   },
   "outputs": [
    {
     "name": "stdout",
     "output_type": "stream",
     "text": [
      "\u001b[34mINFO    \u001b[0m No batch_key inputted, assuming all cells are same batch                            \n",
      "\u001b[34mINFO    \u001b[0m No label_key inputted, assuming all cells have same label                           \n",
      "\u001b[34mINFO    \u001b[0m Using data from adata.X                                                             \n",
      "\u001b[34mINFO    \u001b[0m Computing library size prior per batch                                              \n",
      "\u001b[34mINFO    \u001b[0m Successfully registered anndata object containing \u001b[1;36m4585\u001b[0m cells, \u001b[1;36m33142\u001b[0m vars, \u001b[1;36m1\u001b[0m batches,\n",
      "         \u001b[1;36m1\u001b[0m labels, and \u001b[1;36m0\u001b[0m proteins. Also registered \u001b[1;36m0\u001b[0m extra categorical covariates and \u001b[1;36m0\u001b[0m extra\n",
      "         continuous covariates.                                                              \n",
      "\u001b[34mINFO    \u001b[0m Please do not further modify adata until model is trained.                          \n"
     ]
    }
   ],
   "source": [
    "scvi.data.setup_anndata(adata)"
   ]
  },
  {
   "cell_type": "markdown",
   "metadata": {
    "id": "onvBxehyMf8R"
   },
   "source": [
    "We can now create a PeakVI model object and train it!\n",
    "\n",
    "**Importantly**: the default max epochs is set to 500, but in practice PeakVI stops early once the model converges, which rarely requires that many, especially for large datasets (which require fewer epochs to converge, since each epoch includes letting the model view more data). \n",
    "*So the estimated runtime is usually a substantial overestimate of the actual runtime.*\n",
    "In the case of the data we use for this tutorial, it used less than half of the max epochs!"
   ]
  },
  {
   "cell_type": "code",
   "execution_count": 7,
   "metadata": {
    "colab": {
     "base_uri": "https://localhost:8080/"
    },
    "id": "cclCyKFOMf8R",
    "outputId": "8e15d44d-58ca-4ad4-ae27-9af027fc5262"
   },
   "outputs": [
    {
     "name": "stderr",
     "output_type": "stream",
     "text": [
      "GPU available: True, used: True\n",
      "TPU available: False, using: 0 TPU cores\n",
      "LOCAL_RANK: 0 - CUDA_VISIBLE_DEVICES: [0]\n"
     ]
    },
    {
     "name": "stdout",
     "output_type": "stream",
     "text": [
      "Epoch 2/500:   0%|          | 1/500 [00:01<11:11,  1.35s/it, loss=2.6e+08, v_num=1]"
     ]
    },
    {
     "name": "stderr",
     "output_type": "stream",
     "text": [
      "/usr/local/lib/python3.7/dist-packages/scvi/train/_callbacks.py:93: RuntimeWarning: Can save best module state only with reconstruction_loss_validation available, skipping.\n",
      "  RuntimeWarning,\n"
     ]
    },
    {
     "name": "stdout",
     "output_type": "stream",
     "text": [
      "Epoch 270/500:  54%|█████▍    | 270/500 [04:44<04:02,  1.05s/it, loss=1.93e+08, v_num=1]\n"
     ]
    }
   ],
   "source": [
    "pvi = scvi.model.PEAKVI(adata)\n",
    "pvi.train()"
   ]
  },
  {
   "cell_type": "markdown",
   "metadata": {
    "id": "dab9yhHcMf8R"
   },
   "source": [
    "since training a model can take a while, we recommend saving the trained model after training, just in case."
   ]
  },
  {
   "cell_type": "code",
   "execution_count": 8,
   "metadata": {
    "id": "v5w3u7ZgMf8S"
   },
   "outputs": [],
   "source": [
    "pvi.save(\"trained_model\", overwrite=True)"
   ]
  },
  {
   "cell_type": "markdown",
   "metadata": {
    "id": "mvEQcMynMf8S"
   },
   "source": [
    "We can then load the model later, which require providing an AnnData object that is structured similarly to the one used for training (or, in most cases, the same one):"
   ]
  },
  {
   "cell_type": "code",
   "execution_count": 9,
   "metadata": {
    "colab": {
     "base_uri": "https://localhost:8080/"
    },
    "id": "_q34gv_hMf8S",
    "outputId": "686dbebe-afcd-4cf4-ec2c-ce99dcb5b8ae"
   },
   "outputs": [
    {
     "name": "stdout",
     "output_type": "stream",
     "text": [
      "\u001b[34mINFO    \u001b[0m Using data from adata.X                                                             \n",
      "\u001b[34mINFO    \u001b[0m Computing library size prior per batch                                              \n",
      "\u001b[34mINFO    \u001b[0m Registered keys:\u001b[1m[\u001b[0m\u001b[32m'X'\u001b[0m, \u001b[32m'batch_indices'\u001b[0m, \u001b[32m'local_l_mean'\u001b[0m, \u001b[32m'local_l_var'\u001b[0m, \u001b[32m'labels'\u001b[0m\u001b[1m]\u001b[0m     \n",
      "\u001b[34mINFO    \u001b[0m Successfully registered anndata object containing \u001b[1;36m4585\u001b[0m cells, \u001b[1;36m33142\u001b[0m vars, \u001b[1;36m1\u001b[0m batches,\n",
      "         \u001b[1;36m1\u001b[0m labels, and \u001b[1;36m0\u001b[0m proteins. Also registered \u001b[1;36m0\u001b[0m extra categorical covariates and \u001b[1;36m0\u001b[0m extra\n",
      "         continuous covariates.                                                              \n"
     ]
    }
   ],
   "source": [
    "pvi = scvi.model.PEAKVI.load(\"trained_model\", adata)"
   ]
  },
  {
   "cell_type": "markdown",
   "metadata": {
    "id": "3FRmN1bbMf8S"
   },
   "source": [
    "## visualizing and analyzing the latent space\n",
    "We can now use the trained model to visualize, cluster, and analyze the data. We first extract the latent representation from the model, and save it back into our AnnData object:"
   ]
  },
  {
   "cell_type": "code",
   "execution_count": 10,
   "metadata": {
    "colab": {
     "base_uri": "https://localhost:8080/"
    },
    "id": "shzoLMjQMf8S",
    "outputId": "ceaff0c9-c6bb-418a-de8f-e2e4458fd75e"
   },
   "outputs": [
    {
     "name": "stdout",
     "output_type": "stream",
     "text": [
      "(4585, 13)\n"
     ]
    }
   ],
   "source": [
    "latent = pvi.get_latent_representation()\n",
    "adata.obsm[\"X_PeakVI\"] = latent\n",
    "\n",
    "print(latent.shape)"
   ]
  },
  {
   "cell_type": "markdown",
   "metadata": {
    "id": "-nIg0xy1Mf8T"
   },
   "source": [
    "We can now use scanpy functions to cluster and visualize our latent space:"
   ]
  },
  {
   "cell_type": "code",
   "execution_count": 11,
   "metadata": {
    "id": "CAzMk_4qMf8T"
   },
   "outputs": [],
   "source": [
    "# compute the k-nearest-neighbor graph that is used in both clustering and umap algorithms\n",
    "sc.pp.neighbors(adata, use_rep=\"X_PeakVI\")\n",
    "# compute the umap\n",
    "sc.tl.umap(adata, min_dist=0.2)\n",
    "# cluster the space (we use a lower resolution to get fewer clusters than the default)\n",
    "sc.tl.leiden(adata, key_added=\"cluster_pvi\", resolution=0.2)"
   ]
  },
  {
   "cell_type": "code",
   "execution_count": 12,
   "metadata": {
    "colab": {
     "base_uri": "https://localhost:8080/",
     "height": 295
    },
    "id": "gPm9j0aaMf8T",
    "outputId": "35af2d45-9bd2-4381-d4be-afbad3155c88"
   },
   "outputs": [
    {
     "name": "stderr",
     "output_type": "stream",
     "text": [
      "... storing 'chr' as categorical\n"
     ]
    },
    {
     "data": {
      "image/png": "[encoded data removed]",
      "text/plain": [
       "<Figure size 432x288 with 1 Axes>"
      ]
     },
     "metadata": {
      "tags": []
     },
     "output_type": "display_data"
    }
   ],
   "source": [
    "sc.pl.umap(adata, color='cluster_pvi')"
   ]
  },
  {
   "cell_type": "markdown",
   "metadata": {
    "id": "wGioRKwFMf8T"
   },
   "source": [
    "## differential accessibility\n",
    "Finally, we can use PeakVI to identify regions that are differentially accessible. There are many different ways to run this analysis, but the simplest is comparing one cluster against all others, or comparing two clusters to each other. In the first case we'll be looking for marker-regions, so we'll mostly want a one-sided test (the significant regions will only be the ones preferentially accessible in our target cluster). In the second case we'll use a two-sided test to find regions that are differentially accessible, regardless of direction.\n",
    "\n",
    "We demonstrate both of these next, and do this in two different ways: (1) more convenient but less flexible: using an existing factor to group the cells, and then comparing groups. (2) more flexible: using cell indices directly.\n",
    "\n",
    "**If the data includes multiple batches**, we encourage setting `batch_correction=True` so the model will sample from multiple batches when computing the differential signal. We do this below despite the data only having a single batch, as a demonstration."
   ]
  },
  {
   "cell_type": "code",
   "execution_count": 13,
   "metadata": {
    "colab": {
     "base_uri": "https://localhost:8080/",
     "height": 382
    },
    "id": "YptioB5PMf8T",
    "outputId": "7081a937-91bc-40af-9b62-25526ff1e10a"
   },
   "outputs": [
    {
     "name": "stdout",
     "output_type": "stream",
     "text": [
      "DE...: 100%|██████████| 1/1 [00:14<00:00, 14.38s/it]\n",
      "DE...: 100%|██████████| 1/1 [00:11<00:00, 11.40s/it]\n",
      "DE...: 100%|██████████| 1/1 [00:11<00:00, 11.35s/it]\n",
      "DE...: 100%|██████████| 1/1 [00:11<00:00, 11.35s/it]\n"
     ]
    },
    {
     "data": {
      "text/html": [
       "<div>\n",
       "<style scoped>\n",
       "    .dataframe tbody tr th:only-of-type {\n",
       "        vertical-align: middle;\n",
       "    }\n",
       "\n",
       "    .dataframe tbody tr th {\n",
       "        vertical-align: top;\n",
       "    }\n",
       "\n",
       "    .dataframe thead th {\n",
       "        text-align: right;\n",
       "    }\n",
       "</style>\n",
       "<table border=\"1\" class=\"dataframe\">\n",
       "  <thead>\n",
       "    <tr style=\"text-align: right;\">\n",
       "      <th></th>\n",
       "      <th>prob_da</th>\n",
       "      <th>is_da_fdr</th>\n",
       "      <th>bayes_factor</th>\n",
       "      <th>effect_size</th>\n",
       "      <th>emp_effect</th>\n",
       "      <th>est_prob1</th>\n",
       "      <th>est_prob2</th>\n",
       "      <th>emp_prob1</th>\n",
       "      <th>emp_prob2</th>\n",
       "    </tr>\n",
       "  </thead>\n",
       "  <tbody>\n",
       "    <tr>\n",
       "      <th>chr1:713460-715296</th>\n",
       "      <td>0.2654</td>\n",
       "      <td>False</td>\n",
       "      <td>-1.018088</td>\n",
       "      <td>0.078080</td>\n",
       "      <td>0.051529</td>\n",
       "      <td>0.645853</td>\n",
       "      <td>0.723933</td>\n",
       "      <td>0.349099</td>\n",
       "      <td>0.400628</td>\n",
       "    </tr>\n",
       "    <tr>\n",
       "      <th>chr1:752299-753057</th>\n",
       "      <td>0.0316</td>\n",
       "      <td>False</td>\n",
       "      <td>-3.422488</td>\n",
       "      <td>0.116555</td>\n",
       "      <td>0.053940</td>\n",
       "      <td>0.026689</td>\n",
       "      <td>0.143244</td>\n",
       "      <td>0.011261</td>\n",
       "      <td>0.065202</td>\n",
       "    </tr>\n",
       "    <tr>\n",
       "      <th>chr1:762004-763374</th>\n",
       "      <td>0.1122</td>\n",
       "      <td>False</td>\n",
       "      <td>-2.068463</td>\n",
       "      <td>0.190804</td>\n",
       "      <td>0.101724</td>\n",
       "      <td>0.378819</td>\n",
       "      <td>0.569623</td>\n",
       "      <td>0.191441</td>\n",
       "      <td>0.293166</td>\n",
       "    </tr>\n",
       "    <tr>\n",
       "      <th>chr1:804843-805776</th>\n",
       "      <td>0.4920</td>\n",
       "      <td>False</td>\n",
       "      <td>-0.032003</td>\n",
       "      <td>-0.055157</td>\n",
       "      <td>-0.032217</td>\n",
       "      <td>0.383930</td>\n",
       "      <td>0.328774</td>\n",
       "      <td>0.195946</td>\n",
       "      <td>0.163729</td>\n",
       "    </tr>\n",
       "    <tr>\n",
       "      <th>chr1:839252-841274</th>\n",
       "      <td>0.2762</td>\n",
       "      <td>False</td>\n",
       "      <td>-0.963390</td>\n",
       "      <td>0.044080</td>\n",
       "      <td>0.025464</td>\n",
       "      <td>0.313393</td>\n",
       "      <td>0.357474</td>\n",
       "      <td>0.148649</td>\n",
       "      <td>0.174113</td>\n",
       "    </tr>\n",
       "  </tbody>\n",
       "</table>\n",
       "</div>"
      ],
      "text/plain": [
       "                    prob_da  is_da_fdr  ...  emp_prob1  emp_prob2\n",
       "chr1:713460-715296   0.2654      False  ...   0.349099   0.400628\n",
       "chr1:752299-753057   0.0316      False  ...   0.011261   0.065202\n",
       "chr1:762004-763374   0.1122      False  ...   0.191441   0.293166\n",
       "chr1:804843-805776   0.4920      False  ...   0.195946   0.163729\n",
       "chr1:839252-841274   0.2762      False  ...   0.148649   0.174113\n",
       "\n",
       "[5 rows x 9 columns]"
      ]
     },
     "execution_count": 13,
     "metadata": {
      "tags": []
     },
     "output_type": "execute_result"
    }
   ],
   "source": [
    "# (1.1) using a known factor to compare two clusters\n",
    "## two-sided is True by default, but included here for emphasis\n",
    "da_res11 = pvi.differential_accessibility(groupby='cluster_pvi', group1='3', group2='0', two_sided=True)\n",
    "\n",
    "# (1.2) using a known factor to compare a cluster against all other clusters\n",
    "## if we only provide group1, group2 is all other cells by default\n",
    "da_res12 = pvi.differential_accessibility(groupby='cluster_pvi', group1='3', two_sided=False)\n",
    "\n",
    "# (2.1) using indices to compare two clusters\n",
    "## we can use boolean masks or integer indices for the `idx1` and `idx2` arguments\n",
    "da_res21 = pvi.differential_accessibility(\n",
    "    idx1 = adata.obs.cluster_pvi == '3',\n",
    "    idx2 = adata.obs.cluster_pvi == '0',\n",
    "    two_sided=True,\n",
    ")\n",
    "# (2.2) using indices to compare a cluster against all other clusters\n",
    "## if we don't provide idx2, it uses all other cells as the contrast\n",
    "da_res22 = pvi.differential_accessibility(\n",
    "    idx1 = np.where(adata.obs.cluster_pvi == '3'),\n",
    "    two_sided=False,\n",
    ")\n",
    "\n",
    "da_res22.head()"
   ]
  },
  {
   "cell_type": "markdown",
   "metadata": {
    "id": "zWseudKHMf8U"
   },
   "source": [
    "Note that `da_res11` and `da_res21` are equivalent, as are `da_res12` and `da_res22`.\n",
    "The return value is a pandas DataFrame with the differential results and basic properties of the comparison:\n",
    "\n",
    "`prob_da` in our case is the probability of cells from cluster 0 being more than 0.05 (the default minimal effect) more accessible than cells from the rest of the data.\n",
    "\n",
    "`is_da_fdr` is a conservative classification (True/False) of whether a region is differential accessible. This is one way to threshold the results.\n",
    "\n",
    "`bayes_factor` is a statistical significance score. It doesn't have a commonly acceptable threshold (e.g 0.05 for p-values), bu we demonstrate below that it's well calibrated to the effect size.\n",
    "\n",
    "`effect_size` is the effect size, calculated as `est_prob1 - est_prob2`.\n",
    "\n",
    "`emp_effect` is the empirical effect size, calculated as `emp_prob1 - emp_prob2`.\n",
    "\n",
    "`est_prob{1,2}` are the estimated probabilities of accessibility in group1 and group2.\n",
    "\n",
    "`emp_prob{1,2}` are the empirical probabilities of detection (how many cells in group X was the region detected in).\n",
    "\n",
    "We can make sure the probability of DA is well calibrated, and look at the regions that are identified as differentially accessible:"
   ]
  },
  {
   "cell_type": "code",
   "execution_count": 17,
   "metadata": {
    "colab": {
     "base_uri": "https://localhost:8080/",
     "height": 818
    },
    "id": "uMenbDZ8Mf8U",
    "outputId": "7522c6f1-bc9d-4e17-977b-3990d443df62"
   },
   "outputs": [
    {
     "data": {
      "image/png": "[encoded data removed]",
      "text/plain": [
       "<Figure size 432x288 with 1 Axes>"
      ]
     },
     "metadata": {
      "needs_background": "light",
      "tags": []
     },
     "output_type": "display_data"
    },
    {
     "data": {
      "text/html": [
       "<div>\n",
       "<style scoped>\n",
       "    .dataframe tbody tr th:only-of-type {\n",
       "        vertical-align: middle;\n",
       "    }\n",
       "\n",
       "    .dataframe tbody tr th {\n",
       "        vertical-align: top;\n",
       "    }\n",
       "\n",
       "    .dataframe thead th {\n",
       "        text-align: right;\n",
       "    }\n",
       "</style>\n",
       "<table border=\"1\" class=\"dataframe\">\n",
       "  <thead>\n",
       "    <tr style=\"text-align: right;\">\n",
       "      <th></th>\n",
       "      <th>prob_da</th>\n",
       "      <th>is_da_fdr</th>\n",
       "      <th>bayes_factor</th>\n",
       "      <th>effect_size</th>\n",
       "      <th>emp_effect</th>\n",
       "      <th>est_prob1</th>\n",
       "      <th>est_prob2</th>\n",
       "      <th>emp_prob1</th>\n",
       "      <th>emp_prob2</th>\n",
       "    </tr>\n",
       "  </thead>\n",
       "  <tbody>\n",
       "    <tr>\n",
       "      <th>chr19:5129855-5132436</th>\n",
       "      <td>1.0000</td>\n",
       "      <td>True</td>\n",
       "      <td>18.420681</td>\n",
       "      <td>-0.846021</td>\n",
       "      <td>-0.613032</td>\n",
       "      <td>0.985204</td>\n",
       "      <td>0.139183</td>\n",
       "      <td>0.700450</td>\n",
       "      <td>0.087418</td>\n",
       "    </tr>\n",
       "    <tr>\n",
       "      <th>chr22:22522044-22523273</th>\n",
       "      <td>1.0000</td>\n",
       "      <td>True</td>\n",
       "      <td>18.420681</td>\n",
       "      <td>-0.788608</td>\n",
       "      <td>-0.405125</td>\n",
       "      <td>0.899070</td>\n",
       "      <td>0.110463</td>\n",
       "      <td>0.459459</td>\n",
       "      <td>0.054335</td>\n",
       "    </tr>\n",
       "    <tr>\n",
       "      <th>chr1:1071624-1073485</th>\n",
       "      <td>1.0000</td>\n",
       "      <td>True</td>\n",
       "      <td>18.420681</td>\n",
       "      <td>-0.664290</td>\n",
       "      <td>-0.333674</td>\n",
       "      <td>0.832768</td>\n",
       "      <td>0.168478</td>\n",
       "      <td>0.418919</td>\n",
       "      <td>0.085245</td>\n",
       "    </tr>\n",
       "    <tr>\n",
       "      <th>chr12:102137339-102138386</th>\n",
       "      <td>0.9998</td>\n",
       "      <td>True</td>\n",
       "      <td>8.516943</td>\n",
       "      <td>-0.767029</td>\n",
       "      <td>-0.399196</td>\n",
       "      <td>0.808937</td>\n",
       "      <td>0.041908</td>\n",
       "      <td>0.421171</td>\n",
       "      <td>0.021975</td>\n",
       "    </tr>\n",
       "    <tr>\n",
       "      <th>chr14:64701787-64703599</th>\n",
       "      <td>0.9998</td>\n",
       "      <td>True</td>\n",
       "      <td>8.516943</td>\n",
       "      <td>-0.911666</td>\n",
       "      <td>-0.551225</td>\n",
       "      <td>0.946779</td>\n",
       "      <td>0.035113</td>\n",
       "      <td>0.569820</td>\n",
       "      <td>0.018595</td>\n",
       "    </tr>\n",
       "    <tr>\n",
       "      <th>chr7:105697243-105699339</th>\n",
       "      <td>0.9998</td>\n",
       "      <td>True</td>\n",
       "      <td>8.516943</td>\n",
       "      <td>-0.723802</td>\n",
       "      <td>-0.369626</td>\n",
       "      <td>0.895055</td>\n",
       "      <td>0.171254</td>\n",
       "      <td>0.459459</td>\n",
       "      <td>0.089833</td>\n",
       "    </tr>\n",
       "    <tr>\n",
       "      <th>chr12:92566079-92567078</th>\n",
       "      <td>0.9998</td>\n",
       "      <td>True</td>\n",
       "      <td>8.516943</td>\n",
       "      <td>-0.824139</td>\n",
       "      <td>-0.432502</td>\n",
       "      <td>0.854779</td>\n",
       "      <td>0.030640</td>\n",
       "      <td>0.448198</td>\n",
       "      <td>0.015697</td>\n",
       "    </tr>\n",
       "    <tr>\n",
       "      <th>chr6:132675420-132676452</th>\n",
       "      <td>0.9998</td>\n",
       "      <td>True</td>\n",
       "      <td>8.516943</td>\n",
       "      <td>-0.654222</td>\n",
       "      <td>-0.314808</td>\n",
       "      <td>0.724707</td>\n",
       "      <td>0.070485</td>\n",
       "      <td>0.349099</td>\n",
       "      <td>0.034291</td>\n",
       "    </tr>\n",
       "    <tr>\n",
       "      <th>chr9:33124511-33126552</th>\n",
       "      <td>0.9996</td>\n",
       "      <td>True</td>\n",
       "      <td>7.823621</td>\n",
       "      <td>-0.580026</td>\n",
       "      <td>-0.290117</td>\n",
       "      <td>0.635952</td>\n",
       "      <td>0.055926</td>\n",
       "      <td>0.319820</td>\n",
       "      <td>0.029703</td>\n",
       "    </tr>\n",
       "    <tr>\n",
       "      <th>chr4:2852856-2854873</th>\n",
       "      <td>0.9996</td>\n",
       "      <td>True</td>\n",
       "      <td>7.823621</td>\n",
       "      <td>-0.540218</td>\n",
       "      <td>-0.270808</td>\n",
       "      <td>0.613199</td>\n",
       "      <td>0.072981</td>\n",
       "      <td>0.306306</td>\n",
       "      <td>0.035499</td>\n",
       "    </tr>\n",
       "  </tbody>\n",
       "</table>\n",
       "</div>"
      ],
      "text/plain": [
       "                           prob_da  is_da_fdr  ...  emp_prob1  emp_prob2\n",
       "chr19:5129855-5132436       1.0000       True  ...   0.700450   0.087418\n",
       "chr22:22522044-22523273     1.0000       True  ...   0.459459   0.054335\n",
       "chr1:1071624-1073485        1.0000       True  ...   0.418919   0.085245\n",
       "chr12:102137339-102138386   0.9998       True  ...   0.421171   0.021975\n",
       "chr14:64701787-64703599     0.9998       True  ...   0.569820   0.018595\n",
       "chr7:105697243-105699339    0.9998       True  ...   0.459459   0.089833\n",
       "chr12:92566079-92567078     0.9998       True  ...   0.448198   0.015697\n",
       "chr6:132675420-132676452    0.9998       True  ...   0.349099   0.034291\n",
       "chr9:33124511-33126552      0.9996       True  ...   0.319820   0.029703\n",
       "chr4:2852856-2854873        0.9996       True  ...   0.306306   0.035499\n",
       "\n",
       "[10 rows x 9 columns]"
      ]
     },
     "execution_count": 17,
     "metadata": {
      "tags": []
     },
     "output_type": "execute_result"
    }
   ],
   "source": [
    "plt.scatter(da_res22.effect_size, da_res22.prob_da, s=1)\n",
    "plt.xlabel(\"effect size\")\n",
    "plt.ylabel(\"probability of DA\")\n",
    "plt.show()\n",
    "\n",
    "da_res22.loc[da_res22.is_da_fdr].sort_values('prob_da', ascending=False).head(10)"
   ]
  },
  {
   "cell_type": "markdown",
   "metadata": {
    "id": "a8_I_8PLMf8U"
   },
   "source": [
    "We can now examine these regions to understand what is happening in the data, using various different annotation and enrichment methods. For instance, `chr11:60222766-60223569`, one of the regions preferentially accessible in cluster 0, is the promoter region of [`MS4A1`](https://www.genecards.org/cgi-bin/carddisp.pl?gene=MS4A1), also known as `CD20`, a known B-cell surface marker, indicating that cluster 0 are probably B-cells."
   ]
  },
  {
   "cell_type": "code",
   "execution_count": null,
   "metadata": {
    "id": "rmrkcC2FQk1i"
   },
   "outputs": [],
   "source": []
  }
 ],
 "metadata": {
  "accelerator": "GPU",
  "colab": {
   "name": "PeakVI_tutorial.ipynb",
   "provenance": [],
   "toc_visible": true
  },
  "kernelspec": {
   "display_name": "Python 3",
   "language": "python",
   "name": "python3"
  },
  "language_info": {
   "codemirror_mode": {
    "name": "ipython",
    "version": 3
   },
   "file_extension": ".py",
   "mimetype": "text/x-python",
   "name": "python",
   "nbconvert_exporter": "python",
   "pygments_lexer": "ipython3",
   "version": "3.7.6"
  }
 },
 "nbformat": 4,
 "nbformat_minor": 1
}
