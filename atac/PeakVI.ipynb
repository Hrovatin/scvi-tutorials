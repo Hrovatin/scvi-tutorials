{
  "cells": [
    {
      "cell_type": "markdown",
      "metadata": {
        "id": "DkJ5AI1zMf8I"
      },
      "source": [
        "# PeakVI: Analyzing scATACseq data\n",
        "\n",
        "PeakVI is used for analyzing scATACseq data. This tutorial walks through how to read, set-up and train the model, accessing and visualizing the latent space, and differential accessibility. We use the 5kPBMC sample dataset from 10X but these steps can be easily adjusted for other datasets."
      ]
    },
    {
      "cell_type": "markdown",
      "metadata": {
        "id": "kZiN2swWUKe2"
      },
      "source": [
        "```{note}\n",
        "Running the following cell will install tutorial dependencies on Google Colab only. It will have no effect on environments other than Google Colab."
      ]
    },
    {
      "cell_type": "code",
      "execution_count": null,
      "metadata": {
        "execution": {
          "iopub.execute_input": "2024-09-20T08:17:34.387424Z",
          "iopub.status.busy": "2024-09-20T08:17:34.387325Z",
          "iopub.status.idle": "2024-09-20T08:17:35.387302Z",
          "shell.execute_reply": "2024-09-20T08:17:35.386913Z"
        },
        "id": "jiE2wyVqUKe2",
        "outputId": "6eff89ff-cb7e-4ca3-a4cb-540385c1b1f0",
        "colab": {
          "base_uri": "https://localhost:8080/"
        }
      },
      "outputs": [
        {
          "output_type": "stream",
          "name": "stdout",
          "text": [
            "\u001b[34mINFO    \u001b[0m scvi-colab: Installing scvi-tools.                                                                        \n",
            "\u001b[34mINFO    \u001b[0m scvi-colab: Install successful. Testing import.                                                           \n"
          ]
        },
        {
          "output_type": "stream",
          "name": "stderr",
          "text": [
            "/usr/local/lib/python3.11/dist-packages/docrep/decorators.py:43: SyntaxWarning: 'param_categorical_covariate_keys' is not a valid key!\n",
            "  doc = func(self, args[0].__doc__, *args[1:], **kwargs)\n",
            "/usr/local/lib/python3.11/dist-packages/docrep/decorators.py:43: SyntaxWarning: 'param_continuous_covariate_keys' is not a valid key!\n",
            "  doc = func(self, args[0].__doc__, *args[1:], **kwargs)\n"
          ]
        }
      ],
      "source": [
        "!pip install --quiet scvi-colab\n",
        "from scvi_colab import install\n",
        "\n",
        "install()"
      ]
    },
    {
      "cell_type": "code",
      "execution_count": null,
      "metadata": {
        "execution": {
          "iopub.execute_input": "2024-09-20T08:17:35.388413Z",
          "iopub.status.busy": "2024-09-20T08:17:35.388309Z",
          "iopub.status.idle": "2024-09-20T08:17:44.219993Z",
          "shell.execute_reply": "2024-09-20T08:17:44.219578Z"
        },
        "id": "tcbBdgYoMf8O"
      },
      "outputs": [],
      "source": [
        "import os\n",
        "import tempfile\n",
        "\n",
        "import matplotlib.pyplot as plt\n",
        "import numpy as np\n",
        "import scanpy as sc\n",
        "import scvi\n",
        "import torch"
      ]
    },
    {
      "cell_type": "code",
      "execution_count": null,
      "metadata": {
        "execution": {
          "iopub.execute_input": "2024-09-20T08:17:44.222127Z",
          "iopub.status.busy": "2024-09-20T08:17:44.221774Z",
          "iopub.status.idle": "2024-09-20T08:17:44.225286Z",
          "shell.execute_reply": "2024-09-20T08:17:44.225014Z"
        },
        "id": "0YUDVfTCUKe3",
        "outputId": "c11cab7c-1154-43da-cfa2-d49487c645cc",
        "colab": {
          "base_uri": "https://localhost:8080/"
        }
      },
      "outputs": [
        {
          "output_type": "stream",
          "name": "stderr",
          "text": [
            "INFO: Seed set to 0\n",
            "INFO:lightning.fabric.utilities.seed:Seed set to 0\n"
          ]
        },
        {
          "output_type": "stream",
          "name": "stdout",
          "text": [
            "Last run with scvi-tools version: 1.3.0\n"
          ]
        }
      ],
      "source": [
        "scvi.settings.seed = 0\n",
        "print(\"Last run with scvi-tools version:\", scvi.__version__)"
      ]
    },
    {
      "cell_type": "markdown",
      "metadata": {
        "id": "dFjICq7gUKe3"
      },
      "source": [
        "```{note}\n",
        "You can modify `save_dir` below to change where the data files for this tutorial are saved.\n",
        "```"
      ]
    },
    {
      "cell_type": "code",
      "execution_count": null,
      "metadata": {
        "execution": {
          "iopub.execute_input": "2024-09-20T08:17:44.226183Z",
          "iopub.status.busy": "2024-09-20T08:17:44.226091Z",
          "iopub.status.idle": "2024-09-20T08:17:44.238653Z",
          "shell.execute_reply": "2024-09-20T08:17:44.238391Z"
        },
        "id": "4_R0pTDwUKe3"
      },
      "outputs": [],
      "source": [
        "sc.set_figure_params(figsize=(4, 4), frameon=False)\n",
        "torch.set_float32_matmul_precision(\"high\")\n",
        "save_dir = tempfile.TemporaryDirectory()\n",
        "\n",
        "%config InlineBackend.print_figure_kwargs={\"facecolor\" : \"w\"}\n",
        "%config InlineBackend.figure_format=\"retina\""
      ]
    },
    {
      "cell_type": "markdown",
      "metadata": {
        "id": "PUCNIebrUKe3"
      },
      "source": [
        "## Download and preprocess data"
      ]
    },
    {
      "cell_type": "markdown",
      "metadata": {
        "id": "_L5z3CGGVJ4t"
      },
      "source": [
        "In this tutorial, we use an already preprocessed dataset of 5k PBMCs from 10X Genomics. To see the exact preprocessing that was done, or to preprocess your own scATAC-seq dataset for use with scvi-tools models, see our [preprocessing tutorial](../notebooks/processing/preprocessing)."
      ]
    },
    {
      "cell_type": "code",
      "execution_count": null,
      "metadata": {
        "id": "sfBWuUrjV_P0",
        "colab": {
          "base_uri": "https://localhost:8080/",
          "height": 103,
          "referenced_widgets": [
            "051946e95cb8403c9b00c7f2b74afa2f",
            "7bb844219c45426a88e97ddf2572a20d",
            "e9f82ccbd02a43639d9f12a438ac5b0d",
            "25850a0e83eb4a6ebf563eea15b8c820",
            "6c86498586c24c82b2448de57a062ab8",
            "02bf875352794c5381fdee91e33623c3",
            "853ce191a54e475ebdb981bda260e5ae",
            "cff73360a56b43749c03563db5b9bcbc",
            "cade9ab84d8e432a9b953544480ab879",
            "f8d66f0b05844d889c4ce1a8390f055b",
            "8aa61dd52fec454693c100da154f9b8d"
          ]
        },
        "outputId": "966db0d8-ab1c-4f51-90fb-502911e6ccf0"
      },
      "outputs": [
        {
          "output_type": "display_data",
          "data": {
            "text/plain": [
              "  0%|          | 0.00/365M [00:00<?, ?B/s]"
            ],
            "application/vnd.jupyter.widget-view+json": {
              "version_major": 2,
              "version_minor": 0,
              "model_id": "051946e95cb8403c9b00c7f2b74afa2f"
            }
          },
          "metadata": {}
        },
        {
          "output_type": "execute_result",
          "data": {
            "text/plain": [
              "AnnData object with n_obs × n_vars = 4585 × 33142\n",
              "    obs: 'batch_id'\n",
              "    var: 'chr', 'start', 'end', 'n_cells'"
            ]
          },
          "metadata": {},
          "execution_count": 5
        }
      ],
      "source": [
        "# download preprocessed dataset\n",
        "adata_path = os.path.join(save_dir.name, \"lung_atlas_preprocessed.h5ad\")\n",
        "\n",
        "adata = sc.read(\n",
        "    adata_path,\n",
        "    backup_url=\"https://figshare.com/ndownloader/files/52859288\",\n",
        ")\n",
        "adata"
      ]
    },
    {
      "cell_type": "markdown",
      "metadata": {
        "id": "ZCKvcOuaMf8R"
      },
      "source": [
        "## Set up, train, save, and load the model\n",
        "\n",
        "We can now set up the AnnData object with PeakVI, which will ensure everything the model needs is in place for training.\n",
        "\n",
        "This is also the stage where we can condition the model on additional covariates, which encourages the model to remove the impact of those covariates from the learned latent space. Our sample data is a single batch, so we won't demonstrate this directly, but it can be done simply by setting the `batch_key` argument to the annotation to be used as a batch covariate (must be a valid key in `adata.obs`) ."
      ]
    },
    {
      "cell_type": "code",
      "execution_count": null,
      "metadata": {
        "execution": {
          "iopub.execute_input": "2024-09-20T08:17:50.005404Z",
          "iopub.status.busy": "2024-09-20T08:17:50.005307Z",
          "iopub.status.idle": "2024-09-20T08:17:50.008352Z",
          "shell.execute_reply": "2024-09-20T08:17:50.008150Z"
        },
        "id": "LsphppROMf8R"
      },
      "outputs": [],
      "source": [
        "scvi.model.PEAKVI.setup_anndata(adata)"
      ]
    },
    {
      "cell_type": "markdown",
      "metadata": {
        "id": "onvBxehyMf8R"
      },
      "source": [
        "We can now create a PeakVI model object and train it!"
      ]
    },
    {
      "cell_type": "markdown",
      "metadata": {
        "id": "Pb8b_wcCUKe4"
      },
      "source": [
        "```{important}\n",
        "The default `max_epochs` is set to `500`, but in practice PeakVI stops early once the model converges (we quantify convergence with the model's validation reconstruction loss). This is especially the case for larger datasets, which require fewer training epochs to converge since each epoch lets the model view more data.\n",
        "\n",
        "This means that the estimated training runtime is usually an overestimate of the actual runtime. For the data used in this tutorial, it typically converges with around half of `max_epochs`!\n",
        "```"
      ]
    },
    {
      "cell_type": "code",
      "execution_count": null,
      "metadata": {
        "colab": {
          "base_uri": "https://localhost:8080/",
          "referenced_widgets": [
            "d99bb9b6dfd84425abb1a4d7ad9febca",
            "a9aa8984434345389f008a5bf245186f",
            "400bcff22d4a4e7a90b66edf8c51bd7c",
            "8cc2c26c6e764c4aa73494735a01a626",
            "48b3568f911e4338ac8d67b0b15b8f8b",
            "5b7e4ed86ec44547801f303f6a0587df",
            "538eb72f0b0041729b2ac8d402e01e51",
            "a3084bc33eaa498d84497a3838e76e74",
            "c34f1d12d0f54cac86722780ad9616e6",
            "b0491d350ae74415bf059e5a4820c76d",
            "f9b2be5deffc4522b46fc0570a877d52"
          ],
          "height": 265
        },
        "execution": {
          "iopub.execute_input": "2024-09-20T08:17:50.009429Z",
          "iopub.status.busy": "2024-09-20T08:17:50.009234Z",
          "iopub.status.idle": "2024-09-20T08:19:42.068459Z",
          "shell.execute_reply": "2024-09-20T08:19:42.068118Z"
        },
        "id": "cclCyKFOMf8R",
        "outputId": "7338a01c-7aa0-40f4-df54-ac82b0b6078e"
      },
      "outputs": [
        {
          "output_type": "stream",
          "name": "stderr",
          "text": [
            "<ipython-input-7-afe809d3088a>:2: DeprecationWarning: `save_best` is deprecated in v1.2 and will be removed in v1.3. Please use `enable_checkpointing` instead. See https://github.com/scverse/scvi-tools/issues/2568 for more details.\n",
            "  model.train()\n",
            "INFO: GPU available: True (cuda), used: True\n",
            "INFO:lightning.pytorch.utilities.rank_zero:GPU available: True (cuda), used: True\n",
            "INFO: TPU available: False, using: 0 TPU cores\n",
            "INFO:lightning.pytorch.utilities.rank_zero:TPU available: False, using: 0 TPU cores\n",
            "INFO: HPU available: False, using: 0 HPUs\n",
            "INFO:lightning.pytorch.utilities.rank_zero:HPU available: False, using: 0 HPUs\n",
            "INFO: LOCAL_RANK: 0 - CUDA_VISIBLE_DEVICES: [0]\n",
            "INFO:lightning.pytorch.accelerators.cuda:LOCAL_RANK: 0 - CUDA_VISIBLE_DEVICES: [0]\n"
          ]
        },
        {
          "output_type": "display_data",
          "data": {
            "text/plain": [
              "Training:   0%|          | 0/500 [00:00<?, ?it/s]"
            ],
            "application/vnd.jupyter.widget-view+json": {
              "version_major": 2,
              "version_minor": 0,
              "model_id": "d99bb9b6dfd84425abb1a4d7ad9febca"
            }
          },
          "metadata": {}
        },
        {
          "output_type": "stream",
          "name": "stdout",
          "text": [
            "Monitored metric reconstruction_loss_validation did not improve in the last 50 records. Best score: 13004.480. Signaling Trainer to stop.\n"
          ]
        }
      ],
      "source": [
        "model = scvi.model.PEAKVI(adata)\n",
        "model.train()"
      ]
    },
    {
      "cell_type": "markdown",
      "metadata": {
        "id": "dab9yhHcMf8R"
      },
      "source": [
        "Since training a model can take a while, we recommend saving the trained model after training, just in case."
      ]
    },
    {
      "cell_type": "code",
      "execution_count": null,
      "metadata": {
        "execution": {
          "iopub.execute_input": "2024-09-20T08:19:42.069554Z",
          "iopub.status.busy": "2024-09-20T08:19:42.069459Z",
          "iopub.status.idle": "2024-09-20T08:19:42.144434Z",
          "shell.execute_reply": "2024-09-20T08:19:42.144058Z"
        },
        "id": "v5w3u7ZgMf8S"
      },
      "outputs": [],
      "source": [
        "model_dir = os.path.join(save_dir.name, \"peakvi_pbmc\")\n",
        "model.save(model_dir, overwrite=True)"
      ]
    },
    {
      "cell_type": "markdown",
      "metadata": {
        "id": "mvEQcMynMf8S"
      },
      "source": [
        "We can then load the model later, which require providing an AnnData object that is structured similarly to the one used for training (or, in most cases, the same one):"
      ]
    },
    {
      "cell_type": "code",
      "execution_count": null,
      "metadata": {
        "execution": {
          "iopub.execute_input": "2024-09-20T08:19:42.145937Z",
          "iopub.status.busy": "2024-09-20T08:19:42.145841Z",
          "iopub.status.idle": "2024-09-20T08:19:42.249594Z",
          "shell.execute_reply": "2024-09-20T08:19:42.249260Z"
        },
        "id": "_q34gv_hMf8S",
        "outputId": "b1ec2672-63f9-481a-b74f-99daf67e398f",
        "colab": {
          "base_uri": "https://localhost:8080/"
        }
      },
      "outputs": [
        {
          "output_type": "stream",
          "name": "stdout",
          "text": [
            "\u001b[34mINFO    \u001b[0m File \u001b[35m/tmp/tmpqod3bfam/peakvi_pbmc/\u001b[0m\u001b[95mmodel.pt\u001b[0m already downloaded                                             \n"
          ]
        }
      ],
      "source": [
        "model = scvi.model.PEAKVI.load(model_dir, adata=adata)"
      ]
    },
    {
      "cell_type": "markdown",
      "metadata": {
        "id": "3FRmN1bbMf8S"
      },
      "source": [
        "## Visualizing and analyzing the latent space\n",
        "\n",
        "We can now use the trained model to visualize, cluster, and analyze the data. We first extract the latent representation from the model, and save it back into our AnnData object:"
      ]
    },
    {
      "cell_type": "code",
      "execution_count": null,
      "metadata": {
        "colab": {
          "base_uri": "https://localhost:8080/"
        },
        "execution": {
          "iopub.execute_input": "2024-09-20T08:19:42.250565Z",
          "iopub.status.busy": "2024-09-20T08:19:42.250470Z",
          "iopub.status.idle": "2024-09-20T08:19:42.414685Z",
          "shell.execute_reply": "2024-09-20T08:19:42.414371Z"
        },
        "id": "shzoLMjQMf8S",
        "outputId": "5d0d014f-8ac1-4f6d-8d84-8e00742eba26"
      },
      "outputs": [
        {
          "output_type": "execute_result",
          "data": {
            "text/plain": [
              "(4585, 13)"
            ]
          },
          "metadata": {},
          "execution_count": 10
        }
      ],
      "source": [
        "PEAKVI_LATENT_KEY = \"X_peakvi\"\n",
        "\n",
        "latent = model.get_latent_representation()\n",
        "adata.obsm[PEAKVI_LATENT_KEY] = latent\n",
        "latent.shape"
      ]
    },
    {
      "cell_type": "markdown",
      "metadata": {
        "id": "-nIg0xy1Mf8T"
      },
      "source": [
        "We can now use Scanpy to cluster and visualize our latent space:"
      ]
    },
    {
      "cell_type": "code",
      "execution_count": null,
      "metadata": {
        "execution": {
          "iopub.execute_input": "2024-09-20T08:19:42.415666Z",
          "iopub.status.busy": "2024-09-20T08:19:42.415572Z",
          "iopub.status.idle": "2024-09-20T08:19:54.248820Z",
          "shell.execute_reply": "2024-09-20T08:19:54.248540Z"
        },
        "id": "CAzMk_4qMf8T",
        "outputId": "b4c9d26e-74f3-4192-d492-8cba1a15ab98",
        "colab": {
          "base_uri": "https://localhost:8080/"
        }
      },
      "outputs": [
        {
          "output_type": "stream",
          "name": "stderr",
          "text": [
            "<ipython-input-11-cf39525b5c96>:8: FutureWarning: In the future, the default backend for leiden will be igraph instead of leidenalg.\n",
            "\n",
            " To achieve the future defaults please pass: flavor=\"igraph\" and n_iterations=2.  directed must also be False to work with igraph's implementation.\n",
            "  sc.tl.leiden(adata, key_added=PEAKVI_CLUSTERS_KEY, resolution=0.2)\n"
          ]
        }
      ],
      "source": [
        "PEAKVI_CLUSTERS_KEY = \"clusters_peakvi\"\n",
        "\n",
        "# compute the k-nearest-neighbor graph that is used in both clustering and umap algorithms\n",
        "sc.pp.neighbors(adata, use_rep=PEAKVI_LATENT_KEY)\n",
        "# compute the umap\n",
        "sc.tl.umap(adata, min_dist=0.2)\n",
        "# cluster the space (we use a lower resolution to get fewer clusters than the default)\n",
        "sc.tl.leiden(adata, key_added=PEAKVI_CLUSTERS_KEY, resolution=0.2)"
      ]
    },
    {
      "cell_type": "code",
      "execution_count": null,
      "metadata": {
        "colab": {
          "base_uri": "https://localhost:8080/",
          "height": 294
        },
        "execution": {
          "iopub.execute_input": "2024-09-20T08:19:54.249844Z",
          "iopub.status.busy": "2024-09-20T08:19:54.249750Z",
          "iopub.status.idle": "2024-09-20T08:19:54.337542Z",
          "shell.execute_reply": "2024-09-20T08:19:54.337251Z"
        },
        "id": "gPm9j0aaMf8T",
        "outputId": "48b96bd3-1171-4d98-f1b6-fa7cd380ad21"
      },
      "outputs": [
        {
          "output_type": "display_data",
          "data": {
            "text/plain": [
              "<Figure size 320x320 with 1 Axes>"
            ],
            "image/png": "[encoded data removed]"
          },
          "metadata": {
            "image/png": {
              "width": 306,
              "height": 277
            }
          }
        }
      ],
      "source": [
        "sc.pl.umap(adata, color=PEAKVI_CLUSTERS_KEY)"
      ]
    },
    {
      "cell_type": "markdown",
      "metadata": {
        "id": "wGioRKwFMf8T"
      },
      "source": [
        "## Differential accessibility\n",
        "\n",
        "Finally, we can use PeakVI to identify regions that are differentially accessible. There are many different ways to run this analysis, but the simplest is comparing one cluster against all others, or comparing two clusters to each other. In the first case we'll be looking for marker-regions, so we'll mostly want a one-sided test (the significant regions will only be the ones preferentially accessible in our target cluster). In the second case we'll use a two-sided test to find regions that are differentially accessible, regardless of direction.\n",
        "\n",
        "We demonstrate both of these next, and do this in two different ways: (1) more convenient but less flexible: using an existing factor to group the cells, and then comparing groups. (2) more flexible: using cell indices directly.\n",
        "\n",
        "```{important}\n",
        "If the data includes multiple batches, we encourage setting `batch_correction=True` so the model will sample from multiple batches when computing the differential signal. We do this below despite the data only having a single batch, as a demonstration.\n",
        "```"
      ]
    },
    {
      "cell_type": "code",
      "execution_count": null,
      "metadata": {
        "colab": {
          "base_uri": "https://localhost:8080/",
          "height": 414,
          "referenced_widgets": [
            "b20ea028a4e14aa8ad6b98fce7b545a3",
            "f4ac16112acb4d5e9a5fb5aa9628c73b",
            "5506f45015bd41bb9913d8cd7f205057",
            "3a2be7fae61240f29b93e99fe21311c9",
            "47b9af1ce95a4ec0b4bead85a11ef58b",
            "d550e425e9f449799f18a2443f473d2a",
            "4e7d42e30b924806ba53eb151f74a3f6",
            "8d43c534b8414eac9e77dc81c7f145e8",
            "dab48d384a07487fa635192278d5f072",
            "551977e9d9b0403099c7fc19e254c95f",
            "5db709077a0d4413b00c2fcf92dfbb4d"
          ]
        },
        "execution": {
          "iopub.execute_input": "2024-09-20T08:19:54.338578Z",
          "iopub.status.busy": "2024-09-20T08:19:54.338487Z",
          "iopub.status.idle": "2024-09-20T08:20:06.694275Z",
          "shell.execute_reply": "2024-09-20T08:20:06.694008Z"
        },
        "id": "YptioB5PMf8T",
        "outputId": "ab1e114a-eabb-4740-b15e-f439446659bc"
      },
      "outputs": [
        {
          "output_type": "display_data",
          "data": {
            "text/plain": [
              "DE...:   0%|          | 0/1 [00:00<?, ?it/s]"
            ],
            "application/vnd.jupyter.widget-view+json": {
              "version_major": 2,
              "version_minor": 0,
              "model_id": "b20ea028a4e14aa8ad6b98fce7b545a3"
            }
          },
          "metadata": {}
        },
        {
          "output_type": "error",
          "ename": "TypeError",
          "evalue": "DifferentialComputation.get_bayes_factors() got an unexpected keyword argument 'two_sided'",
          "traceback": [
            "\u001b[0;31m---------------------------------------------------------------------------\u001b[0m",
            "\u001b[0;31mTypeError\u001b[0m                                 Traceback (most recent call last)",
            "\u001b[0;32m<ipython-input-13-d9b758898c18>\u001b[0m in \u001b[0;36m<cell line: 0>\u001b[0;34m()\u001b[0m\n\u001b[1;32m      1\u001b[0m \u001b[0;31m# (1.1) using a known factor to compare two clusters\u001b[0m\u001b[0;34m\u001b[0m\u001b[0;34m\u001b[0m\u001b[0m\n\u001b[1;32m      2\u001b[0m \u001b[0;31m## two-sided is True by default, but included here for emphasis\u001b[0m\u001b[0;34m\u001b[0m\u001b[0;34m\u001b[0m\u001b[0m\n\u001b[0;32m----> 3\u001b[0;31m da_res11 = model.differential_accessibility(\n\u001b[0m\u001b[1;32m      4\u001b[0m     \u001b[0mgroupby\u001b[0m\u001b[0;34m=\u001b[0m\u001b[0mPEAKVI_CLUSTERS_KEY\u001b[0m\u001b[0;34m,\u001b[0m \u001b[0mgroup1\u001b[0m\u001b[0;34m=\u001b[0m\u001b[0;34m\"3\"\u001b[0m\u001b[0;34m,\u001b[0m \u001b[0mgroup2\u001b[0m\u001b[0;34m=\u001b[0m\u001b[0;34m\"0\"\u001b[0m\u001b[0;34m,\u001b[0m \u001b[0mtwo_sided\u001b[0m\u001b[0;34m=\u001b[0m\u001b[0;32mTrue\u001b[0m\u001b[0;34m\u001b[0m\u001b[0;34m\u001b[0m\u001b[0m\n\u001b[1;32m      5\u001b[0m )\n",
            "\u001b[0;32m/usr/local/lib/python3.11/dist-packages/scvi/model/_peakvi.py\u001b[0m in \u001b[0;36mdifferential_accessibility\u001b[0;34m(self, adata, groupby, group1, group2, idx1, idx2, mode, delta, batch_size, all_stats, batch_correction, batchid1, batchid2, fdr_target, silent, **kwargs)\u001b[0m\n\u001b[1;32m    505\u001b[0m         )\n\u001b[1;32m    506\u001b[0m \u001b[0;34m\u001b[0m\u001b[0m\n\u001b[0;32m--> 507\u001b[0;31m         result = _de_core(\n\u001b[0m\u001b[1;32m    508\u001b[0m             \u001b[0madata_manager\u001b[0m\u001b[0;34m=\u001b[0m\u001b[0mself\u001b[0m\u001b[0;34m.\u001b[0m\u001b[0mget_anndata_manager\u001b[0m\u001b[0;34m(\u001b[0m\u001b[0madata\u001b[0m\u001b[0;34m,\u001b[0m \u001b[0mrequired\u001b[0m\u001b[0;34m=\u001b[0m\u001b[0;32mTrue\u001b[0m\u001b[0;34m)\u001b[0m\u001b[0;34m,\u001b[0m\u001b[0;34m\u001b[0m\u001b[0;34m\u001b[0m\u001b[0m\n\u001b[1;32m    509\u001b[0m             \u001b[0mmodel_fn\u001b[0m\u001b[0;34m=\u001b[0m\u001b[0mmodel_fn\u001b[0m\u001b[0;34m,\u001b[0m\u001b[0;34m\u001b[0m\u001b[0;34m\u001b[0m\u001b[0m\n",
            "\u001b[0;32m/usr/local/lib/python3.11/dist-packages/scvi/model/base/_de_core.py\u001b[0m in \u001b[0;36m_de_core\u001b[0;34m(adata_manager, model_fn, representation_fn, groupby, group1, group2, idx1, idx2, all_stats, all_stats_fn, col_names, mode, batchid1, batchid2, delta, batch_correction, fdr, silent, subset_idx, **kwargs)\u001b[0m\n\u001b[1;32m    171\u001b[0m             \u001b[0mcell_idx2\u001b[0m \u001b[0;34m=\u001b[0m \u001b[0;34m(\u001b[0m\u001b[0madata\u001b[0m\u001b[0;34m.\u001b[0m\u001b[0mobs\u001b[0m\u001b[0;34m[\u001b[0m\u001b[0mgroupby\u001b[0m\u001b[0;34m]\u001b[0m \u001b[0;34m==\u001b[0m \u001b[0mgroup2\u001b[0m\u001b[0;34m)\u001b[0m\u001b[0;34m.\u001b[0m\u001b[0mto_numpy\u001b[0m\u001b[0;34m(\u001b[0m\u001b[0;34m)\u001b[0m\u001b[0;34m.\u001b[0m\u001b[0mravel\u001b[0m\u001b[0;34m(\u001b[0m\u001b[0;34m)\u001b[0m\u001b[0;34m\u001b[0m\u001b[0;34m\u001b[0m\u001b[0m\n\u001b[1;32m    172\u001b[0m \u001b[0;34m\u001b[0m\u001b[0m\n\u001b[0;32m--> 173\u001b[0;31m         all_info = dc.get_bayes_factors(\n\u001b[0m\u001b[1;32m    174\u001b[0m             \u001b[0mcell_idx1\u001b[0m\u001b[0;34m,\u001b[0m\u001b[0;34m\u001b[0m\u001b[0;34m\u001b[0m\u001b[0m\n\u001b[1;32m    175\u001b[0m             \u001b[0mcell_idx2\u001b[0m\u001b[0;34m,\u001b[0m\u001b[0;34m\u001b[0m\u001b[0;34m\u001b[0m\u001b[0m\n",
            "\u001b[0;31mTypeError\u001b[0m: DifferentialComputation.get_bayes_factors() got an unexpected keyword argument 'two_sided'"
          ]
        }
      ],
      "source": [
        "# (1.1) using a known factor to compare two clusters\n",
        "da_res11 = model.differential_accessibility(\n",
        "    groupby=PEAKVI_CLUSTERS_KEY, group1=\"3\", group2=\"0\", two_sided=True\n",
        ")\n",
        "\n",
        "# (1.2) using a known factor to compare a cluster against all other clusters\n",
        "## if we only provide group1, group2 is all other cells by default\n",
        "da_res12 = model.differential_accessibility(\n",
        "    groupby=PEAKVI_CLUSTERS_KEY, group1=\"3\", two_sided=False\n",
        ")\n",
        "\n",
        "# (2.1) using indices to compare two clusters\n",
        "## we can use boolean masks or integer indices for the `idx1` and `idx2` arguments\n",
        "da_res21 = model.differential_accessibility(\n",
        "    idx1=adata.obs[PEAKVI_CLUSTERS_KEY] == \"3\",\n",
        "    idx2=adata.obs[PEAKVI_CLUSTERS_KEY] == \"0\",\n",
        "    two_sided=True,\n",
        ")\n",
        "# (2.2) using indices to compare a cluster against all other clusters\n",
        "## if we don't provide idx2, it uses all other cells as the contrast\n",
        "da_res22 = model.differential_accessibility(\n",
        "    idx1=np.where(adata.obs[PEAKVI_CLUSTERS_KEY] == \"3\"),\n",
        "    two_sided=False,\n",
        ")\n",
        "\n",
        "da_res22.head()"
      ]
    },
    {
      "cell_type": "markdown",
      "metadata": {
        "id": "zWseudKHMf8U"
      },
      "source": [
        "Note that `da_res11` and `da_res21` are equivalent, as are `da_res12` and `da_res22`.\n",
        "The return value is a pandas DataFrame with the differential results and basic properties of the comparison:\n",
        "\n",
        "`prob_da` in our case is the probability of cells from cluster 0 being more than 0.05 (the default minimal effect) more accessible than cells from the rest of the data.\n",
        "\n",
        "`is_da_fdr` is a conservative classification (True/False) of whether a region is differential accessible. This is one way to threshold the results.\n",
        "\n",
        "`bayes_factor` is a statistical significance score. It doesn't have a commonly acceptable threshold (e.g 0.05 for p-values), bu we demonstrate below that it's well calibrated to the effect size.\n",
        "\n",
        "`effect_size` is the effect size, calculated as `est_prob1 - est_prob2`.\n",
        "\n",
        "`emp_effect` is the empirical effect size, calculated as `emp_prob1 - emp_prob2`.\n",
        "\n",
        "`est_prob{1,2}` are the estimated probabilities of accessibility in group1 and group2.\n",
        "\n",
        "`emp_prob{1,2}` are the empirical probabilities of detection (how many cells in group X was the region detected in).\n",
        "\n",
        "We can make sure the probability of DA is well calibrated, and look at the regions that are identified as differentially accessible:"
      ]
    },
    {
      "cell_type": "code",
      "execution_count": null,
      "metadata": {
        "execution": {
          "iopub.execute_input": "2024-09-20T08:20:06.695277Z",
          "iopub.status.busy": "2024-09-20T08:20:06.695180Z",
          "iopub.status.idle": "2024-09-20T08:20:06.758579Z",
          "shell.execute_reply": "2024-09-20T08:20:06.758337Z"
        },
        "id": "uMenbDZ8Mf8U"
      },
      "outputs": [],
      "source": [
        "plt.scatter(da_res22.effect_size, da_res22.prob_da, s=1)\n",
        "plt.xlabel(\"effect size\")\n",
        "plt.ylabel(\"probability of DA\")\n",
        "plt.show()\n",
        "\n",
        "da_res22.loc[da_res22.is_da_fdr].sort_values(\"prob_da\", ascending=False).head(10)"
      ]
    },
    {
      "cell_type": "markdown",
      "metadata": {
        "id": "a8_I_8PLMf8U"
      },
      "source": [
        "We can now examine these regions to understand what is happening in the data, using various different annotation and enrichment methods. For instance, `chr11:60222766-60223569`, one of the regions preferentially accessible in cluster 0, is the promoter region of [`MS4A1`](https://www.genecards.org/cgi-bin/carddisp.pl?gene=MS4A1), also known as `CD20`, a known B-cell surface marker, indicating that cluster 0 are probably B-cells."
      ]
    }
  ],
  "metadata": {
    "accelerator": "GPU",
    "colab": {
      "provenance": []
    },
    "kernelspec": {
      "display_name": "Python 3",
      "language": "python",
      "name": "python3"
    },
    "language_info": {
      "codemirror_mode": {
        "name": "ipython",
        "version": 3
      },
      "file_extension": ".py",
      "mimetype": "text/x-python",
      "name": "python",
      "nbconvert_exporter": "python",
      "pygments_lexer": "ipython3",
      "version": "3.12.6"
    },
    "widgets": {
      "application/vnd.jupyter.widget-state+json": {
        "051946e95cb8403c9b00c7f2b74afa2f": {
          "model_module": "@jupyter-widgets/controls",
          "model_name": "HBoxModel",
          "model_module_version": "1.5.0",
          "state": {
            "_dom_classes": [],
            "_model_module": "@jupyter-widgets/controls",
            "_model_module_version": "1.5.0",
            "_model_name": "HBoxModel",
            "_view_count": null,
            "_view_module": "@jupyter-widgets/controls",
            "_view_module_version": "1.5.0",
            "_view_name": "HBoxView",
            "box_style": "",
            "children": [
              "IPY_MODEL_7bb844219c45426a88e97ddf2572a20d",
              "IPY_MODEL_e9f82ccbd02a43639d9f12a438ac5b0d",
              "IPY_MODEL_25850a0e83eb4a6ebf563eea15b8c820"
            ],
            "layout": "IPY_MODEL_6c86498586c24c82b2448de57a062ab8"
          }
        },
        "7bb844219c45426a88e97ddf2572a20d": {
          "model_module": "@jupyter-widgets/controls",
          "model_name": "HTMLModel",
          "model_module_version": "1.5.0",
          "state": {
            "_dom_classes": [],
            "_model_module": "@jupyter-widgets/controls",
            "_model_module_version": "1.5.0",
            "_model_name": "HTMLModel",
            "_view_count": null,
            "_view_module": "@jupyter-widgets/controls",
            "_view_module_version": "1.5.0",
            "_view_name": "HTMLView",
            "description": "",
            "description_tooltip": null,
            "layout": "IPY_MODEL_02bf875352794c5381fdee91e33623c3",
            "placeholder": "​",
            "style": "IPY_MODEL_853ce191a54e475ebdb981bda260e5ae",
            "value": "100%"
          }
        },
        "e9f82ccbd02a43639d9f12a438ac5b0d": {
          "model_module": "@jupyter-widgets/controls",
          "model_name": "FloatProgressModel",
          "model_module_version": "1.5.0",
          "state": {
            "_dom_classes": [],
            "_model_module": "@jupyter-widgets/controls",
            "_model_module_version": "1.5.0",
            "_model_name": "FloatProgressModel",
            "_view_count": null,
            "_view_module": "@jupyter-widgets/controls",
            "_view_module_version": "1.5.0",
            "_view_name": "ProgressView",
            "bar_style": "success",
            "description": "",
            "description_tooltip": null,
            "layout": "IPY_MODEL_cff73360a56b43749c03563db5b9bcbc",
            "max": 383078110,
            "min": 0,
            "orientation": "horizontal",
            "style": "IPY_MODEL_cade9ab84d8e432a9b953544480ab879",
            "value": 383078110
          }
        },
        "25850a0e83eb4a6ebf563eea15b8c820": {
          "model_module": "@jupyter-widgets/controls",
          "model_name": "HTMLModel",
          "model_module_version": "1.5.0",
          "state": {
            "_dom_classes": [],
            "_model_module": "@jupyter-widgets/controls",
            "_model_module_version": "1.5.0",
            "_model_name": "HTMLModel",
            "_view_count": null,
            "_view_module": "@jupyter-widgets/controls",
            "_view_module_version": "1.5.0",
            "_view_name": "HTMLView",
            "description": "",
            "description_tooltip": null,
            "layout": "IPY_MODEL_f8d66f0b05844d889c4ce1a8390f055b",
            "placeholder": "​",
            "style": "IPY_MODEL_8aa61dd52fec454693c100da154f9b8d",
            "value": " 365M/365M [00:37&lt;00:00, 10.6MB/s]"
          }
        },
        "6c86498586c24c82b2448de57a062ab8": {
          "model_module": "@jupyter-widgets/base",
          "model_name": "LayoutModel",
          "model_module_version": "1.2.0",
          "state": {
            "_model_module": "@jupyter-widgets/base",
            "_model_module_version": "1.2.0",
            "_model_name": "LayoutModel",
            "_view_count": null,
            "_view_module": "@jupyter-widgets/base",
            "_view_module_version": "1.2.0",
            "_view_name": "LayoutView",
            "align_content": null,
            "align_items": null,
            "align_self": null,
            "border": null,
            "bottom": null,
            "display": null,
            "flex": null,
            "flex_flow": null,
            "grid_area": null,
            "grid_auto_columns": null,
            "grid_auto_flow": null,
            "grid_auto_rows": null,
            "grid_column": null,
            "grid_gap": null,
            "grid_row": null,
            "grid_template_areas": null,
            "grid_template_columns": null,
            "grid_template_rows": null,
            "height": null,
            "justify_content": null,
            "justify_items": null,
            "left": null,
            "margin": null,
            "max_height": null,
            "max_width": null,
            "min_height": null,
            "min_width": null,
            "object_fit": null,
            "object_position": null,
            "order": null,
            "overflow": null,
            "overflow_x": null,
            "overflow_y": null,
            "padding": null,
            "right": null,
            "top": null,
            "visibility": null,
            "width": null
          }
        },
        "02bf875352794c5381fdee91e33623c3": {
          "model_module": "@jupyter-widgets/base",
          "model_name": "LayoutModel",
          "model_module_version": "1.2.0",
          "state": {
            "_model_module": "@jupyter-widgets/base",
            "_model_module_version": "1.2.0",
            "_model_name": "LayoutModel",
            "_view_count": null,
            "_view_module": "@jupyter-widgets/base",
            "_view_module_version": "1.2.0",
            "_view_name": "LayoutView",
            "align_content": null,
            "align_items": null,
            "align_self": null,
            "border": null,
            "bottom": null,
            "display": null,
            "flex": null,
            "flex_flow": null,
            "grid_area": null,
            "grid_auto_columns": null,
            "grid_auto_flow": null,
            "grid_auto_rows": null,
            "grid_column": null,
            "grid_gap": null,
            "grid_row": null,
            "grid_template_areas": null,
            "grid_template_columns": null,
            "grid_template_rows": null,
            "height": null,
            "justify_content": null,
            "justify_items": null,
            "left": null,
            "margin": null,
            "max_height": null,
            "max_width": null,
            "min_height": null,
            "min_width": null,
            "object_fit": null,
            "object_position": null,
            "order": null,
            "overflow": null,
            "overflow_x": null,
            "overflow_y": null,
            "padding": null,
            "right": null,
            "top": null,
            "visibility": null,
            "width": null
          }
        },
        "853ce191a54e475ebdb981bda260e5ae": {
          "model_module": "@jupyter-widgets/controls",
          "model_name": "DescriptionStyleModel",
          "model_module_version": "1.5.0",
          "state": {
            "_model_module": "@jupyter-widgets/controls",
            "_model_module_version": "1.5.0",
            "_model_name": "DescriptionStyleModel",
            "_view_count": null,
            "_view_module": "@jupyter-widgets/base",
            "_view_module_version": "1.2.0",
            "_view_name": "StyleView",
            "description_width": ""
          }
        },
        "cff73360a56b43749c03563db5b9bcbc": {
          "model_module": "@jupyter-widgets/base",
          "model_name": "LayoutModel",
          "model_module_version": "1.2.0",
          "state": {
            "_model_module": "@jupyter-widgets/base",
            "_model_module_version": "1.2.0",
            "_model_name": "LayoutModel",
            "_view_count": null,
            "_view_module": "@jupyter-widgets/base",
            "_view_module_version": "1.2.0",
            "_view_name": "LayoutView",
            "align_content": null,
            "align_items": null,
            "align_self": null,
            "border": null,
            "bottom": null,
            "display": null,
            "flex": null,
            "flex_flow": null,
            "grid_area": null,
            "grid_auto_columns": null,
            "grid_auto_flow": null,
            "grid_auto_rows": null,
            "grid_column": null,
            "grid_gap": null,
            "grid_row": null,
            "grid_template_areas": null,
            "grid_template_columns": null,
            "grid_template_rows": null,
            "height": null,
            "justify_content": null,
            "justify_items": null,
            "left": null,
            "margin": null,
            "max_height": null,
            "max_width": null,
            "min_height": null,
            "min_width": null,
            "object_fit": null,
            "object_position": null,
            "order": null,
            "overflow": null,
            "overflow_x": null,
            "overflow_y": null,
            "padding": null,
            "right": null,
            "top": null,
            "visibility": null,
            "width": null
          }
        },
        "cade9ab84d8e432a9b953544480ab879": {
          "model_module": "@jupyter-widgets/controls",
          "model_name": "ProgressStyleModel",
          "model_module_version": "1.5.0",
          "state": {
            "_model_module": "@jupyter-widgets/controls",
            "_model_module_version": "1.5.0",
            "_model_name": "ProgressStyleModel",
            "_view_count": null,
            "_view_module": "@jupyter-widgets/base",
            "_view_module_version": "1.2.0",
            "_view_name": "StyleView",
            "bar_color": null,
            "description_width": ""
          }
        },
        "f8d66f0b05844d889c4ce1a8390f055b": {
          "model_module": "@jupyter-widgets/base",
          "model_name": "LayoutModel",
          "model_module_version": "1.2.0",
          "state": {
            "_model_module": "@jupyter-widgets/base",
            "_model_module_version": "1.2.0",
            "_model_name": "LayoutModel",
            "_view_count": null,
            "_view_module": "@jupyter-widgets/base",
            "_view_module_version": "1.2.0",
            "_view_name": "LayoutView",
            "align_content": null,
            "align_items": null,
            "align_self": null,
            "border": null,
            "bottom": null,
            "display": null,
            "flex": null,
            "flex_flow": null,
            "grid_area": null,
            "grid_auto_columns": null,
            "grid_auto_flow": null,
            "grid_auto_rows": null,
            "grid_column": null,
            "grid_gap": null,
            "grid_row": null,
            "grid_template_areas": null,
            "grid_template_columns": null,
            "grid_template_rows": null,
            "height": null,
            "justify_content": null,
            "justify_items": null,
            "left": null,
            "margin": null,
            "max_height": null,
            "max_width": null,
            "min_height": null,
            "min_width": null,
            "object_fit": null,
            "object_position": null,
            "order": null,
            "overflow": null,
            "overflow_x": null,
            "overflow_y": null,
            "padding": null,
            "right": null,
            "top": null,
            "visibility": null,
            "width": null
          }
        },
        "8aa61dd52fec454693c100da154f9b8d": {
          "model_module": "@jupyter-widgets/controls",
          "model_name": "DescriptionStyleModel",
          "model_module_version": "1.5.0",
          "state": {
            "_model_module": "@jupyter-widgets/controls",
            "_model_module_version": "1.5.0",
            "_model_name": "DescriptionStyleModel",
            "_view_count": null,
            "_view_module": "@jupyter-widgets/base",
            "_view_module_version": "1.2.0",
            "_view_name": "StyleView",
            "description_width": ""
          }
        },
        "d99bb9b6dfd84425abb1a4d7ad9febca": {
          "model_module": "@jupyter-widgets/controls",
          "model_name": "HBoxModel",
          "model_module_version": "1.5.0",
          "state": {
            "_dom_classes": [],
            "_model_module": "@jupyter-widgets/controls",
            "_model_module_version": "1.5.0",
            "_model_name": "HBoxModel",
            "_view_count": null,
            "_view_module": "@jupyter-widgets/controls",
            "_view_module_version": "1.5.0",
            "_view_name": "HBoxView",
            "box_style": "",
            "children": [
              "IPY_MODEL_a9aa8984434345389f008a5bf245186f",
              "IPY_MODEL_400bcff22d4a4e7a90b66edf8c51bd7c",
              "IPY_MODEL_8cc2c26c6e764c4aa73494735a01a626"
            ],
            "layout": "IPY_MODEL_48b3568f911e4338ac8d67b0b15b8f8b"
          }
        },
        "a9aa8984434345389f008a5bf245186f": {
          "model_module": "@jupyter-widgets/controls",
          "model_name": "HTMLModel",
          "model_module_version": "1.5.0",
          "state": {
            "_dom_classes": [],
            "_model_module": "@jupyter-widgets/controls",
            "_model_module_version": "1.5.0",
            "_model_name": "HTMLModel",
            "_view_count": null,
            "_view_module": "@jupyter-widgets/controls",
            "_view_module_version": "1.5.0",
            "_view_name": "HTMLView",
            "description": "",
            "description_tooltip": null,
            "layout": "IPY_MODEL_5b7e4ed86ec44547801f303f6a0587df",
            "placeholder": "​",
            "style": "IPY_MODEL_538eb72f0b0041729b2ac8d402e01e51",
            "value": "Epoch 274/500:  55%"
          }
        },
        "400bcff22d4a4e7a90b66edf8c51bd7c": {
          "model_module": "@jupyter-widgets/controls",
          "model_name": "FloatProgressModel",
          "model_module_version": "1.5.0",
          "state": {
            "_dom_classes": [],
            "_model_module": "@jupyter-widgets/controls",
            "_model_module_version": "1.5.0",
            "_model_name": "FloatProgressModel",
            "_view_count": null,
            "_view_module": "@jupyter-widgets/controls",
            "_view_module_version": "1.5.0",
            "_view_name": "ProgressView",
            "bar_style": "danger",
            "description": "",
            "description_tooltip": null,
            "layout": "IPY_MODEL_a3084bc33eaa498d84497a3838e76e74",
            "max": 500,
            "min": 0,
            "orientation": "horizontal",
            "style": "IPY_MODEL_c34f1d12d0f54cac86722780ad9616e6",
            "value": 274
          }
        },
        "8cc2c26c6e764c4aa73494735a01a626": {
          "model_module": "@jupyter-widgets/controls",
          "model_name": "HTMLModel",
          "model_module_version": "1.5.0",
          "state": {
            "_dom_classes": [],
            "_model_module": "@jupyter-widgets/controls",
            "_model_module_version": "1.5.0",
            "_model_name": "HTMLModel",
            "_view_count": null,
            "_view_module": "@jupyter-widgets/controls",
            "_view_module_version": "1.5.0",
            "_view_name": "HTMLView",
            "description": "",
            "description_tooltip": null,
            "layout": "IPY_MODEL_b0491d350ae74415bf059e5a4820c76d",
            "placeholder": "​",
            "style": "IPY_MODEL_f9b2be5deffc4522b46fc0570a877d52",
            "value": " 274/500 [05:00&lt;04:02,  1.07s/it, v_num=1, train_loss_step=1.14e+7, train_loss_epoch=2.01e+8]"
          }
        },
        "48b3568f911e4338ac8d67b0b15b8f8b": {
          "model_module": "@jupyter-widgets/base",
          "model_name": "LayoutModel",
          "model_module_version": "1.2.0",
          "state": {
            "_model_module": "@jupyter-widgets/base",
            "_model_module_version": "1.2.0",
            "_model_name": "LayoutModel",
            "_view_count": null,
            "_view_module": "@jupyter-widgets/base",
            "_view_module_version": "1.2.0",
            "_view_name": "LayoutView",
            "align_content": null,
            "align_items": null,
            "align_self": null,
            "border": null,
            "bottom": null,
            "display": null,
            "flex": null,
            "flex_flow": null,
            "grid_area": null,
            "grid_auto_columns": null,
            "grid_auto_flow": null,
            "grid_auto_rows": null,
            "grid_column": null,
            "grid_gap": null,
            "grid_row": null,
            "grid_template_areas": null,
            "grid_template_columns": null,
            "grid_template_rows": null,
            "height": null,
            "justify_content": null,
            "justify_items": null,
            "left": null,
            "margin": null,
            "max_height": null,
            "max_width": null,
            "min_height": null,
            "min_width": null,
            "object_fit": null,
            "object_position": null,
            "order": null,
            "overflow": null,
            "overflow_x": null,
            "overflow_y": null,
            "padding": null,
            "right": null,
            "top": null,
            "visibility": null,
            "width": null
          }
        },
        "5b7e4ed86ec44547801f303f6a0587df": {
          "model_module": "@jupyter-widgets/base",
          "model_name": "LayoutModel",
          "model_module_version": "1.2.0",
          "state": {
            "_model_module": "@jupyter-widgets/base",
            "_model_module_version": "1.2.0",
            "_model_name": "LayoutModel",
            "_view_count": null,
            "_view_module": "@jupyter-widgets/base",
            "_view_module_version": "1.2.0",
            "_view_name": "LayoutView",
            "align_content": null,
            "align_items": null,
            "align_self": null,
            "border": null,
            "bottom": null,
            "display": null,
            "flex": null,
            "flex_flow": null,
            "grid_area": null,
            "grid_auto_columns": null,
            "grid_auto_flow": null,
            "grid_auto_rows": null,
            "grid_column": null,
            "grid_gap": null,
            "grid_row": null,
            "grid_template_areas": null,
            "grid_template_columns": null,
            "grid_template_rows": null,
            "height": null,
            "justify_content": null,
            "justify_items": null,
            "left": null,
            "margin": null,
            "max_height": null,
            "max_width": null,
            "min_height": null,
            "min_width": null,
            "object_fit": null,
            "object_position": null,
            "order": null,
            "overflow": null,
            "overflow_x": null,
            "overflow_y": null,
            "padding": null,
            "right": null,
            "top": null,
            "visibility": null,
            "width": null
          }
        },
        "538eb72f0b0041729b2ac8d402e01e51": {
          "model_module": "@jupyter-widgets/controls",
          "model_name": "DescriptionStyleModel",
          "model_module_version": "1.5.0",
          "state": {
            "_model_module": "@jupyter-widgets/controls",
            "_model_module_version": "1.5.0",
            "_model_name": "DescriptionStyleModel",
            "_view_count": null,
            "_view_module": "@jupyter-widgets/base",
            "_view_module_version": "1.2.0",
            "_view_name": "StyleView",
            "description_width": ""
          }
        },
        "a3084bc33eaa498d84497a3838e76e74": {
          "model_module": "@jupyter-widgets/base",
          "model_name": "LayoutModel",
          "model_module_version": "1.2.0",
          "state": {
            "_model_module": "@jupyter-widgets/base",
            "_model_module_version": "1.2.0",
            "_model_name": "LayoutModel",
            "_view_count": null,
            "_view_module": "@jupyter-widgets/base",
            "_view_module_version": "1.2.0",
            "_view_name": "LayoutView",
            "align_content": null,
            "align_items": null,
            "align_self": null,
            "border": null,
            "bottom": null,
            "display": null,
            "flex": null,
            "flex_flow": null,
            "grid_area": null,
            "grid_auto_columns": null,
            "grid_auto_flow": null,
            "grid_auto_rows": null,
            "grid_column": null,
            "grid_gap": null,
            "grid_row": null,
            "grid_template_areas": null,
            "grid_template_columns": null,
            "grid_template_rows": null,
            "height": null,
            "justify_content": null,
            "justify_items": null,
            "left": null,
            "margin": null,
            "max_height": null,
            "max_width": null,
            "min_height": null,
            "min_width": null,
            "object_fit": null,
            "object_position": null,
            "order": null,
            "overflow": null,
            "overflow_x": null,
            "overflow_y": null,
            "padding": null,
            "right": null,
            "top": null,
            "visibility": null,
            "width": null
          }
        },
        "c34f1d12d0f54cac86722780ad9616e6": {
          "model_module": "@jupyter-widgets/controls",
          "model_name": "ProgressStyleModel",
          "model_module_version": "1.5.0",
          "state": {
            "_model_module": "@jupyter-widgets/controls",
            "_model_module_version": "1.5.0",
            "_model_name": "ProgressStyleModel",
            "_view_count": null,
            "_view_module": "@jupyter-widgets/base",
            "_view_module_version": "1.2.0",
            "_view_name": "StyleView",
            "bar_color": null,
            "description_width": ""
          }
        },
        "b0491d350ae74415bf059e5a4820c76d": {
          "model_module": "@jupyter-widgets/base",
          "model_name": "LayoutModel",
          "model_module_version": "1.2.0",
          "state": {
            "_model_module": "@jupyter-widgets/base",
            "_model_module_version": "1.2.0",
            "_model_name": "LayoutModel",
            "_view_count": null,
            "_view_module": "@jupyter-widgets/base",
            "_view_module_version": "1.2.0",
            "_view_name": "LayoutView",
            "align_content": null,
            "align_items": null,
            "align_self": null,
            "border": null,
            "bottom": null,
            "display": null,
            "flex": null,
            "flex_flow": null,
            "grid_area": null,
            "grid_auto_columns": null,
            "grid_auto_flow": null,
            "grid_auto_rows": null,
            "grid_column": null,
            "grid_gap": null,
            "grid_row": null,
            "grid_template_areas": null,
            "grid_template_columns": null,
            "grid_template_rows": null,
            "height": null,
            "justify_content": null,
            "justify_items": null,
            "left": null,
            "margin": null,
            "max_height": null,
            "max_width": null,
            "min_height": null,
            "min_width": null,
            "object_fit": null,
            "object_position": null,
            "order": null,
            "overflow": null,
            "overflow_x": null,
            "overflow_y": null,
            "padding": null,
            "right": null,
            "top": null,
            "visibility": null,
            "width": null
          }
        },
        "f9b2be5deffc4522b46fc0570a877d52": {
          "model_module": "@jupyter-widgets/controls",
          "model_name": "DescriptionStyleModel",
          "model_module_version": "1.5.0",
          "state": {
            "_model_module": "@jupyter-widgets/controls",
            "_model_module_version": "1.5.0",
            "_model_name": "DescriptionStyleModel",
            "_view_count": null,
            "_view_module": "@jupyter-widgets/base",
            "_view_module_version": "1.2.0",
            "_view_name": "StyleView",
            "description_width": ""
          }
        },
        "b20ea028a4e14aa8ad6b98fce7b545a3": {
          "model_module": "@jupyter-widgets/controls",
          "model_name": "HBoxModel",
          "model_module_version": "1.5.0",
          "state": {
            "_dom_classes": [],
            "_model_module": "@jupyter-widgets/controls",
            "_model_module_version": "1.5.0",
            "_model_name": "HBoxModel",
            "_view_count": null,
            "_view_module": "@jupyter-widgets/controls",
            "_view_module_version": "1.5.0",
            "_view_name": "HBoxView",
            "box_style": "",
            "children": [
              "IPY_MODEL_f4ac16112acb4d5e9a5fb5aa9628c73b",
              "IPY_MODEL_5506f45015bd41bb9913d8cd7f205057",
              "IPY_MODEL_3a2be7fae61240f29b93e99fe21311c9"
            ],
            "layout": "IPY_MODEL_47b9af1ce95a4ec0b4bead85a11ef58b"
          }
        },
        "f4ac16112acb4d5e9a5fb5aa9628c73b": {
          "model_module": "@jupyter-widgets/controls",
          "model_name": "HTMLModel",
          "model_module_version": "1.5.0",
          "state": {
            "_dom_classes": [],
            "_model_module": "@jupyter-widgets/controls",
            "_model_module_version": "1.5.0",
            "_model_name": "HTMLModel",
            "_view_count": null,
            "_view_module": "@jupyter-widgets/controls",
            "_view_module_version": "1.5.0",
            "_view_name": "HTMLView",
            "description": "",
            "description_tooltip": null,
            "layout": "IPY_MODEL_d550e425e9f449799f18a2443f473d2a",
            "placeholder": "​",
            "style": "IPY_MODEL_4e7d42e30b924806ba53eb151f74a3f6",
            "value": "DE...:   0%"
          }
        },
        "5506f45015bd41bb9913d8cd7f205057": {
          "model_module": "@jupyter-widgets/controls",
          "model_name": "FloatProgressModel",
          "model_module_version": "1.5.0",
          "state": {
            "_dom_classes": [],
            "_model_module": "@jupyter-widgets/controls",
            "_model_module_version": "1.5.0",
            "_model_name": "FloatProgressModel",
            "_view_count": null,
            "_view_module": "@jupyter-widgets/controls",
            "_view_module_version": "1.5.0",
            "_view_name": "ProgressView",
            "bar_style": "danger",
            "description": "",
            "description_tooltip": null,
            "layout": "IPY_MODEL_8d43c534b8414eac9e77dc81c7f145e8",
            "max": 1,
            "min": 0,
            "orientation": "horizontal",
            "style": "IPY_MODEL_dab48d384a07487fa635192278d5f072",
            "value": 0
          }
        },
        "3a2be7fae61240f29b93e99fe21311c9": {
          "model_module": "@jupyter-widgets/controls",
          "model_name": "HTMLModel",
          "model_module_version": "1.5.0",
          "state": {
            "_dom_classes": [],
            "_model_module": "@jupyter-widgets/controls",
            "_model_module_version": "1.5.0",
            "_model_name": "HTMLModel",
            "_view_count": null,
            "_view_module": "@jupyter-widgets/controls",
            "_view_module_version": "1.5.0",
            "_view_name": "HTMLView",
            "description": "",
            "description_tooltip": null,
            "layout": "IPY_MODEL_551977e9d9b0403099c7fc19e254c95f",
            "placeholder": "​",
            "style": "IPY_MODEL_5db709077a0d4413b00c2fcf92dfbb4d",
            "value": " 0/1 [00:00&lt;?, ?it/s]"
          }
        },
        "47b9af1ce95a4ec0b4bead85a11ef58b": {
          "model_module": "@jupyter-widgets/base",
          "model_name": "LayoutModel",
          "model_module_version": "1.2.0",
          "state": {
            "_model_module": "@jupyter-widgets/base",
            "_model_module_version": "1.2.0",
            "_model_name": "LayoutModel",
            "_view_count": null,
            "_view_module": "@jupyter-widgets/base",
            "_view_module_version": "1.2.0",
            "_view_name": "LayoutView",
            "align_content": null,
            "align_items": null,
            "align_self": null,
            "border": null,
            "bottom": null,
            "display": null,
            "flex": null,
            "flex_flow": null,
            "grid_area": null,
            "grid_auto_columns": null,
            "grid_auto_flow": null,
            "grid_auto_rows": null,
            "grid_column": null,
            "grid_gap": null,
            "grid_row": null,
            "grid_template_areas": null,
            "grid_template_columns": null,
            "grid_template_rows": null,
            "height": null,
            "justify_content": null,
            "justify_items": null,
            "left": null,
            "margin": null,
            "max_height": null,
            "max_width": null,
            "min_height": null,
            "min_width": null,
            "object_fit": null,
            "object_position": null,
            "order": null,
            "overflow": null,
            "overflow_x": null,
            "overflow_y": null,
            "padding": null,
            "right": null,
            "top": null,
            "visibility": null,
            "width": null
          }
        },
        "d550e425e9f449799f18a2443f473d2a": {
          "model_module": "@jupyter-widgets/base",
          "model_name": "LayoutModel",
          "model_module_version": "1.2.0",
          "state": {
            "_model_module": "@jupyter-widgets/base",
            "_model_module_version": "1.2.0",
            "_model_name": "LayoutModel",
            "_view_count": null,
            "_view_module": "@jupyter-widgets/base",
            "_view_module_version": "1.2.0",
            "_view_name": "LayoutView",
            "align_content": null,
            "align_items": null,
            "align_self": null,
            "border": null,
            "bottom": null,
            "display": null,
            "flex": null,
            "flex_flow": null,
            "grid_area": null,
            "grid_auto_columns": null,
            "grid_auto_flow": null,
            "grid_auto_rows": null,
            "grid_column": null,
            "grid_gap": null,
            "grid_row": null,
            "grid_template_areas": null,
            "grid_template_columns": null,
            "grid_template_rows": null,
            "height": null,
            "justify_content": null,
            "justify_items": null,
            "left": null,
            "margin": null,
            "max_height": null,
            "max_width": null,
            "min_height": null,
            "min_width": null,
            "object_fit": null,
            "object_position": null,
            "order": null,
            "overflow": null,
            "overflow_x": null,
            "overflow_y": null,
            "padding": null,
            "right": null,
            "top": null,
            "visibility": null,
            "width": null
          }
        },
        "4e7d42e30b924806ba53eb151f74a3f6": {
          "model_module": "@jupyter-widgets/controls",
          "model_name": "DescriptionStyleModel",
          "model_module_version": "1.5.0",
          "state": {
            "_model_module": "@jupyter-widgets/controls",
            "_model_module_version": "1.5.0",
            "_model_name": "DescriptionStyleModel",
            "_view_count": null,
            "_view_module": "@jupyter-widgets/base",
            "_view_module_version": "1.2.0",
            "_view_name": "StyleView",
            "description_width": ""
          }
        },
        "8d43c534b8414eac9e77dc81c7f145e8": {
          "model_module": "@jupyter-widgets/base",
          "model_name": "LayoutModel",
          "model_module_version": "1.2.0",
          "state": {
            "_model_module": "@jupyter-widgets/base",
            "_model_module_version": "1.2.0",
            "_model_name": "LayoutModel",
            "_view_count": null,
            "_view_module": "@jupyter-widgets/base",
            "_view_module_version": "1.2.0",
            "_view_name": "LayoutView",
            "align_content": null,
            "align_items": null,
            "align_self": null,
            "border": null,
            "bottom": null,
            "display": null,
            "flex": null,
            "flex_flow": null,
            "grid_area": null,
            "grid_auto_columns": null,
            "grid_auto_flow": null,
            "grid_auto_rows": null,
            "grid_column": null,
            "grid_gap": null,
            "grid_row": null,
            "grid_template_areas": null,
            "grid_template_columns": null,
            "grid_template_rows": null,
            "height": null,
            "justify_content": null,
            "justify_items": null,
            "left": null,
            "margin": null,
            "max_height": null,
            "max_width": null,
            "min_height": null,
            "min_width": null,
            "object_fit": null,
            "object_position": null,
            "order": null,
            "overflow": null,
            "overflow_x": null,
            "overflow_y": null,
            "padding": null,
            "right": null,
            "top": null,
            "visibility": null,
            "width": null
          }
        },
        "dab48d384a07487fa635192278d5f072": {
          "model_module": "@jupyter-widgets/controls",
          "model_name": "ProgressStyleModel",
          "model_module_version": "1.5.0",
          "state": {
            "_model_module": "@jupyter-widgets/controls",
            "_model_module_version": "1.5.0",
            "_model_name": "ProgressStyleModel",
            "_view_count": null,
            "_view_module": "@jupyter-widgets/base",
            "_view_module_version": "1.2.0",
            "_view_name": "StyleView",
            "bar_color": null,
            "description_width": ""
          }
        },
        "551977e9d9b0403099c7fc19e254c95f": {
          "model_module": "@jupyter-widgets/base",
          "model_name": "LayoutModel",
          "model_module_version": "1.2.0",
          "state": {
            "_model_module": "@jupyter-widgets/base",
            "_model_module_version": "1.2.0",
            "_model_name": "LayoutModel",
            "_view_count": null,
            "_view_module": "@jupyter-widgets/base",
            "_view_module_version": "1.2.0",
            "_view_name": "LayoutView",
            "align_content": null,
            "align_items": null,
            "align_self": null,
            "border": null,
            "bottom": null,
            "display": null,
            "flex": null,
            "flex_flow": null,
            "grid_area": null,
            "grid_auto_columns": null,
            "grid_auto_flow": null,
            "grid_auto_rows": null,
            "grid_column": null,
            "grid_gap": null,
            "grid_row": null,
            "grid_template_areas": null,
            "grid_template_columns": null,
            "grid_template_rows": null,
            "height": null,
            "justify_content": null,
            "justify_items": null,
            "left": null,
            "margin": null,
            "max_height": null,
            "max_width": null,
            "min_height": null,
            "min_width": null,
            "object_fit": null,
            "object_position": null,
            "order": null,
            "overflow": null,
            "overflow_x": null,
            "overflow_y": null,
            "padding": null,
            "right": null,
            "top": null,
            "visibility": null,
            "width": null
          }
        },
        "5db709077a0d4413b00c2fcf92dfbb4d": {
          "model_module": "@jupyter-widgets/controls",
          "model_name": "DescriptionStyleModel",
          "model_module_version": "1.5.0",
          "state": {
            "_model_module": "@jupyter-widgets/controls",
            "_model_module_version": "1.5.0",
            "_model_name": "DescriptionStyleModel",
            "_view_count": null,
            "_view_module": "@jupyter-widgets/base",
            "_view_module_version": "1.2.0",
            "_view_name": "StyleView",
            "description_width": ""
          }
        }
      }
    }
  },
  "nbformat": 4,
  "nbformat_minor": 0
}
