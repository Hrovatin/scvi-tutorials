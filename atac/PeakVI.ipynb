{
 "cells": [
  {
   "cell_type": "markdown",
   "metadata": {
    "id": "DkJ5AI1zMf8I"
   },
   "source": [
    "# PeakVI: Analyzing scATACseq data\n",
    "\n",
    "PeakVI is used for analyzing scATACseq data. This tutorial walks through how to read, set-up and train the model, accessing and visualizing the latent space, and differential accessibility. We use the 5kPBMC sample dataset from 10X but these steps can be easily adjusted for other datasets."
   ]
  },
  {
   "cell_type": "markdown",
   "metadata": {
    "id": "kZiN2swWUKe2"
   },
   "source": [
    "```{note}\n",
    "Running the following cell will install tutorial dependencies on Google Colab only. It will have no effect on environments other than Google Colab."
   ]
  },
  {
   "cell_type": "code",
   "execution_count": null,
   "metadata": {
    "execution": {
     "iopub.execute_input": "2024-09-20T08:17:34.387424Z",
     "iopub.status.busy": "2024-09-20T08:17:34.387325Z",
     "iopub.status.idle": "2024-09-20T08:17:35.387302Z",
     "shell.execute_reply": "2024-09-20T08:17:35.386913Z"
    },
    "id": "jiE2wyVqUKe2",
    "outputId": "19862f67-7dbf-4a33-941c-891793063ac4"
   },
   "outputs": [
    {
     "name": "stdout",
     "output_type": "stream",
     "text": [
      "\u001b[33mWARNING: Running pip as the 'root' user can result in broken permissions and conflicting behaviour with the system package manager, possibly rendering your system unusable.It is recommended to use a virtual environment instead: https://pip.pypa.io/warnings/venv. Use the --root-user-action option if you know what you are doing and want to suppress this warning.\u001b[0m\u001b[33m\r\n",
      "\u001b[0m"
     ]
    },
    {
     "name": "stderr",
     "output_type": "stream",
     "text": [
      "/usr/local/lib/python3.12/site-packages/scvi_colab/_core.py:41: UserWarning: \n",
      "                Not currently in Google Colab environment.\n",
      "\n",
      "                Please run with `run_outside_colab=True` to override.\n",
      "\n",
      "                Returning with no further action.\n",
      "                \n",
      "  warn(\n"
     ]
    }
   ],
   "source": [
    "!pip install --quiet scvi-colab\n",
    "from scvi_colab import install\n",
    "\n",
    "install()"
   ]
  },
  {
   "cell_type": "code",
   "execution_count": null,
   "metadata": {
    "colab": {
     "base_uri": "https://localhost:8080/"
    },
    "execution": {
     "iopub.execute_input": "2024-09-20T08:17:35.388413Z",
     "iopub.status.busy": "2024-09-20T08:17:35.388309Z",
     "iopub.status.idle": "2024-09-20T08:17:44.219993Z",
     "shell.execute_reply": "2024-09-20T08:17:44.219578Z"
    },
    "id": "tcbBdgYoMf8O",
    "outputId": "c7fc0a25-9760-42d6-8768-e17b560cbdee"
   },
   "outputs": [
    {
     "name": "stderr",
     "output_type": "stream",
     "text": [
      "/usr/local/lib/python3.12/site-packages/leidenalg/VertexPartition.py:388: SyntaxWarning: invalid escape sequence '\\m'\n",
      "  \"\"\" Implements modularity. This quality function is well-defined only for positive edge weights.\n",
      "/usr/local/lib/python3.12/site-packages/leidenalg/VertexPartition.py:761: SyntaxWarning: invalid escape sequence '\\m'\n",
      "  \"\"\" Implements Reichardt and Bornholdt's Potts model with a configuration null model.\n",
      "/usr/local/lib/python3.12/site-packages/leidenalg/Optimiser.py:7: SyntaxWarning: invalid escape sequence '\\g'\n",
      "  \"\"\" Class for doing community detection using the Leiden algorithm.\n",
      "/usr/local/lib/python3.12/site-packages/leidenalg/Optimiser.py:305: SyntaxWarning: invalid escape sequence '\\s'\n",
      "  \"\"\" Optimise the given partitions simultaneously.\n"
     ]
    },
    {
     "name": "stderr",
     "output_type": "stream",
     "text": [
      "/usr/local/lib/python3.12/site-packages/pyro/ops/stats.py:514: SyntaxWarning: invalid escape sequence '\\g'\n",
      "  \"\"\"\n"
     ]
    }
   ],
   "source": [
    "import os\n",
    "import tempfile\n",
    "\n",
    "import matplotlib.pyplot as plt\n",
    "import numpy as np\n",
    "import scanpy as sc\n",
    "import scvi\n",
    "import torch"
   ]
  },
  {
   "cell_type": "code",
   "execution_count": null,
   "metadata": {
    "execution": {
     "iopub.execute_input": "2024-09-20T08:17:44.222127Z",
     "iopub.status.busy": "2024-09-20T08:17:44.221774Z",
     "iopub.status.idle": "2024-09-20T08:17:44.225286Z",
     "shell.execute_reply": "2024-09-20T08:17:44.225014Z"
    },
    "id": "0YUDVfTCUKe3",
    "outputId": "4f8cb43c-9d0e-4cbb-cbf6-9e79f888ccc0"
   },
   "outputs": [
    {
     "name": "stderr",
     "output_type": "stream",
     "text": [
      "Seed set to 0\n"
     ]
    },
    {
     "name": "stdout",
     "output_type": "stream",
     "text": [
      "Last run with scvi-tools version: 1.2.0\n"
     ]
    }
   ],
   "source": [
    "scvi.settings.seed = 0\n",
    "print(\"Last run with scvi-tools version:\", scvi.__version__)"
   ]
  },
  {
   "cell_type": "markdown",
   "metadata": {
    "id": "dFjICq7gUKe3"
   },
   "source": [
    "```{note}\n",
    "You can modify `save_dir` below to change where the data files for this tutorial are saved.\n",
    "```"
   ]
  },
  {
   "cell_type": "code",
   "execution_count": null,
   "metadata": {
    "execution": {
     "iopub.execute_input": "2024-09-20T08:17:44.226183Z",
     "iopub.status.busy": "2024-09-20T08:17:44.226091Z",
     "iopub.status.idle": "2024-09-20T08:17:44.238653Z",
     "shell.execute_reply": "2024-09-20T08:17:44.238391Z"
    },
    "id": "4_R0pTDwUKe3"
   },
   "outputs": [],
   "source": [
    "sc.set_figure_params(figsize=(4, 4), frameon=False)\n",
    "torch.set_float32_matmul_precision(\"high\")\n",
    "save_dir = tempfile.TemporaryDirectory()\n",
    "\n",
    "%config InlineBackend.print_figure_kwargs={\"facecolor\" : \"w\"}\n",
    "%config InlineBackend.figure_format=\"retina\""
   ]
  },
  {
   "cell_type": "markdown",
   "metadata": {
    "id": "PUCNIebrUKe3"
   },
   "source": [
    "## Download and preprocess data"
   ]
  },
  {
   "cell_type": "markdown",
   "metadata": {
    "id": "_L5z3CGGVJ4t"
   },
   "source": [
    "In this tutorial, we use an already preprocessed dataset of 5k PBMCs from 10X Genomics. To see the exact preprocessing that was done, or to preprocess your own scATAC-seq dataset for use with scvi-tools models, see our [preprocessing tutorial](../notebooks/processing/preprocessing)."
   ]
  },
  {
   "cell_type": "code",
   "execution_count": null,
   "metadata": {
    "id": "sfBWuUrjV_P0"
   },
   "outputs": [],
   "source": [
    "# download preprocessed dataset\n",
    "adata_path = os.path.join(save_dir.name, \"lung_atlas_preprocessed.h5ad\")\n",
    "\n",
    "adata = sc.read(\n",
    "    adata_path,\n",
    "    backup_url=\"https://figshare.com/ndownloader/files/52859288\",\n",
    ")\n",
    "adata"
   ]
  },
  {
   "cell_type": "markdown",
   "metadata": {
    "id": "ZCKvcOuaMf8R"
   },
   "source": [
    "## Set up, train, save, and load the model\n",
    "\n",
    "We can now set up the AnnData object with PeakVI, which will ensure everything the model needs is in place for training.\n",
    "\n",
    "This is also the stage where we can condition the model on additional covariates, which encourages the model to remove the impact of those covariates from the learned latent space. Our sample data is a single batch, so we won't demonstrate this directly, but it can be done simply by setting the `batch_key` argument to the annotation to be used as a batch covariate (must be a valid key in `adata.obs`) ."
   ]
  },
  {
   "cell_type": "code",
   "execution_count": null,
   "metadata": {
    "execution": {
     "iopub.execute_input": "2024-09-20T08:17:50.005404Z",
     "iopub.status.busy": "2024-09-20T08:17:50.005307Z",
     "iopub.status.idle": "2024-09-20T08:17:50.008352Z",
     "shell.execute_reply": "2024-09-20T08:17:50.008150Z"
    },
    "id": "LsphppROMf8R"
   },
   "outputs": [],
   "source": [
    "scvi.model.PEAKVI.setup_anndata(adata)"
   ]
  },
  {
   "cell_type": "markdown",
   "metadata": {
    "id": "onvBxehyMf8R"
   },
   "source": [
    "We can now create a PeakVI model object and train it!"
   ]
  },
  {
   "cell_type": "markdown",
   "metadata": {
    "id": "Pb8b_wcCUKe4"
   },
   "source": [
    "```{important}\n",
    "The default `max_epochs` is set to `500`, but in practice PeakVI stops early once the model converges (we quantify convergence with the model's validation reconstruction loss). This is especially the case for larger datasets, which require fewer training epochs to converge since each epoch lets the model view more data.\n",
    "\n",
    "This means that the estimated training runtime is usually an overestimate of the actual runtime. For the data used in this tutorial, it typically converges with around half of `max_epochs`!\n",
    "```"
   ]
  },
  {
   "cell_type": "code",
   "execution_count": null,
   "metadata": {
    "colab": {
     "base_uri": "https://localhost:8080/",
     "referenced_widgets": [
      "d353a9ff77bb4175a4a6bf9d6ff1c9eb"
     ]
    },
    "execution": {
     "iopub.execute_input": "2024-09-20T08:17:50.009429Z",
     "iopub.status.busy": "2024-09-20T08:17:50.009234Z",
     "iopub.status.idle": "2024-09-20T08:19:42.068459Z",
     "shell.execute_reply": "2024-09-20T08:19:42.068118Z"
    },
    "id": "cclCyKFOMf8R",
    "outputId": "c6ae6f35-d3bb-4efb-e246-fb4ac0130bc4"
   },
   "outputs": [
    {
     "name": "stderr",
     "output_type": "stream",
     "text": [
      "/tmp/ipykernel_154/3832327670.py:2: DeprecationWarning: `save_best` is deprecated in v1.2 and will be removed in v1.3. Please use `enable_checkpointing` instead. See https://github.com/scverse/scvi-tools/issues/2568 for more details.\n",
      "  model.train()\n",
      "GPU available: True (cuda), used: True\n"
     ]
    },
    {
     "name": "stderr",
     "output_type": "stream",
     "text": [
      "TPU available: False, using: 0 TPU cores\n"
     ]
    },
    {
     "name": "stderr",
     "output_type": "stream",
     "text": [
      "HPU available: False, using: 0 HPUs\n"
     ]
    },
    {
     "name": "stderr",
     "output_type": "stream",
     "text": [
      "LOCAL_RANK: 0 - CUDA_VISIBLE_DEVICES: [0]\n"
     ]
    },
    {
     "name": "stderr",
     "output_type": "stream",
     "text": [
      "/usr/local/lib/python3.12/site-packages/lightning/pytorch/trainer/connectors/data_connector.py:424: The 'train_dataloader' does not have many workers which may be a bottleneck. Consider increasing the value of the `num_workers` argument` to `num_workers=63` in the `DataLoader` to improve performance.\n",
      "/usr/local/lib/python3.12/site-packages/lightning/pytorch/trainer/connectors/data_connector.py:424: The 'val_dataloader' does not have many workers which may be a bottleneck. Consider increasing the value of the `num_workers` argument` to `num_workers=63` in the `DataLoader` to improve performance.\n"
     ]
    },
    {
     "data": {
      "application/vnd.jupyter.widget-view+json": {
       "model_id": "d353a9ff77bb4175a4a6bf9d6ff1c9eb",
       "version_major": 2,
       "version_minor": 0
      },
      "text/plain": [
       "Training:   0%|          | 0/500 [00:00<?, ?it/s]"
      ]
     },
     "metadata": {},
     "output_type": "display_data"
    },
    {
     "name": "stdout",
     "output_type": "stream",
     "text": [
      "Monitored metric reconstruction_loss_validation did not improve in the last 50 records. Best score: 13012.269. Signaling Trainer to stop.\n"
     ]
    }
   ],
   "source": [
    "model = scvi.model.PEAKVI(adata)\n",
    "model.train()"
   ]
  },
  {
   "cell_type": "markdown",
   "metadata": {
    "id": "dab9yhHcMf8R"
   },
   "source": [
    "Since training a model can take a while, we recommend saving the trained model after training, just in case."
   ]
  },
  {
   "cell_type": "code",
   "execution_count": null,
   "metadata": {
    "execution": {
     "iopub.execute_input": "2024-09-20T08:19:42.069554Z",
     "iopub.status.busy": "2024-09-20T08:19:42.069459Z",
     "iopub.status.idle": "2024-09-20T08:19:42.144434Z",
     "shell.execute_reply": "2024-09-20T08:19:42.144058Z"
    },
    "id": "v5w3u7ZgMf8S"
   },
   "outputs": [],
   "source": [
    "model_dir = os.path.join(save_dir.name, \"peakvi_pbmc\")\n",
    "model.save(model_dir, overwrite=True)"
   ]
  },
  {
   "cell_type": "markdown",
   "metadata": {
    "id": "mvEQcMynMf8S"
   },
   "source": [
    "We can then load the model later, which require providing an AnnData object that is structured similarly to the one used for training (or, in most cases, the same one):"
   ]
  },
  {
   "cell_type": "code",
   "execution_count": null,
   "metadata": {
    "execution": {
     "iopub.execute_input": "2024-09-20T08:19:42.145937Z",
     "iopub.status.busy": "2024-09-20T08:19:42.145841Z",
     "iopub.status.idle": "2024-09-20T08:19:42.249594Z",
     "shell.execute_reply": "2024-09-20T08:19:42.249260Z"
    },
    "id": "_q34gv_hMf8S",
    "outputId": "5a2918a2-cec5-4c11-ad8f-bb43bfb44eba"
   },
   "outputs": [
    {
     "name": "stdout",
     "output_type": "stream",
     "text": [
      "\u001b[34mINFO    \u001b[0m File \u001b[35m/tmp/tmpg8woi30j/peakvi_pbmc/\u001b[0m\u001b[95mmodel.pt\u001b[0m already downloaded                                             \n"
     ]
    },
    {
     "name": "stderr",
     "output_type": "stream",
     "text": [
      "/usr/local/lib/python3.12/site-packages/scvi/model/base/_save_load.py:76: FutureWarning: You are using `torch.load` with `weights_only=False` (the current default value), which uses the default pickle module implicitly. It is possible to construct malicious pickle data which will execute arbitrary code during unpickling (See https://github.com/pytorch/pytorch/blob/main/SECURITY.md#untrusted-models for more details). In a future release, the default value for `weights_only` will be flipped to `True`. This limits the functions that could be executed during unpickling. Arbitrary objects will no longer be allowed to be loaded via this mode unless they are explicitly allowlisted by the user via `torch.serialization.add_safe_globals`. We recommend you start setting `weights_only=True` for any use case where you don't have full control of the loaded file. Please open an issue on GitHub for any issues related to this experimental feature.\n",
      "  model = torch.load(model_path, map_location=map_location)\n"
     ]
    }
   ],
   "source": [
    "model = scvi.model.PEAKVI.load(model_dir, adata=adata)"
   ]
  },
  {
   "cell_type": "markdown",
   "metadata": {
    "id": "3FRmN1bbMf8S"
   },
   "source": [
    "## Visualizing and analyzing the latent space\n",
    "\n",
    "We can now use the trained model to visualize, cluster, and analyze the data. We first extract the latent representation from the model, and save it back into our AnnData object:"
   ]
  },
  {
   "cell_type": "code",
   "execution_count": null,
   "metadata": {
    "colab": {
     "base_uri": "https://localhost:8080/"
    },
    "execution": {
     "iopub.execute_input": "2024-09-20T08:19:42.250565Z",
     "iopub.status.busy": "2024-09-20T08:19:42.250470Z",
     "iopub.status.idle": "2024-09-20T08:19:42.414685Z",
     "shell.execute_reply": "2024-09-20T08:19:42.414371Z"
    },
    "id": "shzoLMjQMf8S",
    "outputId": "acce7cb6-4c20-43a1-8b18-967805f30fa6"
   },
   "outputs": [
    {
     "data": {
      "text/plain": [
       "(4585, 13)"
      ]
     },
     "execution_count": 13,
     "metadata": {},
     "output_type": "execute_result"
    }
   ],
   "source": [
    "PEAKVI_LATENT_KEY = \"X_peakvi\"\n",
    "\n",
    "latent = model.get_latent_representation()\n",
    "adata.obsm[PEAKVI_LATENT_KEY] = latent\n",
    "latent.shape"
   ]
  },
  {
   "cell_type": "markdown",
   "metadata": {
    "id": "-nIg0xy1Mf8T"
   },
   "source": [
    "We can now use Scanpy to cluster and visualize our latent space:"
   ]
  },
  {
   "cell_type": "code",
   "execution_count": null,
   "metadata": {
    "execution": {
     "iopub.execute_input": "2024-09-20T08:19:42.415666Z",
     "iopub.status.busy": "2024-09-20T08:19:42.415572Z",
     "iopub.status.idle": "2024-09-20T08:19:54.248820Z",
     "shell.execute_reply": "2024-09-20T08:19:54.248540Z"
    },
    "id": "CAzMk_4qMf8T",
    "outputId": "08f3856f-a534-427c-93c9-aa7573fba557"
   },
   "outputs": [
    {
     "name": "stderr",
     "output_type": "stream",
     "text": [
      "/tmp/ipykernel_154/192297472.py:8: FutureWarning: In the future, the default backend for leiden will be igraph instead of leidenalg.\n",
      "\n",
      " To achieve the future defaults please pass: flavor=\"igraph\" and n_iterations=2.  directed must also be False to work with igraph's implementation.\n",
      "  sc.tl.leiden(adata, key_added=PEAKVI_CLUSTERS_KEY, resolution=0.2)\n"
     ]
    }
   ],
   "source": [
    "PEAKVI_CLUSTERS_KEY = \"clusters_peakvi\"\n",
    "\n",
    "# compute the k-nearest-neighbor graph that is used in both clustering and umap algorithms\n",
    "sc.pp.neighbors(adata, use_rep=PEAKVI_LATENT_KEY)\n",
    "# compute the umap\n",
    "sc.tl.umap(adata, min_dist=0.2)\n",
    "# cluster the space (we use a lower resolution to get fewer clusters than the default)\n",
    "sc.tl.leiden(adata, key_added=PEAKVI_CLUSTERS_KEY, resolution=0.2)"
   ]
  },
  {
   "cell_type": "code",
   "execution_count": null,
   "metadata": {
    "colab": {
     "base_uri": "https://localhost:8080/",
     "height": 367
    },
    "execution": {
     "iopub.execute_input": "2024-09-20T08:19:54.249844Z",
     "iopub.status.busy": "2024-09-20T08:19:54.249750Z",
     "iopub.status.idle": "2024-09-20T08:19:54.337542Z",
     "shell.execute_reply": "2024-09-20T08:19:54.337251Z"
    },
    "id": "gPm9j0aaMf8T",
    "outputId": "edee858e-9f14-4ca6-a039-888b9de13c2c"
   },
   "outputs": [
    {
     "data": {
      "image/png": "[encoded data removed]",
      "text/plain": [
       "<Figure size 320x320 with 1 Axes>"
      ]
     },
     "metadata": {
      "image/png": {
       "height": 277,
       "width": 306
      }
     },
     "output_type": "display_data"
    }
   ],
   "source": [
    "sc.pl.umap(adata, color=PEAKVI_CLUSTERS_KEY)"
   ]
  },
  {
   "cell_type": "markdown",
   "metadata": {
    "id": "wGioRKwFMf8T"
   },
   "source": [
    "## Differential accessibility\n",
    "\n",
    "Finally, we can use PeakVI to identify regions that are differentially accessible. There are many different ways to run this analysis, but the simplest is comparing one cluster against all others, or comparing two clusters to each other. In the first case we'll be looking for marker-regions, so we'll mostly want a one-sided test (the significant regions will only be the ones preferentially accessible in our target cluster). In the second case we'll use a two-sided test to find regions that are differentially accessible, regardless of direction.\n",
    "\n",
    "We demonstrate both of these next, and do this in two different ways: (1) more convenient but less flexible: using an existing factor to group the cells, and then comparing groups. (2) more flexible: using cell indices directly.\n",
    "\n",
    "```{important}\n",
    "If the data includes multiple batches, we encourage setting `batch_correction=True` so the model will sample from multiple batches when computing the differential signal. We do this below despite the data only having a single batch, as a demonstration.\n",
    "```"
   ]
  },
  {
   "cell_type": "code",
   "execution_count": null,
   "metadata": {
    "colab": {
     "base_uri": "https://localhost:8080/",
     "height": 277,
     "referenced_widgets": [
      "59600564d0ef44638f997f71bbf52cf2",
      "3bebb2605b3b429f97beb2919dffd225",
      "9a7b0e4fe8714ecd8d7d6c1dd39e6230",
      "66cbb0ca25284856a8e9341007509d9f"
     ]
    },
    "execution": {
     "iopub.execute_input": "2024-09-20T08:19:54.338578Z",
     "iopub.status.busy": "2024-09-20T08:19:54.338487Z",
     "iopub.status.idle": "2024-09-20T08:20:06.694275Z",
     "shell.execute_reply": "2024-09-20T08:20:06.694008Z"
    },
    "id": "YptioB5PMf8T",
    "outputId": "3d0d93f1-1254-4cff-ab03-ac117b3944b2"
   },
   "outputs": [
    {
     "data": {
      "application/vnd.jupyter.widget-view+json": {
       "model_id": "59600564d0ef44638f997f71bbf52cf2",
       "version_major": 2,
       "version_minor": 0
      },
      "text/plain": [
       "DE...:   0%|          | 0/1 [00:00<?, ?it/s]"
      ]
     },
     "metadata": {},
     "output_type": "display_data"
    },
    {
     "data": {
      "application/vnd.jupyter.widget-view+json": {
       "model_id": "3bebb2605b3b429f97beb2919dffd225",
       "version_major": 2,
       "version_minor": 0
      },
      "text/plain": [
       "DE...:   0%|          | 0/1 [00:00<?, ?it/s]"
      ]
     },
     "metadata": {},
     "output_type": "display_data"
    },
    {
     "data": {
      "application/vnd.jupyter.widget-view+json": {
       "model_id": "9a7b0e4fe8714ecd8d7d6c1dd39e6230",
       "version_major": 2,
       "version_minor": 0
      },
      "text/plain": [
       "DE...:   0%|          | 0/1 [00:00<?, ?it/s]"
      ]
     },
     "metadata": {},
     "output_type": "display_data"
    },
    {
     "data": {
      "application/vnd.jupyter.widget-view+json": {
       "model_id": "66cbb0ca25284856a8e9341007509d9f",
       "version_major": 2,
       "version_minor": 0
      },
      "text/plain": [
       "DE...:   0%|          | 0/1 [00:00<?, ?it/s]"
      ]
     },
     "metadata": {},
     "output_type": "display_data"
    },
    {
     "data": {
      "text/html": [
       "<div>\n",
       "<style scoped>\n",
       "    .dataframe tbody tr th:only-of-type {\n",
       "        vertical-align: middle;\n",
       "    }\n",
       "\n",
       "    .dataframe tbody tr th {\n",
       "        vertical-align: top;\n",
       "    }\n",
       "\n",
       "    .dataframe thead th {\n",
       "        text-align: right;\n",
       "    }\n",
       "</style>\n",
       "<table border=\"1\" class=\"dataframe\">\n",
       "  <thead>\n",
       "    <tr style=\"text-align: right;\">\n",
       "      <th></th>\n",
       "      <th>prob_da</th>\n",
       "      <th>is_da_fdr</th>\n",
       "      <th>bayes_factor</th>\n",
       "      <th>effect_size</th>\n",
       "      <th>emp_effect</th>\n",
       "      <th>est_prob1</th>\n",
       "      <th>est_prob2</th>\n",
       "      <th>emp_prob1</th>\n",
       "      <th>emp_prob2</th>\n",
       "    </tr>\n",
       "  </thead>\n",
       "  <tbody>\n",
       "    <tr>\n",
       "      <th>chr7:105697243-105699339</th>\n",
       "      <td>1.0</td>\n",
       "      <td>True</td>\n",
       "      <td>18.420681</td>\n",
       "      <td>-0.738700</td>\n",
       "      <td>-0.373592</td>\n",
       "      <td>0.910864</td>\n",
       "      <td>0.172164</td>\n",
       "      <td>0.462389</td>\n",
       "      <td>0.088797</td>\n",
       "    </tr>\n",
       "    <tr>\n",
       "      <th>chr10:126289468-126291985</th>\n",
       "      <td>1.0</td>\n",
       "      <td>True</td>\n",
       "      <td>18.420681</td>\n",
       "      <td>-0.904829</td>\n",
       "      <td>-0.486555</td>\n",
       "      <td>0.941891</td>\n",
       "      <td>0.037063</td>\n",
       "      <td>0.506637</td>\n",
       "      <td>0.020082</td>\n",
       "    </tr>\n",
       "    <tr>\n",
       "      <th>chr2:25432714-25433707</th>\n",
       "      <td>1.0</td>\n",
       "      <td>True</td>\n",
       "      <td>18.420681</td>\n",
       "      <td>-0.881335</td>\n",
       "      <td>-0.463637</td>\n",
       "      <td>0.942147</td>\n",
       "      <td>0.060813</td>\n",
       "      <td>0.495575</td>\n",
       "      <td>0.031938</td>\n",
       "    </tr>\n",
       "    <tr>\n",
       "      <th>chr7:1062511-1064563</th>\n",
       "      <td>1.0</td>\n",
       "      <td>True</td>\n",
       "      <td>18.420681</td>\n",
       "      <td>-0.794478</td>\n",
       "      <td>-0.470549</td>\n",
       "      <td>0.831496</td>\n",
       "      <td>0.037018</td>\n",
       "      <td>0.488938</td>\n",
       "      <td>0.018389</td>\n",
       "    </tr>\n",
       "    <tr>\n",
       "      <th>chr8:28195531-28197587</th>\n",
       "      <td>1.0</td>\n",
       "      <td>True</td>\n",
       "      <td>18.420681</td>\n",
       "      <td>-0.872215</td>\n",
       "      <td>-0.540865</td>\n",
       "      <td>0.961298</td>\n",
       "      <td>0.089083</td>\n",
       "      <td>0.590708</td>\n",
       "      <td>0.049843</td>\n",
       "    </tr>\n",
       "  </tbody>\n",
       "</table>\n",
       "</div>"
      ],
      "text/plain": [
       "                           prob_da  is_da_fdr  bayes_factor  effect_size  \\\n",
       "chr7:105697243-105699339       1.0       True     18.420681    -0.738700   \n",
       "chr10:126289468-126291985      1.0       True     18.420681    -0.904829   \n",
       "chr2:25432714-25433707         1.0       True     18.420681    -0.881335   \n",
       "chr7:1062511-1064563           1.0       True     18.420681    -0.794478   \n",
       "chr8:28195531-28197587         1.0       True     18.420681    -0.872215   \n",
       "\n",
       "                           emp_effect  est_prob1  est_prob2  emp_prob1  \\\n",
       "chr7:105697243-105699339    -0.373592   0.910864   0.172164   0.462389   \n",
       "chr10:126289468-126291985   -0.486555   0.941891   0.037063   0.506637   \n",
       "chr2:25432714-25433707      -0.463637   0.942147   0.060813   0.495575   \n",
       "chr7:1062511-1064563        -0.470549   0.831496   0.037018   0.488938   \n",
       "chr8:28195531-28197587      -0.540865   0.961298   0.089083   0.590708   \n",
       "\n",
       "                           emp_prob2  \n",
       "chr7:105697243-105699339    0.088797  \n",
       "chr10:126289468-126291985   0.020082  \n",
       "chr2:25432714-25433707      0.031938  \n",
       "chr7:1062511-1064563        0.018389  \n",
       "chr8:28195531-28197587      0.049843  "
      ]
     },
     "execution_count": 16,
     "metadata": {},
     "output_type": "execute_result"
    }
   ],
   "source": [
    "# (1.1) using a known factor to compare two clusters\n",
    "## two-sided is True by default, but included here for emphasis\n",
    "da_res11 = model.differential_accessibility(\n",
    "    groupby=PEAKVI_CLUSTERS_KEY, group1=\"3\", group2=\"0\", two_sided=True\n",
    ")\n",
    "\n",
    "# (1.2) using a known factor to compare a cluster against all other clusters\n",
    "## if we only provide group1, group2 is all other cells by default\n",
    "da_res12 = model.differential_accessibility(\n",
    "    groupby=PEAKVI_CLUSTERS_KEY, group1=\"3\", two_sided=False\n",
    ")\n",
    "\n",
    "# (2.1) using indices to compare two clusters\n",
    "## we can use boolean masks or integer indices for the `idx1` and `idx2` arguments\n",
    "da_res21 = model.differential_accessibility(\n",
    "    idx1=adata.obs[PEAKVI_CLUSTERS_KEY] == \"3\",\n",
    "    idx2=adata.obs[PEAKVI_CLUSTERS_KEY] == \"0\",\n",
    "    two_sided=True,\n",
    ")\n",
    "# (2.2) using indices to compare a cluster against all other clusters\n",
    "## if we don't provide idx2, it uses all other cells as the contrast\n",
    "da_res22 = model.differential_accessibility(\n",
    "    idx1=np.where(adata.obs[PEAKVI_CLUSTERS_KEY] == \"3\"),\n",
    "    two_sided=False,\n",
    ")\n",
    "\n",
    "da_res22.head()"
   ]
  },
  {
   "cell_type": "markdown",
   "metadata": {
    "id": "zWseudKHMf8U"
   },
   "source": [
    "Note that `da_res11` and `da_res21` are equivalent, as are `da_res12` and `da_res22`.\n",
    "The return value is a pandas DataFrame with the differential results and basic properties of the comparison:\n",
    "\n",
    "`prob_da` in our case is the probability of cells from cluster 0 being more than 0.05 (the default minimal effect) more accessible than cells from the rest of the data.\n",
    "\n",
    "`is_da_fdr` is a conservative classification (True/False) of whether a region is differential accessible. This is one way to threshold the results.\n",
    "\n",
    "`bayes_factor` is a statistical significance score. It doesn't have a commonly acceptable threshold (e.g 0.05 for p-values), bu we demonstrate below that it's well calibrated to the effect size.\n",
    "\n",
    "`effect_size` is the effect size, calculated as `est_prob1 - est_prob2`.\n",
    "\n",
    "`emp_effect` is the empirical effect size, calculated as `emp_prob1 - emp_prob2`.\n",
    "\n",
    "`est_prob{1,2}` are the estimated probabilities of accessibility in group1 and group2.\n",
    "\n",
    "`emp_prob{1,2}` are the empirical probabilities of detection (how many cells in group X was the region detected in).\n",
    "\n",
    "We can make sure the probability of DA is well calibrated, and look at the regions that are identified as differentially accessible:"
   ]
  },
  {
   "cell_type": "code",
   "execution_count": null,
   "metadata": {
    "colab": {
     "base_uri": "https://localhost:8080/",
     "height": 663
    },
    "execution": {
     "iopub.execute_input": "2024-09-20T08:20:06.695277Z",
     "iopub.status.busy": "2024-09-20T08:20:06.695180Z",
     "iopub.status.idle": "2024-09-20T08:20:06.758579Z",
     "shell.execute_reply": "2024-09-20T08:20:06.758337Z"
    },
    "id": "uMenbDZ8Mf8U",
    "outputId": "253a12f9-03e5-4661-9762-08960ad7333b"
   },
   "outputs": [
    {
     "data": {
      "image/png": "[encoded data removed]",
      "text/plain": [
       "<Figure size 320x320 with 1 Axes>"
      ]
     },
     "metadata": {
      "image/png": {
       "height": 300,
       "width": 317
      }
     },
     "output_type": "display_data"
    },
    {
     "data": {
      "text/html": [
       "<div>\n",
       "<style scoped>\n",
       "    .dataframe tbody tr th:only-of-type {\n",
       "        vertical-align: middle;\n",
       "    }\n",
       "\n",
       "    .dataframe tbody tr th {\n",
       "        vertical-align: top;\n",
       "    }\n",
       "\n",
       "    .dataframe thead th {\n",
       "        text-align: right;\n",
       "    }\n",
       "</style>\n",
       "<table border=\"1\" class=\"dataframe\">\n",
       "  <thead>\n",
       "    <tr style=\"text-align: right;\">\n",
       "      <th></th>\n",
       "      <th>prob_da</th>\n",
       "      <th>is_da_fdr</th>\n",
       "      <th>bayes_factor</th>\n",
       "      <th>effect_size</th>\n",
       "      <th>emp_effect</th>\n",
       "      <th>est_prob1</th>\n",
       "      <th>est_prob2</th>\n",
       "      <th>emp_prob1</th>\n",
       "      <th>emp_prob2</th>\n",
       "    </tr>\n",
       "  </thead>\n",
       "  <tbody>\n",
       "    <tr>\n",
       "      <th>chr5:150503270-150506342</th>\n",
       "      <td>1.0</td>\n",
       "      <td>True</td>\n",
       "      <td>18.420681</td>\n",
       "      <td>-0.684537</td>\n",
       "      <td>-0.392022</td>\n",
       "      <td>0.937801</td>\n",
       "      <td>0.253263</td>\n",
       "      <td>0.526549</td>\n",
       "      <td>0.134527</td>\n",
       "    </tr>\n",
       "    <tr>\n",
       "      <th>chr3:107842774-107845286</th>\n",
       "      <td>1.0</td>\n",
       "      <td>True</td>\n",
       "      <td>18.420681</td>\n",
       "      <td>-0.520320</td>\n",
       "      <td>-0.429612</td>\n",
       "      <td>0.990143</td>\n",
       "      <td>0.469822</td>\n",
       "      <td>0.701327</td>\n",
       "      <td>0.271715</td>\n",
       "    </tr>\n",
       "    <tr>\n",
       "      <th>chr7:1062511-1064563</th>\n",
       "      <td>1.0</td>\n",
       "      <td>True</td>\n",
       "      <td>18.420681</td>\n",
       "      <td>-0.794478</td>\n",
       "      <td>-0.470549</td>\n",
       "      <td>0.831496</td>\n",
       "      <td>0.037018</td>\n",
       "      <td>0.488938</td>\n",
       "      <td>0.018389</td>\n",
       "    </tr>\n",
       "    <tr>\n",
       "      <th>chr2:25432714-25433707</th>\n",
       "      <td>1.0</td>\n",
       "      <td>True</td>\n",
       "      <td>18.420681</td>\n",
       "      <td>-0.881335</td>\n",
       "      <td>-0.463637</td>\n",
       "      <td>0.942147</td>\n",
       "      <td>0.060813</td>\n",
       "      <td>0.495575</td>\n",
       "      <td>0.031938</td>\n",
       "    </tr>\n",
       "    <tr>\n",
       "      <th>chr10:126289468-126291985</th>\n",
       "      <td>1.0</td>\n",
       "      <td>True</td>\n",
       "      <td>18.420681</td>\n",
       "      <td>-0.904829</td>\n",
       "      <td>-0.486555</td>\n",
       "      <td>0.941891</td>\n",
       "      <td>0.037063</td>\n",
       "      <td>0.506637</td>\n",
       "      <td>0.020082</td>\n",
       "    </tr>\n",
       "    <tr>\n",
       "      <th>chr7:105697243-105699339</th>\n",
       "      <td>1.0</td>\n",
       "      <td>True</td>\n",
       "      <td>18.420681</td>\n",
       "      <td>-0.738700</td>\n",
       "      <td>-0.373592</td>\n",
       "      <td>0.910864</td>\n",
       "      <td>0.172164</td>\n",
       "      <td>0.462389</td>\n",
       "      <td>0.088797</td>\n",
       "    </tr>\n",
       "    <tr>\n",
       "      <th>chr1:182991336-182994075</th>\n",
       "      <td>1.0</td>\n",
       "      <td>True</td>\n",
       "      <td>18.420681</td>\n",
       "      <td>-0.692640</td>\n",
       "      <td>-0.352918</td>\n",
       "      <td>0.835373</td>\n",
       "      <td>0.142733</td>\n",
       "      <td>0.424779</td>\n",
       "      <td>0.071861</td>\n",
       "    </tr>\n",
       "    <tr>\n",
       "      <th>chr8:28195531-28197587</th>\n",
       "      <td>1.0</td>\n",
       "      <td>True</td>\n",
       "      <td>18.420681</td>\n",
       "      <td>-0.872215</td>\n",
       "      <td>-0.540865</td>\n",
       "      <td>0.961298</td>\n",
       "      <td>0.089083</td>\n",
       "      <td>0.590708</td>\n",
       "      <td>0.049843</td>\n",
       "    </tr>\n",
       "    <tr>\n",
       "      <th>chr11:60222766-60223569</th>\n",
       "      <td>1.0</td>\n",
       "      <td>True</td>\n",
       "      <td>18.420681</td>\n",
       "      <td>-0.914721</td>\n",
       "      <td>-0.516629</td>\n",
       "      <td>0.933533</td>\n",
       "      <td>0.018813</td>\n",
       "      <td>0.526549</td>\n",
       "      <td>0.009920</td>\n",
       "    </tr>\n",
       "    <tr>\n",
       "      <th>chr1:110926104-110928161</th>\n",
       "      <td>1.0</td>\n",
       "      <td>True</td>\n",
       "      <td>18.420681</td>\n",
       "      <td>-0.745865</td>\n",
       "      <td>-0.383852</td>\n",
       "      <td>0.794471</td>\n",
       "      <td>0.048607</td>\n",
       "      <td>0.407080</td>\n",
       "      <td>0.023228</td>\n",
       "    </tr>\n",
       "  </tbody>\n",
       "</table>\n",
       "</div>"
      ],
      "text/plain": [
       "                           prob_da  is_da_fdr  bayes_factor  effect_size  \\\n",
       "chr5:150503270-150506342       1.0       True     18.420681    -0.684537   \n",
       "chr3:107842774-107845286       1.0       True     18.420681    -0.520320   \n",
       "chr7:1062511-1064563           1.0       True     18.420681    -0.794478   \n",
       "chr2:25432714-25433707         1.0       True     18.420681    -0.881335   \n",
       "chr10:126289468-126291985      1.0       True     18.420681    -0.904829   \n",
       "chr7:105697243-105699339       1.0       True     18.420681    -0.738700   \n",
       "chr1:182991336-182994075       1.0       True     18.420681    -0.692640   \n",
       "chr8:28195531-28197587         1.0       True     18.420681    -0.872215   \n",
       "chr11:60222766-60223569        1.0       True     18.420681    -0.914721   \n",
       "chr1:110926104-110928161       1.0       True     18.420681    -0.745865   \n",
       "\n",
       "                           emp_effect  est_prob1  est_prob2  emp_prob1  \\\n",
       "chr5:150503270-150506342    -0.392022   0.937801   0.253263   0.526549   \n",
       "chr3:107842774-107845286    -0.429612   0.990143   0.469822   0.701327   \n",
       "chr7:1062511-1064563        -0.470549   0.831496   0.037018   0.488938   \n",
       "chr2:25432714-25433707      -0.463637   0.942147   0.060813   0.495575   \n",
       "chr10:126289468-126291985   -0.486555   0.941891   0.037063   0.506637   \n",
       "chr7:105697243-105699339    -0.373592   0.910864   0.172164   0.462389   \n",
       "chr1:182991336-182994075    -0.352918   0.835373   0.142733   0.424779   \n",
       "chr8:28195531-28197587      -0.540865   0.961298   0.089083   0.590708   \n",
       "chr11:60222766-60223569     -0.516629   0.933533   0.018813   0.526549   \n",
       "chr1:110926104-110928161    -0.383852   0.794471   0.048607   0.407080   \n",
       "\n",
       "                           emp_prob2  \n",
       "chr5:150503270-150506342    0.134527  \n",
       "chr3:107842774-107845286    0.271715  \n",
       "chr7:1062511-1064563        0.018389  \n",
       "chr2:25432714-25433707      0.031938  \n",
       "chr10:126289468-126291985   0.020082  \n",
       "chr7:105697243-105699339    0.088797  \n",
       "chr1:182991336-182994075    0.071861  \n",
       "chr8:28195531-28197587      0.049843  \n",
       "chr11:60222766-60223569     0.009920  \n",
       "chr1:110926104-110928161    0.023228  "
      ]
     },
     "execution_count": 17,
     "metadata": {},
     "output_type": "execute_result"
    }
   ],
   "source": [
    "plt.scatter(da_res22.effect_size, da_res22.prob_da, s=1)\n",
    "plt.xlabel(\"effect size\")\n",
    "plt.ylabel(\"probability of DA\")\n",
    "plt.show()\n",
    "\n",
    "da_res22.loc[da_res22.is_da_fdr].sort_values(\"prob_da\", ascending=False).head(10)"
   ]
  },
  {
   "cell_type": "markdown",
   "metadata": {
    "id": "a8_I_8PLMf8U"
   },
   "source": [
    "We can now examine these regions to understand what is happening in the data, using various different annotation and enrichment methods. For instance, `chr11:60222766-60223569`, one of the regions preferentially accessible in cluster 0, is the promoter region of [`MS4A1`](https://www.genecards.org/cgi-bin/carddisp.pl?gene=MS4A1), also known as `CD20`, a known B-cell surface marker, indicating that cluster 0 are probably B-cells."
   ]
  }
 ],
 "metadata": {
  "accelerator": "GPU",
  "colab": {
   "provenance": [],
   "toc_visible": true
  },
  "kernelspec": {
   "display_name": "Python 3",
   "language": "python",
   "name": "python3"
  },
  "language_info": {
   "codemirror_mode": {
    "name": "ipython",
    "version": 3
   },
   "file_extension": ".py",
   "mimetype": "text/x-python",
   "name": "python",
   "nbconvert_exporter": "python",
   "pygments_lexer": "ipython3",
   "version": "3.12.6"
  }
 },
 "nbformat": 4,
 "nbformat_minor": 0
}
