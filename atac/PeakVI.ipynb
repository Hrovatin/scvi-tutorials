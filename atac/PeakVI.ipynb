{
 "cells": [
  {
   "cell_type": "markdown",
   "metadata": {
    "id": "DkJ5AI1zMf8I"
   },
   "source": [
    "# PeakVI: Analyzing scATACseq data\n",
    "\n",
    "PeakVI is used for analyzing scATACseq data. This tutorial walks through how to read, set-up and train the model, accessing and visualizing the latent space, and differential accessibility. We use the 5kPBMC sample dataset from 10X but these steps can be easily adjusted for other datasets."
   ]
  },
  {
   "cell_type": "markdown",
   "metadata": {
    "id": "kZiN2swWUKe2"
   },
   "source": [
    "```{note}\n",
    "Running the following cell will install tutorial dependencies on Google Colab only. It will have no effect on environments other than Google Colab."
   ]
  },
  {
   "cell_type": "code",
   "execution_count": 1,
   "metadata": {
    "colab": {
     "base_uri": "https://localhost:8080/"
    },
    "id": "jiE2wyVqUKe2",
    "outputId": "6eff89ff-cb7e-4ca3-a4cb-540385c1b1f0"
   },
   "outputs": [
    {
     "name": "stderr",
     "output_type": "stream",
     "text": [
      "/home/access/.conda/envs/scvi/lib/python3.12/site-packages/scvi_colab/_core.py:47: UserWarning: \n",
      "                Not currently in Google Colab environment.\n",
      "\n",
      "                Please run with `run_outside_colab=True` to override.\n",
      "\n",
      "                Returning with no further action.\n",
      "                \n",
      "  warn(\n"
     ]
    }
   ],
   "source": [
    "!pip install --quiet scvi-colab\n",
    "from scvi_colab import install\n",
    "\n",
    "install()"
   ]
  },
  {
   "cell_type": "code",
   "execution_count": 2,
   "metadata": {
    "id": "tcbBdgYoMf8O"
   },
   "outputs": [],
   "source": [
    "import os\n",
    "import tempfile\n",
    "\n",
    "import matplotlib.pyplot as plt\n",
    "import numpy as np\n",
    "import scanpy as sc\n",
    "import scvi\n",
    "import torch"
   ]
  },
  {
   "cell_type": "code",
   "execution_count": 3,
   "metadata": {
    "colab": {
     "base_uri": "https://localhost:8080/"
    },
    "id": "0YUDVfTCUKe3",
    "outputId": "c11cab7c-1154-43da-cfa2-d49487c645cc"
   },
   "outputs": [
    {
     "name": "stderr",
     "output_type": "stream",
     "text": [
      "Seed set to 0\n"
     ]
    },
    {
     "name": "stdout",
     "output_type": "stream",
     "text": [
      "Last run with scvi-tools version: 1.3.2\n"
     ]
    }
   ],
   "source": [
    "scvi.settings.seed = 0\n",
    "print(\"Last run with scvi-tools version:\", scvi.__version__)"
   ]
  },
  {
   "cell_type": "markdown",
   "metadata": {
    "id": "dFjICq7gUKe3"
   },
   "source": [
    "```{note}\n",
    "You can modify `save_dir` below to change where the data files for this tutorial are saved.\n",
    "```"
   ]
  },
  {
   "cell_type": "code",
   "execution_count": 4,
   "metadata": {
    "id": "4_R0pTDwUKe3"
   },
   "outputs": [],
   "source": [
    "sc.set_figure_params(figsize=(4, 4), frameon=False)\n",
    "torch.set_float32_matmul_precision(\"high\")\n",
    "save_dir = tempfile.TemporaryDirectory()\n",
    "\n",
    "%config InlineBackend.print_figure_kwargs={\"facecolor\" : \"w\"}\n",
    "%config InlineBackend.figure_format=\"retina\""
   ]
  },
  {
   "cell_type": "markdown",
   "metadata": {
    "id": "PUCNIebrUKe3"
   },
   "source": [
    "## Download and preprocess data"
   ]
  },
  {
   "cell_type": "markdown",
   "metadata": {
    "id": "_L5z3CGGVJ4t"
   },
   "source": [
    "In this tutorial, we use an already preprocessed dataset of 5k PBMCs from 10X Genomics. To see the exact preprocessing that was done, or to preprocess your own scATAC-seq dataset for use with scvi-tools models, see our [preprocessing tutorial](../notebooks/processing/preprocessing)."
   ]
  },
  {
   "cell_type": "code",
   "execution_count": 5,
   "metadata": {
    "colab": {
     "base_uri": "https://localhost:8080/",
     "height": 103,
     "referenced_widgets": [
      "051946e95cb8403c9b00c7f2b74afa2f",
      "7bb844219c45426a88e97ddf2572a20d",
      "e9f82ccbd02a43639d9f12a438ac5b0d",
      "25850a0e83eb4a6ebf563eea15b8c820",
      "6c86498586c24c82b2448de57a062ab8",
      "02bf875352794c5381fdee91e33623c3",
      "853ce191a54e475ebdb981bda260e5ae",
      "cff73360a56b43749c03563db5b9bcbc",
      "cade9ab84d8e432a9b953544480ab879",
      "f8d66f0b05844d889c4ce1a8390f055b",
      "8aa61dd52fec454693c100da154f9b8d"
     ]
    },
    "id": "sfBWuUrjV_P0",
    "outputId": "966db0d8-ab1c-4f51-90fb-502911e6ccf0"
   },
   "outputs": [
    {
     "data": {
      "application/vnd.jupyter.widget-view+json": {
       "model_id": "579071d5df6b400491644bbd1894b4fb",
       "version_major": 2,
       "version_minor": 0
      },
      "text/plain": [
       "  0%|          | 0.00/365M [00:00<?, ?B/s]"
      ]
     },
     "metadata": {},
     "output_type": "display_data"
    },
    {
     "data": {
      "text/plain": [
       "AnnData object with n_obs × n_vars = 4585 × 33142\n",
       "    obs: 'batch_id'\n",
       "    var: 'chr', 'start', 'end', 'n_cells'"
      ]
     },
     "execution_count": 5,
     "metadata": {},
     "output_type": "execute_result"
    }
   ],
   "source": [
    "# download preprocessed dataset\n",
    "adata_path = os.path.join(save_dir.name, \"lung_atlas_preprocessed.h5ad\")\n",
    "\n",
    "adata = sc.read(\n",
    "    adata_path,\n",
    "    backup_url=\"https://figshare.com/ndownloader/files/52859288\",\n",
    ")\n",
    "adata"
   ]
  },
  {
   "cell_type": "markdown",
   "metadata": {
    "id": "ZCKvcOuaMf8R"
   },
   "source": [
    "## Set up, train, save, and load the model\n",
    "\n",
    "We can now set up the AnnData object with PeakVI, which will ensure everything the model needs is in place for training.\n",
    "\n",
    "This is also the stage where we can condition the model on additional covariates, which encourages the model to remove the impact of those covariates from the learned latent space. Our sample data is a single batch, so we won't demonstrate this directly, but it can be done simply by setting the `batch_key` argument to the annotation to be used as a batch covariate (must be a valid key in `adata.obs`) ."
   ]
  },
  {
   "cell_type": "code",
   "execution_count": 6,
   "metadata": {
    "id": "LsphppROMf8R"
   },
   "outputs": [],
   "source": [
    "scvi.model.PEAKVI.setup_anndata(adata)"
   ]
  },
  {
   "cell_type": "markdown",
   "metadata": {
    "id": "onvBxehyMf8R"
   },
   "source": [
    "We can now create a PeakVI model object and train it!"
   ]
  },
  {
   "cell_type": "markdown",
   "metadata": {
    "id": "Pb8b_wcCUKe4"
   },
   "source": [
    "```{important}\n",
    "The default `max_epochs` is set to `500`, but in practice PeakVI stops early once the model converges (we quantify convergence with the model's validation reconstruction loss). This is especially the case for larger datasets, which require fewer training epochs to converge since each epoch lets the model view more data.\n",
    "\n",
    "This means that the estimated training runtime is usually an overestimate of the actual runtime. For the data used in this tutorial, it typically converges with around half of `max_epochs`!\n",
    "```"
   ]
  },
  {
   "cell_type": "code",
   "execution_count": 7,
   "metadata": {
    "colab": {
     "base_uri": "https://localhost:8080/",
     "height": 265,
     "referenced_widgets": [
      "d99bb9b6dfd84425abb1a4d7ad9febca",
      "a9aa8984434345389f008a5bf245186f",
      "400bcff22d4a4e7a90b66edf8c51bd7c",
      "8cc2c26c6e764c4aa73494735a01a626",
      "48b3568f911e4338ac8d67b0b15b8f8b",
      "5b7e4ed86ec44547801f303f6a0587df",
      "538eb72f0b0041729b2ac8d402e01e51",
      "a3084bc33eaa498d84497a3838e76e74",
      "c34f1d12d0f54cac86722780ad9616e6",
      "b0491d350ae74415bf059e5a4820c76d",
      "f9b2be5deffc4522b46fc0570a877d52"
     ]
    },
    "id": "cclCyKFOMf8R",
    "outputId": "7338a01c-7aa0-40f4-df54-ac82b0b6078e"
   },
   "outputs": [
    {
     "name": "stderr",
     "output_type": "stream",
     "text": [
      "/tmp/ipykernel_3268277/3832327670.py:2: DeprecationWarning: `save_best` is deprecated in v1.2 and will be removed in v1.3. Please use `enable_checkpointing` instead. See https://github.com/scverse/scvi-tools/issues/2568 for more details.\n",
      "  model.train()\n",
      "GPU available: True (cuda), used: True\n",
      "TPU available: False, using: 0 TPU cores\n",
      "HPU available: False, using: 0 HPUs\n",
      "LOCAL_RANK: 0 - CUDA_VISIBLE_DEVICES: [0]\n",
      "/home/access/.conda/envs/scvi/lib/python3.12/site-packages/lightning/pytorch/trainer/connectors/data_connector.py:425: The 'train_dataloader' does not have many workers which may be a bottleneck. Consider increasing the value of the `num_workers` argument` to `num_workers=63` in the `DataLoader` to improve performance.\n",
      "/home/access/.conda/envs/scvi/lib/python3.12/site-packages/lightning/pytorch/trainer/connectors/data_connector.py:425: The 'val_dataloader' does not have many workers which may be a bottleneck. Consider increasing the value of the `num_workers` argument` to `num_workers=63` in the `DataLoader` to improve performance.\n"
     ]
    },
    {
     "data": {
      "application/vnd.jupyter.widget-view+json": {
       "model_id": "afd832bfdf7549809eddf515c3f1e983",
       "version_major": 2,
       "version_minor": 0
      },
      "text/plain": [
       "Training:   0%|          | 0/500 [00:00<?, ?it/s]"
      ]
     },
     "metadata": {},
     "output_type": "display_data"
    },
    {
     "name": "stdout",
     "output_type": "stream",
     "text": [
      "Monitored metric reconstruction_loss_validation did not improve in the last 50 records. Best score: 13005.790. Signaling Trainer to stop.\n"
     ]
    }
   ],
   "source": [
    "model = scvi.model.PEAKVI(adata)\n",
    "model.train()"
   ]
  },
  {
   "cell_type": "markdown",
   "metadata": {
    "id": "dab9yhHcMf8R"
   },
   "source": [
    "Since training a model can take a while, we recommend saving the trained model after training, just in case."
   ]
  },
  {
   "cell_type": "code",
   "execution_count": 8,
   "metadata": {
    "id": "v5w3u7ZgMf8S"
   },
   "outputs": [],
   "source": [
    "model_dir = os.path.join(save_dir.name, \"peakvi_pbmc\")\n",
    "model.save(model_dir, overwrite=True)"
   ]
  },
  {
   "cell_type": "markdown",
   "metadata": {
    "id": "mvEQcMynMf8S"
   },
   "source": [
    "We can then load the model later, which require providing an AnnData object that is structured similarly to the one used for training (or, in most cases, the same one):"
   ]
  },
  {
   "cell_type": "code",
   "execution_count": 9,
   "metadata": {
    "colab": {
     "base_uri": "https://localhost:8080/"
    },
    "id": "_q34gv_hMf8S",
    "outputId": "b1ec2672-63f9-481a-b74f-99daf67e398f"
   },
   "outputs": [
    {
     "name": "stdout",
     "output_type": "stream",
     "text": [
      "\u001b[34mINFO    \u001b[0m File \u001b[35m/tmp/tmp2wynk91v/peakvi_pbmc/\u001b[0m\u001b[95mmodel.pt\u001b[0m already downloaded                                             \n"
     ]
    }
   ],
   "source": [
    "model = scvi.model.PEAKVI.load(model_dir, adata=adata)"
   ]
  },
  {
   "cell_type": "markdown",
   "metadata": {
    "id": "3FRmN1bbMf8S"
   },
   "source": [
    "## Visualizing and analyzing the latent space\n",
    "\n",
    "We can now use the trained model to visualize, cluster, and analyze the data. We first extract the latent representation from the model, and save it back into our AnnData object:"
   ]
  },
  {
   "cell_type": "code",
   "execution_count": 10,
   "metadata": {
    "colab": {
     "base_uri": "https://localhost:8080/"
    },
    "id": "shzoLMjQMf8S",
    "outputId": "5d0d014f-8ac1-4f6d-8d84-8e00742eba26"
   },
   "outputs": [
    {
     "data": {
      "text/plain": [
       "(4585, 13)"
      ]
     },
     "execution_count": 10,
     "metadata": {},
     "output_type": "execute_result"
    }
   ],
   "source": [
    "PEAKVI_LATENT_KEY = \"X_peakvi\"\n",
    "\n",
    "latent = model.get_latent_representation()\n",
    "adata.obsm[PEAKVI_LATENT_KEY] = latent\n",
    "latent.shape"
   ]
  },
  {
   "cell_type": "markdown",
   "metadata": {
    "id": "-nIg0xy1Mf8T"
   },
   "source": [
    "We can now use Scanpy to cluster and visualize our latent space:"
   ]
  },
  {
   "cell_type": "code",
   "execution_count": 11,
   "metadata": {
    "colab": {
     "base_uri": "https://localhost:8080/"
    },
    "id": "CAzMk_4qMf8T",
    "outputId": "b4c9d26e-74f3-4192-d492-8cba1a15ab98"
   },
   "outputs": [
    {
     "name": "stderr",
     "output_type": "stream",
     "text": [
      "/tmp/ipykernel_3268277/192297472.py:8: FutureWarning: In the future, the default backend for leiden will be igraph instead of leidenalg.\n",
      "\n",
      " To achieve the future defaults please pass: flavor=\"igraph\" and n_iterations=2.  directed must also be False to work with igraph's implementation.\n",
      "  sc.tl.leiden(adata, key_added=PEAKVI_CLUSTERS_KEY, resolution=0.2)\n"
     ]
    }
   ],
   "source": [
    "PEAKVI_CLUSTERS_KEY = \"clusters_peakvi\"\n",
    "\n",
    "# compute the k-nearest-neighbor graph that is used in both clustering and umap algorithms\n",
    "sc.pp.neighbors(adata, use_rep=PEAKVI_LATENT_KEY)\n",
    "# compute the umap\n",
    "sc.tl.umap(adata, min_dist=0.2)\n",
    "# cluster the space (we use a lower resolution to get fewer clusters than the default)\n",
    "sc.tl.leiden(adata, key_added=PEAKVI_CLUSTERS_KEY, resolution=0.2)"
   ]
  },
  {
   "cell_type": "code",
   "execution_count": 12,
   "metadata": {
    "colab": {
     "base_uri": "https://localhost:8080/",
     "height": 294
    },
    "id": "gPm9j0aaMf8T",
    "outputId": "48b96bd3-1171-4d98-f1b6-fa7cd380ad21"
   },
   "outputs": [
    {
     "data": {
      "image/png": "[encoded data removed]",
      "text/plain": [
       "<Figure size 320x320 with 1 Axes>"
      ]
     },
     "metadata": {
      "image/png": {
       "height": 277,
       "width": 306
      }
     },
     "output_type": "display_data"
    }
   ],
   "source": [
    "sc.pl.umap(adata, color=PEAKVI_CLUSTERS_KEY)"
   ]
  },
  {
   "cell_type": "markdown",
   "metadata": {
    "id": "wGioRKwFMf8T"
   },
   "source": [
    "## Differential accessibility\n",
    "\n",
    "Finally, we can use PeakVI to identify regions that are differentially accessible. There are many different ways to run this analysis, but the simplest is comparing one cluster against all others, or comparing two clusters to each other. In the first case we'll be looking for marker-regions, so we'll mostly want a one-sided test (the significant regions will only be the ones preferentially accessible in our target cluster). In the second case we'll use a two-sided test to find regions that are differentially accessible, regardless of direction.\n",
    "\n",
    "We demonstrate both of these next, and do this in two different ways: (1) more convenient but less flexible: using an existing factor to group the cells, and then comparing groups. (2) more flexible: using cell indices directly.\n",
    "\n",
    "```{important}\n",
    "If the data includes multiple batches, we encourage setting `batch_correction=True` so the model will sample from multiple batches when computing the differential signal. We do this below despite the data only having a single batch, as a demonstration.\n",
    "```"
   ]
  },
  {
   "cell_type": "code",
   "execution_count": 25,
   "metadata": {
    "colab": {
     "base_uri": "https://localhost:8080/",
     "height": 414,
     "referenced_widgets": [
      "b20ea028a4e14aa8ad6b98fce7b545a3",
      "f4ac16112acb4d5e9a5fb5aa9628c73b",
      "5506f45015bd41bb9913d8cd7f205057",
      "3a2be7fae61240f29b93e99fe21311c9",
      "47b9af1ce95a4ec0b4bead85a11ef58b",
      "d550e425e9f449799f18a2443f473d2a",
      "4e7d42e30b924806ba53eb151f74a3f6",
      "8d43c534b8414eac9e77dc81c7f145e8",
      "dab48d384a07487fa635192278d5f072",
      "551977e9d9b0403099c7fc19e254c95f",
      "5db709077a0d4413b00c2fcf92dfbb4d"
     ]
    },
    "id": "YptioB5PMf8T",
    "outputId": "ab1e114a-eabb-4740-b15e-f439446659bc"
   },
   "outputs": [
    {
     "data": {
      "application/vnd.jupyter.widget-view+json": {
       "model_id": "ebad3892b87240d18fd8317cd3aba59e",
       "version_major": 2,
       "version_minor": 0
      },
      "text/plain": [
       "DE...:   0%|          | 0/1 [00:00<?, ?it/s]"
      ]
     },
     "metadata": {},
     "output_type": "display_data"
    },
    {
     "data": {
      "application/vnd.jupyter.widget-view+json": {
       "model_id": "54eeb348d6ed4008adaaa944c471883f",
       "version_major": 2,
       "version_minor": 0
      },
      "text/plain": [
       "DE...:   0%|          | 0/1 [00:00<?, ?it/s]"
      ]
     },
     "metadata": {},
     "output_type": "display_data"
    },
    {
     "data": {
      "application/vnd.jupyter.widget-view+json": {
       "model_id": "4b676c1462f74482ac5ee8aba259747b",
       "version_major": 2,
       "version_minor": 0
      },
      "text/plain": [
       "DE...:   0%|          | 0/1 [00:00<?, ?it/s]"
      ]
     },
     "metadata": {},
     "output_type": "display_data"
    },
    {
     "data": {
      "application/vnd.jupyter.widget-view+json": {
       "model_id": "f5814fe93d0c4561b67a77fa98bbdad0",
       "version_major": 2,
       "version_minor": 0
      },
      "text/plain": [
       "DE...:   0%|          | 0/1 [00:00<?, ?it/s]"
      ]
     },
     "metadata": {},
     "output_type": "display_data"
    },
    {
     "data": {
      "text/html": [
       "<div>\n",
       "<style scoped>\n",
       "    .dataframe tbody tr th:only-of-type {\n",
       "        vertical-align: middle;\n",
       "    }\n",
       "\n",
       "    .dataframe tbody tr th {\n",
       "        vertical-align: top;\n",
       "    }\n",
       "\n",
       "    .dataframe thead th {\n",
       "        text-align: right;\n",
       "    }\n",
       "</style>\n",
       "<table border=\"1\" class=\"dataframe\">\n",
       "  <thead>\n",
       "    <tr style=\"text-align: right;\">\n",
       "      <th></th>\n",
       "      <th>prob_da</th>\n",
       "      <th>is_da_fdr</th>\n",
       "      <th>bayes_factor</th>\n",
       "      <th>effect_size</th>\n",
       "      <th>emp_effect</th>\n",
       "      <th>est_prob1</th>\n",
       "      <th>est_prob2</th>\n",
       "      <th>emp_prob1</th>\n",
       "      <th>emp_prob2</th>\n",
       "    </tr>\n",
       "  </thead>\n",
       "  <tbody>\n",
       "    <tr>\n",
       "      <th>chr5:150503270-150506342</th>\n",
       "      <td>1.0</td>\n",
       "      <td>True</td>\n",
       "      <td>18.420681</td>\n",
       "      <td>-0.684163</td>\n",
       "      <td>-0.391794</td>\n",
       "      <td>0.939654</td>\n",
       "      <td>0.255491</td>\n",
       "      <td>0.527027</td>\n",
       "      <td>0.135233</td>\n",
       "    </tr>\n",
       "    <tr>\n",
       "      <th>chr2:25432714-25433707</th>\n",
       "      <td>1.0</td>\n",
       "      <td>True</td>\n",
       "      <td>18.420681</td>\n",
       "      <td>-0.890764</td>\n",
       "      <td>-0.460159</td>\n",
       "      <td>0.949519</td>\n",
       "      <td>0.058756</td>\n",
       "      <td>0.493243</td>\n",
       "      <td>0.033084</td>\n",
       "    </tr>\n",
       "    <tr>\n",
       "      <th>chr6:150920055-150922483</th>\n",
       "      <td>1.0</td>\n",
       "      <td>True</td>\n",
       "      <td>18.420681</td>\n",
       "      <td>-0.690254</td>\n",
       "      <td>-0.427968</td>\n",
       "      <td>0.974617</td>\n",
       "      <td>0.284362</td>\n",
       "      <td>0.594595</td>\n",
       "      <td>0.166626</td>\n",
       "    </tr>\n",
       "    <tr>\n",
       "      <th>chr11:45951188-45953584</th>\n",
       "      <td>1.0</td>\n",
       "      <td>True</td>\n",
       "      <td>18.420681</td>\n",
       "      <td>-0.721360</td>\n",
       "      <td>-0.396407</td>\n",
       "      <td>0.912923</td>\n",
       "      <td>0.191563</td>\n",
       "      <td>0.493243</td>\n",
       "      <td>0.096837</td>\n",
       "    </tr>\n",
       "    <tr>\n",
       "      <th>chr7:105697243-105699339</th>\n",
       "      <td>1.0</td>\n",
       "      <td>True</td>\n",
       "      <td>18.420681</td>\n",
       "      <td>-0.749004</td>\n",
       "      <td>-0.369626</td>\n",
       "      <td>0.920769</td>\n",
       "      <td>0.171765</td>\n",
       "      <td>0.459459</td>\n",
       "      <td>0.089833</td>\n",
       "    </tr>\n",
       "  </tbody>\n",
       "</table>\n",
       "</div>"
      ],
      "text/plain": [
       "                          prob_da  is_da_fdr  bayes_factor  effect_size  \\\n",
       "chr5:150503270-150506342      1.0       True     18.420681    -0.684163   \n",
       "chr2:25432714-25433707        1.0       True     18.420681    -0.890764   \n",
       "chr6:150920055-150922483      1.0       True     18.420681    -0.690254   \n",
       "chr11:45951188-45953584       1.0       True     18.420681    -0.721360   \n",
       "chr7:105697243-105699339      1.0       True     18.420681    -0.749004   \n",
       "\n",
       "                          emp_effect  est_prob1  est_prob2  emp_prob1  \\\n",
       "chr5:150503270-150506342   -0.391794   0.939654   0.255491   0.527027   \n",
       "chr2:25432714-25433707     -0.460159   0.949519   0.058756   0.493243   \n",
       "chr6:150920055-150922483   -0.427968   0.974617   0.284362   0.594595   \n",
       "chr11:45951188-45953584    -0.396407   0.912923   0.191563   0.493243   \n",
       "chr7:105697243-105699339   -0.369626   0.920769   0.171765   0.459459   \n",
       "\n",
       "                          emp_prob2  \n",
       "chr5:150503270-150506342   0.135233  \n",
       "chr2:25432714-25433707     0.033084  \n",
       "chr6:150920055-150922483   0.166626  \n",
       "chr11:45951188-45953584    0.096837  \n",
       "chr7:105697243-105699339   0.089833  "
      ]
     },
     "execution_count": 25,
     "metadata": {},
     "output_type": "execute_result"
    }
   ],
   "source": [
    "# (1.1) using a known factor to compare two clusters\n",
    "da_res11 = model.differential_accessibility(\n",
    "    groupby=PEAKVI_CLUSTERS_KEY, group1=\"3\", group2=\"0\", test_mode=\"two\"\n",
    ")\n",
    "\n",
    "# (1.2) using a known factor to compare a cluster against all other clusters\n",
    "## if we only provide group1, group2 is all other cells by default\n",
    "da_res12 = model.differential_accessibility(\n",
    "    groupby=PEAKVI_CLUSTERS_KEY, group1=\"3\"\n",
    ")\n",
    "\n",
    "# (2.1) using indices to compare two clusters\n",
    "## we can use boolean masks or integer indices for the `idx1` and `idx2` arguments\n",
    "da_res21 = model.differential_accessibility(\n",
    "    idx1=adata.obs[PEAKVI_CLUSTERS_KEY] == \"3\",\n",
    "    idx2=adata.obs[PEAKVI_CLUSTERS_KEY] == \"0\",\n",
    "    test_mode=\"two\"\n",
    ")\n",
    "# (2.2) using indices to compare a cluster against all other clusters\n",
    "## if we don't provide idx2, it uses all other cells as the contrast\n",
    "da_res22 = model.differential_accessibility(\n",
    "    idx1=np.where(adata.obs[PEAKVI_CLUSTERS_KEY] == \"3\"),\n",
    ")\n",
    "\n",
    "da_res22.head()"
   ]
  },
  {
   "cell_type": "markdown",
   "metadata": {
    "id": "zWseudKHMf8U"
   },
   "source": [
    "Note that `da_res11` and `da_res21` are equivalent, as are `da_res12` and `da_res22`.\n",
    "The return value is a pandas DataFrame with the differential results and basic properties of the comparison:\n",
    "\n",
    "`prob_da` in our case is the probability of cells from cluster 0 being more than 0.05 (the default minimal effect) more accessible than cells from the rest of the data.\n",
    "\n",
    "`is_da_fdr` is a conservative classification (True/False) of whether a region is differential accessible. This is one way to threshold the results.\n",
    "\n",
    "`bayes_factor` is a statistical significance score. It doesn't have a commonly acceptable threshold (e.g 0.05 for p-values), bu we demonstrate below that it's well calibrated to the effect size.\n",
    "\n",
    "`effect_size` is the effect size, calculated as `est_prob1 - est_prob2`.\n",
    "\n",
    "`emp_effect` is the empirical effect size, calculated as `emp_prob1 - emp_prob2`.\n",
    "\n",
    "`est_prob{1,2}` are the estimated probabilities of accessibility in group1 and group2.\n",
    "\n",
    "`emp_prob{1,2}` are the empirical probabilities of detection (how many cells in group X was the region detected in).\n",
    "\n",
    "We can make sure the probability of DA is well calibrated, and look at the regions that are identified as differentially accessible:"
   ]
  },
  {
   "cell_type": "code",
   "execution_count": 26,
   "metadata": {
    "id": "uMenbDZ8Mf8U"
   },
   "outputs": [
    {
     "data": {
      "image/png": "[encoded data removed]",
      "text/plain": [
       "<Figure size 320x320 with 1 Axes>"
      ]
     },
     "metadata": {
      "image/png": {
       "height": 300,
       "width": 317
      }
     },
     "output_type": "display_data"
    },
    {
     "data": {
      "text/html": [
       "<div>\n",
       "<style scoped>\n",
       "    .dataframe tbody tr th:only-of-type {\n",
       "        vertical-align: middle;\n",
       "    }\n",
       "\n",
       "    .dataframe tbody tr th {\n",
       "        vertical-align: top;\n",
       "    }\n",
       "\n",
       "    .dataframe thead th {\n",
       "        text-align: right;\n",
       "    }\n",
       "</style>\n",
       "<table border=\"1\" class=\"dataframe\">\n",
       "  <thead>\n",
       "    <tr style=\"text-align: right;\">\n",
       "      <th></th>\n",
       "      <th>prob_da</th>\n",
       "      <th>is_da_fdr</th>\n",
       "      <th>bayes_factor</th>\n",
       "      <th>effect_size</th>\n",
       "      <th>emp_effect</th>\n",
       "      <th>est_prob1</th>\n",
       "      <th>est_prob2</th>\n",
       "      <th>emp_prob1</th>\n",
       "      <th>emp_prob2</th>\n",
       "    </tr>\n",
       "  </thead>\n",
       "  <tbody>\n",
       "    <tr>\n",
       "      <th>chr5:150503270-150506342</th>\n",
       "      <td>1.0000</td>\n",
       "      <td>True</td>\n",
       "      <td>18.420681</td>\n",
       "      <td>-0.684163</td>\n",
       "      <td>-0.391794</td>\n",
       "      <td>0.939654</td>\n",
       "      <td>0.255491</td>\n",
       "      <td>0.527027</td>\n",
       "      <td>0.135233</td>\n",
       "    </tr>\n",
       "    <tr>\n",
       "      <th>chr11:45951188-45953584</th>\n",
       "      <td>1.0000</td>\n",
       "      <td>True</td>\n",
       "      <td>18.420681</td>\n",
       "      <td>-0.721360</td>\n",
       "      <td>-0.396407</td>\n",
       "      <td>0.912923</td>\n",
       "      <td>0.191563</td>\n",
       "      <td>0.493243</td>\n",
       "      <td>0.096837</td>\n",
       "    </tr>\n",
       "    <tr>\n",
       "      <th>chr14:64701787-64703599</th>\n",
       "      <td>1.0000</td>\n",
       "      <td>True</td>\n",
       "      <td>18.420681</td>\n",
       "      <td>-0.921193</td>\n",
       "      <td>-0.551225</td>\n",
       "      <td>0.957942</td>\n",
       "      <td>0.036749</td>\n",
       "      <td>0.569820</td>\n",
       "      <td>0.018595</td>\n",
       "    </tr>\n",
       "    <tr>\n",
       "      <th>chr7:105697243-105699339</th>\n",
       "      <td>1.0000</td>\n",
       "      <td>True</td>\n",
       "      <td>18.420681</td>\n",
       "      <td>-0.749004</td>\n",
       "      <td>-0.369626</td>\n",
       "      <td>0.920769</td>\n",
       "      <td>0.171765</td>\n",
       "      <td>0.459459</td>\n",
       "      <td>0.089833</td>\n",
       "    </tr>\n",
       "    <tr>\n",
       "      <th>chr6:150920055-150922483</th>\n",
       "      <td>1.0000</td>\n",
       "      <td>True</td>\n",
       "      <td>18.420681</td>\n",
       "      <td>-0.690254</td>\n",
       "      <td>-0.427968</td>\n",
       "      <td>0.974617</td>\n",
       "      <td>0.284362</td>\n",
       "      <td>0.594595</td>\n",
       "      <td>0.166626</td>\n",
       "    </tr>\n",
       "    <tr>\n",
       "      <th>chr2:25432714-25433707</th>\n",
       "      <td>1.0000</td>\n",
       "      <td>True</td>\n",
       "      <td>18.420681</td>\n",
       "      <td>-0.890764</td>\n",
       "      <td>-0.460159</td>\n",
       "      <td>0.949519</td>\n",
       "      <td>0.058756</td>\n",
       "      <td>0.493243</td>\n",
       "      <td>0.033084</td>\n",
       "    </tr>\n",
       "    <tr>\n",
       "      <th>chr6:33560083-33561500</th>\n",
       "      <td>1.0000</td>\n",
       "      <td>True</td>\n",
       "      <td>18.420681</td>\n",
       "      <td>-0.825462</td>\n",
       "      <td>-0.451047</td>\n",
       "      <td>0.949035</td>\n",
       "      <td>0.123574</td>\n",
       "      <td>0.515766</td>\n",
       "      <td>0.064719</td>\n",
       "    </tr>\n",
       "    <tr>\n",
       "      <th>chr14:74867750-74870009</th>\n",
       "      <td>1.0000</td>\n",
       "      <td>True</td>\n",
       "      <td>18.420681</td>\n",
       "      <td>-0.751209</td>\n",
       "      <td>-0.386747</td>\n",
       "      <td>0.943611</td>\n",
       "      <td>0.192402</td>\n",
       "      <td>0.493243</td>\n",
       "      <td>0.106496</td>\n",
       "    </tr>\n",
       "    <tr>\n",
       "      <th>chr22:22522044-22523273</th>\n",
       "      <td>1.0000</td>\n",
       "      <td>True</td>\n",
       "      <td>18.420681</td>\n",
       "      <td>-0.777750</td>\n",
       "      <td>-0.405125</td>\n",
       "      <td>0.887665</td>\n",
       "      <td>0.109915</td>\n",
       "      <td>0.459459</td>\n",
       "      <td>0.054335</td>\n",
       "    </tr>\n",
       "    <tr>\n",
       "      <th>chr4:2852856-2854873</th>\n",
       "      <td>0.9998</td>\n",
       "      <td>True</td>\n",
       "      <td>8.516943</td>\n",
       "      <td>-0.570832</td>\n",
       "      <td>-0.270808</td>\n",
       "      <td>0.646999</td>\n",
       "      <td>0.076166</td>\n",
       "      <td>0.306306</td>\n",
       "      <td>0.035499</td>\n",
       "    </tr>\n",
       "  </tbody>\n",
       "</table>\n",
       "</div>"
      ],
      "text/plain": [
       "                          prob_da  is_da_fdr  bayes_factor  effect_size  \\\n",
       "chr5:150503270-150506342   1.0000       True     18.420681    -0.684163   \n",
       "chr11:45951188-45953584    1.0000       True     18.420681    -0.721360   \n",
       "chr14:64701787-64703599    1.0000       True     18.420681    -0.921193   \n",
       "chr7:105697243-105699339   1.0000       True     18.420681    -0.749004   \n",
       "chr6:150920055-150922483   1.0000       True     18.420681    -0.690254   \n",
       "chr2:25432714-25433707     1.0000       True     18.420681    -0.890764   \n",
       "chr6:33560083-33561500     1.0000       True     18.420681    -0.825462   \n",
       "chr14:74867750-74870009    1.0000       True     18.420681    -0.751209   \n",
       "chr22:22522044-22523273    1.0000       True     18.420681    -0.777750   \n",
       "chr4:2852856-2854873       0.9998       True      8.516943    -0.570832   \n",
       "\n",
       "                          emp_effect  est_prob1  est_prob2  emp_prob1  \\\n",
       "chr5:150503270-150506342   -0.391794   0.939654   0.255491   0.527027   \n",
       "chr11:45951188-45953584    -0.396407   0.912923   0.191563   0.493243   \n",
       "chr14:64701787-64703599    -0.551225   0.957942   0.036749   0.569820   \n",
       "chr7:105697243-105699339   -0.369626   0.920769   0.171765   0.459459   \n",
       "chr6:150920055-150922483   -0.427968   0.974617   0.284362   0.594595   \n",
       "chr2:25432714-25433707     -0.460159   0.949519   0.058756   0.493243   \n",
       "chr6:33560083-33561500     -0.451047   0.949035   0.123574   0.515766   \n",
       "chr14:74867750-74870009    -0.386747   0.943611   0.192402   0.493243   \n",
       "chr22:22522044-22523273    -0.405125   0.887665   0.109915   0.459459   \n",
       "chr4:2852856-2854873       -0.270808   0.646999   0.076166   0.306306   \n",
       "\n",
       "                          emp_prob2  \n",
       "chr5:150503270-150506342   0.135233  \n",
       "chr11:45951188-45953584    0.096837  \n",
       "chr14:64701787-64703599    0.018595  \n",
       "chr7:105697243-105699339   0.089833  \n",
       "chr6:150920055-150922483   0.166626  \n",
       "chr2:25432714-25433707     0.033084  \n",
       "chr6:33560083-33561500     0.064719  \n",
       "chr14:74867750-74870009    0.106496  \n",
       "chr22:22522044-22523273    0.054335  \n",
       "chr4:2852856-2854873       0.035499  "
      ]
     },
     "execution_count": 26,
     "metadata": {},
     "output_type": "execute_result"
    }
   ],
   "source": [
    "plt.scatter(da_res22.effect_size, da_res22.prob_da, s=1)\n",
    "plt.xlabel(\"effect size\")\n",
    "plt.ylabel(\"probability of DA\")\n",
    "plt.show()\n",
    "\n",
    "da_res22.loc[da_res22.is_da_fdr].sort_values(\"prob_da\", ascending=False).head(10)"
   ]
  },
  {
   "cell_type": "markdown",
   "metadata": {
    "id": "a8_I_8PLMf8U"
   },
   "source": [
    "We can now examine these regions to understand what is happening in the data, using various different annotation and enrichment methods. For instance, `chr11:60222766-60223569`, one of the regions preferentially accessible in cluster 0, is the promoter region of [`MS4A1`](https://www.genecards.org/cgi-bin/carddisp.pl?gene=MS4A1), also known as `CD20`, a known B-cell surface marker, indicating that cluster 0 are probably B-cells."
   ]
  },
  {
   "cell_type": "code",
   "execution_count": null,
   "metadata": {},
   "outputs": [],
   "source": []
  }
 ],
 "metadata": {
  "accelerator": "GPU",
  "colab": {
   "provenance": []
  },
  "kernelspec": {
   "display_name": "Python 3 (ipykernel)",
   "language": "python",
   "name": "python3"
  },
  "language_info": {
   "codemirror_mode": {
    "name": "ipython",
    "version": 3
   },
   "file_extension": ".py",
   "mimetype": "text/x-python",
   "name": "python",
   "nbconvert_exporter": "python",
   "pygments_lexer": "ipython3",
   "version": "3.12.8"
  },
  "widgets": {
   "application/vnd.jupyter.widget-state+json": {
    "02bf875352794c5381fdee91e33623c3": {
     "model_module": "@jupyter-widgets/base",
     "model_module_version": "1.2.0",
     "model_name": "LayoutModel",
     "state": {
      "_model_module": "@jupyter-widgets/base",
      "_model_module_version": "1.2.0",
      "_model_name": "LayoutModel",
      "_view_count": null,
      "_view_module": "@jupyter-widgets/base",
      "_view_module_version": "1.2.0",
      "_view_name": "LayoutView",
      "align_content": null,
      "align_items": null,
      "align_self": null,
      "border": null,
      "bottom": null,
      "display": null,
      "flex": null,
      "flex_flow": null,
      "grid_area": null,
      "grid_auto_columns": null,
      "grid_auto_flow": null,
      "grid_auto_rows": null,
      "grid_column": null,
      "grid_gap": null,
      "grid_row": null,
      "grid_template_areas": null,
      "grid_template_columns": null,
      "grid_template_rows": null,
      "height": null,
      "justify_content": null,
      "justify_items": null,
      "left": null,
      "margin": null,
      "max_height": null,
      "max_width": null,
      "min_height": null,
      "min_width": null,
      "object_fit": null,
      "object_position": null,
      "order": null,
      "overflow": null,
      "overflow_x": null,
      "overflow_y": null,
      "padding": null,
      "right": null,
      "top": null,
      "visibility": null,
      "width": null
     }
    },
    "051946e95cb8403c9b00c7f2b74afa2f": {
     "model_module": "@jupyter-widgets/controls",
     "model_module_version": "1.5.0",
     "model_name": "HBoxModel",
     "state": {
      "_dom_classes": [],
      "_model_module": "@jupyter-widgets/controls",
      "_model_module_version": "1.5.0",
      "_model_name": "HBoxModel",
      "_view_count": null,
      "_view_module": "@jupyter-widgets/controls",
      "_view_module_version": "1.5.0",
      "_view_name": "HBoxView",
      "box_style": "",
      "children": [
       "IPY_MODEL_7bb844219c45426a88e97ddf2572a20d",
       "IPY_MODEL_e9f82ccbd02a43639d9f12a438ac5b0d",
       "IPY_MODEL_25850a0e83eb4a6ebf563eea15b8c820"
      ],
      "layout": "IPY_MODEL_6c86498586c24c82b2448de57a062ab8"
     }
    },
    "25850a0e83eb4a6ebf563eea15b8c820": {
     "model_module": "@jupyter-widgets/controls",
     "model_module_version": "1.5.0",
     "model_name": "HTMLModel",
     "state": {
      "_dom_classes": [],
      "_model_module": "@jupyter-widgets/controls",
      "_model_module_version": "1.5.0",
      "_model_name": "HTMLModel",
      "_view_count": null,
      "_view_module": "@jupyter-widgets/controls",
      "_view_module_version": "1.5.0",
      "_view_name": "HTMLView",
      "description": "",
      "description_tooltip": null,
      "layout": "IPY_MODEL_f8d66f0b05844d889c4ce1a8390f055b",
      "placeholder": "​",
      "style": "IPY_MODEL_8aa61dd52fec454693c100da154f9b8d",
      "value": " 365M/365M [00:37&lt;00:00, 10.6MB/s]"
     }
    },
    "3a2be7fae61240f29b93e99fe21311c9": {
     "model_module": "@jupyter-widgets/controls",
     "model_module_version": "1.5.0",
     "model_name": "HTMLModel",
     "state": {
      "_dom_classes": [],
      "_model_module": "@jupyter-widgets/controls",
      "_model_module_version": "1.5.0",
      "_model_name": "HTMLModel",
      "_view_count": null,
      "_view_module": "@jupyter-widgets/controls",
      "_view_module_version": "1.5.0",
      "_view_name": "HTMLView",
      "description": "",
      "description_tooltip": null,
      "layout": "IPY_MODEL_551977e9d9b0403099c7fc19e254c95f",
      "placeholder": "​",
      "style": "IPY_MODEL_5db709077a0d4413b00c2fcf92dfbb4d",
      "value": " 0/1 [00:00&lt;?, ?it/s]"
     }
    },
    "400bcff22d4a4e7a90b66edf8c51bd7c": {
     "model_module": "@jupyter-widgets/controls",
     "model_module_version": "1.5.0",
     "model_name": "FloatProgressModel",
     "state": {
      "_dom_classes": [],
      "_model_module": "@jupyter-widgets/controls",
      "_model_module_version": "1.5.0",
      "_model_name": "FloatProgressModel",
      "_view_count": null,
      "_view_module": "@jupyter-widgets/controls",
      "_view_module_version": "1.5.0",
      "_view_name": "ProgressView",
      "bar_style": "danger",
      "description": "",
      "description_tooltip": null,
      "layout": "IPY_MODEL_a3084bc33eaa498d84497a3838e76e74",
      "max": 500,
      "min": 0,
      "orientation": "horizontal",
      "style": "IPY_MODEL_c34f1d12d0f54cac86722780ad9616e6",
      "value": 274
     }
    },
    "47b9af1ce95a4ec0b4bead85a11ef58b": {
     "model_module": "@jupyter-widgets/base",
     "model_module_version": "1.2.0",
     "model_name": "LayoutModel",
     "state": {
      "_model_module": "@jupyter-widgets/base",
      "_model_module_version": "1.2.0",
      "_model_name": "LayoutModel",
      "_view_count": null,
      "_view_module": "@jupyter-widgets/base",
      "_view_module_version": "1.2.0",
      "_view_name": "LayoutView",
      "align_content": null,
      "align_items": null,
      "align_self": null,
      "border": null,
      "bottom": null,
      "display": null,
      "flex": null,
      "flex_flow": null,
      "grid_area": null,
      "grid_auto_columns": null,
      "grid_auto_flow": null,
      "grid_auto_rows": null,
      "grid_column": null,
      "grid_gap": null,
      "grid_row": null,
      "grid_template_areas": null,
      "grid_template_columns": null,
      "grid_template_rows": null,
      "height": null,
      "justify_content": null,
      "justify_items": null,
      "left": null,
      "margin": null,
      "max_height": null,
      "max_width": null,
      "min_height": null,
      "min_width": null,
      "object_fit": null,
      "object_position": null,
      "order": null,
      "overflow": null,
      "overflow_x": null,
      "overflow_y": null,
      "padding": null,
      "right": null,
      "top": null,
      "visibility": null,
      "width": null
     }
    },
    "48b3568f911e4338ac8d67b0b15b8f8b": {
     "model_module": "@jupyter-widgets/base",
     "model_module_version": "1.2.0",
     "model_name": "LayoutModel",
     "state": {
      "_model_module": "@jupyter-widgets/base",
      "_model_module_version": "1.2.0",
      "_model_name": "LayoutModel",
      "_view_count": null,
      "_view_module": "@jupyter-widgets/base",
      "_view_module_version": "1.2.0",
      "_view_name": "LayoutView",
      "align_content": null,
      "align_items": null,
      "align_self": null,
      "border": null,
      "bottom": null,
      "display": null,
      "flex": null,
      "flex_flow": null,
      "grid_area": null,
      "grid_auto_columns": null,
      "grid_auto_flow": null,
      "grid_auto_rows": null,
      "grid_column": null,
      "grid_gap": null,
      "grid_row": null,
      "grid_template_areas": null,
      "grid_template_columns": null,
      "grid_template_rows": null,
      "height": null,
      "justify_content": null,
      "justify_items": null,
      "left": null,
      "margin": null,
      "max_height": null,
      "max_width": null,
      "min_height": null,
      "min_width": null,
      "object_fit": null,
      "object_position": null,
      "order": null,
      "overflow": null,
      "overflow_x": null,
      "overflow_y": null,
      "padding": null,
      "right": null,
      "top": null,
      "visibility": null,
      "width": null
     }
    },
    "4e7d42e30b924806ba53eb151f74a3f6": {
     "model_module": "@jupyter-widgets/controls",
     "model_module_version": "1.5.0",
     "model_name": "DescriptionStyleModel",
     "state": {
      "_model_module": "@jupyter-widgets/controls",
      "_model_module_version": "1.5.0",
      "_model_name": "DescriptionStyleModel",
      "_view_count": null,
      "_view_module": "@jupyter-widgets/base",
      "_view_module_version": "1.2.0",
      "_view_name": "StyleView",
      "description_width": ""
     }
    },
    "538eb72f0b0041729b2ac8d402e01e51": {
     "model_module": "@jupyter-widgets/controls",
     "model_module_version": "1.5.0",
     "model_name": "DescriptionStyleModel",
     "state": {
      "_model_module": "@jupyter-widgets/controls",
      "_model_module_version": "1.5.0",
      "_model_name": "DescriptionStyleModel",
      "_view_count": null,
      "_view_module": "@jupyter-widgets/base",
      "_view_module_version": "1.2.0",
      "_view_name": "StyleView",
      "description_width": ""
     }
    },
    "5506f45015bd41bb9913d8cd7f205057": {
     "model_module": "@jupyter-widgets/controls",
     "model_module_version": "1.5.0",
     "model_name": "FloatProgressModel",
     "state": {
      "_dom_classes": [],
      "_model_module": "@jupyter-widgets/controls",
      "_model_module_version": "1.5.0",
      "_model_name": "FloatProgressModel",
      "_view_count": null,
      "_view_module": "@jupyter-widgets/controls",
      "_view_module_version": "1.5.0",
      "_view_name": "ProgressView",
      "bar_style": "danger",
      "description": "",
      "description_tooltip": null,
      "layout": "IPY_MODEL_8d43c534b8414eac9e77dc81c7f145e8",
      "max": 1,
      "min": 0,
      "orientation": "horizontal",
      "style": "IPY_MODEL_dab48d384a07487fa635192278d5f072",
      "value": 0
     }
    },
    "551977e9d9b0403099c7fc19e254c95f": {
     "model_module": "@jupyter-widgets/base",
     "model_module_version": "1.2.0",
     "model_name": "LayoutModel",
     "state": {
      "_model_module": "@jupyter-widgets/base",
      "_model_module_version": "1.2.0",
      "_model_name": "LayoutModel",
      "_view_count": null,
      "_view_module": "@jupyter-widgets/base",
      "_view_module_version": "1.2.0",
      "_view_name": "LayoutView",
      "align_content": null,
      "align_items": null,
      "align_self": null,
      "border": null,
      "bottom": null,
      "display": null,
      "flex": null,
      "flex_flow": null,
      "grid_area": null,
      "grid_auto_columns": null,
      "grid_auto_flow": null,
      "grid_auto_rows": null,
      "grid_column": null,
      "grid_gap": null,
      "grid_row": null,
      "grid_template_areas": null,
      "grid_template_columns": null,
      "grid_template_rows": null,
      "height": null,
      "justify_content": null,
      "justify_items": null,
      "left": null,
      "margin": null,
      "max_height": null,
      "max_width": null,
      "min_height": null,
      "min_width": null,
      "object_fit": null,
      "object_position": null,
      "order": null,
      "overflow": null,
      "overflow_x": null,
      "overflow_y": null,
      "padding": null,
      "right": null,
      "top": null,
      "visibility": null,
      "width": null
     }
    },
    "5b7e4ed86ec44547801f303f6a0587df": {
     "model_module": "@jupyter-widgets/base",
     "model_module_version": "1.2.0",
     "model_name": "LayoutModel",
     "state": {
      "_model_module": "@jupyter-widgets/base",
      "_model_module_version": "1.2.0",
      "_model_name": "LayoutModel",
      "_view_count": null,
      "_view_module": "@jupyter-widgets/base",
      "_view_module_version": "1.2.0",
      "_view_name": "LayoutView",
      "align_content": null,
      "align_items": null,
      "align_self": null,
      "border": null,
      "bottom": null,
      "display": null,
      "flex": null,
      "flex_flow": null,
      "grid_area": null,
      "grid_auto_columns": null,
      "grid_auto_flow": null,
      "grid_auto_rows": null,
      "grid_column": null,
      "grid_gap": null,
      "grid_row": null,
      "grid_template_areas": null,
      "grid_template_columns": null,
      "grid_template_rows": null,
      "height": null,
      "justify_content": null,
      "justify_items": null,
      "left": null,
      "margin": null,
      "max_height": null,
      "max_width": null,
      "min_height": null,
      "min_width": null,
      "object_fit": null,
      "object_position": null,
      "order": null,
      "overflow": null,
      "overflow_x": null,
      "overflow_y": null,
      "padding": null,
      "right": null,
      "top": null,
      "visibility": null,
      "width": null
     }
    },
    "5db709077a0d4413b00c2fcf92dfbb4d": {
     "model_module": "@jupyter-widgets/controls",
     "model_module_version": "1.5.0",
     "model_name": "DescriptionStyleModel",
     "state": {
      "_model_module": "@jupyter-widgets/controls",
      "_model_module_version": "1.5.0",
      "_model_name": "DescriptionStyleModel",
      "_view_count": null,
      "_view_module": "@jupyter-widgets/base",
      "_view_module_version": "1.2.0",
      "_view_name": "StyleView",
      "description_width": ""
     }
    },
    "6c86498586c24c82b2448de57a062ab8": {
     "model_module": "@jupyter-widgets/base",
     "model_module_version": "1.2.0",
     "model_name": "LayoutModel",
     "state": {
      "_model_module": "@jupyter-widgets/base",
      "_model_module_version": "1.2.0",
      "_model_name": "LayoutModel",
      "_view_count": null,
      "_view_module": "@jupyter-widgets/base",
      "_view_module_version": "1.2.0",
      "_view_name": "LayoutView",
      "align_content": null,
      "align_items": null,
      "align_self": null,
      "border": null,
      "bottom": null,
      "display": null,
      "flex": null,
      "flex_flow": null,
      "grid_area": null,
      "grid_auto_columns": null,
      "grid_auto_flow": null,
      "grid_auto_rows": null,
      "grid_column": null,
      "grid_gap": null,
      "grid_row": null,
      "grid_template_areas": null,
      "grid_template_columns": null,
      "grid_template_rows": null,
      "height": null,
      "justify_content": null,
      "justify_items": null,
      "left": null,
      "margin": null,
      "max_height": null,
      "max_width": null,
      "min_height": null,
      "min_width": null,
      "object_fit": null,
      "object_position": null,
      "order": null,
      "overflow": null,
      "overflow_x": null,
      "overflow_y": null,
      "padding": null,
      "right": null,
      "top": null,
      "visibility": null,
      "width": null
     }
    },
    "7bb844219c45426a88e97ddf2572a20d": {
     "model_module": "@jupyter-widgets/controls",
     "model_module_version": "1.5.0",
     "model_name": "HTMLModel",
     "state": {
      "_dom_classes": [],
      "_model_module": "@jupyter-widgets/controls",
      "_model_module_version": "1.5.0",
      "_model_name": "HTMLModel",
      "_view_count": null,
      "_view_module": "@jupyter-widgets/controls",
      "_view_module_version": "1.5.0",
      "_view_name": "HTMLView",
      "description": "",
      "description_tooltip": null,
      "layout": "IPY_MODEL_02bf875352794c5381fdee91e33623c3",
      "placeholder": "​",
      "style": "IPY_MODEL_853ce191a54e475ebdb981bda260e5ae",
      "value": "100%"
     }
    },
    "853ce191a54e475ebdb981bda260e5ae": {
     "model_module": "@jupyter-widgets/controls",
     "model_module_version": "1.5.0",
     "model_name": "DescriptionStyleModel",
     "state": {
      "_model_module": "@jupyter-widgets/controls",
      "_model_module_version": "1.5.0",
      "_model_name": "DescriptionStyleModel",
      "_view_count": null,
      "_view_module": "@jupyter-widgets/base",
      "_view_module_version": "1.2.0",
      "_view_name": "StyleView",
      "description_width": ""
     }
    },
    "8aa61dd52fec454693c100da154f9b8d": {
     "model_module": "@jupyter-widgets/controls",
     "model_module_version": "1.5.0",
     "model_name": "DescriptionStyleModel",
     "state": {
      "_model_module": "@jupyter-widgets/controls",
      "_model_module_version": "1.5.0",
      "_model_name": "DescriptionStyleModel",
      "_view_count": null,
      "_view_module": "@jupyter-widgets/base",
      "_view_module_version": "1.2.0",
      "_view_name": "StyleView",
      "description_width": ""
     }
    },
    "8cc2c26c6e764c4aa73494735a01a626": {
     "model_module": "@jupyter-widgets/controls",
     "model_module_version": "1.5.0",
     "model_name": "HTMLModel",
     "state": {
      "_dom_classes": [],
      "_model_module": "@jupyter-widgets/controls",
      "_model_module_version": "1.5.0",
      "_model_name": "HTMLModel",
      "_view_count": null,
      "_view_module": "@jupyter-widgets/controls",
      "_view_module_version": "1.5.0",
      "_view_name": "HTMLView",
      "description": "",
      "description_tooltip": null,
      "layout": "IPY_MODEL_b0491d350ae74415bf059e5a4820c76d",
      "placeholder": "​",
      "style": "IPY_MODEL_f9b2be5deffc4522b46fc0570a877d52",
      "value": " 274/500 [05:00&lt;04:02,  1.07s/it, v_num=1, train_loss_step=1.14e+7, train_loss_epoch=2.01e+8]"
     }
    },
    "8d43c534b8414eac9e77dc81c7f145e8": {
     "model_module": "@jupyter-widgets/base",
     "model_module_version": "1.2.0",
     "model_name": "LayoutModel",
     "state": {
      "_model_module": "@jupyter-widgets/base",
      "_model_module_version": "1.2.0",
      "_model_name": "LayoutModel",
      "_view_count": null,
      "_view_module": "@jupyter-widgets/base",
      "_view_module_version": "1.2.0",
      "_view_name": "LayoutView",
      "align_content": null,
      "align_items": null,
      "align_self": null,
      "border": null,
      "bottom": null,
      "display": null,
      "flex": null,
      "flex_flow": null,
      "grid_area": null,
      "grid_auto_columns": null,
      "grid_auto_flow": null,
      "grid_auto_rows": null,
      "grid_column": null,
      "grid_gap": null,
      "grid_row": null,
      "grid_template_areas": null,
      "grid_template_columns": null,
      "grid_template_rows": null,
      "height": null,
      "justify_content": null,
      "justify_items": null,
      "left": null,
      "margin": null,
      "max_height": null,
      "max_width": null,
      "min_height": null,
      "min_width": null,
      "object_fit": null,
      "object_position": null,
      "order": null,
      "overflow": null,
      "overflow_x": null,
      "overflow_y": null,
      "padding": null,
      "right": null,
      "top": null,
      "visibility": null,
      "width": null
     }
    },
    "a3084bc33eaa498d84497a3838e76e74": {
     "model_module": "@jupyter-widgets/base",
     "model_module_version": "1.2.0",
     "model_name": "LayoutModel",
     "state": {
      "_model_module": "@jupyter-widgets/base",
      "_model_module_version": "1.2.0",
      "_model_name": "LayoutModel",
      "_view_count": null,
      "_view_module": "@jupyter-widgets/base",
      "_view_module_version": "1.2.0",
      "_view_name": "LayoutView",
      "align_content": null,
      "align_items": null,
      "align_self": null,
      "border": null,
      "bottom": null,
      "display": null,
      "flex": null,
      "flex_flow": null,
      "grid_area": null,
      "grid_auto_columns": null,
      "grid_auto_flow": null,
      "grid_auto_rows": null,
      "grid_column": null,
      "grid_gap": null,
      "grid_row": null,
      "grid_template_areas": null,
      "grid_template_columns": null,
      "grid_template_rows": null,
      "height": null,
      "justify_content": null,
      "justify_items": null,
      "left": null,
      "margin": null,
      "max_height": null,
      "max_width": null,
      "min_height": null,
      "min_width": null,
      "object_fit": null,
      "object_position": null,
      "order": null,
      "overflow": null,
      "overflow_x": null,
      "overflow_y": null,
      "padding": null,
      "right": null,
      "top": null,
      "visibility": null,
      "width": null
     }
    },
    "a9aa8984434345389f008a5bf245186f": {
     "model_module": "@jupyter-widgets/controls",
     "model_module_version": "1.5.0",
     "model_name": "HTMLModel",
     "state": {
      "_dom_classes": [],
      "_model_module": "@jupyter-widgets/controls",
      "_model_module_version": "1.5.0",
      "_model_name": "HTMLModel",
      "_view_count": null,
      "_view_module": "@jupyter-widgets/controls",
      "_view_module_version": "1.5.0",
      "_view_name": "HTMLView",
      "description": "",
      "description_tooltip": null,
      "layout": "IPY_MODEL_5b7e4ed86ec44547801f303f6a0587df",
      "placeholder": "​",
      "style": "IPY_MODEL_538eb72f0b0041729b2ac8d402e01e51",
      "value": "Epoch 274/500:  55%"
     }
    },
    "b0491d350ae74415bf059e5a4820c76d": {
     "model_module": "@jupyter-widgets/base",
     "model_module_version": "1.2.0",
     "model_name": "LayoutModel",
     "state": {
      "_model_module": "@jupyter-widgets/base",
      "_model_module_version": "1.2.0",
      "_model_name": "LayoutModel",
      "_view_count": null,
      "_view_module": "@jupyter-widgets/base",
      "_view_module_version": "1.2.0",
      "_view_name": "LayoutView",
      "align_content": null,
      "align_items": null,
      "align_self": null,
      "border": null,
      "bottom": null,
      "display": null,
      "flex": null,
      "flex_flow": null,
      "grid_area": null,
      "grid_auto_columns": null,
      "grid_auto_flow": null,
      "grid_auto_rows": null,
      "grid_column": null,
      "grid_gap": null,
      "grid_row": null,
      "grid_template_areas": null,
      "grid_template_columns": null,
      "grid_template_rows": null,
      "height": null,
      "justify_content": null,
      "justify_items": null,
      "left": null,
      "margin": null,
      "max_height": null,
      "max_width": null,
      "min_height": null,
      "min_width": null,
      "object_fit": null,
      "object_position": null,
      "order": null,
      "overflow": null,
      "overflow_x": null,
      "overflow_y": null,
      "padding": null,
      "right": null,
      "top": null,
      "visibility": null,
      "width": null
     }
    },
    "b20ea028a4e14aa8ad6b98fce7b545a3": {
     "model_module": "@jupyter-widgets/controls",
     "model_module_version": "1.5.0",
     "model_name": "HBoxModel",
     "state": {
      "_dom_classes": [],
      "_model_module": "@jupyter-widgets/controls",
      "_model_module_version": "1.5.0",
      "_model_name": "HBoxModel",
      "_view_count": null,
      "_view_module": "@jupyter-widgets/controls",
      "_view_module_version": "1.5.0",
      "_view_name": "HBoxView",
      "box_style": "",
      "children": [
       "IPY_MODEL_f4ac16112acb4d5e9a5fb5aa9628c73b",
       "IPY_MODEL_5506f45015bd41bb9913d8cd7f205057",
       "IPY_MODEL_3a2be7fae61240f29b93e99fe21311c9"
      ],
      "layout": "IPY_MODEL_47b9af1ce95a4ec0b4bead85a11ef58b"
     }
    },
    "c34f1d12d0f54cac86722780ad9616e6": {
     "model_module": "@jupyter-widgets/controls",
     "model_module_version": "1.5.0",
     "model_name": "ProgressStyleModel",
     "state": {
      "_model_module": "@jupyter-widgets/controls",
      "_model_module_version": "1.5.0",
      "_model_name": "ProgressStyleModel",
      "_view_count": null,
      "_view_module": "@jupyter-widgets/base",
      "_view_module_version": "1.2.0",
      "_view_name": "StyleView",
      "bar_color": null,
      "description_width": ""
     }
    },
    "cade9ab84d8e432a9b953544480ab879": {
     "model_module": "@jupyter-widgets/controls",
     "model_module_version": "1.5.0",
     "model_name": "ProgressStyleModel",
     "state": {
      "_model_module": "@jupyter-widgets/controls",
      "_model_module_version": "1.5.0",
      "_model_name": "ProgressStyleModel",
      "_view_count": null,
      "_view_module": "@jupyter-widgets/base",
      "_view_module_version": "1.2.0",
      "_view_name": "StyleView",
      "bar_color": null,
      "description_width": ""
     }
    },
    "cff73360a56b43749c03563db5b9bcbc": {
     "model_module": "@jupyter-widgets/base",
     "model_module_version": "1.2.0",
     "model_name": "LayoutModel",
     "state": {
      "_model_module": "@jupyter-widgets/base",
      "_model_module_version": "1.2.0",
      "_model_name": "LayoutModel",
      "_view_count": null,
      "_view_module": "@jupyter-widgets/base",
      "_view_module_version": "1.2.0",
      "_view_name": "LayoutView",
      "align_content": null,
      "align_items": null,
      "align_self": null,
      "border": null,
      "bottom": null,
      "display": null,
      "flex": null,
      "flex_flow": null,
      "grid_area": null,
      "grid_auto_columns": null,
      "grid_auto_flow": null,
      "grid_auto_rows": null,
      "grid_column": null,
      "grid_gap": null,
      "grid_row": null,
      "grid_template_areas": null,
      "grid_template_columns": null,
      "grid_template_rows": null,
      "height": null,
      "justify_content": null,
      "justify_items": null,
      "left": null,
      "margin": null,
      "max_height": null,
      "max_width": null,
      "min_height": null,
      "min_width": null,
      "object_fit": null,
      "object_position": null,
      "order": null,
      "overflow": null,
      "overflow_x": null,
      "overflow_y": null,
      "padding": null,
      "right": null,
      "top": null,
      "visibility": null,
      "width": null
     }
    },
    "d550e425e9f449799f18a2443f473d2a": {
     "model_module": "@jupyter-widgets/base",
     "model_module_version": "1.2.0",
     "model_name": "LayoutModel",
     "state": {
      "_model_module": "@jupyter-widgets/base",
      "_model_module_version": "1.2.0",
      "_model_name": "LayoutModel",
      "_view_count": null,
      "_view_module": "@jupyter-widgets/base",
      "_view_module_version": "1.2.0",
      "_view_name": "LayoutView",
      "align_content": null,
      "align_items": null,
      "align_self": null,
      "border": null,
      "bottom": null,
      "display": null,
      "flex": null,
      "flex_flow": null,
      "grid_area": null,
      "grid_auto_columns": null,
      "grid_auto_flow": null,
      "grid_auto_rows": null,
      "grid_column": null,
      "grid_gap": null,
      "grid_row": null,
      "grid_template_areas": null,
      "grid_template_columns": null,
      "grid_template_rows": null,
      "height": null,
      "justify_content": null,
      "justify_items": null,
      "left": null,
      "margin": null,
      "max_height": null,
      "max_width": null,
      "min_height": null,
      "min_width": null,
      "object_fit": null,
      "object_position": null,
      "order": null,
      "overflow": null,
      "overflow_x": null,
      "overflow_y": null,
      "padding": null,
      "right": null,
      "top": null,
      "visibility": null,
      "width": null
     }
    },
    "d99bb9b6dfd84425abb1a4d7ad9febca": {
     "model_module": "@jupyter-widgets/controls",
     "model_module_version": "1.5.0",
     "model_name": "HBoxModel",
     "state": {
      "_dom_classes": [],
      "_model_module": "@jupyter-widgets/controls",
      "_model_module_version": "1.5.0",
      "_model_name": "HBoxModel",
      "_view_count": null,
      "_view_module": "@jupyter-widgets/controls",
      "_view_module_version": "1.5.0",
      "_view_name": "HBoxView",
      "box_style": "",
      "children": [
       "IPY_MODEL_a9aa8984434345389f008a5bf245186f",
       "IPY_MODEL_400bcff22d4a4e7a90b66edf8c51bd7c",
       "IPY_MODEL_8cc2c26c6e764c4aa73494735a01a626"
      ],
      "layout": "IPY_MODEL_48b3568f911e4338ac8d67b0b15b8f8b"
     }
    },
    "dab48d384a07487fa635192278d5f072": {
     "model_module": "@jupyter-widgets/controls",
     "model_module_version": "1.5.0",
     "model_name": "ProgressStyleModel",
     "state": {
      "_model_module": "@jupyter-widgets/controls",
      "_model_module_version": "1.5.0",
      "_model_name": "ProgressStyleModel",
      "_view_count": null,
      "_view_module": "@jupyter-widgets/base",
      "_view_module_version": "1.2.0",
      "_view_name": "StyleView",
      "bar_color": null,
      "description_width": ""
     }
    },
    "e9f82ccbd02a43639d9f12a438ac5b0d": {
     "model_module": "@jupyter-widgets/controls",
     "model_module_version": "1.5.0",
     "model_name": "FloatProgressModel",
     "state": {
      "_dom_classes": [],
      "_model_module": "@jupyter-widgets/controls",
      "_model_module_version": "1.5.0",
      "_model_name": "FloatProgressModel",
      "_view_count": null,
      "_view_module": "@jupyter-widgets/controls",
      "_view_module_version": "1.5.0",
      "_view_name": "ProgressView",
      "bar_style": "success",
      "description": "",
      "description_tooltip": null,
      "layout": "IPY_MODEL_cff73360a56b43749c03563db5b9bcbc",
      "max": 383078110,
      "min": 0,
      "orientation": "horizontal",
      "style": "IPY_MODEL_cade9ab84d8e432a9b953544480ab879",
      "value": 383078110
     }
    },
    "f4ac16112acb4d5e9a5fb5aa9628c73b": {
     "model_module": "@jupyter-widgets/controls",
     "model_module_version": "1.5.0",
     "model_name": "HTMLModel",
     "state": {
      "_dom_classes": [],
      "_model_module": "@jupyter-widgets/controls",
      "_model_module_version": "1.5.0",
      "_model_name": "HTMLModel",
      "_view_count": null,
      "_view_module": "@jupyter-widgets/controls",
      "_view_module_version": "1.5.0",
      "_view_name": "HTMLView",
      "description": "",
      "description_tooltip": null,
      "layout": "IPY_MODEL_d550e425e9f449799f18a2443f473d2a",
      "placeholder": "​",
      "style": "IPY_MODEL_4e7d42e30b924806ba53eb151f74a3f6",
      "value": "DE...:   0%"
     }
    },
    "f8d66f0b05844d889c4ce1a8390f055b": {
     "model_module": "@jupyter-widgets/base",
     "model_module_version": "1.2.0",
     "model_name": "LayoutModel",
     "state": {
      "_model_module": "@jupyter-widgets/base",
      "_model_module_version": "1.2.0",
      "_model_name": "LayoutModel",
      "_view_count": null,
      "_view_module": "@jupyter-widgets/base",
      "_view_module_version": "1.2.0",
      "_view_name": "LayoutView",
      "align_content": null,
      "align_items": null,
      "align_self": null,
      "border": null,
      "bottom": null,
      "display": null,
      "flex": null,
      "flex_flow": null,
      "grid_area": null,
      "grid_auto_columns": null,
      "grid_auto_flow": null,
      "grid_auto_rows": null,
      "grid_column": null,
      "grid_gap": null,
      "grid_row": null,
      "grid_template_areas": null,
      "grid_template_columns": null,
      "grid_template_rows": null,
      "height": null,
      "justify_content": null,
      "justify_items": null,
      "left": null,
      "margin": null,
      "max_height": null,
      "max_width": null,
      "min_height": null,
      "min_width": null,
      "object_fit": null,
      "object_position": null,
      "order": null,
      "overflow": null,
      "overflow_x": null,
      "overflow_y": null,
      "padding": null,
      "right": null,
      "top": null,
      "visibility": null,
      "width": null
     }
    },
    "f9b2be5deffc4522b46fc0570a877d52": {
     "model_module": "@jupyter-widgets/controls",
     "model_module_version": "1.5.0",
     "model_name": "DescriptionStyleModel",
     "state": {
      "_model_module": "@jupyter-widgets/controls",
      "_model_module_version": "1.5.0",
      "_model_name": "DescriptionStyleModel",
      "_view_count": null,
      "_view_module": "@jupyter-widgets/base",
      "_view_module_version": "1.2.0",
      "_view_name": "StyleView",
      "description_width": ""
     }
    }
   }
  }
 },
 "nbformat": 4,
 "nbformat_minor": 4
}
