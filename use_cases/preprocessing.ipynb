{
  "cells": [
    {
      "cell_type": "markdown",
      "metadata": {
        "id": "O39GuDrheG96"
      },
      "source": [
        "# Preprocessing datasets for analysis with scvi-tools"
      ]
    },
    {
      "cell_type": "markdown",
      "metadata": {
        "id": "EmXEO1zjpbcr"
      },
      "source": [
        "In this tutorial, we go over several preprocessing techniques for different types of data used with scvi-tools models. Each section of this tutorial is independent from the other sections, and is relevant to other scvi-tools tutorials which use the same type of dataset. For example, the preprocessing techniques used in the scRNA-seq section of this tutorial are generally used in the scvi-tools scRNA-seq related tutorials. Relevant tutorials are linked in each section."
      ]
    },
    {
      "cell_type": "markdown",
      "metadata": {
        "id": "No7Pt-I5M0f9"
      },
      "source": [
        "## Dependencies"
      ]
    },
    {
      "cell_type": "markdown",
      "metadata": {
        "id": "ztZuAKuNxzUy"
      },
      "source": [
        "```{note}\n",
        "Running the following cell will install tutorial dependencies on Google Colab only. It will have no effect on environments other than Google Colab.\n",
        "```"
      ]
    },
    {
      "cell_type": "code",
      "execution_count": 1,
      "metadata": {
        "colab": {
          "base_uri": "https://localhost:8080/"
        },
        "id": "VHiq1wfav9bJ",
        "outputId": "a803a9a2-00d5-49a5-fbda-ad49291865e6"
      },
      "outputs": [
        {
          "output_type": "stream",
          "name": "stdout",
          "text": [
            "\u001b[34mINFO    \u001b[0m scvi-colab: Installing scvi-tools.                                                                        \n",
            "\u001b[34mINFO    \u001b[0m scvi-colab: Install successful. Testing import.                                                           \n"
          ]
        }
      ],
      "source": [
        "!pip install --quiet scvi-colab\n",
        "from scvi_colab import install\n",
        "\n",
        "install()"
      ]
    },
    {
      "cell_type": "markdown",
      "metadata": {
        "id": "flNUYc0TyB12"
      },
      "source": [
        "## Imports and preparing files"
      ]
    },
    {
      "cell_type": "code",
      "execution_count": 2,
      "metadata": {
        "id": "Etl4MlBjxPlD"
      },
      "outputs": [],
      "source": [
        "import gzip\n",
        "import os\n",
        "import tempfile\n",
        "from pathlib import Path\n",
        "\n",
        "import anndata as ad\n",
        "import mudata as md\n",
        "import muon\n",
        "import numpy as np\n",
        "import pooch\n",
        "import scanpy as sc\n",
        "import scipy.sparse as sp\n",
        "import scvi\n",
        "import seaborn as sns\n",
        "import torch"
      ]
    },
    {
      "cell_type": "code",
      "execution_count": 3,
      "metadata": {
        "colab": {
          "base_uri": "https://localhost:8080/"
        },
        "id": "ENvgwWqixm_V",
        "outputId": "e33f391b-7346-49bf-bc9e-bcbc7af7dc14"
      },
      "outputs": [
        {
          "output_type": "stream",
          "name": "stderr",
          "text": [
            "INFO: Seed set to 0\n",
            "INFO:lightning.fabric.utilities.seed:Seed set to 0\n"
          ]
        },
        {
          "output_type": "stream",
          "name": "stdout",
          "text": [
            "Last run with scvi-tools version: 1.3.1.post1\n"
          ]
        }
      ],
      "source": [
        "scvi.settings.seed = 0\n",
        "print(\"Last run with scvi-tools version:\", scvi.__version__)"
      ]
    },
    {
      "cell_type": "markdown",
      "metadata": {
        "id": "0LrlKo9iyLX9"
      },
      "source": [
        "```{note}\n",
        "You can modify `save_dir` below to change where the data files for this tutorial are saved.\n",
        "\n",
        "You can modify `file_name` below to the name of the dataset you would like to preprocess. This file will end with .h5ad or .h5 depending on which model you plan to use.\n",
        "```"
      ]
    },
    {
      "cell_type": "code",
      "execution_count": 4,
      "metadata": {
        "id": "NRliiPwQyFZg"
      },
      "outputs": [],
      "source": [
        "sc.set_figure_params(figsize=(6, 6), frameon=False)\n",
        "sns.set_theme()\n",
        "torch.set_float32_matmul_precision(\"high\")\n",
        "save_dir = tempfile.TemporaryDirectory()\n",
        "\n",
        "%config InlineBackend.print_figure_kwargs={\"facecolor\": \"w\"}\n",
        "%config InlineBackend.figure_format=\"retina\""
      ]
    },
    {
      "cell_type": "markdown",
      "metadata": {
        "id": "UOiaVe6UdDfP"
      },
      "source": [
        "## scRNA-seq"
      ]
    },
    {
      "cell_type": "markdown",
      "metadata": {
        "id": "gwxLFd5Nuexv"
      },
      "source": [
        "### Relevant scRNA-seq Tutorials:\n",
        "\n",
        "The following tutorial uses the exact preprocessed dataset that results from this section:\n",
        "\n",
        "[Atlas-level integration of lung data](https://docs.scvi-tools.org/en/stable/tutorials/notebooks/scrna/harmonization.html)\n",
        "\n",
        "The following tutorials may not use the exact dataset, but the preprocessing steps should be very similar to what is covered in this section:\n",
        "\n",
        "[MrVI Quick Start Tutorial](https://docs.scvi-tools.org/en/stable/tutorials/notebooks/scrna/MrVI_tutorial.html)\n",
        "\n",
        "[Differential expression on C. elegans data](https://docs.scvi-tools.org/en/stable/tutorials/notebooks/scrna/scVI_DE_worm.html)\n",
        "\n",
        "[Annotation with CellAssign](https://docs.scvi-tools.org/en/stable/tutorials/notebooks/scrna/cellassign_tutorial.html)\n",
        "\n",
        "[Linearly decoded VAE](https://docs.scvi-tools.org/en/stable/tutorials/notebooks/scrna/linear_decoder.html)\n",
        "\n",
        "[Isolating perturbation-induced variations with contrastiveVI](https://docs.scvi-tools.org/en/stable/tutorials/notebooks/scrna/contrastiveVI_tutorial.html)\n",
        "\n",
        "[Topic Modeling with Amortized LDA](https://docs.scvi-tools.org/en/stable/tutorials/notebooks/scrna/amortized_lda.html)\n",
        "\n",
        "[Identification of zero-inflated genes](https://docs.scvi-tools.org/en/stable/tutorials/notebooks/scrna/AutoZI_tutorial.html)\n",
        "\n",
        "[Integration of scRNA-seq data with substantial batch effects using sysVI](https://docs.scvi-tools.org/en/stable/tutorials/notebooks/scrna/sysVI.html)\n",
        "\n",
        "[Seed labeling with scANVI](https://docs.scvi-tools.org/en/stable/tutorials/notebooks/scrna/seed_labeling.html)\n",
        "\n",
        "[Benchmarking the scANVI fix](https://docs.scvi-tools.org/en/stable/tutorials/notebooks/scrna/scanvi_fix.html)\n",
        "\n",
        "[Integration and label transfer with Tabula Muris](https://docs.scvi-tools.org/en/stable/tutorials/notebooks/scrna/tabula_muris.html)\n",
        "\n",
        "[Reference mapping with scvi-tools](https://docs.scvi-tools.org/en/stable/tutorials/notebooks/scrna/scarches_scvi_tools.html)\n",
        "\n",
        "[Querying the Human Lung Cell Atlas](https://docs.scvi-tools.org/en/stable/tutorials/notebooks/scrna/query_hlca_knn.html)\n",
        "\n",
        "[Decipher Quick Start Tutorial](https://docs.scvi-tools.org/en/stable/tutorials/notebooks/scrna/decipher_tutorial.html)\n",
        "\n",
        "[Variational inference for RNA velocity with VeloVI](https://docs.scvi-tools.org/en/stable/tutorials/notebooks/scrna/velovi.html)\n"
      ]
    },
    {
      "cell_type": "markdown",
      "metadata": {
        "id": "_obK5ZUCui5V"
      },
      "source": [
        "### Preprocessing"
      ]
    },
    {
      "cell_type": "markdown",
      "metadata": {
        "id": "VKeYasOZj8Hg"
      },
      "source": [
        "Here we demonstrate preprocessing of an scRNA-seq dataset using cells from the lung atlas integration task from the [scIB manuscript](https://www.biorxiv.org/content/10.1101/2020.05.22.111161v2)."
      ]
    },
    {
      "cell_type": "code",
      "execution_count": 5,
      "metadata": {
        "colab": {
          "base_uri": "https://localhost:8080/",
          "height": 118,
          "referenced_widgets": [
            "fc0ae32423994e618c88ed74977eaefe",
            "014b975d107a4f0f869b5990e4a31582",
            "dee1b9c3716f4ae48acd51c2b718bec3",
            "397fe242fb6b402ca67ddf69726f3f36",
            "11edb6833a4442319254a56de3e345a5",
            "0a90c714c3984c898ee52a337c4a32f1",
            "21e54b34254849b0b0975890eb948f2f",
            "a1e07214f2174ac98e396ff34315497d",
            "527df8c7a990464081f731b91dc478f4",
            "c3cc410cc5e745b387e3f36f819847b4",
            "2ffb11969df7486e8e179a3d6dcd762b"
          ]
        },
        "id": "9ZAQVVWOPtRw",
        "outputId": "4bc7ebd6-899b-452d-b9d6-b5ec52665944"
      },
      "outputs": [
        {
          "output_type": "display_data",
          "data": {
            "text/plain": [
              "  0%|          | 0.00/972M [00:00<?, ?B/s]"
            ],
            "application/vnd.jupyter.widget-view+json": {
              "version_major": 2,
              "version_minor": 0,
              "model_id": "fc0ae32423994e618c88ed74977eaefe"
            }
          },
          "metadata": {}
        },
        {
          "output_type": "execute_result",
          "data": {
            "text/plain": [
              "AnnData object with n_obs × n_vars = 32472 × 15148\n",
              "    obs: 'dataset', 'location', 'nGene', 'nUMI', 'patientGroup', 'percent.mito', 'protocol', 'sanger_type', 'size_factors', 'sampling_method', 'batch', 'cell_type', 'donor'\n",
              "    layers: 'counts'"
            ]
          },
          "metadata": {},
          "execution_count": 5
        }
      ],
      "source": [
        "adata_path = os.path.join(save_dir.name, \"lung_atlas.h5ad\")\n",
        "\n",
        "adata = sc.read(\n",
        "    adata_path,\n",
        "    backup_url=\"https://figshare.com/ndownloader/files/24539942\",\n",
        ")\n",
        "adata"
      ]
    },
    {
      "cell_type": "markdown",
      "metadata": {
        "id": "UZmDC2fTQbuf"
      },
      "source": [
        "This dataset was already processed as described in the scIB manuscript. Generally, models in scvi-tools expect data that has been filtered/aggregated in the same fashion as one would do with Scanpy/Seurat.\n",
        "\n",
        "Another important thing to keep in mind is highly-variable gene selection. While scVI and scANVI both accomodate using all genes in terms of runtime, we usually recommend filtering genes for best integration performance. This will, among other things, remove batch-specific variation due to batch-specific gene expression.\n",
        "\n",
        "We perform this gene selection using the Scanpy pipeline while keeping the full dimension normalized data in the `adata.raw` object. We obtain variable genes from each dataset and take their intersections."
      ]
    },
    {
      "cell_type": "markdown",
      "metadata": {
        "id": "GAKuvzIYRN-R"
      },
      "source": [
        "This dataset already has counts stored in layers, and `adata.X` contains log transformed scran normalized expression. If this is not the case for your dataset, you can preserve the raw counts, then normalize and log transform them with\n",
        "```python\n",
        "adata.layers[\"counts\"] = adata.X.copy()\n",
        "sc.pp.normalize_total(adata, target_sum=1e4)\n",
        "sc.pp.log1p(adata)\n",
        "```"
      ]
    },
    {
      "cell_type": "markdown",
      "metadata": {
        "id": "5n0hWw5HSskb"
      },
      "source": [
        "Below we perform gene selection while keeping the full dimension normalized data in `adata.raw`. We obtain variable genes from each dataset and take their intersections."
      ]
    },
    {
      "cell_type": "code",
      "execution_count": 6,
      "metadata": {
        "colab": {
          "base_uri": "https://localhost:8080/"
        },
        "id": "dwwVLfXlk3U3",
        "outputId": "5b8e2be2-87c5-4c6f-f44b-8c4bb3008f0e"
      },
      "outputs": [
        {
          "output_type": "stream",
          "name": "stderr",
          "text": [
            "/usr/local/lib/python3.11/dist-packages/legacy_api_wrap/__init__.py:82: UserWarning: `flavor='seurat_v3'` expects raw count data, but non-integers were found.\n",
            "  return fn(*args_all, **kw)\n"
          ]
        }
      ],
      "source": [
        "adata.raw = adata  # keep full dimension safe\n",
        "sc.pp.highly_variable_genes(\n",
        "    adata,\n",
        "    n_top_genes=2000,\n",
        "    flavor=\"seurat_v3\",\n",
        "    layer=\"counts\",\n",
        "    subset=True,\n",
        "    batch_key=\"batch\",  # Change depending on the batch key for your dataset\n",
        ")"
      ]
    },
    {
      "cell_type": "markdown",
      "metadata": {
        "id": "68LPEzKrTFoE"
      },
      "source": [
        "```{important}\n",
        "We see a warning about the data not containing counts. This is due to some of the samples in this dataset containing SoupX-corrected counts. scvi-tools models will run for non-negative real-valued data, but we strongly suggest checking that these possibly non-count values are intended to represent pseudocounts, and not some other normalized data, in which the variance/covariance structure of the data has changed dramatically.\n",
        "```"
      ]
    },
    {
      "cell_type": "code",
      "execution_count": 7,
      "metadata": {
        "id": "TT4xFCsMreBf"
      },
      "outputs": [],
      "source": [
        "# Save preprocessed data for later use\n",
        "adata.write_h5ad(\"lung_atlas_preprocessed.h5ad\")"
      ]
    },
    {
      "cell_type": "markdown",
      "metadata": {
        "id": "LZLxxKsPOXQs"
      },
      "source": [
        "## scATAC-seq"
      ]
    },
    {
      "cell_type": "markdown",
      "metadata": {
        "id": "ocM2MBwesdGa"
      },
      "source": [
        "### Relevant scATAC-seq tutorials:\n",
        "\n",
        "The following tutorial uses the exact preprocessed dataset that results from this section:\n",
        "\n",
        "[PeakVI: Analyzing scATACseq data](https://docs.scvi-tools.org/en/stable/tutorials/notebooks/atac/PeakVI.html)\n",
        "\n",
        "The following tutorials may not use the exact dataset, but the preprocessing steps should be very similar to what is covered in this section:\n",
        "\n",
        "[PoissonVI: Analyzing quantitative scATAC-seq fragment counts](https://docs.scvi-tools.org/en/stable/tutorials/notebooks/atac/PoissonVI.html)\n",
        "\n",
        "[ScBasset: Analyzing scATACseq data](https://docs.scvi-tools.org/en/stable/tutorials/notebooks/atac/scbasset.html)\n",
        "\n",
        "[scBasset: Batch correction of scATACseq data](https://docs.scvi-tools.org/en/stable/tutorials/notebooks/atac/scbasset_batch.html)"
      ]
    },
    {
      "cell_type": "markdown",
      "metadata": {
        "id": "XAmBCtjpuDBr"
      },
      "source": [
        "### Preprocessing"
      ]
    },
    {
      "cell_type": "markdown",
      "metadata": {
        "id": "GS0flNfTtuPb"
      },
      "source": [
        "To demonstrate preprocessing of scATAC-seq data, we use a 5k PBMC sample dataset from 10X. We use the pooch package to download the data."
      ]
    },
    {
      "cell_type": "code",
      "execution_count": 8,
      "metadata": {
        "id": "XAfa7FzqFkjJ"
      },
      "outputs": [],
      "source": [
        "def download_data(save_path: str, fname: str = \"atac_pbmc_5k\") -> str:\n",
        "    \"\"\"Download the data files.\"\"\"\n",
        "    data_paths = pooch.retrieve(\n",
        "        url=\"https://cf.10xgenomics.com/samples/cell-atac/1.2.0/atac_pbmc_5k_nextgem/atac_pbmc_5k_nextgem_filtered_peak_bc_matrix.tar.gz\",\n",
        "        known_hash=\"78e536a1508108fa5bd3b411a7484809c011f3403800369b20db05bdbfeb2284\",\n",
        "        fname=fname,\n",
        "        path=save_path,\n",
        "        processor=pooch.Untar(),\n",
        "        progressbar=True,\n",
        "    )\n",
        "    return str(Path(data_paths[0]).parent)"
      ]
    },
    {
      "cell_type": "code",
      "execution_count": 9,
      "metadata": {
        "colab": {
          "base_uri": "https://localhost:8080/"
        },
        "id": "l93TdySMGafj",
        "outputId": "d3505d5a-95fb-4f4c-eef4-9fa227fe086a"
      },
      "outputs": [
        {
          "output_type": "stream",
          "name": "stderr",
          "text": [
            "Downloading data from 'https://cf.10xgenomics.com/samples/cell-atac/1.2.0/atac_pbmc_5k_nextgem/atac_pbmc_5k_nextgem_filtered_peak_bc_matrix.tar.gz' to file '/tmp/tmpd39gsg4g/atac_pbmc_5k'.\n",
            "100%|████████████████████████████████████████| 114M/114M [00:00<00:00, 109GB/s]\n",
            "Untarring contents of '/tmp/tmpd39gsg4g/atac_pbmc_5k' to '/tmp/tmpd39gsg4g/atac_pbmc_5k.untar'\n"
          ]
        }
      ],
      "source": [
        "data_path = download_data(save_dir.name)"
      ]
    },
    {
      "cell_type": "markdown",
      "metadata": {
        "id": "8yyza05qU7bQ"
      },
      "source": [
        "PeakVI expects as input an AnnData object with a cell-by-region matrix. There are various pipelines that handle preprocessing of scATACseq to obtain this matrix from the sequencing data. If the data was generated by 10X genomics, this matrix is among the standard outputs of CellRanger. Other pipelines, like [SnapATAC](https://github.com/r3fang/SnapATAC/) and [ArchR](https://www.archrproject.com/bookdown/add-peak-matrix.html), also generate similar matrices.\n",
        "\n",
        "In the case of 10X data, PeakVI has a special reader function `scvi.data.read_10x_atac` that reads the files and creates an AnnData object, demonstrated below. For conveniece, we also demonstrate how to initialize an AnnData object from scratch.\n",
        "\n",
        "Throughout this tutorial, we use [sample scATACseq data from 10X of 5K PBMCs](https://support.10xgenomics.com/single-cell-atac/datasets/1.2.0/atac_pbmc_5k_nextgem)."
      ]
    },
    {
      "cell_type": "code",
      "execution_count": 10,
      "metadata": {
        "colab": {
          "base_uri": "https://localhost:8080/"
        },
        "id": "OBqNhA5hIEfd",
        "outputId": "fb3e6957-7506-433c-96d8-10f20b96dafd"
      },
      "outputs": [
        {
          "output_type": "execute_result",
          "data": {
            "text/plain": [
              "AnnData object with n_obs × n_vars = 4585 × 115554\n",
              "    obs: 'batch_id'\n",
              "    var: 'chr', 'start', 'end'"
            ]
          },
          "metadata": {},
          "execution_count": 10
        }
      ],
      "source": [
        "adata = scvi.data.read_10x_atac(data_path)\n",
        "adata"
      ]
    },
    {
      "cell_type": "markdown",
      "metadata": {
        "id": "2HlkpBAyIKmj"
      },
      "source": [
        "We use Scanpy here to filter out peaks that are rarely detected, so that the model trains faster:"
      ]
    },
    {
      "cell_type": "code",
      "execution_count": 11,
      "metadata": {
        "colab": {
          "base_uri": "https://localhost:8080/"
        },
        "id": "Gzx81hjmH9jz",
        "outputId": "85158b44-c79c-4e3d-f87f-7d6eff9f0ca0"
      },
      "outputs": [
        {
          "output_type": "stream",
          "name": "stdout",
          "text": [
            "# regions before filtering: 115554\n",
            "# regions after filtering: 33142\n"
          ]
        }
      ],
      "source": [
        "print(\"# regions before filtering:\", adata.shape[-1])\n",
        "\n",
        "# compute the threshold: 5% of the cells\n",
        "min_cells = int(adata.shape[0] * 0.05)\n",
        "# in-place filtering of regions\n",
        "sc.pp.filter_genes(adata, min_cells=min_cells)\n",
        "\n",
        "print(\"# regions after filtering:\", adata.shape[-1])"
      ]
    },
    {
      "cell_type": "code",
      "execution_count": 12,
      "metadata": {
        "id": "3LsXmQKqsl8-"
      },
      "outputs": [],
      "source": [
        "adata.write_h5ad(\"atac_pbmc_5k_preprocessed.h5ad\")"
      ]
    },
    {
      "cell_type": "markdown",
      "metadata": {
        "id": "OPybqBG3OH3g"
      },
      "source": [
        "## CITE-seq"
      ]
    },
    {
      "cell_type": "markdown",
      "metadata": {
        "id": "LPznbj0rwOf9"
      },
      "source": [
        "### Relevant CITE-seq Tutorials\n",
        "\n",
        "The following tutorial uses the exact preprocessed dataset that results from this section:\n",
        "\n",
        "[CITE-seq analysis with totalVI](https://docs.scvi-tools.org/en/stable/tutorials/notebooks/multimodal/totalVI.html)\n",
        "\n",
        "The following tutorials may not use the exact dataset, but the preprocessing steps should be very similar to what is covered in this section:\n",
        "\n",
        "[CITE-seq reference mapping with totalVI](https://docs.scvi-tools.org/en/stable/tutorials/notebooks/multimodal/totalVI_reference_mapping.html)\n",
        "\n",
        "[Integration of CITE-seq and scRNA-seq data](https://docs.scvi-tools.org/en/stable/tutorials/notebooks/multimodal/cite_scrna_integration_w_totalVI.html)"
      ]
    },
    {
      "cell_type": "markdown",
      "metadata": {
        "id": "dfrYTmqXwOwy"
      },
      "source": [
        "### Preprocessing"
      ]
    },
    {
      "cell_type": "markdown",
      "metadata": {
        "id": "Z_RIYYaOSeBX"
      },
      "source": [
        "Here we demonstrate preprocessing of CITE-seq data on integrated PBMC10k and PBMC5k datasets available from 10X Genomics. We will subset to the 17 proteins shared between the datasets."
      ]
    },
    {
      "cell_type": "code",
      "execution_count": 13,
      "metadata": {
        "id": "zgVEWlxcWhjN"
      },
      "outputs": [],
      "source": [
        "def download_data(save_path: str, fname: str = \"CITE-seq_pbmc_10k\") -> str:\n",
        "    \"\"\"Download the data files.\"\"\"\n",
        "    if fname == \"CITE-seq_pbmc_10k\":\n",
        "        hash = \"md5:26d53ffe08b5f7d3b28df61b592d51fb\"\n",
        "        url = \"https://cf.10xgenomics.com/samples/cell-exp/3.0.0/pbmc_10k_protein_v3/pbmc_10k_protein_v3_filtered_feature_bc_matrix.tar.gz\"\n",
        "    else:\n",
        "        hash = \"md5:9be3d672b0445b944ca06a507c3d780b\"\n",
        "        url = \"https://cf.10xgenomics.com/samples/cell-exp/3.1.0/5k_pbmc_protein_v3/5k_pbmc_protein_v3_filtered_feature_bc_matrix.tar.gz\"\n",
        "\n",
        "    data_paths = pooch.retrieve(\n",
        "        url=url,\n",
        "        known_hash=hash,\n",
        "        fname=fname,\n",
        "        path=save_path,\n",
        "        processor=pooch.Untar(),\n",
        "        progressbar=True,\n",
        "    )\n",
        "    return str(Path(data_paths[0]).parent)"
      ]
    },
    {
      "cell_type": "code",
      "execution_count": 14,
      "metadata": {
        "colab": {
          "base_uri": "https://localhost:8080/"
        },
        "id": "Z9ACDUxgW1hD",
        "outputId": "c62eb5c6-2a18-4e58-beec-b494e6e36fb4"
      },
      "outputs": [
        {
          "output_type": "stream",
          "name": "stderr",
          "text": [
            "Downloading data from 'https://cf.10xgenomics.com/samples/cell-exp/3.0.0/pbmc_10k_protein_v3/pbmc_10k_protein_v3_filtered_feature_bc_matrix.tar.gz' to file '/tmp/tmpd39gsg4g/CITE-seq_pbmc_10k'.\n",
            "100%|█████████████████████████████████████| 48.7M/48.7M [00:00<00:00, 49.3GB/s]\n",
            "Untarring contents of '/tmp/tmpd39gsg4g/CITE-seq_pbmc_10k' to '/tmp/tmpd39gsg4g/CITE-seq_pbmc_10k.untar'\n",
            "Downloading data from 'https://cf.10xgenomics.com/samples/cell-exp/3.1.0/5k_pbmc_protein_v3/5k_pbmc_protein_v3_filtered_feature_bc_matrix.tar.gz' to file '/tmp/tmpd39gsg4g/CITE-seq_pbmc_5k'.\n",
            "100%|█████████████████████████████████████| 36.2M/36.2M [00:00<00:00, 12.3GB/s]\n",
            "Untarring contents of '/tmp/tmpd39gsg4g/CITE-seq_pbmc_5k' to '/tmp/tmpd39gsg4g/CITE-seq_pbmc_5k.untar'\n"
          ]
        }
      ],
      "source": [
        "data_path1 = download_data(save_dir.name)\n",
        "data_path2 = download_data(save_dir.name, \"CITE-seq_pbmc_5k\")"
      ]
    },
    {
      "cell_type": "code",
      "execution_count": 15,
      "metadata": {
        "colab": {
          "base_uri": "https://localhost:8080/"
        },
        "id": "oknql592yPJg",
        "outputId": "7a02a2bf-ab9b-4056-c58d-c29c817b543c"
      },
      "outputs": [
        {
          "output_type": "stream",
          "name": "stderr",
          "text": [
            "/usr/local/lib/python3.11/dist-packages/mudata/_core/mudata.py:1598: FutureWarning: From 0.4 .update() will not pull obs/var columns from individual modalities by default anymore. Set mudata.set_options(pull_on_update=False) to adopt the new behaviour, which will become the default. Use new pull_obs/pull_var and push_obs/push_var methods for more flexibility.\n",
            "  self._update_attr(\"var\", axis=0, join_common=join_common)\n",
            "/usr/local/lib/python3.11/dist-packages/mudata/_core/mudata.py:1461: FutureWarning: From 0.4 .update() will not pull obs/var columns from individual modalities by default anymore. Set mudata.set_options(pull_on_update=False) to adopt the new behaviour, which will become the default. Use new pull_obs/pull_var and push_obs/push_var methods for more flexibility.\n",
            "  self._update_attr(\"obs\", axis=1, join_common=join_common)\n",
            "/usr/local/lib/python3.11/dist-packages/mudata/_core/mudata.py:1598: FutureWarning: From 0.4 .update() will not pull obs/var columns from individual modalities by default anymore. Set mudata.set_options(pull_on_update=False) to adopt the new behaviour, which will become the default. Use new pull_obs/pull_var and push_obs/push_var methods for more flexibility.\n",
            "  self._update_attr(\"var\", axis=0, join_common=join_common)\n",
            "/usr/local/lib/python3.11/dist-packages/mudata/_core/mudata.py:1461: FutureWarning: From 0.4 .update() will not pull obs/var columns from individual modalities by default anymore. Set mudata.set_options(pull_on_update=False) to adopt the new behaviour, which will become the default. Use new pull_obs/pull_var and push_obs/push_var methods for more flexibility.\n",
            "  self._update_attr(\"obs\", axis=1, join_common=join_common)\n"
          ]
        }
      ],
      "source": [
        "mdata1 = muon.read_10x_mtx(data_path1)\n",
        "mdata2 = muon.read_10x_mtx(data_path2)"
      ]
    },
    {
      "cell_type": "code",
      "execution_count": 16,
      "metadata": {
        "colab": {
          "base_uri": "https://localhost:8080/",
          "height": 139
        },
        "id": "F-5BAQ6GX2nL",
        "outputId": "09512ee3-fdf7-4e35-f75a-0bd2e306d9ea"
      },
      "outputs": [
        {
          "output_type": "execute_result",
          "data": {
            "text/plain": [
              "MuData object with n_obs × n_vars = 7865 × 33555\n",
              "  var:\t'gene_ids', 'feature_types'\n",
              "  2 modalities\n",
              "    rna:\t7865 x 33538\n",
              "      var:\t'gene_ids', 'feature_types'\n",
              "    prot:\t7865 x 17\n",
              "      var:\t'gene_ids', 'feature_types'"
            ],
            "text/html": [
              "<pre>MuData object with n_obs × n_vars = 7865 × 33555\n",
              "  var:\t&#x27;gene_ids&#x27;, &#x27;feature_types&#x27;\n",
              "  2 modalities\n",
              "    rna:\t7865 x 33538\n",
              "      var:\t&#x27;gene_ids&#x27;, &#x27;feature_types&#x27;\n",
              "    prot:\t7865 x 17\n",
              "      var:\t&#x27;gene_ids&#x27;, &#x27;feature_types&#x27;</pre>"
            ]
          },
          "metadata": {},
          "execution_count": 16
        }
      ],
      "source": [
        "mdata1"
      ]
    },
    {
      "cell_type": "code",
      "execution_count": 17,
      "metadata": {
        "colab": {
          "base_uri": "https://localhost:8080/",
          "height": 139
        },
        "id": "auHdoX_0Njr2",
        "outputId": "d2ae9822-94e4-46e4-f046-016d01568456"
      },
      "outputs": [
        {
          "output_type": "execute_result",
          "data": {
            "text/plain": [
              "MuData object with n_obs × n_vars = 5247 × 33570\n",
              "  var:\t'gene_ids', 'feature_types'\n",
              "  2 modalities\n",
              "    rna:\t5247 x 33538\n",
              "      var:\t'gene_ids', 'feature_types'\n",
              "    prot:\t5247 x 32\n",
              "      var:\t'gene_ids', 'feature_types'"
            ],
            "text/html": [
              "<pre>MuData object with n_obs × n_vars = 5247 × 33570\n",
              "  var:\t&#x27;gene_ids&#x27;, &#x27;feature_types&#x27;\n",
              "  2 modalities\n",
              "    rna:\t5247 x 33538\n",
              "      var:\t&#x27;gene_ids&#x27;, &#x27;feature_types&#x27;\n",
              "    prot:\t5247 x 32\n",
              "      var:\t&#x27;gene_ids&#x27;, &#x27;feature_types&#x27;</pre>"
            ]
          },
          "metadata": {},
          "execution_count": 17
        }
      ],
      "source": [
        "mdata2"
      ]
    },
    {
      "cell_type": "markdown",
      "metadata": {
        "id": "bignZn2Rb2hT"
      },
      "source": [
        "We make var names unique, store raw counts in layers, and normalize and log transform counts. Then we perform gene selection."
      ]
    },
    {
      "cell_type": "code",
      "execution_count": 19,
      "metadata": {
        "id": "HZjNb79sNr7G"
      },
      "outputs": [],
      "source": [
        "def filter_pbmc(mdata):\n",
        "    mdata.mod[\"rna\"].var_names_make_unique()\n",
        "    mdata.mod[\"rna\"].layers[\"counts\"] = mdata.mod[\"rna\"].X.copy()\n",
        "    sc.pp.normalize_total(mdata.mod[\"rna\"])\n",
        "    sc.pp.log1p(mdata.mod[\"rna\"])\n",
        "\n",
        "    sc.pp.highly_variable_genes(\n",
        "        mdata.mod[\"rna\"],\n",
        "        n_top_genes=4000,\n",
        "        flavor=\"seurat_v3\",\n",
        "        layer=\"counts\",\n",
        "    )\n",
        "    # Place subsetted counts in a new modality\n",
        "    mdata.mod[\"rna_subset\"] = mdata.mod[\"rna\"][:, mdata.mod[\"rna\"].var[\"highly_variable\"]].copy()\n",
        "    mdata = md.MuData(mdata.mod)\n",
        "\n",
        "    return mdata"
      ]
    },
    {
      "cell_type": "code",
      "execution_count": 20,
      "metadata": {
        "colab": {
          "base_uri": "https://localhost:8080/"
        },
        "id": "CuGqbeOCNupL",
        "outputId": "777f0cab-5f0e-47e5-e382-6b270ba7b1b1"
      },
      "outputs": [
        {
          "output_type": "stream",
          "name": "stderr",
          "text": [
            "/usr/local/lib/python3.11/dist-packages/mudata/_core/mudata.py:1598: FutureWarning: From 0.4 .update() will not pull obs/var columns from individual modalities by default anymore. Set mudata.set_options(pull_on_update=False) to adopt the new behaviour, which will become the default. Use new pull_obs/pull_var and push_obs/push_var methods for more flexibility.\n",
            "  self._update_attr(\"var\", axis=0, join_common=join_common)\n",
            "/usr/local/lib/python3.11/dist-packages/mudata/_core/mudata.py:963: UserWarning: Cannot join columns with the same name because var_names are intersecting.\n",
            "  warnings.warn(\n",
            "/usr/local/lib/python3.11/dist-packages/mudata/_core/mudata.py:1461: FutureWarning: From 0.4 .update() will not pull obs/var columns from individual modalities by default anymore. Set mudata.set_options(pull_on_update=False) to adopt the new behaviour, which will become the default. Use new pull_obs/pull_var and push_obs/push_var methods for more flexibility.\n",
            "  self._update_attr(\"obs\", axis=1, join_common=join_common)\n",
            "/usr/local/lib/python3.11/dist-packages/mudata/_core/mudata.py:1598: FutureWarning: From 0.4 .update() will not pull obs/var columns from individual modalities by default anymore. Set mudata.set_options(pull_on_update=False) to adopt the new behaviour, which will become the default. Use new pull_obs/pull_var and push_obs/push_var methods for more flexibility.\n",
            "  self._update_attr(\"var\", axis=0, join_common=join_common)\n",
            "/usr/local/lib/python3.11/dist-packages/mudata/_core/mudata.py:963: UserWarning: Cannot join columns with the same name because var_names are intersecting.\n",
            "  warnings.warn(\n",
            "/usr/local/lib/python3.11/dist-packages/mudata/_core/mudata.py:1461: FutureWarning: From 0.4 .update() will not pull obs/var columns from individual modalities by default anymore. Set mudata.set_options(pull_on_update=False) to adopt the new behaviour, which will become the default. Use new pull_obs/pull_var and push_obs/push_var methods for more flexibility.\n",
            "  self._update_attr(\"obs\", axis=1, join_common=join_common)\n"
          ]
        }
      ],
      "source": [
        "mdata1 = filter_pbmc(mdata1)\n",
        "mdata2 = filter_pbmc(mdata2)"
      ]
    },
    {
      "cell_type": "code",
      "execution_count": 22,
      "metadata": {
        "colab": {
          "base_uri": "https://localhost:8080/"
        },
        "id": "hr7ud0CnM8LX",
        "outputId": "c92b01c0-92ce-4d2d-c965-ede5dd1cd886"
      },
      "outputs": [
        {
          "output_type": "stream",
          "name": "stderr",
          "text": [
            "/usr/local/lib/python3.11/dist-packages/anndata/_core/anndata.py:1756: UserWarning: Observation names are not unique. To make them unique, call `.obs_names_make_unique`.\n",
            "  utils.warn_names_duplicates(\"obs\")\n",
            "/usr/local/lib/python3.11/dist-packages/anndata/_core/anndata.py:1756: UserWarning: Observation names are not unique. To make them unique, call `.obs_names_make_unique`.\n",
            "  utils.warn_names_duplicates(\"obs\")\n",
            "/usr/local/lib/python3.11/dist-packages/mudata/_core/mudata.py:1598: FutureWarning: From 0.4 .update() will not pull obs/var columns from individual modalities by default anymore. Set mudata.set_options(pull_on_update=False) to adopt the new behaviour, which will become the default. Use new pull_obs/pull_var and push_obs/push_var methods for more flexibility.\n",
            "  self._update_attr(\"var\", axis=0, join_common=join_common)\n",
            "/usr/local/lib/python3.11/dist-packages/mudata/_core/mudata.py:1461: FutureWarning: From 0.4 .update() will not pull obs/var columns from individual modalities by default anymore. Set mudata.set_options(pull_on_update=False) to adopt the new behaviour, which will become the default. Use new pull_obs/pull_var and push_obs/push_var methods for more flexibility.\n",
            "  self._update_attr(\"obs\", axis=1, join_common=join_common)\n"
          ]
        }
      ],
      "source": [
        "# First filter to shared proteins and genes by doing inner join\n",
        "rna_c = ad.concat([mdata1.mod[\"rna_subset\"], mdata2.mod[\"rna_subset\"]])\n",
        "rna_c.obs_names_make_unique()\n",
        "\n",
        "prot_c = ad.concat([mdata1.mod[\"prot\"], mdata2.mod[\"prot\"]])\n",
        "prot_c.obs_names_make_unique()\n",
        "\n",
        "mdata = md.MuData({\"rna_subset\": rna_c, \"prot\": prot_c})"
      ]
    },
    {
      "cell_type": "code",
      "execution_count": 25,
      "metadata": {
        "colab": {
          "base_uri": "https://localhost:8080/",
          "height": 104
        },
        "id": "IH7Cd4bW_Dxu",
        "outputId": "faac952d-f6ae-4452-a072-53c8c7531346"
      },
      "outputs": [
        {
          "output_type": "execute_result",
          "data": {
            "text/plain": [
              "MuData object with n_obs × n_vars = 13112 × 2193\n",
              "  2 modalities\n",
              "    rna_subset:\t13112 x 2176\n",
              "      layers:\t'counts'\n",
              "    prot:\t13112 x 17"
            ],
            "text/html": [
              "<pre>MuData object with n_obs × n_vars = 13112 × 2193\n",
              "  2 modalities\n",
              "    rna_subset:\t13112 x 2176\n",
              "      layers:\t&#x27;counts&#x27;\n",
              "    prot:\t13112 x 17</pre>"
            ]
          },
          "metadata": {},
          "execution_count": 25
        }
      ],
      "source": [
        "mdata"
      ]
    },
    {
      "cell_type": "code",
      "execution_count": 26,
      "metadata": {
        "colab": {
          "base_uri": "https://localhost:8080/"
        },
        "id": "fi51CFUJtWtk",
        "outputId": "b3872535-6ac4-4892-dfe7-800c7124b870"
      },
      "outputs": [
        {
          "output_type": "stream",
          "name": "stderr",
          "text": [
            "/usr/local/lib/python3.11/dist-packages/mudata/_core/mudata.py:1598: FutureWarning: From 0.4 .update() will not pull obs/var columns from individual modalities by default anymore. Set mudata.set_options(pull_on_update=False) to adopt the new behaviour, which will become the default. Use new pull_obs/pull_var and push_obs/push_var methods for more flexibility.\n",
            "  self._update_attr(\"var\", axis=0, join_common=join_common)\n",
            "/usr/local/lib/python3.11/dist-packages/mudata/_core/mudata.py:1461: FutureWarning: From 0.4 .update() will not pull obs/var columns from individual modalities by default anymore. Set mudata.set_options(pull_on_update=False) to adopt the new behaviour, which will become the default. Use new pull_obs/pull_var and push_obs/push_var methods for more flexibility.\n",
            "  self._update_attr(\"obs\", axis=1, join_common=join_common)\n"
          ]
        }
      ],
      "source": [
        "mdata.write(\"CITE-seq_pbmc_combined_preprocessed.h5mu\")"
      ]
    },
    {
      "cell_type": "markdown",
      "metadata": {
        "id": "xLLFdtiP1DVf"
      },
      "source": [
        "## Multiome"
      ]
    },
    {
      "cell_type": "markdown",
      "metadata": {
        "id": "aEVquVVbyH7D"
      },
      "source": [
        "### Relevant Multiome Tutorials\n",
        "\n",
        "The following tutorial uses the exact preprocessed dataset that results from this section:\n",
        "\n",
        "[Joint analysis of paired and unpaired multiomic data with MultiVI](https://docs.scvi-tools.org/en/stable/tutorials/notebooks/multimodal/MultiVI_tutorial.html)"
      ]
    },
    {
      "cell_type": "markdown",
      "metadata": {
        "id": "g10-sn2RyILh"
      },
      "source": [
        "### Preprocessing"
      ]
    },
    {
      "cell_type": "markdown",
      "metadata": {
        "id": "asEGzrNelIf4"
      },
      "source": [
        "First we download a sample multiome dataset from 10X to use in this section of the tutorial.\n",
        "Importantly, MultiVI assumes that there are shared features between the datasets. This is trivial for gene expression datasets, which generally use the same set of genes as features. For ATAC-seq peaks, this is less trivial, and often requires preprocessing steps with other tools to get all datasets to use a shared set of peaks. That can be achieved with tools like SnapATAC, ArchR, and CellRanger in the case of 10X data."
      ]
    },
    {
      "cell_type": "markdown",
      "metadata": {
        "id": "HmNRL8Xa1vXs"
      },
      "source": [
        "```{important}\n",
        "MultiVI requires the datasets to use shared features. scATAC-seq datasets need to be processed to use a shared set of peaks.\n",
        "```"
      ]
    },
    {
      "cell_type": "markdown",
      "metadata": {
        "id": "Ji-OKeFC2Z8S"
      },
      "source": [
        "Here we use a 10k PBMCs dataset from 10X to demonstrate preprocessing for multiome datasets."
      ]
    },
    {
      "cell_type": "code",
      "execution_count": 27,
      "metadata": {
        "id": "cneBdKNd1RWv"
      },
      "outputs": [],
      "source": [
        "def download_data(save_path: str, fname: str = \"pbmc_10k\"):\n",
        "    data_paths = pooch.retrieve(\n",
        "        url=\"https://cf.10xgenomics.com/samples/cell-arc/2.0.0/pbmc_unsorted_10k/pbmc_unsorted_10k_filtered_feature_bc_matrix.tar.gz\",\n",
        "        known_hash=\"872b0dba467d972aa498812a857677ca7cf69050d4f9762b2cd4753b2be694a1\",\n",
        "        fname=fname,\n",
        "        path=save_path,\n",
        "        processor=pooch.Untar(),\n",
        "        progressbar=True,\n",
        "    )\n",
        "    data_paths.sort()\n",
        "\n",
        "    for path in data_paths:\n",
        "        with gzip.open(path, \"rb\") as f_in:\n",
        "            with open(path.replace(\".gz\", \"\"), \"wb\") as f_out:\n",
        "                f_out.write(f_in.read())\n",
        "\n",
        "    return str(Path(data_paths[0]).parent)"
      ]
    },
    {
      "cell_type": "code",
      "execution_count": 28,
      "metadata": {
        "colab": {
          "base_uri": "https://localhost:8080/"
        },
        "id": "kVGT23H219Sc",
        "outputId": "f2b2ca4a-fb62-4e40-97b8-ab921e5fbd22"
      },
      "outputs": [
        {
          "output_type": "stream",
          "name": "stderr",
          "text": [
            "Downloading data from 'https://cf.10xgenomics.com/samples/cell-arc/2.0.0/pbmc_unsorted_10k/pbmc_unsorted_10k_filtered_feature_bc_matrix.tar.gz' to file '/tmp/tmpd39gsg4g/pbmc_10k'.\n",
            "100%|████████████████████████████████████████| 375M/375M [00:00<00:00, 374GB/s]\n",
            "Untarring contents of '/tmp/tmpd39gsg4g/pbmc_10k' to '/tmp/tmpd39gsg4g/pbmc_10k.untar'\n"
          ]
        }
      ],
      "source": [
        "data_path = download_data(save_dir.name)"
      ]
    },
    {
      "cell_type": "markdown",
      "metadata": {
        "id": "-VEUCbnfC2Gw"
      },
      "source": [
        "Next we read the data into a Mudata object, make feature names unique, and then filter features."
      ]
    },
    {
      "cell_type": "code",
      "execution_count": 29,
      "metadata": {
        "colab": {
          "base_uri": "https://localhost:8080/"
        },
        "id": "Kh5QY0a46DcY",
        "outputId": "5a5ffadd-2f90-4b5a-ad02-da9022698683"
      },
      "outputs": [
        {
          "output_type": "stream",
          "name": "stderr",
          "text": [
            "/usr/local/lib/python3.11/dist-packages/mudata/_core/mudata.py:1598: FutureWarning: From 0.4 .update() will not pull obs/var columns from individual modalities by default anymore. Set mudata.set_options(pull_on_update=False) to adopt the new behaviour, which will become the default. Use new pull_obs/pull_var and push_obs/push_var methods for more flexibility.\n",
            "  self._update_attr(\"var\", axis=0, join_common=join_common)\n",
            "/usr/local/lib/python3.11/dist-packages/mudata/_core/mudata.py:1461: FutureWarning: From 0.4 .update() will not pull obs/var columns from individual modalities by default anymore. Set mudata.set_options(pull_on_update=False) to adopt the new behaviour, which will become the default. Use new pull_obs/pull_var and push_obs/push_var methods for more flexibility.\n",
            "  self._update_attr(\"obs\", axis=1, join_common=join_common)\n"
          ]
        }
      ],
      "source": [
        "mdata = muon.read_10x_mtx(data_path, extended=True)"
      ]
    },
    {
      "cell_type": "code",
      "execution_count": 30,
      "metadata": {
        "id": "-Pf1qSq76Dtl"
      },
      "outputs": [],
      "source": [
        "for mod in mdata.mod:\n",
        "    mdata.mod[mod].var_names_make_unique()"
      ]
    },
    {
      "cell_type": "code",
      "execution_count": 31,
      "metadata": {
        "id": "4cKlLy5fgmVW"
      },
      "outputs": [],
      "source": [
        "sc.pp.highly_variable_genes(\n",
        "    mdata.mod[\"rna\"],\n",
        "    n_top_genes=4000,\n",
        "    flavor=\"seurat_v3\",\n",
        ")"
      ]
    },
    {
      "cell_type": "code",
      "execution_count": 32,
      "metadata": {
        "id": "xc8TojeqhQbW"
      },
      "outputs": [],
      "source": [
        "mdata.mod[\"rna_subset\"] = mdata.mod[\"rna\"][:, mdata.mod[\"rna\"].var[\"highly_variable\"]].copy()"
      ]
    },
    {
      "cell_type": "code",
      "execution_count": 33,
      "metadata": {
        "id": "hSBEmT2phVoJ"
      },
      "outputs": [],
      "source": [
        "sc.pp.highly_variable_genes(\n",
        "    mdata.mod[\"atac\"],\n",
        "    n_top_genes=4000,\n",
        "    flavor=\"seurat_v3\",\n",
        ")"
      ]
    },
    {
      "cell_type": "code",
      "execution_count": 34,
      "metadata": {
        "colab": {
          "base_uri": "https://localhost:8080/"
        },
        "id": "JYfocGHRhYSK",
        "outputId": "d0353535-0b82-478a-edae-2bd7eb60af51"
      },
      "outputs": [
        {
          "output_type": "stream",
          "name": "stderr",
          "text": [
            "/usr/local/lib/python3.11/dist-packages/mudata/_core/mudata.py:1598: FutureWarning: From 0.4 .update() will not pull obs/var columns from individual modalities by default anymore. Set mudata.set_options(pull_on_update=False) to adopt the new behaviour, which will become the default. Use new pull_obs/pull_var and push_obs/push_var methods for more flexibility.\n",
            "  self._update_attr(\"var\", axis=0, join_common=join_common)\n",
            "/usr/local/lib/python3.11/dist-packages/mudata/_core/mudata.py:963: UserWarning: Cannot join columns with the same name because var_names are intersecting.\n",
            "  warnings.warn(\n",
            "/usr/local/lib/python3.11/dist-packages/mudata/_core/mudata.py:1461: FutureWarning: From 0.4 .update() will not pull obs/var columns from individual modalities by default anymore. Set mudata.set_options(pull_on_update=False) to adopt the new behaviour, which will become the default. Use new pull_obs/pull_var and push_obs/push_var methods for more flexibility.\n",
            "  self._update_attr(\"obs\", axis=1, join_common=join_common)\n"
          ]
        }
      ],
      "source": [
        "mdata.mod[\"atac_subset\"] = mdata.mod[\"atac\"][:, mdata.mod[\"atac\"].var[\"highly_variable\"]].copy()\n",
        "mdata.update()"
      ]
    },
    {
      "cell_type": "code",
      "execution_count": 35,
      "metadata": {
        "colab": {
          "base_uri": "https://localhost:8080/",
          "height": 297
        },
        "id": "IgyHLl-8hi-g",
        "outputId": "8f9673c5-3cd3-4d62-e2cf-2056ebd5854d"
      },
      "outputs": [
        {
          "output_type": "execute_result",
          "data": {
            "text/plain": [
              "MuData object with n_obs × n_vars = 12012 × 156458\n",
              "  var:\t'gene_ids', 'feature_types'\n",
              "  4 modalities\n",
              "    rna:\t12012 x 36601\n",
              "      var:\t'gene_ids', 'feature_types', 'highly_variable', 'highly_variable_rank', 'means', 'variances', 'variances_norm'\n",
              "      uns:\t'hvg'\n",
              "    atac:\t12012 x 111857\n",
              "      var:\t'gene_ids', 'feature_types', 'highly_variable', 'highly_variable_rank', 'means', 'variances', 'variances_norm'\n",
              "      uns:\t'hvg'\n",
              "    rna_subset:\t12012 x 4000\n",
              "      var:\t'gene_ids', 'feature_types', 'highly_variable', 'highly_variable_rank', 'means', 'variances', 'variances_norm'\n",
              "      uns:\t'hvg'\n",
              "    atac_subset:\t12012 x 4000\n",
              "      var:\t'gene_ids', 'feature_types', 'highly_variable', 'highly_variable_rank', 'means', 'variances', 'variances_norm'\n",
              "      uns:\t'hvg'"
            ],
            "text/html": [
              "<pre>MuData object with n_obs × n_vars = 12012 × 156458\n",
              "  var:\t&#x27;gene_ids&#x27;, &#x27;feature_types&#x27;\n",
              "  4 modalities\n",
              "    rna:\t12012 x 36601\n",
              "      var:\t&#x27;gene_ids&#x27;, &#x27;feature_types&#x27;, &#x27;highly_variable&#x27;, &#x27;highly_variable_rank&#x27;, &#x27;means&#x27;, &#x27;variances&#x27;, &#x27;variances_norm&#x27;\n",
              "      uns:\t&#x27;hvg&#x27;\n",
              "    atac:\t12012 x 111857\n",
              "      var:\t&#x27;gene_ids&#x27;, &#x27;feature_types&#x27;, &#x27;highly_variable&#x27;, &#x27;highly_variable_rank&#x27;, &#x27;means&#x27;, &#x27;variances&#x27;, &#x27;variances_norm&#x27;\n",
              "      uns:\t&#x27;hvg&#x27;\n",
              "    rna_subset:\t12012 x 4000\n",
              "      var:\t&#x27;gene_ids&#x27;, &#x27;feature_types&#x27;, &#x27;highly_variable&#x27;, &#x27;highly_variable_rank&#x27;, &#x27;means&#x27;, &#x27;variances&#x27;, &#x27;variances_norm&#x27;\n",
              "      uns:\t&#x27;hvg&#x27;\n",
              "    atac_subset:\t12012 x 4000\n",
              "      var:\t&#x27;gene_ids&#x27;, &#x27;feature_types&#x27;, &#x27;highly_variable&#x27;, &#x27;highly_variable_rank&#x27;, &#x27;means&#x27;, &#x27;variances&#x27;, &#x27;variances_norm&#x27;\n",
              "      uns:\t&#x27;hvg&#x27;</pre>"
            ]
          },
          "metadata": {},
          "execution_count": 35
        }
      ],
      "source": [
        "mdata"
      ]
    },
    {
      "cell_type": "markdown",
      "metadata": {
        "id": "iFHaKVSzDoxS"
      },
      "source": [
        "Now, we create a new Mudata object with the subset of features."
      ]
    },
    {
      "cell_type": "code",
      "execution_count": 36,
      "metadata": {
        "colab": {
          "base_uri": "https://localhost:8080/"
        },
        "id": "Q6QBseCNw3KP",
        "outputId": "2b46df32-686b-4905-b915-167c70d3a9da"
      },
      "outputs": [
        {
          "output_type": "stream",
          "name": "stderr",
          "text": [
            "/usr/local/lib/python3.11/dist-packages/mudata/_core/mudata.py:1598: FutureWarning: From 0.4 .update() will not pull obs/var columns from individual modalities by default anymore. Set mudata.set_options(pull_on_update=False) to adopt the new behaviour, which will become the default. Use new pull_obs/pull_var and push_obs/push_var methods for more flexibility.\n",
            "  self._update_attr(\"var\", axis=0, join_common=join_common)\n",
            "/usr/local/lib/python3.11/dist-packages/mudata/_core/mudata.py:1461: FutureWarning: From 0.4 .update() will not pull obs/var columns from individual modalities by default anymore. Set mudata.set_options(pull_on_update=False) to adopt the new behaviour, which will become the default. Use new pull_obs/pull_var and push_obs/push_var methods for more flexibility.\n",
            "  self._update_attr(\"obs\", axis=1, join_common=join_common)\n"
          ]
        }
      ],
      "source": [
        "mdata_subset = md.MuData(\n",
        "    {\"rna_subset\": mdata.mod[\"rna_subset\"].copy(), \"atac_subset\": mdata.mod[\"atac_subset\"].copy()}\n",
        ")"
      ]
    },
    {
      "cell_type": "code",
      "execution_count": 37,
      "metadata": {
        "colab": {
          "base_uri": "https://localhost:8080/",
          "height": 193
        },
        "id": "y7u-O9mKr_Ra",
        "outputId": "60fd2c5e-365a-4bee-d364-10827b691d22"
      },
      "outputs": [
        {
          "output_type": "execute_result",
          "data": {
            "text/plain": [
              "MuData object with n_obs × n_vars = 12012 × 8000\n",
              "  var:\t'gene_ids', 'feature_types', 'highly_variable', 'highly_variable_rank', 'means', 'variances', 'variances_norm'\n",
              "  2 modalities\n",
              "    rna_subset:\t12012 x 4000\n",
              "      var:\t'gene_ids', 'feature_types', 'highly_variable', 'highly_variable_rank', 'means', 'variances', 'variances_norm'\n",
              "      uns:\t'hvg'\n",
              "    atac_subset:\t12012 x 4000\n",
              "      var:\t'gene_ids', 'feature_types', 'highly_variable', 'highly_variable_rank', 'means', 'variances', 'variances_norm'\n",
              "      uns:\t'hvg'"
            ],
            "text/html": [
              "<pre>MuData object with n_obs × n_vars = 12012 × 8000\n",
              "  var:\t&#x27;gene_ids&#x27;, &#x27;feature_types&#x27;, &#x27;highly_variable&#x27;, &#x27;highly_variable_rank&#x27;, &#x27;means&#x27;, &#x27;variances&#x27;, &#x27;variances_norm&#x27;\n",
              "  2 modalities\n",
              "    rna_subset:\t12012 x 4000\n",
              "      var:\t&#x27;gene_ids&#x27;, &#x27;feature_types&#x27;, &#x27;highly_variable&#x27;, &#x27;highly_variable_rank&#x27;, &#x27;means&#x27;, &#x27;variances&#x27;, &#x27;variances_norm&#x27;\n",
              "      uns:\t&#x27;hvg&#x27;\n",
              "    atac_subset:\t12012 x 4000\n",
              "      var:\t&#x27;gene_ids&#x27;, &#x27;feature_types&#x27;, &#x27;highly_variable&#x27;, &#x27;highly_variable_rank&#x27;, &#x27;means&#x27;, &#x27;variances&#x27;, &#x27;variances_norm&#x27;\n",
              "      uns:\t&#x27;hvg&#x27;</pre>"
            ]
          },
          "metadata": {},
          "execution_count": 37
        }
      ],
      "source": [
        "mdata_subset"
      ]
    },
    {
      "cell_type": "markdown",
      "metadata": {
        "id": "CMBXzKdAkVeP"
      },
      "source": [
        "Now, we will remove some single-modality data from the dataset by setting it to zero. Below, we essentially create 3 datasets, one with expression only, one with peaks only, and one with both."
      ]
    },
    {
      "cell_type": "code",
      "execution_count": 38,
      "metadata": {
        "colab": {
          "base_uri": "https://localhost:8080/"
        },
        "id": "R6u97BSSkVMv",
        "outputId": "a3350b31-3d2b-4eb9-9c35-454a504672dc"
      },
      "outputs": [
        {
          "output_type": "stream",
          "name": "stderr",
          "text": [
            "/usr/local/lib/python3.11/dist-packages/mudata/_core/mudata.py:1598: FutureWarning: From 0.4 .update() will not pull obs/var columns from individual modalities by default anymore. Set mudata.set_options(pull_on_update=False) to adopt the new behaviour, which will become the default. Use new pull_obs/pull_var and push_obs/push_var methods for more flexibility.\n",
            "  self._update_attr(\"var\", axis=0, join_common=join_common)\n",
            "/usr/local/lib/python3.11/dist-packages/mudata/_core/mudata.py:1461: FutureWarning: From 0.4 .update() will not pull obs/var columns from individual modalities by default anymore. Set mudata.set_options(pull_on_update=False) to adopt the new behaviour, which will become the default. Use new pull_obs/pull_var and push_obs/push_var methods for more flexibility.\n",
            "  self._update_attr(\"obs\", axis=1, join_common=join_common)\n"
          ]
        }
      ],
      "source": [
        "# Corrupt some data so that we have some single modality cells, and some paired\n",
        "n = 4004\n",
        "\n",
        "rna = mdata_subset.mod[\"rna_subset\"]\n",
        "atac = mdata_subset.mod[\"atac_subset\"]\n",
        "\n",
        "rna.X[-n:] = sp.csr_matrix(rna.X[-n:].shape)  # maintain sparsity\n",
        "atac.X[:n] = sp.csr_matrix(atac.X[:n].shape)\n",
        "\n",
        "mdata.update()"
      ]
    },
    {
      "cell_type": "code",
      "execution_count": 39,
      "metadata": {
        "colab": {
          "base_uri": "https://localhost:8080/",
          "height": 193
        },
        "id": "2D2bzJInl4Sw",
        "outputId": "b1e9245b-b69b-45d8-94b6-5e6fbf5299b4"
      },
      "outputs": [
        {
          "output_type": "execute_result",
          "data": {
            "text/plain": [
              "MuData object with n_obs × n_vars = 12012 × 8000\n",
              "  var:\t'gene_ids', 'feature_types', 'highly_variable', 'highly_variable_rank', 'means', 'variances', 'variances_norm'\n",
              "  2 modalities\n",
              "    rna_subset:\t12012 x 4000\n",
              "      var:\t'gene_ids', 'feature_types', 'highly_variable', 'highly_variable_rank', 'means', 'variances', 'variances_norm'\n",
              "      uns:\t'hvg'\n",
              "    atac_subset:\t12012 x 4000\n",
              "      var:\t'gene_ids', 'feature_types', 'highly_variable', 'highly_variable_rank', 'means', 'variances', 'variances_norm'\n",
              "      uns:\t'hvg'"
            ],
            "text/html": [
              "<pre>MuData object with n_obs × n_vars = 12012 × 8000\n",
              "  var:\t&#x27;gene_ids&#x27;, &#x27;feature_types&#x27;, &#x27;highly_variable&#x27;, &#x27;highly_variable_rank&#x27;, &#x27;means&#x27;, &#x27;variances&#x27;, &#x27;variances_norm&#x27;\n",
              "  2 modalities\n",
              "    rna_subset:\t12012 x 4000\n",
              "      var:\t&#x27;gene_ids&#x27;, &#x27;feature_types&#x27;, &#x27;highly_variable&#x27;, &#x27;highly_variable_rank&#x27;, &#x27;means&#x27;, &#x27;variances&#x27;, &#x27;variances_norm&#x27;\n",
              "      uns:\t&#x27;hvg&#x27;\n",
              "    atac_subset:\t12012 x 4000\n",
              "      var:\t&#x27;gene_ids&#x27;, &#x27;feature_types&#x27;, &#x27;highly_variable&#x27;, &#x27;highly_variable_rank&#x27;, &#x27;means&#x27;, &#x27;variances&#x27;, &#x27;variances_norm&#x27;\n",
              "      uns:\t&#x27;hvg&#x27;</pre>"
            ]
          },
          "metadata": {},
          "execution_count": 39
        }
      ],
      "source": [
        "mdata_subset"
      ]
    },
    {
      "cell_type": "code",
      "execution_count": 40,
      "metadata": {
        "id": "kbdDlHt1CPnw",
        "colab": {
          "base_uri": "https://localhost:8080/"
        },
        "outputId": "75ae03bd-6f7b-4158-afe0-8f11262d6503"
      },
      "outputs": [
        {
          "output_type": "stream",
          "name": "stderr",
          "text": [
            "/usr/local/lib/python3.11/dist-packages/mudata/_core/mudata.py:1598: FutureWarning: From 0.4 .update() will not pull obs/var columns from individual modalities by default anymore. Set mudata.set_options(pull_on_update=False) to adopt the new behaviour, which will become the default. Use new pull_obs/pull_var and push_obs/push_var methods for more flexibility.\n",
            "  self._update_attr(\"var\", axis=0, join_common=join_common)\n",
            "/usr/local/lib/python3.11/dist-packages/mudata/_core/mudata.py:1461: FutureWarning: From 0.4 .update() will not pull obs/var columns from individual modalities by default anymore. Set mudata.set_options(pull_on_update=False) to adopt the new behaviour, which will become the default. Use new pull_obs/pull_var and push_obs/push_var methods for more flexibility.\n",
            "  self._update_attr(\"obs\", axis=1, join_common=join_common)\n"
          ]
        }
      ],
      "source": [
        "# save preprocessed data\n",
        "mdata_subset.write(\"pbmc_10k_preprocessed.h5mu\")"
      ]
    },
    {
      "cell_type": "markdown",
      "metadata": {
        "id": "YyWOF07jOpA9"
      },
      "source": [
        "## Spatial transciptomics"
      ]
    },
    {
      "cell_type": "markdown",
      "metadata": {
        "id": "jOqKmIoryaqj"
      },
      "source": [
        "### Relevant Spatial transciptomics Tutorials\n",
        "\n",
        "The following tutorial uses the exact preprocessed dataset that results from this section:\n",
        "\n",
        "[Multi-resolution deconvolution of spatial transcriptomics](https://docs.scvi-tools.org/en/stable/tutorials/notebooks/spatial/DestVI_tutorial.html)\n",
        "\n",
        "The following tutorials may not use the exact dataset, but the preprocessing steps should be very similar to what is covered in this section:\n",
        "\n",
        "[ResolVI to address noise and biases in spatial transcriptomics](https://docs.scvi-tools.org/en/stable/tutorials/notebooks/spatial/resolVI_tutorial.html)\n",
        "\n",
        "[Introduction to gimVI](https://docs.scvi-tools.org/en/stable/tutorials/notebooks/spatial/gimvi_tutorial.html)\n",
        "\n",
        "[Spatial mapping with Tangram](https://docs.scvi-tools.org/en/stable/tutorials/notebooks/spatial/tangram_scvi_tools.html)\n",
        "\n",
        "[Stereoscope applied to left ventricule data](https://docs.scvi-tools.org/en/stable/tutorials/notebooks/spatial/stereoscope_heart_LV_tutorial.html)\n",
        "\n",
        "[Mapping human lymph node cell types to 10X Visium with Cell2location](https://docs.scvi-tools.org/en/stable/tutorials/notebooks/spatial/cell2location_lymph_node_spatial_tutorial.html)"
      ]
    },
    {
      "cell_type": "markdown",
      "metadata": {
        "id": "DGb2T-H8yacr"
      },
      "source": [
        "### Preprocessing"
      ]
    },
    {
      "cell_type": "markdown",
      "metadata": {
        "id": "Bu8sI5TyIemh"
      },
      "source": [
        "To demonstrate preprocessing for spatial transcriptomics, we use data from a comparative study of murine lymph nodes, comparing wild-type with a stimulation after injection of a mycobacteria. We have at disposal a 10x Visium dataset as well as a matching scRNA-seq dataset from the same tissue."
      ]
    },
    {
      "cell_type": "code",
      "execution_count": 41,
      "metadata": {
        "id": "2TIjlqfeOsjb"
      },
      "outputs": [],
      "source": [
        "url1 = \"https://github.com/romain-lopez/DestVI-reproducibility/blob/master/lymph_node/deconvolution/ST-LN-compressed.h5ad?raw=true\"\n",
        "url2 = \"https://github.com/romain-lopez/DestVI-reproducibility/blob/master/lymph_node/deconvolution/scRNA-LN-compressed.h5ad?raw=true\"\n",
        "out1 = \"data/ST-LN-compressed.h5ad\"\n",
        "out2 = \"data/scRNA-LN-compressed.h5ad\""
      ]
    },
    {
      "cell_type": "markdown",
      "metadata": {
        "id": "TrLyGrSNJGNR"
      },
      "source": [
        "First, let’s load the single-cell data. We profiled immune cells from murine lymph nodes with 10x Chromium, as a control / case study to study the immune response to exposure to a mycobacteria (refer to DestVI paper for more info). It contains the raw counts (DestVI always takes raw counts as input)."
      ]
    },
    {
      "cell_type": "code",
      "execution_count": 42,
      "metadata": {
        "colab": {
          "base_uri": "https://localhost:8080/",
          "height": 49,
          "referenced_widgets": [
            "6351b70b8cf04520af899db806216012",
            "ebdb090f36424b2f8264e6df167dc18b",
            "63538a2eba4d434e95a68b7d1806aa32",
            "939d4e59e2b349168ddc3fb534ac807e",
            "c34bc280474841d98baeead6db87280b",
            "a8effc6f25724bfcabd4358a2c149c27",
            "79558297f8074ac081e47d693d098b7f",
            "e8e2803d09e34f42b1a7b692f9ca9998",
            "4d590197652e4c699a6ae38590f5e71f",
            "01a34d0a143d486499341fc94bd2247a",
            "80ef42cc2fd744e98c329c0b0b99eec1"
          ]
        },
        "id": "_sRFknXUILGc",
        "outputId": "17f03054-1998-4cb8-9e53-54d5aa66bb7b"
      },
      "outputs": [
        {
          "output_type": "display_data",
          "data": {
            "text/plain": [
              "  0%|          | 0.00/76.0M [00:00<?, ?B/s]"
            ],
            "application/vnd.jupyter.widget-view+json": {
              "version_major": 2,
              "version_minor": 0,
              "model_id": "6351b70b8cf04520af899db806216012"
            }
          },
          "metadata": {}
        }
      ],
      "source": [
        "sc_adata = sc.read(out2, backup_url=url2)"
      ]
    },
    {
      "cell_type": "code",
      "execution_count": 43,
      "metadata": {
        "id": "f3p-pxG6INHz"
      },
      "outputs": [],
      "source": [
        "# let us filter some genes\n",
        "G = 2000\n",
        "sc.pp.filter_genes(sc_adata, min_counts=10)\n",
        "\n",
        "sc_adata.layers[\"counts\"] = sc_adata.X.copy()\n",
        "\n",
        "sc.pp.highly_variable_genes(\n",
        "    sc_adata, n_top_genes=G, subset=True, layer=\"counts\", flavor=\"seurat_v3\"\n",
        ")\n",
        "\n",
        "sc.pp.normalize_total(sc_adata, target_sum=10e4)\n",
        "sc.pp.log1p(sc_adata)\n",
        "sc_adata.raw = sc_adata"
      ]
    },
    {
      "cell_type": "markdown",
      "metadata": {
        "id": "MkNGsJwBKaXt"
      },
      "source": [
        "Load the spatial data"
      ]
    },
    {
      "cell_type": "code",
      "execution_count": 44,
      "metadata": {
        "colab": {
          "base_uri": "https://localhost:8080/",
          "height": 49,
          "referenced_widgets": [
            "d78177a448214a32ad721c558cd69448",
            "173590f756634532ae5143b009fd215c",
            "9b058892b0ce48f8ad8670ce8c6dc6d1",
            "a55033ca471c4188a61452ff5b7ec86c",
            "2db6c610f54343b2a9a41429489e0797",
            "45d86f0817f44c0f808f5ada01b7e326",
            "c58877e350d542ac93b948fb83d2850e",
            "0083f8b08c2f4d9ebdbf6e64863f0345",
            "de30a6aab56344df96aa42404c77b62e",
            "e760696964374ee79c4f6837ac07e06f",
            "366043251ab64efc9650a7f0b3ac0960"
          ]
        },
        "id": "dH9p5dYNIUQm",
        "outputId": "70176784-651a-4262-cdbe-7855b832d2bc"
      },
      "outputs": [
        {
          "output_type": "display_data",
          "data": {
            "text/plain": [
              "  0%|          | 0.00/12.8M [00:00<?, ?B/s]"
            ],
            "application/vnd.jupyter.widget-view+json": {
              "version_major": 2,
              "version_minor": 0,
              "model_id": "d78177a448214a32ad721c558cd69448"
            }
          },
          "metadata": {}
        }
      ],
      "source": [
        "st_adata = sc.read(out1, backup_url=url1)"
      ]
    },
    {
      "cell_type": "code",
      "execution_count": 45,
      "metadata": {
        "id": "WX1b6Hw_IUr1"
      },
      "outputs": [],
      "source": [
        "st_adata.layers[\"counts\"] = st_adata.X.copy()\n",
        "st_adata.obsm[\"spatial\"] = st_adata.obsm[\"location\"]\n",
        "\n",
        "sc.pp.normalize_total(st_adata, target_sum=10e4)\n",
        "sc.pp.log1p(st_adata)\n",
        "st_adata.raw = st_adata"
      ]
    },
    {
      "cell_type": "markdown",
      "metadata": {
        "id": "ehrKE3bCKfr0"
      },
      "source": [
        "Here we must ensure that the two datasets have a common gene subset."
      ]
    },
    {
      "cell_type": "code",
      "execution_count": 46,
      "metadata": {
        "id": "vQ5tgNwUIXNT"
      },
      "outputs": [],
      "source": [
        "# filter genes to be the same on the spatial data\n",
        "intersect = np.intersect1d(sc_adata.var_names, st_adata.var_names)\n",
        "st_adata = st_adata[:, intersect].copy()\n",
        "sc_adata = sc_adata[:, intersect].copy()\n",
        "G = len(intersect)"
      ]
    },
    {
      "cell_type": "code",
      "execution_count": 47,
      "metadata": {
        "id": "GPnwd1pYaKsX"
      },
      "outputs": [],
      "source": [
        "st_adata.write_h5ad(\"st_lymph_node_preprocessed.h5ad\")\n",
        "sc_adata.write_h5ad(\"sc_lymph_node_preprocessed.h5ad\")"
      ]
    },
    {
      "cell_type": "code",
      "execution_count": 47,
      "metadata": {
        "id": "PGJOeNDwwNs3"
      },
      "outputs": [],
      "source": []
    }
  ],
  "metadata": {
    "colab": {
      "collapsed_sections": [
        "dfrYTmqXwOwy"
      ],
      "provenance": [],
      "toc_visible": true
    },
    "kernelspec": {
      "display_name": "Python 3",
      "name": "python3"
    },
    "language_info": {
      "name": "python"
    },
    "widgets": {
      "application/vnd.jupyter.widget-state+json": {
        "fc0ae32423994e618c88ed74977eaefe": {
          "model_module": "@jupyter-widgets/controls",
          "model_name": "HBoxModel",
          "model_module_version": "1.5.0",
          "state": {
            "_dom_classes": [],
            "_model_module": "@jupyter-widgets/controls",
            "_model_module_version": "1.5.0",
            "_model_name": "HBoxModel",
            "_view_count": null,
            "_view_module": "@jupyter-widgets/controls",
            "_view_module_version": "1.5.0",
            "_view_name": "HBoxView",
            "box_style": "",
            "children": [
              "IPY_MODEL_014b975d107a4f0f869b5990e4a31582",
              "IPY_MODEL_dee1b9c3716f4ae48acd51c2b718bec3",
              "IPY_MODEL_397fe242fb6b402ca67ddf69726f3f36"
            ],
            "layout": "IPY_MODEL_11edb6833a4442319254a56de3e345a5"
          }
        },
        "014b975d107a4f0f869b5990e4a31582": {
          "model_module": "@jupyter-widgets/controls",
          "model_name": "HTMLModel",
          "model_module_version": "1.5.0",
          "state": {
            "_dom_classes": [],
            "_model_module": "@jupyter-widgets/controls",
            "_model_module_version": "1.5.0",
            "_model_name": "HTMLModel",
            "_view_count": null,
            "_view_module": "@jupyter-widgets/controls",
            "_view_module_version": "1.5.0",
            "_view_name": "HTMLView",
            "description": "",
            "description_tooltip": null,
            "layout": "IPY_MODEL_0a90c714c3984c898ee52a337c4a32f1",
            "placeholder": "​",
            "style": "IPY_MODEL_21e54b34254849b0b0975890eb948f2f",
            "value": "100%"
          }
        },
        "dee1b9c3716f4ae48acd51c2b718bec3": {
          "model_module": "@jupyter-widgets/controls",
          "model_name": "FloatProgressModel",
          "model_module_version": "1.5.0",
          "state": {
            "_dom_classes": [],
            "_model_module": "@jupyter-widgets/controls",
            "_model_module_version": "1.5.0",
            "_model_name": "FloatProgressModel",
            "_view_count": null,
            "_view_module": "@jupyter-widgets/controls",
            "_view_module_version": "1.5.0",
            "_view_name": "ProgressView",
            "bar_style": "success",
            "description": "",
            "description_tooltip": null,
            "layout": "IPY_MODEL_a1e07214f2174ac98e396ff34315497d",
            "max": 1019664664,
            "min": 0,
            "orientation": "horizontal",
            "style": "IPY_MODEL_527df8c7a990464081f731b91dc478f4",
            "value": 1019664664
          }
        },
        "397fe242fb6b402ca67ddf69726f3f36": {
          "model_module": "@jupyter-widgets/controls",
          "model_name": "HTMLModel",
          "model_module_version": "1.5.0",
          "state": {
            "_dom_classes": [],
            "_model_module": "@jupyter-widgets/controls",
            "_model_module_version": "1.5.0",
            "_model_name": "HTMLModel",
            "_view_count": null,
            "_view_module": "@jupyter-widgets/controls",
            "_view_module_version": "1.5.0",
            "_view_name": "HTMLView",
            "description": "",
            "description_tooltip": null,
            "layout": "IPY_MODEL_c3cc410cc5e745b387e3f36f819847b4",
            "placeholder": "​",
            "style": "IPY_MODEL_2ffb11969df7486e8e179a3d6dcd762b",
            "value": " 972M/972M [01:31&lt;00:00, 13.1MB/s]"
          }
        },
        "11edb6833a4442319254a56de3e345a5": {
          "model_module": "@jupyter-widgets/base",
          "model_name": "LayoutModel",
          "model_module_version": "1.2.0",
          "state": {
            "_model_module": "@jupyter-widgets/base",
            "_model_module_version": "1.2.0",
            "_model_name": "LayoutModel",
            "_view_count": null,
            "_view_module": "@jupyter-widgets/base",
            "_view_module_version": "1.2.0",
            "_view_name": "LayoutView",
            "align_content": null,
            "align_items": null,
            "align_self": null,
            "border": null,
            "bottom": null,
            "display": null,
            "flex": null,
            "flex_flow": null,
            "grid_area": null,
            "grid_auto_columns": null,
            "grid_auto_flow": null,
            "grid_auto_rows": null,
            "grid_column": null,
            "grid_gap": null,
            "grid_row": null,
            "grid_template_areas": null,
            "grid_template_columns": null,
            "grid_template_rows": null,
            "height": null,
            "justify_content": null,
            "justify_items": null,
            "left": null,
            "margin": null,
            "max_height": null,
            "max_width": null,
            "min_height": null,
            "min_width": null,
            "object_fit": null,
            "object_position": null,
            "order": null,
            "overflow": null,
            "overflow_x": null,
            "overflow_y": null,
            "padding": null,
            "right": null,
            "top": null,
            "visibility": null,
            "width": null
          }
        },
        "0a90c714c3984c898ee52a337c4a32f1": {
          "model_module": "@jupyter-widgets/base",
          "model_name": "LayoutModel",
          "model_module_version": "1.2.0",
          "state": {
            "_model_module": "@jupyter-widgets/base",
            "_model_module_version": "1.2.0",
            "_model_name": "LayoutModel",
            "_view_count": null,
            "_view_module": "@jupyter-widgets/base",
            "_view_module_version": "1.2.0",
            "_view_name": "LayoutView",
            "align_content": null,
            "align_items": null,
            "align_self": null,
            "border": null,
            "bottom": null,
            "display": null,
            "flex": null,
            "flex_flow": null,
            "grid_area": null,
            "grid_auto_columns": null,
            "grid_auto_flow": null,
            "grid_auto_rows": null,
            "grid_column": null,
            "grid_gap": null,
            "grid_row": null,
            "grid_template_areas": null,
            "grid_template_columns": null,
            "grid_template_rows": null,
            "height": null,
            "justify_content": null,
            "justify_items": null,
            "left": null,
            "margin": null,
            "max_height": null,
            "max_width": null,
            "min_height": null,
            "min_width": null,
            "object_fit": null,
            "object_position": null,
            "order": null,
            "overflow": null,
            "overflow_x": null,
            "overflow_y": null,
            "padding": null,
            "right": null,
            "top": null,
            "visibility": null,
            "width": null
          }
        },
        "21e54b34254849b0b0975890eb948f2f": {
          "model_module": "@jupyter-widgets/controls",
          "model_name": "DescriptionStyleModel",
          "model_module_version": "1.5.0",
          "state": {
            "_model_module": "@jupyter-widgets/controls",
            "_model_module_version": "1.5.0",
            "_model_name": "DescriptionStyleModel",
            "_view_count": null,
            "_view_module": "@jupyter-widgets/base",
            "_view_module_version": "1.2.0",
            "_view_name": "StyleView",
            "description_width": ""
          }
        },
        "a1e07214f2174ac98e396ff34315497d": {
          "model_module": "@jupyter-widgets/base",
          "model_name": "LayoutModel",
          "model_module_version": "1.2.0",
          "state": {
            "_model_module": "@jupyter-widgets/base",
            "_model_module_version": "1.2.0",
            "_model_name": "LayoutModel",
            "_view_count": null,
            "_view_module": "@jupyter-widgets/base",
            "_view_module_version": "1.2.0",
            "_view_name": "LayoutView",
            "align_content": null,
            "align_items": null,
            "align_self": null,
            "border": null,
            "bottom": null,
            "display": null,
            "flex": null,
            "flex_flow": null,
            "grid_area": null,
            "grid_auto_columns": null,
            "grid_auto_flow": null,
            "grid_auto_rows": null,
            "grid_column": null,
            "grid_gap": null,
            "grid_row": null,
            "grid_template_areas": null,
            "grid_template_columns": null,
            "grid_template_rows": null,
            "height": null,
            "justify_content": null,
            "justify_items": null,
            "left": null,
            "margin": null,
            "max_height": null,
            "max_width": null,
            "min_height": null,
            "min_width": null,
            "object_fit": null,
            "object_position": null,
            "order": null,
            "overflow": null,
            "overflow_x": null,
            "overflow_y": null,
            "padding": null,
            "right": null,
            "top": null,
            "visibility": null,
            "width": null
          }
        },
        "527df8c7a990464081f731b91dc478f4": {
          "model_module": "@jupyter-widgets/controls",
          "model_name": "ProgressStyleModel",
          "model_module_version": "1.5.0",
          "state": {
            "_model_module": "@jupyter-widgets/controls",
            "_model_module_version": "1.5.0",
            "_model_name": "ProgressStyleModel",
            "_view_count": null,
            "_view_module": "@jupyter-widgets/base",
            "_view_module_version": "1.2.0",
            "_view_name": "StyleView",
            "bar_color": null,
            "description_width": ""
          }
        },
        "c3cc410cc5e745b387e3f36f819847b4": {
          "model_module": "@jupyter-widgets/base",
          "model_name": "LayoutModel",
          "model_module_version": "1.2.0",
          "state": {
            "_model_module": "@jupyter-widgets/base",
            "_model_module_version": "1.2.0",
            "_model_name": "LayoutModel",
            "_view_count": null,
            "_view_module": "@jupyter-widgets/base",
            "_view_module_version": "1.2.0",
            "_view_name": "LayoutView",
            "align_content": null,
            "align_items": null,
            "align_self": null,
            "border": null,
            "bottom": null,
            "display": null,
            "flex": null,
            "flex_flow": null,
            "grid_area": null,
            "grid_auto_columns": null,
            "grid_auto_flow": null,
            "grid_auto_rows": null,
            "grid_column": null,
            "grid_gap": null,
            "grid_row": null,
            "grid_template_areas": null,
            "grid_template_columns": null,
            "grid_template_rows": null,
            "height": null,
            "justify_content": null,
            "justify_items": null,
            "left": null,
            "margin": null,
            "max_height": null,
            "max_width": null,
            "min_height": null,
            "min_width": null,
            "object_fit": null,
            "object_position": null,
            "order": null,
            "overflow": null,
            "overflow_x": null,
            "overflow_y": null,
            "padding": null,
            "right": null,
            "top": null,
            "visibility": null,
            "width": null
          }
        },
        "2ffb11969df7486e8e179a3d6dcd762b": {
          "model_module": "@jupyter-widgets/controls",
          "model_name": "DescriptionStyleModel",
          "model_module_version": "1.5.0",
          "state": {
            "_model_module": "@jupyter-widgets/controls",
            "_model_module_version": "1.5.0",
            "_model_name": "DescriptionStyleModel",
            "_view_count": null,
            "_view_module": "@jupyter-widgets/base",
            "_view_module_version": "1.2.0",
            "_view_name": "StyleView",
            "description_width": ""
          }
        },
        "6351b70b8cf04520af899db806216012": {
          "model_module": "@jupyter-widgets/controls",
          "model_name": "HBoxModel",
          "model_module_version": "1.5.0",
          "state": {
            "_dom_classes": [],
            "_model_module": "@jupyter-widgets/controls",
            "_model_module_version": "1.5.0",
            "_model_name": "HBoxModel",
            "_view_count": null,
            "_view_module": "@jupyter-widgets/controls",
            "_view_module_version": "1.5.0",
            "_view_name": "HBoxView",
            "box_style": "",
            "children": [
              "IPY_MODEL_ebdb090f36424b2f8264e6df167dc18b",
              "IPY_MODEL_63538a2eba4d434e95a68b7d1806aa32",
              "IPY_MODEL_939d4e59e2b349168ddc3fb534ac807e"
            ],
            "layout": "IPY_MODEL_c34bc280474841d98baeead6db87280b"
          }
        },
        "ebdb090f36424b2f8264e6df167dc18b": {
          "model_module": "@jupyter-widgets/controls",
          "model_name": "HTMLModel",
          "model_module_version": "1.5.0",
          "state": {
            "_dom_classes": [],
            "_model_module": "@jupyter-widgets/controls",
            "_model_module_version": "1.5.0",
            "_model_name": "HTMLModel",
            "_view_count": null,
            "_view_module": "@jupyter-widgets/controls",
            "_view_module_version": "1.5.0",
            "_view_name": "HTMLView",
            "description": "",
            "description_tooltip": null,
            "layout": "IPY_MODEL_a8effc6f25724bfcabd4358a2c149c27",
            "placeholder": "​",
            "style": "IPY_MODEL_79558297f8074ac081e47d693d098b7f",
            "value": "100%"
          }
        },
        "63538a2eba4d434e95a68b7d1806aa32": {
          "model_module": "@jupyter-widgets/controls",
          "model_name": "FloatProgressModel",
          "model_module_version": "1.5.0",
          "state": {
            "_dom_classes": [],
            "_model_module": "@jupyter-widgets/controls",
            "_model_module_version": "1.5.0",
            "_model_name": "FloatProgressModel",
            "_view_count": null,
            "_view_module": "@jupyter-widgets/controls",
            "_view_module_version": "1.5.0",
            "_view_name": "ProgressView",
            "bar_style": "success",
            "description": "",
            "description_tooltip": null,
            "layout": "IPY_MODEL_e8e2803d09e34f42b1a7b692f9ca9998",
            "max": 79650817,
            "min": 0,
            "orientation": "horizontal",
            "style": "IPY_MODEL_4d590197652e4c699a6ae38590f5e71f",
            "value": 79650817
          }
        },
        "939d4e59e2b349168ddc3fb534ac807e": {
          "model_module": "@jupyter-widgets/controls",
          "model_name": "HTMLModel",
          "model_module_version": "1.5.0",
          "state": {
            "_dom_classes": [],
            "_model_module": "@jupyter-widgets/controls",
            "_model_module_version": "1.5.0",
            "_model_name": "HTMLModel",
            "_view_count": null,
            "_view_module": "@jupyter-widgets/controls",
            "_view_module_version": "1.5.0",
            "_view_name": "HTMLView",
            "description": "",
            "description_tooltip": null,
            "layout": "IPY_MODEL_01a34d0a143d486499341fc94bd2247a",
            "placeholder": "​",
            "style": "IPY_MODEL_80ef42cc2fd744e98c329c0b0b99eec1",
            "value": " 76.0M/76.0M [00:01&lt;00:00, 83.3MB/s]"
          }
        },
        "c34bc280474841d98baeead6db87280b": {
          "model_module": "@jupyter-widgets/base",
          "model_name": "LayoutModel",
          "model_module_version": "1.2.0",
          "state": {
            "_model_module": "@jupyter-widgets/base",
            "_model_module_version": "1.2.0",
            "_model_name": "LayoutModel",
            "_view_count": null,
            "_view_module": "@jupyter-widgets/base",
            "_view_module_version": "1.2.0",
            "_view_name": "LayoutView",
            "align_content": null,
            "align_items": null,
            "align_self": null,
            "border": null,
            "bottom": null,
            "display": null,
            "flex": null,
            "flex_flow": null,
            "grid_area": null,
            "grid_auto_columns": null,
            "grid_auto_flow": null,
            "grid_auto_rows": null,
            "grid_column": null,
            "grid_gap": null,
            "grid_row": null,
            "grid_template_areas": null,
            "grid_template_columns": null,
            "grid_template_rows": null,
            "height": null,
            "justify_content": null,
            "justify_items": null,
            "left": null,
            "margin": null,
            "max_height": null,
            "max_width": null,
            "min_height": null,
            "min_width": null,
            "object_fit": null,
            "object_position": null,
            "order": null,
            "overflow": null,
            "overflow_x": null,
            "overflow_y": null,
            "padding": null,
            "right": null,
            "top": null,
            "visibility": null,
            "width": null
          }
        },
        "a8effc6f25724bfcabd4358a2c149c27": {
          "model_module": "@jupyter-widgets/base",
          "model_name": "LayoutModel",
          "model_module_version": "1.2.0",
          "state": {
            "_model_module": "@jupyter-widgets/base",
            "_model_module_version": "1.2.0",
            "_model_name": "LayoutModel",
            "_view_count": null,
            "_view_module": "@jupyter-widgets/base",
            "_view_module_version": "1.2.0",
            "_view_name": "LayoutView",
            "align_content": null,
            "align_items": null,
            "align_self": null,
            "border": null,
            "bottom": null,
            "display": null,
            "flex": null,
            "flex_flow": null,
            "grid_area": null,
            "grid_auto_columns": null,
            "grid_auto_flow": null,
            "grid_auto_rows": null,
            "grid_column": null,
            "grid_gap": null,
            "grid_row": null,
            "grid_template_areas": null,
            "grid_template_columns": null,
            "grid_template_rows": null,
            "height": null,
            "justify_content": null,
            "justify_items": null,
            "left": null,
            "margin": null,
            "max_height": null,
            "max_width": null,
            "min_height": null,
            "min_width": null,
            "object_fit": null,
            "object_position": null,
            "order": null,
            "overflow": null,
            "overflow_x": null,
            "overflow_y": null,
            "padding": null,
            "right": null,
            "top": null,
            "visibility": null,
            "width": null
          }
        },
        "79558297f8074ac081e47d693d098b7f": {
          "model_module": "@jupyter-widgets/controls",
          "model_name": "DescriptionStyleModel",
          "model_module_version": "1.5.0",
          "state": {
            "_model_module": "@jupyter-widgets/controls",
            "_model_module_version": "1.5.0",
            "_model_name": "DescriptionStyleModel",
            "_view_count": null,
            "_view_module": "@jupyter-widgets/base",
            "_view_module_version": "1.2.0",
            "_view_name": "StyleView",
            "description_width": ""
          }
        },
        "e8e2803d09e34f42b1a7b692f9ca9998": {
          "model_module": "@jupyter-widgets/base",
          "model_name": "LayoutModel",
          "model_module_version": "1.2.0",
          "state": {
            "_model_module": "@jupyter-widgets/base",
            "_model_module_version": "1.2.0",
            "_model_name": "LayoutModel",
            "_view_count": null,
            "_view_module": "@jupyter-widgets/base",
            "_view_module_version": "1.2.0",
            "_view_name": "LayoutView",
            "align_content": null,
            "align_items": null,
            "align_self": null,
            "border": null,
            "bottom": null,
            "display": null,
            "flex": null,
            "flex_flow": null,
            "grid_area": null,
            "grid_auto_columns": null,
            "grid_auto_flow": null,
            "grid_auto_rows": null,
            "grid_column": null,
            "grid_gap": null,
            "grid_row": null,
            "grid_template_areas": null,
            "grid_template_columns": null,
            "grid_template_rows": null,
            "height": null,
            "justify_content": null,
            "justify_items": null,
            "left": null,
            "margin": null,
            "max_height": null,
            "max_width": null,
            "min_height": null,
            "min_width": null,
            "object_fit": null,
            "object_position": null,
            "order": null,
            "overflow": null,
            "overflow_x": null,
            "overflow_y": null,
            "padding": null,
            "right": null,
            "top": null,
            "visibility": null,
            "width": null
          }
        },
        "4d590197652e4c699a6ae38590f5e71f": {
          "model_module": "@jupyter-widgets/controls",
          "model_name": "ProgressStyleModel",
          "model_module_version": "1.5.0",
          "state": {
            "_model_module": "@jupyter-widgets/controls",
            "_model_module_version": "1.5.0",
            "_model_name": "ProgressStyleModel",
            "_view_count": null,
            "_view_module": "@jupyter-widgets/base",
            "_view_module_version": "1.2.0",
            "_view_name": "StyleView",
            "bar_color": null,
            "description_width": ""
          }
        },
        "01a34d0a143d486499341fc94bd2247a": {
          "model_module": "@jupyter-widgets/base",
          "model_name": "LayoutModel",
          "model_module_version": "1.2.0",
          "state": {
            "_model_module": "@jupyter-widgets/base",
            "_model_module_version": "1.2.0",
            "_model_name": "LayoutModel",
            "_view_count": null,
            "_view_module": "@jupyter-widgets/base",
            "_view_module_version": "1.2.0",
            "_view_name": "LayoutView",
            "align_content": null,
            "align_items": null,
            "align_self": null,
            "border": null,
            "bottom": null,
            "display": null,
            "flex": null,
            "flex_flow": null,
            "grid_area": null,
            "grid_auto_columns": null,
            "grid_auto_flow": null,
            "grid_auto_rows": null,
            "grid_column": null,
            "grid_gap": null,
            "grid_row": null,
            "grid_template_areas": null,
            "grid_template_columns": null,
            "grid_template_rows": null,
            "height": null,
            "justify_content": null,
            "justify_items": null,
            "left": null,
            "margin": null,
            "max_height": null,
            "max_width": null,
            "min_height": null,
            "min_width": null,
            "object_fit": null,
            "object_position": null,
            "order": null,
            "overflow": null,
            "overflow_x": null,
            "overflow_y": null,
            "padding": null,
            "right": null,
            "top": null,
            "visibility": null,
            "width": null
          }
        },
        "80ef42cc2fd744e98c329c0b0b99eec1": {
          "model_module": "@jupyter-widgets/controls",
          "model_name": "DescriptionStyleModel",
          "model_module_version": "1.5.0",
          "state": {
            "_model_module": "@jupyter-widgets/controls",
            "_model_module_version": "1.5.0",
            "_model_name": "DescriptionStyleModel",
            "_view_count": null,
            "_view_module": "@jupyter-widgets/base",
            "_view_module_version": "1.2.0",
            "_view_name": "StyleView",
            "description_width": ""
          }
        },
        "d78177a448214a32ad721c558cd69448": {
          "model_module": "@jupyter-widgets/controls",
          "model_name": "HBoxModel",
          "model_module_version": "1.5.0",
          "state": {
            "_dom_classes": [],
            "_model_module": "@jupyter-widgets/controls",
            "_model_module_version": "1.5.0",
            "_model_name": "HBoxModel",
            "_view_count": null,
            "_view_module": "@jupyter-widgets/controls",
            "_view_module_version": "1.5.0",
            "_view_name": "HBoxView",
            "box_style": "",
            "children": [
              "IPY_MODEL_173590f756634532ae5143b009fd215c",
              "IPY_MODEL_9b058892b0ce48f8ad8670ce8c6dc6d1",
              "IPY_MODEL_a55033ca471c4188a61452ff5b7ec86c"
            ],
            "layout": "IPY_MODEL_2db6c610f54343b2a9a41429489e0797"
          }
        },
        "173590f756634532ae5143b009fd215c": {
          "model_module": "@jupyter-widgets/controls",
          "model_name": "HTMLModel",
          "model_module_version": "1.5.0",
          "state": {
            "_dom_classes": [],
            "_model_module": "@jupyter-widgets/controls",
            "_model_module_version": "1.5.0",
            "_model_name": "HTMLModel",
            "_view_count": null,
            "_view_module": "@jupyter-widgets/controls",
            "_view_module_version": "1.5.0",
            "_view_name": "HTMLView",
            "description": "",
            "description_tooltip": null,
            "layout": "IPY_MODEL_45d86f0817f44c0f808f5ada01b7e326",
            "placeholder": "​",
            "style": "IPY_MODEL_c58877e350d542ac93b948fb83d2850e",
            "value": "100%"
          }
        },
        "9b058892b0ce48f8ad8670ce8c6dc6d1": {
          "model_module": "@jupyter-widgets/controls",
          "model_name": "FloatProgressModel",
          "model_module_version": "1.5.0",
          "state": {
            "_dom_classes": [],
            "_model_module": "@jupyter-widgets/controls",
            "_model_module_version": "1.5.0",
            "_model_name": "FloatProgressModel",
            "_view_count": null,
            "_view_module": "@jupyter-widgets/controls",
            "_view_module_version": "1.5.0",
            "_view_name": "ProgressView",
            "bar_style": "success",
            "description": "",
            "description_tooltip": null,
            "layout": "IPY_MODEL_0083f8b08c2f4d9ebdbf6e64863f0345",
            "max": 13466047,
            "min": 0,
            "orientation": "horizontal",
            "style": "IPY_MODEL_de30a6aab56344df96aa42404c77b62e",
            "value": 13466047
          }
        },
        "a55033ca471c4188a61452ff5b7ec86c": {
          "model_module": "@jupyter-widgets/controls",
          "model_name": "HTMLModel",
          "model_module_version": "1.5.0",
          "state": {
            "_dom_classes": [],
            "_model_module": "@jupyter-widgets/controls",
            "_model_module_version": "1.5.0",
            "_model_name": "HTMLModel",
            "_view_count": null,
            "_view_module": "@jupyter-widgets/controls",
            "_view_module_version": "1.5.0",
            "_view_name": "HTMLView",
            "description": "",
            "description_tooltip": null,
            "layout": "IPY_MODEL_e760696964374ee79c4f6837ac07e06f",
            "placeholder": "​",
            "style": "IPY_MODEL_366043251ab64efc9650a7f0b3ac0960",
            "value": " 12.8M/12.8M [00:00&lt;00:00, 26.3MB/s]"
          }
        },
        "2db6c610f54343b2a9a41429489e0797": {
          "model_module": "@jupyter-widgets/base",
          "model_name": "LayoutModel",
          "model_module_version": "1.2.0",
          "state": {
            "_model_module": "@jupyter-widgets/base",
            "_model_module_version": "1.2.0",
            "_model_name": "LayoutModel",
            "_view_count": null,
            "_view_module": "@jupyter-widgets/base",
            "_view_module_version": "1.2.0",
            "_view_name": "LayoutView",
            "align_content": null,
            "align_items": null,
            "align_self": null,
            "border": null,
            "bottom": null,
            "display": null,
            "flex": null,
            "flex_flow": null,
            "grid_area": null,
            "grid_auto_columns": null,
            "grid_auto_flow": null,
            "grid_auto_rows": null,
            "grid_column": null,
            "grid_gap": null,
            "grid_row": null,
            "grid_template_areas": null,
            "grid_template_columns": null,
            "grid_template_rows": null,
            "height": null,
            "justify_content": null,
            "justify_items": null,
            "left": null,
            "margin": null,
            "max_height": null,
            "max_width": null,
            "min_height": null,
            "min_width": null,
            "object_fit": null,
            "object_position": null,
            "order": null,
            "overflow": null,
            "overflow_x": null,
            "overflow_y": null,
            "padding": null,
            "right": null,
            "top": null,
            "visibility": null,
            "width": null
          }
        },
        "45d86f0817f44c0f808f5ada01b7e326": {
          "model_module": "@jupyter-widgets/base",
          "model_name": "LayoutModel",
          "model_module_version": "1.2.0",
          "state": {
            "_model_module": "@jupyter-widgets/base",
            "_model_module_version": "1.2.0",
            "_model_name": "LayoutModel",
            "_view_count": null,
            "_view_module": "@jupyter-widgets/base",
            "_view_module_version": "1.2.0",
            "_view_name": "LayoutView",
            "align_content": null,
            "align_items": null,
            "align_self": null,
            "border": null,
            "bottom": null,
            "display": null,
            "flex": null,
            "flex_flow": null,
            "grid_area": null,
            "grid_auto_columns": null,
            "grid_auto_flow": null,
            "grid_auto_rows": null,
            "grid_column": null,
            "grid_gap": null,
            "grid_row": null,
            "grid_template_areas": null,
            "grid_template_columns": null,
            "grid_template_rows": null,
            "height": null,
            "justify_content": null,
            "justify_items": null,
            "left": null,
            "margin": null,
            "max_height": null,
            "max_width": null,
            "min_height": null,
            "min_width": null,
            "object_fit": null,
            "object_position": null,
            "order": null,
            "overflow": null,
            "overflow_x": null,
            "overflow_y": null,
            "padding": null,
            "right": null,
            "top": null,
            "visibility": null,
            "width": null
          }
        },
        "c58877e350d542ac93b948fb83d2850e": {
          "model_module": "@jupyter-widgets/controls",
          "model_name": "DescriptionStyleModel",
          "model_module_version": "1.5.0",
          "state": {
            "_model_module": "@jupyter-widgets/controls",
            "_model_module_version": "1.5.0",
            "_model_name": "DescriptionStyleModel",
            "_view_count": null,
            "_view_module": "@jupyter-widgets/base",
            "_view_module_version": "1.2.0",
            "_view_name": "StyleView",
            "description_width": ""
          }
        },
        "0083f8b08c2f4d9ebdbf6e64863f0345": {
          "model_module": "@jupyter-widgets/base",
          "model_name": "LayoutModel",
          "model_module_version": "1.2.0",
          "state": {
            "_model_module": "@jupyter-widgets/base",
            "_model_module_version": "1.2.0",
            "_model_name": "LayoutModel",
            "_view_count": null,
            "_view_module": "@jupyter-widgets/base",
            "_view_module_version": "1.2.0",
            "_view_name": "LayoutView",
            "align_content": null,
            "align_items": null,
            "align_self": null,
            "border": null,
            "bottom": null,
            "display": null,
            "flex": null,
            "flex_flow": null,
            "grid_area": null,
            "grid_auto_columns": null,
            "grid_auto_flow": null,
            "grid_auto_rows": null,
            "grid_column": null,
            "grid_gap": null,
            "grid_row": null,
            "grid_template_areas": null,
            "grid_template_columns": null,
            "grid_template_rows": null,
            "height": null,
            "justify_content": null,
            "justify_items": null,
            "left": null,
            "margin": null,
            "max_height": null,
            "max_width": null,
            "min_height": null,
            "min_width": null,
            "object_fit": null,
            "object_position": null,
            "order": null,
            "overflow": null,
            "overflow_x": null,
            "overflow_y": null,
            "padding": null,
            "right": null,
            "top": null,
            "visibility": null,
            "width": null
          }
        },
        "de30a6aab56344df96aa42404c77b62e": {
          "model_module": "@jupyter-widgets/controls",
          "model_name": "ProgressStyleModel",
          "model_module_version": "1.5.0",
          "state": {
            "_model_module": "@jupyter-widgets/controls",
            "_model_module_version": "1.5.0",
            "_model_name": "ProgressStyleModel",
            "_view_count": null,
            "_view_module": "@jupyter-widgets/base",
            "_view_module_version": "1.2.0",
            "_view_name": "StyleView",
            "bar_color": null,
            "description_width": ""
          }
        },
        "e760696964374ee79c4f6837ac07e06f": {
          "model_module": "@jupyter-widgets/base",
          "model_name": "LayoutModel",
          "model_module_version": "1.2.0",
          "state": {
            "_model_module": "@jupyter-widgets/base",
            "_model_module_version": "1.2.0",
            "_model_name": "LayoutModel",
            "_view_count": null,
            "_view_module": "@jupyter-widgets/base",
            "_view_module_version": "1.2.0",
            "_view_name": "LayoutView",
            "align_content": null,
            "align_items": null,
            "align_self": null,
            "border": null,
            "bottom": null,
            "display": null,
            "flex": null,
            "flex_flow": null,
            "grid_area": null,
            "grid_auto_columns": null,
            "grid_auto_flow": null,
            "grid_auto_rows": null,
            "grid_column": null,
            "grid_gap": null,
            "grid_row": null,
            "grid_template_areas": null,
            "grid_template_columns": null,
            "grid_template_rows": null,
            "height": null,
            "justify_content": null,
            "justify_items": null,
            "left": null,
            "margin": null,
            "max_height": null,
            "max_width": null,
            "min_height": null,
            "min_width": null,
            "object_fit": null,
            "object_position": null,
            "order": null,
            "overflow": null,
            "overflow_x": null,
            "overflow_y": null,
            "padding": null,
            "right": null,
            "top": null,
            "visibility": null,
            "width": null
          }
        },
        "366043251ab64efc9650a7f0b3ac0960": {
          "model_module": "@jupyter-widgets/controls",
          "model_name": "DescriptionStyleModel",
          "model_module_version": "1.5.0",
          "state": {
            "_model_module": "@jupyter-widgets/controls",
            "_model_module_version": "1.5.0",
            "_model_name": "DescriptionStyleModel",
            "_view_count": null,
            "_view_module": "@jupyter-widgets/base",
            "_view_module_version": "1.2.0",
            "_view_name": "StyleView",
            "description_width": ""
          }
        }
      }
    }
  },
  "nbformat": 4,
  "nbformat_minor": 0
}
