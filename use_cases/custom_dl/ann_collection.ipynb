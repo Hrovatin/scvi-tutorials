{
 "cells": [
  {
   "cell_type": "markdown",
   "id": "d725b36e-8084-47f9-970c-b47351a89760",
   "metadata": {},
   "source": [
    "# Train a scVI model using Anncollection dataloader wrapper"
   ]
  },
  {
   "cell_type": "markdown",
   "id": "8413d0e9-160f-4a9b-80c2-7b26cb593287",
   "metadata": {},
   "source": [
    "In this tutorial we will show how to apply the annCollection wrapper in scvi-tools to load and train several adata's that are stored on disk"
   ]
  },
  {
   "cell_type": "markdown",
   "id": "ae06a089-e6be-4a8b-a1ef-3a4f030ff3b1",
   "metadata": {},
   "source": [
    "```{note}\n",
    "Running the following cell will install tutorial dependencies on Google Colab only. It will have no effect on environments other than Google Colab.\n",
    "```"
   ]
  },
  {
   "cell_type": "code",
   "execution_count": 1,
   "id": "16bc9084-3366-4736-b325-4b6c2e334518",
   "metadata": {},
   "outputs": [
    {
     "name": "stderr",
     "output_type": "stream",
     "text": [
      "/home/access/miniconda3/lib/python3.12/site-packages/scvi_colab/_core.py:41: UserWarning: \n",
      "                Not currently in Google Colab environment.\n",
      "\n",
      "                Please run with `run_outside_colab=True` to override.\n",
      "\n",
      "                Returning with no further action.\n",
      "                \n",
      "  warn(\n"
     ]
    }
   ],
   "source": [
    "!pip install --quiet scvi-colab\n",
    "from scvi_colab import install\n",
    "\n",
    "install()"
   ]
  },
  {
   "cell_type": "code",
   "execution_count": 2,
   "id": "662b05f2-d474-4315-9adf-d1030b67682e",
   "metadata": {},
   "outputs": [],
   "source": [
    "import math\n",
    "import anndata\n",
    "from anndata.experimental import AnnCollection\n",
    "import gdown\n",
    "import numpy as np\n",
    "import scanpy as sc\n",
    "from scipy import sparse as sp\n",
    "from scvi.dataloaders import CollectionAdapter\n",
    "import scvi\n",
    "from pathlib import Path\n",
    "import seaborn as sns\n",
    "import torch\n",
    "import os\n",
    "import tempfile"
   ]
  },
  {
   "cell_type": "code",
   "execution_count": 3,
   "id": "4640cc14-6c0b-4f94-93b9-96144cefee78",
   "metadata": {},
   "outputs": [
    {
     "name": "stderr",
     "output_type": "stream",
     "text": [
      "Seed set to 0\n"
     ]
    },
    {
     "name": "stdout",
     "output_type": "stream",
     "text": [
      "Last run with scvi-tools version: 1.3.2\n"
     ]
    }
   ],
   "source": [
    "scvi.settings.seed = 0\n",
    "print(\"Last run with scvi-tools version:\", scvi.__version__)"
   ]
  },
  {
   "cell_type": "code",
   "execution_count": 4,
   "id": "e3b6bc3d-120c-4a37-b068-bc13c55fd4a1",
   "metadata": {},
   "outputs": [],
   "source": [
    "sc.set_figure_params(figsize=(6, 6), frameon=False)\n",
    "sns.set_theme()\n",
    "torch.set_float32_matmul_precision(\"high\")\n",
    "save_dir = tempfile.TemporaryDirectory()\n",
    "\n",
    "%config InlineBackend.print_figure_kwargs={\"facecolor\": \"w\"}\n",
    "%config InlineBackend.figure_format=\"retina\""
   ]
  },
  {
   "cell_type": "markdown",
   "id": "7ef33b63-f5f4-4763-979d-bc5bd772d1f2",
   "metadata": {},
   "source": [
    "We will use 2 types of datasets : PBMC and Covid data, both from SCVI datasets repo"
   ]
  },
  {
   "cell_type": "code",
   "execution_count": 5,
   "id": "489b15ac-387b-4cdb-8fa6-78b32861cc0d",
   "metadata": {},
   "outputs": [
    {
     "name": "stdout",
     "output_type": "stream",
     "text": [
      "Data already downloaded\n"
     ]
    }
   ],
   "source": [
    "# the data is from this scvi reproducibility notebook\n",
    "# https://yoseflab.github.io/scvi-tools-reproducibility/scarches_totalvi_seurat_data/\n",
    "if Path(\"./pbmc_seurat_v4.h5ad\").exists() and Path(\"./covid_cite.h5ad\").exists():\n",
    "    print(\"Data already downloaded\")\n",
    "else:\n",
    "    gdown.download(url=\"https://drive.google.com/uc?id=1X5N9rOaIqiGxZRyr1fyZ6NpDPeATXoaC\",\n",
    "                output=\"pbmc_seurat_v4.h5ad\", quiet=False)\n",
    "    gdown.download(url=\"https://drive.google.com/uc?id=1JgaXNwNeoEqX7zJL-jJD3cfXDGurMrq9\",\n",
    "                output=\"covid_cite.h5ad\", quiet=False)"
   ]
  },
  {
   "cell_type": "markdown",
   "id": "06745775-75c8-48d5-87de-457cae69a90c",
   "metadata": {},
   "source": [
    "## Preprocessing of the data"
   ]
  },
  {
   "cell_type": "code",
   "execution_count": 6,
   "id": "de8ed119-8d18-472f-9279-89bd53e713f0",
   "metadata": {},
   "outputs": [],
   "source": [
    "covid = sc.read('covid_cite.h5ad', backed=\"r\")\n",
    "pbmc = sc.read('pbmc_seurat_v4.h5ad', backed=\"r\")"
   ]
  },
  {
   "cell_type": "code",
   "execution_count": 7,
   "id": "d3ec542e-e67d-4b16-8e9f-f2384575f006",
   "metadata": {},
   "outputs": [
    {
     "data": {
      "text/plain": [
       "AnnData object with n_obs × n_vars = 161764 × 20729 backed at 'pbmc_seurat_v4.h5ad'\n",
       "    obs: 'nCount_ADT', 'nFeature_ADT', 'nCount_RNA', 'nFeature_RNA', 'orig.ident', 'lane', 'donor', 'time', 'celltype.l1', 'celltype.l2', 'celltype.l3', 'Phase', 'nCount_SCT', 'nFeature_SCT', 'X_index'\n",
       "    obsm: 'protein_counts'"
      ]
     },
     "execution_count": 7,
     "metadata": {},
     "output_type": "execute_result"
    }
   ],
   "source": [
    "pbmc"
   ]
  },
  {
   "cell_type": "code",
   "execution_count": 8,
   "id": "ea19701e-9a7a-43c6-8b3e-77a010d11177",
   "metadata": {},
   "outputs": [
    {
     "data": {
      "text/plain": [
       "AnnData object with n_obs × n_vars = 57669 × 33538 backed at 'covid_cite.h5ad'\n",
       "    obs: 'orig.ident', 'nCount_RNA', 'nFeature_RNA', 'RNA_snn_res.0.4', 'seurat_clusters', 'set', 'Resp', 'disease', 'subj_code', 'covidpt_orhealth', 'mito', 'ncount', 'nfeat', 'bust_21', 'og_clust', 'severmod_other', 'og_clusts', 'nCount_ADT', 'nFeature_ADT', 'UMAP1', 'UMAP2', 'final_clust', 'final_clust_v2', 'new_pt_id', 'Resp_og', 'final_clust_withnum', 'final_clust_review', 'Age', 'Gender', 'Gender_num'\n",
       "    obsm: 'pro_exp'"
      ]
     },
     "execution_count": 8,
     "metadata": {},
     "output_type": "execute_result"
    }
   ],
   "source": [
    "covid"
   ]
  },
  {
   "cell_type": "markdown",
   "id": "f39c337c-c19e-4a61-9c36-ef3e5f1353ec",
   "metadata": {},
   "source": [
    "Note covid datasets has more genes than the pbmc. In anncollection we autoamticaly select the intersection that exists in both."
   ]
  },
  {
   "cell_type": "code",
   "execution_count": 9,
   "id": "c0f1a66c-4acb-49a7-a061-e8daaad87a53",
   "metadata": {},
   "outputs": [],
   "source": [
    "# create a fake counts layer to test training\n",
    "covid.layers[\"test\"] = covid.X\n",
    "pbmc.layers[\"test\"] = pbmc.X"
   ]
  },
  {
   "cell_type": "code",
   "execution_count": 10,
   "id": "f25ee2be-ecf5-4c19-a6cc-4d142f6a6c5f",
   "metadata": {},
   "outputs": [],
   "source": [
    "# take annotations from the `pbmc` dataset and leave\n",
    "# annotations in `covid` as an Unknown\n",
    "covid.obs[\"celltype.l1\"] = \"Unknown\""
   ]
  },
  {
   "cell_type": "markdown",
   "id": "59030352-4fdc-4c7b-b625-99a0a5926264",
   "metadata": {},
   "source": [
    "Note that our count data is in a sparse form, which is the only one supported currently when using the AnnCollection Wrapper in SCVI-Tools"
   ]
  },
  {
   "cell_type": "code",
   "execution_count": 11,
   "id": "ad0d9254-c5c0-449a-a70f-7c553e725a5e",
   "metadata": {},
   "outputs": [],
   "source": [
    "# X is all raw counts\n",
    "assert np.all(np.mod(pbmc.X[:10].toarray(), 1) == 0)\n",
    "assert np.all(np.mod(covid.X[:10].toarray(), 1) == 0)"
   ]
  },
  {
   "cell_type": "code",
   "execution_count": 12,
   "id": "4dde1f4f-7614-4206-83f7-9f3c09e88b08",
   "metadata": {},
   "outputs": [
    {
     "name": "stdout",
     "output_type": "stream",
     "text": [
      "AnnCollection object with n_obs × n_vars = 10000 × 20729\n",
      "  constructed from 2 AnnData objects\n",
      "    view of layers: 'test'\n",
      "    obs: 'orig.ident', 'nCount_RNA', 'nFeature_RNA', 'nCount_ADT', 'nFeature_ADT', 'celltype.l1', 'dataset'\n"
     ]
    }
   ],
   "source": [
    "# create an AnnCollection on a subset of the data\n",
    "# we're subsetting purely for speed\n",
    "adata = AnnCollection(\n",
    "    [covid[:5000], pbmc[:5000]],\n",
    "    join_vars=\"inner\",\n",
    "    join_obs=\"inner\",\n",
    "    label='dataset',\n",
    ")\n",
    "print(adata)"
   ]
  },
  {
   "cell_type": "markdown",
   "id": "9026d800-0e59-49fd-ae60-617a5ca6c836",
   "metadata": {},
   "source": [
    "## Build a wrapper AnnData around the collection"
   ]
  },
  {
   "cell_type": "code",
   "execution_count": 13,
   "id": "ff478627-50ed-4bc0-ab74-c6244dbc8eed",
   "metadata": {},
   "outputs": [
    {
     "data": {
      "text/plain": [
       "Adapter for:\n",
       "AnnCollection object with n_obs × n_vars = 10000 × 20729\n",
       "  constructed from 2 AnnData objects\n",
       "    view of layers: 'test'\n",
       "    obs: 'orig.ident', 'nCount_RNA', 'nFeature_RNA', 'nCount_ADT', 'nFeature_ADT', 'celltype.l1', 'dataset'"
      ]
     },
     "execution_count": 13,
     "metadata": {},
     "output_type": "execute_result"
    }
   ],
   "source": [
    "collection_adapter = CollectionAdapter(adata)\n",
    "collection_adapter"
   ]
  },
  {
   "cell_type": "code",
   "execution_count": 14,
   "id": "3952b3f2-0e6d-47a2-971c-78abad6af6aa",
   "metadata": {},
   "outputs": [
    {
     "data": {
      "text/plain": [
       "True"
      ]
     },
     "execution_count": 14,
     "metadata": {},
     "output_type": "execute_result"
    }
   ],
   "source": [
    "sp.issparse(collection_adapter.layers[\"test\"])"
   ]
  },
  {
   "cell_type": "code",
   "execution_count": 15,
   "id": "ea3208c0-c0c0-482a-a433-2d16f469b136",
   "metadata": {},
   "outputs": [],
   "source": [
    "#sc.pp.filter_genes(collection_adapter, min_counts=3)"
   ]
  },
  {
   "cell_type": "code",
   "execution_count": 16,
   "id": "c75438ac-f7f3-4ed9-ba2c-56c28460eba6",
   "metadata": {},
   "outputs": [],
   "source": [
    "#sc.pp.normalize_total(collection_adapter, target_sum=1e4)\n",
    "#sc.pp.log1p(collection_adapter)"
   ]
  },
  {
   "cell_type": "code",
   "execution_count": 17,
   "id": "a653672e-e749-4269-bfd5-0fa317663fce",
   "metadata": {},
   "outputs": [],
   "source": [
    "#sc.pp.highly_variable_genes(\n",
    "#    collection_adapter,\n",
    "#    n_top_genes=1000,\n",
    "#    subset=True,\n",
    "#    layer=\"counts\",\n",
    "#    flavor=\"seurat_v3\",\n",
    "#    batch_key=\"dataset\",\n",
    "#)"
   ]
  },
  {
   "cell_type": "code",
   "execution_count": 18,
   "id": "52aecb25-ecd4-4816-a496-d4b73d85f8d0",
   "metadata": {},
   "outputs": [],
   "source": [
    "scvi.model.SCANVI.setup_anndata(\n",
    "    collection_adapter,\n",
    "    layer=\"test\",\n",
    "    batch_key=\"dataset\",\n",
    "    labels_key=\"celltype.l1\",\n",
    "    unlabeled_category=\"Unknown\",\n",
    ")"
   ]
  },
  {
   "cell_type": "code",
   "execution_count": 19,
   "id": "77723d1d-304f-44fb-9116-a2f4f1522819",
   "metadata": {},
   "outputs": [],
   "source": [
    "model = scvi.model.SCANVI(collection_adapter, n_latent=10)"
   ]
  },
  {
   "cell_type": "code",
   "execution_count": null,
   "id": "31bcf114-4fc8-4064-80db-44dc71e0ff42",
   "metadata": {},
   "outputs": [
    {
     "name": "stdout",
     "output_type": "stream",
     "text": [
      "\u001b[34mINFO    \u001b[0m Training for \u001b[1;36m25\u001b[0m epochs.                                                                                   \n"
     ]
    },
    {
     "name": "stderr",
     "output_type": "stream",
     "text": [
      "Trainer will use only 1 of 2 GPUs because it is running inside an interactive / notebook environment. You may try to set `Trainer(devices=2)` but please note that multi-GPU inside interactive / notebook environments is considered experimental and unstable. Your mileage may vary.\n",
      "GPU available: True (cuda), used: True\n",
      "TPU available: False, using: 0 TPU cores\n",
      "HPU available: False, using: 0 HPUs\n",
      "LOCAL_RANK: 0 - CUDA_VISIBLE_DEVICES: [0,1]\n",
      "/home/access/miniconda3/lib/python3.12/site-packages/lightning/pytorch/trainer/connectors/data_connector.py:424: The 'train_dataloader' does not have many workers which may be a bottleneck. Consider increasing the value of the `num_workers` argument` to `num_workers=63` in the `DataLoader` to improve performance.\n",
      "/home/access/miniconda3/lib/python3.12/site-packages/lightning/pytorch/trainer/connectors/data_connector.py:424: The 'val_dataloader' does not have many workers which may be a bottleneck. Consider increasing the value of the `num_workers` argument` to `num_workers=63` in the `DataLoader` to improve performance.\n"
     ]
    },
    {
     "data": {
      "application/vnd.jupyter.widget-view+json": {
       "model_id": "2b815b2291484094abcf51e15b9dccb3",
       "version_major": 2,
       "version_minor": 0
      },
      "text/plain": [
       "Training:   0%|          | 0/25 [00:00<?, ?it/s]"
      ]
     },
     "metadata": {},
     "output_type": "display_data"
    }
   ],
   "source": [
    "# we're only training for a few epochs to show it works\n",
    "model.train(max_epochs=25, early_stopping=True)"
   ]
  },
  {
   "cell_type": "code",
   "execution_count": null,
   "id": "f4942f41-b971-46d2-b7db-0f465d1b4742",
   "metadata": {},
   "outputs": [],
   "source": [
    "SCVI_LATENT_KEY = \"X_scVI\"\n",
    "latent = model.get_latent_representation()\n",
    "collection_adapter.obsm[SCVI_LATENT_KEY] = latent\n",
    "latent.shape"
   ]
  },
  {
   "cell_type": "code",
   "execution_count": null,
   "id": "4177085e-5ec8-4a66-a2cb-a65772501e70",
   "metadata": {},
   "outputs": [],
   "source": [
    "# run PCA then generate UMAP plots\n",
    "sc.tl.pca(collection_adapter)\n",
    "sc.pp.neighbors(collection_adapter, n_pcs=30, n_neighbors=20)\n",
    "sc.tl.umap(collection_adapter, min_dist=0.3)"
   ]
  },
  {
   "cell_type": "code",
   "execution_count": null,
   "id": "5b3af660-b132-4560-ac5e-7b46e8b7290d",
   "metadata": {},
   "outputs": [],
   "source": [
    "sc.pl.umap(\n",
    "    collection_adapter,\n",
    "    color=[\"cell_type\"],\n",
    "    frameon=False,\n",
    ")\n",
    "sc.pl.umap(\n",
    "    collection_adapter,\n",
    "    color=[\"donor\", \"cell_source\"],\n",
    "    ncols=2,\n",
    "    frameon=False,\n",
    ")"
   ]
  },
  {
   "cell_type": "code",
   "execution_count": null,
   "id": "2fc29c6e-6a00-42c3-baea-86883945527d",
   "metadata": {},
   "outputs": [],
   "source": [
    "# use scVI latent space for UMAP generation\n",
    "sc.pp.neighbors(collection_adapter, use_rep=SCVI_LATENT_KEY)\n",
    "sc.tl.umap(collection_adapter, min_dist=0.3)"
   ]
  },
  {
   "cell_type": "code",
   "execution_count": null,
   "id": "68350931-a24e-4313-9159-bd9292d972ce",
   "metadata": {},
   "outputs": [],
   "source": [
    "sc.pl.umap(\n",
    "    collection_adapter,\n",
    "    color=[\"cell_type\"],\n",
    "    frameon=False,\n",
    ")\n",
    "sc.pl.umap(\n",
    "    collection_adapter,\n",
    "    color=[\"donor\", \"cell_source\"],\n",
    "    ncols=2,\n",
    "    frameon=False,\n",
    ")"
   ]
  },
  {
   "cell_type": "code",
   "execution_count": null,
   "id": "31469556-563f-4eb0-b071-45add573a27d",
   "metadata": {},
   "outputs": [],
   "source": [
    "# neighbors were already computed using scVI\n",
    "SCVI_CLUSTERS_KEY = \"leiden_scVI\"\n",
    "sc.tl.leiden(collection_adapter, key_added=SCVI_CLUSTERS_KEY, resolution=0.5)"
   ]
  },
  {
   "cell_type": "code",
   "execution_count": null,
   "id": "4f1cba31-f4a6-40df-8e9b-1bf4a62e23c5",
   "metadata": {},
   "outputs": [],
   "source": [
    "sc.pl.umap(\n",
    "    collection_adapter,\n",
    "    color=[SCVI_CLUSTERS_KEY],\n",
    "    frameon=False,\n",
    ")"
   ]
  },
  {
   "cell_type": "code",
   "execution_count": null,
   "id": "ba56b771-be4e-4cac-b9bc-a676beb05611",
   "metadata": {},
   "outputs": [],
   "source": [
    "predictions = model.predict(collection_adapter)"
   ]
  },
  {
   "cell_type": "code",
   "execution_count": null,
   "id": "f59fdff6-518a-4e75-8683-2006e6275d68",
   "metadata": {},
   "outputs": [],
   "source": []
  }
 ],
 "metadata": {
  "kernelspec": {
   "display_name": "Python 3 (ipykernel)",
   "language": "python",
   "name": "python3"
  },
  "language_info": {
   "codemirror_mode": {
    "name": "ipython",
    "version": 3
   },
   "file_extension": ".py",
   "mimetype": "text/x-python",
   "name": "python",
   "nbconvert_exporter": "python",
   "pygments_lexer": "ipython3",
   "version": "3.12.7"
  }
 },
 "nbformat": 4,
 "nbformat_minor": 5
}
