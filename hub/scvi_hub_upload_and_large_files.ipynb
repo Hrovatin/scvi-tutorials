{
 "cells": [
  {
   "attachments": {},
   "cell_type": "markdown",
   "id": "e5abf651",
   "metadata": {},
   "source": [
    "# Using scvi-hub to upload pretrained scvi-tools models\n",
    "\n",
    "In this tutorial, we will see how to use scvi-tools to upload pretrained models onto Hugging Face. We will also see how to handle large training datasets.\n",
    "\n",
    "If you have not already, make sure to refer to our scvi_hub_into_and_download tutorial, which is a pre-requisite to this one. It introduces Hugging Face (HF) and the scvi-hub, and describes how to use them for downloading pre-trained models from the HF Model Hub."
   ]
  },
  {
   "cell_type": "markdown",
   "id": "4bd49c11",
   "metadata": {},
   "source": [
    "```{note}\n",
    "Running the following cell will install tutorial dependencies on Google Colab only. It will have no effect on environments other than Google Colab.\n",
    "```"
   ]
  },
  {
   "cell_type": "code",
   "execution_count": 1,
   "id": "25882b6b",
   "metadata": {
    "execution": {
     "iopub.execute_input": "2024-09-22T12:32:03.053478Z",
     "iopub.status.busy": "2024-09-22T12:32:03.053241Z",
     "iopub.status.idle": "2024-09-22T12:32:04.067102Z",
     "shell.execute_reply": "2024-09-22T12:32:04.066751Z"
    }
   },
   "outputs": [
    {
     "name": "stdout",
     "output_type": "stream",
     "text": [
      "\u001b[33mWARNING: Running pip as the 'root' user can result in broken permissions and conflicting behaviour with the system package manager, possibly rendering your system unusable.It is recommended to use a virtual environment instead: https://pip.pypa.io/warnings/venv. Use the --root-user-action option if you know what you are doing and want to suppress this warning.\u001b[0m\u001b[33m\r\n",
      "\u001b[0m"
     ]
    },
    {
     "name": "stderr",
     "output_type": "stream",
     "text": [
      "/usr/local/lib/python3.12/site-packages/scvi_colab/_core.py:41: UserWarning: \n",
      "                Not currently in Google Colab environment.\n",
      "\n",
      "                Please run with `run_outside_colab=True` to override.\n",
      "\n",
      "                Returning with no further action.\n",
      "                \n",
      "  warn(\n"
     ]
    }
   ],
   "source": [
    "!pip install --quiet scvi-colab\n",
    "from scvi_colab import install\n",
    "\n",
    "install()"
   ]
  },
  {
   "cell_type": "code",
   "execution_count": 2,
   "id": "28d1a3aa",
   "metadata": {
    "execution": {
     "iopub.execute_input": "2024-09-22T12:32:04.068425Z",
     "iopub.status.busy": "2024-09-22T12:32:04.068319Z",
     "iopub.status.idle": "2024-09-22T12:32:13.320413Z",
     "shell.execute_reply": "2024-09-22T12:32:13.320056Z"
    }
   },
   "outputs": [
    {
     "name": "stderr",
     "output_type": "stream",
     "text": [
      "/usr/local/lib/python3.12/site-packages/leidenalg/VertexPartition.py:388: SyntaxWarning: invalid escape sequence '\\m'\n",
      "  \"\"\" Implements modularity. This quality function is well-defined only for positive edge weights.\n",
      "/usr/local/lib/python3.12/site-packages/leidenalg/VertexPartition.py:761: SyntaxWarning: invalid escape sequence '\\m'\n",
      "  \"\"\" Implements Reichardt and Bornholdt's Potts model with a configuration null model.\n",
      "/usr/local/lib/python3.12/site-packages/leidenalg/Optimiser.py:7: SyntaxWarning: invalid escape sequence '\\g'\n",
      "  \"\"\" Class for doing community detection using the Leiden algorithm.\n",
      "/usr/local/lib/python3.12/site-packages/leidenalg/Optimiser.py:305: SyntaxWarning: invalid escape sequence '\\s'\n",
      "  \"\"\" Optimise the given partitions simultaneously.\n"
     ]
    },
    {
     "name": "stderr",
     "output_type": "stream",
     "text": [
      "/usr/local/lib/python3.12/site-packages/pyro/ops/stats.py:514: SyntaxWarning: invalid escape sequence '\\g'\n",
      "  \"\"\"\n"
     ]
    }
   ],
   "source": [
    "import os\n",
    "import tempfile\n",
    "\n",
    "import anndata\n",
    "import scanpy as sc\n",
    "import scvi\n",
    "import seaborn as sns\n",
    "import torch\n",
    "from scvi.hub import HubMetadata, HubModel, HubModelCardHelper"
   ]
  },
  {
   "cell_type": "code",
   "execution_count": 3,
   "id": "79bd75bc",
   "metadata": {
    "execution": {
     "iopub.execute_input": "2024-09-22T12:32:13.322568Z",
     "iopub.status.busy": "2024-09-22T12:32:13.322199Z",
     "iopub.status.idle": "2024-09-22T12:32:13.325789Z",
     "shell.execute_reply": "2024-09-22T12:32:13.325560Z"
    }
   },
   "outputs": [
    {
     "name": "stderr",
     "output_type": "stream",
     "text": [
      "Seed set to 0\n"
     ]
    },
    {
     "name": "stdout",
     "output_type": "stream",
     "text": [
      "Last run with scvi-tools version: 1.1.6\n"
     ]
    }
   ],
   "source": [
    "scvi.settings.seed = 0\n",
    "print(\"Last run with scvi-tools version:\", scvi.__version__)"
   ]
  },
  {
   "cell_type": "markdown",
   "id": "c081c241",
   "metadata": {},
   "source": [
    "```{note}\n",
    "You can modify `save_dir` below to change where the data files for this tutorial are saved.\n",
    "```"
   ]
  },
  {
   "cell_type": "code",
   "execution_count": 4,
   "id": "6246bd73",
   "metadata": {
    "execution": {
     "iopub.execute_input": "2024-09-22T12:32:13.326734Z",
     "iopub.status.busy": "2024-09-22T12:32:13.326637Z",
     "iopub.status.idle": "2024-09-22T12:32:13.338909Z",
     "shell.execute_reply": "2024-09-22T12:32:13.338692Z"
    }
   },
   "outputs": [],
   "source": [
    "sc.set_figure_params(figsize=(6, 6), frameon=False)\n",
    "sns.set_theme()\n",
    "torch.set_float32_matmul_precision(\"high\")\n",
    "save_dir = tempfile.TemporaryDirectory()\n",
    "\n",
    "%config InlineBackend.print_figure_kwargs={\"facecolor\": \"w\"}\n",
    "%config InlineBackend.figure_format=\"retina\""
   ]
  },
  {
   "attachments": {},
   "cell_type": "markdown",
   "id": "845a6dd6",
   "metadata": {},
   "source": [
    "## Imports\n",
    "\n",
    "Let's start by adding the Python imports we need."
   ]
  },
  {
   "attachments": {},
   "cell_type": "markdown",
   "id": "691c5b05",
   "metadata": {},
   "source": [
    "## Pretrain a demo model\n",
    "\n",
    "Let's pretrain a model on some synthetic data which we'll use to upload to the scvi-hub later."
   ]
  },
  {
   "cell_type": "code",
   "execution_count": 5,
   "id": "cd28b094",
   "metadata": {
    "execution": {
     "iopub.execute_input": "2024-09-22T12:32:13.340508Z",
     "iopub.status.busy": "2024-09-22T12:32:13.340415Z",
     "iopub.status.idle": "2024-09-22T12:32:13.903415Z",
     "shell.execute_reply": "2024-09-22T12:32:13.903129Z"
    }
   },
   "outputs": [
    {
     "name": "stderr",
     "output_type": "stream",
     "text": [
      "GPU available: True (cuda), used: True\n"
     ]
    },
    {
     "name": "stderr",
     "output_type": "stream",
     "text": [
      "TPU available: False, using: 0 TPU cores\n"
     ]
    },
    {
     "name": "stderr",
     "output_type": "stream",
     "text": [
      "HPU available: False, using: 0 HPUs\n"
     ]
    },
    {
     "name": "stderr",
     "output_type": "stream",
     "text": [
      "LOCAL_RANK: 0 - CUDA_VISIBLE_DEVICES: [0]\n"
     ]
    },
    {
     "name": "stderr",
     "output_type": "stream",
     "text": [
      "/usr/local/lib/python3.12/site-packages/lightning/pytorch/trainer/connectors/data_connector.py:424: The 'train_dataloader' does not have many workers which may be a bottleneck. Consider increasing the value of the `num_workers` argument` to `num_workers=63` in the `DataLoader` to improve performance.\n",
      "/usr/local/lib/python3.12/site-packages/lightning/pytorch/loops/fit_loop.py:298: The number of training batches (3) is smaller than the logging interval Trainer(log_every_n_steps=10). Set a lower value for log_every_n_steps if you want to see logs for the training epoch.\n"
     ]
    },
    {
     "data": {
      "application/vnd.jupyter.widget-view+json": {
       "model_id": "f4c6db9206e94a4a936e790bb8a1cc07",
       "version_major": 2,
       "version_minor": 0
      },
      "text/plain": [
       "Training:   0%|          | 0/1 [00:00<?, ?it/s]"
      ]
     },
     "metadata": {},
     "output_type": "display_data"
    },
    {
     "name": "stderr",
     "output_type": "stream",
     "text": [
      "`Trainer.fit` stopped: `max_epochs=1` reached.\n"
     ]
    }
   ],
   "source": [
    "model_path = os.path.join(save_dir.name, \"scvi_hub_upload\")\n",
    "\n",
    "adata = scvi.data.synthetic_iid()\n",
    "scvi.model.SCVI.setup_anndata(adata)\n",
    "model = scvi.model.SCVI(adata)\n",
    "model.train(1)\n",
    "model.save(model_path, save_anndata=True, overwrite=True)"
   ]
  },
  {
   "attachments": {},
   "cell_type": "markdown",
   "id": "ac5fdf39",
   "metadata": {},
   "source": [
    "## Model Card and Metadata\n",
    "\n",
    "To upload pretrained models, you'll need to create an instance of the `HubModel` class and then simply call its `push_to_huggingface_hub` method.\n",
    "\n",
    "As you can see from the API reference, the `HubModel` init function requires metadata and a Model Card. There are a few ways you can provide these:\n",
    "\n",
    "- The metadata can be either an instance of the `HubMetadata` class that contains the required metadata for this model, or a path to a JSON file on disk where this metadata can be read from.\n",
    "- The Model Card can be  an instance of the `HubModelCardHelper` class created for this model, or an instance of the HF [Model Card](https://huggingface.co/docs/huggingface_hub/package_reference/cards#huggingface_hub.ModelCard) object, or a path to a Markdown file on disk where the model card can be read from.\n",
    "  - You can also use the `HubModelCardHelper` class to create a Model Card from the scvi-tools template, then save it on disk and change it as you wish before passing its path into the `HubModel` class.\n",
    "\n",
    "Here we'll see how to create the HubMetadata and a Model Card from the data on disk."
   ]
  },
  {
   "cell_type": "code",
   "execution_count": 6,
   "id": "89938623",
   "metadata": {
    "execution": {
     "iopub.execute_input": "2024-09-22T12:32:13.905059Z",
     "iopub.status.busy": "2024-09-22T12:32:13.904968Z",
     "iopub.status.idle": "2024-09-22T12:32:13.916700Z",
     "shell.execute_reply": "2024-09-22T12:32:13.916368Z"
    }
   },
   "outputs": [
    {
     "name": "stdout",
     "output_type": "stream",
     "text": [
      "\u001b[34mINFO    \u001b[0m File \u001b[35m/tmp/tmp9ep5qg92/scvi_hub_upload/\u001b[0m\u001b[95mmodel.pt\u001b[0m already downloaded                                         \n"
     ]
    },
    {
     "name": "stdout",
     "output_type": "stream",
     "text": [
      "\u001b[34mINFO    \u001b[0m File \u001b[35m/tmp/tmp9ep5qg92/scvi_hub_upload/\u001b[0m\u001b[95mmodel.pt\u001b[0m already downloaded                                         \n"
     ]
    },
    {
     "name": "stderr",
     "output_type": "stream",
     "text": [
      "/usr/local/lib/python3.12/site-packages/scvi/model/base/_save_load.py:76: FutureWarning: You are using `torch.load` with `weights_only=False` (the current default value), which uses the default pickle module implicitly. It is possible to construct malicious pickle data which will execute arbitrary code during unpickling (See https://github.com/pytorch/pytorch/blob/main/SECURITY.md#untrusted-models for more details). In a future release, the default value for `weights_only` will be flipped to `True`. This limits the functions that could be executed during unpickling. Arbitrary objects will no longer be allowed to be loaded via this mode unless they are explicitly allowlisted by the user via `torch.serialization.add_safe_globals`. We recommend you start setting `weights_only=True` for any use case where you don't have full control of the loaded file. Please open an issue on GitHub for any issues related to this experimental feature.\n",
      "  model = torch.load(model_path, map_location=map_location)\n",
      "/usr/local/lib/python3.12/site-packages/scvi/model/base/_save_load.py:76: FutureWarning: You are using `torch.load` with `weights_only=False` (the current default value), which uses the default pickle module implicitly. It is possible to construct malicious pickle data which will execute arbitrary code during unpickling (See https://github.com/pytorch/pytorch/blob/main/SECURITY.md#untrusted-models for more details). In a future release, the default value for `weights_only` will be flipped to `True`. This limits the functions that could be executed during unpickling. Arbitrary objects will no longer be allowed to be loaded via this mode unless they are explicitly allowlisted by the user via `torch.serialization.add_safe_globals`. We recommend you start setting `weights_only=True` for any use case where you don't have full control of the loaded file. Please open an issue on GitHub for any issues related to this experimental feature.\n",
      "  model = torch.load(model_path, map_location=map_location)\n"
     ]
    }
   ],
   "source": [
    "hm = HubMetadata.from_dir(model_path, anndata_version=anndata.__version__)\n",
    "\n",
    "hmch = HubModelCardHelper.from_dir(\n",
    "    model_path,\n",
    "    license_info=\"cc-by-4.0\",\n",
    "    anndata_version=anndata.__version__,\n",
    "    data_modalities=[\"rna\", \"protein\"],\n",
    "    data_is_annotated=False,\n",
    "    description=\"This is a demo model used during upload demo.\",\n",
    "    references=\"None.\",\n",
    ")"
   ]
  },
  {
   "cell_type": "code",
   "execution_count": 7,
   "id": "a5f1e8b3",
   "metadata": {
    "execution": {
     "iopub.execute_input": "2024-09-22T12:32:13.917705Z",
     "iopub.status.busy": "2024-09-22T12:32:13.917617Z",
     "iopub.status.idle": "2024-09-22T12:32:13.919598Z",
     "shell.execute_reply": "2024-09-22T12:32:13.919408Z"
    }
   },
   "outputs": [
    {
     "name": "stdout",
     "output_type": "stream",
     "text": [
      "---\n",
      "library_name: scvi-tools\n",
      "license: cc-by-4.0\n",
      "tags:\n",
      "- biology\n",
      "- genomics\n",
      "- single-cell\n",
      "- model_cls_name:SCVI\n",
      "- scvi_version:1.1.6\n",
      "- anndata_version:0.10.9\n",
      "- modality:rna\n",
      "- modality:protein\n",
      "- annotated:False\n",
      "---\n",
      "\n",
      "# Description\n",
      "\n",
      "This is a demo model used during upload demo.\n",
      "\n",
      "# Model properties\n",
      "\n",
      "Many model properties are in the model tags. Some more are listed below.\n",
      "\n",
      "**model_init_params**:\n",
      "```json\n",
      "{\n",
      "    \"n_hidden\": 128,\n",
      "    \"n_latent\": 10,\n",
      "    \"n_layers\": 1,\n",
      "    \"dropout_rate\": 0.1,\n",
      "    \"dispersion\": \"gene\",\n",
      "    \"gene_likelihood\": \"zinb\",\n",
      "    \"latent_distribution\": \"normal\"\n",
      "}\n",
      "```\n",
      "\n",
      "**model_setup_anndata_args**:\n",
      "```json\n",
      "{\n",
      "    \"layer\": null,\n",
      "    \"batch_key\": null,\n",
      "    \"labels_key\": null,\n",
      "    \"size_factor_key\": null,\n",
      "    \"categorical_covariate_keys\": null,\n",
      "    \"continuous_covariate_keys\": null\n",
      "}\n",
      "```\n",
      "\n",
      "**model_summary_stats**:\n",
      "|\u001b[1m \u001b[0m\u001b[1m    Summary Stat Key    \u001b[0m\u001b[1m \u001b[0m|\u001b[1m \u001b[0m\u001b[1mValue\u001b[0m\u001b[1m \u001b[0m|\n",
      "|--------------------------|-------|\n",
      "|\u001b[94m \u001b[0m\u001b[94m        n_batch         \u001b[0m\u001b[94m \u001b[0m|\u001b[35m \u001b[0m\u001b[35m  1  \u001b[0m\u001b[35m \u001b[0m|\n",
      "|\u001b[94m \u001b[0m\u001b[94m        n_cells         \u001b[0m\u001b[94m \u001b[0m|\u001b[35m \u001b[0m\u001b[35m 400 \u001b[0m\u001b[35m \u001b[0m|\n",
      "|\u001b[94m \u001b[0m\u001b[94mn_extra_categorical_covs\u001b[0m\u001b[94m \u001b[0m|\u001b[35m \u001b[0m\u001b[35m  0  \u001b[0m\u001b[35m \u001b[0m|\n",
      "|\u001b[94m \u001b[0m\u001b[94mn_extra_continuous_covs \u001b[0m\u001b[94m \u001b[0m|\u001b[35m \u001b[0m\u001b[35m  0  \u001b[0m\u001b[35m \u001b[0m|\n",
      "|\u001b[94m \u001b[0m\u001b[94m        n_labels        \u001b[0m\u001b[94m \u001b[0m|\u001b[35m \u001b[0m\u001b[35m  1  \u001b[0m\u001b[35m \u001b[0m|\n",
      "|\u001b[94m \u001b[0m\u001b[94m         n_vars         \u001b[0m\u001b[94m \u001b[0m|\u001b[35m \u001b[0m\u001b[35m 100 \u001b[0m\u001b[35m \u001b[0m|\n",
      "\n",
      "**model_data_registry**:\n",
      "|\u001b[1m \u001b[0m\u001b[1mRegistry Key\u001b[0m\u001b[1m \u001b[0m|\u001b[1m \u001b[0m\u001b[1m   scvi-tools Location   \u001b[0m\u001b[1m \u001b[0m|\n",
      "|--------------|---------------------------|\n",
      "|\u001b[94m \u001b[0m\u001b[94m     X      \u001b[0m\u001b[94m \u001b[0m|\u001b[35m \u001b[0m\u001b[35m         adata.X         \u001b[0m\u001b[35m \u001b[0m|\n",
      "|\u001b[94m \u001b[0m\u001b[94m   batch    \u001b[0m\u001b[94m \u001b[0m|\u001b[35m \u001b[0m\u001b[35madata.obs['_scvi_batch'] \u001b[0m\u001b[35m \u001b[0m|\n",
      "|\u001b[94m \u001b[0m\u001b[94m   labels   \u001b[0m\u001b[94m \u001b[0m|\u001b[35m \u001b[0m\u001b[35madata.obs['_scvi_labels']\u001b[0m\u001b[35m \u001b[0m|\n",
      "\n",
      "**model_parent_module**: scvi.model\n",
      "\n",
      "**data_is_minified**: False\n",
      "\n",
      "# Training data\n",
      "\n",
      "This is an optional link to where the training data is stored if it is too large\n",
      "to host on the huggingface Model hub.\n",
      "\n",
      "<!-- If your model is not uploaded with any data (e.g., minified data) on the Model Hub, then make\n",
      "sure to provide this field if you want users to be able to access your training data. See the\n",
      "scvi-tools documentation for details. -->\n",
      "\n",
      "Training data url: N/A\n",
      "\n",
      "# Training code\n",
      "\n",
      "This is an optional link to the code used to train the model.\n",
      "\n",
      "Training code url: N/A\n",
      "\n",
      "# References\n",
      "\n",
      "None.\n"
     ]
    }
   ],
   "source": [
    "print(hmch.model_card.content)"
   ]
  },
  {
   "attachments": {},
   "cell_type": "markdown",
   "id": "7e908647",
   "metadata": {},
   "source": [
    "Note: Suppose I wanted to change the content a little bit. To do that, I'd save the card to disk, change it manually as I wish, and then pass its path to `HubModel`.\n",
    "\n",
    "```python\n",
    "hmch.model_card.save(\n",
    "    \"local/my_model_card.md\"\n",
    ")  # then change the markdown file on disk...\n",
    "```"
   ]
  },
  {
   "attachments": {},
   "cell_type": "markdown",
   "id": "16e5668c",
   "metadata": {},
   "source": [
    "## Create a `HubModel` and upload it\n",
    "\n",
    "Now we can create the HubModel and push it to the HF Model Hub:"
   ]
  },
  {
   "cell_type": "code",
   "execution_count": 8,
   "id": "ca123133",
   "metadata": {
    "execution": {
     "iopub.execute_input": "2024-09-22T12:32:13.920610Z",
     "iopub.status.busy": "2024-09-22T12:32:13.920406Z",
     "iopub.status.idle": "2024-09-22T12:32:13.934852Z",
     "shell.execute_reply": "2024-09-22T12:32:13.934663Z"
    }
   },
   "outputs": [
    {
     "name": "stdout",
     "output_type": "stream",
     "text": [
      "HubModel with:\n",
      "local_dir: /tmp/tmp9ep5qg92/scvi_hub_upload\n",
      "model loaded? No\n",
      "adata loaded? No\n",
      "large_training_adata loaded? No\n",
      "metadata:\n",
      "HubMetadata(scvi_version='1.1.6', anndata_version='0.10.9', model_cls_name='SCVI', training_data_url=None, model_parent_module='scvi.model')\n",
      "model_card:\n"
     ]
    },
    {
     "data": {
      "text/html": [
       "<pre style=\"white-space:pre;overflow-x:auto;line-height:normal;font-family:Menlo,'DejaVu Sans Mono',consolas,'Courier New',monospace\"><span style=\"color: #808000; text-decoration-color: #808000\">───────────────────────────────────────────────────────────────────────────────────────────────────────────────────</span>\n",
       "library_name: scvi-tools                                                                                           \n",
       "\n",
       "license: cc-by-4.0                                                                                                 \n",
       "\n",
       "tags:                                                                                                              \n",
       "\n",
       "<span style=\"color: #808000; text-decoration-color: #808000; font-weight: bold\"> • </span>biology                                                                                                         \n",
       "<span style=\"color: #808000; text-decoration-color: #808000; font-weight: bold\"> • </span>genomics                                                                                                        \n",
       "<span style=\"color: #808000; text-decoration-color: #808000; font-weight: bold\"> • </span>single-cell                                                                                                     \n",
       "<span style=\"color: #808000; text-decoration-color: #808000; font-weight: bold\"> • </span>model_cls_name:SCVI                                                                                             \n",
       "<span style=\"color: #808000; text-decoration-color: #808000; font-weight: bold\"> • </span>scvi_version:1.1.6                                                                                              \n",
       "<span style=\"color: #808000; text-decoration-color: #808000; font-weight: bold\"> • </span>anndata_version:0.10.9                                                                                          \n",
       "<span style=\"color: #808000; text-decoration-color: #808000; font-weight: bold\"> • </span>modality:rna                                                                                                    \n",
       "<span style=\"color: #808000; text-decoration-color: #808000; font-weight: bold\"> • </span>modality:protein                                                                                                \n",
       "<span style=\"color: #808000; text-decoration-color: #808000; font-weight: bold\"> • </span>annotated:False                                                                                                 \n",
       "\n",
       "<span style=\"color: #808000; text-decoration-color: #808000\">───────────────────────────────────────────────────────────────────────────────────────────────────────────────────</span>\n",
       "┏━━━━━━━━━━━━━━━━━━━━━━━━━━━━━━━━━━━━━━━━━━━━━━━━━━━━━━━━━━━━━━━━━━━━━━━━━━━━━━━━━━━━━━━━━━━━━━━━━━━━━━━━━━━━━━━━━┓\n",
       "┃                                                   <span style=\"font-weight: bold\">Description</span>                                                   ┃\n",
       "┗━━━━━━━━━━━━━━━━━━━━━━━━━━━━━━━━━━━━━━━━━━━━━━━━━━━━━━━━━━━━━━━━━━━━━━━━━━━━━━━━━━━━━━━━━━━━━━━━━━━━━━━━━━━━━━━━━┛\n",
       "\n",
       "This is a demo model used during upload demo.                                                                      \n",
       "\n",
       "┏━━━━━━━━━━━━━━━━━━━━━━━━━━━━━━━━━━━━━━━━━━━━━━━━━━━━━━━━━━━━━━━━━━━━━━━━━━━━━━━━━━━━━━━━━━━━━━━━━━━━━━━━━━━━━━━━━┓\n",
       "┃                                                <span style=\"font-weight: bold\">Model properties</span>                                                 ┃\n",
       "┗━━━━━━━━━━━━━━━━━━━━━━━━━━━━━━━━━━━━━━━━━━━━━━━━━━━━━━━━━━━━━━━━━━━━━━━━━━━━━━━━━━━━━━━━━━━━━━━━━━━━━━━━━━━━━━━━━┛\n",
       "\n",
       "Many model properties are in the model tags. Some more are listed below.                                           \n",
       "\n",
       "<span style=\"font-weight: bold\">model_init_params</span>:                                                                                                 \n",
       "\n",
       "<span style=\"background-color: #272822\">                                                                                                                   </span>\n",
       "<span style=\"background-color: #272822\">                                                                                                                   </span>\n",
       "<span style=\"background-color: #272822\"> </span><span style=\"color: #f8f8f2; text-decoration-color: #f8f8f2; background-color: #272822\">{</span><span style=\"background-color: #272822\">                                                                                                                 </span>\n",
       "<span style=\"background-color: #272822\">                                                                                                                   </span>\n",
       "<span style=\"background-color: #272822\"> </span><span style=\"color: #f8f8f2; text-decoration-color: #f8f8f2; background-color: #272822\">    </span><span style=\"color: #ff4689; text-decoration-color: #ff4689; background-color: #272822\">\"n_hidden\"</span><span style=\"color: #f8f8f2; text-decoration-color: #f8f8f2; background-color: #272822\">: </span><span style=\"color: #ae81ff; text-decoration-color: #ae81ff; background-color: #272822\">128</span><span style=\"color: #f8f8f2; text-decoration-color: #f8f8f2; background-color: #272822\">,</span><span style=\"background-color: #272822\">                                                                                              </span>\n",
       "<span style=\"background-color: #272822\">                                                                                                                   </span>\n",
       "<span style=\"background-color: #272822\"> </span><span style=\"color: #f8f8f2; text-decoration-color: #f8f8f2; background-color: #272822\">    </span><span style=\"color: #ff4689; text-decoration-color: #ff4689; background-color: #272822\">\"n_latent\"</span><span style=\"color: #f8f8f2; text-decoration-color: #f8f8f2; background-color: #272822\">: </span><span style=\"color: #ae81ff; text-decoration-color: #ae81ff; background-color: #272822\">10</span><span style=\"color: #f8f8f2; text-decoration-color: #f8f8f2; background-color: #272822\">,</span><span style=\"background-color: #272822\">                                                                                               </span>\n",
       "<span style=\"background-color: #272822\">                                                                                                                   </span>\n",
       "<span style=\"background-color: #272822\"> </span><span style=\"color: #f8f8f2; text-decoration-color: #f8f8f2; background-color: #272822\">    </span><span style=\"color: #ff4689; text-decoration-color: #ff4689; background-color: #272822\">\"n_layers\"</span><span style=\"color: #f8f8f2; text-decoration-color: #f8f8f2; background-color: #272822\">: </span><span style=\"color: #ae81ff; text-decoration-color: #ae81ff; background-color: #272822\">1</span><span style=\"color: #f8f8f2; text-decoration-color: #f8f8f2; background-color: #272822\">,</span><span style=\"background-color: #272822\">                                                                                                </span>\n",
       "<span style=\"background-color: #272822\">                                                                                                                   </span>\n",
       "<span style=\"background-color: #272822\"> </span><span style=\"color: #f8f8f2; text-decoration-color: #f8f8f2; background-color: #272822\">    </span><span style=\"color: #ff4689; text-decoration-color: #ff4689; background-color: #272822\">\"dropout_rate\"</span><span style=\"color: #f8f8f2; text-decoration-color: #f8f8f2; background-color: #272822\">: </span><span style=\"color: #ae81ff; text-decoration-color: #ae81ff; background-color: #272822\">0.1</span><span style=\"color: #f8f8f2; text-decoration-color: #f8f8f2; background-color: #272822\">,</span><span style=\"background-color: #272822\">                                                                                          </span>\n",
       "<span style=\"background-color: #272822\">                                                                                                                   </span>\n",
       "<span style=\"background-color: #272822\"> </span><span style=\"color: #f8f8f2; text-decoration-color: #f8f8f2; background-color: #272822\">    </span><span style=\"color: #ff4689; text-decoration-color: #ff4689; background-color: #272822\">\"dispersion\"</span><span style=\"color: #f8f8f2; text-decoration-color: #f8f8f2; background-color: #272822\">: </span><span style=\"color: #e6db74; text-decoration-color: #e6db74; background-color: #272822\">\"gene\"</span><span style=\"color: #f8f8f2; text-decoration-color: #f8f8f2; background-color: #272822\">,</span><span style=\"background-color: #272822\">                                                                                         </span>\n",
       "<span style=\"background-color: #272822\">                                                                                                                   </span>\n",
       "<span style=\"background-color: #272822\"> </span><span style=\"color: #f8f8f2; text-decoration-color: #f8f8f2; background-color: #272822\">    </span><span style=\"color: #ff4689; text-decoration-color: #ff4689; background-color: #272822\">\"gene_likelihood\"</span><span style=\"color: #f8f8f2; text-decoration-color: #f8f8f2; background-color: #272822\">: </span><span style=\"color: #e6db74; text-decoration-color: #e6db74; background-color: #272822\">\"zinb\"</span><span style=\"color: #f8f8f2; text-decoration-color: #f8f8f2; background-color: #272822\">,</span><span style=\"background-color: #272822\">                                                                                    </span>\n",
       "<span style=\"background-color: #272822\">                                                                                                                   </span>\n",
       "<span style=\"background-color: #272822\"> </span><span style=\"color: #f8f8f2; text-decoration-color: #f8f8f2; background-color: #272822\">    </span><span style=\"color: #ff4689; text-decoration-color: #ff4689; background-color: #272822\">\"latent_distribution\"</span><span style=\"color: #f8f8f2; text-decoration-color: #f8f8f2; background-color: #272822\">: </span><span style=\"color: #e6db74; text-decoration-color: #e6db74; background-color: #272822\">\"normal\"</span><span style=\"background-color: #272822\">                                                                               </span>\n",
       "<span style=\"background-color: #272822\">                                                                                                                   </span>\n",
       "<span style=\"background-color: #272822\"> </span><span style=\"color: #f8f8f2; text-decoration-color: #f8f8f2; background-color: #272822\">}</span><span style=\"background-color: #272822\">                                                                                                                 </span>\n",
       "<span style=\"background-color: #272822\">                                                                                                                   </span>\n",
       "\n",
       "<span style=\"font-weight: bold\">model_setup_anndata_args</span>:                                                                                          \n",
       "\n",
       "<span style=\"background-color: #272822\">                                                                                                                   </span>\n",
       "<span style=\"background-color: #272822\">                                                                                                                   </span>\n",
       "<span style=\"background-color: #272822\"> </span><span style=\"color: #f8f8f2; text-decoration-color: #f8f8f2; background-color: #272822\">{</span><span style=\"background-color: #272822\">                                                                                                                 </span>\n",
       "<span style=\"background-color: #272822\">                                                                                                                   </span>\n",
       "<span style=\"background-color: #272822\"> </span><span style=\"color: #f8f8f2; text-decoration-color: #f8f8f2; background-color: #272822\">    </span><span style=\"color: #ff4689; text-decoration-color: #ff4689; background-color: #272822\">\"layer\"</span><span style=\"color: #f8f8f2; text-decoration-color: #f8f8f2; background-color: #272822\">: </span><span style=\"color: #66d9ef; text-decoration-color: #66d9ef; background-color: #272822\">null</span><span style=\"color: #f8f8f2; text-decoration-color: #f8f8f2; background-color: #272822\">,</span><span style=\"background-color: #272822\">                                                                                                </span>\n",
       "<span style=\"background-color: #272822\">                                                                                                                   </span>\n",
       "<span style=\"background-color: #272822\"> </span><span style=\"color: #f8f8f2; text-decoration-color: #f8f8f2; background-color: #272822\">    </span><span style=\"color: #ff4689; text-decoration-color: #ff4689; background-color: #272822\">\"batch_key\"</span><span style=\"color: #f8f8f2; text-decoration-color: #f8f8f2; background-color: #272822\">: </span><span style=\"color: #66d9ef; text-decoration-color: #66d9ef; background-color: #272822\">null</span><span style=\"color: #f8f8f2; text-decoration-color: #f8f8f2; background-color: #272822\">,</span><span style=\"background-color: #272822\">                                                                                            </span>\n",
       "<span style=\"background-color: #272822\">                                                                                                                   </span>\n",
       "<span style=\"background-color: #272822\"> </span><span style=\"color: #f8f8f2; text-decoration-color: #f8f8f2; background-color: #272822\">    </span><span style=\"color: #ff4689; text-decoration-color: #ff4689; background-color: #272822\">\"labels_key\"</span><span style=\"color: #f8f8f2; text-decoration-color: #f8f8f2; background-color: #272822\">: </span><span style=\"color: #66d9ef; text-decoration-color: #66d9ef; background-color: #272822\">null</span><span style=\"color: #f8f8f2; text-decoration-color: #f8f8f2; background-color: #272822\">,</span><span style=\"background-color: #272822\">                                                                                           </span>\n",
       "<span style=\"background-color: #272822\">                                                                                                                   </span>\n",
       "<span style=\"background-color: #272822\"> </span><span style=\"color: #f8f8f2; text-decoration-color: #f8f8f2; background-color: #272822\">    </span><span style=\"color: #ff4689; text-decoration-color: #ff4689; background-color: #272822\">\"size_factor_key\"</span><span style=\"color: #f8f8f2; text-decoration-color: #f8f8f2; background-color: #272822\">: </span><span style=\"color: #66d9ef; text-decoration-color: #66d9ef; background-color: #272822\">null</span><span style=\"color: #f8f8f2; text-decoration-color: #f8f8f2; background-color: #272822\">,</span><span style=\"background-color: #272822\">                                                                                      </span>\n",
       "<span style=\"background-color: #272822\">                                                                                                                   </span>\n",
       "<span style=\"background-color: #272822\"> </span><span style=\"color: #f8f8f2; text-decoration-color: #f8f8f2; background-color: #272822\">    </span><span style=\"color: #ff4689; text-decoration-color: #ff4689; background-color: #272822\">\"categorical_covariate_keys\"</span><span style=\"color: #f8f8f2; text-decoration-color: #f8f8f2; background-color: #272822\">: </span><span style=\"color: #66d9ef; text-decoration-color: #66d9ef; background-color: #272822\">null</span><span style=\"color: #f8f8f2; text-decoration-color: #f8f8f2; background-color: #272822\">,</span><span style=\"background-color: #272822\">                                                                           </span>\n",
       "<span style=\"background-color: #272822\">                                                                                                                   </span>\n",
       "<span style=\"background-color: #272822\"> </span><span style=\"color: #f8f8f2; text-decoration-color: #f8f8f2; background-color: #272822\">    </span><span style=\"color: #ff4689; text-decoration-color: #ff4689; background-color: #272822\">\"continuous_covariate_keys\"</span><span style=\"color: #f8f8f2; text-decoration-color: #f8f8f2; background-color: #272822\">: </span><span style=\"color: #66d9ef; text-decoration-color: #66d9ef; background-color: #272822\">null</span><span style=\"background-color: #272822\">                                                                             </span>\n",
       "<span style=\"background-color: #272822\">                                                                                                                   </span>\n",
       "<span style=\"background-color: #272822\"> </span><span style=\"color: #f8f8f2; text-decoration-color: #f8f8f2; background-color: #272822\">}</span><span style=\"background-color: #272822\">                                                                                                                 </span>\n",
       "<span style=\"background-color: #272822\">                                                                                                                   </span>\n",
       "\n",
       "<span style=\"font-weight: bold\">model_summary_stats</span>:                                                                                               \n",
       "\n",
       "|\u001b[1m \u001b[0m\u001b[1m    Summary Stat Key    \u001b[0m\u001b[1m \u001b[0m|\u001b[1m \u001b[0m\u001b[1mValue\u001b[0m\u001b[1m \u001b[0m|                                           \n",
       "\n",
       "|--------------------------|-------|                                                                               \n",
       "\n",
       "|\u001b[94m \u001b[0m\u001b[94m        n_batch         \u001b[0m\u001b[94m \u001b[0m|\u001b[35m \u001b[0m\u001b[35m  1  \u001b[0m\u001b[35m \u001b[0m|                                     \n",
       "\n",
       "|\u001b[94m \u001b[0m\u001b[94m        n_cells         \u001b[0m\u001b[94m \u001b[0m|\u001b[35m \u001b[0m\u001b[35m 400 \u001b[0m\u001b[35m \u001b[0m|                                     \n",
       "\n",
       "|\u001b[94m \u001b[0m\u001b[94mn_extra_categorical_covs\u001b[0m\u001b[94m \u001b[0m|\u001b[35m \u001b[0m\u001b[35m  0  \u001b[0m\u001b[35m \u001b[0m|                                     \n",
       "\n",
       "|\u001b[94m \u001b[0m\u001b[94mn_extra_continuous_covs \u001b[0m\u001b[94m \u001b[0m|\u001b[35m \u001b[0m\u001b[35m  0  \u001b[0m\u001b[35m \u001b[0m|                                     \n",
       "\n",
       "|\u001b[94m \u001b[0m\u001b[94m        n_labels        \u001b[0m\u001b[94m \u001b[0m|\u001b[35m \u001b[0m\u001b[35m  1  \u001b[0m\u001b[35m \u001b[0m|                                     \n",
       "\n",
       "|\u001b[94m \u001b[0m\u001b[94m         n_vars         \u001b[0m\u001b[94m \u001b[0m|\u001b[35m \u001b[0m\u001b[35m 100 \u001b[0m\u001b[35m \u001b[0m|                                     \n",
       "\n",
       "<span style=\"font-weight: bold\">model_data_registry</span>:                                                                                               \n",
       "\n",
       "|\u001b[1m \u001b[0m\u001b[1mRegistry Key\u001b[0m\u001b[1m \u001b[0m|\u001b[1m \u001b[0m\u001b[1m   scvi-tools Location   \u001b[0m\u001b[1m \u001b[0m|                                   \n",
       "\n",
       "|--------------|---------------------------|                                                                       \n",
       "\n",
       "|\u001b[94m \u001b[0m\u001b[94m     X      \u001b[0m\u001b[94m \u001b[0m|\u001b[35m \u001b[0m\u001b[35m         adata.X         \u001b[0m\u001b[35m \u001b[0m|                             \n",
       "\n",
       "|\u001b[94m \u001b[0m\u001b[94m   batch    \u001b[0m\u001b[94m \u001b[0m|\u001b[35m \u001b[0m\u001b[35madata.obs['_scvi_batch'] \u001b[0m\u001b[35m \u001b[0m|                             \n",
       "\n",
       "|\u001b[94m \u001b[0m\u001b[94m   labels   \u001b[0m\u001b[94m \u001b[0m|\u001b[35m \u001b[0m\u001b[35madata.obs['_scvi_labels']\u001b[0m\u001b[35m \u001b[0m|                             \n",
       "\n",
       "<span style=\"font-weight: bold\">model_parent_module</span>: scvi.model                                                                                    \n",
       "\n",
       "<span style=\"font-weight: bold\">data_is_minified</span>: False                                                                                            \n",
       "\n",
       "┏━━━━━━━━━━━━━━━━━━━━━━━━━━━━━━━━━━━━━━━━━━━━━━━━━━━━━━━━━━━━━━━━━━━━━━━━━━━━━━━━━━━━━━━━━━━━━━━━━━━━━━━━━━━━━━━━━┓\n",
       "┃                                                  <span style=\"font-weight: bold\">Training data</span>                                                  ┃\n",
       "┗━━━━━━━━━━━━━━━━━━━━━━━━━━━━━━━━━━━━━━━━━━━━━━━━━━━━━━━━━━━━━━━━━━━━━━━━━━━━━━━━━━━━━━━━━━━━━━━━━━━━━━━━━━━━━━━━━┛\n",
       "\n",
       "This is an optional link to where the training data is stored if it is too large                                   \n",
       "\n",
       "to host on the huggingface Model hub.                                                                              \n",
       "\n",
       "\n",
       "Training data url: N/A                                                                                             \n",
       "\n",
       "┏━━━━━━━━━━━━━━━━━━━━━━━━━━━━━━━━━━━━━━━━━━━━━━━━━━━━━━━━━━━━━━━━━━━━━━━━━━━━━━━━━━━━━━━━━━━━━━━━━━━━━━━━━━━━━━━━━┓\n",
       "┃                                                  <span style=\"font-weight: bold\">Training code</span>                                                  ┃\n",
       "┗━━━━━━━━━━━━━━━━━━━━━━━━━━━━━━━━━━━━━━━━━━━━━━━━━━━━━━━━━━━━━━━━━━━━━━━━━━━━━━━━━━━━━━━━━━━━━━━━━━━━━━━━━━━━━━━━━┛\n",
       "\n",
       "This is an optional link to the code used to train the model.                                                      \n",
       "\n",
       "Training code url: N/A                                                                                             \n",
       "\n",
       "┏━━━━━━━━━━━━━━━━━━━━━━━━━━━━━━━━━━━━━━━━━━━━━━━━━━━━━━━━━━━━━━━━━━━━━━━━━━━━━━━━━━━━━━━━━━━━━━━━━━━━━━━━━━━━━━━━━┓\n",
       "┃                                                   <span style=\"font-weight: bold\">References</span>                                                    ┃\n",
       "┗━━━━━━━━━━━━━━━━━━━━━━━━━━━━━━━━━━━━━━━━━━━━━━━━━━━━━━━━━━━━━━━━━━━━━━━━━━━━━━━━━━━━━━━━━━━━━━━━━━━━━━━━━━━━━━━━━┛\n",
       "\n",
       "None.                                                                                                              \n",
       "</pre>\n"
      ],
      "text/plain": [
       "\u001b[33m───────────────────────────────────────────────────────────────────────────────────────────────────────────────────\u001b[0m\n",
       "library_name: scvi-tools                                                                                           \n",
       "\n",
       "license: cc-by-4.0                                                                                                 \n",
       "\n",
       "tags:                                                                                                              \n",
       "\n",
       "\u001b[1;33m • \u001b[0mbiology                                                                                                         \n",
       "\u001b[1;33m • \u001b[0mgenomics                                                                                                        \n",
       "\u001b[1;33m • \u001b[0msingle-cell                                                                                                     \n",
       "\u001b[1;33m • \u001b[0mmodel_cls_name:SCVI                                                                                             \n",
       "\u001b[1;33m • \u001b[0mscvi_version:1.1.6                                                                                              \n",
       "\u001b[1;33m • \u001b[0manndata_version:0.10.9                                                                                          \n",
       "\u001b[1;33m • \u001b[0mmodality:rna                                                                                                    \n",
       "\u001b[1;33m • \u001b[0mmodality:protein                                                                                                \n",
       "\u001b[1;33m • \u001b[0mannotated:False                                                                                                 \n",
       "\n",
       "\u001b[33m───────────────────────────────────────────────────────────────────────────────────────────────────────────────────\u001b[0m\n",
       "┏━━━━━━━━━━━━━━━━━━━━━━━━━━━━━━━━━━━━━━━━━━━━━━━━━━━━━━━━━━━━━━━━━━━━━━━━━━━━━━━━━━━━━━━━━━━━━━━━━━━━━━━━━━━━━━━━━┓\n",
       "┃                                                   \u001b[1mDescription\u001b[0m                                                   ┃\n",
       "┗━━━━━━━━━━━━━━━━━━━━━━━━━━━━━━━━━━━━━━━━━━━━━━━━━━━━━━━━━━━━━━━━━━━━━━━━━━━━━━━━━━━━━━━━━━━━━━━━━━━━━━━━━━━━━━━━━┛\n",
       "\n",
       "This is a demo model used during upload demo.                                                                      \n",
       "\n",
       "┏━━━━━━━━━━━━━━━━━━━━━━━━━━━━━━━━━━━━━━━━━━━━━━━━━━━━━━━━━━━━━━━━━━━━━━━━━━━━━━━━━━━━━━━━━━━━━━━━━━━━━━━━━━━━━━━━━┓\n",
       "┃                                                \u001b[1mModel properties\u001b[0m                                                 ┃\n",
       "┗━━━━━━━━━━━━━━━━━━━━━━━━━━━━━━━━━━━━━━━━━━━━━━━━━━━━━━━━━━━━━━━━━━━━━━━━━━━━━━━━━━━━━━━━━━━━━━━━━━━━━━━━━━━━━━━━━┛\n",
       "\n",
       "Many model properties are in the model tags. Some more are listed below.                                           \n",
       "\n",
       "\u001b[1mmodel_init_params\u001b[0m:                                                                                                 \n",
       "\n",
       "\u001b[48;2;39;40;34m                                                                                                                   \u001b[0m\n",
       "\u001b[48;2;39;40;34m \u001b[0m\u001b[48;2;39;40;34m                                                                                                                 \u001b[0m\u001b[48;2;39;40;34m \u001b[0m\n",
       "\u001b[48;2;39;40;34m \u001b[0m\u001b[38;2;248;248;242;48;2;39;40;34m{\u001b[0m\u001b[48;2;39;40;34m                                                                                                                \u001b[0m\u001b[48;2;39;40;34m \u001b[0m\n",
       "\u001b[48;2;39;40;34m \u001b[0m\u001b[48;2;39;40;34m                                                                                                                 \u001b[0m\u001b[48;2;39;40;34m \u001b[0m\n",
       "\u001b[48;2;39;40;34m \u001b[0m\u001b[38;2;248;248;242;48;2;39;40;34m    \u001b[0m\u001b[38;2;255;70;137;48;2;39;40;34m\"n_hidden\"\u001b[0m\u001b[38;2;248;248;242;48;2;39;40;34m:\u001b[0m\u001b[38;2;248;248;242;48;2;39;40;34m \u001b[0m\u001b[38;2;174;129;255;48;2;39;40;34m128\u001b[0m\u001b[38;2;248;248;242;48;2;39;40;34m,\u001b[0m\u001b[48;2;39;40;34m                                                                                             \u001b[0m\u001b[48;2;39;40;34m \u001b[0m\n",
       "\u001b[48;2;39;40;34m \u001b[0m\u001b[48;2;39;40;34m                                                                                                                 \u001b[0m\u001b[48;2;39;40;34m \u001b[0m\n",
       "\u001b[48;2;39;40;34m \u001b[0m\u001b[38;2;248;248;242;48;2;39;40;34m    \u001b[0m\u001b[38;2;255;70;137;48;2;39;40;34m\"n_latent\"\u001b[0m\u001b[38;2;248;248;242;48;2;39;40;34m:\u001b[0m\u001b[38;2;248;248;242;48;2;39;40;34m \u001b[0m\u001b[38;2;174;129;255;48;2;39;40;34m10\u001b[0m\u001b[38;2;248;248;242;48;2;39;40;34m,\u001b[0m\u001b[48;2;39;40;34m                                                                                              \u001b[0m\u001b[48;2;39;40;34m \u001b[0m\n",
       "\u001b[48;2;39;40;34m \u001b[0m\u001b[48;2;39;40;34m                                                                                                                 \u001b[0m\u001b[48;2;39;40;34m \u001b[0m\n",
       "\u001b[48;2;39;40;34m \u001b[0m\u001b[38;2;248;248;242;48;2;39;40;34m    \u001b[0m\u001b[38;2;255;70;137;48;2;39;40;34m\"n_layers\"\u001b[0m\u001b[38;2;248;248;242;48;2;39;40;34m:\u001b[0m\u001b[38;2;248;248;242;48;2;39;40;34m \u001b[0m\u001b[38;2;174;129;255;48;2;39;40;34m1\u001b[0m\u001b[38;2;248;248;242;48;2;39;40;34m,\u001b[0m\u001b[48;2;39;40;34m                                                                                               \u001b[0m\u001b[48;2;39;40;34m \u001b[0m\n",
       "\u001b[48;2;39;40;34m \u001b[0m\u001b[48;2;39;40;34m                                                                                                                 \u001b[0m\u001b[48;2;39;40;34m \u001b[0m\n",
       "\u001b[48;2;39;40;34m \u001b[0m\u001b[38;2;248;248;242;48;2;39;40;34m    \u001b[0m\u001b[38;2;255;70;137;48;2;39;40;34m\"dropout_rate\"\u001b[0m\u001b[38;2;248;248;242;48;2;39;40;34m:\u001b[0m\u001b[38;2;248;248;242;48;2;39;40;34m \u001b[0m\u001b[38;2;174;129;255;48;2;39;40;34m0.1\u001b[0m\u001b[38;2;248;248;242;48;2;39;40;34m,\u001b[0m\u001b[48;2;39;40;34m                                                                                         \u001b[0m\u001b[48;2;39;40;34m \u001b[0m\n",
       "\u001b[48;2;39;40;34m \u001b[0m\u001b[48;2;39;40;34m                                                                                                                 \u001b[0m\u001b[48;2;39;40;34m \u001b[0m\n",
       "\u001b[48;2;39;40;34m \u001b[0m\u001b[38;2;248;248;242;48;2;39;40;34m    \u001b[0m\u001b[38;2;255;70;137;48;2;39;40;34m\"dispersion\"\u001b[0m\u001b[38;2;248;248;242;48;2;39;40;34m:\u001b[0m\u001b[38;2;248;248;242;48;2;39;40;34m \u001b[0m\u001b[38;2;230;219;116;48;2;39;40;34m\"gene\"\u001b[0m\u001b[38;2;248;248;242;48;2;39;40;34m,\u001b[0m\u001b[48;2;39;40;34m                                                                                        \u001b[0m\u001b[48;2;39;40;34m \u001b[0m\n",
       "\u001b[48;2;39;40;34m \u001b[0m\u001b[48;2;39;40;34m                                                                                                                 \u001b[0m\u001b[48;2;39;40;34m \u001b[0m\n",
       "\u001b[48;2;39;40;34m \u001b[0m\u001b[38;2;248;248;242;48;2;39;40;34m    \u001b[0m\u001b[38;2;255;70;137;48;2;39;40;34m\"gene_likelihood\"\u001b[0m\u001b[38;2;248;248;242;48;2;39;40;34m:\u001b[0m\u001b[38;2;248;248;242;48;2;39;40;34m \u001b[0m\u001b[38;2;230;219;116;48;2;39;40;34m\"zinb\"\u001b[0m\u001b[38;2;248;248;242;48;2;39;40;34m,\u001b[0m\u001b[48;2;39;40;34m                                                                                   \u001b[0m\u001b[48;2;39;40;34m \u001b[0m\n",
       "\u001b[48;2;39;40;34m \u001b[0m\u001b[48;2;39;40;34m                                                                                                                 \u001b[0m\u001b[48;2;39;40;34m \u001b[0m\n",
       "\u001b[48;2;39;40;34m \u001b[0m\u001b[38;2;248;248;242;48;2;39;40;34m    \u001b[0m\u001b[38;2;255;70;137;48;2;39;40;34m\"latent_distribution\"\u001b[0m\u001b[38;2;248;248;242;48;2;39;40;34m:\u001b[0m\u001b[38;2;248;248;242;48;2;39;40;34m \u001b[0m\u001b[38;2;230;219;116;48;2;39;40;34m\"normal\"\u001b[0m\u001b[48;2;39;40;34m                                                                              \u001b[0m\u001b[48;2;39;40;34m \u001b[0m\n",
       "\u001b[48;2;39;40;34m \u001b[0m\u001b[48;2;39;40;34m                                                                                                                 \u001b[0m\u001b[48;2;39;40;34m \u001b[0m\n",
       "\u001b[48;2;39;40;34m \u001b[0m\u001b[38;2;248;248;242;48;2;39;40;34m}\u001b[0m\u001b[48;2;39;40;34m                                                                                                                \u001b[0m\u001b[48;2;39;40;34m \u001b[0m\n",
       "\u001b[48;2;39;40;34m                                                                                                                   \u001b[0m\n",
       "\n",
       "\u001b[1mmodel_setup_anndata_args\u001b[0m:                                                                                          \n",
       "\n",
       "\u001b[48;2;39;40;34m                                                                                                                   \u001b[0m\n",
       "\u001b[48;2;39;40;34m \u001b[0m\u001b[48;2;39;40;34m                                                                                                                 \u001b[0m\u001b[48;2;39;40;34m \u001b[0m\n",
       "\u001b[48;2;39;40;34m \u001b[0m\u001b[38;2;248;248;242;48;2;39;40;34m{\u001b[0m\u001b[48;2;39;40;34m                                                                                                                \u001b[0m\u001b[48;2;39;40;34m \u001b[0m\n",
       "\u001b[48;2;39;40;34m \u001b[0m\u001b[48;2;39;40;34m                                                                                                                 \u001b[0m\u001b[48;2;39;40;34m \u001b[0m\n",
       "\u001b[48;2;39;40;34m \u001b[0m\u001b[38;2;248;248;242;48;2;39;40;34m    \u001b[0m\u001b[38;2;255;70;137;48;2;39;40;34m\"layer\"\u001b[0m\u001b[38;2;248;248;242;48;2;39;40;34m:\u001b[0m\u001b[38;2;248;248;242;48;2;39;40;34m \u001b[0m\u001b[38;2;102;217;239;48;2;39;40;34mnull\u001b[0m\u001b[38;2;248;248;242;48;2;39;40;34m,\u001b[0m\u001b[48;2;39;40;34m                                                                                               \u001b[0m\u001b[48;2;39;40;34m \u001b[0m\n",
       "\u001b[48;2;39;40;34m \u001b[0m\u001b[48;2;39;40;34m                                                                                                                 \u001b[0m\u001b[48;2;39;40;34m \u001b[0m\n",
       "\u001b[48;2;39;40;34m \u001b[0m\u001b[38;2;248;248;242;48;2;39;40;34m    \u001b[0m\u001b[38;2;255;70;137;48;2;39;40;34m\"batch_key\"\u001b[0m\u001b[38;2;248;248;242;48;2;39;40;34m:\u001b[0m\u001b[38;2;248;248;242;48;2;39;40;34m \u001b[0m\u001b[38;2;102;217;239;48;2;39;40;34mnull\u001b[0m\u001b[38;2;248;248;242;48;2;39;40;34m,\u001b[0m\u001b[48;2;39;40;34m                                                                                           \u001b[0m\u001b[48;2;39;40;34m \u001b[0m\n",
       "\u001b[48;2;39;40;34m \u001b[0m\u001b[48;2;39;40;34m                                                                                                                 \u001b[0m\u001b[48;2;39;40;34m \u001b[0m\n",
       "\u001b[48;2;39;40;34m \u001b[0m\u001b[38;2;248;248;242;48;2;39;40;34m    \u001b[0m\u001b[38;2;255;70;137;48;2;39;40;34m\"labels_key\"\u001b[0m\u001b[38;2;248;248;242;48;2;39;40;34m:\u001b[0m\u001b[38;2;248;248;242;48;2;39;40;34m \u001b[0m\u001b[38;2;102;217;239;48;2;39;40;34mnull\u001b[0m\u001b[38;2;248;248;242;48;2;39;40;34m,\u001b[0m\u001b[48;2;39;40;34m                                                                                          \u001b[0m\u001b[48;2;39;40;34m \u001b[0m\n",
       "\u001b[48;2;39;40;34m \u001b[0m\u001b[48;2;39;40;34m                                                                                                                 \u001b[0m\u001b[48;2;39;40;34m \u001b[0m\n",
       "\u001b[48;2;39;40;34m \u001b[0m\u001b[38;2;248;248;242;48;2;39;40;34m    \u001b[0m\u001b[38;2;255;70;137;48;2;39;40;34m\"size_factor_key\"\u001b[0m\u001b[38;2;248;248;242;48;2;39;40;34m:\u001b[0m\u001b[38;2;248;248;242;48;2;39;40;34m \u001b[0m\u001b[38;2;102;217;239;48;2;39;40;34mnull\u001b[0m\u001b[38;2;248;248;242;48;2;39;40;34m,\u001b[0m\u001b[48;2;39;40;34m                                                                                     \u001b[0m\u001b[48;2;39;40;34m \u001b[0m\n",
       "\u001b[48;2;39;40;34m \u001b[0m\u001b[48;2;39;40;34m                                                                                                                 \u001b[0m\u001b[48;2;39;40;34m \u001b[0m\n",
       "\u001b[48;2;39;40;34m \u001b[0m\u001b[38;2;248;248;242;48;2;39;40;34m    \u001b[0m\u001b[38;2;255;70;137;48;2;39;40;34m\"categorical_covariate_keys\"\u001b[0m\u001b[38;2;248;248;242;48;2;39;40;34m:\u001b[0m\u001b[38;2;248;248;242;48;2;39;40;34m \u001b[0m\u001b[38;2;102;217;239;48;2;39;40;34mnull\u001b[0m\u001b[38;2;248;248;242;48;2;39;40;34m,\u001b[0m\u001b[48;2;39;40;34m                                                                          \u001b[0m\u001b[48;2;39;40;34m \u001b[0m\n",
       "\u001b[48;2;39;40;34m \u001b[0m\u001b[48;2;39;40;34m                                                                                                                 \u001b[0m\u001b[48;2;39;40;34m \u001b[0m\n",
       "\u001b[48;2;39;40;34m \u001b[0m\u001b[38;2;248;248;242;48;2;39;40;34m    \u001b[0m\u001b[38;2;255;70;137;48;2;39;40;34m\"continuous_covariate_keys\"\u001b[0m\u001b[38;2;248;248;242;48;2;39;40;34m:\u001b[0m\u001b[38;2;248;248;242;48;2;39;40;34m \u001b[0m\u001b[38;2;102;217;239;48;2;39;40;34mnull\u001b[0m\u001b[48;2;39;40;34m                                                                            \u001b[0m\u001b[48;2;39;40;34m \u001b[0m\n",
       "\u001b[48;2;39;40;34m \u001b[0m\u001b[48;2;39;40;34m                                                                                                                 \u001b[0m\u001b[48;2;39;40;34m \u001b[0m\n",
       "\u001b[48;2;39;40;34m \u001b[0m\u001b[38;2;248;248;242;48;2;39;40;34m}\u001b[0m\u001b[48;2;39;40;34m                                                                                                                \u001b[0m\u001b[48;2;39;40;34m \u001b[0m\n",
       "\u001b[48;2;39;40;34m                                                                                                                   \u001b[0m\n",
       "\n",
       "\u001b[1mmodel_summary_stats\u001b[0m:                                                                                               \n",
       "\n",
       "|\u001b[1m \u001b[0m\u001b[1m    Summary Stat Key    \u001b[0m\u001b[1m \u001b[0m|\u001b[1m \u001b[0m\u001b[1mValue\u001b[0m\u001b[1m \u001b[0m|                                           \n",
       "\n",
       "|--------------------------|-------|                                                                               \n",
       "\n",
       "|\u001b[94m \u001b[0m\u001b[94m        n_batch         \u001b[0m\u001b[94m \u001b[0m|\u001b[35m \u001b[0m\u001b[35m  1  \u001b[0m\u001b[35m \u001b[0m|                                     \n",
       "\n",
       "|\u001b[94m \u001b[0m\u001b[94m        n_cells         \u001b[0m\u001b[94m \u001b[0m|\u001b[35m \u001b[0m\u001b[35m 400 \u001b[0m\u001b[35m \u001b[0m|                                     \n",
       "\n",
       "|\u001b[94m \u001b[0m\u001b[94mn_extra_categorical_covs\u001b[0m\u001b[94m \u001b[0m|\u001b[35m \u001b[0m\u001b[35m  0  \u001b[0m\u001b[35m \u001b[0m|                                     \n",
       "\n",
       "|\u001b[94m \u001b[0m\u001b[94mn_extra_continuous_covs \u001b[0m\u001b[94m \u001b[0m|\u001b[35m \u001b[0m\u001b[35m  0  \u001b[0m\u001b[35m \u001b[0m|                                     \n",
       "\n",
       "|\u001b[94m \u001b[0m\u001b[94m        n_labels        \u001b[0m\u001b[94m \u001b[0m|\u001b[35m \u001b[0m\u001b[35m  1  \u001b[0m\u001b[35m \u001b[0m|                                     \n",
       "\n",
       "|\u001b[94m \u001b[0m\u001b[94m         n_vars         \u001b[0m\u001b[94m \u001b[0m|\u001b[35m \u001b[0m\u001b[35m 100 \u001b[0m\u001b[35m \u001b[0m|                                     \n",
       "\n",
       "\u001b[1mmodel_data_registry\u001b[0m:                                                                                               \n",
       "\n",
       "|\u001b[1m \u001b[0m\u001b[1mRegistry Key\u001b[0m\u001b[1m \u001b[0m|\u001b[1m \u001b[0m\u001b[1m   scvi-tools Location   \u001b[0m\u001b[1m \u001b[0m|                                   \n",
       "\n",
       "|--------------|---------------------------|                                                                       \n",
       "\n",
       "|\u001b[94m \u001b[0m\u001b[94m     X      \u001b[0m\u001b[94m \u001b[0m|\u001b[35m \u001b[0m\u001b[35m         adata.X         \u001b[0m\u001b[35m \u001b[0m|                             \n",
       "\n",
       "|\u001b[94m \u001b[0m\u001b[94m   batch    \u001b[0m\u001b[94m \u001b[0m|\u001b[35m \u001b[0m\u001b[35madata.obs['_scvi_batch'] \u001b[0m\u001b[35m \u001b[0m|                             \n",
       "\n",
       "|\u001b[94m \u001b[0m\u001b[94m   labels   \u001b[0m\u001b[94m \u001b[0m|\u001b[35m \u001b[0m\u001b[35madata.obs['_scvi_labels']\u001b[0m\u001b[35m \u001b[0m|                             \n",
       "\n",
       "\u001b[1mmodel_parent_module\u001b[0m: scvi.model                                                                                    \n",
       "\n",
       "\u001b[1mdata_is_minified\u001b[0m: False                                                                                            \n",
       "\n",
       "┏━━━━━━━━━━━━━━━━━━━━━━━━━━━━━━━━━━━━━━━━━━━━━━━━━━━━━━━━━━━━━━━━━━━━━━━━━━━━━━━━━━━━━━━━━━━━━━━━━━━━━━━━━━━━━━━━━┓\n",
       "┃                                                  \u001b[1mTraining data\u001b[0m                                                  ┃\n",
       "┗━━━━━━━━━━━━━━━━━━━━━━━━━━━━━━━━━━━━━━━━━━━━━━━━━━━━━━━━━━━━━━━━━━━━━━━━━━━━━━━━━━━━━━━━━━━━━━━━━━━━━━━━━━━━━━━━━┛\n",
       "\n",
       "This is an optional link to where the training data is stored if it is too large                                   \n",
       "\n",
       "to host on the huggingface Model hub.                                                                              \n",
       "\n",
       "\n",
       "Training data url: N/A                                                                                             \n",
       "\n",
       "┏━━━━━━━━━━━━━━━━━━━━━━━━━━━━━━━━━━━━━━━━━━━━━━━━━━━━━━━━━━━━━━━━━━━━━━━━━━━━━━━━━━━━━━━━━━━━━━━━━━━━━━━━━━━━━━━━━┓\n",
       "┃                                                  \u001b[1mTraining code\u001b[0m                                                  ┃\n",
       "┗━━━━━━━━━━━━━━━━━━━━━━━━━━━━━━━━━━━━━━━━━━━━━━━━━━━━━━━━━━━━━━━━━━━━━━━━━━━━━━━━━━━━━━━━━━━━━━━━━━━━━━━━━━━━━━━━━┛\n",
       "\n",
       "This is an optional link to the code used to train the model.                                                      \n",
       "\n",
       "Training code url: N/A                                                                                             \n",
       "\n",
       "┏━━━━━━━━━━━━━━━━━━━━━━━━━━━━━━━━━━━━━━━━━━━━━━━━━━━━━━━━━━━━━━━━━━━━━━━━━━━━━━━━━━━━━━━━━━━━━━━━━━━━━━━━━━━━━━━━━┓\n",
       "┃                                                   \u001b[1mReferences\u001b[0m                                                    ┃\n",
       "┗━━━━━━━━━━━━━━━━━━━━━━━━━━━━━━━━━━━━━━━━━━━━━━━━━━━━━━━━━━━━━━━━━━━━━━━━━━━━━━━━━━━━━━━━━━━━━━━━━━━━━━━━━━━━━━━━━┛\n",
       "\n",
       "None.                                                                                                              \n"
      ]
     },
     "metadata": {},
     "output_type": "display_data"
    },
    {
     "data": {
      "text/plain": []
     },
     "execution_count": 8,
     "metadata": {},
     "output_type": "execute_result"
    }
   ],
   "source": [
    "hmo = HubModel(model_path, metadata=hm, model_card=hmch)\n",
    "hmo"
   ]
  },
  {
   "attachments": {},
   "cell_type": "markdown",
   "id": "fd766b32",
   "metadata": {},
   "source": [
    "To upload, you need to call:\n",
    "\n",
    "```python\n",
    "hmo.push_to_huggingface_hub(\n",
    "    repo_name=repo_name, repo_token=repo_token, repo_create=True\n",
    ")\n",
    "```\n",
    "\n",
    "We won't do it here but will explain the parameters you need to pass:\n",
    "\n",
    "- `repo_name`: The name/id of your repo.\n",
    "- `repo_token`: The token you need to authenticate yourself to the HF Model Hub. *It must have \"write\" permissions.* You can get this from your HF account page. Read [this](https://huggingface.co/docs/hub/security-tokens) article to find out how.\n",
    "  - The token can either be passed in as plain text or as the full path to a file on disk where the token is stored.\n",
    "- `repo_create`: Whether you want scvi-tools to create the repo for you. If you want to create the repo yourself on the HF Model Hub or if it already exists, you can set this to False."
   ]
  },
  {
   "attachments": {},
   "cell_type": "markdown",
   "id": "10767d6d",
   "metadata": {},
   "source": [
    "## Large training data\n",
    "\n",
    "So far, all models we've seen have contained the dataset in the HF Hub Model object. However, in some cases, this is not possible — or desirable — if the training data is too large.\n",
    "For all files large than 5GB, you are prompted to store your training data on a separate storage and provide its URL to the HubModel. This will alert scvi-tools as to where to pull the data from when loading it (or the model) into memory.\n",
    "\n",
    "There are four possible scenarios. Here we're assuming that the minified data is \\<5GB which is very likely to not be the case.\n",
    "\n",
    "1. Your training data is **\\<5GB** and it is **not minified**.\\\n",
    "   👉 In this case, both your model and data will be uploaded to the same HF Model.\n",
    "1. Your training data is **\\<5GB** and it is **minified**.\\\n",
    "   👉 In this case, both your model and minified data will be uploaded to the same HF Model. Optionally, you can provide a link to your full (i.e., non-minified) training data.\n",
    "1. Your training data is **>=5GB** and it is **not minified**.\\\n",
    "   👉 In this case, only your model will be uploaded to the HF Model. If you want to use your training data, then it is required to provide a link to it (this must be in the required metadata file, and can be present in the model card as well). When needed, scvi-tools will automatically download your training data from the link you registered.\n",
    "1. Your training data is **>=5GB** and it is **minified**.\\\n",
    "   👉 In this case, both your model and minified data will be uploaded to the same HF Model. Optionally, you can provide a link to your full (i.e., non-minified) training data.\n",
    "\n",
    "It is highly recommended to try to minify your data if possible. Please refer to our Minification tutorial for how to do that."
   ]
  },
  {
   "attachments": {},
   "cell_type": "markdown",
   "id": "c4638c08",
   "metadata": {},
   "source": [
    "```{note}\n",
    "It is always possible to use another dataset than your training data. You can set `model.adata` prior to saving. However, the convention with scvi-hub is to provide access to the training data (full or minified form), so that users can reproduce the results of the model and perform their own analyses on the same data.\n",
    "```"
   ]
  },
  {
   "attachments": {},
   "cell_type": "markdown",
   "id": "ad4e6e48",
   "metadata": {},
   "source": [
    "## Model evaluation\n",
    "\n",
    "We recommend that you include some evaluation results in your Model Card. One way to do this is by using our scvi-criticism Python package. It provides a simple API to evaluate the goodness of fit of your model and generate various visualizations. Read more about it in the [scvi-criticism documentation](https://scvi-criticism.readthedocs.io/)."
   ]
  }
 ],
 "metadata": {
  "kernelspec": {
   "display_name": "scvi-hub",
   "language": "python",
   "name": "python3"
  },
  "language_info": {
   "codemirror_mode": {
    "name": "ipython",
    "version": 3
   },
   "file_extension": ".py",
   "mimetype": "text/x-python",
   "name": "python",
   "nbconvert_exporter": "python",
   "pygments_lexer": "ipython3",
   "version": "3.12.6"
  },
  "vscode": {
   "interpreter": {
    "hash": "c7ad0fb529154325adae80858adf69263139128ad86800d0218f40cb1980a4c2"
   }
  },
  "widgets": {
   "application/vnd.jupyter.widget-state+json": {
    "state": {
     "05d8bce13fc348daa84848434d3c041f": {
      "model_module": "@jupyter-widgets/controls",
      "model_module_version": "2.0.0",
      "model_name": "HTMLStyleModel",
      "state": {
       "_model_module": "@jupyter-widgets/controls",
       "_model_module_version": "2.0.0",
       "_model_name": "HTMLStyleModel",
       "_view_count": null,
       "_view_module": "@jupyter-widgets/base",
       "_view_module_version": "2.0.0",
       "_view_name": "StyleView",
       "background": null,
       "description_width": "",
       "font_size": null,
       "text_color": null
      }
     },
     "087ee90c0b3947aba5fd669b6e0d99fb": {
      "model_module": "@jupyter-widgets/base",
      "model_module_version": "2.0.0",
      "model_name": "LayoutModel",
      "state": {
       "_model_module": "@jupyter-widgets/base",
       "_model_module_version": "2.0.0",
       "_model_name": "LayoutModel",
       "_view_count": null,
       "_view_module": "@jupyter-widgets/base",
       "_view_module_version": "2.0.0",
       "_view_name": "LayoutView",
       "align_content": null,
       "align_items": null,
       "align_self": null,
       "border_bottom": null,
       "border_left": null,
       "border_right": null,
       "border_top": null,
       "bottom": null,
       "display": null,
       "flex": null,
       "flex_flow": null,
       "grid_area": null,
       "grid_auto_columns": null,
       "grid_auto_flow": null,
       "grid_auto_rows": null,
       "grid_column": null,
       "grid_gap": null,
       "grid_row": null,
       "grid_template_areas": null,
       "grid_template_columns": null,
       "grid_template_rows": null,
       "height": null,
       "justify_content": null,
       "justify_items": null,
       "left": null,
       "margin": null,
       "max_height": null,
       "max_width": null,
       "min_height": null,
       "min_width": null,
       "object_fit": null,
       "object_position": null,
       "order": null,
       "overflow": null,
       "padding": null,
       "right": null,
       "top": null,
       "visibility": null,
       "width": null
      }
     },
     "24315885cf754df59e88397023116799": {
      "model_module": "@jupyter-widgets/base",
      "model_module_version": "2.0.0",
      "model_name": "LayoutModel",
      "state": {
       "_model_module": "@jupyter-widgets/base",
       "_model_module_version": "2.0.0",
       "_model_name": "LayoutModel",
       "_view_count": null,
       "_view_module": "@jupyter-widgets/base",
       "_view_module_version": "2.0.0",
       "_view_name": "LayoutView",
       "align_content": null,
       "align_items": null,
       "align_self": null,
       "border_bottom": null,
       "border_left": null,
       "border_right": null,
       "border_top": null,
       "bottom": null,
       "display": null,
       "flex": null,
       "flex_flow": null,
       "grid_area": null,
       "grid_auto_columns": null,
       "grid_auto_flow": null,
       "grid_auto_rows": null,
       "grid_column": null,
       "grid_gap": null,
       "grid_row": null,
       "grid_template_areas": null,
       "grid_template_columns": null,
       "grid_template_rows": null,
       "height": null,
       "justify_content": null,
       "justify_items": null,
       "left": null,
       "margin": null,
       "max_height": null,
       "max_width": null,
       "min_height": null,
       "min_width": null,
       "object_fit": null,
       "object_position": null,
       "order": null,
       "overflow": null,
       "padding": null,
       "right": null,
       "top": null,
       "visibility": null,
       "width": null
      }
     },
     "3cd35d6e40354cb7abd6e016982933d3": {
      "model_module": "@jupyter-widgets/controls",
      "model_module_version": "2.0.0",
      "model_name": "HTMLStyleModel",
      "state": {
       "_model_module": "@jupyter-widgets/controls",
       "_model_module_version": "2.0.0",
       "_model_name": "HTMLStyleModel",
       "_view_count": null,
       "_view_module": "@jupyter-widgets/base",
       "_view_module_version": "2.0.0",
       "_view_name": "StyleView",
       "background": null,
       "description_width": "",
       "font_size": null,
       "text_color": null
      }
     },
     "3d75aceca2034bd5a19638d0096f1333": {
      "model_module": "@jupyter-widgets/controls",
      "model_module_version": "2.0.0",
      "model_name": "FloatProgressModel",
      "state": {
       "_dom_classes": [],
       "_model_module": "@jupyter-widgets/controls",
       "_model_module_version": "2.0.0",
       "_model_name": "FloatProgressModel",
       "_view_count": null,
       "_view_module": "@jupyter-widgets/controls",
       "_view_module_version": "2.0.0",
       "_view_name": "ProgressView",
       "bar_style": "success",
       "description": "",
       "description_allow_html": false,
       "layout": "IPY_MODEL_b30221644c904d088c0fe0c65d33720e",
       "max": 1.0,
       "min": 0.0,
       "orientation": "horizontal",
       "style": "IPY_MODEL_ed68c72fd68d4cb18e07769c29e7023a",
       "tabbable": null,
       "tooltip": null,
       "value": 1.0
      }
     },
     "7d5434f527bb4a0b96f0fba24ffa0384": {
      "model_module": "@jupyter-widgets/controls",
      "model_module_version": "2.0.0",
      "model_name": "HTMLModel",
      "state": {
       "_dom_classes": [],
       "_model_module": "@jupyter-widgets/controls",
       "_model_module_version": "2.0.0",
       "_model_name": "HTMLModel",
       "_view_count": null,
       "_view_module": "@jupyter-widgets/controls",
       "_view_module_version": "2.0.0",
       "_view_name": "HTMLView",
       "description": "",
       "description_allow_html": false,
       "layout": "IPY_MODEL_087ee90c0b3947aba5fd669b6e0d99fb",
       "placeholder": "​",
       "style": "IPY_MODEL_3cd35d6e40354cb7abd6e016982933d3",
       "tabbable": null,
       "tooltip": null,
       "value": " 1/1 [00:00&lt;00:00,  2.60it/s, v_num=1, train_loss_step=334, train_loss_epoch=335]"
      }
     },
     "b30221644c904d088c0fe0c65d33720e": {
      "model_module": "@jupyter-widgets/base",
      "model_module_version": "2.0.0",
      "model_name": "LayoutModel",
      "state": {
       "_model_module": "@jupyter-widgets/base",
       "_model_module_version": "2.0.0",
       "_model_name": "LayoutModel",
       "_view_count": null,
       "_view_module": "@jupyter-widgets/base",
       "_view_module_version": "2.0.0",
       "_view_name": "LayoutView",
       "align_content": null,
       "align_items": null,
       "align_self": null,
       "border_bottom": null,
       "border_left": null,
       "border_right": null,
       "border_top": null,
       "bottom": null,
       "display": null,
       "flex": null,
       "flex_flow": null,
       "grid_area": null,
       "grid_auto_columns": null,
       "grid_auto_flow": null,
       "grid_auto_rows": null,
       "grid_column": null,
       "grid_gap": null,
       "grid_row": null,
       "grid_template_areas": null,
       "grid_template_columns": null,
       "grid_template_rows": null,
       "height": null,
       "justify_content": null,
       "justify_items": null,
       "left": null,
       "margin": null,
       "max_height": null,
       "max_width": null,
       "min_height": null,
       "min_width": null,
       "object_fit": null,
       "object_position": null,
       "order": null,
       "overflow": null,
       "padding": null,
       "right": null,
       "top": null,
       "visibility": null,
       "width": null
      }
     },
     "db9a6e573bee46799ba18a8e798286d6": {
      "model_module": "@jupyter-widgets/base",
      "model_module_version": "2.0.0",
      "model_name": "LayoutModel",
      "state": {
       "_model_module": "@jupyter-widgets/base",
       "_model_module_version": "2.0.0",
       "_model_name": "LayoutModel",
       "_view_count": null,
       "_view_module": "@jupyter-widgets/base",
       "_view_module_version": "2.0.0",
       "_view_name": "LayoutView",
       "align_content": null,
       "align_items": null,
       "align_self": null,
       "border_bottom": null,
       "border_left": null,
       "border_right": null,
       "border_top": null,
       "bottom": null,
       "display": null,
       "flex": null,
       "flex_flow": null,
       "grid_area": null,
       "grid_auto_columns": null,
       "grid_auto_flow": null,
       "grid_auto_rows": null,
       "grid_column": null,
       "grid_gap": null,
       "grid_row": null,
       "grid_template_areas": null,
       "grid_template_columns": null,
       "grid_template_rows": null,
       "height": null,
       "justify_content": null,
       "justify_items": null,
       "left": null,
       "margin": null,
       "max_height": null,
       "max_width": null,
       "min_height": null,
       "min_width": null,
       "object_fit": null,
       "object_position": null,
       "order": null,
       "overflow": null,
       "padding": null,
       "right": null,
       "top": null,
       "visibility": null,
       "width": null
      }
     },
     "ed68c72fd68d4cb18e07769c29e7023a": {
      "model_module": "@jupyter-widgets/controls",
      "model_module_version": "2.0.0",
      "model_name": "ProgressStyleModel",
      "state": {
       "_model_module": "@jupyter-widgets/controls",
       "_model_module_version": "2.0.0",
       "_model_name": "ProgressStyleModel",
       "_view_count": null,
       "_view_module": "@jupyter-widgets/base",
       "_view_module_version": "2.0.0",
       "_view_name": "StyleView",
       "bar_color": null,
       "description_width": ""
      }
     },
     "f44a3d2188764ee2bed57ddc3ac060d6": {
      "model_module": "@jupyter-widgets/controls",
      "model_module_version": "2.0.0",
      "model_name": "HTMLModel",
      "state": {
       "_dom_classes": [],
       "_model_module": "@jupyter-widgets/controls",
       "_model_module_version": "2.0.0",
       "_model_name": "HTMLModel",
       "_view_count": null,
       "_view_module": "@jupyter-widgets/controls",
       "_view_module_version": "2.0.0",
       "_view_name": "HTMLView",
       "description": "",
       "description_allow_html": false,
       "layout": "IPY_MODEL_db9a6e573bee46799ba18a8e798286d6",
       "placeholder": "​",
       "style": "IPY_MODEL_05d8bce13fc348daa84848434d3c041f",
       "tabbable": null,
       "tooltip": null,
       "value": "Epoch 1/1: 100%"
      }
     },
     "f4c6db9206e94a4a936e790bb8a1cc07": {
      "model_module": "@jupyter-widgets/controls",
      "model_module_version": "2.0.0",
      "model_name": "HBoxModel",
      "state": {
       "_dom_classes": [],
       "_model_module": "@jupyter-widgets/controls",
       "_model_module_version": "2.0.0",
       "_model_name": "HBoxModel",
       "_view_count": null,
       "_view_module": "@jupyter-widgets/controls",
       "_view_module_version": "2.0.0",
       "_view_name": "HBoxView",
       "box_style": "",
       "children": [
        "IPY_MODEL_f44a3d2188764ee2bed57ddc3ac060d6",
        "IPY_MODEL_3d75aceca2034bd5a19638d0096f1333",
        "IPY_MODEL_7d5434f527bb4a0b96f0fba24ffa0384"
       ],
       "layout": "IPY_MODEL_24315885cf754df59e88397023116799",
       "tabbable": null,
       "tooltip": null
      }
     }
    },
    "version_major": 2,
    "version_minor": 0
   }
  }
 },
 "nbformat": 4,
 "nbformat_minor": 5
}
