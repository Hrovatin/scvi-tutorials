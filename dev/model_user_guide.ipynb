{
 "cells": [
  {
   "cell_type": "markdown",
   "metadata": {
    "id": "TZEUaYSjC6CZ"
   },
   "source": [
    "# Constructing a high-level model"
   ]
  },
  {
   "cell_type": "markdown",
   "metadata": {},
   "source": [
    "```{note}\n",
    "Running the following cell will install tutorial dependencies on Google Colab only. It will have no effect on environments other than Google Colab.\n",
    "```"
   ]
  },
  {
   "cell_type": "code",
   "execution_count": 1,
   "metadata": {
    "execution": {
     "iopub.execute_input": "2024-09-23T19:15:03.374703Z",
     "iopub.status.busy": "2024-09-23T19:15:03.374467Z",
     "iopub.status.idle": "2024-09-23T19:15:04.381082Z",
     "shell.execute_reply": "2024-09-23T19:15:04.380779Z"
    }
   },
   "outputs": [
    {
     "name": "stdout",
     "output_type": "stream",
     "text": [
      "\u001b[33mWARNING: Running pip as the 'root' user can result in broken permissions and conflicting behaviour with the system package manager, possibly rendering your system unusable.It is recommended to use a virtual environment instead: https://pip.pypa.io/warnings/venv. Use the --root-user-action option if you know what you are doing and want to suppress this warning.\u001b[0m\u001b[33m\r\n",
      "\u001b[0m"
     ]
    },
    {
     "name": "stderr",
     "output_type": "stream",
     "text": [
      "/usr/local/lib/python3.12/site-packages/scvi_colab/_core.py:41: UserWarning: \n",
      "                Not currently in Google Colab environment.\n",
      "\n",
      "                Please run with `run_outside_colab=True` to override.\n",
      "\n",
      "                Returning with no further action.\n",
      "                \n",
      "  warn(\n"
     ]
    }
   ],
   "source": [
    "!pip install --quiet scvi-colab\n",
    "from scvi_colab import install\n",
    "\n",
    "install()"
   ]
  },
  {
   "cell_type": "code",
   "execution_count": 2,
   "metadata": {
    "execution": {
     "iopub.execute_input": "2024-09-23T19:15:04.382508Z",
     "iopub.status.busy": "2024-09-23T19:15:04.382408Z",
     "iopub.status.idle": "2024-09-23T19:15:12.882848Z",
     "shell.execute_reply": "2024-09-23T19:15:12.882478Z"
    },
    "id": "5uAmHirHtUwd"
   },
   "outputs": [
    {
     "name": "stderr",
     "output_type": "stream",
     "text": [
      "/usr/local/lib/python3.12/site-packages/pyro/ops/stats.py:514: SyntaxWarning: invalid escape sequence '\\g'\n",
      "  \"\"\"\n"
     ]
    }
   ],
   "source": [
    "import os\n",
    "import tempfile\n",
    "from collections.abc import Sequence\n",
    "\n",
    "import numpy as np\n",
    "import scvi\n",
    "import torch\n",
    "from anndata import AnnData\n",
    "from scvi import REGISTRY_KEYS\n",
    "from scvi.data import AnnDataManager\n",
    "from scvi.data.fields import (\n",
    "    CategoricalJointObsField,\n",
    "    CategoricalObsField,\n",
    "    LayerField,\n",
    "    NumericalJointObsField,\n",
    "    NumericalObsField,\n",
    ")\n",
    "from scvi.model.base import BaseModelClass, UnsupervisedTrainingMixin, VAEMixin\n",
    "from scvi.module import VAE"
   ]
  },
  {
   "cell_type": "code",
   "execution_count": 3,
   "metadata": {
    "execution": {
     "iopub.execute_input": "2024-09-23T19:15:12.884817Z",
     "iopub.status.busy": "2024-09-23T19:15:12.884518Z",
     "iopub.status.idle": "2024-09-23T19:15:12.887818Z",
     "shell.execute_reply": "2024-09-23T19:15:12.887618Z"
    }
   },
   "outputs": [
    {
     "name": "stderr",
     "output_type": "stream",
     "text": [
      "Seed set to 0\n"
     ]
    },
    {
     "name": "stdout",
     "output_type": "stream",
     "text": [
      "Last run with scvi-tools version: 1.1.6\n"
     ]
    }
   ],
   "source": [
    "scvi.settings.seed = 0\n",
    "print(\"Last run with scvi-tools version:\", scvi.__version__)"
   ]
  },
  {
   "cell_type": "markdown",
   "metadata": {},
   "source": [
    "```{note}\n",
    "You can modify `save_dir` below to change where the data files for this tutorial are saved.\n",
    "```"
   ]
  },
  {
   "cell_type": "code",
   "execution_count": 4,
   "metadata": {
    "execution": {
     "iopub.execute_input": "2024-09-23T19:15:12.888886Z",
     "iopub.status.busy": "2024-09-23T19:15:12.888624Z",
     "iopub.status.idle": "2024-09-23T19:15:12.891987Z",
     "shell.execute_reply": "2024-09-23T19:15:12.891791Z"
    }
   },
   "outputs": [],
   "source": [
    "torch.set_float32_matmul_precision(\"high\")\n",
    "save_dir = tempfile.TemporaryDirectory()\n",
    "\n",
    "%config InlineBackend.print_figure_kwargs={\"facecolor\": \"w\"}\n",
    "%config InlineBackend.figure_format=\"retina\""
   ]
  },
  {
   "cell_type": "markdown",
   "metadata": {
    "id": "J7a98f8MiykA"
   },
   "source": [
    "At this point we have covered\n",
    "\n",
    "1. Data registration via `setup_anndata` and dataloaders via `AnnDataLoader`\n",
    "1. Building a probabilistic model by subclassing `BaseModuleClass`\n",
    "\n",
    "In this tutorial, we will cover the highest-level classes in `scvi-tools`: the model classes. The main purpose of these classes (e.g., `scvi.model.SCVI`) is to wrap the actions of module instantiation, training, and subsequent posterior queries of our module into a convenient interface. These model classes are the fundamental objects driving scientific analysis of data with `scvi-tools`. Out of convention, we will refer to these objects as \"models\" and the lower-level objects presented in the previous tutorial as \"modules\".\n",
    "\n",
    "## A simple model class\n",
    "\n",
    "Here we will walkthrough an example of building the `scvi.model.SCVI` class. We will progressively add functionality to the class."
   ]
  },
  {
   "cell_type": "markdown",
   "metadata": {
    "id": "SUwavqvn0BBk"
   },
   "source": [
    "### Sketch of `BaseModelClass`\n",
    "\n",
    "Let us start by providing a high level overview of `BaseModelClass` that we will inherit. Note that this is pseudocode to provide intuition. We see that `BaseModelClass` contains some unverisally applicable methods, and some private methods (conventionally starting with `_` in Python) that will become useful after training the model."
   ]
  },
  {
   "attachments": {},
   "cell_type": "markdown",
   "metadata": {
    "id": "3_rabB4JoGG3"
   },
   "source": [
    "```python\n",
    "class MyModel(UnsupervisedTrainingMixin, BaseModelClass):\n",
    "    def __init__(self, adata):\n",
    "        # sets some basic attributes like is_trained_\n",
    "        # record the setup_dict registered in the adata\n",
    "        self.adata = adata\n",
    "        self.scvi_setup_dict_ = adata.uns[\"_scvi\"]\n",
    "        self.summary_stats = self.scvi_setup_dict_[\"summary_stats\"]\n",
    "\n",
    "    def _validate_anndata(self, adata):\n",
    "        # check that anndata is equivalent by comparing\n",
    "        # to the initial setup_dict\n",
    "        pass\n",
    "\n",
    "    def _make_dataloader(self, adata):\n",
    "        # return a dataloader to iterate over adata\n",
    "        pass\n",
    "\n",
    "    def train(self):\n",
    "        # Universal train method provided by UnsupservisedTrainingMixin\n",
    "        # BaseModelClass does not come with train\n",
    "        # In general train methods are straightforward to compose manually\n",
    "        pass\n",
    "\n",
    "    def save(self):\n",
    "        # universal save method\n",
    "        # saves modules, anndata setup dict, and attributes ending with _\n",
    "        pass\n",
    "\n",
    "    def load(self):\n",
    "        # universal load method\n",
    "        pass\n",
    "\n",
    "    @classmethod\n",
    "    def setup_anndata(cls, adata):\n",
    "        # anndata registration method\n",
    "        pass\n",
    "```"
   ]
  },
  {
   "cell_type": "markdown",
   "metadata": {
    "id": "4vvYzZa_ukC4"
   },
   "source": [
    "### Baseline version of `SCVI` class\n",
    "\n",
    "Let's now create the simplest possible version of the `SCVI` class. We inherit the `BaseModelClass`, and write our `__init__` method.\n",
    "\n",
    "We take care to do the following:\n",
    "\n",
    "1. Set the `module` attribute to be equal to our `VAE` module, which here is the torch-level version of scVI.\n",
    "1. Add a `_model_summary_string` attr, which will be used as a representation for the model.\n",
    "1. Run `self.init_params_ = self._get_init_params(locals())`, which stores the arguments used to initialize the model, facilitating saving/loading of the model later.\n",
    "\n",
    "To initialize the `VAE`, we can use the information in `self.summary_stats`, which is information that was stored in the anndata object at `setup_anndata()` time. In this example, we have only exposed `n_latent` to users through `SCVI`. In practice, we try to expose only the most relevant parameters, as all other parameters can be accessed by passing `model_kwargs`.\n",
    "\n",
    "Finally, we write the `setup_anndata` class method, which is used to register the appropriate matrices inside the anndata that we will use to load data into the model. This method uses the `AnnDataManager` class to orchestrate the data registration process. More details about the `AnnDataManager` can be learned in our data handling tutorial."
   ]
  },
  {
   "cell_type": "code",
   "execution_count": 5,
   "metadata": {
    "execution": {
     "iopub.execute_input": "2024-09-23T19:15:12.893676Z",
     "iopub.status.busy": "2024-09-23T19:15:12.893498Z",
     "iopub.status.idle": "2024-09-23T19:15:12.896156Z",
     "shell.execute_reply": "2024-09-23T19:15:12.895964Z"
    },
    "id": "Q0zQzJD4jNoV"
   },
   "outputs": [],
   "source": [
    "class SCVI(UnsupervisedTrainingMixin, BaseModelClass):\n",
    "    \"\"\"single-cell Variational Inference [Lopez18]_.\"\"\"\n",
    "\n",
    "    def __init__(\n",
    "        self,\n",
    "        adata: AnnData,\n",
    "        n_latent: int = 10,\n",
    "        **model_kwargs,\n",
    "    ):\n",
    "        super().__init__(adata)\n",
    "\n",
    "        self.module = VAE(\n",
    "            n_input=self.summary_stats[\"n_vars\"],\n",
    "            n_batch=self.summary_stats[\"n_batch\"],\n",
    "            n_latent=n_latent,\n",
    "            **model_kwargs,\n",
    "        )\n",
    "        self._model_summary_string = (\n",
    "            f\"SCVI Model with the following params: \\nn_latent: {n_latent}\"\n",
    "        )\n",
    "        self.init_params_ = self._get_init_params(locals())\n",
    "\n",
    "    @classmethod\n",
    "    def setup_anndata(\n",
    "        cls,\n",
    "        adata: AnnData,\n",
    "        batch_key: str | None = None,\n",
    "        layer: str | None = None,\n",
    "        **kwargs,\n",
    "    ) -> AnnData | None:\n",
    "        setup_method_args = cls._get_setup_method_args(**locals())\n",
    "        anndata_fields = [\n",
    "            LayerField(REGISTRY_KEYS.X_KEY, layer, is_count_data=True),\n",
    "            CategoricalObsField(REGISTRY_KEYS.BATCH_KEY, batch_key),\n",
    "            # Dummy fields required for VAE class.\n",
    "            CategoricalObsField(REGISTRY_KEYS.LABELS_KEY, None),\n",
    "            NumericalObsField(REGISTRY_KEYS.SIZE_FACTOR_KEY, None, required=False),\n",
    "            CategoricalJointObsField(REGISTRY_KEYS.CAT_COVS_KEY, None),\n",
    "            NumericalJointObsField(REGISTRY_KEYS.CONT_COVS_KEY, None),\n",
    "        ]\n",
    "        adata_manager = AnnDataManager(fields=anndata_fields, setup_method_args=setup_method_args)\n",
    "        adata_manager.register_fields(adata, **kwargs)\n",
    "        cls.register_manager(adata_manager)"
   ]
  },
  {
   "cell_type": "markdown",
   "metadata": {
    "id": "-Qw-uCsuwhgO"
   },
   "source": [
    "Now we explore what we can and cannot do with this model. Let's get some data and initialize a `SCVI` instance. Of note, for testing purposes we like to use `scvi.data.synthetic_iid()` which returns a simple, small anndata object that was already run through `setup_anndata()`."
   ]
  },
  {
   "cell_type": "code",
   "execution_count": 6,
   "metadata": {
    "colab": {
     "base_uri": "https://localhost:8080/"
    },
    "execution": {
     "iopub.execute_input": "2024-09-23T19:15:12.897122Z",
     "iopub.status.busy": "2024-09-23T19:15:12.896955Z",
     "iopub.status.idle": "2024-09-23T19:15:12.912351Z",
     "shell.execute_reply": "2024-09-23T19:15:12.912105Z"
    },
    "id": "Tw3DQF9IwftC",
    "outputId": "a5485318-6e8f-413f-cbde-43b0aab7fcba"
   },
   "outputs": [
    {
     "data": {
      "text/plain": [
       "AnnData object with n_obs × n_vars = 400 × 100\n",
       "    obs: 'batch', 'labels'\n",
       "    uns: 'protein_names'\n",
       "    obsm: 'protein_expression', 'accessibility'"
      ]
     },
     "execution_count": 6,
     "metadata": {},
     "output_type": "execute_result"
    }
   ],
   "source": [
    "adata = scvi.data.synthetic_iid()\n",
    "adata"
   ]
  },
  {
   "cell_type": "markdown",
   "metadata": {},
   "source": [
    "Above we saw in the `setup_anndata()` implementation that we ended the function with `cls.register_manager(adata_manager)`. This function stores the newly created `AnnDataManager` instance in a class-specific dictionary called `_setup_adata_manager_store`. Specifically, this maps from UUIDs (specific to each `AnnData` object; stored on `adata.uns[\"_scvi_uuid\"]`) to `AnnDataManager` instances instantiated by that class's `setup_anndata()` function.\n",
    "\n",
    "On model initialization, the model instance retrieves the `AnnDataManager` object specific to the passed in `adata`."
   ]
  },
  {
   "cell_type": "code",
   "execution_count": 7,
   "metadata": {
    "colab": {
     "base_uri": "https://localhost:8080/",
     "height": 230
    },
    "execution": {
     "iopub.execute_input": "2024-09-23T19:15:12.913363Z",
     "iopub.status.busy": "2024-09-23T19:15:12.913278Z",
     "iopub.status.idle": "2024-09-23T19:15:12.920924Z",
     "shell.execute_reply": "2024-09-23T19:15:12.920738Z"
    },
    "id": "cAg0lsNpuCYG",
    "outputId": "553265a8-f2e9-4495-8fcb-513a8e724d7a"
   },
   "outputs": [
    {
     "name": "stdout",
     "output_type": "stream",
     "text": [
      "adata UUID (assigned by setup_anndata): 7a3f9a64-8a46-485d-861e-f568f03d23d1\n",
      "AnnDataManager: <scvi.data._manager.AnnDataManager object at 0x708dedb56c00>\n"
     ]
    },
    {
     "data": {
      "text/html": [
       "<pre style=\"white-space:pre;overflow-x:auto;line-height:normal;font-family:Menlo,'DejaVu Sans Mono',consolas,'Courier New',monospace\">SCVI Model with the following params: \n",
       "n_latent: <span style=\"color: #008080; text-decoration-color: #008080; font-weight: bold\">10</span>\n",
       "Training status: Not Trained\n",
       "</pre>\n"
      ],
      "text/plain": [
       "SCVI Model with the following params: \n",
       "n_latent: \u001b[1;36m10\u001b[0m\n",
       "Training status: Not Trained\n"
      ]
     },
     "metadata": {},
     "output_type": "display_data"
    },
    {
     "data": {
      "text/plain": []
     },
     "execution_count": 7,
     "metadata": {},
     "output_type": "execute_result"
    }
   ],
   "source": [
    "SCVI.setup_anndata(adata, batch_key=\"batch\")\n",
    "print(f\"adata UUID (assigned by setup_anndata): {adata.uns['_scvi_uuid']}\")\n",
    "print(f\"AnnDataManager: {SCVI._setup_adata_manager_store[adata.uns['_scvi_uuid']]}\")\n",
    "model = SCVI(adata)\n",
    "model"
   ]
  },
  {
   "cell_type": "markdown",
   "metadata": {},
   "source": [
    "### More `AnnDataManager` Details"
   ]
  },
  {
   "cell_type": "markdown",
   "metadata": {},
   "source": [
    "The `AnnDataManager` class stores state on data registered with scvi-tools. Since each manager is specific to a single `AnnData`, each model instance has an `AnnDataManager` instance for every `AnnData` object it has interfaced with. In addition to `setup_anndata()`, new `AnnDataManager` objects are created via the `_validate_anndata()` method when called on new `AnnData` objects (not the `AnnData` the model instance was initialized with). `_validate_anndata()` should be called in any method that references data on the `AnnData` object, via the scvi-tools data handling strategy (e.g. `get_latent_representation()`). Any instance-specific `AnnDataManager` objects are stored in a separate class-specific manager store called `_per_instance_manager_store`, which maps model instance UUIDs (assigned on initialization) and `AnnData` UUIDs to `AnnDataManager` instances. This avoids the issue of incorrect `AnnDataManager` retrieval when working with two model instances working over the same `AnnData` object."
   ]
  },
  {
   "cell_type": "code",
   "execution_count": 8,
   "metadata": {
    "execution": {
     "iopub.execute_input": "2024-09-23T19:15:12.922088Z",
     "iopub.status.busy": "2024-09-23T19:15:12.921881Z",
     "iopub.status.idle": "2024-09-23T19:15:12.923647Z",
     "shell.execute_reply": "2024-09-23T19:15:12.923461Z"
    }
   },
   "outputs": [
    {
     "name": "stdout",
     "output_type": "stream",
     "text": [
      "model instance UUID: bf94f90a-2ad9-4586-a049-c155dba65c74\n",
      "adata UUID: 7a3f9a64-8a46-485d-861e-f568f03d23d1\n",
      "AnnDataManager for adata: <scvi.data._manager.AnnDataManager object at 0x708dedb56c00>\n"
     ]
    }
   ],
   "source": [
    "print(f\"model instance UUID: {model.id}\")\n",
    "print(f\"adata UUID: {adata.uns['_scvi_uuid']}\")\n",
    "print(\n",
    "    \"AnnDataManager for adata: \"\n",
    "    f\"{SCVI._per_instance_manager_store[model.id][adata.uns['_scvi_uuid']]}\"\n",
    ")  # { model instance UUID: { adata UUID: AnnDataManager } }"
   ]
  },
  {
   "cell_type": "code",
   "execution_count": 9,
   "metadata": {
    "execution": {
     "iopub.execute_input": "2024-09-23T19:15:12.924466Z",
     "iopub.status.busy": "2024-09-23T19:15:12.924386Z",
     "iopub.status.idle": "2024-09-23T19:15:12.939345Z",
     "shell.execute_reply": "2024-09-23T19:15:12.939161Z"
    }
   },
   "outputs": [
    {
     "name": "stdout",
     "output_type": "stream",
     "text": [
      "\u001b[34mINFO    \u001b[0m Input AnnData not setup with scvi-tools. attempting to transfer AnnData setup                             \n"
     ]
    },
    {
     "data": {
      "text/plain": [
       "AnnData object with n_obs × n_vars = 400 × 100\n",
       "    obs: 'batch', 'labels', '_scvi_batch', '_scvi_labels'\n",
       "    uns: 'protein_names', '_scvi_uuid', '_scvi_manager_uuid'\n",
       "    obsm: 'protein_expression', 'accessibility'"
      ]
     },
     "execution_count": 9,
     "metadata": {},
     "output_type": "execute_result"
    }
   ],
   "source": [
    "adata2 = scvi.data.synthetic_iid()\n",
    "model._validate_anndata(adata2)"
   ]
  },
  {
   "cell_type": "code",
   "execution_count": 10,
   "metadata": {
    "execution": {
     "iopub.execute_input": "2024-09-23T19:15:12.940358Z",
     "iopub.status.busy": "2024-09-23T19:15:12.940275Z",
     "iopub.status.idle": "2024-09-23T19:15:12.941958Z",
     "shell.execute_reply": "2024-09-23T19:15:12.941770Z"
    }
   },
   "outputs": [
    {
     "name": "stdout",
     "output_type": "stream",
     "text": [
      "adata2 UUID: 7a3f9a64-8a46-485d-861e-f568f03d23d1\n",
      "Model instance specific manager store: {'7a3f9a64-8a46-485d-861e-f568f03d23d1': <scvi.data._manager.AnnDataManager object at 0x708dedb56c00>, 'd5f035c9-8fbb-4f78-b41f-9c24797f1d12': <scvi.data._manager.AnnDataManager object at 0x708dee1bb560>}\n"
     ]
    }
   ],
   "source": [
    "print(f\"adata2 UUID: {adata.uns['_scvi_uuid']}\")\n",
    "print(\n",
    "    f\"Model instance specific manager store: {SCVI._per_instance_manager_store[model.id]}\"\n",
    ")  # { model instance UUID: { adata UUID: AnnDataManager } }"
   ]
  },
  {
   "cell_type": "markdown",
   "metadata": {},
   "source": [
    "Additionally, the data registration process can modify or add data on the `AnnData` object directly. As a result, if calls between two models are interleaved, it is possible that we refer to fields created by another model instance's data registration incorrectly. In order to avoid this, `_validate_anndata()` additionally checks the `AnnData` object for an `AnnDataManager`-specific UUID stored in `adata.uns['_scvi_manager_uuid']`. If this UUID is inconsistent with the `AnnDataManager` fetched from the manager store, this means the data registration must be replayed on the `AnnData` object before referencing any data on the `AnnData`. This is automatically done in `_validate_anndata()`.\n",
    "\n",
    "As a result, we can interleave method calls on two model instances without worrying about this clobbering issue."
   ]
  },
  {
   "cell_type": "code",
   "execution_count": 11,
   "metadata": {
    "execution": {
     "iopub.execute_input": "2024-09-23T19:15:12.942892Z",
     "iopub.status.busy": "2024-09-23T19:15:12.942731Z",
     "iopub.status.idle": "2024-09-23T19:15:12.946610Z",
     "shell.execute_reply": "2024-09-23T19:15:12.946415Z"
    }
   },
   "outputs": [
    {
     "name": "stdout",
     "output_type": "stream",
     "text": [
      "Manager UUID: 5892a091-1c7f-4db0-9562-2f38cf71631e\n",
      "Last setup with manager UUID: 5892a091-1c7f-4db0-9562-2f38cf71631e\n",
      "Encoded batch obs field: 0      0\n",
      "1      0\n",
      "2      0\n",
      "3      0\n",
      "4      0\n",
      "      ..\n",
      "395    0\n",
      "396    0\n",
      "397    0\n",
      "398    0\n",
      "399    0\n",
      "Name: _scvi_batch, Length: 400, dtype: int8\n"
     ]
    }
   ],
   "source": [
    "SCVI.setup_anndata(adata, batch_key=None)  # No batch correction.\n",
    "model2 = SCVI(adata)\n",
    "print(f\"Manager UUID: {model2.adata_manager.id}\")\n",
    "print(f\"Last setup with manager UUID: {adata.uns['_scvi_manager_uuid']}\")\n",
    "print(f\"Encoded batch obs field: {adata.obs['_scvi_batch']}\")"
   ]
  },
  {
   "cell_type": "code",
   "execution_count": 12,
   "metadata": {
    "execution": {
     "iopub.execute_input": "2024-09-23T19:15:12.947489Z",
     "iopub.status.busy": "2024-09-23T19:15:12.947408Z",
     "iopub.status.idle": "2024-09-23T19:15:12.949957Z",
     "shell.execute_reply": "2024-09-23T19:15:12.949770Z"
    }
   },
   "outputs": [
    {
     "name": "stdout",
     "output_type": "stream",
     "text": [
      "Manager UUID: 7283c013-a663-41a5-91ef-4ffdc885e51e\n",
      "Last setup with manager UUID: 7283c013-a663-41a5-91ef-4ffdc885e51e\n",
      "Encoded batch obs field: 0      0\n",
      "1      0\n",
      "2      0\n",
      "3      0\n",
      "4      0\n",
      "      ..\n",
      "395    1\n",
      "396    1\n",
      "397    1\n",
      "398    1\n",
      "399    1\n",
      "Name: _scvi_batch, Length: 400, dtype: int8\n"
     ]
    }
   ],
   "source": [
    "model._validate_anndata(adata)  # Replays registration on adata\n",
    "print(f\"Manager UUID: {model.adata_manager.id}\")\n",
    "print(f\"Last setup with manager UUID: {adata.uns['_scvi_manager_uuid']}\")\n",
    "print(f\"Encoded batch obs field: {adata.obs['_scvi_batch']}\")"
   ]
  },
  {
   "cell_type": "markdown",
   "metadata": {
    "id": "iG1AU4cI0Fe1"
   },
   "source": [
    "### The `train` method"
   ]
  },
  {
   "cell_type": "markdown",
   "metadata": {},
   "source": [
    "A model can be trained simply by calling the `train` method."
   ]
  },
  {
   "cell_type": "code",
   "execution_count": 13,
   "metadata": {
    "colab": {
     "base_uri": "https://localhost:8080/"
    },
    "execution": {
     "iopub.execute_input": "2024-09-23T19:15:12.950935Z",
     "iopub.status.busy": "2024-09-23T19:15:12.950728Z",
     "iopub.status.idle": "2024-09-23T19:15:13.601718Z",
     "shell.execute_reply": "2024-09-23T19:15:13.601500Z"
    },
    "id": "vOau9VkQxyIp",
    "outputId": "10865d7f-345b-46cb-9d15-0d15b3aafdb6"
   },
   "outputs": [
    {
     "name": "stderr",
     "output_type": "stream",
     "text": [
      "GPU available: True (cuda), used: True\n"
     ]
    },
    {
     "name": "stderr",
     "output_type": "stream",
     "text": [
      "TPU available: False, using: 0 TPU cores\n"
     ]
    },
    {
     "name": "stderr",
     "output_type": "stream",
     "text": [
      "HPU available: False, using: 0 HPUs\n"
     ]
    },
    {
     "name": "stderr",
     "output_type": "stream",
     "text": [
      "LOCAL_RANK: 0 - CUDA_VISIBLE_DEVICES: [0]\n"
     ]
    },
    {
     "name": "stderr",
     "output_type": "stream",
     "text": [
      "/usr/local/lib/python3.12/site-packages/lightning/pytorch/trainer/connectors/data_connector.py:424: The 'train_dataloader' does not have many workers which may be a bottleneck. Consider increasing the value of the `num_workers` argument` to `num_workers=63` in the `DataLoader` to improve performance.\n",
      "/usr/local/lib/python3.12/site-packages/lightning/pytorch/loops/fit_loop.py:298: The number of training batches (3) is smaller than the logging interval Trainer(log_every_n_steps=10). Set a lower value for log_every_n_steps if you want to see logs for the training epoch.\n"
     ]
    },
    {
     "data": {
      "application/vnd.jupyter.widget-view+json": {
       "model_id": "2cc747efa61e45c484c8e89c9ef0fd8f",
       "version_major": 2,
       "version_minor": 0
      },
      "text/plain": [
       "Training:   0%|          | 0/20 [00:00<?, ?it/s]"
      ]
     },
     "metadata": {},
     "output_type": "display_data"
    },
    {
     "name": "stderr",
     "output_type": "stream",
     "text": [
      "`Trainer.fit` stopped: `max_epochs=20` reached.\n"
     ]
    }
   ],
   "source": [
    "model.train(max_epochs=20)"
   ]
  },
  {
   "cell_type": "markdown",
   "metadata": {
    "id": "EDFKIKMdx-TO"
   },
   "source": [
    "We were able to train this model, as this method is inherited in the class. Let us now take a look at psedocode of the `train` method of `UnsupervisedTrainingMixin`. The function of each of these objects is described in the API reference.\n",
    "\n",
    "```python\n",
    "def train(\n",
    "    self,\n",
    "    max_epochs: Optional[int] = 100,\n",
    "    train_size: float = 0.9,\n",
    "    **kwargs,\n",
    "):\n",
    "    \"\"\"Train the model.\"\"\"\n",
    "    # object to make train/test/val dataloaders\n",
    "    data_splitter = DataSplitter(\n",
    "        self.adata,\n",
    "        train_size=train_size,\n",
    "        validation_size=validation_size,\n",
    "        batch_size=batch_size,\n",
    "    )\n",
    "    # defines optimizers, training step, val step, logged metrics\n",
    "    training_plan = TrainingPlan(\n",
    "        self.module,\n",
    "        len(data_splitter.train_idx),\n",
    "    )\n",
    "    # creates Trainer, pre and post training procedures (Trainer.fit())\n",
    "    runner = TrainRunner(\n",
    "        self,\n",
    "        training_plan=training_plan,\n",
    "        data_splitter=data_splitter,\n",
    "        max_epochs=max_epochs,\n",
    "        **kwargs,\n",
    "    )\n",
    "    return runner()\n",
    "```"
   ]
  },
  {
   "cell_type": "markdown",
   "metadata": {
    "id": "9fT3-7MQ0S6G"
   },
   "source": [
    "We notice two new things:\n",
    "\n",
    "1. A training plan (`training_plan`)\n",
    "1. A train runner (`runner`)\n",
    "\n",
    "The `TrainRunner` is a lightweight wrapper of the PyTorch lightning's [`Trainer`](https://pytorch-lightning.readthedocs.io/en/stable/trainer.html#trainer-class-api), which is a completely black-box method once a `TrainingPlan` is defined. So what does the `TrainingPlan` do?\n",
    "\n",
    "1. Configures optimizers (e.g., Adam), learning rate schedulers.\n",
    "1. Defines the training step, which runs a minibatch of data through the model and records the loss.\n",
    "1. Defines the validation step, same as training step, but for validation data.\n",
    "1. Records relevant metrics, such as the ELBO.\n",
    "\n",
    "In `scvi-tools` we have `scvi.lightning.TrainingPlan`, which should cover many use cases, from VAEs and VI, to MLE and MAP estimation. Developers may find that they need a custom `TrainingPlan` for e.g,. multiple optimizers and complex training scheme. These can be written and used by the model class.\n",
    "\n",
    "Developers may also overwrite this train method to add custom functionality like Early Stopping (see TOTALVI's train method). In most cases the higher-level train method can call `super().train()`, which would be the `BaseModelClass` train method."
   ]
  },
  {
   "cell_type": "markdown",
   "metadata": {
    "id": "bEqgLc8c2-Gf"
   },
   "source": [
    "### Using External Indices"
   ]
  },
  {
   "cell_type": "markdown",
   "metadata": {},
   "source": [
    "In the previous example, we saw that by selecting the train size proportion in our data, as well as maybe the validation size of it, we automatically got the train / valid/ test splits that will be used during our model training and inference.\n",
    "\n",
    "However, this is not always the case and we might want to pre-specified our splitting indices. This can be the case for reproducibility reasons or if we want to increase the abundance of rare cell types so we will converge quicker. So it actually matters to have custom indices on a limited compute budget.\n",
    "\n",
    "There are 2 options to use external indices during model train:\n",
    "1. By creating a DataSplitter pre model train\n",
    "2. Directly as input to model train using the model datasplitter_kwargs\n",
    "Both methods are practically the same\n",
    "\n",
    "The input of it is a list of 3 np.arrays (train/valid/test) of integer indices of the data.\n",
    "The train split is always mandatory but the validation and test splits are not (and can be left empty or None), and in any case there must not be duplicates and it should cover the whole data.\n",
    "\n",
    "If external indices are used it will bypass any tain or valid size or proportion. \n",
    "\n",
    "Example:"
   ]
  },
  {
   "cell_type": "markdown",
   "metadata": {},
   "source": [
    "train_ind=np.array([1,2,3])\n",
    "valid_ind=np.array([4,5,6])\n",
    "test_ind=np.array(None)\n",
    "```python\n",
    "# object to make train/test/val dataloaders with external indices\n",
    "data_splitter = DataSplitter(\n",
    "    external_indexing=[train_ind, valid_ind, test_ind]\n",
    ")\n",
    "model.train(datamodule=datamodule)\n",
    "\n",
    "#Or insert indices directly in train with datasplitter_kwargs \n",
    "model.train(\n",
    "    datasplitter_kwargs={\n",
    "        \"external_indexing\": [train_ind, valid_ind, test_ind]\n",
    "    },\n",
    ")\n",
    "```"
   ]
  },
  {
   "cell_type": "markdown",
   "metadata": {
    "id": "bEqgLc8c2-Gf"
   },
   "source": [
    "### Save and load"
   ]
  },
  {
   "cell_type": "markdown",
   "metadata": {
    "id": "-3aR7N5O3BKR"
   },
   "source": [
    "We can also save and load this model object, as it follows the expected structure."
   ]
  },
  {
   "cell_type": "code",
   "execution_count": 14,
   "metadata": {
    "colab": {
     "base_uri": "https://localhost:8080/"
    },
    "execution": {
     "iopub.execute_input": "2024-09-23T19:15:13.603468Z",
     "iopub.status.busy": "2024-09-23T19:15:13.603378Z",
     "iopub.status.idle": "2024-09-23T19:15:13.628326Z",
     "shell.execute_reply": "2024-09-23T19:15:13.627976Z"
    },
    "id": "5kjJoYZ42_7h",
    "outputId": "c39de0f8-4e60-4974-d307-5e33676a9e37"
   },
   "outputs": [
    {
     "name": "stdout",
     "output_type": "stream",
     "text": [
      "\u001b[34mINFO    \u001b[0m File \u001b[35m/tmp/tmpq2za144r/saved_model/\u001b[0m\u001b[95mmodel.pt\u001b[0m already downloaded                                             \n"
     ]
    },
    {
     "name": "stderr",
     "output_type": "stream",
     "text": [
      "/usr/local/lib/python3.12/site-packages/scvi/model/base/_save_load.py:76: FutureWarning: You are using `torch.load` with `weights_only=False` (the current default value), which uses the default pickle module implicitly. It is possible to construct malicious pickle data which will execute arbitrary code during unpickling (See https://github.com/pytorch/pytorch/blob/main/SECURITY.md#untrusted-models for more details). In a future release, the default value for `weights_only` will be flipped to `True`. This limits the functions that could be executed during unpickling. Arbitrary objects will no longer be allowed to be loaded via this mode unless they are explicitly allowlisted by the user via `torch.serialization.add_safe_globals`. We recommend you start setting `weights_only=True` for any use case where you don't have full control of the loaded file. Please open an issue on GitHub for any issues related to this experimental feature.\n",
      "  model = torch.load(model_path, map_location=map_location)\n"
     ]
    }
   ],
   "source": [
    "model_dir = os.path.join(save_dir.name, \"saved_model\")\n",
    "\n",
    "model.save(model_dir, save_anndata=True)\n",
    "model = SCVI.load(model_dir)"
   ]
  },
  {
   "cell_type": "markdown",
   "metadata": {
    "id": "ZAGP3_R23TnF"
   },
   "source": [
    "## Writing methods to query the model"
   ]
  },
  {
   "cell_type": "markdown",
   "metadata": {
    "id": "QsTrpi2GCuRW"
   },
   "source": [
    "So we have a model that wraps a module that has been trained. How can we get information out of the module and present in cleanly to our users? Let's implement a simple example: getting the latent representation out of the VAE.\n",
    "\n",
    "This method has the following structure:\n",
    "\n",
    "1. Validate the user-supplied data\n",
    "1. Create a data loader\n",
    "1. Iterate over the data loader and feed into the VAE, getting the tensor of interest out of the VAE."
   ]
  },
  {
   "cell_type": "code",
   "execution_count": 15,
   "metadata": {
    "execution": {
     "iopub.execute_input": "2024-09-23T19:15:13.629234Z",
     "iopub.status.busy": "2024-09-23T19:15:13.629147Z",
     "iopub.status.idle": "2024-09-23T19:15:13.631463Z",
     "shell.execute_reply": "2024-09-23T19:15:13.631263Z"
    },
    "id": "PehIGudfDXRr"
   },
   "outputs": [],
   "source": [
    "@torch.inference_mode()\n",
    "def get_latent_representation(\n",
    "    self,\n",
    "    adata: AnnData | None = None,\n",
    "    indices: Sequence[int] | None = None,\n",
    "    batch_size: int | None = None,\n",
    ") -> np.ndarray:\n",
    "    r\"\"\"Return the latent representation for each cell.\n",
    "\n",
    "    Parameters\n",
    "    ----------\n",
    "    adata\n",
    "        AnnData object with equivalent structure to initial AnnData. If `None`, defaults to the\n",
    "        AnnData object used to initialize the model.\n",
    "    indices\n",
    "        Indices of cells in adata to use. If `None`, all cells are used.\n",
    "    batch_size\n",
    "        Minibatch size for data loading into model. Defaults to `scvi.settings.batch_size`.\n",
    "\n",
    "    Returns\n",
    "    -------\n",
    "    latent_representation : np.ndarray\n",
    "        Low-dimensional representation for each cell\n",
    "    \"\"\"\n",
    "    if self.is_trained_ is False:\n",
    "        raise RuntimeError(\"Please train the model first.\")\n",
    "\n",
    "    adata = self._validate_anndata(adata)\n",
    "    dataloader = self._make_dataloader(adata=adata, indices=indices, batch_size=batch_size)\n",
    "    latent = []\n",
    "    for tensors in dataloader:\n",
    "        inference_inputs = self.module._get_inference_input(tensors)\n",
    "        outputs = self.module.inference(**inference_inputs)\n",
    "        qz_m = outputs[\"qz_m\"]\n",
    "\n",
    "        latent += [qz_m.cpu()]\n",
    "    return torch.cat(latent).numpy()"
   ]
  },
  {
   "attachments": {},
   "cell_type": "markdown",
   "metadata": {
    "id": "5hhvcl6zGGIV"
   },
   "source": [
    "```{note}\n",
    "Validating the anndata is critical to the user experience. If `None` is passed it just returns the anndata used to initialize the model, but if a different object is passed, it checks that this new object is equivalent in structure to the anndata passed to the model. We took great care in engineering this function so as to allow passing anndata objects with potentially missing categories (e.g., model was trained on batches `[\"A\", \"B\", \"C\"]`, but the passed anndata only has `[\"B\", \"C\"]`). These sorts of checks will ensure that your module will see data that it expects, and the user will get the results they expect without advanced data manipulations.\n",
    "```"
   ]
  },
  {
   "cell_type": "markdown",
   "metadata": {
    "id": "h4a-4Ssmu6qk"
   },
   "source": [
    "As a convention, we like to keep the module code as bare as possible and leave all posterior manipulation of module tensors to the model class methods. However, it would have been possible to write a `get_z` method in the module, and just have the model class that method."
   ]
  },
  {
   "cell_type": "markdown",
   "metadata": {
    "id": "wmsozWgrDObo"
   },
   "source": [
    "## Mixing in pre-coded features\n",
    "\n",
    "We have a number of Mixin classes that can add functionality to your model through inheritance. Here we demonstrate the [`VAEMixin`](https://www.scvi-tools.org/en/stable/api/reference/scvi.model.base.VAEMixin.html#scvi.model.base.VAEMixin) class.\n",
    "\n",
    "Let's try to get the latent representation from the object we already created."
   ]
  },
  {
   "cell_type": "code",
   "execution_count": 16,
   "metadata": {
    "colab": {
     "base_uri": "https://localhost:8080/"
    },
    "execution": {
     "iopub.execute_input": "2024-09-23T19:15:13.632416Z",
     "iopub.status.busy": "2024-09-23T19:15:13.632193Z",
     "iopub.status.idle": "2024-09-23T19:15:13.633825Z",
     "shell.execute_reply": "2024-09-23T19:15:13.633643Z"
    },
    "id": "KntvOQekxq0K",
    "outputId": "f47f524e-9b42-413e-8a4f-b06067980539"
   },
   "outputs": [
    {
     "name": "stdout",
     "output_type": "stream",
     "text": [
      "This function does not exist\n"
     ]
    }
   ],
   "source": [
    "try:\n",
    "    model.get_latent_representation()\n",
    "except AttributeError:\n",
    "    print(\"This function does not exist\")"
   ]
  },
  {
   "cell_type": "markdown",
   "metadata": {
    "id": "FPf4xHI_L-oI"
   },
   "source": [
    "This method becomes avaialble once the `VAEMixin` is inherited. Here's an overview of the mixin methods, which are coded generally enough that they should be broadly useful to those building VAEs."
   ]
  },
  {
   "cell_type": "markdown",
   "metadata": {
    "id": "QD3HWo2lLKSC"
   },
   "source": [
    "```python\n",
    "class VAEMixin:\n",
    "    @torch.inference_mode()\n",
    "    def get_elbo(\n",
    "        self,\n",
    "        adata: Optional[AnnData] = None,\n",
    "        indices: Optional[Sequence[int]] = None,\n",
    "        batch_size: Optional[int] = None,\n",
    "    ) -> float:\n",
    "        pass\n",
    "\n",
    "    @torch.inference_mode()\n",
    "    def get_marginal_ll(\n",
    "        self,\n",
    "        adata: Optional[AnnData] = None,\n",
    "        indices: Optional[Sequence[int]] = None,\n",
    "        n_mc_samples: int = 1000,\n",
    "        batch_size: Optional[int] = None,\n",
    "    ) -> float:\n",
    "        pass\n",
    "\n",
    "    @torch.inference_mode()\n",
    "    def get_reconstruction_error(\n",
    "        self,\n",
    "        adata: Optional[AnnData] = None,\n",
    "        indices: Optional[Sequence[int]] = None,\n",
    "        batch_size: Optional[int] = None,\n",
    "    ) -> Union[float, Dict[str, float]]:\n",
    "        pass\n",
    "\n",
    "    @torch.inference_mode()\n",
    "    def get_latent_representation(\n",
    "        self,\n",
    "        adata: Optional[AnnData] = None,\n",
    "        indices: Optional[Sequence[int]] = None,\n",
    "        give_mean: bool = True,\n",
    "        mc_samples: int = 5000,\n",
    "        batch_size: Optional[int] = None,\n",
    "    ) -> np.ndarray:\n",
    "        pass\n",
    "```"
   ]
  },
  {
   "cell_type": "markdown",
   "metadata": {
    "id": "nA2ES0nANQN8"
   },
   "source": [
    "Let's now inherit the mixin into our SCVI class."
   ]
  },
  {
   "cell_type": "code",
   "execution_count": 17,
   "metadata": {
    "execution": {
     "iopub.execute_input": "2024-09-23T19:15:13.634589Z",
     "iopub.status.busy": "2024-09-23T19:15:13.634511Z",
     "iopub.status.idle": "2024-09-23T19:15:13.637350Z",
     "shell.execute_reply": "2024-09-23T19:15:13.637140Z"
    },
    "id": "Lu4Rb9nw2217"
   },
   "outputs": [],
   "source": [
    "class SCVI(VAEMixin, UnsupervisedTrainingMixin, BaseModelClass):\n",
    "    \"\"\"single-cell Variational Inference [Lopez18]_.\"\"\"\n",
    "\n",
    "    def __init__(\n",
    "        self,\n",
    "        adata: AnnData,\n",
    "        n_latent: int = 10,\n",
    "        **model_kwargs,\n",
    "    ):\n",
    "        super().__init__(adata)\n",
    "\n",
    "        self.module = VAE(\n",
    "            n_input=self.summary_stats[\"n_vars\"],\n",
    "            n_batch=self.summary_stats[\"n_batch\"],\n",
    "            n_latent=n_latent,\n",
    "            **model_kwargs,\n",
    "        )\n",
    "        self._model_summary_string = (\n",
    "            f\"SCVI Model with the following params: \\nn_latent: {n_latent}\"\n",
    "        )\n",
    "        self.init_params_ = self._get_init_params(locals())\n",
    "\n",
    "    @classmethod\n",
    "    def setup_anndata(\n",
    "        cls,\n",
    "        adata: AnnData,\n",
    "        batch_key: str | None = None,\n",
    "        layer: str | None = None,\n",
    "        **kwargs,\n",
    "    ) -> AnnData | None:\n",
    "        setup_method_args = cls._get_setup_method_args(**locals())\n",
    "        anndata_fields = [\n",
    "            LayerField(REGISTRY_KEYS.X_KEY, layer, is_count_data=True),\n",
    "            CategoricalObsField(REGISTRY_KEYS.BATCH_KEY, batch_key),\n",
    "            # Dummy fields required for VAE class.\n",
    "            CategoricalObsField(REGISTRY_KEYS.LABELS_KEY, None),\n",
    "            NumericalObsField(REGISTRY_KEYS.SIZE_FACTOR_KEY, None, required=False),\n",
    "            CategoricalJointObsField(REGISTRY_KEYS.CAT_COVS_KEY, None),\n",
    "            NumericalJointObsField(REGISTRY_KEYS.CONT_COVS_KEY, None),\n",
    "        ]\n",
    "        adata_manager = AnnDataManager(fields=anndata_fields, setup_method_args=setup_method_args)\n",
    "        adata_manager.register_fields(adata, **kwargs)\n",
    "        cls.register_manager(adata_manager)"
   ]
  },
  {
   "cell_type": "code",
   "execution_count": 18,
   "metadata": {
    "colab": {
     "base_uri": "https://localhost:8080/"
    },
    "execution": {
     "iopub.execute_input": "2024-09-23T19:15:13.638057Z",
     "iopub.status.busy": "2024-09-23T19:15:13.637976Z",
     "iopub.status.idle": "2024-09-23T19:15:13.835471Z",
     "shell.execute_reply": "2024-09-23T19:15:13.835281Z"
    },
    "id": "8erM-DwwNV9V",
    "outputId": "7ca877a6-2767-4873-df30-e422135e02d1"
   },
   "outputs": [
    {
     "name": "stderr",
     "output_type": "stream",
     "text": [
      "GPU available: True (cuda), used: True\n"
     ]
    },
    {
     "name": "stderr",
     "output_type": "stream",
     "text": [
      "TPU available: False, using: 0 TPU cores\n"
     ]
    },
    {
     "name": "stderr",
     "output_type": "stream",
     "text": [
      "HPU available: False, using: 0 HPUs\n"
     ]
    },
    {
     "name": "stderr",
     "output_type": "stream",
     "text": [
      "LOCAL_RANK: 0 - CUDA_VISIBLE_DEVICES: [0]\n"
     ]
    },
    {
     "name": "stderr",
     "output_type": "stream",
     "text": [
      "/usr/local/lib/python3.12/site-packages/lightning/pytorch/trainer/connectors/data_connector.py:424: The 'train_dataloader' does not have many workers which may be a bottleneck. Consider increasing the value of the `num_workers` argument` to `num_workers=63` in the `DataLoader` to improve performance.\n",
      "/usr/local/lib/python3.12/site-packages/lightning/pytorch/loops/fit_loop.py:298: The number of training batches (3) is smaller than the logging interval Trainer(log_every_n_steps=10). Set a lower value for log_every_n_steps if you want to see logs for the training epoch.\n"
     ]
    },
    {
     "data": {
      "application/vnd.jupyter.widget-view+json": {
       "model_id": "fae054ea376c47598dc7a37c322aa85b",
       "version_major": 2,
       "version_minor": 0
      },
      "text/plain": [
       "Training:   0%|          | 0/10 [00:00<?, ?it/s]"
      ]
     },
     "metadata": {},
     "output_type": "display_data"
    },
    {
     "name": "stderr",
     "output_type": "stream",
     "text": [
      "`Trainer.fit` stopped: `max_epochs=10` reached.\n"
     ]
    },
    {
     "data": {
      "text/plain": [
       "array([[-0.01358991,  0.2463032 ,  1.3018458 , ...,  0.15423407,\n",
       "         0.13985793,  0.5880161 ],\n",
       "       [-0.04745985,  0.07056575,  0.38987082, ...,  0.7768178 ,\n",
       "         0.17563158,  0.48764873],\n",
       "       [ 0.14927816,  0.6222273 ,  0.18821259, ...,  0.30647755,\n",
       "         0.41570258,  0.70970905],\n",
       "       ...,\n",
       "       [ 0.08683999,  0.42102924,  0.75469166, ...,  0.5070312 ,\n",
       "         0.27193406,  0.78777564],\n",
       "       [ 0.34360352,  0.06666685,  0.37773454, ...,  0.98677754,\n",
       "         0.15776074,  0.38280302],\n",
       "       [ 0.15096335,  0.16478238,  1.1584861 , ...,  0.6572803 ,\n",
       "         0.6501334 ,  0.5580437 ]], dtype=float32)"
      ]
     },
     "execution_count": 18,
     "metadata": {},
     "output_type": "execute_result"
    }
   ],
   "source": [
    "SCVI.setup_anndata(adata, batch_key=\"batch\")\n",
    "model = SCVI(adata)\n",
    "model.train(10)\n",
    "model.get_latent_representation()"
   ]
  },
  {
   "cell_type": "markdown",
   "metadata": {
    "id": "qWvfa7q9NggC"
   },
   "source": [
    "## Summary"
   ]
  },
  {
   "cell_type": "markdown",
   "metadata": {
    "id": "59_79HYQNjv_"
   },
   "source": [
    "We learned the structure of the high-level model classes in scvi-tools, and learned how a simple version of `SCVI` is implemented.\n",
    "\n",
    "Questions? Comments? Keep the discussion going on our [forum](https://discourse.scvi-tools.org/)"
   ]
  },
  {
   "cell_type": "code",
   "execution_count": null,
   "metadata": {},
   "outputs": [],
   "source": []
  }
 ],
 "metadata": {
  "colab": {
   "collapsed_sections": [],
   "name": "model_user_guide.ipynb",
   "provenance": [],
   "toc_visible": true
  },
  "kernelspec": {
   "display_name": "Python 3 (ipykernel)",
   "language": "python",
   "name": "python3"
  },
  "language_info": {
   "codemirror_mode": {
    "name": "ipython",
    "version": 3
   },
   "file_extension": ".py",
   "mimetype": "text/x-python",
   "name": "python",
   "nbconvert_exporter": "python",
   "pygments_lexer": "ipython3",
   "version": "3.12.6"
  },
  "widgets": {
   "application/vnd.jupyter.widget-state+json": {
    "state": {
     "0280fabe590446648e942acf02e725c6": {
      "model_module": "@jupyter-widgets/controls",
      "model_module_version": "2.0.0",
      "model_name": "FloatProgressModel",
      "state": {
       "_dom_classes": [],
       "_model_module": "@jupyter-widgets/controls",
       "_model_module_version": "2.0.0",
       "_model_name": "FloatProgressModel",
       "_view_count": null,
       "_view_module": "@jupyter-widgets/controls",
       "_view_module_version": "2.0.0",
       "_view_name": "ProgressView",
       "bar_style": "success",
       "description": "",
       "description_allow_html": false,
       "layout": "IPY_MODEL_a4044fb1f1124307a0b1977c0018c309",
       "max": 10.0,
       "min": 0.0,
       "orientation": "horizontal",
       "style": "IPY_MODEL_42b7a15858c44a25a101bcdd6a966b12",
       "tabbable": null,
       "tooltip": null,
       "value": 10.0
      }
     },
     "17be318156a24343b9a9926a848f6028": {
      "model_module": "@jupyter-widgets/base",
      "model_module_version": "2.0.0",
      "model_name": "LayoutModel",
      "state": {
       "_model_module": "@jupyter-widgets/base",
       "_model_module_version": "2.0.0",
       "_model_name": "LayoutModel",
       "_view_count": null,
       "_view_module": "@jupyter-widgets/base",
       "_view_module_version": "2.0.0",
       "_view_name": "LayoutView",
       "align_content": null,
       "align_items": null,
       "align_self": null,
       "border_bottom": null,
       "border_left": null,
       "border_right": null,
       "border_top": null,
       "bottom": null,
       "display": null,
       "flex": null,
       "flex_flow": null,
       "grid_area": null,
       "grid_auto_columns": null,
       "grid_auto_flow": null,
       "grid_auto_rows": null,
       "grid_column": null,
       "grid_gap": null,
       "grid_row": null,
       "grid_template_areas": null,
       "grid_template_columns": null,
       "grid_template_rows": null,
       "height": null,
       "justify_content": null,
       "justify_items": null,
       "left": null,
       "margin": null,
       "max_height": null,
       "max_width": null,
       "min_height": null,
       "min_width": null,
       "object_fit": null,
       "object_position": null,
       "order": null,
       "overflow": null,
       "padding": null,
       "right": null,
       "top": null,
       "visibility": null,
       "width": null
      }
     },
     "1faf7804ab4141198386cd3c5fd97baf": {
      "model_module": "@jupyter-widgets/base",
      "model_module_version": "2.0.0",
      "model_name": "LayoutModel",
      "state": {
       "_model_module": "@jupyter-widgets/base",
       "_model_module_version": "2.0.0",
       "_model_name": "LayoutModel",
       "_view_count": null,
       "_view_module": "@jupyter-widgets/base",
       "_view_module_version": "2.0.0",
       "_view_name": "LayoutView",
       "align_content": null,
       "align_items": null,
       "align_self": null,
       "border_bottom": null,
       "border_left": null,
       "border_right": null,
       "border_top": null,
       "bottom": null,
       "display": null,
       "flex": null,
       "flex_flow": null,
       "grid_area": null,
       "grid_auto_columns": null,
       "grid_auto_flow": null,
       "grid_auto_rows": null,
       "grid_column": null,
       "grid_gap": null,
       "grid_row": null,
       "grid_template_areas": null,
       "grid_template_columns": null,
       "grid_template_rows": null,
       "height": null,
       "justify_content": null,
       "justify_items": null,
       "left": null,
       "margin": null,
       "max_height": null,
       "max_width": null,
       "min_height": null,
       "min_width": null,
       "object_fit": null,
       "object_position": null,
       "order": null,
       "overflow": null,
       "padding": null,
       "right": null,
       "top": null,
       "visibility": null,
       "width": null
      }
     },
     "203a429b4fd9434d96d628bf381196a2": {
      "model_module": "@jupyter-widgets/controls",
      "model_module_version": "2.0.0",
      "model_name": "HTMLModel",
      "state": {
       "_dom_classes": [],
       "_model_module": "@jupyter-widgets/controls",
       "_model_module_version": "2.0.0",
       "_model_name": "HTMLModel",
       "_view_count": null,
       "_view_module": "@jupyter-widgets/controls",
       "_view_module_version": "2.0.0",
       "_view_name": "HTMLView",
       "description": "",
       "description_allow_html": false,
       "layout": "IPY_MODEL_5e648a1c39074a2181a8cfcbec5f22f1",
       "placeholder": "​",
       "style": "IPY_MODEL_61ffaf53ef20477bb8b47d4aac407b62",
       "tabbable": null,
       "tooltip": null,
       "value": "Epoch 10/10: 100%"
      }
     },
     "2cc747efa61e45c484c8e89c9ef0fd8f": {
      "model_module": "@jupyter-widgets/controls",
      "model_module_version": "2.0.0",
      "model_name": "HBoxModel",
      "state": {
       "_dom_classes": [],
       "_model_module": "@jupyter-widgets/controls",
       "_model_module_version": "2.0.0",
       "_model_name": "HBoxModel",
       "_view_count": null,
       "_view_module": "@jupyter-widgets/controls",
       "_view_module_version": "2.0.0",
       "_view_name": "HBoxView",
       "box_style": "",
       "children": [
        "IPY_MODEL_f47169e196ff4195ac7d983f4427c360",
        "IPY_MODEL_7e1440737cfb4ec394bd2f6d0db3e2d6",
        "IPY_MODEL_d720ddef5d1b44c9a965291884a7bb99"
       ],
       "layout": "IPY_MODEL_38a10129ce4e46afafaa0f975335221f",
       "tabbable": null,
       "tooltip": null
      }
     },
     "38a10129ce4e46afafaa0f975335221f": {
      "model_module": "@jupyter-widgets/base",
      "model_module_version": "2.0.0",
      "model_name": "LayoutModel",
      "state": {
       "_model_module": "@jupyter-widgets/base",
       "_model_module_version": "2.0.0",
       "_model_name": "LayoutModel",
       "_view_count": null,
       "_view_module": "@jupyter-widgets/base",
       "_view_module_version": "2.0.0",
       "_view_name": "LayoutView",
       "align_content": null,
       "align_items": null,
       "align_self": null,
       "border_bottom": null,
       "border_left": null,
       "border_right": null,
       "border_top": null,
       "bottom": null,
       "display": null,
       "flex": null,
       "flex_flow": null,
       "grid_area": null,
       "grid_auto_columns": null,
       "grid_auto_flow": null,
       "grid_auto_rows": null,
       "grid_column": null,
       "grid_gap": null,
       "grid_row": null,
       "grid_template_areas": null,
       "grid_template_columns": null,
       "grid_template_rows": null,
       "height": null,
       "justify_content": null,
       "justify_items": null,
       "left": null,
       "margin": null,
       "max_height": null,
       "max_width": null,
       "min_height": null,
       "min_width": null,
       "object_fit": null,
       "object_position": null,
       "order": null,
       "overflow": null,
       "padding": null,
       "right": null,
       "top": null,
       "visibility": null,
       "width": null
      }
     },
     "42b7a15858c44a25a101bcdd6a966b12": {
      "model_module": "@jupyter-widgets/controls",
      "model_module_version": "2.0.0",
      "model_name": "ProgressStyleModel",
      "state": {
       "_model_module": "@jupyter-widgets/controls",
       "_model_module_version": "2.0.0",
       "_model_name": "ProgressStyleModel",
       "_view_count": null,
       "_view_module": "@jupyter-widgets/base",
       "_view_module_version": "2.0.0",
       "_view_name": "StyleView",
       "bar_color": null,
       "description_width": ""
      }
     },
     "5e648a1c39074a2181a8cfcbec5f22f1": {
      "model_module": "@jupyter-widgets/base",
      "model_module_version": "2.0.0",
      "model_name": "LayoutModel",
      "state": {
       "_model_module": "@jupyter-widgets/base",
       "_model_module_version": "2.0.0",
       "_model_name": "LayoutModel",
       "_view_count": null,
       "_view_module": "@jupyter-widgets/base",
       "_view_module_version": "2.0.0",
       "_view_name": "LayoutView",
       "align_content": null,
       "align_items": null,
       "align_self": null,
       "border_bottom": null,
       "border_left": null,
       "border_right": null,
       "border_top": null,
       "bottom": null,
       "display": null,
       "flex": null,
       "flex_flow": null,
       "grid_area": null,
       "grid_auto_columns": null,
       "grid_auto_flow": null,
       "grid_auto_rows": null,
       "grid_column": null,
       "grid_gap": null,
       "grid_row": null,
       "grid_template_areas": null,
       "grid_template_columns": null,
       "grid_template_rows": null,
       "height": null,
       "justify_content": null,
       "justify_items": null,
       "left": null,
       "margin": null,
       "max_height": null,
       "max_width": null,
       "min_height": null,
       "min_width": null,
       "object_fit": null,
       "object_position": null,
       "order": null,
       "overflow": null,
       "padding": null,
       "right": null,
       "top": null,
       "visibility": null,
       "width": null
      }
     },
     "61ffaf53ef20477bb8b47d4aac407b62": {
      "model_module": "@jupyter-widgets/controls",
      "model_module_version": "2.0.0",
      "model_name": "HTMLStyleModel",
      "state": {
       "_model_module": "@jupyter-widgets/controls",
       "_model_module_version": "2.0.0",
       "_model_name": "HTMLStyleModel",
       "_view_count": null,
       "_view_module": "@jupyter-widgets/base",
       "_view_module_version": "2.0.0",
       "_view_name": "StyleView",
       "background": null,
       "description_width": "",
       "font_size": null,
       "text_color": null
      }
     },
     "620abfb63f62447291765fa767da530d": {
      "model_module": "@jupyter-widgets/base",
      "model_module_version": "2.0.0",
      "model_name": "LayoutModel",
      "state": {
       "_model_module": "@jupyter-widgets/base",
       "_model_module_version": "2.0.0",
       "_model_name": "LayoutModel",
       "_view_count": null,
       "_view_module": "@jupyter-widgets/base",
       "_view_module_version": "2.0.0",
       "_view_name": "LayoutView",
       "align_content": null,
       "align_items": null,
       "align_self": null,
       "border_bottom": null,
       "border_left": null,
       "border_right": null,
       "border_top": null,
       "bottom": null,
       "display": null,
       "flex": null,
       "flex_flow": null,
       "grid_area": null,
       "grid_auto_columns": null,
       "grid_auto_flow": null,
       "grid_auto_rows": null,
       "grid_column": null,
       "grid_gap": null,
       "grid_row": null,
       "grid_template_areas": null,
       "grid_template_columns": null,
       "grid_template_rows": null,
       "height": null,
       "justify_content": null,
       "justify_items": null,
       "left": null,
       "margin": null,
       "max_height": null,
       "max_width": null,
       "min_height": null,
       "min_width": null,
       "object_fit": null,
       "object_position": null,
       "order": null,
       "overflow": null,
       "padding": null,
       "right": null,
       "top": null,
       "visibility": null,
       "width": null
      }
     },
     "70a727dcec254367a068f30ab96defad": {
      "model_module": "@jupyter-widgets/base",
      "model_module_version": "2.0.0",
      "model_name": "LayoutModel",
      "state": {
       "_model_module": "@jupyter-widgets/base",
       "_model_module_version": "2.0.0",
       "_model_name": "LayoutModel",
       "_view_count": null,
       "_view_module": "@jupyter-widgets/base",
       "_view_module_version": "2.0.0",
       "_view_name": "LayoutView",
       "align_content": null,
       "align_items": null,
       "align_self": null,
       "border_bottom": null,
       "border_left": null,
       "border_right": null,
       "border_top": null,
       "bottom": null,
       "display": null,
       "flex": null,
       "flex_flow": null,
       "grid_area": null,
       "grid_auto_columns": null,
       "grid_auto_flow": null,
       "grid_auto_rows": null,
       "grid_column": null,
       "grid_gap": null,
       "grid_row": null,
       "grid_template_areas": null,
       "grid_template_columns": null,
       "grid_template_rows": null,
       "height": null,
       "justify_content": null,
       "justify_items": null,
       "left": null,
       "margin": null,
       "max_height": null,
       "max_width": null,
       "min_height": null,
       "min_width": null,
       "object_fit": null,
       "object_position": null,
       "order": null,
       "overflow": null,
       "padding": null,
       "right": null,
       "top": null,
       "visibility": null,
       "width": null
      }
     },
     "7e1440737cfb4ec394bd2f6d0db3e2d6": {
      "model_module": "@jupyter-widgets/controls",
      "model_module_version": "2.0.0",
      "model_name": "FloatProgressModel",
      "state": {
       "_dom_classes": [],
       "_model_module": "@jupyter-widgets/controls",
       "_model_module_version": "2.0.0",
       "_model_name": "FloatProgressModel",
       "_view_count": null,
       "_view_module": "@jupyter-widgets/controls",
       "_view_module_version": "2.0.0",
       "_view_name": "ProgressView",
       "bar_style": "success",
       "description": "",
       "description_allow_html": false,
       "layout": "IPY_MODEL_1faf7804ab4141198386cd3c5fd97baf",
       "max": 20.0,
       "min": 0.0,
       "orientation": "horizontal",
       "style": "IPY_MODEL_c82719e536b24578bd78c4fabf99c0f2",
       "tabbable": null,
       "tooltip": null,
       "value": 20.0
      }
     },
     "8fd2fa5abe874a5ca74e1abd531c71ae": {
      "model_module": "@jupyter-widgets/controls",
      "model_module_version": "2.0.0",
      "model_name": "HTMLStyleModel",
      "state": {
       "_model_module": "@jupyter-widgets/controls",
       "_model_module_version": "2.0.0",
       "_model_name": "HTMLStyleModel",
       "_view_count": null,
       "_view_module": "@jupyter-widgets/base",
       "_view_module_version": "2.0.0",
       "_view_name": "StyleView",
       "background": null,
       "description_width": "",
       "font_size": null,
       "text_color": null
      }
     },
     "9eb99027fd7e429eb8380f03d7532486": {
      "model_module": "@jupyter-widgets/controls",
      "model_module_version": "2.0.0",
      "model_name": "HTMLStyleModel",
      "state": {
       "_model_module": "@jupyter-widgets/controls",
       "_model_module_version": "2.0.0",
       "_model_name": "HTMLStyleModel",
       "_view_count": null,
       "_view_module": "@jupyter-widgets/base",
       "_view_module_version": "2.0.0",
       "_view_name": "StyleView",
       "background": null,
       "description_width": "",
       "font_size": null,
       "text_color": null
      }
     },
     "a4044fb1f1124307a0b1977c0018c309": {
      "model_module": "@jupyter-widgets/base",
      "model_module_version": "2.0.0",
      "model_name": "LayoutModel",
      "state": {
       "_model_module": "@jupyter-widgets/base",
       "_model_module_version": "2.0.0",
       "_model_name": "LayoutModel",
       "_view_count": null,
       "_view_module": "@jupyter-widgets/base",
       "_view_module_version": "2.0.0",
       "_view_name": "LayoutView",
       "align_content": null,
       "align_items": null,
       "align_self": null,
       "border_bottom": null,
       "border_left": null,
       "border_right": null,
       "border_top": null,
       "bottom": null,
       "display": null,
       "flex": null,
       "flex_flow": null,
       "grid_area": null,
       "grid_auto_columns": null,
       "grid_auto_flow": null,
       "grid_auto_rows": null,
       "grid_column": null,
       "grid_gap": null,
       "grid_row": null,
       "grid_template_areas": null,
       "grid_template_columns": null,
       "grid_template_rows": null,
       "height": null,
       "justify_content": null,
       "justify_items": null,
       "left": null,
       "margin": null,
       "max_height": null,
       "max_width": null,
       "min_height": null,
       "min_width": null,
       "object_fit": null,
       "object_position": null,
       "order": null,
       "overflow": null,
       "padding": null,
       "right": null,
       "top": null,
       "visibility": null,
       "width": null
      }
     },
     "b71cb595c8a943a8aab4709e6c2f6387": {
      "model_module": "@jupyter-widgets/controls",
      "model_module_version": "2.0.0",
      "model_name": "HTMLStyleModel",
      "state": {
       "_model_module": "@jupyter-widgets/controls",
       "_model_module_version": "2.0.0",
       "_model_name": "HTMLStyleModel",
       "_view_count": null,
       "_view_module": "@jupyter-widgets/base",
       "_view_module_version": "2.0.0",
       "_view_name": "StyleView",
       "background": null,
       "description_width": "",
       "font_size": null,
       "text_color": null
      }
     },
     "c82719e536b24578bd78c4fabf99c0f2": {
      "model_module": "@jupyter-widgets/controls",
      "model_module_version": "2.0.0",
      "model_name": "ProgressStyleModel",
      "state": {
       "_model_module": "@jupyter-widgets/controls",
       "_model_module_version": "2.0.0",
       "_model_name": "ProgressStyleModel",
       "_view_count": null,
       "_view_module": "@jupyter-widgets/base",
       "_view_module_version": "2.0.0",
       "_view_name": "StyleView",
       "bar_color": null,
       "description_width": ""
      }
     },
     "d720ddef5d1b44c9a965291884a7bb99": {
      "model_module": "@jupyter-widgets/controls",
      "model_module_version": "2.0.0",
      "model_name": "HTMLModel",
      "state": {
       "_dom_classes": [],
       "_model_module": "@jupyter-widgets/controls",
       "_model_module_version": "2.0.0",
       "_model_name": "HTMLModel",
       "_view_count": null,
       "_view_module": "@jupyter-widgets/controls",
       "_view_module_version": "2.0.0",
       "_view_name": "HTMLView",
       "description": "",
       "description_allow_html": false,
       "layout": "IPY_MODEL_620abfb63f62447291765fa767da530d",
       "placeholder": "​",
       "style": "IPY_MODEL_b71cb595c8a943a8aab4709e6c2f6387",
       "tabbable": null,
       "tooltip": null,
       "value": " 20/20 [00:00&lt;00:00, 41.23it/s, v_num=1, train_loss_step=304, train_loss_epoch=304]"
      }
     },
     "e59782fe8e594d09ae8ac3b0f01a9c29": {
      "model_module": "@jupyter-widgets/controls",
      "model_module_version": "2.0.0",
      "model_name": "HTMLModel",
      "state": {
       "_dom_classes": [],
       "_model_module": "@jupyter-widgets/controls",
       "_model_module_version": "2.0.0",
       "_model_name": "HTMLModel",
       "_view_count": null,
       "_view_module": "@jupyter-widgets/controls",
       "_view_module_version": "2.0.0",
       "_view_name": "HTMLView",
       "description": "",
       "description_allow_html": false,
       "layout": "IPY_MODEL_70a727dcec254367a068f30ab96defad",
       "placeholder": "​",
       "style": "IPY_MODEL_8fd2fa5abe874a5ca74e1abd531c71ae",
       "tabbable": null,
       "tooltip": null,
       "value": " 10/10 [00:00&lt;00:00, 58.87it/s, v_num=1, train_loss_step=309, train_loss_epoch=309]"
      }
     },
     "f47169e196ff4195ac7d983f4427c360": {
      "model_module": "@jupyter-widgets/controls",
      "model_module_version": "2.0.0",
      "model_name": "HTMLModel",
      "state": {
       "_dom_classes": [],
       "_model_module": "@jupyter-widgets/controls",
       "_model_module_version": "2.0.0",
       "_model_name": "HTMLModel",
       "_view_count": null,
       "_view_module": "@jupyter-widgets/controls",
       "_view_module_version": "2.0.0",
       "_view_name": "HTMLView",
       "description": "",
       "description_allow_html": false,
       "layout": "IPY_MODEL_17be318156a24343b9a9926a848f6028",
       "placeholder": "​",
       "style": "IPY_MODEL_9eb99027fd7e429eb8380f03d7532486",
       "tabbable": null,
       "tooltip": null,
       "value": "Epoch 20/20: 100%"
      }
     },
     "f5c5c77f81e341fba622f6d19aad7c99": {
      "model_module": "@jupyter-widgets/base",
      "model_module_version": "2.0.0",
      "model_name": "LayoutModel",
      "state": {
       "_model_module": "@jupyter-widgets/base",
       "_model_module_version": "2.0.0",
       "_model_name": "LayoutModel",
       "_view_count": null,
       "_view_module": "@jupyter-widgets/base",
       "_view_module_version": "2.0.0",
       "_view_name": "LayoutView",
       "align_content": null,
       "align_items": null,
       "align_self": null,
       "border_bottom": null,
       "border_left": null,
       "border_right": null,
       "border_top": null,
       "bottom": null,
       "display": null,
       "flex": null,
       "flex_flow": null,
       "grid_area": null,
       "grid_auto_columns": null,
       "grid_auto_flow": null,
       "grid_auto_rows": null,
       "grid_column": null,
       "grid_gap": null,
       "grid_row": null,
       "grid_template_areas": null,
       "grid_template_columns": null,
       "grid_template_rows": null,
       "height": null,
       "justify_content": null,
       "justify_items": null,
       "left": null,
       "margin": null,
       "max_height": null,
       "max_width": null,
       "min_height": null,
       "min_width": null,
       "object_fit": null,
       "object_position": null,
       "order": null,
       "overflow": null,
       "padding": null,
       "right": null,
       "top": null,
       "visibility": null,
       "width": null
      }
     },
     "fae054ea376c47598dc7a37c322aa85b": {
      "model_module": "@jupyter-widgets/controls",
      "model_module_version": "2.0.0",
      "model_name": "HBoxModel",
      "state": {
       "_dom_classes": [],
       "_model_module": "@jupyter-widgets/controls",
       "_model_module_version": "2.0.0",
       "_model_name": "HBoxModel",
       "_view_count": null,
       "_view_module": "@jupyter-widgets/controls",
       "_view_module_version": "2.0.0",
       "_view_name": "HBoxView",
       "box_style": "",
       "children": [
        "IPY_MODEL_203a429b4fd9434d96d628bf381196a2",
        "IPY_MODEL_0280fabe590446648e942acf02e725c6",
        "IPY_MODEL_e59782fe8e594d09ae8ac3b0f01a9c29"
       ],
       "layout": "IPY_MODEL_f5c5c77f81e341fba622f6d19aad7c99",
       "tabbable": null,
       "tooltip": null
      }
     }
    },
    "version_major": 2,
    "version_minor": 0
   }
  }
 },
 "nbformat": 4,
 "nbformat_minor": 4
}
