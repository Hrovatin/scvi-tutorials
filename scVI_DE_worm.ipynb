{
 "cells": [
  {
   "cell_type": "markdown",
   "metadata": {},
   "source": [
    "# Differential expression on C. elegans data"
   ]
  },
  {
   "cell_type": "markdown",
   "metadata": {
    "id": "-kflZ39BHOkD"
   },
   "source": [
    "This notebook was contributed by Eduardo Beltrame [@Munfred](https://github.com/Munfred) and edited by Romain Lopez, Adam Gayoso, and Pierre Boyeau.\n",
    "\n",
    "Processing and visualizing 89k cells from Packer et al. 2019 C. elegans 10xv2 single cell data\n",
    "\n",
    "Original article:\n",
    "`A lineage-resolved molecular atlas of C. elegans embryogenesis at single-cell resolution`\n",
    "\n",
    "https://science.sciencemag.org/content/365/6459/eaax1971.long\n",
    "\n",
    "The anndata object we provide  has 89,701 cells and 20,222 genes.\n",
    "It includes short gene descriptions from [WormBase](https://wormbase.org) that will show up when mousing over the interactive plots.\n",
    "\n",
    "**Steps performed**:\n",
    "\n",
    "1. Loading the data from anndata containing cell labels and gene descriptions\n",
    "1. Training the model with batch labels for integration with scVI\n",
    "1. Retrieving the scVI latent space and imputed values\n",
    "1. Visualize the latent space with an interactive t-SNE plot using Plotly\n",
    "1. Perform differential expression and visualize with interactive volcano plot and heatmap using Plotly\n",
    "\n",
    "This notebook was designed to be run in Google Colab."
   ]
  },
  {
   "cell_type": "code",
   "execution_count": 1,
   "metadata": {
    "tags": []
   },
   "outputs": [
    {
     "name": "stderr",
     "output_type": "stream",
     "text": [
      "/home/pierre/miniconda3/envs/scvi3/lib/python3.9/site-packages/scvi_colab/_core.py:41: UserWarning: \n",
      "                Not currently in Google Colab environment.\n",
      "\n",
      "                Please run with `run_outside_colab=True` to override.\n",
      "\n",
      "                Returning with no further action.\n",
      "                \n",
      "  warn(\n"
     ]
    }
   ],
   "source": [
    "!pip install --quiet scvi-colab\n",
    "from scvi_colab import install\n",
    "\n",
    "install()"
   ]
  },
  {
   "cell_type": "code",
   "execution_count": 1,
   "metadata": {
    "id": "lA_YdJR9Hj-8",
    "tags": []
   },
   "outputs": [
    {
     "name": "stderr",
     "output_type": "stream",
     "text": [
      "/home/pierre/scvi-tools/scvi/_settings.py:63: UserWarning: Since v1.0.0, scvi-tools no longer uses a random seed by default. Run `scvi.settings.seed = 0` to reproduce results from previous versions.\n",
      "/home/pierre/scvi-tools/scvi/_settings.py:70: UserWarning: Setting `dl_pin_memory_gpu_training` is deprecated in v1.0 and will be removed in v1.1. Please pass in `pin_memory` to the data loaders instead.\n"
     ]
    }
   ],
   "source": [
    "import warnings\n",
    "\n",
    "import matplotlib.pyplot as plt\n",
    "import numpy as np\n",
    "import pandas as pd\n",
    "import plotnine as p9\n",
    "import scanpy as sc\n",
    "import scvi"
   ]
  },
  {
   "cell_type": "code",
   "execution_count": 2,
   "metadata": {
    "tags": []
   },
   "outputs": [],
   "source": [
    "%config InlineBackend.figure_format = 'retina'\n",
    "%matplotlib inline\n",
    "\n",
    "warnings.simplefilter(\"ignore\")"
   ]
  },
  {
   "cell_type": "code",
   "execution_count": 3,
   "metadata": {
    "colab": {
     "base_uri": "https://localhost:8080/"
    },
    "id": "U_GTdS3OHOkN",
    "outputId": "fe05f3e6-2262-4fd1-aa67-13dad8e1ffd9",
    "tags": []
   },
   "outputs": [
    {
     "name": "stdout",
     "output_type": "stream",
     "text": [
      "AnnData object with n_obs × n_vars = 89701 × 20222\n",
      "    obs: 'cell', 'numi', 'time_point', 'batch', 'size_factor', 'cell_type', 'cell_subtype', 'plot_cell_type', 'raw_embryo_time', 'embryo_time', 'embryo_time_bin', 'raw_embryo_time_bin', 'lineage', 'passed_qc'\n",
      "    var: 'gene_id', 'gene_name', 'gene_description'\n"
     ]
    }
   ],
   "source": [
    "adata = sc.read(\n",
    "    \"packer2019.h5ad\",\n",
    "    backup_url=\"https://github.com/Munfred/wormcells-site/releases/download/packer2019/packer2019.h5ad\",\n",
    ")\n",
    "print(adata)"
   ]
  },
  {
   "cell_type": "markdown",
   "metadata": {
    "id": "9M4TTTFoHOkX"
   },
   "source": [
    "### Take a look at the gene descriptions\n",
    "\n",
    "The gene descriptions were taken using the [WormBase API](https://wormbase.org/about/userguide/for_developers#3--10)."
   ]
  },
  {
   "cell_type": "code",
   "execution_count": 4,
   "metadata": {
    "colab": {
     "base_uri": "https://localhost:8080/",
     "height": 302
    },
    "id": "UzH8uC5VHOkY",
    "outputId": "57063c8f-4674-404e-acef-dd65f065a0ec",
    "tags": []
   },
   "outputs": [
    {
     "data": {
      "text/html": [
       "<style type=\"text/css\">\n",
       "#T_f672c_row0_col2, #T_f672c_row1_col2, #T_f672c_row2_col2, #T_f672c_row3_col2, #T_f672c_row4_col2 {\n",
       "  width: 600px;\n",
       "}\n",
       "</style>\n",
       "<table id=\"T_f672c\">\n",
       "  <thead>\n",
       "    <tr>\n",
       "      <th class=\"blank level0\" >&nbsp;</th>\n",
       "      <th id=\"T_f672c_level0_col0\" class=\"col_heading level0 col0\" >gene_id</th>\n",
       "      <th id=\"T_f672c_level0_col1\" class=\"col_heading level0 col1\" >gene_name</th>\n",
       "      <th id=\"T_f672c_level0_col2\" class=\"col_heading level0 col2\" >gene_description</th>\n",
       "    </tr>\n",
       "    <tr>\n",
       "      <th class=\"index_name level0\" >index</th>\n",
       "      <th class=\"blank col0\" >&nbsp;</th>\n",
       "      <th class=\"blank col1\" >&nbsp;</th>\n",
       "      <th class=\"blank col2\" >&nbsp;</th>\n",
       "    </tr>\n",
       "  </thead>\n",
       "  <tbody>\n",
       "    <tr>\n",
       "      <th id=\"T_f672c_level0_row0\" class=\"row_heading level0 row0\" >WBGene00010957</th>\n",
       "      <td id=\"T_f672c_row0_col0\" class=\"data row0 col0\" >WBGene00010957</td>\n",
       "      <td id=\"T_f672c_row0_col1\" class=\"data row0 col1\" >nduo-6</td>\n",
       "      <td id=\"T_f672c_row0_col2\" class=\"data row0 col2\" >Is affected by several genes including daf-16; daf-12; and hsf-1 based on RNA-seq and tiling array studies. Is affected by six chemicals including Rotenone; Psoralens; and metformin based on RNA-seq and microarray studies.</td>\n",
       "    </tr>\n",
       "    <tr>\n",
       "      <th id=\"T_f672c_level0_row1\" class=\"row_heading level0 row1\" >WBGene00010958</th>\n",
       "      <td id=\"T_f672c_row1_col0\" class=\"data row1 col0\" >WBGene00010958</td>\n",
       "      <td id=\"T_f672c_row1_col1\" class=\"data row1 col1\" >ndfl-4</td>\n",
       "      <td id=\"T_f672c_row1_col2\" class=\"data row1 col2\" >Is enriched in Psub2 based on RNA-seq studies. Is affected by several genes including daf-16; daf-12; and clk-1 based on RNA-seq and microarray studies. Is affected by six chemicals including Alovudine; Psoralens; and metformin based on RNA-seq studies.</td>\n",
       "    </tr>\n",
       "    <tr>\n",
       "      <th id=\"T_f672c_level0_row2\" class=\"row_heading level0 row2\" >WBGene00010959</th>\n",
       "      <td id=\"T_f672c_row2_col0\" class=\"data row2 col0\" >WBGene00010959</td>\n",
       "      <td id=\"T_f672c_row2_col1\" class=\"data row2 col1\" >nduo-1</td>\n",
       "      <td id=\"T_f672c_row2_col2\" class=\"data row2 col2\" >Is an ortholog of human MT-ND1 (mitochondrially encoded NADH:ubiquinone oxidoreductase core subunit 1). Is predicted to contribute to NADH dehydrogenase activity. Human ortholog(s) of this gene are implicated in Leber hereditary optic neuropathy and MELAS syndrome.</td>\n",
       "    </tr>\n",
       "    <tr>\n",
       "      <th id=\"T_f672c_level0_row3\" class=\"row_heading level0 row3\" >WBGene00010960</th>\n",
       "      <td id=\"T_f672c_row3_col0\" class=\"data row3 col0\" >WBGene00010960</td>\n",
       "      <td id=\"T_f672c_row3_col1\" class=\"data row3 col1\" >atp-6</td>\n",
       "      <td id=\"T_f672c_row3_col2\" class=\"data row3 col2\" >Is predicted to contribute to proton-transporting ATP synthase activity, rotational mechanism.</td>\n",
       "    </tr>\n",
       "    <tr>\n",
       "      <th id=\"T_f672c_level0_row4\" class=\"row_heading level0 row4\" >WBGene00010961</th>\n",
       "      <td id=\"T_f672c_row4_col0\" class=\"data row4 col0\" >WBGene00010961</td>\n",
       "      <td id=\"T_f672c_row4_col1\" class=\"data row4 col1\" >nduo-2</td>\n",
       "      <td id=\"T_f672c_row4_col2\" class=\"data row4 col2\" >Is affected by several genes including hsf-1; clk-1; and elt-2 based on RNA-seq and microarray studies. Is affected by eight chemicals including stavudine; Zidovudine; and Psoralens based on RNA-seq and microarray studies.</td>\n",
       "    </tr>\n",
       "  </tbody>\n",
       "</table>\n"
      ],
      "text/plain": [
       "<pandas.io.formats.style.Styler at 0x7f3b20658940>"
      ]
     },
     "metadata": {},
     "output_type": "display_data"
    }
   ],
   "source": [
    "display(\n",
    "    adata.var.head().style.set_properties(\n",
    "        subset=[\"gene_description\"], **{\"width\": \"600px\"}\n",
    "    )\n",
    ")"
   ]
  },
  {
   "cell_type": "markdown",
   "metadata": {
    "id": "u9K0Cyl-HOke"
   },
   "source": [
    "### Selecting genes and loading data\n",
    "\n",
    "We use the utility `scvi.data.poisson_gene_selection` to select genes according to their dropout rate, which is a simple and scalable approach to select genes.\n",
    "\n",
    "This method was described by Andrews & Hemberg in the article `M3Drop: dropout-based feature selection for scRNASeq `:\n",
    "https://academic.oup.com/bioinformatics/article/35/16/2865/5258099\n",
    "\n",
    "This method modifies the adata to add the following fields:\n",
    "\n",
    "```\n",
    "highly_variable                   # boolean true for chosen genes\n",
    "observed_fraction_zeros\t       # fraction of observed zeros per gene\n",
    "expected_fraction_zeros\t       # expected fraction of observed zeros per gene\n",
    "prob_zero_enriched_nbatches\t   # If batch_key is given, this denotes in how many batches genes are detected as zero enriched\n",
    "prob_zero_enrichment\t          # Probability of zero enrichment, median across batches in the case of multiple batches\n",
    "prob_zero_enrichment_rank         # Rank of the gene according to probability of zero enrichment\n",
    "```"
   ]
  },
  {
   "cell_type": "markdown",
   "metadata": {
    "tags": []
   },
   "source": [
    "```{note}\n",
    "Gene selection is an important step to obtain relevant cell representations with scVI.\n",
    "Generally, selecting the top few thousands top-ranking genes predicted by a gene selection tool suffice to obtain good performance.\n",
    "\n",
    "Increasing the number of selected genes may be required in some applications, e.g., to increase the number of considered genes for differential expression.\n",
    "Note, however, that this will increase the time required to reach convergence and GPU memory load.\n",
    "It may also require to tune scVI's model hyperparameters (see the autotune tutorial)\n",
    "\n",
    "Alternatives to the Poisson gene selection can be used, e.g., via scanpy or seurat.\n",
    "```"
   ]
  },
  {
   "cell_type": "code",
   "execution_count": 5,
   "metadata": {
    "colab": {
     "base_uri": "https://localhost:8080/"
    },
    "id": "TJ0vm6RiHOkf",
    "outputId": "5281d90b-6219-423a-f11e-3a38012a3e67",
    "tags": []
   },
   "outputs": [
    {
     "name": "stdout",
     "output_type": "stream",
     "text": [
      "Sampling from binomial...: 100%|███████| 10000/10000 [00:00<00:00, 21032.13it/s]\n"
     ]
    },
    {
     "data": {
      "text/html": [
       "<div>\n",
       "<style scoped>\n",
       "    .dataframe tbody tr th:only-of-type {\n",
       "        vertical-align: middle;\n",
       "    }\n",
       "\n",
       "    .dataframe tbody tr th {\n",
       "        vertical-align: top;\n",
       "    }\n",
       "\n",
       "    .dataframe thead th {\n",
       "        text-align: right;\n",
       "    }\n",
       "</style>\n",
       "<table border=\"1\" class=\"dataframe\">\n",
       "  <thead>\n",
       "    <tr style=\"text-align: right;\">\n",
       "      <th></th>\n",
       "      <th>gene_id</th>\n",
       "      <th>gene_name</th>\n",
       "      <th>gene_description</th>\n",
       "      <th>highly_variable</th>\n",
       "      <th>observed_fraction_zeros</th>\n",
       "      <th>expected_fraction_zeros</th>\n",
       "      <th>prob_zero_enriched_nbatches</th>\n",
       "      <th>prob_zero_enrichment</th>\n",
       "      <th>prob_zero_enrichment_rank</th>\n",
       "    </tr>\n",
       "    <tr>\n",
       "      <th>index</th>\n",
       "      <th></th>\n",
       "      <th></th>\n",
       "      <th></th>\n",
       "      <th></th>\n",
       "      <th></th>\n",
       "      <th></th>\n",
       "      <th></th>\n",
       "      <th></th>\n",
       "      <th></th>\n",
       "    </tr>\n",
       "  </thead>\n",
       "  <tbody>\n",
       "    <tr>\n",
       "      <th>WBGene00010957</th>\n",
       "      <td>WBGene00010957</td>\n",
       "      <td>nduo-6</td>\n",
       "      <td>Is affected by several genes including daf-16;...</td>\n",
       "      <td>False</td>\n",
       "      <td>0.075685</td>\n",
       "      <td>0.002028</td>\n",
       "      <td>0</td>\n",
       "      <td>0.0766</td>\n",
       "      <td>15689.0</td>\n",
       "    </tr>\n",
       "    <tr>\n",
       "      <th>WBGene00010958</th>\n",
       "      <td>WBGene00010958</td>\n",
       "      <td>ndfl-4</td>\n",
       "      <td>Is enriched in Psub2 based on RNA-seq studies....</td>\n",
       "      <td>True</td>\n",
       "      <td>0.659680</td>\n",
       "      <td>0.623356</td>\n",
       "      <td>1</td>\n",
       "      <td>0.2415</td>\n",
       "      <td>19496.0</td>\n",
       "    </tr>\n",
       "    <tr>\n",
       "      <th>WBGene00010959</th>\n",
       "      <td>WBGene00010959</td>\n",
       "      <td>nduo-1</td>\n",
       "      <td>Is an ortholog of human MT-ND1 (mitochondriall...</td>\n",
       "      <td>True</td>\n",
       "      <td>0.201993</td>\n",
       "      <td>0.046608</td>\n",
       "      <td>1</td>\n",
       "      <td>0.1947</td>\n",
       "      <td>18999.0</td>\n",
       "    </tr>\n",
       "    <tr>\n",
       "      <th>WBGene00010960</th>\n",
       "      <td>WBGene00010960</td>\n",
       "      <td>atp-6</td>\n",
       "      <td>Is predicted to contribute to proton-transport...</td>\n",
       "      <td>True</td>\n",
       "      <td>0.138081</td>\n",
       "      <td>0.001848</td>\n",
       "      <td>1</td>\n",
       "      <td>0.1407</td>\n",
       "      <td>17936.0</td>\n",
       "    </tr>\n",
       "    <tr>\n",
       "      <th>WBGene00010961</th>\n",
       "      <td>WBGene00010961</td>\n",
       "      <td>nduo-2</td>\n",
       "      <td>Is affected by several genes including hsf-1; ...</td>\n",
       "      <td>True</td>\n",
       "      <td>0.468434</td>\n",
       "      <td>0.383116</td>\n",
       "      <td>1</td>\n",
       "      <td>0.2862</td>\n",
       "      <td>19810.0</td>\n",
       "    </tr>\n",
       "  </tbody>\n",
       "</table>\n",
       "</div>"
      ],
      "text/plain": [
       "                       gene_id gene_name  \\\n",
       "index                                      \n",
       "WBGene00010957  WBGene00010957    nduo-6   \n",
       "WBGene00010958  WBGene00010958    ndfl-4   \n",
       "WBGene00010959  WBGene00010959    nduo-1   \n",
       "WBGene00010960  WBGene00010960     atp-6   \n",
       "WBGene00010961  WBGene00010961    nduo-2   \n",
       "\n",
       "                                                 gene_description  \\\n",
       "index                                                               \n",
       "WBGene00010957  Is affected by several genes including daf-16;...   \n",
       "WBGene00010958  Is enriched in Psub2 based on RNA-seq studies....   \n",
       "WBGene00010959  Is an ortholog of human MT-ND1 (mitochondriall...   \n",
       "WBGene00010960  Is predicted to contribute to proton-transport...   \n",
       "WBGene00010961  Is affected by several genes including hsf-1; ...   \n",
       "\n",
       "                highly_variable  observed_fraction_zeros  \\\n",
       "index                                                      \n",
       "WBGene00010957            False                 0.075685   \n",
       "WBGene00010958             True                 0.659680   \n",
       "WBGene00010959             True                 0.201993   \n",
       "WBGene00010960             True                 0.138081   \n",
       "WBGene00010961             True                 0.468434   \n",
       "\n",
       "                expected_fraction_zeros  prob_zero_enriched_nbatches  \\\n",
       "index                                                                  \n",
       "WBGene00010957                 0.002028                            0   \n",
       "WBGene00010958                 0.623356                            1   \n",
       "WBGene00010959                 0.046608                            1   \n",
       "WBGene00010960                 0.001848                            1   \n",
       "WBGene00010961                 0.383116                            1   \n",
       "\n",
       "                prob_zero_enrichment  prob_zero_enrichment_rank  \n",
       "index                                                            \n",
       "WBGene00010957                0.0766                    15689.0  \n",
       "WBGene00010958                0.2415                    19496.0  \n",
       "WBGene00010959                0.1947                    18999.0  \n",
       "WBGene00010960                0.1407                    17936.0  \n",
       "WBGene00010961                0.2862                    19810.0  "
      ]
     },
     "execution_count": 5,
     "metadata": {},
     "output_type": "execute_result"
    }
   ],
   "source": [
    "scvi.data.poisson_gene_selection(adata)\n",
    "adata.var.head()"
   ]
  },
  {
   "cell_type": "code",
   "execution_count": 6,
   "metadata": {
    "colab": {
     "base_uri": "https://localhost:8080/"
    },
    "id": "4BkXg09n9WvB",
    "outputId": "d4d57f71-5f6f-490e-c3c2-e85d2a9a9252",
    "tags": []
   },
   "outputs": [],
   "source": [
    "adata = adata[:, adata.var[\"highly_variable\"]]  # focus on selected genes\n",
    "adata.layers[\n",
    "    \"counts\"\n",
    "] = adata.X.copy().tocsr()  # converts to CSR format, preserve counts\n",
    "\n",
    "scvi.model.SCVI.setup_anndata(\n",
    "    adata, layer=\"counts\", batch_key=\"batch\"\n",
    ")  # prepare data for scVI"
   ]
  },
  {
   "cell_type": "markdown",
   "metadata": {
    "id": "SC6C1aquHOkk"
   },
   "source": [
    "### Define and train the model"
   ]
  },
  {
   "cell_type": "code",
   "execution_count": 7,
   "metadata": {
    "colab": {
     "base_uri": "https://localhost:8080/",
     "height": 1000
    },
    "id": "vz1bRFwVH5Ly",
    "outputId": "afc19bd7-eb8c-4ac5-f761-3fda74d3a10b",
    "tags": []
   },
   "outputs": [
    {
     "name": "stderr",
     "output_type": "stream",
     "text": [
      "GPU available: True (cuda), used: True\n",
      "TPU available: False, using: 0 TPU cores\n",
      "IPU available: False, using: 0 IPUs\n",
      "HPU available: False, using: 0 HPUs\n",
      "You are using a CUDA device ('NVIDIA GeForce RTX 3090') that has Tensor Cores. To properly utilize them, you should set `torch.set_float32_matmul_precision('medium' | 'high')` which will trade-off precision for performance. For more details, read https://pytorch.org/docs/stable/generated/torch.set_float32_matmul_precision.html#torch.set_float32_matmul_precision\n",
      "LOCAL_RANK: 0 - CUDA_VISIBLE_DEVICES: [0]\n"
     ]
    },
    {
     "name": "stdout",
     "output_type": "stream",
     "text": [
      "Epoch 400/400: 100%|█████████████████| 400/400 [17:21<00:00,  2.61s/it, v_num=1]"
     ]
    },
    {
     "name": "stderr",
     "output_type": "stream",
     "text": [
      "`Trainer.fit` stopped: `max_epochs=400` reached.\n"
     ]
    },
    {
     "name": "stdout",
     "output_type": "stream",
     "text": [
      "Epoch 400/400: 100%|█████████████████| 400/400 [17:21<00:00,  2.60s/it, v_num=1]\n"
     ]
    }
   ],
   "source": [
    "model = scvi.model.SCVI(\n",
    "    adata, gene_likelihood=\"nb\"\n",
    ")  # We use Negative Binomial count likelihoods, following Boyeau et al., 2023.\n",
    "model.train(\n",
    "    check_val_every_n_epoch=1,\n",
    "    max_epochs=400,\n",
    "    early_stopping=True,\n",
    "    early_stopping_patience=20,\n",
    "    early_stopping_monitor=\"elbo_validation\",\n",
    ")"
   ]
  },
  {
   "cell_type": "code",
   "execution_count": 8,
   "metadata": {
    "tags": []
   },
   "outputs": [
    {
     "data": {
      "image/png": "[encoded data removed]",
      "text/plain": [
       "<Figure size 640x480 with 1 Axes>"
      ]
     },
     "metadata": {
      "image/png": {
       "height": 432,
       "width": 595
      }
     },
     "output_type": "display_data"
    }
   ],
   "source": [
    "# Ensure convergence\n",
    "train_test_results = model.history[\"elbo_train\"]\n",
    "train_test_results[\"elbo_validation\"] = model.history[\"elbo_validation\"]\n",
    "train_test_results.iloc[10:].plot(logy=True)  # exclude first 10 epochs\n",
    "plt.show()"
   ]
  },
  {
   "cell_type": "markdown",
   "metadata": {
    "id": "lsJzdOyvHOk6"
   },
   "source": [
    "### Get the latent space and compute UMAP"
   ]
  },
  {
   "cell_type": "code",
   "execution_count": null,
   "metadata": {
    "colab": {
     "base_uri": "https://localhost:8080/"
    },
    "id": "I8wz1jvmHOk_",
    "outputId": "1abd0df8-c018-4c71-e9d2-ebe316a1a191",
    "tags": []
   },
   "outputs": [],
   "source": [
    "latent = model.get_latent_representation()\n",
    "adata.obsm[\"X_scVI\"] = latent\n",
    "sc.pp.neighbors(adata, use_rep=\"X_scVI\")\n",
    "sc.tl.umap(adata)\n",
    "sc.pl.umap(adata, color=\"cell_type\")"
   ]
  },
  {
   "cell_type": "markdown",
   "metadata": {
    "id": "8idttrnvHOlR"
   },
   "source": [
    "## Performing Differential Expression in scVI"
   ]
  },
  {
   "cell_type": "markdown",
   "metadata": {},
   "source": [
    "Differential expression (DE) analysis is used to quantify the differences in gene expression across subpopulations of genes.\n",
    "If we have two sets of cells $A$ and $B$, a DE test is typically used to predict two things for each gene:\n",
    "\n",
    "1. Whether the gene's expression levels are significantly different in the A and B sets of cells.\n",
    "1. An effect size that quantifies the strength of the differential expression.\n",
    "\n",
    "Once trained, scVI can natively perform both of these tasks.\n",
    "Additionally, its differential expression module can account for batch effects and filter DE genes expected to be of little relevance."
   ]
  },
  {
   "cell_type": "markdown",
   "metadata": {
    "id": "L5W-6dvsHOlU"
   },
   "source": [
    "### Selecting cell subpopulations to compare"
   ]
  },
  {
   "cell_type": "code",
   "execution_count": null,
   "metadata": {
    "colab": {
     "base_uri": "https://localhost:8080/"
    },
    "id": "xCh28JZEHOlV",
    "outputId": "350646fb-f303-4807-b8ea-1e265365aced",
    "tags": []
   },
   "outputs": [],
   "source": [
    "# let's take a look at abundances of different cell types\n",
    "adata.obs[\"cell_type\"].value_counts()"
   ]
  },
  {
   "cell_type": "markdown",
   "metadata": {},
   "source": [
    "scVI provides several options to identify the two populations of interest."
   ]
  },
  {
   "cell_type": "code",
   "execution_count": null,
   "metadata": {
    "tags": []
   },
   "outputs": [],
   "source": [
    "cell_type_1 = \"Ciliated_non_amphid_neuron\"\n",
    "cell_idx1 = adata.obs[\"cell_type\"] == cell_type_1\n",
    "print(sum(cell_idx1), \"cells of type\", cell_type_1)\n",
    "\n",
    "cell_type_2 = \"Intestine\"\n",
    "cell_idx2 = adata.obs[\"cell_type\"] == cell_type_2\n",
    "print(sum(cell_idx2), \"cells of type\", cell_type_2)\n",
    "\n",
    "# or equivalently, provide a string of the form \"my_celltype_column == 'desired_celltype'\"\n",
    "# cell_idx1 = \"cell_type == 'Ciliated_non_amphid_neuron'\"\n",
    "# cell_idx2 = \"cell_type == 'Intestine'\""
   ]
  },
  {
   "cell_type": "markdown",
   "metadata": {},
   "source": [
    "### Basic principle"
   ]
  },
  {
   "cell_type": "markdown",
   "metadata": {
    "id": "kXmBTPxuHOma"
   },
   "source": [
    "#### DE and log fold-changes\n",
    "\n",
    "scVI can natively be used to perform differential expression analyses to compare populations of cells, as described [here](https://doi.org/10.1101/794289) and [there](https://doi.org/10.1101/2022.05.27.493625).\n",
    "It achieves this by estimating the posterior distribution of the log fold-change (LFC) between subpopulations $A$ and $B$.\n",
    "Specifically, for a given gene g, scVI calculates the LFC as the difference between the logarithm of its expression level in population A, denoted by $h_g^A$, and the logarithm of its expression level in population B, denoted by $h_g^B$.\n",
    "\n",
    "The resulting value, denoted by $\\beta_g$, provides insights into the expression patterns of gene $g$.\n",
    "Values close to zero indicate that the gene is expressed similarly in both populations, positive values suggest upregulation in population A and negative values indicate downregulation in population A. This information can be used to better understand the biological mechanisms underlying the differences between the two cell populations.\n",
    "\n",
    "#### DE testing\n",
    "\n",
    "In addition to estimating the LFC, scVI can also detect which genes have *significant* expression patterns.\n",
    "To tag which genes are differentially expressed, scVI tests the following competing hypotheses\n",
    "$M_{1, g}: \\beta_g \\in [-\\delta, \\delta]$ and $M_{2, g}: \\beta_g \\in (-\\infty, -\\delta) \\cup (\\delta, \\infty)$.\n",
    "Here, $\\delta$ denotes a small LFC threshold, such that $\\beta_g \\in [-\\delta, \\delta]$ is evidence that the gene is equally expressed in the two subpopulations.\n",
    "\n",
    "Differentially expressed genes are identified by computing the posterior probability of $M_{2, g}$."
   ]
  },
  {
   "cell_type": "markdown",
   "metadata": {},
   "source": [
    "### Running DE analyses"
   ]
  },
  {
   "cell_type": "markdown",
   "metadata": {},
   "source": [
    "#### Running and understanding a DE run"
   ]
  },
  {
   "cell_type": "markdown",
   "metadata": {},
   "source": [
    "A simple DE analysis can then be performed using the following command"
   ]
  },
  {
   "cell_type": "code",
   "execution_count": null,
   "metadata": {
    "tags": []
   },
   "outputs": [],
   "source": [
    "de_change = model.differential_expression(idx1=cell_idx1, idx2=cell_idx2)\n",
    "de_change"
   ]
  },
  {
   "cell_type": "markdown",
   "metadata": {
    "tags": []
   },
   "source": [
    "This method returns a pandas DataFrame, where each row corresponds to a gene.\n",
    "The most important columns of this dataframe are the following.\n",
    "**proba_de**, which captures the posterior probability of $M_{2, g}$ that the gene is differentially expressed. Values close to one indicate that the gene is DE;\n",
    "**lfc_mean** and **lfc_median**, respectively denoting the mean and the median of the posterior distribution of $\\beta_g$. Positive values of the LFC signify that the gene is upregulated in `idx1`;\n",
    "**is_de_fdr_0.05** is `True` when the gene is tagged DE after FDR correction at target level $\\alpha=0.05$. The target level can be adjusted by specifying `fdr_target` in the `differential_expression` method."
   ]
  },
  {
   "cell_type": "markdown",
   "metadata": {},
   "source": [
    "#### Main hyperparameters"
   ]
  },
  {
   "cell_type": "markdown",
   "metadata": {},
   "source": [
    "Additional parameters can be tuned in specific applications.\n",
    "\n",
    "1. **weights**, which can correspond to <span style=\"color:#eb5e34\">\"uniform\"</span> or <span style=\"color:#eb5e34\">\"importance\"</span> specify how normalized gene expressions in the two subpopulations are computed. The <span style=\"color:#eb5e34\">\"importance\"</span> flavor is specifically designed to provide FDR-calibrated gene sets, but may be overkill if you only aim to rank genes (via their LFC for instance).\n",
    "1. **filter_outlier_cells** filters out outlier cells prior to computing normalized gene expressions. It is important to set this parameter to `True` when `weights='importance'`.\n",
    "1. **delta** allows to specify $\\delta$, which is used to detect differentially expressed genes. It can also be set automatically using `delta=None`\n",
    "1. **pseudocounts**, which is zero by default, but can be set to a small value (e.g., 1e-6) when many detected DE genes are seldom expressed in the compared populations.\n",
    "1. **batch_correction**, which should be set to `True` to account for batch effects. This only makes sense when `idx1` and `idx2` denote cells coming from overlapping batches.\n",
    "\n",
    "The exact function of these parameters is described [here](https://doi.org/10.1101/2022.05.27.493625)."
   ]
  },
  {
   "cell_type": "markdown",
   "metadata": {
    "id": "ArBDkX11HOmj"
   },
   "source": [
    "### Volcano plot of change mode DE with p-values"
   ]
  },
  {
   "cell_type": "code",
   "execution_count": null,
   "metadata": {
    "tags": []
   },
   "outputs": [],
   "source": [
    "de_change_uniform = model.differential_expression(\n",
    "    idx1=cell_idx1,  # we use the same cells as chosen before\n",
    "    idx2=cell_idx2,\n",
    "    weights=\"uniform\",\n",
    "    batch_correction=True,\n",
    ")\n",
    "\n",
    "# manipulate the DE results for plotting\n",
    "de_change_uniform[\"log10_pscore\"] = np.log10(de_change_uniform[\"proba_not_de\"])\n",
    "de_change_uniform = de_change_uniform.join(adata.var, how=\"inner\")\n",
    "de_change_uniform.head()"
   ]
  },
  {
   "cell_type": "code",
   "execution_count": null,
   "metadata": {
    "colab": {
     "base_uri": "https://localhost:8080/"
    },
    "id": "tybxKynTHOma",
    "outputId": "ab78407c-2c71-4357-b26c-f6400fa79351",
    "tags": []
   },
   "outputs": [],
   "source": [
    "de_change_importance = model.differential_expression(\n",
    "    idx1=cell_idx1,  # we use the same cells as chosen before\n",
    "    idx2=cell_idx2,\n",
    "    weights=\"importance\",\n",
    "    filter_outlier_cells=True,\n",
    "    batch_correction=True,\n",
    "    importance_weighting_kwargs=dict(\n",
    "        max_cells=1024,\n",
    "        truncation=False,\n",
    "    ),\n",
    ")\n",
    "\n",
    "# manipulate the DE results for plotting\n",
    "de_change_importance[\"log10_pscore\"] = np.log10(de_change_importance[\"proba_not_de\"])\n",
    "de_change_importance = de_change_importance.join(adata.var, how=\"inner\")"
   ]
  },
  {
   "cell_type": "code",
   "execution_count": null,
   "metadata": {
    "tags": []
   },
   "outputs": [],
   "source": [
    "de_comp = pd.concat(\n",
    "    [\n",
    "        de_change_importance.assign(flavor=\"importance\"),\n",
    "        de_change_uniform.assign(flavor=\"uniform\"),\n",
    "    ]\n",
    ")\n",
    "de_comp[\"gene_type\"] = \"Other\"\n",
    "de_comp.loc[lambda x: x[\"gene_name\"].str.contains(\"rpl-\"), \"gene_type\"] = \"RPL\"\n",
    "de_comp.loc[lambda x: x[\"gene_name\"].str.contains(\"ceh-\"), \"gene_type\"] = \"CEH\"\n",
    "de_comp.loc[lambda x: x[\"gene_name\"].str.contains(\"flp-\"), \"gene_type\"] = \"FPL\"\n",
    "\n",
    "(\n",
    "    p9.ggplot(de_comp, p9.aes(\"lfc_mean\", \"-log10_pscore\", color=\"gene_type\"))\n",
    "    + p9.geom_point(\n",
    "        de_comp.query(\"gene_type == 'Other'\"), alpha=0.5\n",
    "    )  # Plot other genes with transparence\n",
    "    + p9.geom_point(de_comp.query(\"gene_type != 'Other'\"))\n",
    "    + p9.scale_color_manual(values=gene_colors, breaks=gene_names)\n",
    "    + p9.labs(x=\"LFC mean\", y=\"Significance score (higher is more significant)\")\n",
    "    + p9.facet_wrap(\"flavor\")\n",
    ")"
   ]
  },
  {
   "cell_type": "markdown",
   "metadata": {},
   "source": [
    "Contrary to the `uniform` flavor, the `importance` flavor returns sharper posterior probability scores (posterior probability near 0 or 1, respectively in case of equal expression or differential expression)."
   ]
  },
  {
   "cell_type": "markdown",
   "metadata": {
    "id": "N0TyhKnbHOmr"
   },
   "source": [
    "### Heatmap of top expressed genes\n",
    "\n",
    "Now we perform DE between each cell type vs all other cells and make a heatmap of the result."
   ]
  },
  {
   "cell_type": "code",
   "execution_count": null,
   "metadata": {
    "colab": {
     "base_uri": "https://localhost:8080/"
    },
    "id": "GEg8HeCWHOmt",
    "outputId": "bdf8df48-0698-4a35-f7f3-a8b6e29a6075",
    "scrolled": true,
    "tags": []
   },
   "outputs": [],
   "source": [
    "# here we do a 1-vs-all DE test, which compares each cell type with all others\n",
    "# this returns the concatenation of all 1vsall results, contained in a DataFrame\n",
    "change_per_cluster_de = model.differential_expression(groupby=\"cell_type\")"
   ]
  },
  {
   "cell_type": "markdown",
   "metadata": {},
   "source": [
    "We focus on cell-types with at least 500 cells, and which have annotations to facilitate heatmap visualization"
   ]
  },
  {
   "cell_type": "code",
   "execution_count": null,
   "metadata": {
    "tags": []
   },
   "outputs": [],
   "source": [
    "cell_types = (\n",
    "    adata.obs[\"cell_type\"]\n",
    "    .value_counts()\n",
    "    # .loc[lambda x: (x >= 500) & (x.index != \"nan\")]\n",
    "    .loc[lambda x: x.index != \"nan\"]\n",
    "    .to_frame(\"n_cells\")\n",
    ")\n",
    "cell_types.loc[:, \"associated_test\"] = cell_types.index.astype(str) + \" vs Rest\""
   ]
  },
  {
   "cell_type": "code",
   "execution_count": null,
   "metadata": {
    "tags": []
   },
   "outputs": [],
   "source": [
    "# This cell extracts list of top 5 upregulated genes for every cell-type\n",
    "marker_genes = (\n",
    "    change_per_cluster_de.reset_index()\n",
    "    .loc[lambda x: x.comparison.isin(cell_types.associated_test.values)]\n",
    "    .groupby(\"comparison\")\n",
    "    .apply(\n",
    "        lambda x: x.sort_values(\"lfc_mean\", ascending=False).iloc[:5]\n",
    "    )  # Select top 5 DE genes per comparison\n",
    "    .reset_index(drop=True)[\"index\"]\n",
    "    .unique()\n",
    ")"
   ]
  },
  {
   "cell_type": "code",
   "execution_count": null,
   "metadata": {
    "tags": []
   },
   "outputs": [],
   "source": [
    "adata_log = adata[adata.obs.cell_type.isin(cell_types.index.values)].copy()\n",
    "sc.pp.normalize_total(adata_log)\n",
    "sc.pp.log1p(adata_log)\n",
    "sc.pl.dotplot(adata_log, marker_genes, groupby=\"cell_type\")"
   ]
  },
  {
   "cell_type": "code",
   "execution_count": null,
   "metadata": {},
   "outputs": [],
   "source": []
  }
 ],
 "metadata": {
  "accelerator": "GPU",
  "colab": {
   "collapsed_sections": [],
   "machine_shape": "hm",
   "name": "scVI_DE_worm_scvi_v0.9.0.ipynb",
   "provenance": []
  },
  "kernelspec": {
   "display_name": "Python 3 (ipykernel)",
   "language": "python",
   "name": "python3"
  },
  "language_info": {
   "codemirror_mode": {
    "name": "ipython",
    "version": 3
   },
   "file_extension": ".py",
   "mimetype": "text/x-python",
   "name": "python",
   "nbconvert_exporter": "python",
   "pygments_lexer": "ipython3",
   "version": "3.9.16"
  },
  "pycharm": {
   "stem_cell": {
    "cell_type": "raw",
    "metadata": {
     "collapsed": false
    },
    "source": []
   }
  },
  "toc": {
   "base_numbering": 1,
   "nav_menu": {},
   "number_sections": true,
   "sideBar": true,
   "skip_h1_title": false,
   "title_cell": "Table of Contents",
   "title_sidebar": "Contents",
   "toc_cell": false,
   "toc_position": {},
   "toc_section_display": true,
   "toc_window_display": false
  }
 },
 "nbformat": 4,
 "nbformat_minor": 4
}
