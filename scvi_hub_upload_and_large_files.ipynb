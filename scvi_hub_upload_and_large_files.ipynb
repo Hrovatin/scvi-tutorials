{
 "cells": [
  {
   "attachments": {},
   "cell_type": "markdown",
   "id": "e5abf651",
   "metadata": {},
   "source": [
    "# Using scvi-hub to upload pretrained scvi-tools models\n",
    "In this tutorial, we will see how to use scvi-tools to upload pretrained models onto Hugging Face. We will also see how to handle large training datasets.\n",
    "\n",
    "If you have not already, make sure to refer to our scvi_hub_into_and_download tutorial, which is a pre-requisite to this one. It introduces Hugging Face (HF) and the scvi-hub, and describes how to use them for downloading pre-trained models from the HF Model Hub."
   ]
  },
  {
   "attachments": {},
   "cell_type": "markdown",
   "id": "845a6dd6",
   "metadata": {},
   "source": [
    "# Imports\n",
    "Let's start by adding the Python imports we need."
   ]
  },
  {
   "cell_type": "code",
   "execution_count": 1,
   "id": "012a0495",
   "metadata": {},
   "outputs": [],
   "source": [
    "import scvi\n",
    "from scvi.hub import HubModel, HubMetadata, HubModelCardHelper"
   ]
  },
  {
   "attachments": {},
   "cell_type": "markdown",
   "id": "691c5b05",
   "metadata": {},
   "source": [
    "# Pretrain a demo model\n",
    "\n",
    "Let's pretrain a model on some synthetic data which we'll later use to upload to the scvi-hub later."
   ]
  },
  {
   "cell_type": "code",
   "execution_count": 5,
   "id": "cd28b094",
   "metadata": {},
   "outputs": [
    {
     "name": "stderr",
     "output_type": "stream",
     "text": [
      "/Users/valehvpa/GitRepos/scvi-tools/scvi/data/_built_in_data/_synthetic.py:32: FutureWarning: X.dtype being converted to np.float32 from int64. In the next version of anndata (0.9) conversion will not be automatic. Pass dtype explicitly to avoid this warning. Pass `AnnData(X, dtype=X.dtype, ...)` to get the future behavour.\n",
      "  adata = AnnData(data)\n",
      "INFO:pytorch_lightning.utilities.rank_zero:GPU available: True (mps), used: False\n",
      "INFO:pytorch_lightning.utilities.rank_zero:TPU available: False, using: 0 TPU cores\n",
      "INFO:pytorch_lightning.utilities.rank_zero:IPU available: False, using: 0 IPUs\n",
      "INFO:pytorch_lightning.utilities.rank_zero:HPU available: False, using: 0 HPUs\n",
      "/opt/homebrew/Caskroom/miniconda/base/envs/scvi-hub/lib/python3.9/site-packages/pytorch_lightning/trainer/trainer.py:1789: UserWarning: MPS available but not used. Set `accelerator` and `devices` using `Trainer(accelerator='mps', devices=1)`.\n",
      "  rank_zero_warn(\n",
      "/opt/homebrew/Caskroom/miniconda/base/envs/scvi-hub/lib/python3.9/site-packages/pytorch_lightning/trainer/trainer.py:1892: PossibleUserWarning: The number of training batches (3) is smaller than the logging interval Trainer(log_every_n_steps=10). Set a lower value for log_every_n_steps if you want to see logs for the training epoch.\n",
      "  rank_zero_warn(\n"
     ]
    },
    {
     "name": "stdout",
     "output_type": "stream",
     "text": [
      "Epoch 1/1: 100%|██████████| 1/1 [00:00<00:00, 39.55it/s, loss=333, v_num=1]"
     ]
    },
    {
     "name": "stderr",
     "output_type": "stream",
     "text": [
      "INFO:pytorch_lightning.utilities.rank_zero:`Trainer.fit` stopped: `max_epochs=1` reached.\n"
     ]
    },
    {
     "name": "stdout",
     "output_type": "stream",
     "text": [
      "Epoch 1/1: 100%|██████████| 1/1 [00:00<00:00, 31.65it/s, loss=333, v_num=1]\n"
     ]
    }
   ],
   "source": [
    "local_dir = \"local/scvi_hub_upload\"\n",
    "\n",
    "adata = scvi.data.synthetic_iid()\n",
    "scvi.model.SCVI.setup_anndata(adata)\n",
    "model = scvi.model.SCVI(adata)\n",
    "model.train(1)\n",
    "model.save(local_dir, save_anndata=True, overwrite=True)"
   ]
  },
  {
   "attachments": {},
   "cell_type": "markdown",
   "id": "ac5fdf39",
   "metadata": {},
   "source": [
    "# Model Card and Metadata\n",
    "\n",
    "To upload pretrained models, you'll need to create an instance of the `HubModel` class and then simply call its `push_to_huggingface_hub` method.\n",
    "\n",
    "As you can see from the API reference, the `HubModel` init function requires metadata and a Model Card. There are a few ways you can provide these:\n",
    "- The metadata can be either an instance of the `HubMetadata` class that contains the required metadata for this model, or a path to a JSON file on disk where this metadata can be read from.\n",
    "- The Model Card can be either an instance of the `HubModelCardHelper` class created for this model, or an instance of the HF [Model Card](https://huggingface.co/docs/huggingface_hub/package_reference/cards#huggingface_hub.ModelCard) object, or a path to a Markdown file on disk where the model card can be read from.\n",
    "    - You can also use the `HubModelCardHelper` class to create a Model Card from the scvi-tools template, then save it on disk and change it as you wish before passing it into the `HubModel` class.\n",
    "\n",
    "Here we'll see how to create the HubMetadata and a Model Card from the data on disk."
   ]
  },
  {
   "cell_type": "code",
   "execution_count": 17,
   "id": "89938623",
   "metadata": {},
   "outputs": [
    {
     "name": "stdout",
     "output_type": "stream",
     "text": [
      "\u001b[34mINFO    \u001b[0m File local/scvi_hub_upload/model.pt already downloaded                 \n",
      "\u001b[34mINFO    \u001b[0m File local/scvi_hub_upload/model.pt already downloaded                 \n"
     ]
    }
   ],
   "source": [
    "hm = HubMetadata.from_dir(local_dir, anndata_version=\"0.8.0\")\n",
    "\n",
    "hmch = HubModelCardHelper.from_dir(\n",
    "    local_dir,\n",
    "    license_info=\"cc-by-4.0\",\n",
    "    anndata_version=\"0.8.0\",\n",
    "    data_modalities=[\"rna\", \"protein\"],\n",
    "    data_is_annotated=False,\n",
    "    description=\"This is a demo model used during upload demo.\",\n",
    "    references=\"None.\",\n",
    ")"
   ]
  },
  {
   "cell_type": "code",
   "execution_count": 18,
   "id": "a5f1e8b3",
   "metadata": {},
   "outputs": [
    {
     "name": "stdout",
     "output_type": "stream",
     "text": [
      "---\n",
      "license: cc-by-4.0\n",
      "library_name: scvi-tools\n",
      "tags:\n",
      "- model_cls_name:SCVI\n",
      "- scvi_version:0.19.0a0\n",
      "- anndata_version:0.8.0\n",
      "- modality:rna\n",
      "- modality:protein\n",
      "- annotated:False\n",
      "---\n",
      "\n",
      "# Description\n",
      "\n",
      "This is a demo model used during upload demo.\n",
      "\n",
      "# Model properties\n",
      "\n",
      "Many model properties are in the model tags. Some more are listed below.\n",
      "\n",
      "**model_init_params**:\n",
      "```json\n",
      "{\n",
      "    \"n_hidden\": 128,\n",
      "    \"n_latent\": 10,\n",
      "    \"n_layers\": 1,\n",
      "    \"dropout_rate\": 0.1,\n",
      "    \"dispersion\": \"gene\",\n",
      "    \"gene_likelihood\": \"zinb\",\n",
      "    \"latent_distribution\": \"normal\"\n",
      "}\n",
      "```\n",
      "\n",
      "**model_setup_anndata_args**:\n",
      "```json\n",
      "{\n",
      "    \"layer\": null,\n",
      "    \"batch_key\": null,\n",
      "    \"labels_key\": null,\n",
      "    \"size_factor_key\": null,\n",
      "    \"categorical_covariate_keys\": null,\n",
      "    \"continuous_covariate_keys\": null\n",
      "}\n",
      "```\n",
      "\n",
      "**model_summary_stats**:\n",
      "|     Summary Stat Key     | Value |\n",
      "|--------------------------|-------|\n",
      "|         n_batch          |   1   |\n",
      "|         n_cells          |  400  |\n",
      "| n_extra_categorical_covs |   0   |\n",
      "| n_extra_continuous_covs  |   0   |\n",
      "|         n_labels         |   1   |\n",
      "|          n_vars          |  100  |\n",
      "\n",
      "**model_data_registry**:\n",
      "| Registry Key |    scvi-tools Location    |\n",
      "|--------------|---------------------------|\n",
      "|      X       |          adata.X          |\n",
      "|    batch     | adata.obs['_scvi_batch']  |\n",
      "|    labels    | adata.obs['_scvi_labels'] |\n",
      "\n",
      "**model_parent_module**: scvi.model\n",
      "\n",
      "**data_is_latent**: False\n",
      "\n",
      "# Training data\n",
      "\n",
      "This is an optional link to where the training data is stored if it is too large\n",
      "to host on the huggingface Model hub.\n",
      "\n",
      "<!-- This field is required for models that haven't been minified by converting to latent\n",
      "mode. See the scvi-tools documentation for more details. -->\n",
      "\n",
      "Training data url: N/A\n",
      "\n",
      "# Training code\n",
      "\n",
      "This is an optional link to the code used to train the model.\n",
      "\n",
      "Training code url: N/A\n",
      "\n",
      "# References\n",
      "\n",
      "None.\n"
     ]
    }
   ],
   "source": [
    "print(hmch.model_card.content)"
   ]
  },
  {
   "attachments": {},
   "cell_type": "markdown",
   "id": "7e908647",
   "metadata": {},
   "source": [
    "Suppose I wanted to change the References section to say \"None. This is a demo model.\". To do that, I'll save the card to disk and then change it manually."
   ]
  },
  {
   "cell_type": "code",
   "execution_count": 21,
   "id": "1c137ee3",
   "metadata": {},
   "outputs": [],
   "source": [
    "hmch.model_card.save(\"local/my_model_card.md\") # then change the markdown file on disk..."
   ]
  },
  {
   "cell_type": "code",
   "execution_count": 9,
   "id": "880b5f4a",
   "metadata": {},
   "outputs": [
    {
     "data": {
      "text/plain": [
       "'---\\nlicense: cc-by-4.0\\nlibrary_name: scvi-tools\\ntags:\\n- model_cls_name:SCVI\\n- scvi_version:0.19.0a0\\n- anndata_version:0.8.0\\n- modality:rna\\n- modality:protein\\n- annotated:False\\n---\\n\\n# Description\\n\\nThis is a demo model used during upload demo.\\n\\n# Model properties\\n\\nMany model properties are in the model tags. Some more are listed below.\\n\\n**model_init_params**:\\n```json\\n{\\n    \"n_hidden\": 128,\\n    \"n_latent\": 10,\\n    \"n_layers\": 1,\\n    \"dropout_rate\": 0.1,\\n    \"dispersion\": \"gene\",\\n    \"gene_likelihood\": \"zinb\",\\n    \"latent_distribution\": \"normal\"\\n}\\n```\\n\\n**model_setup_anndata_args**:\\n```json\\n{\\n    \"layer\": null,\\n    \"batch_key\": null,\\n    \"labels_key\": null,\\n    \"size_factor_key\": null,\\n    \"categorical_covariate_keys\": null,\\n    \"continuous_covariate_keys\": null\\n}\\n```\\n\\n**model_summary_stats**:\\n|     Summary Stat Key     | Value |\\n|--------------------------|-------|\\n|         n_batch          |   1   |\\n|         n_cells          |  400  |\\n| n_extra_categorical_covs |   0   |\\n| n_extra_continuous_covs  |   0   |\\n|         n_labels         |   1   |\\n|          n_vars          |  100  |\\n\\n**model_data_registry**:\\n| Registry Key |    scvi-tools Location    |\\n|--------------|---------------------------|\\n|      X       |          adata.X          |\\n|    batch     | adata.obs[\\'_scvi_batch\\']  |\\n|    labels    | adata.obs[\\'_scvi_labels\\'] |\\n\\n**model_parent_module**: scvi.model\\n\\n**data_is_latent**: False\\n\\n# Training data\\n\\nThis is an optional link to where the training data is stored if it is too large\\nto host on the huggingface Model hub.\\n\\n<!-- This field is required for models that haven\\'t been minified by converting to latent\\nmode. See the scvi-tools documentation for more details. -->\\n\\nTraining data url: N/A\\n\\n# Training code\\n\\nThis is an optional link to the code used to train the model.\\n\\nTraining code url: N/A\\n\\n# References\\n\\nNone. This is a demo model.'"
      ]
     },
     "execution_count": 9,
     "metadata": {},
     "output_type": "execute_result"
    }
   ],
   "source": [
    "print(hmch.model_card.content)"
   ]
  },
  {
   "cell_type": "code",
   "execution_count": null,
   "id": "77a062c0",
   "metadata": {},
   "outputs": [],
   "source": []
  }
 ],
 "metadata": {
  "kernelspec": {
   "display_name": "scvi-hub",
   "language": "python",
   "name": "python3"
  },
  "language_info": {
   "codemirror_mode": {
    "name": "ipython",
    "version": 3
   },
   "file_extension": ".py",
   "mimetype": "text/x-python",
   "name": "python",
   "nbconvert_exporter": "python",
   "pygments_lexer": "ipython3",
   "version": "3.9.13"
  },
  "vscode": {
   "interpreter": {
    "hash": "c7ad0fb529154325adae80858adf69263139128ad86800d0218f40cb1980a4c2"
   }
  }
 },
 "nbformat": 4,
 "nbformat_minor": 5
}
