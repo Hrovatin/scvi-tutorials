{
  "nbformat": 4,
  "nbformat_minor": 0,
  "metadata": {
    "colab": {
      "name": "MultiVI_tutorial.ipynb",
      "provenance": [],
      "collapsed_sections": []
    },
    "kernelspec": {
      "name": "python3",
      "display_name": "Python 3"
    },
    "language_info": {
      "name": "python"
    },
    "accelerator": "GPU"
  },
  "cells": [
    {
      "cell_type": "markdown",
      "metadata": {
        "id": "56KZeo3DBWfs"
      },
      "source": [
        "# MultiVI: Integration and joint analysis of paired and unpaired multiomic data\n",
        "MultiVI is used for the joint analysis of scRNA and scATAC-seq datasets that were jointly profiled (multiomic / paired) and single-modality datasets (only scRNA or only scATAC). MultiVI uses the paired data as an anchor to align and merge the latent spaces learned from each individual modality.\n",
        "\n",
        "This tutorial walk through how to read multiomic data, create a joint object with paired and unpaired data, set-up and train a MultiVI model, visualize the resulting latent space, and run differential analyses. "
      ]
    },
    {
      "cell_type": "code",
      "metadata": {
        "id": "aiZPSG4c8-qE",
        "colab": {
          "base_uri": "https://localhost:8080/"
        },
        "outputId": "ccba9520-d195-4d72-ef9e-2408a3c2b24c"
      },
      "source": [
        "import sys\n",
        "\n",
        "If True, will install via pypi, else will install from source\n",
        "stable = False\n",
        "IN_COLAB = \"google.colab\" in sys.modules\n",
        "\n",
        "if IN_COLAB and stable:\n",
        "!pip install --quiet scvi-tools\n",
        "elif IN_COLAB and not stable:\n",
        "    !pip install --quiet --upgrade jsonschema\n",
        "    !pip install --quiet git+https://github.com/yoseflab/scvi-tools@master#egg=scvi-tools[tutorials]"
      ],
      "execution_count": 5,
      "outputs": [
        {
          "output_type": "stream",
          "text": [
            "\u001b[33m  DEPRECATION: A future pip version will change local packages to be built in-place without first copying to a temporary directory. We recommend you use --use-feature=in-tree-build to test your packages with this new behavior before it becomes the default.\n",
            "   pip 21.3 will remove support for this functionality. You can find discussion regarding this at https://github.com/pypa/pip/issues/7555.\u001b[0m\n",
            "  Installing build dependencies ... \u001b[?25l\u001b[?25hdone\n",
            "  Getting requirements to build wheel ... \u001b[?25l\u001b[?25hdone\n",
            "    Preparing wheel metadata ... \u001b[?25l\u001b[?25hdone\n",
            "\u001b[K     |████████████████████████████████| 243 kB 8.2 MB/s \n",
            "\u001b[K     |████████████████████████████████| 916 kB 51.4 MB/s \n",
            "\u001b[K     |████████████████████████████████| 209 kB 62.9 MB/s \n",
            "\u001b[K     |████████████████████████████████| 678 kB 62.7 MB/s \n",
            "\u001b[K     |████████████████████████████████| 636 kB 64.2 MB/s \n",
            "\u001b[K     |████████████████████████████████| 118 kB 69.2 MB/s \n",
            "\u001b[K     |████████████████████████████████| 272 kB 70.4 MB/s \n",
            "\u001b[K     |████████████████████████████████| 829 kB 57.1 MB/s \n",
            "\u001b[K     |████████████████████████████████| 1.3 MB 57.4 MB/s \n",
            "\u001b[K     |████████████████████████████████| 51 kB 8.1 MB/s \n",
            "\u001b[K     |████████████████████████████████| 142 kB 66.6 MB/s \n",
            "\u001b[K     |████████████████████████████████| 294 kB 68.5 MB/s \n",
            "\u001b[?25h  Building wheel for scvi-tools (PEP 517) ... \u001b[?25l\u001b[?25hdone\n",
            "  Building wheel for future (setup.py) ... \u001b[?25l\u001b[?25hdone\n"
          ],
          "name": "stdout"
        }
      ]
    },
    {
      "cell_type": "markdown",
      "metadata": {
        "id": "dDXnPEdGLfPY"
      },
      "source": [
        "## Data acquisition\n",
        "First we download a sample multiome dataset from 10X. We'll use this throughout this tutorial.\n",
        "Importantly, MultiVI assumes that there are shared features between the datasets. This is trivial for gene expression datasets, which generally use the same set of genes as features. For ATAC-seq peaks, this is less trivial, and often requires preprocessing steps with other tools to get all datasets to use a shared set of peaks. That can be achieved with tools like SnapATAC, ArchR, and CellRanger in the case of 10X data."
      ]
    },
    {
      "cell_type": "code",
      "metadata": {
        "colab": {
          "base_uri": "https://localhost:8080/"
        },
        "id": "tE2nO6lbLH8i",
        "outputId": "f6c9221c-cd21-42c4-da75-5a4df81a8b69"
      },
      "source": [
        "!wget https://cf.10xgenomics.com/samples/cell-arc/2.0.0/pbmc_unsorted_10k/pbmc_unsorted_10k_filtered_feature_bc_matrix.tar.gz\n",
        "!sudo tar -xvf pbmc_unsorted_10k_filtered_feature_bc_matrix.tar.gz\n",
        "!gunzip -f filtered_feature_bc_matrix/*.gz"
      ],
      "execution_count": 11,
      "outputs": [
        {
          "output_type": "stream",
          "text": [
            "--2021-08-20 04:36:45--  https://cf.10xgenomics.com/samples/cell-arc/2.0.0/pbmc_unsorted_10k/pbmc_unsorted_10k_filtered_feature_bc_matrix.tar.gz\n",
            "Resolving cf.10xgenomics.com (cf.10xgenomics.com)... 104.18.1.173, 104.18.0.173, 2606:4700::6812:ad, ...\n",
            "Connecting to cf.10xgenomics.com (cf.10xgenomics.com)|104.18.1.173|:443... connected.\n",
            "HTTP request sent, awaiting response... 200 OK\n",
            "Length: 375260850 (358M) [application/x-tar]\n",
            "Saving to: ‘pbmc_unsorted_10k_filtered_feature_bc_matrix.tar.gz’\n",
            "\n",
            "pbmc_unsorted_10k_f 100%[===================>] 357.88M   119MB/s    in 3.0s    \n",
            "\n",
            "2021-08-20 04:36:48 (119 MB/s) - ‘pbmc_unsorted_10k_filtered_feature_bc_matrix.tar.gz’ saved [375260850/375260850]\n",
            "\n",
            "filtered_feature_bc_matrix/\n",
            "filtered_feature_bc_matrix/barcodes.tsv.gz\n",
            "filtered_feature_bc_matrix/matrix.mtx.gz\n",
            "filtered_feature_bc_matrix/features.tsv.gz\n"
          ],
          "name": "stdout"
        }
      ]
    },
    {
      "cell_type": "code",
      "metadata": {
        "id": "MLWcgWfSQ2mi"
      },
      "source": [
        "import scvi\n",
        "import anndata\n",
        "import scipy\n",
        "import numpy as np\n",
        "import pandas as pd\n",
        "import scanpy as sc\n",
        "import matplotlib.pyplot as plt\n",
        "\n",
        "import random\n",
        "random.seed(420)"
      ],
      "execution_count": 12,
      "outputs": []
    },
    {
      "cell_type": "markdown",
      "metadata": {
        "id": "tbQ8zbhVP8D6"
      },
      "source": [
        "## Data Processing\n",
        "Next, we'll read the data into an Anndata object. We'll then split the data to three datasets, and remove some modality-specific data from parts of the dataset, to demonstrate how MultIVI mixes multimodal and single-modal data.\n",
        "The data has 12012 cells, we'll use 4004 for each dataset."
      ]
    },
    {
      "cell_type": "code",
      "metadata": {
        "colab": {
          "base_uri": "https://localhost:8080/"
        },
        "id": "GPo6vQ9zWuY-",
        "outputId": "7f7e4df6-aaa1-42b0-a419-19f881d9b399"
      },
      "source": [
        "## read multiomic data\n",
        "adata = scvi.data.read_10x_multiome(\"filtered_feature_bc_matrix\")\n",
        "adata.var_names_make_unique()"
      ],
      "execution_count": 13,
      "outputs": [
        {
          "output_type": "stream",
          "text": [
            "Variable names are not unique. To make them unique, call `.var_names_make_unique`.\n"
          ],
          "name": "stderr"
        }
      ]
    },
    {
      "cell_type": "code",
      "metadata": {
        "id": "fuGMoMvrWuPz"
      },
      "source": [
        "## split to three datasets by modality (RNA, ATAC, Multiome), and corrupt data \n",
        "# by remove some data to create single-modality data\n",
        "adata_rna = adata[:4004, adata.var.modality == \"Gene Expression\"].copy()\n",
        "adata_paired = adata[4004:8008].copy()\n",
        "adata_atac = adata[8008:, adata.var.modality == \"Peaks\"].copy()"
      ],
      "execution_count": 14,
      "outputs": []
    },
    {
      "cell_type": "code",
      "metadata": {
        "id": "YnovBjadEAFH"
      },
      "source": [
        "## We can now use the organizing method from scvi to concatenate these anndata\n",
        "adata_mvi = scvi.data.organize_multiome_anndatas(adata_paired, adata_rna, adata_atac)"
      ],
      "execution_count": 15,
      "outputs": []
    },
    {
      "cell_type": "markdown",
      "metadata": {
        "id": "vLxYxEPg36VI"
      },
      "source": [
        "Note that `organize_multiome_anndatas` adds an annotation to the cells to indicate which modality they originate from:"
      ]
    },
    {
      "cell_type": "code",
      "metadata": {
        "colab": {
          "base_uri": "https://localhost:8080/",
          "height": 423
        },
        "id": "jjrZVuX_365d",
        "outputId": "d67945d4-c101-4e29-eac4-c3424be80983"
      },
      "source": [
        "adata_mvi.obs"
      ],
      "execution_count": 16,
      "outputs": [
        {
          "output_type": "execute_result",
          "data": {
            "text/html": [
              "<div>\n",
              "<style scoped>\n",
              "    .dataframe tbody tr th:only-of-type {\n",
              "        vertical-align: middle;\n",
              "    }\n",
              "\n",
              "    .dataframe tbody tr th {\n",
              "        vertical-align: top;\n",
              "    }\n",
              "\n",
              "    .dataframe thead th {\n",
              "        text-align: right;\n",
              "    }\n",
              "</style>\n",
              "<table border=\"1\" class=\"dataframe\">\n",
              "  <thead>\n",
              "    <tr style=\"text-align: right;\">\n",
              "      <th></th>\n",
              "      <th>batch_id</th>\n",
              "      <th>modality</th>\n",
              "    </tr>\n",
              "  </thead>\n",
              "  <tbody>\n",
              "    <tr>\n",
              "      <th>CCGCTAAAGGGCCATC_paired</th>\n",
              "      <td>1</td>\n",
              "      <td>paired</td>\n",
              "    </tr>\n",
              "    <tr>\n",
              "      <th>CCGCTAAAGTCTTGAA_paired</th>\n",
              "      <td>1</td>\n",
              "      <td>paired</td>\n",
              "    </tr>\n",
              "    <tr>\n",
              "      <th>CCGCTAAAGTTAGACC_paired</th>\n",
              "      <td>1</td>\n",
              "      <td>paired</td>\n",
              "    </tr>\n",
              "    <tr>\n",
              "      <th>CCGCTAAAGTTCCCAC_paired</th>\n",
              "      <td>1</td>\n",
              "      <td>paired</td>\n",
              "    </tr>\n",
              "    <tr>\n",
              "      <th>CCGCTAAAGTTTGCGG_paired</th>\n",
              "      <td>1</td>\n",
              "      <td>paired</td>\n",
              "    </tr>\n",
              "    <tr>\n",
              "      <th>...</th>\n",
              "      <td>...</td>\n",
              "      <td>...</td>\n",
              "    </tr>\n",
              "    <tr>\n",
              "      <th>TTTGTTGGTACGCGCA_accessibility</th>\n",
              "      <td>1</td>\n",
              "      <td>accessibility</td>\n",
              "    </tr>\n",
              "    <tr>\n",
              "      <th>TTTGTTGGTATTTGCC_accessibility</th>\n",
              "      <td>1</td>\n",
              "      <td>accessibility</td>\n",
              "    </tr>\n",
              "    <tr>\n",
              "      <th>TTTGTTGGTGATTACG_accessibility</th>\n",
              "      <td>1</td>\n",
              "      <td>accessibility</td>\n",
              "    </tr>\n",
              "    <tr>\n",
              "      <th>TTTGTTGGTTTCAGGA_accessibility</th>\n",
              "      <td>1</td>\n",
              "      <td>accessibility</td>\n",
              "    </tr>\n",
              "    <tr>\n",
              "      <th>TTTGTTGGTTTCCACG_accessibility</th>\n",
              "      <td>1</td>\n",
              "      <td>accessibility</td>\n",
              "    </tr>\n",
              "  </tbody>\n",
              "</table>\n",
              "<p>12012 rows × 2 columns</p>\n",
              "</div>"
            ],
            "text/plain": [
              "                                batch_id       modality\n",
              "CCGCTAAAGGGCCATC_paired                1         paired\n",
              "CCGCTAAAGTCTTGAA_paired                1         paired\n",
              "CCGCTAAAGTTAGACC_paired                1         paired\n",
              "CCGCTAAAGTTCCCAC_paired                1         paired\n",
              "CCGCTAAAGTTTGCGG_paired                1         paired\n",
              "...                                  ...            ...\n",
              "TTTGTTGGTACGCGCA_accessibility         1  accessibility\n",
              "TTTGTTGGTATTTGCC_accessibility         1  accessibility\n",
              "TTTGTTGGTGATTACG_accessibility         1  accessibility\n",
              "TTTGTTGGTTTCAGGA_accessibility         1  accessibility\n",
              "TTTGTTGGTTTCCACG_accessibility         1  accessibility\n",
              "\n",
              "[12012 rows x 2 columns]"
            ]
          },
          "metadata": {},
          "execution_count": 16
        }
      ]
    },
    {
      "cell_type": "markdown",
      "metadata": {
        "id": "TRxR38xehkKr"
      },
      "source": [
        "**MultiVI requires the features to be ordered, such that genes appear before genomic regions.** This must be enforced by the user.\n",
        "In this case this is already the case, but it's always good to verify:"
      ]
    },
    {
      "cell_type": "code",
      "metadata": {
        "colab": {
          "base_uri": "https://localhost:8080/",
          "height": 423
        },
        "id": "tNuo88gAh6W-",
        "outputId": "df48df1d-b49c-4019-bdd9-118d03cecaf5"
      },
      "source": [
        "adata_mvi = adata_mvi[:, adata_mvi.var[\"modality\"].argsort()].copy()\n",
        "adata_mvi.var"
      ],
      "execution_count": 17,
      "outputs": [
        {
          "output_type": "execute_result",
          "data": {
            "text/html": [
              "<div>\n",
              "<style scoped>\n",
              "    .dataframe tbody tr th:only-of-type {\n",
              "        vertical-align: middle;\n",
              "    }\n",
              "\n",
              "    .dataframe tbody tr th {\n",
              "        vertical-align: top;\n",
              "    }\n",
              "\n",
              "    .dataframe thead th {\n",
              "        text-align: right;\n",
              "    }\n",
              "</style>\n",
              "<table border=\"1\" class=\"dataframe\">\n",
              "  <thead>\n",
              "    <tr style=\"text-align: right;\">\n",
              "      <th></th>\n",
              "      <th>ID</th>\n",
              "      <th>modality</th>\n",
              "      <th>chr</th>\n",
              "      <th>start</th>\n",
              "      <th>end</th>\n",
              "    </tr>\n",
              "  </thead>\n",
              "  <tbody>\n",
              "    <tr>\n",
              "      <th>MIR1302-2HG</th>\n",
              "      <td>ENSG00000243485</td>\n",
              "      <td>Gene Expression</td>\n",
              "      <td>chr1</td>\n",
              "      <td>29553</td>\n",
              "      <td>30267</td>\n",
              "    </tr>\n",
              "    <tr>\n",
              "      <th>AL391261.2</th>\n",
              "      <td>ENSG00000258847</td>\n",
              "      <td>Gene Expression</td>\n",
              "      <td>chr14</td>\n",
              "      <td>66004522</td>\n",
              "      <td>66004523</td>\n",
              "    </tr>\n",
              "    <tr>\n",
              "      <th>FUT8-AS1</th>\n",
              "      <td>ENSG00000276116</td>\n",
              "      <td>Gene Expression</td>\n",
              "      <td>chr14</td>\n",
              "      <td>65412689</td>\n",
              "      <td>65412690</td>\n",
              "    </tr>\n",
              "    <tr>\n",
              "      <th>FUT8</th>\n",
              "      <td>ENSG00000033170</td>\n",
              "      <td>Gene Expression</td>\n",
              "      <td>chr14</td>\n",
              "      <td>65410591</td>\n",
              "      <td>65413008</td>\n",
              "    </tr>\n",
              "    <tr>\n",
              "      <th>AL355076.2</th>\n",
              "      <td>ENSG00000258760</td>\n",
              "      <td>Gene Expression</td>\n",
              "      <td>chr14</td>\n",
              "      <td>65302679</td>\n",
              "      <td>65318790</td>\n",
              "    </tr>\n",
              "    <tr>\n",
              "      <th>...</th>\n",
              "      <td>...</td>\n",
              "      <td>...</td>\n",
              "      <td>...</td>\n",
              "      <td>...</td>\n",
              "      <td>...</td>\n",
              "    </tr>\n",
              "    <tr>\n",
              "      <th>chr15:101277030-101277907</th>\n",
              "      <td>chr15:101277030-101277907</td>\n",
              "      <td>Peaks</td>\n",
              "      <td>chr15</td>\n",
              "      <td>101277030</td>\n",
              "      <td>101277907</td>\n",
              "    </tr>\n",
              "    <tr>\n",
              "      <th>chr15:101257856-101258771</th>\n",
              "      <td>chr15:101257856-101258771</td>\n",
              "      <td>Peaks</td>\n",
              "      <td>chr15</td>\n",
              "      <td>101257856</td>\n",
              "      <td>101258771</td>\n",
              "    </tr>\n",
              "    <tr>\n",
              "      <th>chr15:101251516-101252373</th>\n",
              "      <td>chr15:101251516-101252373</td>\n",
              "      <td>Peaks</td>\n",
              "      <td>chr15</td>\n",
              "      <td>101251516</td>\n",
              "      <td>101252373</td>\n",
              "    </tr>\n",
              "    <tr>\n",
              "      <th>chr15:101397608-101398445</th>\n",
              "      <td>chr15:101397608-101398445</td>\n",
              "      <td>Peaks</td>\n",
              "      <td>chr15</td>\n",
              "      <td>101397608</td>\n",
              "      <td>101398445</td>\n",
              "    </tr>\n",
              "    <tr>\n",
              "      <th>KI270713.1:36924-37836</th>\n",
              "      <td>KI270713.1:36924-37836</td>\n",
              "      <td>Peaks</td>\n",
              "      <td>KI270713.1</td>\n",
              "      <td>36924</td>\n",
              "      <td>37836</td>\n",
              "    </tr>\n",
              "  </tbody>\n",
              "</table>\n",
              "<p>148458 rows × 5 columns</p>\n",
              "</div>"
            ],
            "text/plain": [
              "                                                  ID  ...        end\n",
              "MIR1302-2HG                          ENSG00000243485  ...      30267\n",
              "AL391261.2                           ENSG00000258847  ...   66004523\n",
              "FUT8-AS1                             ENSG00000276116  ...   65412690\n",
              "FUT8                                 ENSG00000033170  ...   65413008\n",
              "AL355076.2                           ENSG00000258760  ...   65318790\n",
              "...                                              ...  ...        ...\n",
              "chr15:101277030-101277907  chr15:101277030-101277907  ...  101277907\n",
              "chr15:101257856-101258771  chr15:101257856-101258771  ...  101258771\n",
              "chr15:101251516-101252373  chr15:101251516-101252373  ...  101252373\n",
              "chr15:101397608-101398445  chr15:101397608-101398445  ...  101398445\n",
              "KI270713.1:36924-37836        KI270713.1:36924-37836  ...      37836\n",
              "\n",
              "[148458 rows x 5 columns]"
            ]
          },
          "metadata": {},
          "execution_count": 17
        }
      ]
    },
    {
      "cell_type": "markdown",
      "metadata": {
        "id": "Q4b1f0mwldGn"
      },
      "source": [
        "We also filter features to remove those that appear in fewer than 1% of the cells"
      ]
    },
    {
      "cell_type": "code",
      "metadata": {
        "colab": {
          "base_uri": "https://localhost:8080/"
        },
        "id": "FUhG037lWtYQ",
        "outputId": "8889baae-7701-4726-8ca3-15771850463b"
      },
      "source": [
        "print(adata_mvi.shape)\n",
        "sc.pp.filter_genes(adata_mvi, min_cells=int(adata_mvi.shape[0] * 0.01))\n",
        "print(adata_mvi.shape)"
      ],
      "execution_count": 19,
      "outputs": [
        {
          "output_type": "stream",
          "text": [
            "(12012, 148458)\n",
            "(12012, 80878)\n"
          ],
          "name": "stdout"
        }
      ]
    },
    {
      "cell_type": "markdown",
      "metadata": {
        "id": "-puYqefZn_0P"
      },
      "source": [
        "## Setup and Training MultiVI\n",
        "We can now set up and train the MultiVI model!\n",
        "This consists of 2 major steps:\n",
        "\n",
        "1.   calling `setup_anndata` to organize the object for training. Batch annotations, corresponding to batch effects that the model should correct, are specified at this point. **MultiVI requires the main batch annotation to correspond to the modality of the samples**. Other batch annotation can be specified using `categorical_covariate_keys`.\n",
        "2.   Training the model."
      ]
    },
    {
      "cell_type": "code",
      "metadata": {
        "colab": {
          "base_uri": "https://localhost:8080/"
        },
        "id": "Gx9DJc2WoGpz",
        "outputId": "81f00481-aa00-40e9-ef0c-08d88596083e"
      },
      "source": [
        "scvi.data.setup_anndata(adata_mvi, batch_key='modality')"
      ],
      "execution_count": 20,
      "outputs": [
        {
          "output_type": "stream",
          "text": [
            "\u001b[34mINFO    \u001b[0m Using batches from adata.obs\u001b[1m[\u001b[0m\u001b[32m\"modality\"\u001b[0m\u001b[1m]\u001b[0m                                            \n",
            "\u001b[34mINFO    \u001b[0m No label_key inputted, assuming all cells have same label                           \n",
            "\u001b[34mINFO    \u001b[0m Using data from adata.X                                                             \n",
            "\u001b[34mINFO    \u001b[0m Computing library size prior per batch                                              \n",
            "\u001b[34mINFO    \u001b[0m Successfully registered anndata object containing \u001b[1;36m12012\u001b[0m cells, \u001b[1;36m80878\u001b[0m vars, \u001b[1;36m3\u001b[0m        \n",
            "         batches, \u001b[1;36m1\u001b[0m labels, and \u001b[1;36m0\u001b[0m proteins. Also registered \u001b[1;36m0\u001b[0m extra categorical covariates   \n",
            "         and \u001b[1;36m0\u001b[0m extra continuous covariates.                                                  \n",
            "\u001b[34mINFO    \u001b[0m Please do not further modify adata until model is trained.                          \n"
          ],
          "name": "stdout"
        }
      ]
    },
    {
      "cell_type": "markdown",
      "metadata": {
        "id": "_ehwBKfSpnEd"
      },
      "source": [
        "**When creating the object, we need to specify how many of the features are genes, and how many are genomic regions.**"
      ]
    },
    {
      "cell_type": "code",
      "metadata": {
        "colab": {
          "base_uri": "https://localhost:8080/"
        },
        "id": "hu7B7zq2oGnB",
        "outputId": "9b0d59a8-32c3-4049-883d-d71751e84a27"
      },
      "source": [
        "mvi = scvi.model.MULTIVI(\n",
        "    adata_mvi, \n",
        "    n_genes=(adata_mvi.var['modality']=='Gene Expression').sum(),\n",
        "    n_regions=(adata_mvi.var['modality']=='Peaks').sum(),\n",
        ")\n",
        "mvi.train()"
      ],
      "execution_count": 21,
      "outputs": [
        {
          "output_type": "stream",
          "text": [
            "GPU available: True, used: True\n",
            "TPU available: False, using: 0 TPU cores\n",
            "IPU available: False, using: 0 IPUs\n",
            "LOCAL_RANK: 0 - CUDA_VISIBLE_DEVICES: [0]\n"
          ],
          "name": "stderr"
        },
        {
          "output_type": "stream",
          "text": [
            "Epoch 1/500:  -0%|          | -1/500 [00:00<?, ?it/s]"
          ],
          "name": "stdout"
        },
        {
          "output_type": "stream",
          "text": [
            "/usr/local/lib/python3.7/dist-packages/tqdm/std.py:538: TqdmWarning: clamping frac to range [0, 1]\n",
            "  colour=colour)\n",
            "/usr/local/lib/python3.7/dist-packages/pytorch_lightning/trainer/connectors/logger_connector/result.py:398: LightningDeprecationWarning: One of the returned values {'kl_global', 'n_obs', 'reconstruction_loss_sum', 'kl_local_sum'} has a `grad_fn`. We will detach it automatically but this behaviour will change in v1.6. Please detach it manually: `return {'loss': ..., 'something': something.detach()}`\n",
            "  f\"One of the returned values {set(extra.keys())} has a `grad_fn`. We will detach it automatically\"\n"
          ],
          "name": "stderr"
        },
        {
          "output_type": "stream",
          "text": [
            "Epoch 2/500:   0%|          | 0/500 [00:10<1:24:23, 10.13s/it, loss=1.04e+04, v_num=1]"
          ],
          "name": "stdout"
        },
        {
          "output_type": "stream",
          "text": [
            "/usr/local/lib/python3.7/dist-packages/pytorch_lightning/trainer/callback_hook.py:103: LightningDeprecationWarning: The signature of `Callback.on_train_epoch_end` has changed in v1.3. `outputs` parameter has been removed. Support for the old signature will be removed in v1.5\n",
            "  \"The signature of `Callback.on_train_epoch_end` has changed in v1.3.\"\n"
          ],
          "name": "stderr"
        },
        {
          "output_type": "stream",
          "text": [
            "Epoch 250/500:  50%|████▉     | 249/500 [41:24<41:34,  9.94s/it, loss=6.72e+03, v_num=1]\n"
          ],
          "name": "stdout"
        }
      ]
    },
    {
      "cell_type": "code",
      "metadata": {
        "id": "IZFSzWEboGcP"
      },
      "source": [
        "## compute the latent space and save it in the anndata object\n",
        "adata_mvi.obsm[\"MultiVI_latent\"] = mvi.get_latent_representation()"
      ],
      "execution_count": 22,
      "outputs": []
    },
    {
      "cell_type": "code",
      "metadata": {
        "colab": {
          "base_uri": "https://localhost:8080/",
          "height": 330
        },
        "id": "5Zj37OvC5aid",
        "outputId": "8fe1a297-105b-4447-e17e-b37da7194842"
      },
      "source": [
        "## compute UMAP coordinates and plot the latent space\n",
        "sc.pp.neighbors(adata_mvi, use_rep=\"MultiVI_latent\")\n",
        "sc.tl.umap(adata_mvi, min_dist=0.2)\n",
        "sc.pl.umap(adata_mvi, color='modality')"
      ],
      "execution_count": 23,
      "outputs": [
        {
          "output_type": "stream",
          "text": [
            "... storing 'modality' as categorical\n",
            "... storing 'modality' as categorical\n",
            "... storing 'chr' as categorical\n"
          ],
          "name": "stderr"
        },
        {
          "output_type": "display_data",
          "data": {
            "image/png": "[encoded data removed]",
            "text/plain": [
              "<Figure size 432x288 with 1 Axes>"
            ]
          },
          "metadata": {}
        }
      ]
    },
    {
      "cell_type": "code",
      "metadata": {
        "id": "7FkPpdyS3kpI"
      },
      "source": [
        ""
      ],
      "execution_count": null,
      "outputs": []
    }
  ]
}