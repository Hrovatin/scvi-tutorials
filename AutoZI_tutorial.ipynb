{
  "nbformat": 4,
  "nbformat_minor": 0,
  "metadata": {
    "kernelspec": {
      "display_name": "Python 3",
      "language": "python",
      "name": "python3"
    },
    "language_info": {
      "codemirror_mode": {
        "name": "ipython",
        "version": 3
      },
      "file_extension": ".py",
      "mimetype": "text/x-python",
      "name": "python",
      "nbconvert_exporter": "python",
      "pygments_lexer": "ipython3",
      "version": "3.7.3"
    },
    "colab": {
      "name": "AutoZI_tutorial_new_api.ipynb",
      "provenance": [],
      "collapsed_sections": []
    },
    "accelerator": "GPU",
    "widgets": {
      "application/vnd.jupyter.widget-state+json": {
        "a6f5c49c5970418892c109b591c069a5": {
          "model_module": "@jupyter-widgets/output",
          "model_name": "OutputModel",
          "state": {
            "_view_name": "OutputView",
            "msg_id": "",
            "_dom_classes": [],
            "_model_name": "OutputModel",
            "outputs": [
              {
                "output_type": "display_data",
                "metadata": {
                  "tags": []
                },
                "text/html": "<pre style=\"white-space:pre;overflow-x:auto;line-height:normal;font-family:Menlo,'DejaVu Sans Mono',consolas,'Courier New',monospace\">Training... <span style=\"color: #729c1f\">━━━━━━━━━━━━━━━━━━━━━━━━━━━━━━━━━━━━━━━━</span> <span style=\"color: #800080\">100%</span> <span style=\"color: #008080\">0:00:00</span>\n</pre>\n",
                "text/plain": "<rich.jupyter.JupyterRenderable at 0x7f56cf7ae898>"
              }
            ],
            "_view_module": "@jupyter-widgets/output",
            "_model_module_version": "1.0.0",
            "_view_count": null,
            "_view_module_version": "1.0.0",
            "layout": "IPY_MODEL_fd5dfa59077a4c7988c320af1e1f299e",
            "_model_module": "@jupyter-widgets/output"
          }
        },
        "fd5dfa59077a4c7988c320af1e1f299e": {
          "model_module": "@jupyter-widgets/base",
          "model_name": "LayoutModel",
          "state": {
            "_view_name": "LayoutView",
            "grid_template_rows": null,
            "right": null,
            "justify_content": null,
            "_view_module": "@jupyter-widgets/base",
            "overflow": null,
            "_model_module_version": "1.2.0",
            "_view_count": null,
            "flex_flow": null,
            "width": null,
            "min_width": null,
            "border": null,
            "align_items": null,
            "bottom": null,
            "_model_module": "@jupyter-widgets/base",
            "top": null,
            "grid_column": null,
            "overflow_y": null,
            "overflow_x": null,
            "grid_auto_flow": null,
            "grid_area": null,
            "grid_template_columns": null,
            "flex": null,
            "_model_name": "LayoutModel",
            "justify_items": null,
            "grid_row": null,
            "max_height": null,
            "align_content": null,
            "visibility": null,
            "align_self": null,
            "height": null,
            "min_height": null,
            "padding": null,
            "grid_auto_rows": null,
            "grid_gap": null,
            "max_width": null,
            "order": null,
            "_view_module_version": "1.2.0",
            "grid_template_areas": null,
            "object_position": null,
            "object_fit": null,
            "grid_auto_columns": null,
            "margin": null,
            "display": null,
            "left": null
          }
        },
        "a7598adad89f4583b147e71cfb3d5823": {
          "model_module": "@jupyter-widgets/output",
          "model_name": "OutputModel",
          "state": {
            "_view_name": "OutputView",
            "msg_id": "",
            "_dom_classes": [],
            "_model_name": "OutputModel",
            "outputs": [
              {
                "output_type": "display_data",
                "metadata": {
                  "tags": []
                },
                "text/html": "<pre style=\"white-space:pre;overflow-x:auto;line-height:normal;font-family:Menlo,'DejaVu Sans Mono',consolas,'Courier New',monospace\">Training... <span style=\"color: #729c1f\">━━━━━━━━━━━━━━━━━━━━━━━━━━━━━━━━━━━━━━━━</span> <span style=\"color: #800080\">100%</span> <span style=\"color: #008080\">0:00:00</span>\n</pre>\n",
                "text/plain": "<rich.jupyter.JupyterRenderable at 0x7f56cf793400>"
              }
            ],
            "_view_module": "@jupyter-widgets/output",
            "_model_module_version": "1.0.0",
            "_view_count": null,
            "_view_module_version": "1.0.0",
            "layout": "IPY_MODEL_9399ae1f0c5945bcbf09dbd4544457cf",
            "_model_module": "@jupyter-widgets/output"
          }
        },
        "9399ae1f0c5945bcbf09dbd4544457cf": {
          "model_module": "@jupyter-widgets/base",
          "model_name": "LayoutModel",
          "state": {
            "_view_name": "LayoutView",
            "grid_template_rows": null,
            "right": null,
            "justify_content": null,
            "_view_module": "@jupyter-widgets/base",
            "overflow": null,
            "_model_module_version": "1.2.0",
            "_view_count": null,
            "flex_flow": null,
            "width": null,
            "min_width": null,
            "border": null,
            "align_items": null,
            "bottom": null,
            "_model_module": "@jupyter-widgets/base",
            "top": null,
            "grid_column": null,
            "overflow_y": null,
            "overflow_x": null,
            "grid_auto_flow": null,
            "grid_area": null,
            "grid_template_columns": null,
            "flex": null,
            "_model_name": "LayoutModel",
            "justify_items": null,
            "grid_row": null,
            "max_height": null,
            "align_content": null,
            "visibility": null,
            "align_self": null,
            "height": null,
            "min_height": null,
            "padding": null,
            "grid_auto_rows": null,
            "grid_gap": null,
            "max_width": null,
            "order": null,
            "_view_module_version": "1.2.0",
            "grid_template_areas": null,
            "object_position": null,
            "object_fit": null,
            "grid_auto_columns": null,
            "margin": null,
            "display": null,
            "left": null
          }
        }
      }
    }
  },
  "cells": [
    {
      "cell_type": "markdown",
      "metadata": {
        "id": "LQNi8aIsijzk",
        "colab_type": "text"
      },
      "source": [
        "# Identification of zero-inflated genes"
      ]
    },
    {
      "cell_type": "markdown",
      "metadata": {
        "id": "W7cITGhKijzn",
        "colab_type": "text"
      },
      "source": [
        "AutoZI is a deep generative model adapted from scVI allowing a gene-specific treatment of zero-inflation. For each gene $g$, AutoZI notably learns the distribution of a random variable $\\delta_g$ which denotes the probability that gene $g$ is not zero-inflated. In this notebook, we present the use of the model on a PBMC dataset.\n",
        "\n",
        "More details about AutoZI can be found in : https://www.biorxiv.org/content/10.1101/794875v2"
      ]
    },
    {
      "cell_type": "markdown",
      "metadata": {
        "id": "zWVJJX5VivQH",
        "colab_type": "text"
      },
      "source": [
        "[![Open In Colab](https://colab.research.google.com/assets/colab-badge.svg)](https://colab.research.google.com/github/yoseflab/scvi_tutorials/blob/master/AutoZI_tutorial.ipynb)"
      ]
    },
    {
      "cell_type": "code",
      "metadata": {
        "id": "kTvfZsr5jBT6",
        "colab_type": "code",
        "colab": {
          "base_uri": "https://localhost:8080/",
          "height": 330
        },
        "outputId": "9e24d9a7-8df9-4b2f-b7ec-6c5805d4e911"
      },
      "source": [
        "import sys\n",
        "IN_COLAB = \"google.colab\" in sys.modules\n",
        "\n",
        "if IN_COLAB:\n",
        "    !pip install --quiet git+https://github.com/yoseflab/scvi@rich_progress#egg=scvi[notebooks]"
      ],
      "execution_count": 1,
      "outputs": [
        {
          "output_type": "stream",
          "text": [
            "\u001b[?25l\r\u001b[K     |███▏                            | 10kB 22.4MB/s eta 0:00:01\r\u001b[K     |██████▍                         | 20kB 1.8MB/s eta 0:00:01\r\u001b[K     |█████████▌                      | 30kB 2.3MB/s eta 0:00:01\r\u001b[K     |████████████▊                   | 40kB 2.5MB/s eta 0:00:01\r\u001b[K     |███████████████▉                | 51kB 2.0MB/s eta 0:00:01\r\u001b[K     |███████████████████             | 61kB 2.2MB/s eta 0:00:01\r\u001b[K     |██████████████████████▏         | 71kB 2.4MB/s eta 0:00:01\r\u001b[K     |█████████████████████████▍      | 81kB 2.7MB/s eta 0:00:01\r\u001b[K     |████████████████████████████▋   | 92kB 2.8MB/s eta 0:00:01\r\u001b[K     |███████████████████████████████▊| 102kB 2.8MB/s eta 0:00:01\r\u001b[K     |████████████████████████████████| 112kB 2.8MB/s \n",
            "\u001b[K     |████████████████████████████████| 122kB 8.4MB/s \n",
            "\u001b[K     |████████████████████████████████| 8.7MB 8.1MB/s \n",
            "\u001b[K     |████████████████████████████████| 4.3MB 48.5MB/s \n",
            "\u001b[K     |████████████████████████████████| 153kB 53.5MB/s \n",
            "\u001b[K     |████████████████████████████████| 2.2MB 51.7MB/s \n",
            "\u001b[K     |████████████████████████████████| 2.4MB 51.9MB/s \n",
            "\u001b[K     |████████████████████████████████| 3.2MB 48.5MB/s \n",
            "\u001b[K     |████████████████████████████████| 51kB 7.8MB/s \n",
            "\u001b[K     |████████████████████████████████| 7.7MB 46.6MB/s \n",
            "\u001b[K     |████████████████████████████████| 51kB 7.5MB/s \n",
            "\u001b[K     |████████████████████████████████| 112kB 54.4MB/s \n",
            "\u001b[K     |████████████████████████████████| 51kB 7.8MB/s \n",
            "\u001b[K     |████████████████████████████████| 61kB 7.0MB/s \n",
            "\u001b[?25h  Building wheel for scvi (setup.py) ... \u001b[?25l\u001b[?25hdone\n",
            "  Building wheel for loompy (setup.py) ... \u001b[?25l\u001b[?25hdone\n",
            "  Building wheel for numpy-groupies (setup.py) ... \u001b[?25l\u001b[?25hdone\n",
            "  Building wheel for sinfo (setup.py) ... \u001b[?25l\u001b[?25hdone\n"
          ],
          "name": "stdout"
        }
      ]
    },
    {
      "cell_type": "markdown",
      "metadata": {
        "id": "mC-uVd3zijz7",
        "colab_type": "text"
      },
      "source": [
        "## Imports, data loading and preparation"
      ]
    },
    {
      "cell_type": "code",
      "metadata": {
        "id": "05Y2uUIxijz9",
        "colab_type": "code",
        "colab": {}
      },
      "source": [
        "import numpy as np\n",
        "import pandas as pd\n",
        "import anndata\n",
        "\n",
        "import scanpy as sc\n",
        "import scvi\n",
        "scvi.set_seed(0)"
      ],
      "execution_count": 2,
      "outputs": []
    },
    {
      "cell_type": "code",
      "metadata": {
        "id": "j27g4M4Uij0F",
        "colab_type": "code",
        "colab": {
          "base_uri": "https://localhost:8080/",
          "height": 330
        },
        "outputId": "942c0c5f-28ff-4a05-c260-3c4ab8b345e7"
      },
      "source": [
        "pbmc = scvi.dataset.pbmc_dataset(run_setup_anndata=False)\n",
        "pbmc.layers[\"counts\"] = pbmc.X.copy()\n",
        "sc.pp.normalize_total(pbmc, target_sum=10e4)\n",
        "sc.pp.log1p(pbmc)\n",
        "pbmc.raw = pbmc\n",
        "scvi.dataset.poisson_gene_selection(\n",
        "    pbmc, \n",
        "    n_top_genes=1000, \n",
        "    batch_key=\"batch\",\n",
        "    subset=True,\n",
        "    layer=\"counts\",\n",
        ")\n",
        "scvi.dataset.setup_anndata(\n",
        "    pbmc, \n",
        "    labels_key=\"str_labels\", \n",
        "    batch_key=\"batch\",\n",
        "    layer=\"counts\",\n",
        ")"
      ],
      "execution_count": 3,
      "outputs": [
        {
          "output_type": "stream",
          "text": [
            "\u001b[34mINFO\u001b[0m      Downloading file at data/gene_info_pbmc.csv                           \n",
            "\u001b[34mINFO\u001b[0m      Downloading file at data/pbmc_metadata.pickle                         \n",
            "\u001b[34mINFO\u001b[0m      Downloading file at data/pbmc8k/filtered_gene_bc_matrices.tar.gz      \n",
            "\u001b[34mINFO\u001b[0m      Extracting tar file                                                   \n",
            "\u001b[34mINFO\u001b[0m      Removing extracted data at data/pbmc8k/filtered_gene_bc_matrices      \n",
            "\u001b[34mINFO\u001b[0m      Downloading file at data/pbmc4k/filtered_gene_bc_matrices.tar.gz      \n",
            "\u001b[34mINFO\u001b[0m      Extracting tar file                                                   \n",
            "\u001b[34mINFO\u001b[0m      Removing extracted data at data/pbmc4k/filtered_gene_bc_matrices      \n",
            "Sampling from binomial...: 100%|██████████| 10000/10000 [00:00<00:00, 13675.95it/s]\n",
            "Sampling from binomial...: 100%|██████████| 10000/10000 [00:00<00:00, 14439.49it/s]\n",
            "\u001b[34mINFO\u001b[0m      Using batches from adata.obs\u001b[1m[\u001b[0m\u001b[32m\"batch\"\u001b[0m\u001b[1m]\u001b[0m                                 \n",
            "\u001b[34mINFO\u001b[0m      Using labels from adata.obs\u001b[1m[\u001b[0m\u001b[32m\"str_labels\"\u001b[0m\u001b[1m]\u001b[0m                             \n",
            "\u001b[34mINFO\u001b[0m      Using data from adata.layers\u001b[1m[\u001b[0m\u001b[32m\"counts\"\u001b[0m\u001b[1m]\u001b[0m                                \n",
            "\u001b[34mINFO\u001b[0m      Computing library size prior per batch                                \n",
            "\u001b[34mINFO\u001b[0m      Successfully registered anndata object containing \u001b[1;34m11990\u001b[0m cells, \u001b[1;34m1000\u001b[0m   \n",
            "          genes, \u001b[1;34m2\u001b[0m batches, \u001b[1;34m9\u001b[0m labels, and \u001b[1;34m0\u001b[0m proteins. Also registered \u001b[1;34m0\u001b[0m extra   \n",
            "          categorical covariates and \u001b[1;34m0\u001b[0m extra continuous covariates.             \n",
            "\u001b[34mINFO\u001b[0m      Please do not further modify adata until model is trained.            \n"
          ],
          "name": "stdout"
        }
      ]
    },
    {
      "cell_type": "markdown",
      "metadata": {
        "id": "cYPYNAwRij0M",
        "colab_type": "text"
      },
      "source": [
        "## Analyze gene-specific ZI"
      ]
    },
    {
      "cell_type": "markdown",
      "metadata": {
        "id": "6ovhk47Oij0N",
        "colab_type": "text"
      },
      "source": [
        "In AutoZI, all $\\delta_g$'s follow a common $\\text{Beta}(\\alpha,\\beta)$ prior distribution where $\\alpha,\\beta \\in (0,1)$ and the zero-inflation probability in the ZINB component is bounded below by $\\tau_{\\text{dropout}} \\in (0,1)$. AutoZI is encoded by the `AutoZIVAE` class whose inputs, besides the size of the dataset, are $\\alpha$ (`alpha_prior`), $\\beta$ (`beta_prior`), $\\tau_{\\text{dropout}}$ (`minimal_dropout`). By default, we set $\\alpha = 0.5, \\beta = 0.5, \\tau_{\\text{dropout}} = 0.01$.\n",
        "\n",
        "Note : we can learn $\\alpha,\\beta$ in an Empirical Bayes fashion, which is possible by setting `alpha_prior = None` and `beta_prior = None`"
      ]
    },
    {
      "cell_type": "code",
      "metadata": {
        "id": "khMZvSw5ij0O",
        "colab_type": "code",
        "colab": {}
      },
      "source": [
        "vae = scvi.models.AUTOZI(pbmc)"
      ],
      "execution_count": 4,
      "outputs": []
    },
    {
      "cell_type": "markdown",
      "metadata": {
        "id": "HXOSTMrLij0V",
        "colab_type": "text"
      },
      "source": [
        "We fit, for each gene $g$, an approximate posterior distribution $q(\\delta_g) = \\text{Beta}(\\alpha^g,\\beta^g)$ (with $\\alpha^g,\\beta^g \\in (0,1)$) on which we rely. We retrieve $\\alpha^g,\\beta^g$ for all genes $g$ (and $\\alpha,\\beta$, if learned) as numpy arrays using the method `get_alphas_betas` of `AutoZIVAE`."
      ]
    },
    {
      "cell_type": "code",
      "metadata": {
        "id": "__RPOTF2ij0W",
        "colab_type": "code",
        "colab": {
          "base_uri": "https://localhost:8080/",
          "height": 173,
          "referenced_widgets": [
            "a6f5c49c5970418892c109b591c069a5",
            "fd5dfa59077a4c7988c320af1e1f299e"
          ]
        },
        "outputId": "3b92c88a-6f1a-4912-98d5-98a5f7ac30f9"
      },
      "source": [
        "vae.train(lr=1e-2, n_epochs=200)"
      ],
      "execution_count": 5,
      "outputs": [
        {
          "output_type": "stream",
          "text": [
            "\u001b[34mINFO\u001b[0m      KL warmup phase exceeds overall training phaseIf your applications    \n",
            "          rely on the posterior quality, consider training for more epochs or   \n",
            "          reducing the kl warmup.                                               \n",
            "\u001b[34mINFO\u001b[0m      KL warmup for \u001b[1;34m400\u001b[0m epochs                                              \n"
          ],
          "name": "stdout"
        },
        {
          "output_type": "display_data",
          "data": {
            "application/vnd.jupyter.widget-view+json": {
              "model_id": "a6f5c49c5970418892c109b591c069a5",
              "version_minor": 0,
              "version_major": 2
            },
            "text/plain": [
              "Output()"
            ]
          },
          "metadata": {
            "tags": []
          }
        },
        {
          "output_type": "stream",
          "text": [
            "\u001b[34mINFO\u001b[0m      Training is still in warming up phase. If your applications rely on   \n",
            "          the posterior quality, consider training for more epochs or reducing  \n",
            "          the kl warmup.                                                        \n",
            "\u001b[34mINFO\u001b[0m      Training time:  \u001b[1;34m274\u001b[0m s. \u001b[35m/\u001b[0m \u001b[1;34m200\u001b[0m epochs                                   \n"
          ],
          "name": "stdout"
        }
      ]
    },
    {
      "cell_type": "code",
      "metadata": {
        "id": "B-lEw2IWij0a",
        "colab_type": "code",
        "colab": {}
      },
      "source": [
        "outputs = vae.get_alphas_betas()\n",
        "alpha_posterior = outputs['alpha_posterior']\n",
        "beta_posterior = outputs['beta_posterior']"
      ],
      "execution_count": 6,
      "outputs": []
    },
    {
      "cell_type": "markdown",
      "metadata": {
        "id": "BXrym0Cgij0e",
        "colab_type": "text"
      },
      "source": [
        "Now that we obtained fitted $\\alpha^g,\\beta^g$, different metrics are possible. Bayesian decision theory suggests us the posterior probability of the zero-inflation hypothesis $q(\\delta_g < 0.5)$, but also other metrics such as the mean wrt $q$ of $\\delta_g$ are possible. We focus on the former. We decide that gene $g$ is ZI if and only if $q(\\delta_g < 0.5)$ is greater than a given threshold, say $0.5$. We may note that it is equivalent to $\\alpha^g < \\beta^g$. From this we can deduce the fraction of predicted ZI genes in the dataset."
      ]
    },
    {
      "cell_type": "code",
      "metadata": {
        "id": "h2kXAcZLij0e",
        "colab_type": "code",
        "colab": {
          "base_uri": "https://localhost:8080/",
          "height": 34
        },
        "outputId": "9ca09bd9-1260-40c8-8bec-6cb297eb7f37"
      },
      "source": [
        "from scipy.stats import beta\n",
        "\n",
        "# Threshold (or Kzinb/Knb+Kzinb in paper)\n",
        "threshold = 0.5\n",
        "\n",
        "# q(delta_g < 0.5) probabilities\n",
        "zi_probs = beta.cdf(0.5, alpha_posterior, beta_posterior)\n",
        "\n",
        "# ZI genes\n",
        "is_zi_pred = (zi_probs > threshold)\n",
        "\n",
        "print('Fraction of predicted ZI genes :', is_zi_pred.mean())"
      ],
      "execution_count": 7,
      "outputs": [
        {
          "output_type": "stream",
          "text": [
            "Fraction of predicted ZI genes : 0.354\n"
          ],
          "name": "stdout"
        }
      ]
    },
    {
      "cell_type": "markdown",
      "metadata": {
        "id": "Ps5oykK0ij0k",
        "colab_type": "text"
      },
      "source": [
        "We noted that predictions were less accurate for genes $g$ whose average expressions - or predicted NB means, equivalently - were low. Indeed, genes assumed not to be ZI were more often predicted as ZI for such low average expressions. A threshold of 1 proved reasonable to separate genes predicted with more or less accuracy. Hence we may want to focus on predictions for genes with average expression above 1."
      ]
    },
    {
      "cell_type": "code",
      "metadata": {
        "id": "6AFreZzjij0l",
        "colab_type": "code",
        "colab": {
          "base_uri": "https://localhost:8080/",
          "height": 52
        },
        "outputId": "3f43b887-b5e5-4919-a3e6-761d6cc4dd03"
      },
      "source": [
        "mask_sufficient_expression = (np.array(pbmc.X.mean(axis=0)) > 1.).reshape(-1)\n",
        "print('Fraction of genes with avg expression > 1 :', mask_sufficient_expression.mean())\n",
        "print('Fraction of predicted ZI genes with avg expression > 1 :', is_zi_pred[mask_sufficient_expression].mean())"
      ],
      "execution_count": 8,
      "outputs": [
        {
          "output_type": "stream",
          "text": [
            "Fraction of genes with avg expression > 1 : 0.498\n",
            "Fraction of predicted ZI genes with avg expression > 1 : 0.25903614457831325\n"
          ],
          "name": "stdout"
        }
      ]
    },
    {
      "cell_type": "markdown",
      "metadata": {
        "id": "B1V3X_GSij0p",
        "colab_type": "text"
      },
      "source": [
        "## Analyze gene-cell-type-specific ZI"
      ]
    },
    {
      "cell_type": "markdown",
      "metadata": {
        "id": "uUmJ6hStij0q",
        "colab_type": "text"
      },
      "source": [
        "One may argue that zero-inflation should also be treated on the cell-type (or 'label') level, in addition to the gene level. AutoZI can be extended by assuming a random variable $\\delta_{gc}$ for each gene $g$ and cell type $c$ which denotes the probability that gene $g$ is not zero-inflated in cell-type $c$. The analysis above can be extended to this new scale."
      ]
    },
    {
      "cell_type": "code",
      "metadata": {
        "id": "1pr5WP_Eij0q",
        "colab_type": "code",
        "colab": {
          "base_uri": "https://localhost:8080/",
          "height": 173,
          "referenced_widgets": [
            "a7598adad89f4583b147e71cfb3d5823",
            "9399ae1f0c5945bcbf09dbd4544457cf"
          ]
        },
        "outputId": "ed07511f-0c75-455f-8a1e-0f0291fa1a1d"
      },
      "source": [
        "# Model definition\n",
        "vae_genelabel = scvi.models.AUTOZI(\n",
        "    pbmc, \n",
        "    dispersion='gene-label', \n",
        "    zero_inflation='gene-label'\n",
        ")\n",
        "\n",
        "# Training\n",
        "vae_genelabel.train(lr=1e-2, n_epochs=200)\n",
        "\n",
        "# Retrieve posterior distribution parameters\n",
        "outputs_genelabel = vae_genelabel.get_alphas_betas()\n",
        "alpha_posterior_genelabel = outputs_genelabel['alpha_posterior']\n",
        "beta_posterior_genelabel = outputs_genelabel['beta_posterior']"
      ],
      "execution_count": 9,
      "outputs": [
        {
          "output_type": "stream",
          "text": [
            "\u001b[34mINFO\u001b[0m      KL warmup phase exceeds overall training phaseIf your applications    \n",
            "          rely on the posterior quality, consider training for more epochs or   \n",
            "          reducing the kl warmup.                                               \n",
            "\u001b[34mINFO\u001b[0m      KL warmup for \u001b[1;34m400\u001b[0m epochs                                              \n"
          ],
          "name": "stdout"
        },
        {
          "output_type": "display_data",
          "data": {
            "application/vnd.jupyter.widget-view+json": {
              "model_id": "a7598adad89f4583b147e71cfb3d5823",
              "version_minor": 0,
              "version_major": 2
            },
            "text/plain": [
              "Output()"
            ]
          },
          "metadata": {
            "tags": []
          }
        },
        {
          "output_type": "stream",
          "text": [
            "\u001b[34mINFO\u001b[0m      Training is still in warming up phase. If your applications rely on   \n",
            "          the posterior quality, consider training for more epochs or reducing  \n",
            "          the kl warmup.                                                        \n",
            "\u001b[34mINFO\u001b[0m      Training time:  \u001b[1;34m279\u001b[0m s. \u001b[35m/\u001b[0m \u001b[1;34m200\u001b[0m epochs                                   \n"
          ],
          "name": "stdout"
        }
      ]
    },
    {
      "cell_type": "code",
      "metadata": {
        "id": "1wu__h5lij0v",
        "colab_type": "code",
        "colab": {
          "base_uri": "https://localhost:8080/",
          "height": 330
        },
        "outputId": "9e6e1156-30e0-41bc-8da2-27562b59b326"
      },
      "source": [
        "# q(delta_g < 0.5) probabilities\n",
        "zi_probs_genelabel = beta.cdf(0.5,alpha_posterior_genelabel, beta_posterior_genelabel)\n",
        "\n",
        "# ZI gene-cell-types\n",
        "is_zi_pred_genelabel = (zi_probs_genelabel > threshold)\n",
        "\n",
        "ct = pbmc.obs.str_labels.astype(\"category\")\n",
        "codes = np.unique(ct.cat.codes)\n",
        "cats = ct.cat.categories\n",
        "for ind_cell_type, cell_type in zip(codes, cats):\n",
        "    is_zi_pred_genelabel_here = is_zi_pred_genelabel[:,ind_cell_type]\n",
        "    print('Fraction of predicted ZI genes for cell type {} :'.format(cell_type),\n",
        "          is_zi_pred_genelabel_here.mean(),'\\n')"
      ],
      "execution_count": 10,
      "outputs": [
        {
          "output_type": "stream",
          "text": [
            "Fraction of predicted ZI genes for cell type B cells : 0.481 \n",
            "\n",
            "Fraction of predicted ZI genes for cell type CD14+ Monocytes : 0.439 \n",
            "\n",
            "Fraction of predicted ZI genes for cell type CD4 T cells : 0.401 \n",
            "\n",
            "Fraction of predicted ZI genes for cell type CD8 T cells : 0.442 \n",
            "\n",
            "Fraction of predicted ZI genes for cell type Dendritic Cells : 0.418 \n",
            "\n",
            "Fraction of predicted ZI genes for cell type FCGR3A+ Monocytes : 0.44 \n",
            "\n",
            "Fraction of predicted ZI genes for cell type Megakaryocytes : 0.456 \n",
            "\n",
            "Fraction of predicted ZI genes for cell type NK cells : 0.452 \n",
            "\n",
            "Fraction of predicted ZI genes for cell type Other : 0.428 \n",
            "\n"
          ],
          "name": "stdout"
        }
      ]
    },
    {
      "cell_type": "code",
      "metadata": {
        "id": "ItgDITuBij02",
        "colab_type": "code",
        "colab": {
          "base_uri": "https://localhost:8080/",
          "height": 486
        },
        "outputId": "58ea5f0c-ac36-47fc-fd0e-73fc69dbd2d2"
      },
      "source": [
        "# With avg expressions > 1\n",
        "for ind_cell_type, cell_type in zip(codes, cats):\n",
        "    mask_sufficient_expression = (np.array(pbmc.X[pbmc.obs.str_labels.values.reshape(-1) == cell_type,:].mean(axis=0)) > 1.).reshape(-1)\n",
        "    print('Fraction of genes with avg expression > 1 for cell type {} :'.format(cell_type),\n",
        "          mask_sufficient_expression.mean())\n",
        "    is_zi_pred_genelabel_here = is_zi_pred_genelabel[mask_sufficient_expression,ind_cell_type]\n",
        "    print('Fraction of predicted ZI genes with avg expression > 1 for cell type {} :'.format(cell_type),\n",
        "          is_zi_pred_genelabel_here.mean(), '\\n')"
      ],
      "execution_count": 11,
      "outputs": [
        {
          "output_type": "stream",
          "text": [
            "Fraction of genes with avg expression > 1 for cell type B cells : 0.389\n",
            "Fraction of predicted ZI genes with avg expression > 1 for cell type B cells : 0.4524421593830334 \n",
            "\n",
            "Fraction of genes with avg expression > 1 for cell type CD14+ Monocytes : 0.489\n",
            "Fraction of predicted ZI genes with avg expression > 1 for cell type CD14+ Monocytes : 0.38445807770961143 \n",
            "\n",
            "Fraction of genes with avg expression > 1 for cell type CD4 T cells : 0.432\n",
            "Fraction of predicted ZI genes with avg expression > 1 for cell type CD4 T cells : 0.27546296296296297 \n",
            "\n",
            "Fraction of genes with avg expression > 1 for cell type CD8 T cells : 0.498\n",
            "Fraction of predicted ZI genes with avg expression > 1 for cell type CD8 T cells : 0.40160642570281124 \n",
            "\n",
            "Fraction of genes with avg expression > 1 for cell type Dendritic Cells : 0.858\n",
            "Fraction of predicted ZI genes with avg expression > 1 for cell type Dendritic Cells : 0.41025641025641024 \n",
            "\n",
            "Fraction of genes with avg expression > 1 for cell type FCGR3A+ Monocytes : 0.739\n",
            "Fraction of predicted ZI genes with avg expression > 1 for cell type FCGR3A+ Monocytes : 0.41542625169147496 \n",
            "\n",
            "Fraction of genes with avg expression > 1 for cell type Megakaryocytes : 0.749\n",
            "Fraction of predicted ZI genes with avg expression > 1 for cell type Megakaryocytes : 0.44192256341789055 \n",
            "\n",
            "Fraction of genes with avg expression > 1 for cell type NK cells : 0.574\n",
            "Fraction of predicted ZI genes with avg expression > 1 for cell type NK cells : 0.44076655052264807 \n",
            "\n",
            "Fraction of genes with avg expression > 1 for cell type Other : 0.784\n",
            "Fraction of predicted ZI genes with avg expression > 1 for cell type Other : 0.4145408163265306 \n",
            "\n"
          ],
          "name": "stdout"
        }
      ]
    }
  ]
}