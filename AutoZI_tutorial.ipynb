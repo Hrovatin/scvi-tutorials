{
  "nbformat": 4,
  "nbformat_minor": 0,
  "metadata": {
    "accelerator": "GPU",
    "colab": {
      "name": "AutoZI_tutorial.ipynb",
      "provenance": [],
      "collapsed_sections": []
    },
    "kernelspec": {
      "display_name": "Python 3",
      "language": "python",
      "name": "python3"
    },
    "language_info": {
      "codemirror_mode": {
        "name": "ipython",
        "version": 3
      },
      "file_extension": ".py",
      "mimetype": "text/x-python",
      "name": "python",
      "nbconvert_exporter": "python",
      "pygments_lexer": "ipython3",
      "version": "3.6.10"
    },
    "widgets": {
      "application/vnd.jupyter.widget-state+json": {
        "7e14bb4792f342f1bff3e759d0bd350f": {
          "model_module": "@jupyter-widgets/output",
          "model_name": "OutputModel",
          "state": {
            "_view_name": "OutputView",
            "msg_id": "",
            "_dom_classes": [],
            "_model_name": "OutputModel",
            "outputs": [
              {
                "output_type": "display_data",
                "metadata": {
                  "tags": []
                },
                "text/html": "<pre style=\"white-space:pre;overflow-x:auto;line-height:normal;font-family:Menlo,'DejaVu Sans Mono',consolas,'Courier New',monospace\">Training... <span style=\"color: #729c1f\">━━━━━━━━━━━━━━━━━━━━━━━━━━━━━━━━━━━━━━━━</span> <span style=\"color: #800080\">100%</span> <span style=\"color: #008080\">0:00:00</span>\n</pre>\n",
                "text/plain": "<rich.jupyter.JupyterRenderable at 0x7f243efa1978>"
              }
            ],
            "_view_module": "@jupyter-widgets/output",
            "_model_module_version": "1.0.0",
            "_view_count": null,
            "_view_module_version": "1.0.0",
            "layout": "IPY_MODEL_d5e07b3e5903451a824c537794422cca",
            "_model_module": "@jupyter-widgets/output"
          }
        },
        "d5e07b3e5903451a824c537794422cca": {
          "model_module": "@jupyter-widgets/base",
          "model_name": "LayoutModel",
          "state": {
            "_view_name": "LayoutView",
            "grid_template_rows": null,
            "right": null,
            "justify_content": null,
            "_view_module": "@jupyter-widgets/base",
            "overflow": null,
            "_model_module_version": "1.2.0",
            "_view_count": null,
            "flex_flow": null,
            "width": null,
            "min_width": null,
            "border": null,
            "align_items": null,
            "bottom": null,
            "_model_module": "@jupyter-widgets/base",
            "top": null,
            "grid_column": null,
            "overflow_y": null,
            "overflow_x": null,
            "grid_auto_flow": null,
            "grid_area": null,
            "grid_template_columns": null,
            "flex": null,
            "_model_name": "LayoutModel",
            "justify_items": null,
            "grid_row": null,
            "max_height": null,
            "align_content": null,
            "visibility": null,
            "align_self": null,
            "height": null,
            "min_height": null,
            "padding": null,
            "grid_auto_rows": null,
            "grid_gap": null,
            "max_width": null,
            "order": null,
            "_view_module_version": "1.2.0",
            "grid_template_areas": null,
            "object_position": null,
            "object_fit": null,
            "grid_auto_columns": null,
            "margin": null,
            "display": null,
            "left": null
          }
        },
        "bcc623de759247dda8bb92ce41de2cbb": {
          "model_module": "@jupyter-widgets/output",
          "model_name": "OutputModel",
          "state": {
            "_view_name": "OutputView",
            "msg_id": "",
            "_dom_classes": [],
            "_model_name": "OutputModel",
            "outputs": [
              {
                "output_type": "display_data",
                "metadata": {
                  "tags": []
                },
                "text/html": "<pre style=\"white-space:pre;overflow-x:auto;line-height:normal;font-family:Menlo,'DejaVu Sans Mono',consolas,'Courier New',monospace\">Training... <span style=\"color: #729c1f\">━━━━━━━━━━━━━━━━━━━━━━━━━━━━━━━━━━━━━━━━</span> <span style=\"color: #800080\">100%</span> <span style=\"color: #008080\">0:00:00</span>\n</pre>\n",
                "text/plain": "<rich.jupyter.JupyterRenderable at 0x7f243ef97208>"
              }
            ],
            "_view_module": "@jupyter-widgets/output",
            "_model_module_version": "1.0.0",
            "_view_count": null,
            "_view_module_version": "1.0.0",
            "layout": "IPY_MODEL_d12032ed0ea54bf88a00d416cc2c17db",
            "_model_module": "@jupyter-widgets/output"
          }
        },
        "d12032ed0ea54bf88a00d416cc2c17db": {
          "model_module": "@jupyter-widgets/base",
          "model_name": "LayoutModel",
          "state": {
            "_view_name": "LayoutView",
            "grid_template_rows": null,
            "right": null,
            "justify_content": null,
            "_view_module": "@jupyter-widgets/base",
            "overflow": null,
            "_model_module_version": "1.2.0",
            "_view_count": null,
            "flex_flow": null,
            "width": null,
            "min_width": null,
            "border": null,
            "align_items": null,
            "bottom": null,
            "_model_module": "@jupyter-widgets/base",
            "top": null,
            "grid_column": null,
            "overflow_y": null,
            "overflow_x": null,
            "grid_auto_flow": null,
            "grid_area": null,
            "grid_template_columns": null,
            "flex": null,
            "_model_name": "LayoutModel",
            "justify_items": null,
            "grid_row": null,
            "max_height": null,
            "align_content": null,
            "visibility": null,
            "align_self": null,
            "height": null,
            "min_height": null,
            "padding": null,
            "grid_auto_rows": null,
            "grid_gap": null,
            "max_width": null,
            "order": null,
            "_view_module_version": "1.2.0",
            "grid_template_areas": null,
            "object_position": null,
            "object_fit": null,
            "grid_auto_columns": null,
            "margin": null,
            "display": null,
            "left": null
          }
        }
      }
    }
  },
  "cells": [
    {
      "cell_type": "markdown",
      "metadata": {
        "colab_type": "text",
        "id": "LQNi8aIsijzk"
      },
      "source": [
        "# Identification of zero-inflated genes"
      ]
    },
    {
      "cell_type": "markdown",
      "metadata": {
        "colab_type": "text",
        "id": "W7cITGhKijzn"
      },
      "source": [
        "AutoZI is a deep generative model adapted from scVI allowing a gene-specific treatment of zero-inflation. For each gene $g$, AutoZI notably learns the distribution of a random variable $\\delta_g$ which denotes the probability that gene $g$ is not zero-inflated. In this notebook, we present the use of the model on a PBMC dataset.\n",
        "\n",
        "More details about AutoZI can be found in : https://www.biorxiv.org/content/10.1101/794875v2"
      ]
    },
    {
      "cell_type": "markdown",
      "metadata": {
        "colab_type": "text",
        "id": "zWVJJX5VivQH"
      },
      "source": [
        "[![Open In Colab](https://colab.research.google.com/assets/colab-badge.svg)](https://colab.research.google.com/github/yoseflab/scvi-tutorials/blob/dev/AutoZI_tutorial.ipynb)"
      ]
    },
    {
      "cell_type": "code",
      "metadata": {
        "colab_type": "code",
        "id": "kTvfZsr5jBT6",
        "colab": {
          "base_uri": "https://localhost:8080/",
          "height": 51
        },
        "outputId": "f7fe8e02-4faf-4e51-c28d-d0cc91e716fa"
      },
      "source": [
        "import sys\n",
        "\n",
        "#if True, will install via pypi, else will install from source\n",
        "stable = True\n",
        "IN_COLAB = \"google.colab\" in sys.modules\n",
        "\n",
        "\n",
        "if IN_COLAB and stable:\n",
        "    !pip install --quiet scvi-tools[tutorials]\n",
        "elif IN_COLAB and not stable:\n",
        "    !pip install --quiet --upgrade jsonschema\n",
        "    !pip install --quiet git+https://github.com/yoseflab/scvi-tools@master#egg=scvi-tools[tutorials]\n"
      ],
      "execution_count": null,
      "outputs": [
        {
          "output_type": "stream",
          "text": [
            "\u001b[?25l\r\u001b[K     |█████▉                          | 10kB 24.0MB/s eta 0:00:01\r\u001b[K     |███████████▋                    | 20kB 6.7MB/s eta 0:00:01\r\u001b[K     |█████████████████▌              | 30kB 8.0MB/s eta 0:00:01\r\u001b[K     |███████████████████████▎        | 40kB 8.7MB/s eta 0:00:01\r\u001b[K     |█████████████████████████████   | 51kB 7.1MB/s eta 0:00:01\r\u001b[K     |████████████████████████████████| 61kB 4.5MB/s \n",
            "\u001b[31mERROR: nbclient 0.5.0 has requirement jupyter-client>=6.1.5, but you'll have jupyter-client 5.3.5 which is incompatible.\u001b[0m\n",
            "\u001b[?25h"
          ],
          "name": "stdout"
        }
      ]
    },
    {
      "cell_type": "markdown",
      "metadata": {
        "colab_type": "text",
        "id": "mC-uVd3zijz7"
      },
      "source": [
        "## Imports, data loading and preparation"
      ]
    },
    {
      "cell_type": "code",
      "metadata": {
        "colab_type": "code",
        "id": "05Y2uUIxijz9",
        "colab": {}
      },
      "source": [
        "import numpy as np\n",
        "import pandas as pd\n",
        "import anndata\n",
        "\n",
        "import scanpy as sc\n",
        "import scvi"
      ],
      "execution_count": null,
      "outputs": []
    },
    {
      "cell_type": "code",
      "metadata": {
        "colab_type": "code",
        "id": "j27g4M4Uij0F",
        "colab": {
          "base_uri": "https://localhost:8080/",
          "height": 323
        },
        "outputId": "6da4e8bf-c689-4f1f-b271-38fc232d84ce"
      },
      "source": [
        "pbmc = scvi.data.pbmc_dataset(run_setup_anndata=False)\n",
        "pbmc.layers[\"counts\"] = pbmc.X.copy()\n",
        "sc.pp.normalize_total(pbmc, target_sum=10e4)\n",
        "sc.pp.log1p(pbmc)\n",
        "pbmc.raw = pbmc\n",
        "scvi.data.poisson_gene_selection(\n",
        "    pbmc, \n",
        "    n_top_genes=1000, \n",
        "    batch_key=\"batch\",\n",
        "    subset=True,\n",
        "    layer=\"counts\",\n",
        ")\n",
        "scvi.data.setup_anndata(\n",
        "    pbmc, \n",
        "    labels_key=\"str_labels\", \n",
        "    batch_key=\"batch\",\n",
        "    layer=\"counts\",\n",
        ")"
      ],
      "execution_count": null,
      "outputs": [
        {
          "output_type": "stream",
          "text": [
            "\u001b[34mINFO\u001b[0m      Downloading file at data/gene_info_pbmc.csv                           \n",
            "\u001b[34mINFO\u001b[0m      Downloading file at data/pbmc_metadata.pickle                         \n",
            "\u001b[34mINFO\u001b[0m      Downloading file at data/pbmc8k/filtered_gene_bc_matrices.tar.gz      \n",
            "\u001b[34mINFO\u001b[0m      Extracting tar file                                                   \n",
            "\u001b[34mINFO\u001b[0m      Removing extracted data at data/pbmc8k/filtered_gene_bc_matrices      \n",
            "\u001b[34mINFO\u001b[0m      Downloading file at data/pbmc4k/filtered_gene_bc_matrices.tar.gz      \n",
            "\u001b[34mINFO\u001b[0m      Extracting tar file                                                   \n",
            "\u001b[34mINFO\u001b[0m      Removing extracted data at data/pbmc4k/filtered_gene_bc_matrices      \n",
            "Sampling from binomial...: 100%|██████████| 10000/10000 [00:00<00:00, 15018.26it/s]\n",
            "Sampling from binomial...: 100%|██████████| 10000/10000 [00:00<00:00, 15169.42it/s]\n",
            "\u001b[34mINFO\u001b[0m      Using batches from adata.obs\u001b[1m[\u001b[0m\u001b[32m\"batch\"\u001b[0m\u001b[1m]\u001b[0m                                 \n",
            "\u001b[34mINFO\u001b[0m      Using labels from adata.obs\u001b[1m[\u001b[0m\u001b[32m\"str_labels\"\u001b[0m\u001b[1m]\u001b[0m                             \n",
            "\u001b[34mINFO\u001b[0m      Using data from adata.layers\u001b[1m[\u001b[0m\u001b[32m\"counts\"\u001b[0m\u001b[1m]\u001b[0m                                \n",
            "\u001b[34mINFO\u001b[0m      Computing library size prior per batch                                \n",
            "\u001b[34mINFO\u001b[0m      Successfully registered anndata object containing \u001b[1;34m11990\u001b[0m cells, \u001b[1;34m1000\u001b[0m   \n",
            "          genes, \u001b[1;34m2\u001b[0m batches, \u001b[1;34m9\u001b[0m labels, and \u001b[1;34m0\u001b[0m proteins. Also registered \u001b[1;34m0\u001b[0m extra   \n",
            "          categorical covariates and \u001b[1;34m0\u001b[0m extra continuous covariates.             \n",
            "\u001b[34mINFO\u001b[0m      Please do not further modify adata until model is trained.            \n"
          ],
          "name": "stdout"
        }
      ]
    },
    {
      "cell_type": "markdown",
      "metadata": {
        "colab_type": "text",
        "id": "cYPYNAwRij0M"
      },
      "source": [
        "## Analyze gene-specific ZI"
      ]
    },
    {
      "cell_type": "markdown",
      "metadata": {
        "colab_type": "text",
        "id": "6ovhk47Oij0N"
      },
      "source": [
        "In AutoZI, all $\\delta_g$'s follow a common $\\text{Beta}(\\alpha,\\beta)$ prior distribution where $\\alpha,\\beta \\in (0,1)$ and the zero-inflation probability in the ZINB component is bounded below by $\\tau_{\\text{dropout}} \\in (0,1)$. AutoZI is encoded by the `AutoZIVAE` class whose inputs, besides the size of the dataset, are $\\alpha$ (`alpha_prior`), $\\beta$ (`beta_prior`), $\\tau_{\\text{dropout}}$ (`minimal_dropout`). By default, we set $\\alpha = 0.5, \\beta = 0.5, \\tau_{\\text{dropout}} = 0.01$.\n",
        "\n",
        "Note : we can learn $\\alpha,\\beta$ in an Empirical Bayes fashion, which is possible by setting `alpha_prior = None` and `beta_prior = None`"
      ]
    },
    {
      "cell_type": "code",
      "metadata": {
        "colab_type": "code",
        "id": "khMZvSw5ij0O",
        "colab": {}
      },
      "source": [
        "vae = scvi.model.AUTOZI(pbmc)"
      ],
      "execution_count": null,
      "outputs": []
    },
    {
      "cell_type": "markdown",
      "metadata": {
        "colab_type": "text",
        "id": "HXOSTMrLij0V"
      },
      "source": [
        "We fit, for each gene $g$, an approximate posterior distribution $q(\\delta_g) = \\text{Beta}(\\alpha^g,\\beta^g)$ (with $\\alpha^g,\\beta^g \\in (0,1)$) on which we rely. We retrieve $\\alpha^g,\\beta^g$ for all genes $g$ (and $\\alpha,\\beta$, if learned) as numpy arrays using the method `get_alphas_betas` of `AutoZIVAE`."
      ]
    },
    {
      "cell_type": "code",
      "metadata": {
        "colab_type": "code",
        "id": "__RPOTF2ij0W",
        "colab": {
          "base_uri": "https://localhost:8080/",
          "height": 169,
          "referenced_widgets": [
            "7e14bb4792f342f1bff3e759d0bd350f",
            "d5e07b3e5903451a824c537794422cca"
          ]
        },
        "outputId": "b31d0569-ed56-4dd6-cb44-5266ee293fe9"
      },
      "source": [
        "vae.train(lr=1e-2, n_epochs=200)"
      ],
      "execution_count": null,
      "outputs": [
        {
          "output_type": "stream",
          "text": [
            "\u001b[34mINFO\u001b[0m      KL warmup phase exceeds overall training phaseIf your applications    \n",
            "          rely on the posterior quality, consider training for more epochs or   \n",
            "          reducing the kl warmup.                                               \n",
            "\u001b[34mINFO\u001b[0m      KL warmup for \u001b[1;34m400\u001b[0m epochs                                              \n"
          ],
          "name": "stdout"
        },
        {
          "output_type": "display_data",
          "data": {
            "application/vnd.jupyter.widget-view+json": {
              "model_id": "7e14bb4792f342f1bff3e759d0bd350f",
              "version_minor": 0,
              "version_major": 2
            },
            "text/plain": [
              "Output()"
            ]
          },
          "metadata": {
            "tags": []
          }
        },
        {
          "output_type": "stream",
          "text": [
            "\u001b[34mINFO\u001b[0m      Training is still in warming up phase. If your applications rely on   \n",
            "          the posterior quality, consider training for more epochs or reducing  \n",
            "          the kl warmup.                                                        \n",
            "\u001b[34mINFO\u001b[0m      Training time:  \u001b[1;34m250\u001b[0m s. \u001b[35m/\u001b[0m \u001b[1;34m200\u001b[0m epochs                                   \n"
          ],
          "name": "stdout"
        }
      ]
    },
    {
      "cell_type": "code",
      "metadata": {
        "colab_type": "code",
        "id": "B-lEw2IWij0a",
        "colab": {}
      },
      "source": [
        "outputs = vae.get_alphas_betas()\n",
        "alpha_posterior = outputs['alpha_posterior']\n",
        "beta_posterior = outputs['beta_posterior']"
      ],
      "execution_count": null,
      "outputs": []
    },
    {
      "cell_type": "markdown",
      "metadata": {
        "colab_type": "text",
        "id": "BXrym0Cgij0e"
      },
      "source": [
        "Now that we obtained fitted $\\alpha^g,\\beta^g$, different metrics are possible. Bayesian decision theory suggests us the posterior probability of the zero-inflation hypothesis $q(\\delta_g < 0.5)$, but also other metrics such as the mean wrt $q$ of $\\delta_g$ are possible. We focus on the former. We decide that gene $g$ is ZI if and only if $q(\\delta_g < 0.5)$ is greater than a given threshold, say $0.5$. We may note that it is equivalent to $\\alpha^g < \\beta^g$. From this we can deduce the fraction of predicted ZI genes in the dataset."
      ]
    },
    {
      "cell_type": "code",
      "metadata": {
        "colab_type": "code",
        "id": "h2kXAcZLij0e",
        "colab": {
          "base_uri": "https://localhost:8080/",
          "height": 34
        },
        "outputId": "6d73b9a5-4b77-4a19-cbc1-9d03c6fdb973"
      },
      "source": [
        "from scipy.stats import beta\n",
        "\n",
        "# Threshold (or Kzinb/Knb+Kzinb in paper)\n",
        "threshold = 0.5\n",
        "\n",
        "# q(delta_g < 0.5) probabilities\n",
        "zi_probs = beta.cdf(0.5, alpha_posterior, beta_posterior)\n",
        "\n",
        "# ZI genes\n",
        "is_zi_pred = (zi_probs > threshold)\n",
        "\n",
        "print('Fraction of predicted ZI genes :', is_zi_pred.mean())"
      ],
      "execution_count": null,
      "outputs": [
        {
          "output_type": "stream",
          "text": [
            "Fraction of predicted ZI genes : 0.354\n"
          ],
          "name": "stdout"
        }
      ]
    },
    {
      "cell_type": "markdown",
      "metadata": {
        "colab_type": "text",
        "id": "Ps5oykK0ij0k"
      },
      "source": [
        "We noted that predictions were less accurate for genes $g$ whose average expressions - or predicted NB means, equivalently - were low. Indeed, genes assumed not to be ZI were more often predicted as ZI for such low average expressions. A threshold of 1 proved reasonable to separate genes predicted with more or less accuracy. Hence we may want to focus on predictions for genes with average expression above 1."
      ]
    },
    {
      "cell_type": "code",
      "metadata": {
        "colab_type": "code",
        "id": "6AFreZzjij0l",
        "colab": {
          "base_uri": "https://localhost:8080/",
          "height": 51
        },
        "outputId": "865debb5-0a9f-4d2c-d209-9121332f1d51"
      },
      "source": [
        "mask_sufficient_expression = (np.array(pbmc.X.mean(axis=0)) > 1.).reshape(-1)\n",
        "print('Fraction of genes with avg expression > 1 :', mask_sufficient_expression.mean())\n",
        "print('Fraction of predicted ZI genes with avg expression > 1 :', is_zi_pred[mask_sufficient_expression].mean())"
      ],
      "execution_count": null,
      "outputs": [
        {
          "output_type": "stream",
          "text": [
            "Fraction of genes with avg expression > 1 : 0.498\n",
            "Fraction of predicted ZI genes with avg expression > 1 : 0.25903614457831325\n"
          ],
          "name": "stdout"
        }
      ]
    },
    {
      "cell_type": "markdown",
      "metadata": {
        "colab_type": "text",
        "id": "B1V3X_GSij0p"
      },
      "source": [
        "## Analyze gene-cell-type-specific ZI"
      ]
    },
    {
      "cell_type": "markdown",
      "metadata": {
        "colab_type": "text",
        "id": "uUmJ6hStij0q"
      },
      "source": [
        "One may argue that zero-inflation should also be treated on the cell-type (or 'label') level, in addition to the gene level. AutoZI can be extended by assuming a random variable $\\delta_{gc}$ for each gene $g$ and cell type $c$ which denotes the probability that gene $g$ is not zero-inflated in cell-type $c$. The analysis above can be extended to this new scale."
      ]
    },
    {
      "cell_type": "code",
      "metadata": {
        "colab_type": "code",
        "id": "1pr5WP_Eij0q",
        "colab": {
          "base_uri": "https://localhost:8080/",
          "height": 169,
          "referenced_widgets": [
            "bcc623de759247dda8bb92ce41de2cbb",
            "d12032ed0ea54bf88a00d416cc2c17db"
          ]
        },
        "outputId": "5a7c5ff2-0b6e-49fb-f2f6-9c7ff7d4ddbf"
      },
      "source": [
        "# Model definition\n",
        "vae_genelabel = scvi.model.AUTOZI(\n",
        "    pbmc, \n",
        "    dispersion='gene-label', \n",
        "    zero_inflation='gene-label'\n",
        ")\n",
        "\n",
        "# Training\n",
        "vae_genelabel.train(lr=1e-2, n_epochs=200)\n",
        "\n",
        "# Retrieve posterior distribution parameters\n",
        "outputs_genelabel = vae_genelabel.get_alphas_betas()\n",
        "alpha_posterior_genelabel = outputs_genelabel['alpha_posterior']\n",
        "beta_posterior_genelabel = outputs_genelabel['beta_posterior']"
      ],
      "execution_count": null,
      "outputs": [
        {
          "output_type": "stream",
          "text": [
            "\u001b[34mINFO\u001b[0m      KL warmup phase exceeds overall training phaseIf your applications    \n",
            "          rely on the posterior quality, consider training for more epochs or   \n",
            "          reducing the kl warmup.                                               \n",
            "\u001b[34mINFO\u001b[0m      KL warmup for \u001b[1;34m400\u001b[0m epochs                                              \n"
          ],
          "name": "stdout"
        },
        {
          "output_type": "display_data",
          "data": {
            "application/vnd.jupyter.widget-view+json": {
              "model_id": "bcc623de759247dda8bb92ce41de2cbb",
              "version_minor": 0,
              "version_major": 2
            },
            "text/plain": [
              "Output()"
            ]
          },
          "metadata": {
            "tags": []
          }
        },
        {
          "output_type": "stream",
          "text": [
            "\u001b[34mINFO\u001b[0m      Training is still in warming up phase. If your applications rely on   \n",
            "          the posterior quality, consider training for more epochs or reducing  \n",
            "          the kl warmup.                                                        \n",
            "\u001b[34mINFO\u001b[0m      Training time:  \u001b[1;34m254\u001b[0m s. \u001b[35m/\u001b[0m \u001b[1;34m200\u001b[0m epochs                                   \n"
          ],
          "name": "stdout"
        }
      ]
    },
    {
      "cell_type": "code",
      "metadata": {
        "colab_type": "code",
        "id": "1wu__h5lij0v",
        "colab": {
          "base_uri": "https://localhost:8080/",
          "height": 323
        },
        "outputId": "2eda850a-54ac-444b-b269-7951cf93f284"
      },
      "source": [
        "# q(delta_g < 0.5) probabilities\n",
        "zi_probs_genelabel = beta.cdf(0.5,alpha_posterior_genelabel, beta_posterior_genelabel)\n",
        "\n",
        "# ZI gene-cell-types\n",
        "is_zi_pred_genelabel = (zi_probs_genelabel > threshold)\n",
        "\n",
        "ct = pbmc.obs.str_labels.astype(\"category\")\n",
        "codes = np.unique(ct.cat.codes)\n",
        "cats = ct.cat.categories\n",
        "for ind_cell_type, cell_type in zip(codes, cats):\n",
        "    is_zi_pred_genelabel_here = is_zi_pred_genelabel[:,ind_cell_type]\n",
        "    print('Fraction of predicted ZI genes for cell type {} :'.format(cell_type),\n",
        "          is_zi_pred_genelabel_here.mean(),'\\n')"
      ],
      "execution_count": null,
      "outputs": [
        {
          "output_type": "stream",
          "text": [
            "Fraction of predicted ZI genes for cell type B cells : 0.481 \n",
            "\n",
            "Fraction of predicted ZI genes for cell type CD14+ Monocytes : 0.439 \n",
            "\n",
            "Fraction of predicted ZI genes for cell type CD4 T cells : 0.401 \n",
            "\n",
            "Fraction of predicted ZI genes for cell type CD8 T cells : 0.442 \n",
            "\n",
            "Fraction of predicted ZI genes for cell type Dendritic Cells : 0.418 \n",
            "\n",
            "Fraction of predicted ZI genes for cell type FCGR3A+ Monocytes : 0.44 \n",
            "\n",
            "Fraction of predicted ZI genes for cell type Megakaryocytes : 0.456 \n",
            "\n",
            "Fraction of predicted ZI genes for cell type NK cells : 0.452 \n",
            "\n",
            "Fraction of predicted ZI genes for cell type Other : 0.428 \n",
            "\n"
          ],
          "name": "stdout"
        }
      ]
    },
    {
      "cell_type": "code",
      "metadata": {
        "colab_type": "code",
        "id": "ItgDITuBij02",
        "colab": {
          "base_uri": "https://localhost:8080/",
          "height": 476
        },
        "outputId": "71b2de7b-36e4-4090-af44-18a11bcbf048"
      },
      "source": [
        "# With avg expressions > 1\n",
        "for ind_cell_type, cell_type in zip(codes, cats):\n",
        "    mask_sufficient_expression = (np.array(pbmc.X[pbmc.obs.str_labels.values.reshape(-1) == cell_type,:].mean(axis=0)) > 1.).reshape(-1)\n",
        "    print('Fraction of genes with avg expression > 1 for cell type {} :'.format(cell_type),\n",
        "          mask_sufficient_expression.mean())\n",
        "    is_zi_pred_genelabel_here = is_zi_pred_genelabel[mask_sufficient_expression,ind_cell_type]\n",
        "    print('Fraction of predicted ZI genes with avg expression > 1 for cell type {} :'.format(cell_type),\n",
        "          is_zi_pred_genelabel_here.mean(), '\\n')"
      ],
      "execution_count": null,
      "outputs": [
        {
          "output_type": "stream",
          "text": [
            "Fraction of genes with avg expression > 1 for cell type B cells : 0.389\n",
            "Fraction of predicted ZI genes with avg expression > 1 for cell type B cells : 0.4524421593830334 \n",
            "\n",
            "Fraction of genes with avg expression > 1 for cell type CD14+ Monocytes : 0.489\n",
            "Fraction of predicted ZI genes with avg expression > 1 for cell type CD14+ Monocytes : 0.38445807770961143 \n",
            "\n",
            "Fraction of genes with avg expression > 1 for cell type CD4 T cells : 0.432\n",
            "Fraction of predicted ZI genes with avg expression > 1 for cell type CD4 T cells : 0.27546296296296297 \n",
            "\n",
            "Fraction of genes with avg expression > 1 for cell type CD8 T cells : 0.498\n",
            "Fraction of predicted ZI genes with avg expression > 1 for cell type CD8 T cells : 0.40160642570281124 \n",
            "\n",
            "Fraction of genes with avg expression > 1 for cell type Dendritic Cells : 0.858\n",
            "Fraction of predicted ZI genes with avg expression > 1 for cell type Dendritic Cells : 0.41025641025641024 \n",
            "\n",
            "Fraction of genes with avg expression > 1 for cell type FCGR3A+ Monocytes : 0.739\n",
            "Fraction of predicted ZI genes with avg expression > 1 for cell type FCGR3A+ Monocytes : 0.41542625169147496 \n",
            "\n",
            "Fraction of genes with avg expression > 1 for cell type Megakaryocytes : 0.749\n",
            "Fraction of predicted ZI genes with avg expression > 1 for cell type Megakaryocytes : 0.44192256341789055 \n",
            "\n",
            "Fraction of genes with avg expression > 1 for cell type NK cells : 0.574\n",
            "Fraction of predicted ZI genes with avg expression > 1 for cell type NK cells : 0.44076655052264807 \n",
            "\n",
            "Fraction of genes with avg expression > 1 for cell type Other : 0.784\n",
            "Fraction of predicted ZI genes with avg expression > 1 for cell type Other : 0.4145408163265306 \n",
            "\n"
          ],
          "name": "stdout"
        }
      ]
    },
    {
      "cell_type": "code",
      "metadata": {
        "id": "IQT2kS-GOrjG",
        "colab_type": "code",
        "colab": {}
      },
      "source": [
        ""
      ],
      "execution_count": null,
      "outputs": []
    }
  ]
}