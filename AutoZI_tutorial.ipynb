{
 "cells": [
  {
   "cell_type": "markdown",
   "metadata": {
    "colab_type": "text",
    "id": "LQNi8aIsijzk"
   },
   "source": [
    "# Identification of zero-inflated genes"
   ]
  },
  {
   "cell_type": "markdown",
   "metadata": {
    "colab_type": "text",
    "id": "W7cITGhKijzn"
   },
   "source": [
    "AutoZI is a deep generative model adapted from scVI allowing a gene-specific treatment of zero-inflation. For each gene $g$, AutoZI notably learns the distribution of a random variable $\\delta_g$ which denotes the probability that gene $g$ is not zero-inflated. In this notebook, we present the use of the model on a PBMC dataset.\n",
    "\n",
    "More details about AutoZI can be found in : https://www.biorxiv.org/content/10.1101/794875v2"
   ]
  },
  {
   "cell_type": "markdown",
   "metadata": {
    "colab_type": "text",
    "id": "zWVJJX5VivQH"
   },
   "source": [
    "[![Open In Colab](https://colab.research.google.com/assets/colab-badge.svg)](https://colab.research.google.com/github/yoseflab/scvi-tutorials/blob/dev/AutoZI_tutorial.ipynb)"
   ]
  },
  {
   "cell_type": "code",
   "execution_count": 1,
   "metadata": {
    "colab": {
     "base_uri": "https://localhost:8080/",
     "height": 295
    },
    "colab_type": "code",
    "id": "kTvfZsr5jBT6",
    "outputId": "a813dd0a-4ced-4e84-abaa-ed34d1140383"
   },
   "outputs": [
    {
     "name": "stdout",
     "output_type": "stream",
     "text": [
      "\u001b[K     |████████████████████████████████| 153kB 8.0MB/s \n",
      "\u001b[K     |████████████████████████████████| 122kB 9.1MB/s \n",
      "\u001b[K     |████████████████████████████████| 153kB 13.2MB/s \n",
      "\u001b[K     |████████████████████████████████| 112kB 20.6MB/s \n",
      "\u001b[K     |████████████████████████████████| 2.4MB 20.1MB/s \n",
      "\u001b[K     |████████████████████████████████| 3.2MB 40.0MB/s \n",
      "\u001b[K     |████████████████████████████████| 51kB 7.1MB/s \n",
      "\u001b[K     |████████████████████████████████| 7.7MB 41.6MB/s \n",
      "\u001b[K     |████████████████████████████████| 8.7MB 48.2MB/s \n",
      "\u001b[K     |████████████████████████████████| 51kB 6.9MB/s \n",
      "\u001b[K     |████████████████████████████████| 112kB 56.6MB/s \n",
      "\u001b[K     |████████████████████████████████| 51kB 7.2MB/s \n",
      "\u001b[K     |████████████████████████████████| 61kB 5.2MB/s \n",
      "\u001b[?25h  Building wheel for loompy (setup.py) ... \u001b[?25l\u001b[?25hdone\n",
      "  Building wheel for numpy-groupies (setup.py) ... \u001b[?25l\u001b[?25hdone\n",
      "  Building wheel for sinfo (setup.py) ... \u001b[?25l\u001b[?25hdone\n"
     ]
    }
   ],
   "source": [
    "import sys\n",
    "IN_COLAB = \"google.colab\" in sys.modules\n",
    "\n",
    "if IN_COLAB:\n",
    "    !pip install --upgrade jsonschema\n",
    "    !pip install git+https://github.com/yoseflab/scvi-tools@master#egg=scvi-tools[tutorials]\n"
   ]
  },
  {
   "cell_type": "markdown",
   "metadata": {
    "colab_type": "text",
    "id": "mC-uVd3zijz7"
   },
   "source": [
    "## Imports, data loading and preparation"
   ]
  },
  {
   "cell_type": "code",
   "execution_count": 2,
   "metadata": {
    "colab": {},
    "colab_type": "code",
    "id": "05Y2uUIxijz9"
   },
   "outputs": [],
   "source": [
    "import numpy as np\n",
    "import pandas as pd\n",
    "import anndata\n",
    "\n",
    "import scanpy as sc\n",
    "import scvi"
   ]
  },
  {
   "cell_type": "code",
   "execution_count": 3,
   "metadata": {
    "colab": {
     "base_uri": "https://localhost:8080/",
     "height": 330
    },
    "colab_type": "code",
    "id": "j27g4M4Uij0F",
    "outputId": "2730d59c-0f94-4b6b-deb9-6fa84b223094"
   },
   "outputs": [
    {
     "name": "stdout",
     "output_type": "stream",
     "text": [
      "\u001b[34mINFO\u001b[0m      Downloading file at data/gene_info_pbmc.csv                           \n",
      "\u001b[34mINFO\u001b[0m      Downloading file at data/pbmc_metadata.pickle                         \n",
      "\u001b[34mINFO\u001b[0m      Downloading file at data/pbmc8k/filtered_gene_bc_matrices.tar.gz      \n",
      "\u001b[34mINFO\u001b[0m      Extracting tar file                                                   \n",
      "\u001b[34mINFO\u001b[0m      Removing extracted data at data/pbmc8k/filtered_gene_bc_matrices      \n",
      "\u001b[34mINFO\u001b[0m      Downloading file at data/pbmc4k/filtered_gene_bc_matrices.tar.gz      \n",
      "\u001b[34mINFO\u001b[0m      Extracting tar file                                                   \n",
      "\u001b[34mINFO\u001b[0m      Removing extracted data at data/pbmc4k/filtered_gene_bc_matrices      \n",
      "Sampling from binomial...: 100%|██████████| 10000/10000 [00:00<00:00, 14188.27it/s]\n",
      "Sampling from binomial...: 100%|██████████| 10000/10000 [00:00<00:00, 13641.30it/s]\n",
      "\u001b[34mINFO\u001b[0m      Using batches from adata.obs\u001b[1m[\u001b[0m\u001b[32m\"batch\"\u001b[0m\u001b[1m]\u001b[0m                                 \n",
      "\u001b[34mINFO\u001b[0m      Using labels from adata.obs\u001b[1m[\u001b[0m\u001b[32m\"str_labels\"\u001b[0m\u001b[1m]\u001b[0m                             \n",
      "\u001b[34mINFO\u001b[0m      Using data from adata.layers\u001b[1m[\u001b[0m\u001b[32m\"counts\"\u001b[0m\u001b[1m]\u001b[0m                                \n",
      "\u001b[34mINFO\u001b[0m      Computing library size prior per batch                                \n",
      "\u001b[34mINFO\u001b[0m      Successfully registered anndata object containing \u001b[1;34m11990\u001b[0m cells, \u001b[1;34m1000\u001b[0m   \n",
      "          genes, \u001b[1;34m2\u001b[0m batches, \u001b[1;34m9\u001b[0m labels, and \u001b[1;34m0\u001b[0m proteins. Also registered \u001b[1;34m0\u001b[0m extra   \n",
      "          categorical covariates and \u001b[1;34m0\u001b[0m extra continuous covariates.             \n",
      "\u001b[34mINFO\u001b[0m      Please do not further modify adata until model is trained.            \n"
     ]
    }
   ],
   "source": [
    "pbmc = scvi.data.pbmc_dataset(run_setup_anndata=False)\n",
    "pbmc.layers[\"counts\"] = pbmc.X.copy()\n",
    "sc.pp.normalize_total(pbmc, target_sum=10e4)\n",
    "sc.pp.log1p(pbmc)\n",
    "pbmc.raw = pbmc\n",
    "scvi.data.poisson_gene_selection(\n",
    "    pbmc, \n",
    "    n_top_genes=1000, \n",
    "    batch_key=\"batch\",\n",
    "    subset=True,\n",
    "    layer=\"counts\",\n",
    ")\n",
    "scvi.data.setup_anndata(\n",
    "    pbmc, \n",
    "    labels_key=\"str_labels\", \n",
    "    batch_key=\"batch\",\n",
    "    layer=\"counts\",\n",
    ")"
   ]
  },
  {
   "cell_type": "markdown",
   "metadata": {
    "colab_type": "text",
    "id": "cYPYNAwRij0M"
   },
   "source": [
    "## Analyze gene-specific ZI"
   ]
  },
  {
   "cell_type": "markdown",
   "metadata": {
    "colab_type": "text",
    "id": "6ovhk47Oij0N"
   },
   "source": [
    "In AutoZI, all $\\delta_g$'s follow a common $\\text{Beta}(\\alpha,\\beta)$ prior distribution where $\\alpha,\\beta \\in (0,1)$ and the zero-inflation probability in the ZINB component is bounded below by $\\tau_{\\text{dropout}} \\in (0,1)$. AutoZI is encoded by the `AutoZIVAE` class whose inputs, besides the size of the dataset, are $\\alpha$ (`alpha_prior`), $\\beta$ (`beta_prior`), $\\tau_{\\text{dropout}}$ (`minimal_dropout`). By default, we set $\\alpha = 0.5, \\beta = 0.5, \\tau_{\\text{dropout}} = 0.01$.\n",
    "\n",
    "Note : we can learn $\\alpha,\\beta$ in an Empirical Bayes fashion, which is possible by setting `alpha_prior = None` and `beta_prior = None`"
   ]
  },
  {
   "cell_type": "code",
   "execution_count": 4,
   "metadata": {
    "colab": {},
    "colab_type": "code",
    "id": "khMZvSw5ij0O"
   },
   "outputs": [],
   "source": [
    "vae = scvi.model.AUTOZI(pbmc)"
   ]
  },
  {
   "cell_type": "markdown",
   "metadata": {
    "colab_type": "text",
    "id": "HXOSTMrLij0V"
   },
   "source": [
    "We fit, for each gene $g$, an approximate posterior distribution $q(\\delta_g) = \\text{Beta}(\\alpha^g,\\beta^g)$ (with $\\alpha^g,\\beta^g \\in (0,1)$) on which we rely. We retrieve $\\alpha^g,\\beta^g$ for all genes $g$ (and $\\alpha,\\beta$, if learned) as numpy arrays using the method `get_alphas_betas` of `AutoZIVAE`."
   ]
  },
  {
   "cell_type": "code",
   "execution_count": 5,
   "metadata": {
    "colab": {
     "base_uri": "https://localhost:8080/",
     "height": 173,
     "referenced_widgets": [
      "19b8f121a1264fed9ce75888f2970452",
      "cb079ba14b8249bd91211285c4dc07d4"
     ]
    },
    "colab_type": "code",
    "id": "__RPOTF2ij0W",
    "outputId": "28d82871-5c1a-413c-f382-c1a46ee41433"
   },
   "outputs": [
    {
     "name": "stdout",
     "output_type": "stream",
     "text": [
      "\u001b[34mINFO\u001b[0m      KL warmup phase exceeds overall training phaseIf your applications    \n",
      "          rely on the posterior quality, consider training for more epochs or   \n",
      "          reducing the kl warmup.                                               \n",
      "\u001b[34mINFO\u001b[0m      KL warmup for \u001b[1;34m400\u001b[0m epochs                                              \n"
     ]
    },
    {
     "data": {
      "application/vnd.jupyter.widget-view+json": {
       "model_id": "19b8f121a1264fed9ce75888f2970452",
       "version_major": 2,
       "version_minor": 0
      },
      "text/plain": [
       "Output()"
      ]
     },
     "metadata": {
      "tags": []
     },
     "output_type": "display_data"
    },
    {
     "name": "stdout",
     "output_type": "stream",
     "text": [
      "\u001b[34mINFO\u001b[0m      Training is still in warming up phase. If your applications rely on   \n",
      "          the posterior quality, consider training for more epochs or reducing  \n",
      "          the kl warmup.                                                        \n",
      "\u001b[34mINFO\u001b[0m      Training time:  \u001b[1;34m273\u001b[0m s. \u001b[35m/\u001b[0m \u001b[1;34m200\u001b[0m epochs                                   \n"
     ]
    }
   ],
   "source": [
    "vae.train(lr=1e-2, n_epochs=200)"
   ]
  },
  {
   "cell_type": "code",
   "execution_count": 6,
   "metadata": {
    "colab": {},
    "colab_type": "code",
    "id": "B-lEw2IWij0a"
   },
   "outputs": [],
   "source": [
    "outputs = vae.get_alphas_betas()\n",
    "alpha_posterior = outputs['alpha_posterior']\n",
    "beta_posterior = outputs['beta_posterior']"
   ]
  },
  {
   "cell_type": "markdown",
   "metadata": {
    "colab_type": "text",
    "id": "BXrym0Cgij0e"
   },
   "source": [
    "Now that we obtained fitted $\\alpha^g,\\beta^g$, different metrics are possible. Bayesian decision theory suggests us the posterior probability of the zero-inflation hypothesis $q(\\delta_g < 0.5)$, but also other metrics such as the mean wrt $q$ of $\\delta_g$ are possible. We focus on the former. We decide that gene $g$ is ZI if and only if $q(\\delta_g < 0.5)$ is greater than a given threshold, say $0.5$. We may note that it is equivalent to $\\alpha^g < \\beta^g$. From this we can deduce the fraction of predicted ZI genes in the dataset."
   ]
  },
  {
   "cell_type": "code",
   "execution_count": 7,
   "metadata": {
    "colab": {
     "base_uri": "https://localhost:8080/",
     "height": 34
    },
    "colab_type": "code",
    "id": "h2kXAcZLij0e",
    "outputId": "82459f24-8658-49e6-c1be-5813d830b60b"
   },
   "outputs": [
    {
     "name": "stdout",
     "output_type": "stream",
     "text": [
      "Fraction of predicted ZI genes : 0.354\n"
     ]
    }
   ],
   "source": [
    "from scipy.stats import beta\n",
    "\n",
    "# Threshold (or Kzinb/Knb+Kzinb in paper)\n",
    "threshold = 0.5\n",
    "\n",
    "# q(delta_g < 0.5) probabilities\n",
    "zi_probs = beta.cdf(0.5, alpha_posterior, beta_posterior)\n",
    "\n",
    "# ZI genes\n",
    "is_zi_pred = (zi_probs > threshold)\n",
    "\n",
    "print('Fraction of predicted ZI genes :', is_zi_pred.mean())"
   ]
  },
  {
   "cell_type": "markdown",
   "metadata": {
    "colab_type": "text",
    "id": "Ps5oykK0ij0k"
   },
   "source": [
    "We noted that predictions were less accurate for genes $g$ whose average expressions - or predicted NB means, equivalently - were low. Indeed, genes assumed not to be ZI were more often predicted as ZI for such low average expressions. A threshold of 1 proved reasonable to separate genes predicted with more or less accuracy. Hence we may want to focus on predictions for genes with average expression above 1."
   ]
  },
  {
   "cell_type": "code",
   "execution_count": 8,
   "metadata": {
    "colab": {
     "base_uri": "https://localhost:8080/",
     "height": 52
    },
    "colab_type": "code",
    "id": "6AFreZzjij0l",
    "outputId": "d4bd78c8-577b-4cda-9649-cc47df29f3ea"
   },
   "outputs": [
    {
     "name": "stdout",
     "output_type": "stream",
     "text": [
      "Fraction of genes with avg expression > 1 : 0.498\n",
      "Fraction of predicted ZI genes with avg expression > 1 : 0.25903614457831325\n"
     ]
    }
   ],
   "source": [
    "mask_sufficient_expression = (np.array(pbmc.X.mean(axis=0)) > 1.).reshape(-1)\n",
    "print('Fraction of genes with avg expression > 1 :', mask_sufficient_expression.mean())\n",
    "print('Fraction of predicted ZI genes with avg expression > 1 :', is_zi_pred[mask_sufficient_expression].mean())"
   ]
  },
  {
   "cell_type": "markdown",
   "metadata": {
    "colab_type": "text",
    "id": "B1V3X_GSij0p"
   },
   "source": [
    "## Analyze gene-cell-type-specific ZI"
   ]
  },
  {
   "cell_type": "markdown",
   "metadata": {
    "colab_type": "text",
    "id": "uUmJ6hStij0q"
   },
   "source": [
    "One may argue that zero-inflation should also be treated on the cell-type (or 'label') level, in addition to the gene level. AutoZI can be extended by assuming a random variable $\\delta_{gc}$ for each gene $g$ and cell type $c$ which denotes the probability that gene $g$ is not zero-inflated in cell-type $c$. The analysis above can be extended to this new scale."
   ]
  },
  {
   "cell_type": "code",
   "execution_count": 9,
   "metadata": {
    "colab": {
     "base_uri": "https://localhost:8080/",
     "height": 173,
     "referenced_widgets": [
      "1eb16462af2b42a9accaa5c650de45c3",
      "443e89207be64501b1cf386ddf673eed"
     ]
    },
    "colab_type": "code",
    "id": "1pr5WP_Eij0q",
    "outputId": "10fe6b6b-356c-4fb4-f6d9-736aeba455e3"
   },
   "outputs": [
    {
     "name": "stdout",
     "output_type": "stream",
     "text": [
      "\u001b[34mINFO\u001b[0m      KL warmup phase exceeds overall training phaseIf your applications    \n",
      "          rely on the posterior quality, consider training for more epochs or   \n",
      "          reducing the kl warmup.                                               \n",
      "\u001b[34mINFO\u001b[0m      KL warmup for \u001b[1;34m400\u001b[0m epochs                                              \n"
     ]
    },
    {
     "data": {
      "application/vnd.jupyter.widget-view+json": {
       "model_id": "1eb16462af2b42a9accaa5c650de45c3",
       "version_major": 2,
       "version_minor": 0
      },
      "text/plain": [
       "Output()"
      ]
     },
     "metadata": {
      "tags": []
     },
     "output_type": "display_data"
    },
    {
     "name": "stdout",
     "output_type": "stream",
     "text": [
      "\u001b[34mINFO\u001b[0m      Training is still in warming up phase. If your applications rely on   \n",
      "          the posterior quality, consider training for more epochs or reducing  \n",
      "          the kl warmup.                                                        \n",
      "\u001b[34mINFO\u001b[0m      Training time:  \u001b[1;34m283\u001b[0m s. \u001b[35m/\u001b[0m \u001b[1;34m200\u001b[0m epochs                                   \n"
     ]
    }
   ],
   "source": [
    "# Model definition\n",
    "vae_genelabel = scvi.model.AUTOZI(\n",
    "    pbmc, \n",
    "    dispersion='gene-label', \n",
    "    zero_inflation='gene-label'\n",
    ")\n",
    "\n",
    "# Training\n",
    "vae_genelabel.train(lr=1e-2, n_epochs=200)\n",
    "\n",
    "# Retrieve posterior distribution parameters\n",
    "outputs_genelabel = vae_genelabel.get_alphas_betas()\n",
    "alpha_posterior_genelabel = outputs_genelabel['alpha_posterior']\n",
    "beta_posterior_genelabel = outputs_genelabel['beta_posterior']"
   ]
  },
  {
   "cell_type": "code",
   "execution_count": 10,
   "metadata": {
    "colab": {
     "base_uri": "https://localhost:8080/",
     "height": 330
    },
    "colab_type": "code",
    "id": "1wu__h5lij0v",
    "outputId": "469d022e-788c-4e8d-d473-89e03ad2e385"
   },
   "outputs": [
    {
     "name": "stdout",
     "output_type": "stream",
     "text": [
      "Fraction of predicted ZI genes for cell type B cells : 0.481 \n",
      "\n",
      "Fraction of predicted ZI genes for cell type CD14+ Monocytes : 0.439 \n",
      "\n",
      "Fraction of predicted ZI genes for cell type CD4 T cells : 0.401 \n",
      "\n",
      "Fraction of predicted ZI genes for cell type CD8 T cells : 0.442 \n",
      "\n",
      "Fraction of predicted ZI genes for cell type Dendritic Cells : 0.418 \n",
      "\n",
      "Fraction of predicted ZI genes for cell type FCGR3A+ Monocytes : 0.44 \n",
      "\n",
      "Fraction of predicted ZI genes for cell type Megakaryocytes : 0.456 \n",
      "\n",
      "Fraction of predicted ZI genes for cell type NK cells : 0.452 \n",
      "\n",
      "Fraction of predicted ZI genes for cell type Other : 0.428 \n",
      "\n"
     ]
    }
   ],
   "source": [
    "# q(delta_g < 0.5) probabilities\n",
    "zi_probs_genelabel = beta.cdf(0.5,alpha_posterior_genelabel, beta_posterior_genelabel)\n",
    "\n",
    "# ZI gene-cell-types\n",
    "is_zi_pred_genelabel = (zi_probs_genelabel > threshold)\n",
    "\n",
    "ct = pbmc.obs.str_labels.astype(\"category\")\n",
    "codes = np.unique(ct.cat.codes)\n",
    "cats = ct.cat.categories\n",
    "for ind_cell_type, cell_type in zip(codes, cats):\n",
    "    is_zi_pred_genelabel_here = is_zi_pred_genelabel[:,ind_cell_type]\n",
    "    print('Fraction of predicted ZI genes for cell type {} :'.format(cell_type),\n",
    "          is_zi_pred_genelabel_here.mean(),'\\n')"
   ]
  },
  {
   "cell_type": "code",
   "execution_count": 11,
   "metadata": {
    "colab": {
     "base_uri": "https://localhost:8080/",
     "height": 486
    },
    "colab_type": "code",
    "id": "ItgDITuBij02",
    "outputId": "68a24b6b-5d86-40ee-e034-1f6f91babe98"
   },
   "outputs": [
    {
     "name": "stdout",
     "output_type": "stream",
     "text": [
      "Fraction of genes with avg expression > 1 for cell type B cells : 0.389\n",
      "Fraction of predicted ZI genes with avg expression > 1 for cell type B cells : 0.4524421593830334 \n",
      "\n",
      "Fraction of genes with avg expression > 1 for cell type CD14+ Monocytes : 0.489\n",
      "Fraction of predicted ZI genes with avg expression > 1 for cell type CD14+ Monocytes : 0.38445807770961143 \n",
      "\n",
      "Fraction of genes with avg expression > 1 for cell type CD4 T cells : 0.432\n",
      "Fraction of predicted ZI genes with avg expression > 1 for cell type CD4 T cells : 0.27546296296296297 \n",
      "\n",
      "Fraction of genes with avg expression > 1 for cell type CD8 T cells : 0.498\n",
      "Fraction of predicted ZI genes with avg expression > 1 for cell type CD8 T cells : 0.40160642570281124 \n",
      "\n",
      "Fraction of genes with avg expression > 1 for cell type Dendritic Cells : 0.858\n",
      "Fraction of predicted ZI genes with avg expression > 1 for cell type Dendritic Cells : 0.41025641025641024 \n",
      "\n",
      "Fraction of genes with avg expression > 1 for cell type FCGR3A+ Monocytes : 0.739\n",
      "Fraction of predicted ZI genes with avg expression > 1 for cell type FCGR3A+ Monocytes : 0.41542625169147496 \n",
      "\n",
      "Fraction of genes with avg expression > 1 for cell type Megakaryocytes : 0.749\n",
      "Fraction of predicted ZI genes with avg expression > 1 for cell type Megakaryocytes : 0.44192256341789055 \n",
      "\n",
      "Fraction of genes with avg expression > 1 for cell type NK cells : 0.574\n",
      "Fraction of predicted ZI genes with avg expression > 1 for cell type NK cells : 0.44076655052264807 \n",
      "\n",
      "Fraction of genes with avg expression > 1 for cell type Other : 0.784\n",
      "Fraction of predicted ZI genes with avg expression > 1 for cell type Other : 0.4145408163265306 \n",
      "\n"
     ]
    }
   ],
   "source": [
    "# With avg expressions > 1\n",
    "for ind_cell_type, cell_type in zip(codes, cats):\n",
    "    mask_sufficient_expression = (np.array(pbmc.X[pbmc.obs.str_labels.values.reshape(-1) == cell_type,:].mean(axis=0)) > 1.).reshape(-1)\n",
    "    print('Fraction of genes with avg expression > 1 for cell type {} :'.format(cell_type),\n",
    "          mask_sufficient_expression.mean())\n",
    "    is_zi_pred_genelabel_here = is_zi_pred_genelabel[mask_sufficient_expression,ind_cell_type]\n",
    "    print('Fraction of predicted ZI genes with avg expression > 1 for cell type {} :'.format(cell_type),\n",
    "          is_zi_pred_genelabel_here.mean(), '\\n')"
   ]
  }
 ],
 "metadata": {
  "accelerator": "GPU",
  "colab": {
   "collapsed_sections": [],
   "name": "AutoZI_tutorial_new_api.ipynb",
   "provenance": []
  },
  "kernelspec": {
   "display_name": "Python 3",
   "language": "python",
   "name": "python3"
  },
  "language_info": {
   "codemirror_mode": {
    "name": "ipython",
    "version": 3
   },
   "file_extension": ".py",
   "mimetype": "text/x-python",
   "name": "python",
   "nbconvert_exporter": "python",
   "pygments_lexer": "ipython3",
   "version": "3.6.10"
  },
  "widgets": {
   "application/vnd.jupyter.widget-state+json": {
    "19b8f121a1264fed9ce75888f2970452": {
     "model_module": "@jupyter-widgets/output",
     "model_name": "OutputModel",
     "state": {
      "_dom_classes": [],
      "_model_module": "@jupyter-widgets/output",
      "_model_module_version": "1.0.0",
      "_model_name": "OutputModel",
      "_view_count": null,
      "_view_module": "@jupyter-widgets/output",
      "_view_module_version": "1.0.0",
      "_view_name": "OutputView",
      "layout": "IPY_MODEL_cb079ba14b8249bd91211285c4dc07d4",
      "msg_id": "",
      "outputs": [
       {
        "metadata": {
         "tags": []
        },
        "output_type": "display_data",
        "text/html": "<pre style=\"white-space:pre;overflow-x:auto;line-height:normal;font-family:Menlo,'DejaVu Sans Mono',consolas,'Courier New',monospace\">Training... <span style=\"color: #729c1f\">━━━━━━━━━━━━━━━━━━━━━━━━━━━━━━━━━━━━━━━━</span> <span style=\"color: #800080\">100%</span> <span style=\"color: #008080\">0:00:00</span>\n</pre>\n",
        "text/plain": "<rich.jupyter.JupyterRenderable at 0x7fd6c83afb00>"
       }
      ]
     }
    },
    "1eb16462af2b42a9accaa5c650de45c3": {
     "model_module": "@jupyter-widgets/output",
     "model_name": "OutputModel",
     "state": {
      "_dom_classes": [],
      "_model_module": "@jupyter-widgets/output",
      "_model_module_version": "1.0.0",
      "_model_name": "OutputModel",
      "_view_count": null,
      "_view_module": "@jupyter-widgets/output",
      "_view_module_version": "1.0.0",
      "_view_name": "OutputView",
      "layout": "IPY_MODEL_443e89207be64501b1cf386ddf673eed",
      "msg_id": "",
      "outputs": [
       {
        "metadata": {
         "tags": []
        },
        "output_type": "display_data",
        "text/html": "<pre style=\"white-space:pre;overflow-x:auto;line-height:normal;font-family:Menlo,'DejaVu Sans Mono',consolas,'Courier New',monospace\">Training... <span style=\"color: #729c1f\">━━━━━━━━━━━━━━━━━━━━━━━━━━━━━━━━━━━━━━━━</span> <span style=\"color: #800080\">100%</span> <span style=\"color: #008080\">0:00:00</span>\n</pre>\n",
        "text/plain": "<rich.jupyter.JupyterRenderable at 0x7fd6c83a3748>"
       }
      ]
     }
    },
    "443e89207be64501b1cf386ddf673eed": {
     "model_module": "@jupyter-widgets/base",
     "model_name": "LayoutModel",
     "state": {
      "_model_module": "@jupyter-widgets/base",
      "_model_module_version": "1.2.0",
      "_model_name": "LayoutModel",
      "_view_count": null,
      "_view_module": "@jupyter-widgets/base",
      "_view_module_version": "1.2.0",
      "_view_name": "LayoutView",
      "align_content": null,
      "align_items": null,
      "align_self": null,
      "border": null,
      "bottom": null,
      "display": null,
      "flex": null,
      "flex_flow": null,
      "grid_area": null,
      "grid_auto_columns": null,
      "grid_auto_flow": null,
      "grid_auto_rows": null,
      "grid_column": null,
      "grid_gap": null,
      "grid_row": null,
      "grid_template_areas": null,
      "grid_template_columns": null,
      "grid_template_rows": null,
      "height": null,
      "justify_content": null,
      "justify_items": null,
      "left": null,
      "margin": null,
      "max_height": null,
      "max_width": null,
      "min_height": null,
      "min_width": null,
      "object_fit": null,
      "object_position": null,
      "order": null,
      "overflow": null,
      "overflow_x": null,
      "overflow_y": null,
      "padding": null,
      "right": null,
      "top": null,
      "visibility": null,
      "width": null
     }
    },
    "cb079ba14b8249bd91211285c4dc07d4": {
     "model_module": "@jupyter-widgets/base",
     "model_name": "LayoutModel",
     "state": {
      "_model_module": "@jupyter-widgets/base",
      "_model_module_version": "1.2.0",
      "_model_name": "LayoutModel",
      "_view_count": null,
      "_view_module": "@jupyter-widgets/base",
      "_view_module_version": "1.2.0",
      "_view_name": "LayoutView",
      "align_content": null,
      "align_items": null,
      "align_self": null,
      "border": null,
      "bottom": null,
      "display": null,
      "flex": null,
      "flex_flow": null,
      "grid_area": null,
      "grid_auto_columns": null,
      "grid_auto_flow": null,
      "grid_auto_rows": null,
      "grid_column": null,
      "grid_gap": null,
      "grid_row": null,
      "grid_template_areas": null,
      "grid_template_columns": null,
      "grid_template_rows": null,
      "height": null,
      "justify_content": null,
      "justify_items": null,
      "left": null,
      "margin": null,
      "max_height": null,
      "max_width": null,
      "min_height": null,
      "min_width": null,
      "object_fit": null,
      "object_position": null,
      "order": null,
      "overflow": null,
      "overflow_x": null,
      "overflow_y": null,
      "padding": null,
      "right": null,
      "top": null,
      "visibility": null,
      "width": null
     }
    }
   }
  }
 },
 "nbformat": 4,
 "nbformat_minor": 4
}
