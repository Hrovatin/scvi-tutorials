{
 "cells": [
  {
   "cell_type": "markdown",
   "metadata": {},
   "source": [
    "# Identifying zero-inflated genes with AutoZI"
   ]
  },
  {
   "cell_type": "markdown",
   "metadata": {},
   "source": [
    "AutoZI is a deep generative model adapted from scVI allowing a gene-specific treatment of zero-inflation. For each gene $g$, AutoZI notably learns the distribution of a random variable $\\delta_g$ which denotes the probability that gene $g$ is not zero-inflated. In this notebook, we present the use of the model on a PBMC dataset.\n",
    "\n",
    "More details about AutoZI can be found in : https://www.biorxiv.org/content/10.1101/794875v2"
   ]
  },
  {
   "cell_type": "code",
   "execution_count": 1,
   "metadata": {},
   "outputs": [],
   "source": [
    "# The next cell is some code we use to keep the notebooks tested.\n",
    "# Feel free to ignore!"
   ]
  },
  {
   "cell_type": "code",
   "execution_count": 2,
   "metadata": {},
   "outputs": [],
   "source": [
    "def allow_notebook_for_test():\n",
    "    print(\"Testing the totalVI notebook\")\n",
    "\n",
    "show_plot = True\n",
    "test_mode = False\n",
    "n_epochs_all = None\n",
    "save_path = \"data/\"\n",
    "\n",
    "if not test_mode:\n",
    "    save_path = \"../../data\""
   ]
  },
  {
   "cell_type": "markdown",
   "metadata": {},
   "source": [
    "## Imports and data loading"
   ]
  },
  {
   "cell_type": "code",
   "execution_count": 3,
   "metadata": {},
   "outputs": [
    {
     "name": "stderr",
     "output_type": "stream",
     "text": [
      "/Users/galen/anaconda3/lib/python3.7/site-packages/dask/config.py:168: YAMLLoadWarning: calling yaml.load() without Loader=... is deprecated, as the default Loader is unsafe. Please read https://msg.pyyaml.org/load for full details.\n",
      "  data = yaml.load(f.read()) or {}\n",
      "/Users/galen/anaconda3/lib/python3.7/site-packages/numba/np/ufunc/parallel.py:355: NumbaWarning: \u001b[1mThe TBB threading layer requires TBB version 2019.5 or later i.e., TBB_INTERFACE_VERSION >= 11005. Found TBB_INTERFACE_VERSION = 11000. The TBB threading layer is disabled.\u001b[0m\n",
      "  warnings.warn(problem)\n"
     ]
    }
   ],
   "source": [
    "import matplotlib.pyplot as plt\n",
    "import numpy as np\n",
    "import pandas as pd\n",
    "import torch\n",
    "import anndata\n",
    "import os\n",
    "\n",
    "import scvi\n",
    "from scvi.models import AutoZIVAE\n",
    "from scvi.inference import UnsupervisedTrainer"
   ]
  },
  {
   "cell_type": "code",
   "execution_count": 4,
   "metadata": {},
   "outputs": [
    {
     "name": "stdout",
     "output_type": "stream",
     "text": [
      "[2020-07-21 22:30:35,217] INFO - scvi.dataset._built_in_data._utils | File ../../data/10X/gene_info_pbmc.csv already downloaded\n",
      "[2020-07-21 22:30:35,220] INFO - scvi.dataset._built_in_data._utils | File ../../data/10X/pbmc_metadata.pickle already downloaded\n",
      "[2020-07-21 22:30:35,258] INFO - scvi.dataset._built_in_data._utils | File ../../data/10X/pbmc8k/filtered_gene_bc_matrices.tar.gz already downloaded\n",
      "../../data/10X/pbmc8k/filtered_gene_bc_matrices/GRCh38\n",
      "/Users/galen/scVI/tests/notebooks\n",
      "[2020-07-21 22:30:54,176] INFO - scvi.dataset._built_in_data._utils | File ../../data/10X/pbmc4k/filtered_gene_bc_matrices.tar.gz already downloaded\n",
      "../../data/10X/pbmc4k/filtered_gene_bc_matrices/GRCh38\n",
      "/Users/galen/scVI/tests/notebooks\n",
      "[2020-07-21 22:31:04,585] INFO - scvi.dataset._preprocessing | added\n",
      "    'highly_variable', boolean vector (adata.var)\n",
      "    'highly_variable_rank', float vector (adata.var)\n",
      "    'means', float vector (adata.var)\n",
      "    'variances', float vector (adata.var)\n",
      "    'variances_norm', float vector (adata.var)\n",
      "[2020-07-21 22:31:04,694] INFO - scvi.dataset._anndata | Using data from adata.X\n",
      "[2020-07-21 22:31:04,695] INFO - scvi.dataset._anndata | Using batches from adata.obs[\"batch\"]\n",
      "[2020-07-21 22:31:04,696] INFO - scvi.dataset._anndata | Using labels from adata.obs[\"str_labels\"]\n",
      "[2020-07-21 22:31:04,702] INFO - scvi.dataset._anndata | Computing library size prior per batch\n",
      "[2020-07-21 22:31:04,715] INFO - scvi.dataset._anndata | Successfully registered anndata object containing 11990 cells, 1000 genes, and 2 batches \n",
      "Registered keys:['X', 'batch_indices', 'local_l_mean', 'local_l_var', 'labels']\n"
     ]
    }
   ],
   "source": [
    "pbmc = scvi.dataset.pbmc_dataset(save_path=os.path.join(save_path, \"10X\"), run_setup_anndata=False)\n",
    "scvi.dataset.highly_variable_genes_seurat_v3(pbmc, n_top_genes=1000, subset=True)\n",
    "scvi.dataset.setup_anndata(pbmc, labels_key=\"str_labels\", batch_key=\"batch\")"
   ]
  },
  {
   "cell_type": "markdown",
   "metadata": {},
   "source": [
    "## Analyze gene-specific ZI"
   ]
  },
  {
   "cell_type": "markdown",
   "metadata": {},
   "source": [
    "In AutoZI, all $\\delta_g$'s follow a common $\\text{Beta}(\\alpha,\\beta)$ prior distribution where $\\alpha,\\beta \\in (0,1)$ and the zero-inflation probability in the ZINB component is bounded below by $\\tau_{\\text{dropout}} \\in (0,1)$. AutoZI is encoded by the `AutoZIVAE` class whose inputs, besides the size of the dataset, are $\\alpha$ (`alpha_prior`), $\\beta$ (`beta_prior`), $\\tau_{\\text{dropout}}$ (`minimal_dropout`). By default, we set $\\alpha = 0.5, \\beta = 0.5, \\tau_{\\text{dropout}} = 0.01$.\n",
    "\n",
    "Note : we can learn $\\alpha,\\beta$ in an Empirical Bayes fashion, which is possible by setting `alpha_prior = None` and `beta_prior = None`"
   ]
  },
  {
   "cell_type": "code",
   "execution_count": 5,
   "metadata": {},
   "outputs": [],
   "source": [
    "n_genes = pbmc.uns[\"scvi_summary_stats\"][\"n_genes\"]\n",
    "n_labels = pbmc.uns[\"scvi_summary_stats\"][\"n_labels\"]\n",
    "autozivae = AutoZIVAE(n_input=n_genes, alpha_prior=0.5, beta_prior=0.5, minimal_dropout=0.01)\n",
    "autozitrainer = UnsupervisedTrainer(autozivae, pbmc)"
   ]
  },
  {
   "cell_type": "markdown",
   "metadata": {},
   "source": [
    "We fit, for each gene $g$, an approximate posterior distribution $q(\\delta_g) = \\text{Beta}(\\alpha^g,\\beta^g)$ (with $\\alpha^g,\\beta^g \\in (0,1)$) on which we rely. We retrieve $\\alpha^g,\\beta^g$ for all genes $g$ (and $\\alpha,\\beta$, if learned) as numpy arrays using the method `get_alphas_betas` of `AutoZIVAE`."
   ]
  },
  {
   "cell_type": "code",
   "execution_count": 6,
   "metadata": {},
   "outputs": [
    {
     "name": "stdout",
     "output_type": "stream",
     "text": [
      "[2020-07-21 22:31:04,848] INFO - scvi.inference.inference | KL warmup phase exceeds overall training phaseIf your applications rely on the posterior quality, consider training for more epochs or reducing the kl warmup.\n",
      "[2020-07-21 22:31:04,850] INFO - scvi.inference.inference | KL warmup for 400 epochs\n",
      "training: 100%|██████████| 200/200 [24:13<00:00,  6.53s/it]\n",
      "[2020-07-21 22:55:18,825] INFO - scvi.inference.inference | Training is still in warming up phase. If your applications rely on the posterior quality, consider training for more epochs or reducing the kl warmup.\n"
     ]
    }
   ],
   "source": [
    "n_epochs = 200 if n_epochs_all is None else n_epochs_all\n",
    "autozitrainer.train(n_epochs=n_epochs, lr=1e-2)"
   ]
  },
  {
   "cell_type": "code",
   "execution_count": 7,
   "metadata": {},
   "outputs": [],
   "source": [
    "outputs = autozivae.get_alphas_betas()\n",
    "alpha_posterior = outputs['alpha_posterior']\n",
    "beta_posterior = outputs['beta_posterior']"
   ]
  },
  {
   "cell_type": "markdown",
   "metadata": {},
   "source": [
    "Now that we obtained fitted $\\alpha^g,\\beta^g$, different metrics are possible. Bayesian decision theory suggests us the posterior probability of the zero-inflation hypothesis $q(\\delta_g < 0.5)$, but also other metrics such as the mean wrt $q$ of $\\delta_g$ are possible. We focus on the former. We decide that gene $g$ is ZI if and only if $q(\\delta_g < 0.5)$ is greater than a given threshold, say $0.5$. We may note that it is equivalent to $\\alpha^g < \\beta^g$. From this we can deduce the fraction of predicted ZI genes in the dataset."
   ]
  },
  {
   "cell_type": "code",
   "execution_count": 8,
   "metadata": {},
   "outputs": [
    {
     "name": "stdout",
     "output_type": "stream",
     "text": [
      "Fraction of predicted ZI genes : 0.978\n"
     ]
    }
   ],
   "source": [
    "from scipy.stats import beta\n",
    "\n",
    "# Threshold (or Kzinb/Knb+Kzinb in paper)\n",
    "threshold = 0.5\n",
    "\n",
    "# q(delta_g < 0.5) probabilities\n",
    "zi_probs = beta.cdf(0.5,alpha_posterior,beta_posterior)\n",
    "\n",
    "# ZI genes\n",
    "is_zi_pred = (zi_probs > threshold)\n",
    "\n",
    "print('Fraction of predicted ZI genes :', is_zi_pred.mean())"
   ]
  },
  {
   "cell_type": "markdown",
   "metadata": {},
   "source": [
    "We noted that predictions were less accurate for genes $g$ whose average expressions - or predicted NB means, equivalently - were low. Indeed, genes assumed not to be ZI were more often predicted as ZI for such low average expressions. A threshold of 1 proved reasonable to separate genes predicted with more or less accuracy. Hence we may want to focus on predictions for genes with average expression above 1."
   ]
  },
  {
   "cell_type": "code",
   "execution_count": 9,
   "metadata": {},
   "outputs": [
    {
     "name": "stdout",
     "output_type": "stream",
     "text": [
      "Fraction of genes with avg expression > 1 : 0.059\n",
      "Fraction of predicted ZI genes with avg expression > 1 : 0.6271186440677966\n"
     ]
    }
   ],
   "source": [
    "mask_sufficient_expression = (np.array(pbmc.X.mean(axis=0)) > 1.).reshape(-1)\n",
    "print('Fraction of genes with avg expression > 1 :', mask_sufficient_expression.mean())\n",
    "print('Fraction of predicted ZI genes with avg expression > 1 :', is_zi_pred[mask_sufficient_expression].mean())"
   ]
  },
  {
   "cell_type": "markdown",
   "metadata": {},
   "source": [
    "## Analyze gene-cell-type-specific ZI"
   ]
  },
  {
   "cell_type": "markdown",
   "metadata": {},
   "source": [
    "One may argue that zero-inflation should also be treated on the cell-type (or 'label') level, in addition to the gene level. AutoZI can be extended by assuming a random variable $\\delta_{gc}$ for each gene $g$ and cell type $c$ which denotes the probability that gene $g$ is not zero-inflated in cell-type $c$. The analysis above can be extended to this new scale."
   ]
  },
  {
   "cell_type": "code",
   "execution_count": 10,
   "metadata": {},
   "outputs": [
    {
     "name": "stdout",
     "output_type": "stream",
     "text": [
      "[2020-07-21 22:55:19,193] INFO - scvi.inference.inference | KL warmup phase exceeds overall training phaseIf your applications rely on the posterior quality, consider training for more epochs or reducing the kl warmup.\n",
      "[2020-07-21 22:55:19,194] INFO - scvi.inference.inference | KL warmup for 400 epochs\n",
      "training: 100%|██████████| 200/200 [25:21<00:00,  7.17s/it]\n",
      "[2020-07-21 23:20:40,678] INFO - scvi.inference.inference | Training is still in warming up phase. If your applications rely on the posterior quality, consider training for more epochs or reducing the kl warmup.\n"
     ]
    }
   ],
   "source": [
    "# Model definition\n",
    "autozivae_genelabel = AutoZIVAE(n_input=n_genes, alpha_prior=0.5, beta_prior=0.5, minimal_dropout=0.01,\n",
    "                         dispersion='gene-label', zero_inflation='gene-label', n_labels=n_labels)\n",
    "autozitrainer_genelabel = UnsupervisedTrainer(autozivae_genelabel, pbmc)\n",
    "\n",
    "# Training\n",
    "n_epochs = 200 if n_epochs_all is None else n_epochs_all\n",
    "autozitrainer_genelabel.train(n_epochs=n_epochs, lr=1e-2)\n",
    "\n",
    "# Retrieve posterior distribution parameters\n",
    "outputs_genelabel = autozivae_genelabel.get_alphas_betas()\n",
    "alpha_posterior_genelabel = outputs_genelabel['alpha_posterior']\n",
    "beta_posterior_genelabel = outputs_genelabel['beta_posterior']"
   ]
  },
  {
   "cell_type": "code",
   "execution_count": 11,
   "metadata": {},
   "outputs": [
    {
     "name": "stdout",
     "output_type": "stream",
     "text": [
      "Fraction of predicted ZI genes for cell type B cells : 0.913 \n",
      "\n",
      "Fraction of predicted ZI genes for cell type CD14+ Monocytes : 0.913 \n",
      "\n",
      "Fraction of predicted ZI genes for cell type CD4 T cells : 0.733 \n",
      "\n",
      "Fraction of predicted ZI genes for cell type CD8 T cells : 0.733 \n",
      "\n",
      "Fraction of predicted ZI genes for cell type Dendritic Cells : 0.783 \n",
      "\n",
      "Fraction of predicted ZI genes for cell type FCGR3A+ Monocytes : 0.913 \n",
      "\n",
      "Fraction of predicted ZI genes for cell type Megakaryocytes : 0.733 \n",
      "\n",
      "Fraction of predicted ZI genes for cell type NK cells : 0.913 \n",
      "\n",
      "Fraction of predicted ZI genes for cell type Other : 0.913 \n",
      "\n"
     ]
    }
   ],
   "source": [
    "# q(delta_g < 0.5) probabilities\n",
    "zi_probs_genelabel = beta.cdf(0.5,alpha_posterior_genelabel,beta_posterior_genelabel)\n",
    "\n",
    "# ZI gene-cell-types\n",
    "is_zi_pred_genelabel = (zi_probs_genelabel > threshold)\n",
    "\n",
    "ct = pbmc.obs.str_labels.astype(\"category\")\n",
    "for ind_cell_type, cell_type in zip(ct.cat.codes, ct.cat.categories):\n",
    "    \n",
    "    is_zi_pred_genelabel_here = is_zi_pred_genelabel[:,ind_cell_type]\n",
    "    print('Fraction of predicted ZI genes for cell type {} :'.format(cell_type),\n",
    "          is_zi_pred_genelabel_here.mean(),'\\n')"
   ]
  },
  {
   "cell_type": "code",
   "execution_count": 12,
   "metadata": {},
   "outputs": [
    {
     "name": "stdout",
     "output_type": "stream",
     "text": [
      "Fraction of genes with avg expression > 1 for cell type B cells : 0.032\n",
      "Fraction of predicted ZI genes with avg expression > 1 for cell type B cells : 0.46875 \n",
      "\n",
      "Fraction of genes with avg expression > 1 for cell type CD14+ Monocytes : 0.078\n",
      "Fraction of predicted ZI genes with avg expression > 1 for cell type CD14+ Monocytes : 0.7435897435897436 \n",
      "\n",
      "Fraction of genes with avg expression > 1 for cell type CD4 T cells : 0.035\n",
      "Fraction of predicted ZI genes with avg expression > 1 for cell type CD4 T cells : 0.4 \n",
      "\n",
      "Fraction of genes with avg expression > 1 for cell type CD8 T cells : 0.049\n",
      "Fraction of predicted ZI genes with avg expression > 1 for cell type CD8 T cells : 0.5102040816326531 \n",
      "\n",
      "Fraction of genes with avg expression > 1 for cell type Dendritic Cells : 0.177\n",
      "Fraction of predicted ZI genes with avg expression > 1 for cell type Dendritic Cells : 0.711864406779661 \n",
      "\n",
      "Fraction of genes with avg expression > 1 for cell type FCGR3A+ Monocytes : 0.124\n",
      "Fraction of predicted ZI genes with avg expression > 1 for cell type FCGR3A+ Monocytes : 0.7661290322580645 \n",
      "\n",
      "Fraction of genes with avg expression > 1 for cell type Megakaryocytes : 0.122\n",
      "Fraction of predicted ZI genes with avg expression > 1 for cell type Megakaryocytes : 0.4344262295081967 \n",
      "\n",
      "Fraction of genes with avg expression > 1 for cell type NK cells : 0.065\n",
      "Fraction of predicted ZI genes with avg expression > 1 for cell type NK cells : 0.676923076923077 \n",
      "\n",
      "Fraction of genes with avg expression > 1 for cell type Other : 0.104\n",
      "Fraction of predicted ZI genes with avg expression > 1 for cell type Other : 0.7403846153846154 \n",
      "\n"
     ]
    }
   ],
   "source": [
    "# With avg expressions > 1\n",
    "for ind_cell_type, cell_type in zip(ct.cat.codes, ct.cat.categories):\n",
    "    mask_sufficient_expression = (np.array(pbmc.X[pbmc.obs.str_labels.values.reshape(-1) == cell_type,:].mean(axis=0)) > 1.).reshape(-1)\n",
    "    print('Fraction of genes with avg expression > 1 for cell type {} :'.format(cell_type),\n",
    "          mask_sufficient_expression.mean())\n",
    "    is_zi_pred_genelabel_here = is_zi_pred_genelabel[mask_sufficient_expression,ind_cell_type]\n",
    "    print('Fraction of predicted ZI genes with avg expression > 1 for cell type {} :'.format(cell_type),\n",
    "          is_zi_pred_genelabel_here.mean(), '\\n')"
   ]
  },
  {
   "cell_type": "code",
   "execution_count": null,
   "metadata": {},
   "outputs": [],
   "source": []
  }
 ],
 "metadata": {
  "kernelspec": {
   "display_name": "Python 3",
   "language": "python",
   "name": "python3"
  },
  "language_info": {
   "codemirror_mode": {
    "name": "ipython",
    "version": 3
   },
   "file_extension": ".py",
   "mimetype": "text/x-python",
   "name": "python",
   "nbconvert_exporter": "python",
   "pygments_lexer": "ipython3",
   "version": "3.7.3"
  }
 },
 "nbformat": 4,
 "nbformat_minor": 4
}
