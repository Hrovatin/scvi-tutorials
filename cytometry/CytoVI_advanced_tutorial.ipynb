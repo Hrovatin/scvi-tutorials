{
 "cells": [
  {
   "cell_type": "markdown",
   "metadata": {},
   "source": [
    "# Advanced Tutorial: Multi-Panel Integration and Downstream Analysis with CytoVI\n",
    "\n",
    "In this tutorial, we demonstrate advanced functionality of **CytoVI**, a deep generative model for protein expression measurements from technologies such as flow cytometry, mass cytometry, or CITE-seq. Building on the quick start tutorial, we now explore how CytoVI can be used to integrate multiple cytometry panels, impute missing markers, transfer annotations between datasets, and uncover biological differences through differential expression and abundance analysis.\n",
    "\n",
    "If you are new to CytoVI or unfamiliar with data loading, preprocessing, or training the model, we recommend starting with the [quick start tutorial](#) where these fundamental steps are introduced in detail. In this tutorial, we will work with preprocessed and partially annotated data to focus on the advanced use cases of the model.\n",
    "\n",
    "Specifically, we analyze conventional flow cytometry data of tumor-infiltrating T cells obtained from patients with B-cell non-Hodgkin lymphoma (BNHL) These samples were profiled using two distinct antibody panels, which share a subset of common markers. Using CytoVI, we will integrate both panels into a shared representation space, infer missing marker expression, and perform downstream biological analysis to gain insights into T cell heterogeneity across patients.\n",
    "\n",
    "Plan for this tutorial:\n",
    "\n",
    "1. Load and inspect preprocessed data\n",
    "2. Train a CytoVI model that integrates both antibody panels\n",
    "3. Visualize the joint latent space and evaluate panel integration\n",
    "4. Impute non-overlapping protein markers and assess imputation quality\n",
    "5. Automatically annotate immune cell types via label transfer\n",
    "6. Quantify differential protein expression across conditions or clusters\n",
    "7. Detect disease-associated T cell states using label-free differential abundance analysis"
   ]
  },
  {
   "cell_type": "code",
   "execution_count": null,
   "metadata": {},
   "outputs": [],
   "source": []
  }
 ],
 "metadata": {
  "language_info": {
   "name": "python"
  }
 },
 "nbformat": 4,
 "nbformat_minor": 2
}
