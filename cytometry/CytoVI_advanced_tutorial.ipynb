{
 "cells": [
  {
   "cell_type": "markdown",
   "metadata": {},
   "source": [
    "# Advanced Tutorial: Multi-Panel Integration and Downstream Analysis with CytoVI\n",
    "\n",
    "In this tutorial, we demonstrate advanced functionality of **CytoVI**, a deep generative model for protein expression measurements from technologies such as flow cytometry, mass cytometry, or CITE-seq. Building on the quick start tutorial, we now explore how CytoVI can be used to integrate multiple cytometry panels, impute missing markers, transfer annotations between datasets, and uncover biological differences through differential expression and abundance analysis.\n",
    "\n",
    "If you are new to CytoVI or unfamiliar with data loading, preprocessing, or training the model, we recommend starting with the [quick start tutorial](#) where these fundamental steps are introduced in detail. In this tutorial, we will work with preprocessed and partially annotated data to focus on the advanced use cases of the model.\n",
    "\n",
    "Specifically, we analyze conventional flow cytometry data of tumor-infiltrating T cells obtained from patients with B-cell non-Hodgkin lymphoma (BNHL) These samples were profiled using two distinct antibody panels, which share a subset of common markers. Using CytoVI, we will integrate both panels into a shared representation space, infer missing marker expression, and perform downstream biological analysis to gain insights into T cell heterogeneity across patients.\n",
    "\n",
    "Plan for this tutorial:\n",
    "\n",
    "1. Load and inspect preprocessed data\n",
    "2. Train a CytoVI model that integrates both antibody panels\n",
    "3. Visualize the joint latent space and evaluate panel integration\n",
    "4. Impute non-overlapping protein markers and assess imputation quality\n",
    "5. Automatically annotate immune cell types via label transfer\n",
    "6. Quantify differential protein expression across conditions or clusters\n",
    "7. Detect disease-associated T cell states using label-free differential abundance analysis"
   ]
  },
  {
   "cell_type": "code",
   "execution_count": null,
   "metadata": {},
   "outputs": [],
   "source": [
    "# Install from GitHub for now\n",
    "!pip install --quiet scvi-colab\n",
    "from scvi_colab import install\n",
    "\n",
    "install()"
   ]
  },
  {
   "cell_type": "code",
   "execution_count": 1,
   "metadata": {},
   "outputs": [
    {
     "name": "stderr",
     "output_type": "stream",
     "text": [
      "Seed set to 0\n"
     ]
    },
    {
     "data": {
      "text/html": [
       "<pre style=\"white-space:pre;overflow-x:auto;line-height:normal;font-family:Menlo,'DejaVu Sans Mono',consolas,'Courier New',monospace\">Last run with scvi-tools version: <span style=\"color: #008080; text-decoration-color: #008080; font-weight: bold\">1.3</span>.<span style=\"color: #008080; text-decoration-color: #008080; font-weight: bold\">2</span>\n",
       "</pre>\n"
      ],
      "text/plain": [
       "Last run with scvi-tools version: \u001b[1;36m1.3\u001b[0m.\u001b[1;36m2\u001b[0m\n"
      ]
     },
     "metadata": {},
     "output_type": "display_data"
    }
   ],
   "source": [
    "import os\n",
    "import random\n",
    "import tempfile\n",
    "import requests\n",
    "import scvi\n",
    "\n",
    "import numpy as np  # type: ignore\n",
    "import matplotlib.pyplot as plt # type: ignore\n",
    "import scanpy as sc  # type: ignore\n",
    "from scvi.external import cytovi # type: ignore\n",
    "import torch  # type: ignore\n",
    "from rich import print  # type: ignore\n",
    "\n",
    "sc.set_figure_params(figsize=(4, 4))\n",
    "\n",
    "scvi.settings.seed = 0\n",
    "random.seed(42)\n",
    "np.random.seed(42)\n",
    "torch.manual_seed(42)\n",
    "print(\"Last run with scvi-tools version:\", scvi.__version__)"
   ]
  },
  {
   "cell_type": "markdown",
   "metadata": {},
   "source": [
    "## Loading the data"
   ]
  },
  {
   "cell_type": "markdown",
   "metadata": {},
   "source": [
    "In this tutorial, we will work with a curated, lightweight subset of flow cytometry data from the BNHL study by Roider et al. 2024 (Nature Cell Biology, https://doi.org/10.1038/s41556-024-01358-2). The dataset includes flow cytometry measurements of T cells from 33 donors across two distinct antibody panels, each profiling 12 protein markers along with morphological features such as forward and side scatter (FSC and SSC). Samples were acquired across four independent experimental batches. For ease of use, the data have been preprocessed to correct for fluorescent spillover, restricted to live single-cell events, and transformed using a hyperbolic arcsin transformation, scaled and subsampled to ~5000 cells per panel. We will access the dataset as preprocessed .h5ad files. For demonstration purposes data from one of the panels comes with cell type annotations."
   ]
  },
  {
   "cell_type": "code",
   "execution_count": 6,
   "metadata": {},
   "outputs": [
    {
     "data": {
      "application/vnd.jupyter.widget-view+json": {
       "model_id": "0ba61ef6dc204925894cd7741ba97d8d",
       "version_major": 2,
       "version_minor": 0
      },
      "text/plain": [
       "  0%|          | 0.00/2.42M [00:00<?, ?B/s]"
      ]
     },
     "metadata": {},
     "output_type": "display_data"
    },
    {
     "data": {
      "application/vnd.jupyter.widget-view+json": {
       "model_id": "29d841a2eb124ac48287686529478fe8",
       "version_major": 2,
       "version_minor": 0
      },
      "text/plain": [
       "  0%|          | 0.00/1.89M [00:00<?, ?B/s]"
      ]
     },
     "metadata": {},
     "output_type": "display_data"
    }
   ],
   "source": [
    "temp_dir_obj = tempfile.TemporaryDirectory()\n",
    "\n",
    "adata_p1_path = os.path.join(temp_dir_obj.name, \"Roider_et_al_BNHL_panel1.h5ad\")\n",
    "adata_p1 = sc.read(adata_p1_path, backup_url='https://figshare.com/ndownloader/files/56891468')\n",
    "\n",
    "adata_p2_path = os.path.join(temp_dir_obj.name, \"Roider_et_al_BNHL_panel2.h5ad\")\n",
    "adata_p2 = sc.read(adata_p2_path, backup_url='https://figshare.com/ndownloader/files/56891471')"
   ]
  },
  {
   "cell_type": "code",
   "execution_count": 13,
   "metadata": {},
   "outputs": [
    {
     "data": {
      "text/plain": [
       "AnnData object with n_obs × n_vars = 4983 × 14\n",
       "    obs: 'sample_id', 'PatientID', 'batch', 'panel', 'Entity', 'cell_type'\n",
       "    layers: '_nan_mask', 'raw', 'scaled', 'transformed'"
      ]
     },
     "execution_count": 13,
     "metadata": {},
     "output_type": "execute_result"
    }
   ],
   "source": [
    "adata_p1"
   ]
  },
  {
   "cell_type": "markdown",
   "metadata": {},
   "source": [
    "As the data has been preprocessed already, we can directly merge the two panels into one anndata object using `cytovi.merge_batches()`. This will automatically register a `nan_layer` that will handle the modeling of missing markers under the hood."
   ]
  },
  {
   "cell_type": "code",
   "execution_count": 14,
   "metadata": {},
   "outputs": [
    {
     "name": "stderr",
     "output_type": "stream",
     "text": [
      "/tmp/ipykernel_32032/3116451448.py:1: UserWarning: Not all proteins are detected across all batches. Will generate nan_layer for imputation of missing proteins. \n",
      "Backbone markers: CD3, CD4, CD45RA, CD69, CD8, FSC-A, FoxP3, Ki67, PD1, SSC-A\n",
      "  adata = cytovi.merge_batches([adata_p1, adata_p2], batch_key='panel_batch')\n",
      "/home/projects/amit/floriani/github_repos/scvi-tools-cytovi/src/scvi/external/cytovi/_preprocessing.py:255: UserWarning: Masking layer _nan_mask already exists. Overwriting it.\n",
      "  adata = register_nan_layer(\n"
     ]
    },
    {
     "data": {
      "text/plain": [
       "AnnData object with n_obs × n_vars = 9966 × 18\n",
       "    obs: 'sample_id', 'PatientID', 'batch', 'panel', 'Entity', 'cell_type', 'panel_batch'\n",
       "    var: '_batch_0', '_batch_1'\n",
       "    layers: '_nan_mask', 'raw', 'scaled', 'transformed'"
      ]
     },
     "execution_count": 14,
     "metadata": {},
     "output_type": "execute_result"
    }
   ],
   "source": [
    "adata = cytovi.merge_batches([adata_p1, adata_p2], batch_key='panel_batch')\n",
    "adata"
   ]
  },
  {
   "cell_type": "markdown",
   "metadata": {},
   "source": [
    "# load data from figshare\n",
    "# show histograms split by panel\n",
    "# show biaxial for a combination that we wanna impute"
   ]
  },
  {
   "cell_type": "code",
   "execution_count": null,
   "metadata": {},
   "outputs": [],
   "source": []
  }
 ],
 "metadata": {
  "kernelspec": {
   "display_name": "Python 3 (ipykernel)",
   "language": "python",
   "name": "python3"
  },
  "language_info": {
   "codemirror_mode": {
    "name": "ipython",
    "version": 3
   },
   "file_extension": ".py",
   "mimetype": "text/x-python",
   "name": "python",
   "nbconvert_exporter": "python",
   "pygments_lexer": "ipython3",
   "version": "3.11.13"
  }
 },
 "nbformat": 4,
 "nbformat_minor": 2
}
