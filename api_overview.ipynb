{
 "cells": [
  {
   "cell_type": "markdown",
   "metadata": {
    "colab_type": "text",
    "id": "y4nH3q_rZ0bI"
   },
   "source": [
    "# Introduction to scvi-tools\n",
    "In this introductory tutorial, we go through the different steps of an scvi-tools workflow.\n",
    "\n",
    "While we focus on scVI in this tutorial, the API is consistent across all models."
   ]
  },
  {
   "cell_type": "markdown",
   "metadata": {
    "colab_type": "text",
    "id": "lnEmaJvGZ0bM"
   },
   "source": [
    "[![Open In Colab](https://colab.research.google.com/assets/colab-badge.svg)](https://colab.research.google.com/github/yoseflab/scvi_tutorials/blob/dev/api_overview.ipynb)"
   ]
  },
  {
   "cell_type": "code",
   "execution_count": null,
   "metadata": {
    "colab": {
     "base_uri": "https://localhost:8080/",
     "height": 1000
    },
    "colab_type": "code",
    "id": "LRTA1XIYZ0bN",
    "outputId": "89238ba7-f326-4c57-810b-1e5cb5bb9787",
    "pycharm": {
     "name": "#%%\n"
    }
   },
   "outputs": [
    {
     "name": "stdout",
     "output_type": "stream",
     "text": [
      "Requirement already up-to-date: jsonschema in /usr/local/lib/python3.6/dist-packages (3.2.0)\n",
      "Requirement already satisfied, skipping upgrade: setuptools in /usr/local/lib/python3.6/dist-packages (from jsonschema) (50.3.0)\n",
      "Requirement already satisfied, skipping upgrade: six>=1.11.0 in /usr/local/lib/python3.6/dist-packages (from jsonschema) (1.15.0)\n",
      "Requirement already satisfied, skipping upgrade: attrs>=17.4.0 in /usr/local/lib/python3.6/dist-packages (from jsonschema) (20.2.0)\n",
      "Requirement already satisfied, skipping upgrade: pyrsistent>=0.14.0 in /usr/local/lib/python3.6/dist-packages (from jsonschema) (0.17.3)\n",
      "Requirement already satisfied, skipping upgrade: importlib-metadata; python_version < \"3.8\" in /usr/local/lib/python3.6/dist-packages (from jsonschema) (1.7.0)\n",
      "Requirement already satisfied, skipping upgrade: zipp>=0.5 in /usr/local/lib/python3.6/dist-packages (from importlib-metadata; python_version < \"3.8\"->jsonschema) (3.1.0)\n",
      "Requirement already satisfied: scvi-tools[tutorials] from git+https://github.com/yoseflab/scvi-tools@master#egg=scvi-tools[tutorials] in /usr/local/lib/python3.6/dist-packages (0.7.0a3)\n",
      "Requirement already satisfied: tqdm>=4.31.1 in /usr/local/lib/python3.6/dist-packages (from scvi-tools[tutorials]) (4.41.1)\n",
      "Requirement already satisfied: torch>=1.3 in /usr/local/lib/python3.6/dist-packages (from scvi-tools[tutorials]) (1.6.0+cu101)\n",
      "Requirement already satisfied: toml in /usr/local/lib/python3.6/dist-packages (from scvi-tools[tutorials]) (0.10.1)\n",
      "Requirement already satisfied: h5py>=2.9.0 in /usr/local/lib/python3.6/dist-packages (from scvi-tools[tutorials]) (2.10.0)\n",
      "Requirement already satisfied: pandas>=1.0 in /usr/local/lib/python3.6/dist-packages (from scvi-tools[tutorials]) (1.0.5)\n",
      "Requirement already satisfied: hyperopt==0.1.2 in /usr/local/lib/python3.6/dist-packages (from scvi-tools[tutorials]) (0.1.2)\n",
      "Requirement already satisfied: numba>=0.41.0 in /usr/local/lib/python3.6/dist-packages (from scvi-tools[tutorials]) (0.48.0)\n",
      "Requirement already satisfied: anndata>=0.7.4 in /usr/local/lib/python3.6/dist-packages (from scvi-tools[tutorials]) (0.7.4)\n",
      "Requirement already satisfied: numpy>=1.17.0 in /usr/local/lib/python3.6/dist-packages (from scvi-tools[tutorials]) (1.18.5)\n",
      "Requirement already satisfied: ipywidgets in /usr/local/lib/python3.6/dist-packages (from scvi-tools[tutorials]) (7.5.1)\n",
      "Requirement already satisfied: xlrd>=1.2.0 in /usr/local/lib/python3.6/dist-packages (from scvi-tools[tutorials]) (1.2.0)\n",
      "Requirement already satisfied: rich>=6.2.0 in /usr/local/lib/python3.6/dist-packages (from scvi-tools[tutorials]) (6.2.0)\n",
      "Requirement already satisfied: scikit-learn>=0.21.2 in /usr/local/lib/python3.6/dist-packages (from scvi-tools[tutorials]) (0.22.2.post1)\n",
      "Collecting python-igraph; extra == \"tutorials\"\n",
      "\u001b[?25l  Downloading https://files.pythonhosted.org/packages/8b/74/24a1afbf3abaf1d5f393b668192888d04091d1a6d106319661cd4af05406/python_igraph-0.8.2-cp36-cp36m-manylinux2010_x86_64.whl (3.2MB)\n",
      "\u001b[K     |████████████████████████████████| 3.2MB 7.3MB/s \n",
      "\u001b[?25hCollecting loompy>=3.0.6; extra == \"dev\" or extra == \"tutorials\"\n",
      "\u001b[?25l  Downloading https://files.pythonhosted.org/packages/36/52/74ed37ae5988522fbf87b856c67c4f80700e6452410b4cd80498c5f416f9/loompy-3.0.6.tar.gz (41kB)\n",
      "\u001b[K     |████████████████████████████████| 51kB 6.2MB/s \n",
      "\u001b[?25hCollecting leidenalg; extra == \"tutorials\"\n",
      "\u001b[?25l  Downloading https://files.pythonhosted.org/packages/7e/68/01da5910be71e4fd6f96af7c3c0f31f531c96300bbe50b418c0b5a3eaeb6/leidenalg-0.8.1-cp36-cp36m-manylinux2010_x86_64.whl (2.4MB)\n",
      "\u001b[K     |████████████████████████████████| 2.4MB 41.9MB/s \n",
      "\u001b[?25hCollecting scikit-misc>=0.1.3; extra == \"tutorials\"\n",
      "\u001b[?25l  Downloading https://files.pythonhosted.org/packages/e5/a9/7e539368f6a3c7cc071481fad9872825b174cd86408be40bd8b286d3977c/scikit_misc-0.1.3-cp36-cp36m-manylinux1_x86_64.whl (8.7MB)\n",
      "\u001b[K     |████████████████████████████████| 8.7MB 12.4MB/s \n",
      "\u001b[?25hCollecting scanpy>=1.6; extra == \"dev\" or extra == \"tutorials\"\n",
      "\u001b[?25l  Downloading https://files.pythonhosted.org/packages/f1/5e/425ed9ddca83fac43eb328ebf1aa41e4cdcdc17c6d294495b34d9a243ddd/scanpy-1.6.0-py3-none-any.whl (7.7MB)\n",
      "\u001b[K     |████████████████████████████████| 7.7MB 53.3MB/s \n",
      "\u001b[?25hRequirement already satisfied: future in /usr/local/lib/python3.6/dist-packages (from torch>=1.3->scvi-tools[tutorials]) (0.16.0)\n",
      "Requirement already satisfied: six in /usr/local/lib/python3.6/dist-packages (from h5py>=2.9.0->scvi-tools[tutorials]) (1.15.0)\n",
      "Requirement already satisfied: pytz>=2017.2 in /usr/local/lib/python3.6/dist-packages (from pandas>=1.0->scvi-tools[tutorials]) (2018.9)\n",
      "Requirement already satisfied: python-dateutil>=2.6.1 in /usr/local/lib/python3.6/dist-packages (from pandas>=1.0->scvi-tools[tutorials]) (2.8.1)\n",
      "Requirement already satisfied: pymongo in /usr/local/lib/python3.6/dist-packages (from hyperopt==0.1.2->scvi-tools[tutorials]) (3.11.0)\n",
      "Requirement already satisfied: scipy in /usr/local/lib/python3.6/dist-packages (from hyperopt==0.1.2->scvi-tools[tutorials]) (1.4.1)\n",
      "Requirement already satisfied: networkx in /usr/local/lib/python3.6/dist-packages (from hyperopt==0.1.2->scvi-tools[tutorials]) (2.5)\n",
      "Requirement already satisfied: llvmlite<0.32.0,>=0.31.0dev0 in /usr/local/lib/python3.6/dist-packages (from numba>=0.41.0->scvi-tools[tutorials]) (0.31.0)\n",
      "Requirement already satisfied: setuptools in /usr/local/lib/python3.6/dist-packages (from numba>=0.41.0->scvi-tools[tutorials]) (50.3.0)\n",
      "Requirement already satisfied: importlib-metadata>=0.7; python_version < \"3.8\" in /usr/local/lib/python3.6/dist-packages (from anndata>=0.7.4->scvi-tools[tutorials]) (1.7.0)\n",
      "Requirement already satisfied: packaging in /usr/local/lib/python3.6/dist-packages (from anndata>=0.7.4->scvi-tools[tutorials]) (20.4)\n",
      "Requirement already satisfied: natsort in /usr/local/lib/python3.6/dist-packages (from anndata>=0.7.4->scvi-tools[tutorials]) (5.5.0)\n",
      "Requirement already satisfied: ipykernel>=4.5.1 in /usr/local/lib/python3.6/dist-packages (from ipywidgets->scvi-tools[tutorials]) (4.10.1)\n",
      "Requirement already satisfied: nbformat>=4.2.0 in /usr/local/lib/python3.6/dist-packages (from ipywidgets->scvi-tools[tutorials]) (5.0.7)\n",
      "Requirement already satisfied: ipython>=4.0.0; python_version >= \"3.3\" in /usr/local/lib/python3.6/dist-packages (from ipywidgets->scvi-tools[tutorials]) (5.5.0)\n",
      "Requirement already satisfied: traitlets>=4.3.1 in /usr/local/lib/python3.6/dist-packages (from ipywidgets->scvi-tools[tutorials]) (4.3.3)\n",
      "Requirement already satisfied: widgetsnbextension~=3.5.0 in /usr/local/lib/python3.6/dist-packages (from ipywidgets->scvi-tools[tutorials]) (3.5.1)\n",
      "Requirement already satisfied: colorama<0.5.0,>=0.4.0 in /usr/local/lib/python3.6/dist-packages (from rich>=6.2.0->scvi-tools[tutorials]) (0.4.3)\n",
      "Requirement already satisfied: pygments<3.0.0,>=2.6.0 in /usr/local/lib/python3.6/dist-packages (from rich>=6.2.0->scvi-tools[tutorials]) (2.6.1)\n",
      "Requirement already satisfied: typing-extensions<4.0.0,>=3.7.4 in /usr/local/lib/python3.6/dist-packages (from rich>=6.2.0->scvi-tools[tutorials]) (3.7.4.3)\n",
      "Requirement already satisfied: dataclasses<0.8,>=0.7; python_version >= \"3.6\" and python_version < \"3.7\" in /usr/local/lib/python3.6/dist-packages (from rich>=6.2.0->scvi-tools[tutorials]) (0.7)\n",
      "Requirement already satisfied: commonmark<0.10.0,>=0.9.0 in /usr/local/lib/python3.6/dist-packages (from rich>=6.2.0->scvi-tools[tutorials]) (0.9.1)\n",
      "Requirement already satisfied: joblib>=0.11 in /usr/local/lib/python3.6/dist-packages (from scikit-learn>=0.21.2->scvi-tools[tutorials]) (0.16.0)\n",
      "Collecting texttable>=1.6.2\n",
      "  Downloading https://files.pythonhosted.org/packages/06/f5/46201c428aebe0eecfa83df66bf3e6caa29659dbac5a56ddfd83cae0d4a4/texttable-1.6.3-py2.py3-none-any.whl\n",
      "Requirement already satisfied: click in /usr/local/lib/python3.6/dist-packages (from loompy>=3.0.6; extra == \"dev\" or extra == \"tutorials\"->scvi-tools[tutorials]) (7.1.2)\n",
      "Collecting numpy-groupies\n",
      "\u001b[?25l  Downloading https://files.pythonhosted.org/packages/99/eb/fc72b507219957cffdf2c5952e396cc04a30c2223e2fd789f4a744ffc52f/numpy_groupies-0.9.13.tar.gz (109kB)\n",
      "\u001b[K     |████████████████████████████████| 112kB 52.4MB/s \n",
      "\u001b[?25hRequirement already satisfied: matplotlib>=3.1.2 in /usr/local/lib/python3.6/dist-packages (from scanpy>=1.6; extra == \"dev\" or extra == \"tutorials\"->scvi-tools[tutorials]) (3.2.2)\n",
      "Requirement already satisfied: tables in /usr/local/lib/python3.6/dist-packages (from scanpy>=1.6; extra == \"dev\" or extra == \"tutorials\"->scvi-tools[tutorials]) (3.4.4)\n",
      "Collecting setuptools-scm\n",
      "  Downloading https://files.pythonhosted.org/packages/ad/d3/e54f8b4cde0f6fb4f231629f570c1a33ded18515411dee6df6fe363d976f/setuptools_scm-4.1.2-py2.py3-none-any.whl\n",
      "Requirement already satisfied: seaborn in /usr/local/lib/python3.6/dist-packages (from scanpy>=1.6; extra == \"dev\" or extra == \"tutorials\"->scvi-tools[tutorials]) (0.10.1)\n",
      "Requirement already satisfied: umap-learn>=0.3.10 in /usr/local/lib/python3.6/dist-packages (from scanpy>=1.6; extra == \"dev\" or extra == \"tutorials\"->scvi-tools[tutorials]) (0.4.6)\n",
      "Collecting sinfo\n",
      "  Downloading https://files.pythonhosted.org/packages/e1/4c/aef8456284f1a1c3645b938d9ca72388c9c4878e6e67b8a349c7d22fac78/sinfo-0.3.1.tar.gz\n",
      "Requirement already satisfied: patsy in /usr/local/lib/python3.6/dist-packages (from scanpy>=1.6; extra == \"dev\" or extra == \"tutorials\"->scvi-tools[tutorials]) (0.5.1)\n",
      "Requirement already satisfied: statsmodels>=0.10.0rc2 in /usr/local/lib/python3.6/dist-packages (from scanpy>=1.6; extra == \"dev\" or extra == \"tutorials\"->scvi-tools[tutorials]) (0.10.2)\n",
      "Collecting legacy-api-wrap\n",
      "  Downloading https://files.pythonhosted.org/packages/a4/68/da997bc56bb69dcdcee4054f0bc42266909307b905389fbc54c9158f42da/legacy_api_wrap-1.2-py3-none-any.whl\n",
      "Requirement already satisfied: decorator>=4.3.0 in /usr/local/lib/python3.6/dist-packages (from networkx->hyperopt==0.1.2->scvi-tools[tutorials]) (4.4.2)\n",
      "Requirement already satisfied: zipp>=0.5 in /usr/local/lib/python3.6/dist-packages (from importlib-metadata>=0.7; python_version < \"3.8\"->anndata>=0.7.4->scvi-tools[tutorials]) (3.1.0)\n",
      "Requirement already satisfied: pyparsing>=2.0.2 in /usr/local/lib/python3.6/dist-packages (from packaging->anndata>=0.7.4->scvi-tools[tutorials]) (2.4.7)\n",
      "Requirement already satisfied: tornado>=4.0 in /usr/local/lib/python3.6/dist-packages (from ipykernel>=4.5.1->ipywidgets->scvi-tools[tutorials]) (5.1.1)\n",
      "Requirement already satisfied: jupyter-client in /usr/local/lib/python3.6/dist-packages (from ipykernel>=4.5.1->ipywidgets->scvi-tools[tutorials]) (5.3.5)\n",
      "Requirement already satisfied: jupyter-core in /usr/local/lib/python3.6/dist-packages (from nbformat>=4.2.0->ipywidgets->scvi-tools[tutorials]) (4.6.3)\n",
      "Requirement already satisfied: jsonschema!=2.5.0,>=2.4 in /usr/local/lib/python3.6/dist-packages (from nbformat>=4.2.0->ipywidgets->scvi-tools[tutorials]) (3.2.0)\n",
      "Requirement already satisfied: ipython-genutils in /usr/local/lib/python3.6/dist-packages (from nbformat>=4.2.0->ipywidgets->scvi-tools[tutorials]) (0.2.0)\n",
      "Requirement already satisfied: prompt-toolkit<2.0.0,>=1.0.4 in /usr/local/lib/python3.6/dist-packages (from ipython>=4.0.0; python_version >= \"3.3\"->ipywidgets->scvi-tools[tutorials]) (1.0.18)\n",
      "Requirement already satisfied: pexpect; sys_platform != \"win32\" in /usr/local/lib/python3.6/dist-packages (from ipython>=4.0.0; python_version >= \"3.3\"->ipywidgets->scvi-tools[tutorials]) (4.8.0)\n",
      "Requirement already satisfied: pickleshare in /usr/local/lib/python3.6/dist-packages (from ipython>=4.0.0; python_version >= \"3.3\"->ipywidgets->scvi-tools[tutorials]) (0.7.5)\n",
      "Requirement already satisfied: simplegeneric>0.8 in /usr/local/lib/python3.6/dist-packages (from ipython>=4.0.0; python_version >= \"3.3\"->ipywidgets->scvi-tools[tutorials]) (0.8.1)\n",
      "Requirement already satisfied: notebook>=4.4.1 in /usr/local/lib/python3.6/dist-packages (from widgetsnbextension~=3.5.0->ipywidgets->scvi-tools[tutorials]) (5.3.1)\n",
      "Requirement already satisfied: kiwisolver>=1.0.1 in /usr/local/lib/python3.6/dist-packages (from matplotlib>=3.1.2->scanpy>=1.6; extra == \"dev\" or extra == \"tutorials\"->scvi-tools[tutorials]) (1.2.0)\n",
      "Requirement already satisfied: cycler>=0.10 in /usr/local/lib/python3.6/dist-packages (from matplotlib>=3.1.2->scanpy>=1.6; extra == \"dev\" or extra == \"tutorials\"->scvi-tools[tutorials]) (0.10.0)\n",
      "Requirement already satisfied: numexpr>=2.5.2 in /usr/local/lib/python3.6/dist-packages (from tables->scanpy>=1.6; extra == \"dev\" or extra == \"tutorials\"->scvi-tools[tutorials]) (2.7.1)\n",
      "Collecting stdlib_list\n",
      "\u001b[?25l  Downloading https://files.pythonhosted.org/packages/01/ff/14394967130e95720c30ba2bbe4b4e25695afd5304bd128134116e293c0e/stdlib_list-0.7.0-py3-none-any.whl (60kB)\n",
      "\u001b[K     |████████████████████████████████| 61kB 9.4MB/s \n",
      "\u001b[?25hCollecting get-version>=2.0.4\n",
      "\u001b[?25l  Downloading https://files.pythonhosted.org/packages/23/48/7610e884e62fff2183e7bc8592397c39a020267fb5147905fcd3f9cc820c/get_version-2.1-py3-none-any.whl (43kB)\n",
      "\u001b[K     |████████████████████████████████| 51kB 8.2MB/s \n",
      "\u001b[?25hRequirement already satisfied: pyzmq>=13 in /usr/local/lib/python3.6/dist-packages (from jupyter-client->ipykernel>=4.5.1->ipywidgets->scvi-tools[tutorials]) (19.0.2)\n",
      "Requirement already satisfied: pyrsistent>=0.14.0 in /usr/local/lib/python3.6/dist-packages (from jsonschema!=2.5.0,>=2.4->nbformat>=4.2.0->ipywidgets->scvi-tools[tutorials]) (0.17.3)\n",
      "Requirement already satisfied: attrs>=17.4.0 in /usr/local/lib/python3.6/dist-packages (from jsonschema!=2.5.0,>=2.4->nbformat>=4.2.0->ipywidgets->scvi-tools[tutorials]) (20.2.0)\n",
      "Requirement already satisfied: wcwidth in /usr/local/lib/python3.6/dist-packages (from prompt-toolkit<2.0.0,>=1.0.4->ipython>=4.0.0; python_version >= \"3.3\"->ipywidgets->scvi-tools[tutorials]) (0.2.5)\n",
      "Requirement already satisfied: ptyprocess>=0.5 in /usr/local/lib/python3.6/dist-packages (from pexpect; sys_platform != \"win32\"->ipython>=4.0.0; python_version >= \"3.3\"->ipywidgets->scvi-tools[tutorials]) (0.6.0)\n",
      "Requirement already satisfied: jinja2 in /usr/local/lib/python3.6/dist-packages (from notebook>=4.4.1->widgetsnbextension~=3.5.0->ipywidgets->scvi-tools[tutorials]) (2.11.2)\n",
      "Requirement already satisfied: Send2Trash in /usr/local/lib/python3.6/dist-packages (from notebook>=4.4.1->widgetsnbextension~=3.5.0->ipywidgets->scvi-tools[tutorials]) (1.5.0)\n",
      "Requirement already satisfied: terminado>=0.8.1 in /usr/local/lib/python3.6/dist-packages (from notebook>=4.4.1->widgetsnbextension~=3.5.0->ipywidgets->scvi-tools[tutorials]) (0.8.3)\n",
      "Requirement already satisfied: nbconvert in /usr/local/lib/python3.6/dist-packages (from notebook>=4.4.1->widgetsnbextension~=3.5.0->ipywidgets->scvi-tools[tutorials]) (5.6.1)\n",
      "Requirement already satisfied: MarkupSafe>=0.23 in /usr/local/lib/python3.6/dist-packages (from jinja2->notebook>=4.4.1->widgetsnbextension~=3.5.0->ipywidgets->scvi-tools[tutorials]) (1.1.1)\n",
      "Requirement already satisfied: bleach in /usr/local/lib/python3.6/dist-packages (from nbconvert->notebook>=4.4.1->widgetsnbextension~=3.5.0->ipywidgets->scvi-tools[tutorials]) (3.1.5)\n",
      "Requirement already satisfied: pandocfilters>=1.4.1 in /usr/local/lib/python3.6/dist-packages (from nbconvert->notebook>=4.4.1->widgetsnbextension~=3.5.0->ipywidgets->scvi-tools[tutorials]) (1.4.2)\n",
      "Requirement already satisfied: defusedxml in /usr/local/lib/python3.6/dist-packages (from nbconvert->notebook>=4.4.1->widgetsnbextension~=3.5.0->ipywidgets->scvi-tools[tutorials]) (0.6.0)\n",
      "Requirement already satisfied: testpath in /usr/local/lib/python3.6/dist-packages (from nbconvert->notebook>=4.4.1->widgetsnbextension~=3.5.0->ipywidgets->scvi-tools[tutorials]) (0.4.4)\n",
      "Requirement already satisfied: entrypoints>=0.2.2 in /usr/local/lib/python3.6/dist-packages (from nbconvert->notebook>=4.4.1->widgetsnbextension~=3.5.0->ipywidgets->scvi-tools[tutorials]) (0.3)\n",
      "Requirement already satisfied: mistune<2,>=0.8.1 in /usr/local/lib/python3.6/dist-packages (from nbconvert->notebook>=4.4.1->widgetsnbextension~=3.5.0->ipywidgets->scvi-tools[tutorials]) (0.8.4)\n",
      "Requirement already satisfied: webencodings in /usr/local/lib/python3.6/dist-packages (from bleach->nbconvert->notebook>=4.4.1->widgetsnbextension~=3.5.0->ipywidgets->scvi-tools[tutorials]) (0.5.1)\n",
      "Building wheels for collected packages: loompy, numpy-groupies, sinfo\n",
      "  Building wheel for loompy (setup.py) ... \u001b[?25l\u001b[?25hdone\n",
      "  Created wheel for loompy: filename=loompy-3.0.6-cp36-none-any.whl size=47895 sha256=196bee9b6a057fab8744d70bb8317e7144b4667925af643586276bc4a9023cb6\n",
      "  Stored in directory: /root/.cache/pip/wheels/f9/a4/90/5a98ad83419732b0fba533b81a2a52ba3dbe230a936ca4cdc9\n",
      "  Building wheel for numpy-groupies (setup.py) ... \u001b[?25l\u001b[?25hdone\n",
      "  Created wheel for numpy-groupies: filename=numpy_groupies-0.9.13-cp36-none-any.whl size=24069 sha256=c4f401623e757c9ff18f542a69e59e4a8ecf0f5fcd6bce4f9287b9dcb7a2ae0b\n",
      "  Stored in directory: /root/.cache/pip/wheels/ef/97/d7/270bc85eb8b1b84629caac97a3900bff23edb7f834f6ed729e\n",
      "  Building wheel for sinfo (setup.py) ... \u001b[?25l\u001b[?25hdone\n",
      "  Created wheel for sinfo: filename=sinfo-0.3.1-cp36-none-any.whl size=7016 sha256=3a6978f1d944a4bd03c996f9760546b033b130137686629a0de453f10d6271b4\n",
      "  Stored in directory: /root/.cache/pip/wheels/11/f0/23/347d6d8e59787c2bc272162d18223dc3b45bd6dc40aceee6af\n",
      "Successfully built loompy numpy-groupies sinfo\n",
      "Installing collected packages: texttable, python-igraph, numpy-groupies, loompy, leidenalg, scikit-misc, setuptools-scm, stdlib-list, sinfo, get-version, legacy-api-wrap, scanpy\n",
      "Successfully installed get-version-2.1 legacy-api-wrap-1.2 leidenalg-0.8.1 loompy-3.0.6 numpy-groupies-0.9.13 python-igraph-0.8.2 scanpy-1.6.0 scikit-misc-0.1.3 setuptools-scm-4.1.2 sinfo-0.3.1 stdlib-list-0.7.0 texttable-1.6.3\n"
     ]
    }
   ],
   "source": [
    "import sys\n",
    "IN_COLAB = \"google.colab\" in sys.modules\n",
    "\n",
    "if IN_COLAB:\n",
    "    !pip install --upgrade jsonschema\n",
    "    !pip install git+https://github.com/yoseflab/scvi-tools@master#egg=scvi-tools[tutorials]\n",
    "\n",
    "import scvi\n",
    "import scanpy as sc"
   ]
  },
  {
   "cell_type": "markdown",
   "metadata": {
    "colab_type": "text",
    "id": "oPGuX2wPZ0bS"
   },
   "source": [
    "## Loading and preparing data\n",
    "\n",
    "Let us first load the CORTEX dataset described in Zeisel et al. (2015). scvi-tools has many \"built-in\" datasets as well as support for loading arbitrary `.csv`, `.loom`, and `.h5ad` (AnnData) files. Please see our tutorial on [data loading](data_loading.ipynb) for more examples.\n",
    "\n",
    "* Zeisel, Amit, et al. \"Cell types in the mouse cortex and hippocampus revealed by single-cell RNA-seq.\" Science 347.6226 (2015): 1138-1142. "
   ]
  },
  {
   "cell_type": "markdown",
   "metadata": {
    "colab_type": "text",
    "id": "CKEgQJG3mVJh"
   },
   "source": [
    "<div class=\"alert alert-info\">\n",
    "\n",
    "Important\n",
    "\n",
    "All scvi-tools models require AnnData objects as input. \n",
    "\n",
    "</div>"
   ]
  },
  {
   "cell_type": "code",
   "execution_count": null,
   "metadata": {
    "colab": {
     "base_uri": "https://localhost:8080/",
     "height": 102
    },
    "colab_type": "code",
    "id": "NCdp74wHZ0bT",
    "outputId": "a3a9a5fc-5531-46aa-9eeb-3ff16157e4f9"
   },
   "outputs": [
    {
     "name": "stdout",
     "output_type": "stream",
     "text": [
      "\u001b[34mINFO\u001b[0m      Downloading file at \u001b[35m/content/data/\u001b[0m\u001b[95mexpression.bin\u001b[0m                      \n",
      "\u001b[34mINFO\u001b[0m      Loading Cortex data from \u001b[35m/content/data/\u001b[0m\u001b[95mexpression.bin\u001b[0m                 \n",
      "\u001b[34mINFO\u001b[0m      Finished loading Cortex data                                          \n"
     ]
    },
    {
     "name": "stderr",
     "output_type": "stream",
     "text": [
      "/usr/local/lib/python3.6/dist-packages/anndata/_core/anndata.py:119: ImplicitModificationWarning: Transforming to str index.\n",
      "  warnings.warn(\"Transforming to str index.\", ImplicitModificationWarning)\n"
     ]
    }
   ],
   "source": [
    "adata = scvi.data.cortex(run_setup_anndata=False)"
   ]
  },
  {
   "cell_type": "markdown",
   "metadata": {
    "colab_type": "text",
    "id": "USVZNzYFqWby"
   },
   "source": [
    "Now we preprocess the data to remove, for example, genes that are very lowly expressed and other outliers. For these tasks we prefer the [Scanpy preprocessing module](https://scanpy.readthedocs.io/en/stable/api/index.html#module-scanpy.pp)."
   ]
  },
  {
   "cell_type": "code",
   "execution_count": null,
   "metadata": {
    "colab": {},
    "colab_type": "code",
    "id": "6l5MYjxEqTcp"
   },
   "outputs": [],
   "source": [
    "sc.pp.filter_genes(adata, min_counts=3)"
   ]
  },
  {
   "cell_type": "markdown",
   "metadata": {
    "colab_type": "text",
    "id": "7_JMKQMBqp02"
   },
   "source": [
    "In scRNA-seq analysis, among others, it's popular to normalize the data. These values are not used by scvi-tools, but given their popularity in other tasks as well as for visualization, we store them in the anndata object separately (via the `.raw` attribute)."
   ]
  },
  {
   "cell_type": "markdown",
   "metadata": {
    "colab_type": "text",
    "id": "hu4Dcg8QnNsz"
   },
   "source": [
    "<div class=\"alert alert-info\">\n",
    "\n",
    "Important\n",
    "\n",
    "Unless otherwise specific, scvi-tools models require the raw counts.\n",
    "\n",
    "</div>"
   ]
  },
  {
   "cell_type": "code",
   "execution_count": null,
   "metadata": {
    "colab": {},
    "colab_type": "code",
    "id": "QXIxM_VgqovL"
   },
   "outputs": [],
   "source": [
    "adata.layers[\"counts\"] = adata.X.copy() # preserve counts\n",
    "sc.pp.normalize_total(adata, target_sum=10e4)\n",
    "sc.pp.log1p(adata)\n",
    "adata.raw = adata # freeze the state in `.raw`"
   ]
  },
  {
   "cell_type": "markdown",
   "metadata": {
    "colab_type": "text",
    "id": "7ocFplFetywZ"
   },
   "source": [
    "Finally, we perform feature selection, to reduce the number of features (here, genes) used as input to the scvi-tools model. For best practices of how/when to perform feature selection, please refer to the model-specific tutorial."
   ]
  },
  {
   "cell_type": "code",
   "execution_count": null,
   "metadata": {
    "colab": {},
    "colab_type": "code",
    "id": "j8gBNU_7txZU"
   },
   "outputs": [],
   "source": [
    "sc.pp.highly_variable_genes(\n",
    "    adata, \n",
    "    n_top_genes=2000, \n",
    "    subset=True, \n",
    "    layer=\"counts\", \n",
    "    flavor=\"seurat_v3\"\n",
    ")"
   ]
  },
  {
   "cell_type": "markdown",
   "metadata": {
    "colab_type": "text",
    "id": "RcUzIOGbrKMf"
   },
   "source": [
    "Now it's time to run `setup_anndata()`, which alerts scvi-tools to the locations of various matrices inside the anndata. It's important to run this function with the correct arguments so scvi-tools is notified that your dataset has batches, annotations, etc. For example, if batches are registered with scvi-tools, the subsequent model will correct for batch effects. See the full documentation for details.\n",
    "\n"
   ]
  },
  {
   "cell_type": "code",
   "execution_count": null,
   "metadata": {
    "colab": {
     "base_uri": "https://localhost:8080/",
     "height": 153
    },
    "colab_type": "code",
    "id": "d46OgftwrJhl",
    "outputId": "d5f1e059-b55d-4027-9991-2950faebebad"
   },
   "outputs": [
    {
     "name": "stdout",
     "output_type": "stream",
     "text": [
      "\u001b[34mINFO\u001b[0m      No batch_key inputted, assuming all cells are same batch              \n",
      "\u001b[34mINFO\u001b[0m      No label_key inputted, assuming all cells have same label             \n",
      "\u001b[34mINFO\u001b[0m      Using data from adata.layers\u001b[1m[\u001b[0m\u001b[32m\"counts\"\u001b[0m\u001b[1m]\u001b[0m                                \n",
      "\u001b[34mINFO\u001b[0m      Computing library size prior per batch                                \n",
      "\u001b[34mINFO\u001b[0m      Successfully registered anndata object containing \u001b[1;34m3005\u001b[0m cells, \u001b[1;34m2000\u001b[0m    \n",
      "          genes, \u001b[1;34m1\u001b[0m batches, \u001b[1;34m1\u001b[0m labels, and \u001b[1;34m0\u001b[0m proteins. Also registered \u001b[1;34m0\u001b[0m extra   \n",
      "          categorical covariates and \u001b[1;34m0\u001b[0m extra continuous covariates.             \n",
      "\u001b[34mINFO\u001b[0m      Please do not further modify adata until model is trained.            \n"
     ]
    }
   ],
   "source": [
    "scvi.data.setup_anndata(adata, layer=\"counts\")"
   ]
  },
  {
   "cell_type": "markdown",
   "metadata": {
    "colab_type": "text",
    "id": "RVHQRTbGowQC"
   },
   "source": [
    "<div class=\"alert alert-warning\">\n",
    "\n",
    "Warning\n",
    "\n",
    "If the adata is modified after running `setup_anndata`, please run `setup_anndata` again.\n",
    "\n",
    "</div>"
   ]
  },
  {
   "cell_type": "markdown",
   "metadata": {
    "colab_type": "text",
    "id": "RAWmYvjkZ0bW"
   },
   "source": [
    "## Creating and training a model\n",
    "\n",
    "While we highlight the scVI model here, the API is consistent across all scvi-tools models and is inspired by that of [scikit-learn](https://scikit-learn.org/stable/). For full list of options, see the documentation."
   ]
  },
  {
   "cell_type": "code",
   "execution_count": null,
   "metadata": {
    "colab": {},
    "colab_type": "code",
    "id": "xPnlTctkZ0bX"
   },
   "outputs": [],
   "source": [
    "model = scvi.model.SCVI(adata)"
   ]
  },
  {
   "cell_type": "markdown",
   "metadata": {
    "colab_type": "text",
    "id": "vTQ8KwoNr5_K"
   },
   "source": [
    "We can see an overview of the model by printing it."
   ]
  },
  {
   "cell_type": "code",
   "execution_count": null,
   "metadata": {
    "colab": {
     "base_uri": "https://localhost:8080/",
     "height": 68
    },
    "colab_type": "code",
    "id": "ogKNFwVQr392",
    "outputId": "1a7aef51-bdaf-4a8f-f872-6e8371f3a6d5"
   },
   "outputs": [
    {
     "data": {
      "text/plain": [
       "SCVI Model with params: \n",
       "n_hidden: 128, n_latent: 10, n_layers: 1, dropout_rate: 0.1, dispersion: gene, gene_likelihood: zinb, latent_distribution: normal\n",
       "Training status: Not Trained"
      ]
     },
     "execution_count": 11,
     "metadata": {
      "tags": []
     },
     "output_type": "execute_result"
    }
   ],
   "source": [
    "model"
   ]
  },
  {
   "cell_type": "code",
   "execution_count": null,
   "metadata": {
    "colab": {
     "base_uri": "https://localhost:8080/",
     "height": 67,
     "referenced_widgets": [
      "b35e683359d44876a4633955ed1a8c17",
      "2cfca0ccf8a34761bd83f9544ae8eb85"
     ]
    },
    "colab_type": "code",
    "id": "2DT6Im69ZPFu",
    "outputId": "fa3c36d0-b23a-45dc-ebe3-aacf2da5a527"
   },
   "outputs": [
    {
     "name": "stdout",
     "output_type": "stream",
     "text": [
      "\u001b[34mINFO\u001b[0m      KL warmup for \u001b[1;34m400\u001b[0m epochs                                              \n"
     ]
    },
    {
     "data": {
      "application/vnd.jupyter.widget-view+json": {
       "model_id": "b35e683359d44876a4633955ed1a8c17",
       "version_major": 2,
       "version_minor": 0
      },
      "text/plain": [
       "Output()"
      ]
     },
     "metadata": {
      "tags": []
     },
     "output_type": "display_data"
    },
    {
     "name": "stdout",
     "output_type": "stream",
     "text": [
      "\u001b[34mINFO\u001b[0m      Training time:  \u001b[1;34m113\u001b[0m s. \u001b[35m/\u001b[0m \u001b[1;34m400\u001b[0m epochs                                   \n"
     ]
    }
   ],
   "source": [
    "model.train()"
   ]
  },
  {
   "cell_type": "markdown",
   "metadata": {
    "colab_type": "text",
    "id": "3jRIM0NRa03N"
   },
   "source": [
    "### Saving and loading\n",
    "\n",
    "Saving consists of saving the model neural network weights, as well as parameters used to initialize the model."
   ]
  },
  {
   "cell_type": "code",
   "execution_count": null,
   "metadata": {
    "colab": {},
    "colab_type": "code",
    "id": "MfaDMe3tayj_"
   },
   "outputs": [],
   "source": [
    "model.save(\"my_model/\")"
   ]
  },
  {
   "cell_type": "code",
   "execution_count": null,
   "metadata": {
    "colab": {},
    "colab_type": "code",
    "id": "xYIQnbm1a-wF"
   },
   "outputs": [],
   "source": [
    "model = scvi.model.SCVI.load(adata, \"my_model/\", use_cuda=True)"
   ]
  },
  {
   "cell_type": "markdown",
   "metadata": {
    "colab_type": "text",
    "id": "iVy8Eo1-Z0be"
   },
   "source": [
    "## Obtaining model outputs"
   ]
  },
  {
   "cell_type": "code",
   "execution_count": null,
   "metadata": {
    "colab": {},
    "colab_type": "code",
    "id": "R4FwiBpUtQJa"
   },
   "outputs": [],
   "source": [
    "latent = model.get_latent_representation()"
   ]
  },
  {
   "cell_type": "markdown",
   "metadata": {
    "colab_type": "text",
    "id": "Cgnqal7kvArn"
   },
   "source": [
    "It's often useful to store the outputs of scvi-tools back into the original anndata, as it permits interoperability with Scanpy."
   ]
  },
  {
   "cell_type": "code",
   "execution_count": null,
   "metadata": {
    "colab": {},
    "colab_type": "code",
    "id": "nXFAjVazvHj7"
   },
   "outputs": [],
   "source": [
    "adata.obsm[\"X_scVI\"] = latent"
   ]
  },
  {
   "cell_type": "markdown",
   "metadata": {
    "colab_type": "text",
    "id": "merbABa3u8rg"
   },
   "source": [
    "The `model.get...()` functions default to using the anndata that was used to initialize the model. It's possible to also query a subset of the anndata, or even use a completely independent anndata object as long as the anndata is organized in an equivalent fashion."
   ]
  },
  {
   "cell_type": "code",
   "execution_count": null,
   "metadata": {
    "colab": {
     "base_uri": "https://localhost:8080/",
     "height": 34
    },
    "colab_type": "code",
    "id": "kHznd-ygvNt5",
    "outputId": "0b036751-8f4d-4d8f-df62-5a0ec26d0eb0"
   },
   "outputs": [
    {
     "name": "stdout",
     "output_type": "stream",
     "text": [
      "\u001b[34mINFO\u001b[0m      Received view of anndata, making copy.                                \n"
     ]
    }
   ],
   "source": [
    "adata_subset = adata[adata.obs.cell_type == \"interneurons\"]\n",
    "latent_subset = model.get_latent_representation(adata_subset)"
   ]
  },
  {
   "cell_type": "code",
   "execution_count": null,
   "metadata": {
    "colab": {
     "base_uri": "https://localhost:8080/",
     "height": 221
    },
    "colab_type": "code",
    "id": "NCUXYiZov0uH",
    "outputId": "0247632d-0931-4650-fd99-e3b4188b5158"
   },
   "outputs": [
    {
     "name": "stdout",
     "output_type": "stream",
     "text": [
      "\u001b[34mINFO\u001b[0m      Received view of anndata, making copy.                                \n"
     ]
    },
    {
     "data": {
      "text/html": [
       "<div>\n",
       "<style scoped>\n",
       "    .dataframe tbody tr th:only-of-type {\n",
       "        vertical-align: middle;\n",
       "    }\n",
       "\n",
       "    .dataframe tbody tr th {\n",
       "        vertical-align: top;\n",
       "    }\n",
       "\n",
       "    .dataframe thead th {\n",
       "        text-align: right;\n",
       "    }\n",
       "</style>\n",
       "<table border=\"1\" class=\"dataframe\">\n",
       "  <thead>\n",
       "    <tr style=\"text-align: right;\">\n",
       "      <th></th>\n",
       "      <th>Tshz1</th>\n",
       "      <th>2310042E22Rik</th>\n",
       "      <th>Sema3c</th>\n",
       "      <th>Jam2</th>\n",
       "      <th>Klhl13</th>\n",
       "    </tr>\n",
       "  </thead>\n",
       "  <tbody>\n",
       "    <tr>\n",
       "      <th>0</th>\n",
       "      <td>34.172291</td>\n",
       "      <td>11.900369</td>\n",
       "      <td>226.214600</td>\n",
       "      <td>36.507690</td>\n",
       "      <td>103.343269</td>\n",
       "    </tr>\n",
       "    <tr>\n",
       "      <th>1</th>\n",
       "      <td>31.713140</td>\n",
       "      <td>28.055269</td>\n",
       "      <td>204.428802</td>\n",
       "      <td>13.279721</td>\n",
       "      <td>106.054047</td>\n",
       "    </tr>\n",
       "    <tr>\n",
       "      <th>2</th>\n",
       "      <td>18.533686</td>\n",
       "      <td>31.503839</td>\n",
       "      <td>612.331909</td>\n",
       "      <td>78.135330</td>\n",
       "      <td>202.348083</td>\n",
       "    </tr>\n",
       "    <tr>\n",
       "      <th>3</th>\n",
       "      <td>25.587479</td>\n",
       "      <td>51.464203</td>\n",
       "      <td>241.749634</td>\n",
       "      <td>18.102861</td>\n",
       "      <td>148.764862</td>\n",
       "    </tr>\n",
       "    <tr>\n",
       "      <th>4</th>\n",
       "      <td>68.990685</td>\n",
       "      <td>26.903820</td>\n",
       "      <td>157.888565</td>\n",
       "      <td>10.193274</td>\n",
       "      <td>138.968933</td>\n",
       "    </tr>\n",
       "  </tbody>\n",
       "</table>\n",
       "</div>"
      ],
      "text/plain": [
       "       Tshz1  2310042E22Rik      Sema3c       Jam2      Klhl13\n",
       "0  34.172291      11.900369  226.214600  36.507690  103.343269\n",
       "1  31.713140      28.055269  204.428802  13.279721  106.054047\n",
       "2  18.533686      31.503839  612.331909  78.135330  202.348083\n",
       "3  25.587479      51.464203  241.749634  18.102861  148.764862\n",
       "4  68.990685      26.903820  157.888565  10.193274  138.968933"
      ]
     },
     "execution_count": 18,
     "metadata": {
      "tags": []
     },
     "output_type": "execute_result"
    }
   ],
   "source": [
    "denoised = model.get_normalized_expression(adata_subset, library_size=10e4)\n",
    "denoised.iloc[:5, :5]"
   ]
  },
  {
   "cell_type": "markdown",
   "metadata": {
    "colab_type": "text",
    "id": "E3jkmBUa6L_N"
   },
   "source": [
    "Let's store the normalized values back in the anndata."
   ]
  },
  {
   "cell_type": "code",
   "execution_count": null,
   "metadata": {
    "colab": {},
    "colab_type": "code",
    "id": "pa4xQzkv6Ov_"
   },
   "outputs": [],
   "source": [
    "adata.layers[\"scvi_normalized\"] = model.get_normalized_expression(\n",
    "    library_size=10e4\n",
    ")"
   ]
  },
  {
   "cell_type": "markdown",
   "metadata": {
    "colab_type": "text",
    "id": "KRbBVO2RZ0bk"
   },
   "source": [
    "## Interoperability with Scanpy"
   ]
  },
  {
   "cell_type": "markdown",
   "metadata": {
    "colab_type": "text",
    "id": "Vbo5AUQ5Z0bk"
   },
   "source": [
    "Scanpy is a powerful python library for visualization and downstream analysis of scRNA-seq data. We show here how to feed the objects produced by scvi-tools into a scanpy workflow."
   ]
  },
  {
   "cell_type": "code",
   "execution_count": null,
   "metadata": {
    "colab": {},
    "colab_type": "code",
    "id": "AAABjrJswQ9E"
   },
   "outputs": [],
   "source": [
    "# use scVI latent space for UMAP generation\n",
    "sc.pp.neighbors(adata, use_rep=\"X_scVI\")\n",
    "sc.tl.umap(adata, min_dist=0.2)"
   ]
  },
  {
   "cell_type": "code",
   "execution_count": null,
   "metadata": {
    "colab": {
     "base_uri": "https://localhost:8080/",
     "height": 298
    },
    "colab_type": "code",
    "id": "rVpefV7QZ0bp",
    "outputId": "2332d662-7402-4ca8-9c49-4c6d41098724"
   },
   "outputs": [
    {
     "name": "stderr",
     "output_type": "stream",
     "text": [
      "... storing 'precise_labels' as categorical\n",
      "... storing 'cell_type' as categorical\n"
     ]
    },
    {
     "data": {
      "image/png": "[encoded data removed]",
      "text/plain": [
       "<Figure size 432x288 with 1 Axes>"
      ]
     },
     "metadata": {
      "tags": []
     },
     "output_type": "display_data"
    }
   ],
   "source": [
    "sc.pl.umap(\n",
    "    adata, \n",
    "    color=\"cell_type\", \n",
    "    frameon=False,\n",
    ")"
   ]
  },
  {
   "cell_type": "markdown",
   "metadata": {
    "colab_type": "text",
    "id": "qx3Yu04GZ0br"
   },
   "source": [
    "The user will note that we imported curated labels from the original publication. Our interface with scanpy makes it easy to cluster the data with scanpy from scVI's latent space and then reinject them into scVI (e.g., for differential expression)."
   ]
  },
  {
   "cell_type": "code",
   "execution_count": null,
   "metadata": {
    "colab": {},
    "colab_type": "code",
    "id": "ME5yLdHtxHsb"
   },
   "outputs": [],
   "source": [
    "# neighbors were already computed using scVI\n",
    "sc.tl.leiden(adata, key_added=\"leiden_scVI\")"
   ]
  },
  {
   "cell_type": "markdown",
   "metadata": {
    "colab_type": "text",
    "id": "1yDDpmrcZ0bs"
   },
   "source": [
    "## Differential expression\n",
    "We can also use many scvi-tools models for differential expression. For further details on the methods underlying these functions as well as additional options, please see TODO."
   ]
  },
  {
   "cell_type": "code",
   "execution_count": null,
   "metadata": {
    "colab": {
     "base_uri": "https://localhost:8080/",
     "height": 153
    },
    "colab_type": "code",
    "id": "zaXI-F71yK6O",
    "outputId": "80b0be4e-ae61-4885-dfba-9c03aa5f977e"
   },
   "outputs": [
    {
     "data": {
      "text/plain": [
       "0    interneurons\n",
       "1    interneurons\n",
       "2    interneurons\n",
       "3    interneurons\n",
       "4    interneurons\n",
       "Name: cell_type, dtype: category\n",
       "Categories (7, object): [astrocytes_ependymal, endothelial-mural, interneurons, microglia, oligodendrocytes,\n",
       "                         pyramidal CA1, pyramidal SS]"
      ]
     },
     "execution_count": 23,
     "metadata": {
      "tags": []
     },
     "output_type": "execute_result"
    }
   ],
   "source": [
    "adata.obs.cell_type.head()"
   ]
  },
  {
   "cell_type": "markdown",
   "metadata": {
    "colab_type": "text",
    "id": "K9zGxVjkyW8i"
   },
   "source": [
    "For example, a 1-vs-1 DE test is as simple as:"
   ]
  },
  {
   "cell_type": "code",
   "execution_count": null,
   "metadata": {
    "colab": {
     "base_uri": "https://localhost:8080/",
     "height": 410,
     "referenced_widgets": [
      "8229c31d877a43c989bc1a82b4e788b6",
      "7842945875d5462ea05fc6ca0640ba02"
     ]
    },
    "colab_type": "code",
    "id": "3eUeH87Vxd_O",
    "outputId": "8f20f2a9-db5a-441c-ad7b-4b73c0e6d103"
   },
   "outputs": [
    {
     "data": {
      "application/vnd.jupyter.widget-view+json": {
       "model_id": "8229c31d877a43c989bc1a82b4e788b6",
       "version_major": 2,
       "version_minor": 0
      },
      "text/plain": [
       "Output()"
      ]
     },
     "metadata": {
      "tags": []
     },
     "output_type": "display_data"
    },
    {
     "data": {
      "text/html": [
       "<div>\n",
       "<style scoped>\n",
       "    .dataframe tbody tr th:only-of-type {\n",
       "        vertical-align: middle;\n",
       "    }\n",
       "\n",
       "    .dataframe tbody tr th {\n",
       "        vertical-align: top;\n",
       "    }\n",
       "\n",
       "    .dataframe thead th {\n",
       "        text-align: right;\n",
       "    }\n",
       "</style>\n",
       "<table border=\"1\" class=\"dataframe\">\n",
       "  <thead>\n",
       "    <tr style=\"text-align: right;\">\n",
       "      <th></th>\n",
       "      <th>proba_de</th>\n",
       "      <th>proba_not_de</th>\n",
       "      <th>bayes_factor</th>\n",
       "      <th>scale1</th>\n",
       "      <th>scale2</th>\n",
       "      <th>lfc_mean</th>\n",
       "      <th>lfc_median</th>\n",
       "      <th>lfc_std</th>\n",
       "      <th>lfc_min</th>\n",
       "      <th>lfc_max</th>\n",
       "      <th>raw_mean1</th>\n",
       "      <th>raw_mean2</th>\n",
       "      <th>non_zeros_proportion1</th>\n",
       "      <th>non_zeros_proportion2</th>\n",
       "      <th>raw_normalized_mean1</th>\n",
       "      <th>raw_normalized_mean2</th>\n",
       "      <th>comparison</th>\n",
       "    </tr>\n",
       "  </thead>\n",
       "  <tbody>\n",
       "    <tr>\n",
       "      <th>Icam5</th>\n",
       "      <td>1.0000</td>\n",
       "      <td>0.0000</td>\n",
       "      <td>18.420681</td>\n",
       "      <td>0.000086</td>\n",
       "      <td>0.002353</td>\n",
       "      <td>-5.376781</td>\n",
       "      <td>-5.626368</td>\n",
       "      <td>1.348573</td>\n",
       "      <td>-8.737123</td>\n",
       "      <td>0.671820</td>\n",
       "      <td>0.115854</td>\n",
       "      <td>4.640043</td>\n",
       "      <td>0.080488</td>\n",
       "      <td>0.926518</td>\n",
       "      <td>0.539940</td>\n",
       "      <td>27.065977</td>\n",
       "      <td>oligodendrocytes vs pyramidal CA1</td>\n",
       "    </tr>\n",
       "    <tr>\n",
       "      <th>Mmd</th>\n",
       "      <td>1.0000</td>\n",
       "      <td>0.0000</td>\n",
       "      <td>18.420681</td>\n",
       "      <td>0.000168</td>\n",
       "      <td>0.004009</td>\n",
       "      <td>-5.045812</td>\n",
       "      <td>-5.215079</td>\n",
       "      <td>1.250184</td>\n",
       "      <td>-7.987005</td>\n",
       "      <td>0.296421</td>\n",
       "      <td>0.229268</td>\n",
       "      <td>7.690096</td>\n",
       "      <td>0.137805</td>\n",
       "      <td>0.977636</td>\n",
       "      <td>1.022028</td>\n",
       "      <td>45.961216</td>\n",
       "      <td>oligodendrocytes vs pyramidal CA1</td>\n",
       "    </tr>\n",
       "    <tr>\n",
       "      <th>Slc8a1</th>\n",
       "      <td>0.9998</td>\n",
       "      <td>0.0002</td>\n",
       "      <td>8.516943</td>\n",
       "      <td>0.000605</td>\n",
       "      <td>0.010312</td>\n",
       "      <td>-4.304520</td>\n",
       "      <td>-4.428328</td>\n",
       "      <td>1.018000</td>\n",
       "      <td>-7.192300</td>\n",
       "      <td>-0.163869</td>\n",
       "      <td>1.060976</td>\n",
       "      <td>20.086262</td>\n",
       "      <td>0.352439</td>\n",
       "      <td>0.991480</td>\n",
       "      <td>4.516073</td>\n",
       "      <td>115.609520</td>\n",
       "      <td>oligodendrocytes vs pyramidal CA1</td>\n",
       "    </tr>\n",
       "    <tr>\n",
       "      <th>Dgkg</th>\n",
       "      <td>0.9998</td>\n",
       "      <td>0.0002</td>\n",
       "      <td>8.516943</td>\n",
       "      <td>0.000261</td>\n",
       "      <td>0.004208</td>\n",
       "      <td>-4.193096</td>\n",
       "      <td>-4.263711</td>\n",
       "      <td>0.982092</td>\n",
       "      <td>-7.841075</td>\n",
       "      <td>0.419635</td>\n",
       "      <td>0.126829</td>\n",
       "      <td>8.155484</td>\n",
       "      <td>0.065854</td>\n",
       "      <td>0.975506</td>\n",
       "      <td>0.540623</td>\n",
       "      <td>51.665966</td>\n",
       "      <td>oligodendrocytes vs pyramidal CA1</td>\n",
       "    </tr>\n",
       "    <tr>\n",
       "      <th>Ddn</th>\n",
       "      <td>0.9998</td>\n",
       "      <td>0.0002</td>\n",
       "      <td>8.516943</td>\n",
       "      <td>0.000260</td>\n",
       "      <td>0.003778</td>\n",
       "      <td>-4.110078</td>\n",
       "      <td>-4.163136</td>\n",
       "      <td>1.127335</td>\n",
       "      <td>-8.934053</td>\n",
       "      <td>1.917148</td>\n",
       "      <td>0.218293</td>\n",
       "      <td>7.184238</td>\n",
       "      <td>0.098780</td>\n",
       "      <td>0.957401</td>\n",
       "      <td>0.879565</td>\n",
       "      <td>44.778248</td>\n",
       "      <td>oligodendrocytes vs pyramidal CA1</td>\n",
       "    </tr>\n",
       "  </tbody>\n",
       "</table>\n",
       "</div>"
      ],
      "text/plain": [
       "        proba_de  ...                         comparison\n",
       "Icam5     1.0000  ...  oligodendrocytes vs pyramidal CA1\n",
       "Mmd       1.0000  ...  oligodendrocytes vs pyramidal CA1\n",
       "Slc8a1    0.9998  ...  oligodendrocytes vs pyramidal CA1\n",
       "Dgkg      0.9998  ...  oligodendrocytes vs pyramidal CA1\n",
       "Ddn       0.9998  ...  oligodendrocytes vs pyramidal CA1\n",
       "\n",
       "[5 rows x 17 columns]"
      ]
     },
     "execution_count": 24,
     "metadata": {
      "tags": []
     },
     "output_type": "execute_result"
    }
   ],
   "source": [
    "de_df = model.differential_expression(\n",
    "    groupby=\"cell_type\", \n",
    "    group1=\"oligodendrocytes\", \n",
    "    group2=\"pyramidal CA1\"\n",
    ")\n",
    "de_df.head()"
   ]
  },
  {
   "cell_type": "markdown",
   "metadata": {
    "colab_type": "text",
    "id": "Sleqtm9gyn--"
   },
   "source": [
    "We can also do a 1-vs-all DE test, which compares each cell type with the rest of the dataset:"
   ]
  },
  {
   "cell_type": "code",
   "execution_count": null,
   "metadata": {
    "colab": {
     "base_uri": "https://localhost:8080/",
     "height": 325,
     "referenced_widgets": [
      "7bcad3bd8f574b95abf1b20d18faed55",
      "d90763d9701c4b3c9458baa65a5b0528"
     ]
    },
    "colab_type": "code",
    "id": "V_liqTCeyne6",
    "outputId": "d1ec75d9-ff36-4dda-d930-c64c58fc9eab"
   },
   "outputs": [
    {
     "data": {
      "application/vnd.jupyter.widget-view+json": {
       "model_id": "7bcad3bd8f574b95abf1b20d18faed55",
       "version_major": 2,
       "version_minor": 0
      },
      "text/plain": [
       "Output()"
      ]
     },
     "metadata": {
      "tags": []
     },
     "output_type": "display_data"
    },
    {
     "data": {
      "text/html": [
       "<div>\n",
       "<style scoped>\n",
       "    .dataframe tbody tr th:only-of-type {\n",
       "        vertical-align: middle;\n",
       "    }\n",
       "\n",
       "    .dataframe tbody tr th {\n",
       "        vertical-align: top;\n",
       "    }\n",
       "\n",
       "    .dataframe thead th {\n",
       "        text-align: right;\n",
       "    }\n",
       "</style>\n",
       "<table border=\"1\" class=\"dataframe\">\n",
       "  <thead>\n",
       "    <tr style=\"text-align: right;\">\n",
       "      <th></th>\n",
       "      <th>proba_de</th>\n",
       "      <th>proba_not_de</th>\n",
       "      <th>bayes_factor</th>\n",
       "      <th>scale1</th>\n",
       "      <th>scale2</th>\n",
       "      <th>lfc_mean</th>\n",
       "      <th>lfc_median</th>\n",
       "      <th>lfc_std</th>\n",
       "      <th>lfc_min</th>\n",
       "      <th>lfc_max</th>\n",
       "      <th>raw_mean1</th>\n",
       "      <th>raw_mean2</th>\n",
       "      <th>non_zeros_proportion1</th>\n",
       "      <th>non_zeros_proportion2</th>\n",
       "      <th>raw_normalized_mean1</th>\n",
       "      <th>raw_normalized_mean2</th>\n",
       "      <th>comparison</th>\n",
       "    </tr>\n",
       "  </thead>\n",
       "  <tbody>\n",
       "    <tr>\n",
       "      <th>Cml5</th>\n",
       "      <td>0.9948</td>\n",
       "      <td>0.0052</td>\n",
       "      <td>5.253881</td>\n",
       "      <td>0.000679</td>\n",
       "      <td>0.000012</td>\n",
       "      <td>7.754991</td>\n",
       "      <td>7.963428</td>\n",
       "      <td>3.569530</td>\n",
       "      <td>-6.690024</td>\n",
       "      <td>18.151081</td>\n",
       "      <td>0.156250</td>\n",
       "      <td>0.005034</td>\n",
       "      <td>0.062500</td>\n",
       "      <td>0.003955</td>\n",
       "      <td>1.048622</td>\n",
       "      <td>0.019568</td>\n",
       "      <td>astrocytes_ependymal vs Rest</td>\n",
       "    </tr>\n",
       "    <tr>\n",
       "      <th>Slc1a3</th>\n",
       "      <td>0.9942</td>\n",
       "      <td>0.0058</td>\n",
       "      <td>5.144079</td>\n",
       "      <td>0.015234</td>\n",
       "      <td>0.000961</td>\n",
       "      <td>4.861070</td>\n",
       "      <td>4.972892</td>\n",
       "      <td>1.940111</td>\n",
       "      <td>-2.869020</td>\n",
       "      <td>10.098665</td>\n",
       "      <td>30.156250</td>\n",
       "      <td>1.977346</td>\n",
       "      <td>0.982143</td>\n",
       "      <td>0.281194</td>\n",
       "      <td>211.173355</td>\n",
       "      <td>9.182883</td>\n",
       "      <td>astrocytes_ependymal vs Rest</td>\n",
       "    </tr>\n",
       "    <tr>\n",
       "      <th>Gja1</th>\n",
       "      <td>0.9926</td>\n",
       "      <td>0.0074</td>\n",
       "      <td>4.898846</td>\n",
       "      <td>0.006811</td>\n",
       "      <td>0.000438</td>\n",
       "      <td>5.315531</td>\n",
       "      <td>5.546753</td>\n",
       "      <td>2.188639</td>\n",
       "      <td>-2.315550</td>\n",
       "      <td>11.194177</td>\n",
       "      <td>12.705358</td>\n",
       "      <td>0.822006</td>\n",
       "      <td>0.977679</td>\n",
       "      <td>0.186624</td>\n",
       "      <td>88.167435</td>\n",
       "      <td>3.939137</td>\n",
       "      <td>astrocytes_ependymal vs Rest</td>\n",
       "    </tr>\n",
       "    <tr>\n",
       "      <th>Aqp4</th>\n",
       "      <td>0.9924</td>\n",
       "      <td>0.0076</td>\n",
       "      <td>4.871977</td>\n",
       "      <td>0.008168</td>\n",
       "      <td>0.000467</td>\n",
       "      <td>4.673203</td>\n",
       "      <td>4.821848</td>\n",
       "      <td>1.884676</td>\n",
       "      <td>-3.284332</td>\n",
       "      <td>9.616211</td>\n",
       "      <td>20.973215</td>\n",
       "      <td>0.598706</td>\n",
       "      <td>0.937500</td>\n",
       "      <td>0.112549</td>\n",
       "      <td>120.902222</td>\n",
       "      <td>2.687396</td>\n",
       "      <td>astrocytes_ependymal vs Rest</td>\n",
       "    </tr>\n",
       "    <tr>\n",
       "      <th>Obox6</th>\n",
       "      <td>0.9912</td>\n",
       "      <td>0.0088</td>\n",
       "      <td>4.724163</td>\n",
       "      <td>0.001497</td>\n",
       "      <td>0.000035</td>\n",
       "      <td>6.220726</td>\n",
       "      <td>6.289189</td>\n",
       "      <td>3.109761</td>\n",
       "      <td>-5.672326</td>\n",
       "      <td>15.472239</td>\n",
       "      <td>0.017857</td>\n",
       "      <td>0.002517</td>\n",
       "      <td>0.004464</td>\n",
       "      <td>0.001798</td>\n",
       "      <td>0.452080</td>\n",
       "      <td>0.017143</td>\n",
       "      <td>astrocytes_ependymal vs Rest</td>\n",
       "    </tr>\n",
       "  </tbody>\n",
       "</table>\n",
       "</div>"
      ],
      "text/plain": [
       "        proba_de  ...                    comparison\n",
       "Cml5      0.9948  ...  astrocytes_ependymal vs Rest\n",
       "Slc1a3    0.9942  ...  astrocytes_ependymal vs Rest\n",
       "Gja1      0.9926  ...  astrocytes_ependymal vs Rest\n",
       "Aqp4      0.9924  ...  astrocytes_ependymal vs Rest\n",
       "Obox6     0.9912  ...  astrocytes_ependymal vs Rest\n",
       "\n",
       "[5 rows x 17 columns]"
      ]
     },
     "execution_count": 25,
     "metadata": {
      "tags": []
     },
     "output_type": "execute_result"
    }
   ],
   "source": [
    "de_df = model.differential_expression(\n",
    "    groupby=\"cell_type\", \n",
    ")\n",
    "de_df.head()"
   ]
  },
  {
   "cell_type": "markdown",
   "metadata": {
    "colab_type": "text",
    "id": "LubZQGeG00A4"
   },
   "source": [
    "We now extract top markers for each cluster using the DE results."
   ]
  },
  {
   "cell_type": "code",
   "execution_count": null,
   "metadata": {
    "colab": {},
    "colab_type": "code",
    "id": "NSss20tkyV7l"
   },
   "outputs": [],
   "source": [
    "markers = {}\n",
    "cats = adata.obs.cell_type.cat.categories\n",
    "for i, c in enumerate(cats):\n",
    "    cid = \"{} vs Rest\".format(c)\n",
    "    cell_type_df = de_df.loc[de_df.comparison == cid]\n",
    "    cell_type_df = cell_type_df.sort_values(\"lfc_mean\", ascending=False)\n",
    "\n",
    "    cell_type_df = cell_type_df[cell_type_df.lfc_mean > 0]\n",
    "\n",
    "    cell_type_df = cell_type_df[cell_type_df[\"bayes_factor\"] > 3]\n",
    "    cell_type_df = cell_type_df[cell_type_df[\"non_zeros_proportion1\"] > 0.1]\n",
    "\n",
    "    markers[c] = cell_type_df.index.tolist()[:3]"
   ]
  },
  {
   "cell_type": "code",
   "execution_count": null,
   "metadata": {
    "colab": {},
    "colab_type": "code",
    "id": "j0j7HlUizL4r"
   },
   "outputs": [],
   "source": [
    "sc.tl.dendrogram(adata, groupby=\"cell_type\", use_rep=\"X_scVI\")"
   ]
  },
  {
   "cell_type": "code",
   "execution_count": null,
   "metadata": {
    "colab": {
     "base_uri": "https://localhost:8080/",
     "height": 631
    },
    "colab_type": "code",
    "id": "SEufcjlGzGV1",
    "outputId": "ae1663f7-a8d2-4d11-aa88-76e227ac7a41"
   },
   "outputs": [
    {
     "data": {
      "image/png": "[encoded data removed]",
      "text/plain": [
       "<Figure size 294.48x658.8 with 6 Axes>"
      ]
     },
     "metadata": {
      "needs_background": "light",
      "tags": []
     },
     "output_type": "display_data"
    }
   ],
   "source": [
    "sc.pl.dotplot(\n",
    "    adata, \n",
    "    markers, \n",
    "    groupby='cell_type', \n",
    "    dendrogram=True, \n",
    "    color_map=\"Blues\",\n",
    "    swap_axes=True,\n",
    "    use_raw=True,\n",
    "    standard_scale=\"var\",\n",
    ")"
   ]
  },
  {
   "cell_type": "markdown",
   "metadata": {
    "colab_type": "text",
    "id": "0FOGu9jd6wGq"
   },
   "source": [
    "We can also visualize the scVI normalized gene expression values with the `layer` option."
   ]
  },
  {
   "cell_type": "code",
   "execution_count": null,
   "metadata": {
    "colab": {
     "base_uri": "https://localhost:8080/",
     "height": 580
    },
    "colab_type": "code",
    "id": "LuRDlmTg6YFL",
    "outputId": "3ef10636-7cb1-47de-bc45-3df82d44f9c2"
   },
   "outputs": [
    {
     "name": "stdout",
     "output_type": "stream",
     "text": [
      "WARNING: dendrogram data not found (using key=dendrogram_cell_type). Running `sc.tl.dendrogram` with default parameters. For fine tuning it is recommended to run `sc.tl.dendrogram` independently.\n",
      "WARNING: You’re trying to run this on 2000 dimensions of `.X`, if you really want this, set `use_rep='X'`.\n",
      "         Falling back to preprocessing with `sc.pp.pca` and default params.\n"
     ]
    },
    {
     "data": {
      "image/png": "[encoded data removed]",
      "text/plain": [
       "<Figure size 540x432 with 5 Axes>"
      ]
     },
     "metadata": {
      "needs_background": "light",
      "tags": []
     },
     "output_type": "display_data"
    }
   ],
   "source": [
    "sc.pl.heatmap(\n",
    "    adata, \n",
    "    markers, \n",
    "    groupby='cell_type', \n",
    "    layer=\"scvi_normalized\",\n",
    "    standard_scale=\"var\",\n",
    "    dendrogram=True,\n",
    ")"
   ]
  },
  {
   "cell_type": "markdown",
   "metadata": {
    "colab_type": "text",
    "id": "LGCH09lMZ0cO"
   },
   "source": [
    "## Logging information\n",
    "\n",
    "Verbosity varies in the following way:\n",
    "\n",
    "* `logger.setLevel(logging.WARNING)` will show a progress bar.\n",
    "* `logger.setLevel(logging.INFO)` will show global logs including the number of jobs done.\n",
    "* `logger.setLevel(logging.DEBUG)` will show detailed logs for each training (e.g the parameters tested).\n",
    "\n",
    "This function's behaviour can be customized, please refer to its documentation for information about the different parameters available.\n",
    "\n",
    "In general, you can use `scvi.settings.verbosity` to set the verbosity of the scvi package.\n",
    "Note that `verbosity` corresponds to the logging levels of the standard python `logging` module. By default, that verbosity level is set to `INFO` (=20).\n",
    "As a reminder the logging levels are:\n",
    "\n",
    "<table class=\"docutils align-center\">\n",
    "<colgroup>\n",
    "<col style=\"width: 48%\">\n",
    "<col style=\"width: 52%\">\n",
    "</colgroup>\n",
    "<thead>\n",
    "<tr class=\"row-odd\"><th class=\"head\"><p>Level</p></th>\n",
    "<th class=\"head\"><p>Numeric value</p></th>\n",
    "</tr>\n",
    "</thead>\n",
    "<tbody>\n",
    "<tr class=\"row-even\"><td><p><code class=\"docutils literal notranslate\"><span class=\"pre\">CRITICAL</span></code></p></td>\n",
    "<td><p>50</p></td>\n",
    "</tr>\n",
    "<tr class=\"row-odd\"><td><p><code class=\"docutils literal notranslate\"><span class=\"pre\">ERROR</span></code></p></td>\n",
    "<td><p>40</p></td>\n",
    "</tr>\n",
    "<tr class=\"row-even\"><td><p><code class=\"docutils literal notranslate\"><span class=\"pre\">WARNING</span></code></p></td>\n",
    "<td><p>30</p></td>\n",
    "</tr>\n",
    "<tr class=\"row-odd\"><td><p><code class=\"docutils literal notranslate\"><span class=\"pre\">INFO</span></code></p></td>\n",
    "<td><p>20</p></td>\n",
    "</tr>\n",
    "<tr class=\"row-even\"><td><p><code class=\"docutils literal notranslate\"><span class=\"pre\">DEBUG</span></code></p></td>\n",
    "<td><p>10</p></td>\n",
    "</tr>\n",
    "<tr class=\"row-odd\"><td><p><code class=\"docutils literal notranslate\"><span class=\"pre\">NOTSET</span></code></p></td>\n",
    "<td><p>0</p></td>\n",
    "</tr>\n",
    "</tbody>\n",
    "</table>"
   ]
  }
 ],
 "metadata": {
  "accelerator": "GPU",
  "colab": {
   "collapsed_sections": [],
   "name": "Copy of api_overview.ipynb",
   "provenance": []
  },
  "kernelspec": {
   "display_name": "Python 3",
   "language": "python",
   "name": "python3"
  },
  "language_info": {
   "codemirror_mode": {
    "name": "ipython",
    "version": 3
   },
   "file_extension": ".py",
   "mimetype": "text/x-python",
   "name": "python",
   "nbconvert_exporter": "python",
   "pygments_lexer": "ipython3",
   "version": "3.6.10"
  },
  "pycharm": {
   "stem_cell": {
    "cell_type": "raw",
    "metadata": {
     "collapsed": false
    },
    "source": []
   }
  },
  "toc": {
   "base_numbering": 1,
   "nav_menu": {},
   "number_sections": true,
   "sideBar": true,
   "skip_h1_title": false,
   "title_cell": "Table of Contents",
   "title_sidebar": "Contents",
   "toc_cell": false,
   "toc_position": {},
   "toc_section_display": true,
   "toc_window_display": false
  },
  "widgets": {
   "application/vnd.jupyter.widget-state+json": {
    "2cfca0ccf8a34761bd83f9544ae8eb85": {
     "model_module": "@jupyter-widgets/base",
     "model_name": "LayoutModel",
     "state": {
      "_model_module": "@jupyter-widgets/base",
      "_model_module_version": "1.2.0",
      "_model_name": "LayoutModel",
      "_view_count": null,
      "_view_module": "@jupyter-widgets/base",
      "_view_module_version": "1.2.0",
      "_view_name": "LayoutView",
      "align_content": null,
      "align_items": null,
      "align_self": null,
      "border": null,
      "bottom": null,
      "display": null,
      "flex": null,
      "flex_flow": null,
      "grid_area": null,
      "grid_auto_columns": null,
      "grid_auto_flow": null,
      "grid_auto_rows": null,
      "grid_column": null,
      "grid_gap": null,
      "grid_row": null,
      "grid_template_areas": null,
      "grid_template_columns": null,
      "grid_template_rows": null,
      "height": null,
      "justify_content": null,
      "justify_items": null,
      "left": null,
      "margin": null,
      "max_height": null,
      "max_width": null,
      "min_height": null,
      "min_width": null,
      "object_fit": null,
      "object_position": null,
      "order": null,
      "overflow": null,
      "overflow_x": null,
      "overflow_y": null,
      "padding": null,
      "right": null,
      "top": null,
      "visibility": null,
      "width": null
     }
    },
    "7842945875d5462ea05fc6ca0640ba02": {
     "model_module": "@jupyter-widgets/base",
     "model_name": "LayoutModel",
     "state": {
      "_model_module": "@jupyter-widgets/base",
      "_model_module_version": "1.2.0",
      "_model_name": "LayoutModel",
      "_view_count": null,
      "_view_module": "@jupyter-widgets/base",
      "_view_module_version": "1.2.0",
      "_view_name": "LayoutView",
      "align_content": null,
      "align_items": null,
      "align_self": null,
      "border": null,
      "bottom": null,
      "display": null,
      "flex": null,
      "flex_flow": null,
      "grid_area": null,
      "grid_auto_columns": null,
      "grid_auto_flow": null,
      "grid_auto_rows": null,
      "grid_column": null,
      "grid_gap": null,
      "grid_row": null,
      "grid_template_areas": null,
      "grid_template_columns": null,
      "grid_template_rows": null,
      "height": null,
      "justify_content": null,
      "justify_items": null,
      "left": null,
      "margin": null,
      "max_height": null,
      "max_width": null,
      "min_height": null,
      "min_width": null,
      "object_fit": null,
      "object_position": null,
      "order": null,
      "overflow": null,
      "overflow_x": null,
      "overflow_y": null,
      "padding": null,
      "right": null,
      "top": null,
      "visibility": null,
      "width": null
     }
    },
    "7bcad3bd8f574b95abf1b20d18faed55": {
     "model_module": "@jupyter-widgets/output",
     "model_name": "OutputModel",
     "state": {
      "_dom_classes": [],
      "_model_module": "@jupyter-widgets/output",
      "_model_module_version": "1.0.0",
      "_model_name": "OutputModel",
      "_view_count": null,
      "_view_module": "@jupyter-widgets/output",
      "_view_module_version": "1.0.0",
      "_view_name": "OutputView",
      "layout": "IPY_MODEL_d90763d9701c4b3c9458baa65a5b0528",
      "msg_id": "",
      "outputs": [
       {
        "metadata": {
         "tags": []
        },
        "output_type": "display_data",
        "text/html": "<pre style=\"white-space:pre;overflow-x:auto;line-height:normal;font-family:Menlo,'DejaVu Sans Mono',consolas,'Courier New',monospace\">DE... <span style=\"color: #729c1f\">━━━━━━━━━━━━━━━━━━━━━━━━━━━━━━━━━━━━━━━━</span> <span style=\"color: #800080\">100%</span> <span style=\"color: #008080\">0:00:00</span>\n</pre>\n",
        "text/plain": "<rich.jupyter.JupyterRenderable at 0x7f2989b770f0>"
       }
      ]
     }
    },
    "8229c31d877a43c989bc1a82b4e788b6": {
     "model_module": "@jupyter-widgets/output",
     "model_name": "OutputModel",
     "state": {
      "_dom_classes": [],
      "_model_module": "@jupyter-widgets/output",
      "_model_module_version": "1.0.0",
      "_model_name": "OutputModel",
      "_view_count": null,
      "_view_module": "@jupyter-widgets/output",
      "_view_module_version": "1.0.0",
      "_view_name": "OutputView",
      "layout": "IPY_MODEL_7842945875d5462ea05fc6ca0640ba02",
      "msg_id": "",
      "outputs": [
       {
        "metadata": {
         "tags": []
        },
        "output_type": "display_data",
        "text/html": "<pre style=\"white-space:pre;overflow-x:auto;line-height:normal;font-family:Menlo,'DejaVu Sans Mono',consolas,'Courier New',monospace\">DE... <span style=\"color: #729c1f\">━━━━━━━━━━━━━━━━━━━━━━━━━━━━━━━━━━━━━━━━</span> <span style=\"color: #800080\">100%</span> <span style=\"color: #008080\">0:00:00</span>\n</pre>\n",
        "text/plain": "<rich.jupyter.JupyterRenderable at 0x7f2989b1b358>"
       }
      ]
     }
    },
    "b35e683359d44876a4633955ed1a8c17": {
     "model_module": "@jupyter-widgets/output",
     "model_name": "OutputModel",
     "state": {
      "_dom_classes": [],
      "_model_module": "@jupyter-widgets/output",
      "_model_module_version": "1.0.0",
      "_model_name": "OutputModel",
      "_view_count": null,
      "_view_module": "@jupyter-widgets/output",
      "_view_module_version": "1.0.0",
      "_view_name": "OutputView",
      "layout": "IPY_MODEL_2cfca0ccf8a34761bd83f9544ae8eb85",
      "msg_id": "",
      "outputs": [
       {
        "metadata": {
         "tags": []
        },
        "output_type": "display_data",
        "text/html": "<pre style=\"white-space:pre;overflow-x:auto;line-height:normal;font-family:Menlo,'DejaVu Sans Mono',consolas,'Courier New',monospace\">Training... <span style=\"color: #729c1f\">━━━━━━━━━━━━━━━━━━━━━━━━━━━━━━━━━━━━━━━━</span> <span style=\"color: #800080\">100%</span> <span style=\"color: #008080\">0:00:00</span>\n</pre>\n",
        "text/plain": "<rich.jupyter.JupyterRenderable at 0x7f298a9a7860>"
       }
      ]
     }
    },
    "d90763d9701c4b3c9458baa65a5b0528": {
     "model_module": "@jupyter-widgets/base",
     "model_name": "LayoutModel",
     "state": {
      "_model_module": "@jupyter-widgets/base",
      "_model_module_version": "1.2.0",
      "_model_name": "LayoutModel",
      "_view_count": null,
      "_view_module": "@jupyter-widgets/base",
      "_view_module_version": "1.2.0",
      "_view_name": "LayoutView",
      "align_content": null,
      "align_items": null,
      "align_self": null,
      "border": null,
      "bottom": null,
      "display": null,
      "flex": null,
      "flex_flow": null,
      "grid_area": null,
      "grid_auto_columns": null,
      "grid_auto_flow": null,
      "grid_auto_rows": null,
      "grid_column": null,
      "grid_gap": null,
      "grid_row": null,
      "grid_template_areas": null,
      "grid_template_columns": null,
      "grid_template_rows": null,
      "height": null,
      "justify_content": null,
      "justify_items": null,
      "left": null,
      "margin": null,
      "max_height": null,
      "max_width": null,
      "min_height": null,
      "min_width": null,
      "object_fit": null,
      "object_position": null,
      "order": null,
      "overflow": null,
      "overflow_x": null,
      "overflow_y": null,
      "padding": null,
      "right": null,
      "top": null,
      "visibility": null,
      "width": null
     }
    }
   }
  }
 },
 "nbformat": 4,
 "nbformat_minor": 4
}
