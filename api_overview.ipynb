{
 "cells": [
  {
   "cell_type": "markdown",
   "metadata": {
    "id": "y4nH3q_rZ0bI"
   },
   "source": [
    "# Introduction to scvi-tools\n",
    "In this introductory tutorial, we go through the different steps of an scvi-tools workflow.\n",
    "\n",
    "While we focus on scVI in this tutorial, the API is consistent across all models."
   ]
  },
  {
   "cell_type": "code",
   "execution_count": 1,
   "metadata": {
    "id": "LRTA1XIYZ0bN",
    "pycharm": {
     "name": "#%%\n"
    }
   },
   "outputs": [],
   "source": [
    "import sys\n",
    "\n",
    "#if branch is stable, will install via pypi, else will install from source\n",
    "branch = \"stable\"\n",
    "IN_COLAB = \"google.colab\" in sys.modules\n",
    "\n",
    "if IN_COLAB and branch == \"stable\":\n",
    "    !pip install --quiet scvi-tools[tutorials]\n",
    "elif IN_COLAB and branch != \"stable\":\n",
    "    !pip install --quiet --upgrade jsonschema\n",
    "    !pip install --quiet git+https://github.com/yoseflab/scvi-tools@$branch#egg=scvi-tools[tutorials]"
   ]
  },
  {
   "cell_type": "code",
   "execution_count": 2,
   "metadata": {
    "id": "fKv83AN6hcWO"
   },
   "outputs": [],
   "source": [
    "import scvi\n",
    "import scanpy as sc\n",
    "\n",
    "sc.set_figure_params(figsize=(4, 4))"
   ]
  },
  {
   "cell_type": "markdown",
   "metadata": {
    "id": "oPGuX2wPZ0bS"
   },
   "source": [
    "## Loading and preparing data\n",
    "\n",
    "Let us first load the CORTEX dataset described in Zeisel et al. (2015). scvi-tools has many \"built-in\" datasets as well as support for loading arbitrary `.csv`, `.loom`, and `.h5ad` (AnnData) files. Please see our tutorial on [data loading](data_loading.ipynb) for more examples.\n",
    "\n",
    "* Zeisel, Amit, et al. \"Cell types in the mouse cortex and hippocampus revealed by single-cell RNA-seq.\" Science 347.6226 (2015): 1138-1142. "
   ]
  },
  {
   "cell_type": "markdown",
   "metadata": {
    "id": "CKEgQJG3mVJh"
   },
   "source": [
    "<div class=\"alert alert-info\">\n",
    "Important\n",
    "\n",
    "All scvi-tools models require AnnData objects as input. \n",
    "\n",
    "</div>"
   ]
  },
  {
   "cell_type": "code",
   "execution_count": 3,
   "metadata": {
    "colab": {
     "base_uri": "https://localhost:8080/",
     "height": 104
    },
    "id": "NCdp74wHZ0bT",
    "outputId": "39646638-c72c-4150-f200-65a6a0236727"
   },
   "outputs": [
    {
     "name": "stdout",
     "output_type": "stream",
     "text": [
      "\u001b[34mINFO    \u001b[0m File \u001b[35m/home/galen/scvi-tutorials/data/\u001b[0m\u001b[95mexpression.bin\u001b[0m already downloaded              \n",
      "\u001b[34mINFO    \u001b[0m Loading Cortex data from \u001b[35m/home/galen/scvi-tutorials/data/\u001b[0m\u001b[95mexpression.bin\u001b[0m             \n",
      "\u001b[34mINFO    \u001b[0m Finished loading Cortex data                                                        \n"
     ]
    },
    {
     "name": "stderr",
     "output_type": "stream",
     "text": [
      "/home/galen/.pyenv/versions/3.8.3/envs/scvi-dev/lib/python3.8/site-packages/anndata/_core/anndata.py:119: ImplicitModificationWarning: Transforming to str index.\n",
      "  warnings.warn(\"Transforming to str index.\", ImplicitModificationWarning)\n"
     ]
    }
   ],
   "source": [
    "adata = scvi.data.cortex(run_setup_anndata=False)"
   ]
  },
  {
   "cell_type": "markdown",
   "metadata": {
    "id": "USVZNzYFqWby"
   },
   "source": [
    "Now we preprocess the data to remove, for example, genes that are very lowly expressed and other outliers. For these tasks we prefer the [Scanpy preprocessing module](https://scanpy.readthedocs.io/en/stable/api/index.html#module-scanpy.pp)."
   ]
  },
  {
   "cell_type": "code",
   "execution_count": 4,
   "metadata": {
    "colab": {
     "base_uri": "https://localhost:8080/",
     "height": 52
    },
    "id": "6l5MYjxEqTcp",
    "outputId": "5654a1dd-aa24-4a9a-c626-61f9654fc06b"
   },
   "outputs": [],
   "source": [
    "sc.pp.filter_genes(adata, min_counts=3)"
   ]
  },
  {
   "cell_type": "markdown",
   "metadata": {
    "id": "7_JMKQMBqp02"
   },
   "source": [
    "In scRNA-seq analysis, among others, it's popular to normalize the data. These values are not used by scvi-tools, but given their popularity in other tasks as well as for visualization, we store them in the anndata object separately (via the `.raw` attribute)."
   ]
  },
  {
   "cell_type": "markdown",
   "metadata": {
    "id": "hu4Dcg8QnNsz"
   },
   "source": [
    "<div class=\"alert alert-info\">\n",
    "\n",
    "Important\n",
    "\n",
    "Unless otherwise specific, scvi-tools models require the raw counts.\n",
    "\n",
    "</div>"
   ]
  },
  {
   "cell_type": "code",
   "execution_count": 5,
   "metadata": {
    "id": "QXIxM_VgqovL"
   },
   "outputs": [],
   "source": [
    "adata.layers[\"counts\"] = adata.X.copy() # preserve counts\n",
    "sc.pp.normalize_total(adata, target_sum=1e4)\n",
    "sc.pp.log1p(adata)\n",
    "adata.raw = adata # freeze the state in `.raw`"
   ]
  },
  {
   "cell_type": "markdown",
   "metadata": {
    "id": "7ocFplFetywZ"
   },
   "source": [
    "Finally, we perform feature selection, to reduce the number of features (genes in this case) used as input to the scvi-tools model. For best practices of how/when to perform feature selection, please refer to the model-specific tutorial."
   ]
  },
  {
   "cell_type": "code",
   "execution_count": 6,
   "metadata": {
    "colab": {
     "base_uri": "https://localhost:8080/",
     "height": 86
    },
    "id": "j8gBNU_7txZU",
    "outputId": "64c679f3-fd35-47bd-8cf3-2b7b3c42661b"
   },
   "outputs": [
    {
     "name": "stderr",
     "output_type": "stream",
     "text": [
      "/home/galen/.pyenv/versions/3.8.3/envs/scvi-dev/lib/python3.8/site-packages/scanpy/preprocessing/_highly_variable_genes.py:144: FutureWarning: Slicing a positional slice with .loc is not supported, and will raise TypeError in a future version.  Use .loc with labels or .iloc with positions instead.\n",
      "  df.loc[: int(n_top_genes), 'highly_variable'] = True\n"
     ]
    }
   ],
   "source": [
    "sc.pp.highly_variable_genes(\n",
    "    adata, \n",
    "    n_top_genes=2000, \n",
    "    subset=True, \n",
    "    layer=\"counts\", \n",
    "    flavor=\"seurat_v3\"\n",
    ")"
   ]
  },
  {
   "cell_type": "markdown",
   "metadata": {
    "id": "RcUzIOGbrKMf"
   },
   "source": [
    "Now it's time to run `setup_anndata()`, which alerts scvi-tools to the locations of various matrices inside the anndata. It's important to run this function with the correct arguments so scvi-tools is notified that your dataset has batches, annotations, etc. For example, if batches are registered with scvi-tools, the subsequent model will correct for batch effects. See the full documentation for details.\n",
    "\n"
   ]
  },
  {
   "cell_type": "code",
   "execution_count": 7,
   "metadata": {
    "colab": {
     "base_uri": "https://localhost:8080/",
     "height": 191
    },
    "id": "d46OgftwrJhl",
    "outputId": "d45f46d3-f715-4139-d95e-afe78fb1d9aa"
   },
   "outputs": [
    {
     "name": "stdout",
     "output_type": "stream",
     "text": [
      "\u001b[34mINFO    \u001b[0m No batch_key inputted, assuming all cells are same batch                            \n",
      "\u001b[34mINFO    \u001b[0m No label_key inputted, assuming all cells have same label                           \n",
      "\u001b[34mINFO    \u001b[0m Using data from adata.layers\u001b[1m[\u001b[0m\u001b[32m\"counts\"\u001b[0m\u001b[1m]\u001b[0m                                              \n",
      "\u001b[34mINFO    \u001b[0m Computing library size prior per batch                                              \n",
      "\u001b[34mINFO    \u001b[0m Successfully registered anndata object containing \u001b[1;34m3005\u001b[0m cells, \u001b[1;34m2000\u001b[0m vars, \u001b[1;34m1\u001b[0m batches, \n",
      "         \u001b[1;34m1\u001b[0m labels, and \u001b[1;34m0\u001b[0m proteins. Also registered \u001b[1;34m0\u001b[0m extra categorical covariates and \u001b[1;34m0\u001b[0m extra\n",
      "         continuous covariates.                                                              \n",
      "\u001b[34mINFO    \u001b[0m Please do not further modify adata until model is trained.                          \n"
     ]
    }
   ],
   "source": [
    "scvi.data.setup_anndata(adata, layer=\"counts\")"
   ]
  },
  {
   "cell_type": "markdown",
   "metadata": {
    "id": "RVHQRTbGowQC"
   },
   "source": [
    "<div class=\"alert alert-warning\">\n",
    "\n",
    "Warning\n",
    "\n",
    "If the adata is modified after running `setup_anndata`, please run `setup_anndata` again.\n",
    "\n",
    "</div>"
   ]
  },
  {
   "cell_type": "markdown",
   "metadata": {
    "id": "RAWmYvjkZ0bW"
   },
   "source": [
    "## Creating and training a model\n",
    "\n",
    "While we highlight the scVI model here, the API is consistent across all scvi-tools models and is inspired by that of [scikit-learn](https://scikit-learn.org/stable/). For a full list of options, see the scvi [documentation](https://scvi-tools.org)."
   ]
  },
  {
   "cell_type": "code",
   "execution_count": 8,
   "metadata": {
    "id": "xPnlTctkZ0bX"
   },
   "outputs": [],
   "source": [
    "model = scvi.model.SCVI(adata)"
   ]
  },
  {
   "cell_type": "markdown",
   "metadata": {
    "id": "vTQ8KwoNr5_K"
   },
   "source": [
    "We can see an overview of the model by printing it."
   ]
  },
  {
   "cell_type": "code",
   "execution_count": 9,
   "metadata": {
    "colab": {
     "base_uri": "https://localhost:8080/",
     "height": 156
    },
    "id": "ogKNFwVQr392",
    "outputId": "c3d0809a-8a98-4138-be05-afd494c81b65"
   },
   "outputs": [
    {
     "data": {
      "text/html": [
       "<pre style=\"white-space:pre;overflow-x:auto;line-height:normal;font-family:Menlo,'DejaVu Sans Mono',consolas,'Courier New',monospace\">SCVI Model with the following params: \n",
       "n_hidden: <span style=\"color: #000080; font-weight: bold\">128</span>, n_latent: <span style=\"color: #000080; font-weight: bold\">10</span>, n_layers: <span style=\"color: #000080; font-weight: bold\">1</span>, dropout_rate: <span style=\"color: #000080; font-weight: bold\">0.1</span>, dispersion: gene, \n",
       "gene_likelihood: zinb, latent_distribution: normal\n",
       "Training status: Not Trained\n",
       "</pre>\n"
      ],
      "text/plain": [
       "<rich.jupyter.JupyterRenderable at 0x7f87b1b774f0>"
      ]
     },
     "metadata": {},
     "output_type": "display_data"
    },
    {
     "data": {
      "text/html": [
       "<pre style=\"white-space:pre;overflow-x:auto;line-height:normal;font-family:Menlo,'DejaVu Sans Mono',consolas,'Courier New',monospace\">\n",
       "\n",
       "To print summary of associated AnnData, use: <span style=\"color: #af00d7\">scvi.data.view_anndata_setup(model.adata)</span>\n",
       "</pre>\n"
      ],
      "text/plain": [
       "<rich.jupyter.JupyterRenderable at 0x7f87b1b775e0>"
      ]
     },
     "metadata": {},
     "output_type": "display_data"
    },
    {
     "data": {
      "text/plain": []
     },
     "execution_count": 9,
     "metadata": {},
     "output_type": "execute_result"
    }
   ],
   "source": [
    "model"
   ]
  },
  {
   "cell_type": "code",
   "execution_count": 10,
   "metadata": {
    "colab": {
     "base_uri": "https://localhost:8080/",
     "height": 86
    },
    "id": "2DT6Im69ZPFu",
    "outputId": "c0305a64-c263-4bb7-f096-3666b4abb67a"
   },
   "outputs": [
    {
     "name": "stderr",
     "output_type": "stream",
     "text": [
      "GPU available: True, used: True\n",
      "TPU available: None, using: 0 TPU cores\n"
     ]
    },
    {
     "name": "stdout",
     "output_type": "stream",
     "text": [
      "Epoch 400/400: 100%|██████████| 400/400 [00:56<00:00,  7.04it/s, loss=922, v_num=1]   \n"
     ]
    }
   ],
   "source": [
    "model.train()"
   ]
  },
  {
   "cell_type": "markdown",
   "metadata": {
    "id": "3jRIM0NRa03N"
   },
   "source": [
    "### Saving and loading\n",
    "\n",
    "Saving consists of saving the model neural network weights, as well as parameters used to initialize the model."
   ]
  },
  {
   "cell_type": "code",
   "execution_count": 11,
   "metadata": {
    "id": "MfaDMe3tayj_"
   },
   "outputs": [],
   "source": [
    "model.save(\"my_model/\")"
   ]
  },
  {
   "cell_type": "code",
   "execution_count": 13,
   "metadata": {
    "colab": {
     "base_uri": "https://localhost:8080/",
     "height": 173
    },
    "id": "xYIQnbm1a-wF",
    "outputId": "802a3e2e-c043-4b78-cf67-e3dffc76aa56"
   },
   "outputs": [
    {
     "name": "stdout",
     "output_type": "stream",
     "text": [
      "\u001b[34mINFO    \u001b[0m Using data from adata.layers\u001b[1m[\u001b[0m\u001b[32m\"counts\"\u001b[0m\u001b[1m]\u001b[0m                                              \n",
      "\u001b[34mINFO    \u001b[0m Computing library size prior per batch                                              \n",
      "\u001b[34mINFO    \u001b[0m Registered keys:\u001b[1m[\u001b[0m\u001b[32m'X'\u001b[0m, \u001b[32m'batch_indices'\u001b[0m, \u001b[32m'local_l_mean'\u001b[0m, \u001b[32m'local_l_var'\u001b[0m, \u001b[32m'labels'\u001b[0m\u001b[1m]\u001b[0m     \n",
      "\u001b[34mINFO    \u001b[0m Successfully registered anndata object containing \u001b[1;34m3005\u001b[0m cells, \u001b[1;34m2000\u001b[0m vars, \u001b[1;34m1\u001b[0m batches, \n",
      "         \u001b[1;34m1\u001b[0m labels, and \u001b[1;34m0\u001b[0m proteins. Also registered \u001b[1;34m0\u001b[0m extra categorical covariates and \u001b[1;34m0\u001b[0m extra\n",
      "         continuous covariates.                                                              \n"
     ]
    }
   ],
   "source": [
    "model = scvi.model.SCVI.load(\"my_model/\", adata, use_gpu=True)"
   ]
  },
  {
   "cell_type": "markdown",
   "metadata": {
    "id": "iVy8Eo1-Z0be"
   },
   "source": [
    "## Obtaining model outputs"
   ]
  },
  {
   "cell_type": "code",
   "execution_count": 14,
   "metadata": {
    "id": "R4FwiBpUtQJa"
   },
   "outputs": [],
   "source": [
    "latent = model.get_latent_representation()"
   ]
  },
  {
   "cell_type": "markdown",
   "metadata": {
    "id": "Cgnqal7kvArn"
   },
   "source": [
    "It's often useful to store the outputs of scvi-tools back into the original anndata, as it permits interoperability with Scanpy."
   ]
  },
  {
   "cell_type": "code",
   "execution_count": 15,
   "metadata": {
    "id": "nXFAjVazvHj7"
   },
   "outputs": [],
   "source": [
    "adata.obsm[\"X_scVI\"] = latent"
   ]
  },
  {
   "cell_type": "markdown",
   "metadata": {
    "id": "merbABa3u8rg"
   },
   "source": [
    "The `model.get...()` functions default to using the anndata that was used to initialize the model. It's possible to also query a subset of the anndata, or even use a completely independent anndata object as long as the anndata is organized in an equivalent fashion."
   ]
  },
  {
   "cell_type": "code",
   "execution_count": 16,
   "metadata": {
    "colab": {
     "base_uri": "https://localhost:8080/",
     "height": 69
    },
    "id": "kHznd-ygvNt5",
    "outputId": "8e5b880a-fc0c-4dec-a617-41ca09093719"
   },
   "outputs": [
    {
     "name": "stdout",
     "output_type": "stream",
     "text": [
      "\u001b[34mINFO    \u001b[0m Received view of anndata, making copy.                                              \n"
     ]
    }
   ],
   "source": [
    "adata_subset = adata[adata.obs.cell_type == \"interneurons\"]\n",
    "latent_subset = model.get_latent_representation(adata_subset)"
   ]
  },
  {
   "cell_type": "code",
   "execution_count": 17,
   "metadata": {
    "colab": {
     "base_uri": "https://localhost:8080/",
     "height": 223
    },
    "id": "NCUXYiZov0uH",
    "outputId": "0d3be1a0-19f5-4b95-9a8f-0d350742bb0b"
   },
   "outputs": [
    {
     "name": "stdout",
     "output_type": "stream",
     "text": [
      "\u001b[34mINFO    \u001b[0m Received view of anndata, making copy.                                              \n"
     ]
    },
    {
     "data": {
      "text/html": [
       "<div>\n",
       "<style scoped>\n",
       "    .dataframe tbody tr th:only-of-type {\n",
       "        vertical-align: middle;\n",
       "    }\n",
       "\n",
       "    .dataframe tbody tr th {\n",
       "        vertical-align: top;\n",
       "    }\n",
       "\n",
       "    .dataframe thead th {\n",
       "        text-align: right;\n",
       "    }\n",
       "</style>\n",
       "<table border=\"1\" class=\"dataframe\">\n",
       "  <thead>\n",
       "    <tr style=\"text-align: right;\">\n",
       "      <th></th>\n",
       "      <th>Tshz1</th>\n",
       "      <th>2310042E22Rik</th>\n",
       "      <th>Sema3c</th>\n",
       "      <th>Jam2</th>\n",
       "      <th>Klhl13</th>\n",
       "    </tr>\n",
       "  </thead>\n",
       "  <tbody>\n",
       "    <tr>\n",
       "      <th>0</th>\n",
       "      <td>41.303200</td>\n",
       "      <td>3.976596</td>\n",
       "      <td>211.051941</td>\n",
       "      <td>31.709650</td>\n",
       "      <td>147.578094</td>\n",
       "    </tr>\n",
       "    <tr>\n",
       "      <th>1</th>\n",
       "      <td>37.453648</td>\n",
       "      <td>7.174235</td>\n",
       "      <td>92.444031</td>\n",
       "      <td>16.159988</td>\n",
       "      <td>152.471329</td>\n",
       "    </tr>\n",
       "    <tr>\n",
       "      <th>2</th>\n",
       "      <td>40.208969</td>\n",
       "      <td>26.668987</td>\n",
       "      <td>429.802521</td>\n",
       "      <td>104.917862</td>\n",
       "      <td>202.207214</td>\n",
       "    </tr>\n",
       "    <tr>\n",
       "      <th>3</th>\n",
       "      <td>13.977002</td>\n",
       "      <td>18.678553</td>\n",
       "      <td>129.453674</td>\n",
       "      <td>23.240616</td>\n",
       "      <td>179.076141</td>\n",
       "    </tr>\n",
       "    <tr>\n",
       "      <th>4</th>\n",
       "      <td>81.036156</td>\n",
       "      <td>6.842832</td>\n",
       "      <td>157.745468</td>\n",
       "      <td>27.477327</td>\n",
       "      <td>172.001938</td>\n",
       "    </tr>\n",
       "  </tbody>\n",
       "</table>\n",
       "</div>"
      ],
      "text/plain": [
       "       Tshz1  2310042E22Rik      Sema3c        Jam2      Klhl13\n",
       "0  41.303200       3.976596  211.051941   31.709650  147.578094\n",
       "1  37.453648       7.174235   92.444031   16.159988  152.471329\n",
       "2  40.208969      26.668987  429.802521  104.917862  202.207214\n",
       "3  13.977002      18.678553  129.453674   23.240616  179.076141\n",
       "4  81.036156       6.842832  157.745468   27.477327  172.001938"
      ]
     },
     "execution_count": 17,
     "metadata": {},
     "output_type": "execute_result"
    }
   ],
   "source": [
    "denoised = model.get_normalized_expression(adata_subset, library_size=10e4)\n",
    "denoised.iloc[:5, :5]"
   ]
  },
  {
   "cell_type": "markdown",
   "metadata": {
    "id": "E3jkmBUa6L_N"
   },
   "source": [
    "Let's store the normalized values back in the anndata."
   ]
  },
  {
   "cell_type": "code",
   "execution_count": 18,
   "metadata": {
    "id": "pa4xQzkv6Ov_"
   },
   "outputs": [],
   "source": [
    "adata.layers[\"scvi_normalized\"] = model.get_normalized_expression(\n",
    "    library_size=10e4\n",
    ")"
   ]
  },
  {
   "cell_type": "markdown",
   "metadata": {
    "id": "KRbBVO2RZ0bk"
   },
   "source": [
    "## Interoperability with Scanpy"
   ]
  },
  {
   "cell_type": "markdown",
   "metadata": {
    "id": "Vbo5AUQ5Z0bk"
   },
   "source": [
    "Scanpy is a powerful python library for visualization and downstream analysis of scRNA-seq data. We show here how to feed the objects produced by scvi-tools into a scanpy workflow."
   ]
  },
  {
   "cell_type": "code",
   "execution_count": 19,
   "metadata": {
    "id": "AAABjrJswQ9E"
   },
   "outputs": [],
   "source": [
    "# use scVI latent space for UMAP generation\n",
    "sc.pp.neighbors(adata, use_rep=\"X_scVI\")\n",
    "sc.tl.umap(adata, min_dist=0.2)"
   ]
  },
  {
   "cell_type": "code",
   "execution_count": 20,
   "metadata": {
    "colab": {
     "base_uri": "https://localhost:8080/",
     "height": 363
    },
    "id": "rVpefV7QZ0bp",
    "outputId": "eddd9cc9-7a3f-4c47-87e6-5fc4ea3cb2ed"
   },
   "outputs": [
    {
     "name": "stderr",
     "output_type": "stream",
     "text": [
      "... storing 'precise_labels' as categorical\n",
      "... storing 'cell_type' as categorical\n"
     ]
    },
    {
     "data": {
      "image/png": "[encoded data removed]",
      "text/plain": [
       "<Figure size 320x320 with 1 Axes>"
      ]
     },
     "metadata": {},
     "output_type": "display_data"
    }
   ],
   "source": [
    "sc.pl.umap(\n",
    "    adata, \n",
    "    color=\"cell_type\", \n",
    "    frameon=False,\n",
    ")"
   ]
  },
  {
   "cell_type": "markdown",
   "metadata": {
    "id": "qx3Yu04GZ0br"
   },
   "source": [
    "The user will note that we imported curated labels from the original publication. Our interface with scanpy makes it easy to cluster the data with scanpy from scVI's latent space and then reinject them into scVI (e.g., for differential expression)."
   ]
  },
  {
   "cell_type": "code",
   "execution_count": 21,
   "metadata": {
    "id": "ME5yLdHtxHsb"
   },
   "outputs": [],
   "source": [
    "# neighbors were already computed using scVI\n",
    "sc.tl.leiden(adata, key_added=\"leiden_scVI\")"
   ]
  },
  {
   "cell_type": "markdown",
   "metadata": {
    "id": "1yDDpmrcZ0bs"
   },
   "source": [
    "## Differential expression\n",
    "We can also use many scvi-tools models for differential expression. For further details on the methods underlying these functions as well as additional options, please see TODO."
   ]
  },
  {
   "cell_type": "code",
   "execution_count": 22,
   "metadata": {
    "colab": {
     "base_uri": "https://localhost:8080/",
     "height": 156
    },
    "id": "zaXI-F71yK6O",
    "outputId": "a2f81269-5e31-4adf-87a5-05cbf2cd0c0e"
   },
   "outputs": [
    {
     "data": {
      "text/plain": [
       "0    interneurons\n",
       "1    interneurons\n",
       "2    interneurons\n",
       "3    interneurons\n",
       "4    interneurons\n",
       "Name: cell_type, dtype: category\n",
       "Categories (7, object): ['astrocytes_ependymal', 'endothelial-mural', 'interneurons', 'microglia', 'oligodendrocytes', 'pyramidal CA1', 'pyramidal SS']"
      ]
     },
     "execution_count": 22,
     "metadata": {},
     "output_type": "execute_result"
    }
   ],
   "source": [
    "adata.obs.cell_type.head()"
   ]
  },
  {
   "cell_type": "markdown",
   "metadata": {
    "id": "K9zGxVjkyW8i"
   },
   "source": [
    "For example, a 1-vs-1 DE test is as simple as:"
   ]
  },
  {
   "cell_type": "code",
   "execution_count": 23,
   "metadata": {
    "colab": {
     "base_uri": "https://localhost:8080/",
     "height": 223
    },
    "id": "3eUeH87Vxd_O",
    "outputId": "9537fd7e-82d8-4bff-dc78-d0db66dca8ee"
   },
   "outputs": [
    {
     "name": "stdout",
     "output_type": "stream",
     "text": [
      "DE...: 100%|██████████| 1/1 [00:01<00:00,  1.46s/it]\n"
     ]
    },
    {
     "data": {
      "text/html": [
       "<div>\n",
       "<style scoped>\n",
       "    .dataframe tbody tr th:only-of-type {\n",
       "        vertical-align: middle;\n",
       "    }\n",
       "\n",
       "    .dataframe tbody tr th {\n",
       "        vertical-align: top;\n",
       "    }\n",
       "\n",
       "    .dataframe thead th {\n",
       "        text-align: right;\n",
       "    }\n",
       "</style>\n",
       "<table border=\"1\" class=\"dataframe\">\n",
       "  <thead>\n",
       "    <tr style=\"text-align: right;\">\n",
       "      <th></th>\n",
       "      <th>proba_de</th>\n",
       "      <th>proba_not_de</th>\n",
       "      <th>bayes_factor</th>\n",
       "      <th>scale1</th>\n",
       "      <th>scale2</th>\n",
       "      <th>lfc_mean</th>\n",
       "      <th>lfc_median</th>\n",
       "      <th>lfc_std</th>\n",
       "      <th>lfc_min</th>\n",
       "      <th>lfc_max</th>\n",
       "      <th>raw_mean1</th>\n",
       "      <th>raw_mean2</th>\n",
       "      <th>non_zeros_proportion1</th>\n",
       "      <th>non_zeros_proportion2</th>\n",
       "      <th>raw_normalized_mean1</th>\n",
       "      <th>raw_normalized_mean2</th>\n",
       "      <th>is_de_fdr_0.05</th>\n",
       "      <th>comparison</th>\n",
       "    </tr>\n",
       "  </thead>\n",
       "  <tbody>\n",
       "    <tr>\n",
       "      <th>Tspan13</th>\n",
       "      <td>1.0000</td>\n",
       "      <td>0.0000</td>\n",
       "      <td>18.420681</td>\n",
       "      <td>0.000502</td>\n",
       "      <td>0.011682</td>\n",
       "      <td>-4.777474</td>\n",
       "      <td>-4.887332</td>\n",
       "      <td>1.069861</td>\n",
       "      <td>-7.420662</td>\n",
       "      <td>0.387492</td>\n",
       "      <td>0.531707</td>\n",
       "      <td>22.612354</td>\n",
       "      <td>0.193902</td>\n",
       "      <td>0.996805</td>\n",
       "      <td>2.175642</td>\n",
       "      <td>138.721069</td>\n",
       "      <td>True</td>\n",
       "      <td>oligodendrocytes vs pyramidal CA1</td>\n",
       "    </tr>\n",
       "    <tr>\n",
       "      <th>Icam5</th>\n",
       "      <td>1.0000</td>\n",
       "      <td>0.0000</td>\n",
       "      <td>18.420681</td>\n",
       "      <td>0.000111</td>\n",
       "      <td>0.002814</td>\n",
       "      <td>-5.397868</td>\n",
       "      <td>-5.598490</td>\n",
       "      <td>1.535789</td>\n",
       "      <td>-9.432892</td>\n",
       "      <td>0.564201</td>\n",
       "      <td>0.115854</td>\n",
       "      <td>4.640043</td>\n",
       "      <td>0.080488</td>\n",
       "      <td>0.926518</td>\n",
       "      <td>0.539940</td>\n",
       "      <td>27.065977</td>\n",
       "      <td>True</td>\n",
       "      <td>oligodendrocytes vs pyramidal CA1</td>\n",
       "    </tr>\n",
       "    <tr>\n",
       "      <th>Mmd</th>\n",
       "      <td>0.9998</td>\n",
       "      <td>0.0002</td>\n",
       "      <td>8.516943</td>\n",
       "      <td>0.000218</td>\n",
       "      <td>0.004246</td>\n",
       "      <td>-4.755033</td>\n",
       "      <td>-4.850209</td>\n",
       "      <td>1.328658</td>\n",
       "      <td>-9.214872</td>\n",
       "      <td>-0.160816</td>\n",
       "      <td>0.229268</td>\n",
       "      <td>7.690096</td>\n",
       "      <td>0.137805</td>\n",
       "      <td>0.977636</td>\n",
       "      <td>1.022028</td>\n",
       "      <td>45.961216</td>\n",
       "      <td>True</td>\n",
       "      <td>oligodendrocytes vs pyramidal CA1</td>\n",
       "    </tr>\n",
       "    <tr>\n",
       "      <th>Neurod6</th>\n",
       "      <td>0.9998</td>\n",
       "      <td>0.0002</td>\n",
       "      <td>8.516943</td>\n",
       "      <td>0.000456</td>\n",
       "      <td>0.010486</td>\n",
       "      <td>-4.852862</td>\n",
       "      <td>-4.927176</td>\n",
       "      <td>1.407618</td>\n",
       "      <td>-9.512478</td>\n",
       "      <td>1.067875</td>\n",
       "      <td>0.342683</td>\n",
       "      <td>14.894568</td>\n",
       "      <td>0.113415</td>\n",
       "      <td>0.995740</td>\n",
       "      <td>1.559863</td>\n",
       "      <td>100.624176</td>\n",
       "      <td>True</td>\n",
       "      <td>oligodendrocytes vs pyramidal CA1</td>\n",
       "    </tr>\n",
       "    <tr>\n",
       "      <th>Gria1</th>\n",
       "      <td>0.9998</td>\n",
       "      <td>0.0002</td>\n",
       "      <td>8.516943</td>\n",
       "      <td>0.000534</td>\n",
       "      <td>0.014278</td>\n",
       "      <td>-5.320074</td>\n",
       "      <td>-5.458340</td>\n",
       "      <td>1.343921</td>\n",
       "      <td>-8.785698</td>\n",
       "      <td>1.138946</td>\n",
       "      <td>0.631707</td>\n",
       "      <td>23.487753</td>\n",
       "      <td>0.190244</td>\n",
       "      <td>1.000000</td>\n",
       "      <td>2.820808</td>\n",
       "      <td>144.921066</td>\n",
       "      <td>True</td>\n",
       "      <td>oligodendrocytes vs pyramidal CA1</td>\n",
       "    </tr>\n",
       "  </tbody>\n",
       "</table>\n",
       "</div>"
      ],
      "text/plain": [
       "         proba_de  proba_not_de  bayes_factor    scale1    scale2  lfc_mean  \\\n",
       "Tspan13    1.0000        0.0000     18.420681  0.000502  0.011682 -4.777474   \n",
       "Icam5      1.0000        0.0000     18.420681  0.000111  0.002814 -5.397868   \n",
       "Mmd        0.9998        0.0002      8.516943  0.000218  0.004246 -4.755033   \n",
       "Neurod6    0.9998        0.0002      8.516943  0.000456  0.010486 -4.852862   \n",
       "Gria1      0.9998        0.0002      8.516943  0.000534  0.014278 -5.320074   \n",
       "\n",
       "         lfc_median   lfc_std   lfc_min   lfc_max  raw_mean1  raw_mean2  \\\n",
       "Tspan13   -4.887332  1.069861 -7.420662  0.387492   0.531707  22.612354   \n",
       "Icam5     -5.598490  1.535789 -9.432892  0.564201   0.115854   4.640043   \n",
       "Mmd       -4.850209  1.328658 -9.214872 -0.160816   0.229268   7.690096   \n",
       "Neurod6   -4.927176  1.407618 -9.512478  1.067875   0.342683  14.894568   \n",
       "Gria1     -5.458340  1.343921 -8.785698  1.138946   0.631707  23.487753   \n",
       "\n",
       "         non_zeros_proportion1  non_zeros_proportion2  raw_normalized_mean1  \\\n",
       "Tspan13               0.193902               0.996805              2.175642   \n",
       "Icam5                 0.080488               0.926518              0.539940   \n",
       "Mmd                   0.137805               0.977636              1.022028   \n",
       "Neurod6               0.113415               0.995740              1.559863   \n",
       "Gria1                 0.190244               1.000000              2.820808   \n",
       "\n",
       "         raw_normalized_mean2  is_de_fdr_0.05  \\\n",
       "Tspan13            138.721069            True   \n",
       "Icam5               27.065977            True   \n",
       "Mmd                 45.961216            True   \n",
       "Neurod6            100.624176            True   \n",
       "Gria1              144.921066            True   \n",
       "\n",
       "                                comparison  \n",
       "Tspan13  oligodendrocytes vs pyramidal CA1  \n",
       "Icam5    oligodendrocytes vs pyramidal CA1  \n",
       "Mmd      oligodendrocytes vs pyramidal CA1  \n",
       "Neurod6  oligodendrocytes vs pyramidal CA1  \n",
       "Gria1    oligodendrocytes vs pyramidal CA1  "
      ]
     },
     "execution_count": 23,
     "metadata": {},
     "output_type": "execute_result"
    }
   ],
   "source": [
    "de_df = model.differential_expression(\n",
    "    groupby=\"cell_type\", \n",
    "    group1=\"oligodendrocytes\", \n",
    "    group2=\"pyramidal CA1\"\n",
    ")\n",
    "de_df.head()"
   ]
  },
  {
   "cell_type": "markdown",
   "metadata": {
    "id": "Sleqtm9gyn--"
   },
   "source": [
    "We can also do a 1-vs-all DE test, which compares each cell type with the rest of the dataset:"
   ]
  },
  {
   "cell_type": "code",
   "execution_count": 24,
   "metadata": {
    "colab": {
     "base_uri": "https://localhost:8080/",
     "height": 223
    },
    "id": "V_liqTCeyne6",
    "outputId": "d8f02e18-b786-4101-e0a8-c4d7bf2575e9"
   },
   "outputs": [
    {
     "name": "stdout",
     "output_type": "stream",
     "text": [
      "DE...: 100%|██████████| 7/7 [00:10<00:00,  1.47s/it]\n"
     ]
    },
    {
     "data": {
      "text/html": [
       "<div>\n",
       "<style scoped>\n",
       "    .dataframe tbody tr th:only-of-type {\n",
       "        vertical-align: middle;\n",
       "    }\n",
       "\n",
       "    .dataframe tbody tr th {\n",
       "        vertical-align: top;\n",
       "    }\n",
       "\n",
       "    .dataframe thead th {\n",
       "        text-align: right;\n",
       "    }\n",
       "</style>\n",
       "<table border=\"1\" class=\"dataframe\">\n",
       "  <thead>\n",
       "    <tr style=\"text-align: right;\">\n",
       "      <th></th>\n",
       "      <th>proba_de</th>\n",
       "      <th>proba_not_de</th>\n",
       "      <th>bayes_factor</th>\n",
       "      <th>scale1</th>\n",
       "      <th>scale2</th>\n",
       "      <th>lfc_mean</th>\n",
       "      <th>lfc_median</th>\n",
       "      <th>lfc_std</th>\n",
       "      <th>lfc_min</th>\n",
       "      <th>lfc_max</th>\n",
       "      <th>raw_mean1</th>\n",
       "      <th>raw_mean2</th>\n",
       "      <th>non_zeros_proportion1</th>\n",
       "      <th>non_zeros_proportion2</th>\n",
       "      <th>raw_normalized_mean1</th>\n",
       "      <th>raw_normalized_mean2</th>\n",
       "      <th>is_de_fdr_0.05</th>\n",
       "      <th>comparison</th>\n",
       "    </tr>\n",
       "  </thead>\n",
       "  <tbody>\n",
       "    <tr>\n",
       "      <th>Aqp4</th>\n",
       "      <td>0.9954</td>\n",
       "      <td>0.0046</td>\n",
       "      <td>5.377086</td>\n",
       "      <td>0.009861</td>\n",
       "      <td>0.000427</td>\n",
       "      <td>5.458711</td>\n",
       "      <td>5.584130</td>\n",
       "      <td>2.052594</td>\n",
       "      <td>-2.440942</td>\n",
       "      <td>12.090679</td>\n",
       "      <td>20.973215</td>\n",
       "      <td>0.598706</td>\n",
       "      <td>0.937500</td>\n",
       "      <td>0.112549</td>\n",
       "      <td>120.902222</td>\n",
       "      <td>2.687396</td>\n",
       "      <td>True</td>\n",
       "      <td>astrocytes_ependymal vs Rest</td>\n",
       "    </tr>\n",
       "    <tr>\n",
       "      <th>Cml5</th>\n",
       "      <td>0.9940</td>\n",
       "      <td>0.0060</td>\n",
       "      <td>5.109976</td>\n",
       "      <td>0.000443</td>\n",
       "      <td>0.000005</td>\n",
       "      <td>8.764356</td>\n",
       "      <td>9.038560</td>\n",
       "      <td>4.563017</td>\n",
       "      <td>-12.345846</td>\n",
       "      <td>25.237932</td>\n",
       "      <td>0.156250</td>\n",
       "      <td>0.005034</td>\n",
       "      <td>0.062500</td>\n",
       "      <td>0.003955</td>\n",
       "      <td>1.048622</td>\n",
       "      <td>0.019568</td>\n",
       "      <td>True</td>\n",
       "      <td>astrocytes_ependymal vs Rest</td>\n",
       "    </tr>\n",
       "    <tr>\n",
       "      <th>Gjb6</th>\n",
       "      <td>0.9918</td>\n",
       "      <td>0.0082</td>\n",
       "      <td>4.795386</td>\n",
       "      <td>0.001675</td>\n",
       "      <td>0.000129</td>\n",
       "      <td>5.484320</td>\n",
       "      <td>5.398055</td>\n",
       "      <td>2.914207</td>\n",
       "      <td>-2.997370</td>\n",
       "      <td>16.689735</td>\n",
       "      <td>2.424107</td>\n",
       "      <td>0.169723</td>\n",
       "      <td>0.593750</td>\n",
       "      <td>0.059331</td>\n",
       "      <td>16.779287</td>\n",
       "      <td>0.851303</td>\n",
       "      <td>True</td>\n",
       "      <td>astrocytes_ependymal vs Rest</td>\n",
       "    </tr>\n",
       "    <tr>\n",
       "      <th>Gja1</th>\n",
       "      <td>0.9918</td>\n",
       "      <td>0.0082</td>\n",
       "      <td>4.795386</td>\n",
       "      <td>0.008536</td>\n",
       "      <td>0.000414</td>\n",
       "      <td>6.756437</td>\n",
       "      <td>6.978162</td>\n",
       "      <td>2.965663</td>\n",
       "      <td>-4.877419</td>\n",
       "      <td>20.202230</td>\n",
       "      <td>12.705358</td>\n",
       "      <td>0.822006</td>\n",
       "      <td>0.977679</td>\n",
       "      <td>0.186624</td>\n",
       "      <td>88.167435</td>\n",
       "      <td>3.939137</td>\n",
       "      <td>True</td>\n",
       "      <td>astrocytes_ependymal vs Rest</td>\n",
       "    </tr>\n",
       "    <tr>\n",
       "      <th>Slc1a3</th>\n",
       "      <td>0.9918</td>\n",
       "      <td>0.0082</td>\n",
       "      <td>4.795386</td>\n",
       "      <td>0.017162</td>\n",
       "      <td>0.001042</td>\n",
       "      <td>4.842328</td>\n",
       "      <td>5.022601</td>\n",
       "      <td>1.921630</td>\n",
       "      <td>-3.946171</td>\n",
       "      <td>9.792637</td>\n",
       "      <td>30.156250</td>\n",
       "      <td>1.977346</td>\n",
       "      <td>0.982143</td>\n",
       "      <td>0.281194</td>\n",
       "      <td>211.173355</td>\n",
       "      <td>9.182883</td>\n",
       "      <td>True</td>\n",
       "      <td>astrocytes_ependymal vs Rest</td>\n",
       "    </tr>\n",
       "  </tbody>\n",
       "</table>\n",
       "</div>"
      ],
      "text/plain": [
       "        proba_de  proba_not_de  bayes_factor    scale1    scale2  lfc_mean  \\\n",
       "Aqp4      0.9954        0.0046      5.377086  0.009861  0.000427  5.458711   \n",
       "Cml5      0.9940        0.0060      5.109976  0.000443  0.000005  8.764356   \n",
       "Gjb6      0.9918        0.0082      4.795386  0.001675  0.000129  5.484320   \n",
       "Gja1      0.9918        0.0082      4.795386  0.008536  0.000414  6.756437   \n",
       "Slc1a3    0.9918        0.0082      4.795386  0.017162  0.001042  4.842328   \n",
       "\n",
       "        lfc_median   lfc_std    lfc_min    lfc_max  raw_mean1  raw_mean2  \\\n",
       "Aqp4      5.584130  2.052594  -2.440942  12.090679  20.973215   0.598706   \n",
       "Cml5      9.038560  4.563017 -12.345846  25.237932   0.156250   0.005034   \n",
       "Gjb6      5.398055  2.914207  -2.997370  16.689735   2.424107   0.169723   \n",
       "Gja1      6.978162  2.965663  -4.877419  20.202230  12.705358   0.822006   \n",
       "Slc1a3    5.022601  1.921630  -3.946171   9.792637  30.156250   1.977346   \n",
       "\n",
       "        non_zeros_proportion1  non_zeros_proportion2  raw_normalized_mean1  \\\n",
       "Aqp4                 0.937500               0.112549            120.902222   \n",
       "Cml5                 0.062500               0.003955              1.048622   \n",
       "Gjb6                 0.593750               0.059331             16.779287   \n",
       "Gja1                 0.977679               0.186624             88.167435   \n",
       "Slc1a3               0.982143               0.281194            211.173355   \n",
       "\n",
       "        raw_normalized_mean2  is_de_fdr_0.05                    comparison  \n",
       "Aqp4                2.687396            True  astrocytes_ependymal vs Rest  \n",
       "Cml5                0.019568            True  astrocytes_ependymal vs Rest  \n",
       "Gjb6                0.851303            True  astrocytes_ependymal vs Rest  \n",
       "Gja1                3.939137            True  astrocytes_ependymal vs Rest  \n",
       "Slc1a3              9.182883            True  astrocytes_ependymal vs Rest  "
      ]
     },
     "execution_count": 24,
     "metadata": {},
     "output_type": "execute_result"
    }
   ],
   "source": [
    "de_df = model.differential_expression(\n",
    "    groupby=\"cell_type\", \n",
    ")\n",
    "de_df.head()"
   ]
  },
  {
   "cell_type": "markdown",
   "metadata": {
    "id": "LubZQGeG00A4"
   },
   "source": [
    "We now extract top markers for each cluster using the DE results."
   ]
  },
  {
   "cell_type": "code",
   "execution_count": 25,
   "metadata": {
    "id": "NSss20tkyV7l"
   },
   "outputs": [],
   "source": [
    "markers = {}\n",
    "cats = adata.obs.cell_type.cat.categories\n",
    "for i, c in enumerate(cats):\n",
    "    cid = \"{} vs Rest\".format(c)\n",
    "    cell_type_df = de_df.loc[de_df.comparison == cid]\n",
    "    cell_type_df = cell_type_df.sort_values(\"lfc_mean\", ascending=False)\n",
    "\n",
    "    cell_type_df = cell_type_df[cell_type_df.lfc_mean > 0]\n",
    "\n",
    "    cell_type_df = cell_type_df[cell_type_df[\"bayes_factor\"] > 3]\n",
    "    cell_type_df = cell_type_df[cell_type_df[\"non_zeros_proportion1\"] > 0.1]\n",
    "\n",
    "    markers[c] = cell_type_df.index.tolist()[:3]"
   ]
  },
  {
   "cell_type": "code",
   "execution_count": 26,
   "metadata": {
    "id": "j0j7HlUizL4r"
   },
   "outputs": [],
   "source": [
    "sc.tl.dendrogram(adata, groupby=\"cell_type\", use_rep=\"X_scVI\")"
   ]
  },
  {
   "cell_type": "code",
   "execution_count": 27,
   "metadata": {
    "colab": {
     "base_uri": "https://localhost:8080/",
     "height": 743
    },
    "id": "SEufcjlGzGV1",
    "outputId": "650dc813-b237-4399-bec9-de1f51bc729d"
   },
   "outputs": [
    {
     "data": {
      "image/png": "[encoded data removed]",
      "text/plain": [
       "<Figure size 327.2x732 with 6 Axes>"
      ]
     },
     "metadata": {
      "needs_background": "light"
     },
     "output_type": "display_data"
    }
   ],
   "source": [
    "sc.pl.dotplot(\n",
    "    adata, \n",
    "    markers, \n",
    "    groupby='cell_type', \n",
    "    dendrogram=True, \n",
    "    color_map=\"Blues\",\n",
    "    swap_axes=True,\n",
    "    use_raw=True,\n",
    "    standard_scale=\"var\",\n",
    ")"
   ]
  },
  {
   "cell_type": "markdown",
   "metadata": {
    "id": "0FOGu9jd6wGq"
   },
   "source": [
    "We can also visualize the scVI normalized gene expression values with the `layer` option."
   ]
  },
  {
   "cell_type": "code",
   "execution_count": 28,
   "metadata": {
    "colab": {
     "base_uri": "https://localhost:8080/",
     "height": 749
    },
    "id": "LuRDlmTg6YFL",
    "outputId": "3f61676d-155a-4bae-90e8-e4b7286104dd"
   },
   "outputs": [
    {
     "name": "stderr",
     "output_type": "stream",
     "text": [
      "/home/galen/.pyenv/versions/3.8.3/envs/scvi-dev/lib/python3.8/site-packages/pandas/core/arrays/categorical.py:2487: FutureWarning: The `inplace` parameter in pandas.Categorical.remove_unused_categories is deprecated and will be removed in a future version.\n",
      "  res = method(*args, **kwargs)\n"
     ]
    },
    {
     "data": {
      "image/png": "[encoded data removed]",
      "text/plain": [
       "<Figure size 600x480 with 5 Axes>"
      ]
     },
     "metadata": {
      "needs_background": "light"
     },
     "output_type": "display_data"
    }
   ],
   "source": [
    "sc.pl.heatmap(\n",
    "    adata, \n",
    "    markers, \n",
    "    groupby='cell_type', \n",
    "    layer=\"scvi_normalized\",\n",
    "    standard_scale=\"var\",\n",
    "    dendrogram=True,\n",
    ")"
   ]
  },
  {
   "cell_type": "markdown",
   "metadata": {
    "id": "LGCH09lMZ0cO"
   },
   "source": [
    "## Logging information\n",
    "\n",
    "Verbosity varies in the following way:\n",
    "\n",
    "* `logger.setLevel(logging.WARNING)` will show a progress bar.\n",
    "* `logger.setLevel(logging.INFO)` will show global logs including the number of jobs done.\n",
    "* `logger.setLevel(logging.DEBUG)` will show detailed logs for each training (e.g the parameters tested).\n",
    "\n",
    "This function's behaviour can be customized, please refer to its documentation for information about the different parameters available.\n",
    "\n",
    "In general, you can use `scvi.settings.verbosity` to set the verbosity of the scvi package.\n",
    "Note that `verbosity` corresponds to the logging levels of the standard python `logging` module. By default, that verbosity level is set to `INFO` (=20).\n",
    "As a reminder the logging levels are:\n",
    "\n",
    "<table class=\"docutils align-center\">\n",
    "<colgroup>\n",
    "<col style=\"width: 48%\">\n",
    "<col style=\"width: 52%\">\n",
    "</colgroup>\n",
    "<thead>\n",
    "<tr class=\"row-odd\"><th class=\"head\"><p>Level</p></th>\n",
    "<th class=\"head\"><p>Numeric value</p></th>\n",
    "</tr>\n",
    "</thead>\n",
    "<tbody>\n",
    "<tr class=\"row-even\"><td><p><code class=\"docutils literal notranslate\"><span class=\"pre\">CRITICAL</span></code></p></td>\n",
    "<td><p>50</p></td>\n",
    "</tr>\n",
    "<tr class=\"row-odd\"><td><p><code class=\"docutils literal notranslate\"><span class=\"pre\">ERROR</span></code></p></td>\n",
    "<td><p>40</p></td>\n",
    "</tr>\n",
    "<tr class=\"row-even\"><td><p><code class=\"docutils literal notranslate\"><span class=\"pre\">WARNING</span></code></p></td>\n",
    "<td><p>30</p></td>\n",
    "</tr>\n",
    "<tr class=\"row-odd\"><td><p><code class=\"docutils literal notranslate\"><span class=\"pre\">INFO</span></code></p></td>\n",
    "<td><p>20</p></td>\n",
    "</tr>\n",
    "<tr class=\"row-even\"><td><p><code class=\"docutils literal notranslate\"><span class=\"pre\">DEBUG</span></code></p></td>\n",
    "<td><p>10</p></td>\n",
    "</tr>\n",
    "<tr class=\"row-odd\"><td><p><code class=\"docutils literal notranslate\"><span class=\"pre\">NOTSET</span></code></p></td>\n",
    "<td><p>0</p></td>\n",
    "</tr>\n",
    "</tbody>\n",
    "</table>"
   ]
  },
  {
   "cell_type": "code",
   "execution_count": null,
   "metadata": {},
   "outputs": [],
   "source": []
  }
 ],
 "metadata": {
  "accelerator": "GPU",
  "colab": {
   "collapsed_sections": [],
   "name": "api_overview.ipynb",
   "provenance": []
  },
  "kernelspec": {
   "display_name": "Python 3",
   "language": "python",
   "name": "python3"
  },
  "language_info": {
   "codemirror_mode": {
    "name": "ipython",
    "version": 3
   },
   "file_extension": ".py",
   "mimetype": "text/x-python",
   "name": "python",
   "nbconvert_exporter": "python",
   "pygments_lexer": "ipython3",
   "version": "3.8.3"
  },
  "pycharm": {
   "stem_cell": {
    "cell_type": "raw",
    "metadata": {
     "collapsed": false
    },
    "source": []
   }
  },
  "toc": {
   "base_numbering": 1,
   "nav_menu": {},
   "number_sections": true,
   "sideBar": true,
   "skip_h1_title": false,
   "title_cell": "Table of Contents",
   "title_sidebar": "Contents",
   "toc_cell": false,
   "toc_position": {},
   "toc_section_display": true,
   "toc_window_display": false
  }
 },
 "nbformat": 4,
 "nbformat_minor": 4
}
